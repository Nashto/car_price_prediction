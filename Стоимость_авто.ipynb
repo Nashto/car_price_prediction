{
 "cells": [
  {
   "cell_type": "markdown",
   "metadata": {},
   "source": [
    "# Определение стоимости автомобилей"
   ]
  },
  {
   "cell_type": "markdown",
   "metadata": {},
   "source": [
    "Сервис по продаже автомобилей с пробегом «Не бит, не крашен» разрабатывает приложение для привлечения новых клиентов. В нём можно быстро узнать рыночную стоимость своего автомобиля. В распоряжении имеем исторические данные: технические характеристики, комплектации и цены автомобилей. Вам нужно построить модель для определения стоимости. \n",
    "\n",
    "Заказчику важны:\n",
    "\n",
    "- качество предсказания;\n",
    "- скорость предсказания;\n",
    "- время обучения."
   ]
  },
  {
   "cell_type": "markdown",
   "metadata": {},
   "source": [
    "## Подготовка данных"
   ]
  },
  {
   "cell_type": "markdown",
   "metadata": {},
   "source": [
    "Импорт необходимых библиотек"
   ]
  },
  {
   "cell_type": "code",
   "execution_count": 1,
   "metadata": {},
   "outputs": [],
   "source": [
    "import pandas as pd\n",
    "import numpy as np\n",
    "import matplotlib.pyplot as plt\n",
    "import seaborn as sns\n",
    "\n",
    "import lightgbm as lgb\n",
    "from catboost import CatBoostRegressor, Pool\n",
    "from sklearn.model_selection import train_test_split, GridSearchCV\n",
    "from sklearn.metrics import mean_squared_error\n",
    "from sklearn.ensemble import RandomForestRegressor\n",
    "from sklearn.linear_model import LinearRegression\n",
    "from sklearn.tree import DecisionTreeRegressor\n",
    "from sklearn.preprocessing import OrdinalEncoder\n",
    "\n",
    "from warnings import filterwarnings\n",
    "filterwarnings('ignore')"
   ]
  },
  {
   "cell_type": "code",
   "execution_count": 2,
   "metadata": {},
   "outputs": [],
   "source": [
    "df = pd.read_csv('/datasets/autos.csv')"
   ]
  },
  {
   "cell_type": "code",
   "execution_count": 3,
   "metadata": {},
   "outputs": [
    {
     "data": {
      "text/html": [
       "<div>\n",
       "<style scoped>\n",
       "    .dataframe tbody tr th:only-of-type {\n",
       "        vertical-align: middle;\n",
       "    }\n",
       "\n",
       "    .dataframe tbody tr th {\n",
       "        vertical-align: top;\n",
       "    }\n",
       "\n",
       "    .dataframe thead th {\n",
       "        text-align: right;\n",
       "    }\n",
       "</style>\n",
       "<table border=\"1\" class=\"dataframe\">\n",
       "  <thead>\n",
       "    <tr style=\"text-align: right;\">\n",
       "      <th></th>\n",
       "      <th>DateCrawled</th>\n",
       "      <th>Price</th>\n",
       "      <th>VehicleType</th>\n",
       "      <th>RegistrationYear</th>\n",
       "      <th>Gearbox</th>\n",
       "      <th>Power</th>\n",
       "      <th>Model</th>\n",
       "      <th>Kilometer</th>\n",
       "      <th>RegistrationMonth</th>\n",
       "      <th>FuelType</th>\n",
       "      <th>Brand</th>\n",
       "      <th>NotRepaired</th>\n",
       "      <th>DateCreated</th>\n",
       "      <th>NumberOfPictures</th>\n",
       "      <th>PostalCode</th>\n",
       "      <th>LastSeen</th>\n",
       "    </tr>\n",
       "  </thead>\n",
       "  <tbody>\n",
       "    <tr>\n",
       "      <th>0</th>\n",
       "      <td>2016-03-24 11:52:17</td>\n",
       "      <td>480</td>\n",
       "      <td>NaN</td>\n",
       "      <td>1993</td>\n",
       "      <td>manual</td>\n",
       "      <td>0</td>\n",
       "      <td>golf</td>\n",
       "      <td>150000</td>\n",
       "      <td>0</td>\n",
       "      <td>petrol</td>\n",
       "      <td>volkswagen</td>\n",
       "      <td>NaN</td>\n",
       "      <td>2016-03-24 00:00:00</td>\n",
       "      <td>0</td>\n",
       "      <td>70435</td>\n",
       "      <td>2016-04-07 03:16:57</td>\n",
       "    </tr>\n",
       "    <tr>\n",
       "      <th>1</th>\n",
       "      <td>2016-03-24 10:58:45</td>\n",
       "      <td>18300</td>\n",
       "      <td>coupe</td>\n",
       "      <td>2011</td>\n",
       "      <td>manual</td>\n",
       "      <td>190</td>\n",
       "      <td>NaN</td>\n",
       "      <td>125000</td>\n",
       "      <td>5</td>\n",
       "      <td>gasoline</td>\n",
       "      <td>audi</td>\n",
       "      <td>yes</td>\n",
       "      <td>2016-03-24 00:00:00</td>\n",
       "      <td>0</td>\n",
       "      <td>66954</td>\n",
       "      <td>2016-04-07 01:46:50</td>\n",
       "    </tr>\n",
       "    <tr>\n",
       "      <th>2</th>\n",
       "      <td>2016-03-14 12:52:21</td>\n",
       "      <td>9800</td>\n",
       "      <td>suv</td>\n",
       "      <td>2004</td>\n",
       "      <td>auto</td>\n",
       "      <td>163</td>\n",
       "      <td>grand</td>\n",
       "      <td>125000</td>\n",
       "      <td>8</td>\n",
       "      <td>gasoline</td>\n",
       "      <td>jeep</td>\n",
       "      <td>NaN</td>\n",
       "      <td>2016-03-14 00:00:00</td>\n",
       "      <td>0</td>\n",
       "      <td>90480</td>\n",
       "      <td>2016-04-05 12:47:46</td>\n",
       "    </tr>\n",
       "    <tr>\n",
       "      <th>3</th>\n",
       "      <td>2016-03-17 16:54:04</td>\n",
       "      <td>1500</td>\n",
       "      <td>small</td>\n",
       "      <td>2001</td>\n",
       "      <td>manual</td>\n",
       "      <td>75</td>\n",
       "      <td>golf</td>\n",
       "      <td>150000</td>\n",
       "      <td>6</td>\n",
       "      <td>petrol</td>\n",
       "      <td>volkswagen</td>\n",
       "      <td>no</td>\n",
       "      <td>2016-03-17 00:00:00</td>\n",
       "      <td>0</td>\n",
       "      <td>91074</td>\n",
       "      <td>2016-03-17 17:40:17</td>\n",
       "    </tr>\n",
       "    <tr>\n",
       "      <th>4</th>\n",
       "      <td>2016-03-31 17:25:20</td>\n",
       "      <td>3600</td>\n",
       "      <td>small</td>\n",
       "      <td>2008</td>\n",
       "      <td>manual</td>\n",
       "      <td>69</td>\n",
       "      <td>fabia</td>\n",
       "      <td>90000</td>\n",
       "      <td>7</td>\n",
       "      <td>gasoline</td>\n",
       "      <td>skoda</td>\n",
       "      <td>no</td>\n",
       "      <td>2016-03-31 00:00:00</td>\n",
       "      <td>0</td>\n",
       "      <td>60437</td>\n",
       "      <td>2016-04-06 10:17:21</td>\n",
       "    </tr>\n",
       "    <tr>\n",
       "      <th>5</th>\n",
       "      <td>2016-04-04 17:36:23</td>\n",
       "      <td>650</td>\n",
       "      <td>sedan</td>\n",
       "      <td>1995</td>\n",
       "      <td>manual</td>\n",
       "      <td>102</td>\n",
       "      <td>3er</td>\n",
       "      <td>150000</td>\n",
       "      <td>10</td>\n",
       "      <td>petrol</td>\n",
       "      <td>bmw</td>\n",
       "      <td>yes</td>\n",
       "      <td>2016-04-04 00:00:00</td>\n",
       "      <td>0</td>\n",
       "      <td>33775</td>\n",
       "      <td>2016-04-06 19:17:07</td>\n",
       "    </tr>\n",
       "    <tr>\n",
       "      <th>6</th>\n",
       "      <td>2016-04-01 20:48:51</td>\n",
       "      <td>2200</td>\n",
       "      <td>convertible</td>\n",
       "      <td>2004</td>\n",
       "      <td>manual</td>\n",
       "      <td>109</td>\n",
       "      <td>2_reihe</td>\n",
       "      <td>150000</td>\n",
       "      <td>8</td>\n",
       "      <td>petrol</td>\n",
       "      <td>peugeot</td>\n",
       "      <td>no</td>\n",
       "      <td>2016-04-01 00:00:00</td>\n",
       "      <td>0</td>\n",
       "      <td>67112</td>\n",
       "      <td>2016-04-05 18:18:39</td>\n",
       "    </tr>\n",
       "    <tr>\n",
       "      <th>7</th>\n",
       "      <td>2016-03-21 18:54:38</td>\n",
       "      <td>0</td>\n",
       "      <td>sedan</td>\n",
       "      <td>1980</td>\n",
       "      <td>manual</td>\n",
       "      <td>50</td>\n",
       "      <td>other</td>\n",
       "      <td>40000</td>\n",
       "      <td>7</td>\n",
       "      <td>petrol</td>\n",
       "      <td>volkswagen</td>\n",
       "      <td>no</td>\n",
       "      <td>2016-03-21 00:00:00</td>\n",
       "      <td>0</td>\n",
       "      <td>19348</td>\n",
       "      <td>2016-03-25 16:47:58</td>\n",
       "    </tr>\n",
       "    <tr>\n",
       "      <th>8</th>\n",
       "      <td>2016-04-04 23:42:13</td>\n",
       "      <td>14500</td>\n",
       "      <td>bus</td>\n",
       "      <td>2014</td>\n",
       "      <td>manual</td>\n",
       "      <td>125</td>\n",
       "      <td>c_max</td>\n",
       "      <td>30000</td>\n",
       "      <td>8</td>\n",
       "      <td>petrol</td>\n",
       "      <td>ford</td>\n",
       "      <td>NaN</td>\n",
       "      <td>2016-04-04 00:00:00</td>\n",
       "      <td>0</td>\n",
       "      <td>94505</td>\n",
       "      <td>2016-04-04 23:42:13</td>\n",
       "    </tr>\n",
       "    <tr>\n",
       "      <th>9</th>\n",
       "      <td>2016-03-17 10:53:50</td>\n",
       "      <td>999</td>\n",
       "      <td>small</td>\n",
       "      <td>1998</td>\n",
       "      <td>manual</td>\n",
       "      <td>101</td>\n",
       "      <td>golf</td>\n",
       "      <td>150000</td>\n",
       "      <td>0</td>\n",
       "      <td>NaN</td>\n",
       "      <td>volkswagen</td>\n",
       "      <td>NaN</td>\n",
       "      <td>2016-03-17 00:00:00</td>\n",
       "      <td>0</td>\n",
       "      <td>27472</td>\n",
       "      <td>2016-03-31 17:17:06</td>\n",
       "    </tr>\n",
       "  </tbody>\n",
       "</table>\n",
       "</div>"
      ],
      "text/plain": [
       "           DateCrawled  Price  VehicleType  RegistrationYear Gearbox  Power  \\\n",
       "0  2016-03-24 11:52:17    480          NaN              1993  manual      0   \n",
       "1  2016-03-24 10:58:45  18300        coupe              2011  manual    190   \n",
       "2  2016-03-14 12:52:21   9800          suv              2004    auto    163   \n",
       "3  2016-03-17 16:54:04   1500        small              2001  manual     75   \n",
       "4  2016-03-31 17:25:20   3600        small              2008  manual     69   \n",
       "5  2016-04-04 17:36:23    650        sedan              1995  manual    102   \n",
       "6  2016-04-01 20:48:51   2200  convertible              2004  manual    109   \n",
       "7  2016-03-21 18:54:38      0        sedan              1980  manual     50   \n",
       "8  2016-04-04 23:42:13  14500          bus              2014  manual    125   \n",
       "9  2016-03-17 10:53:50    999        small              1998  manual    101   \n",
       "\n",
       "     Model  Kilometer  RegistrationMonth  FuelType       Brand NotRepaired  \\\n",
       "0     golf     150000                  0    petrol  volkswagen         NaN   \n",
       "1      NaN     125000                  5  gasoline        audi         yes   \n",
       "2    grand     125000                  8  gasoline        jeep         NaN   \n",
       "3     golf     150000                  6    petrol  volkswagen          no   \n",
       "4    fabia      90000                  7  gasoline       skoda          no   \n",
       "5      3er     150000                 10    petrol         bmw         yes   \n",
       "6  2_reihe     150000                  8    petrol     peugeot          no   \n",
       "7    other      40000                  7    petrol  volkswagen          no   \n",
       "8    c_max      30000                  8    petrol        ford         NaN   \n",
       "9     golf     150000                  0       NaN  volkswagen         NaN   \n",
       "\n",
       "           DateCreated  NumberOfPictures  PostalCode             LastSeen  \n",
       "0  2016-03-24 00:00:00                 0       70435  2016-04-07 03:16:57  \n",
       "1  2016-03-24 00:00:00                 0       66954  2016-04-07 01:46:50  \n",
       "2  2016-03-14 00:00:00                 0       90480  2016-04-05 12:47:46  \n",
       "3  2016-03-17 00:00:00                 0       91074  2016-03-17 17:40:17  \n",
       "4  2016-03-31 00:00:00                 0       60437  2016-04-06 10:17:21  \n",
       "5  2016-04-04 00:00:00                 0       33775  2016-04-06 19:17:07  \n",
       "6  2016-04-01 00:00:00                 0       67112  2016-04-05 18:18:39  \n",
       "7  2016-03-21 00:00:00                 0       19348  2016-03-25 16:47:58  \n",
       "8  2016-04-04 00:00:00                 0       94505  2016-04-04 23:42:13  \n",
       "9  2016-03-17 00:00:00                 0       27472  2016-03-31 17:17:06  "
      ]
     },
     "execution_count": 3,
     "metadata": {},
     "output_type": "execute_result"
    }
   ],
   "source": [
    "df.head(10)"
   ]
  },
  {
   "cell_type": "code",
   "execution_count": 4,
   "metadata": {
    "scrolled": true
   },
   "outputs": [
    {
     "name": "stdout",
     "output_type": "stream",
     "text": [
      "<class 'pandas.core.frame.DataFrame'>\n",
      "RangeIndex: 354369 entries, 0 to 354368\n",
      "Data columns (total 16 columns):\n",
      " #   Column             Non-Null Count   Dtype \n",
      "---  ------             --------------   ----- \n",
      " 0   DateCrawled        354369 non-null  object\n",
      " 1   Price              354369 non-null  int64 \n",
      " 2   VehicleType        316879 non-null  object\n",
      " 3   RegistrationYear   354369 non-null  int64 \n",
      " 4   Gearbox            334536 non-null  object\n",
      " 5   Power              354369 non-null  int64 \n",
      " 6   Model              334664 non-null  object\n",
      " 7   Kilometer          354369 non-null  int64 \n",
      " 8   RegistrationMonth  354369 non-null  int64 \n",
      " 9   FuelType           321474 non-null  object\n",
      " 10  Brand              354369 non-null  object\n",
      " 11  NotRepaired        283215 non-null  object\n",
      " 12  DateCreated        354369 non-null  object\n",
      " 13  NumberOfPictures   354369 non-null  int64 \n",
      " 14  PostalCode         354369 non-null  int64 \n",
      " 15  LastSeen           354369 non-null  object\n",
      "dtypes: int64(7), object(9)\n",
      "memory usage: 43.3+ MB\n"
     ]
    }
   ],
   "source": [
    "df.info()"
   ]
  },
  {
   "cell_type": "markdown",
   "metadata": {},
   "source": [
    "Для дальнейше работы необходимо:\n",
    "1. исправить оформления заглавий колонок\n",
    "2. Изменять тип DateCrawled, LastSeen, DateCreated на datetime нет необходимости, так в будущем эти столбцы для обучения не понадобятся"
   ]
  },
  {
   "cell_type": "code",
   "execution_count": 5,
   "metadata": {},
   "outputs": [
    {
     "data": {
      "text/plain": [
       "Index(['DateCrawled', 'Price', 'VehicleType', 'RegistrationYear', 'Gearbox',\n",
       "       'Power', 'Model', 'Kilometer', 'RegistrationMonth', 'FuelType', 'Brand',\n",
       "       'NotRepaired', 'DateCreated', 'NumberOfPictures', 'PostalCode',\n",
       "       'LastSeen'],\n",
       "      dtype='object')"
      ]
     },
     "execution_count": 5,
     "metadata": {},
     "output_type": "execute_result"
    }
   ],
   "source": [
    "df.columns"
   ]
  },
  {
   "cell_type": "code",
   "execution_count": 6,
   "metadata": {},
   "outputs": [],
   "source": [
    "df = df.rename(columns = {'DateCrawled': 'date_crawled', 'Price': 'price', 'VehicleType': 'vehicle_type', \n",
    "                          'RegistrationYear': 'registration_year', 'Gearbox': 'gearbox', 'Power': 'power', 'Model': 'model', \n",
    "                          'Kilometer': 'kilometer', 'RegistrationMonth': 'registration_month', 'FuelType': 'fuel_type', \n",
    "                          'Brand': 'brand', 'NotRepaired': 'not_repaired', 'DateCreated': 'date_created', \n",
    "                          'NumberOfPictures': 'number_of_pictures', 'PostalCode': 'postal_code', 'LastSeen': 'last_seen'})"
   ]
  },
  {
   "cell_type": "code",
   "execution_count": 7,
   "metadata": {},
   "outputs": [
    {
     "data": {
      "text/plain": [
       "date_crawled              0\n",
       "price                     0\n",
       "vehicle_type          37490\n",
       "registration_year         0\n",
       "gearbox               19833\n",
       "power                     0\n",
       "model                 19705\n",
       "kilometer                 0\n",
       "registration_month        0\n",
       "fuel_type             32895\n",
       "brand                     0\n",
       "not_repaired          71154\n",
       "date_created              0\n",
       "number_of_pictures        0\n",
       "postal_code               0\n",
       "last_seen                 0\n",
       "dtype: int64"
      ]
     },
     "execution_count": 7,
     "metadata": {},
     "output_type": "execute_result"
    }
   ],
   "source": [
    "df.isna().sum()"
   ]
  },
  {
   "cell_type": "markdown",
   "metadata": {},
   "source": [
    "Обнаружено много пропусков (окло 20% от всех данных). Удаление пропусков приведёт к потерям множества нужных данных. В связи с этим необходимо восполнить пропуски. Столбцы fuel_type, vehicle_type, gearbox будут заполнены по методу большинства. Столбец model будет заполнена по методу большинства исходя из большинства колонок той же фирмы автомобиля. Столбец not_repaired будет заполнен как 'no', так как скорее всего машина в ремонте не была."
   ]
  },
  {
   "cell_type": "code",
   "execution_count": 8,
   "metadata": {},
   "outputs": [],
   "source": [
    "df['not_repaired'] = df['not_repaired'].fillna('no')\n",
    "df['fuel_type'] = df['fuel_type'].fillna(df['fuel_type'].mode().values[0])\n",
    "df['vehicle_type'] = df['vehicle_type'].fillna(df['vehicle_type'].mode().values[0])\n",
    "df['gearbox'] = df['gearbox'].fillna(df['gearbox'].mode().values[0])\n"
   ]
  },
  {
   "cell_type": "code",
   "execution_count": 9,
   "metadata": {},
   "outputs": [
    {
     "data": {
      "text/plain": [
       "date_crawled              0\n",
       "price                     0\n",
       "vehicle_type              0\n",
       "registration_year         0\n",
       "gearbox                   0\n",
       "power                     0\n",
       "model                 19705\n",
       "kilometer                 0\n",
       "registration_month        0\n",
       "fuel_type                 0\n",
       "brand                     0\n",
       "not_repaired              0\n",
       "date_created              0\n",
       "number_of_pictures        0\n",
       "postal_code               0\n",
       "last_seen                 0\n",
       "dtype: int64"
      ]
     },
     "execution_count": 9,
     "metadata": {},
     "output_type": "execute_result"
    }
   ],
   "source": [
    "df.isna().sum()"
   ]
  },
  {
   "cell_type": "code",
   "execution_count": 10,
   "metadata": {
    "scrolled": true
   },
   "outputs": [
    {
     "data": {
      "text/plain": [
       "array(['volkswagen', 'audi', 'jeep', 'skoda', 'bmw', 'peugeot', 'ford',\n",
       "       'mazda', 'nissan', 'renault', 'mercedes_benz', 'opel', 'seat',\n",
       "       'citroen', 'honda', 'fiat', 'mini', 'smart', 'hyundai',\n",
       "       'sonstige_autos', 'alfa_romeo', 'subaru', 'volvo', 'mitsubishi',\n",
       "       'kia', 'suzuki', 'lancia', 'toyota', 'chevrolet', 'dacia',\n",
       "       'daihatsu', 'trabant', 'saab', 'chrysler', 'jaguar', 'daewoo',\n",
       "       'porsche', 'rover', 'land_rover', 'lada'], dtype=object)"
      ]
     },
     "execution_count": 10,
     "metadata": {},
     "output_type": "execute_result"
    }
   ],
   "source": [
    "df['brand'].unique()"
   ]
  },
  {
   "cell_type": "code",
   "execution_count": 11,
   "metadata": {},
   "outputs": [],
   "source": [
    "brands = ['volkswagen', 'audi', 'jeep', 'skoda', 'bmw', 'peugeot', 'ford',\n",
    "       'mazda', 'nissan', 'renault', 'mercedes_benz', 'opel', 'seat',\n",
    "       'citroen', 'honda', 'fiat', 'mini', 'smart', 'hyundai',\n",
    "       'sonstige_autos', 'alfa_romeo', 'subaru', 'volvo', 'mitsubishi',\n",
    "       'kia', 'suzuki', 'lancia', 'toyota', 'chevrolet', 'dacia',\n",
    "       'daihatsu', 'trabant', 'saab', 'chrysler', 'jaguar', 'daewoo',\n",
    "       'porsche', 'rover', 'land_rover', 'lada']\n",
    "for i in brands:\n",
    "    df.loc[df['brand'] == i, 'model'] = df.loc[df['brand'] == i, 'model'].fillna(df['model'].mode()[0])\n",
    "        "
   ]
  },
  {
   "cell_type": "markdown",
   "metadata": {},
   "source": [
    "<font color='blue'><b>Комментарий ревьюера: </b></font> ✔️\\\n",
    "<font color='green'> 👍</font>"
   ]
  },
  {
   "cell_type": "code",
   "execution_count": 12,
   "metadata": {},
   "outputs": [
    {
     "data": {
      "text/plain": [
       "date_crawled          0\n",
       "price                 0\n",
       "vehicle_type          0\n",
       "registration_year     0\n",
       "gearbox               0\n",
       "power                 0\n",
       "model                 0\n",
       "kilometer             0\n",
       "registration_month    0\n",
       "fuel_type             0\n",
       "brand                 0\n",
       "not_repaired          0\n",
       "date_created          0\n",
       "number_of_pictures    0\n",
       "postal_code           0\n",
       "last_seen             0\n",
       "dtype: int64"
      ]
     },
     "execution_count": 12,
     "metadata": {},
     "output_type": "execute_result"
    }
   ],
   "source": [
    "df.isna().sum()"
   ]
  },
  {
   "cell_type": "code",
   "execution_count": 13,
   "metadata": {},
   "outputs": [
    {
     "data": {
      "text/html": [
       "<div>\n",
       "<style scoped>\n",
       "    .dataframe tbody tr th:only-of-type {\n",
       "        vertical-align: middle;\n",
       "    }\n",
       "\n",
       "    .dataframe tbody tr th {\n",
       "        vertical-align: top;\n",
       "    }\n",
       "\n",
       "    .dataframe thead th {\n",
       "        text-align: right;\n",
       "    }\n",
       "</style>\n",
       "<table border=\"1\" class=\"dataframe\">\n",
       "  <thead>\n",
       "    <tr style=\"text-align: right;\">\n",
       "      <th></th>\n",
       "      <th>date_crawled</th>\n",
       "      <th>price</th>\n",
       "      <th>vehicle_type</th>\n",
       "      <th>registration_year</th>\n",
       "      <th>gearbox</th>\n",
       "      <th>power</th>\n",
       "      <th>model</th>\n",
       "      <th>kilometer</th>\n",
       "      <th>registration_month</th>\n",
       "      <th>fuel_type</th>\n",
       "      <th>brand</th>\n",
       "      <th>not_repaired</th>\n",
       "      <th>date_created</th>\n",
       "      <th>number_of_pictures</th>\n",
       "      <th>postal_code</th>\n",
       "      <th>last_seen</th>\n",
       "    </tr>\n",
       "  </thead>\n",
       "  <tbody>\n",
       "    <tr>\n",
       "      <th>0</th>\n",
       "      <td>2016-03-24 11:52:17</td>\n",
       "      <td>480</td>\n",
       "      <td>sedan</td>\n",
       "      <td>1993</td>\n",
       "      <td>manual</td>\n",
       "      <td>0</td>\n",
       "      <td>golf</td>\n",
       "      <td>150000</td>\n",
       "      <td>0</td>\n",
       "      <td>petrol</td>\n",
       "      <td>volkswagen</td>\n",
       "      <td>no</td>\n",
       "      <td>2016-03-24 00:00:00</td>\n",
       "      <td>0</td>\n",
       "      <td>70435</td>\n",
       "      <td>2016-04-07 03:16:57</td>\n",
       "    </tr>\n",
       "    <tr>\n",
       "      <th>1</th>\n",
       "      <td>2016-03-24 10:58:45</td>\n",
       "      <td>18300</td>\n",
       "      <td>coupe</td>\n",
       "      <td>2011</td>\n",
       "      <td>manual</td>\n",
       "      <td>190</td>\n",
       "      <td>golf</td>\n",
       "      <td>125000</td>\n",
       "      <td>5</td>\n",
       "      <td>gasoline</td>\n",
       "      <td>audi</td>\n",
       "      <td>yes</td>\n",
       "      <td>2016-03-24 00:00:00</td>\n",
       "      <td>0</td>\n",
       "      <td>66954</td>\n",
       "      <td>2016-04-07 01:46:50</td>\n",
       "    </tr>\n",
       "    <tr>\n",
       "      <th>2</th>\n",
       "      <td>2016-03-14 12:52:21</td>\n",
       "      <td>9800</td>\n",
       "      <td>suv</td>\n",
       "      <td>2004</td>\n",
       "      <td>auto</td>\n",
       "      <td>163</td>\n",
       "      <td>grand</td>\n",
       "      <td>125000</td>\n",
       "      <td>8</td>\n",
       "      <td>gasoline</td>\n",
       "      <td>jeep</td>\n",
       "      <td>no</td>\n",
       "      <td>2016-03-14 00:00:00</td>\n",
       "      <td>0</td>\n",
       "      <td>90480</td>\n",
       "      <td>2016-04-05 12:47:46</td>\n",
       "    </tr>\n",
       "    <tr>\n",
       "      <th>3</th>\n",
       "      <td>2016-03-17 16:54:04</td>\n",
       "      <td>1500</td>\n",
       "      <td>small</td>\n",
       "      <td>2001</td>\n",
       "      <td>manual</td>\n",
       "      <td>75</td>\n",
       "      <td>golf</td>\n",
       "      <td>150000</td>\n",
       "      <td>6</td>\n",
       "      <td>petrol</td>\n",
       "      <td>volkswagen</td>\n",
       "      <td>no</td>\n",
       "      <td>2016-03-17 00:00:00</td>\n",
       "      <td>0</td>\n",
       "      <td>91074</td>\n",
       "      <td>2016-03-17 17:40:17</td>\n",
       "    </tr>\n",
       "    <tr>\n",
       "      <th>4</th>\n",
       "      <td>2016-03-31 17:25:20</td>\n",
       "      <td>3600</td>\n",
       "      <td>small</td>\n",
       "      <td>2008</td>\n",
       "      <td>manual</td>\n",
       "      <td>69</td>\n",
       "      <td>fabia</td>\n",
       "      <td>90000</td>\n",
       "      <td>7</td>\n",
       "      <td>gasoline</td>\n",
       "      <td>skoda</td>\n",
       "      <td>no</td>\n",
       "      <td>2016-03-31 00:00:00</td>\n",
       "      <td>0</td>\n",
       "      <td>60437</td>\n",
       "      <td>2016-04-06 10:17:21</td>\n",
       "    </tr>\n",
       "    <tr>\n",
       "      <th>5</th>\n",
       "      <td>2016-04-04 17:36:23</td>\n",
       "      <td>650</td>\n",
       "      <td>sedan</td>\n",
       "      <td>1995</td>\n",
       "      <td>manual</td>\n",
       "      <td>102</td>\n",
       "      <td>3er</td>\n",
       "      <td>150000</td>\n",
       "      <td>10</td>\n",
       "      <td>petrol</td>\n",
       "      <td>bmw</td>\n",
       "      <td>yes</td>\n",
       "      <td>2016-04-04 00:00:00</td>\n",
       "      <td>0</td>\n",
       "      <td>33775</td>\n",
       "      <td>2016-04-06 19:17:07</td>\n",
       "    </tr>\n",
       "    <tr>\n",
       "      <th>6</th>\n",
       "      <td>2016-04-01 20:48:51</td>\n",
       "      <td>2200</td>\n",
       "      <td>convertible</td>\n",
       "      <td>2004</td>\n",
       "      <td>manual</td>\n",
       "      <td>109</td>\n",
       "      <td>2_reihe</td>\n",
       "      <td>150000</td>\n",
       "      <td>8</td>\n",
       "      <td>petrol</td>\n",
       "      <td>peugeot</td>\n",
       "      <td>no</td>\n",
       "      <td>2016-04-01 00:00:00</td>\n",
       "      <td>0</td>\n",
       "      <td>67112</td>\n",
       "      <td>2016-04-05 18:18:39</td>\n",
       "    </tr>\n",
       "    <tr>\n",
       "      <th>7</th>\n",
       "      <td>2016-03-21 18:54:38</td>\n",
       "      <td>0</td>\n",
       "      <td>sedan</td>\n",
       "      <td>1980</td>\n",
       "      <td>manual</td>\n",
       "      <td>50</td>\n",
       "      <td>other</td>\n",
       "      <td>40000</td>\n",
       "      <td>7</td>\n",
       "      <td>petrol</td>\n",
       "      <td>volkswagen</td>\n",
       "      <td>no</td>\n",
       "      <td>2016-03-21 00:00:00</td>\n",
       "      <td>0</td>\n",
       "      <td>19348</td>\n",
       "      <td>2016-03-25 16:47:58</td>\n",
       "    </tr>\n",
       "    <tr>\n",
       "      <th>8</th>\n",
       "      <td>2016-04-04 23:42:13</td>\n",
       "      <td>14500</td>\n",
       "      <td>bus</td>\n",
       "      <td>2014</td>\n",
       "      <td>manual</td>\n",
       "      <td>125</td>\n",
       "      <td>c_max</td>\n",
       "      <td>30000</td>\n",
       "      <td>8</td>\n",
       "      <td>petrol</td>\n",
       "      <td>ford</td>\n",
       "      <td>no</td>\n",
       "      <td>2016-04-04 00:00:00</td>\n",
       "      <td>0</td>\n",
       "      <td>94505</td>\n",
       "      <td>2016-04-04 23:42:13</td>\n",
       "    </tr>\n",
       "    <tr>\n",
       "      <th>9</th>\n",
       "      <td>2016-03-17 10:53:50</td>\n",
       "      <td>999</td>\n",
       "      <td>small</td>\n",
       "      <td>1998</td>\n",
       "      <td>manual</td>\n",
       "      <td>101</td>\n",
       "      <td>golf</td>\n",
       "      <td>150000</td>\n",
       "      <td>0</td>\n",
       "      <td>petrol</td>\n",
       "      <td>volkswagen</td>\n",
       "      <td>no</td>\n",
       "      <td>2016-03-17 00:00:00</td>\n",
       "      <td>0</td>\n",
       "      <td>27472</td>\n",
       "      <td>2016-03-31 17:17:06</td>\n",
       "    </tr>\n",
       "  </tbody>\n",
       "</table>\n",
       "</div>"
      ],
      "text/plain": [
       "          date_crawled  price vehicle_type  registration_year gearbox  power  \\\n",
       "0  2016-03-24 11:52:17    480        sedan               1993  manual      0   \n",
       "1  2016-03-24 10:58:45  18300        coupe               2011  manual    190   \n",
       "2  2016-03-14 12:52:21   9800          suv               2004    auto    163   \n",
       "3  2016-03-17 16:54:04   1500        small               2001  manual     75   \n",
       "4  2016-03-31 17:25:20   3600        small               2008  manual     69   \n",
       "5  2016-04-04 17:36:23    650        sedan               1995  manual    102   \n",
       "6  2016-04-01 20:48:51   2200  convertible               2004  manual    109   \n",
       "7  2016-03-21 18:54:38      0        sedan               1980  manual     50   \n",
       "8  2016-04-04 23:42:13  14500          bus               2014  manual    125   \n",
       "9  2016-03-17 10:53:50    999        small               1998  manual    101   \n",
       "\n",
       "     model  kilometer  registration_month fuel_type       brand not_repaired  \\\n",
       "0     golf     150000                   0    petrol  volkswagen           no   \n",
       "1     golf     125000                   5  gasoline        audi          yes   \n",
       "2    grand     125000                   8  gasoline        jeep           no   \n",
       "3     golf     150000                   6    petrol  volkswagen           no   \n",
       "4    fabia      90000                   7  gasoline       skoda           no   \n",
       "5      3er     150000                  10    petrol         bmw          yes   \n",
       "6  2_reihe     150000                   8    petrol     peugeot           no   \n",
       "7    other      40000                   7    petrol  volkswagen           no   \n",
       "8    c_max      30000                   8    petrol        ford           no   \n",
       "9     golf     150000                   0    petrol  volkswagen           no   \n",
       "\n",
       "          date_created  number_of_pictures  postal_code            last_seen  \n",
       "0  2016-03-24 00:00:00                   0        70435  2016-04-07 03:16:57  \n",
       "1  2016-03-24 00:00:00                   0        66954  2016-04-07 01:46:50  \n",
       "2  2016-03-14 00:00:00                   0        90480  2016-04-05 12:47:46  \n",
       "3  2016-03-17 00:00:00                   0        91074  2016-03-17 17:40:17  \n",
       "4  2016-03-31 00:00:00                   0        60437  2016-04-06 10:17:21  \n",
       "5  2016-04-04 00:00:00                   0        33775  2016-04-06 19:17:07  \n",
       "6  2016-04-01 00:00:00                   0        67112  2016-04-05 18:18:39  \n",
       "7  2016-03-21 00:00:00                   0        19348  2016-03-25 16:47:58  \n",
       "8  2016-04-04 00:00:00                   0        94505  2016-04-04 23:42:13  \n",
       "9  2016-03-17 00:00:00                   0        27472  2016-03-31 17:17:06  "
      ]
     },
     "execution_count": 13,
     "metadata": {},
     "output_type": "execute_result"
    }
   ],
   "source": [
    "df.head(10)"
   ]
  },
  {
   "cell_type": "code",
   "execution_count": 14,
   "metadata": {},
   "outputs": [],
   "source": [
    "list_col = ['gearbox', 'model', 'fuel_type', 'brand']\n",
    "for i in list_col:\n",
    "    df[i] = df[i].str.lower()"
   ]
  },
  {
   "cell_type": "code",
   "execution_count": 15,
   "metadata": {},
   "outputs": [
    {
     "data": {
      "text/plain": [
       "5"
      ]
     },
     "execution_count": 15,
     "metadata": {},
     "output_type": "execute_result"
    }
   ],
   "source": [
    "df.duplicated().sum()"
   ]
  },
  {
   "cell_type": "code",
   "execution_count": 16,
   "metadata": {},
   "outputs": [
    {
     "data": {
      "text/html": [
       "<div>\n",
       "<style scoped>\n",
       "    .dataframe tbody tr th:only-of-type {\n",
       "        vertical-align: middle;\n",
       "    }\n",
       "\n",
       "    .dataframe tbody tr th {\n",
       "        vertical-align: top;\n",
       "    }\n",
       "\n",
       "    .dataframe thead th {\n",
       "        text-align: right;\n",
       "    }\n",
       "</style>\n",
       "<table border=\"1\" class=\"dataframe\">\n",
       "  <thead>\n",
       "    <tr style=\"text-align: right;\">\n",
       "      <th></th>\n",
       "      <th>date_crawled</th>\n",
       "      <th>price</th>\n",
       "      <th>vehicle_type</th>\n",
       "      <th>registration_year</th>\n",
       "      <th>gearbox</th>\n",
       "      <th>power</th>\n",
       "      <th>model</th>\n",
       "      <th>kilometer</th>\n",
       "      <th>registration_month</th>\n",
       "      <th>fuel_type</th>\n",
       "      <th>brand</th>\n",
       "      <th>not_repaired</th>\n",
       "      <th>date_created</th>\n",
       "      <th>number_of_pictures</th>\n",
       "      <th>postal_code</th>\n",
       "      <th>last_seen</th>\n",
       "    </tr>\n",
       "  </thead>\n",
       "  <tbody>\n",
       "    <tr>\n",
       "      <th>90964</th>\n",
       "      <td>2016-03-28 00:56:10</td>\n",
       "      <td>1000</td>\n",
       "      <td>small</td>\n",
       "      <td>2002</td>\n",
       "      <td>manual</td>\n",
       "      <td>83</td>\n",
       "      <td>other</td>\n",
       "      <td>150000</td>\n",
       "      <td>1</td>\n",
       "      <td>petrol</td>\n",
       "      <td>suzuki</td>\n",
       "      <td>no</td>\n",
       "      <td>2016-03-28 00:00:00</td>\n",
       "      <td>0</td>\n",
       "      <td>66589</td>\n",
       "      <td>2016-03-28 08:46:21</td>\n",
       "    </tr>\n",
       "    <tr>\n",
       "      <th>231258</th>\n",
       "      <td>2016-03-28 00:56:10</td>\n",
       "      <td>1000</td>\n",
       "      <td>small</td>\n",
       "      <td>2002</td>\n",
       "      <td>manual</td>\n",
       "      <td>83</td>\n",
       "      <td>other</td>\n",
       "      <td>150000</td>\n",
       "      <td>1</td>\n",
       "      <td>petrol</td>\n",
       "      <td>suzuki</td>\n",
       "      <td>no</td>\n",
       "      <td>2016-03-28 00:00:00</td>\n",
       "      <td>0</td>\n",
       "      <td>66589</td>\n",
       "      <td>2016-03-28 08:46:21</td>\n",
       "    </tr>\n",
       "    <tr>\n",
       "      <th>88087</th>\n",
       "      <td>2016-03-08 18:42:48</td>\n",
       "      <td>1799</td>\n",
       "      <td>coupe</td>\n",
       "      <td>1999</td>\n",
       "      <td>auto</td>\n",
       "      <td>193</td>\n",
       "      <td>clk</td>\n",
       "      <td>20000</td>\n",
       "      <td>7</td>\n",
       "      <td>petrol</td>\n",
       "      <td>mercedes_benz</td>\n",
       "      <td>no</td>\n",
       "      <td>2016-03-08 00:00:00</td>\n",
       "      <td>0</td>\n",
       "      <td>89518</td>\n",
       "      <td>2016-03-09 09:46:57</td>\n",
       "    </tr>\n",
       "    <tr>\n",
       "      <th>171088</th>\n",
       "      <td>2016-03-08 18:42:48</td>\n",
       "      <td>1799</td>\n",
       "      <td>coupe</td>\n",
       "      <td>1999</td>\n",
       "      <td>auto</td>\n",
       "      <td>193</td>\n",
       "      <td>clk</td>\n",
       "      <td>20000</td>\n",
       "      <td>7</td>\n",
       "      <td>petrol</td>\n",
       "      <td>mercedes_benz</td>\n",
       "      <td>no</td>\n",
       "      <td>2016-03-08 00:00:00</td>\n",
       "      <td>0</td>\n",
       "      <td>89518</td>\n",
       "      <td>2016-03-09 09:46:57</td>\n",
       "    </tr>\n",
       "    <tr>\n",
       "      <th>41529</th>\n",
       "      <td>2016-03-18 18:46:15</td>\n",
       "      <td>1999</td>\n",
       "      <td>wagon</td>\n",
       "      <td>2001</td>\n",
       "      <td>manual</td>\n",
       "      <td>131</td>\n",
       "      <td>passat</td>\n",
       "      <td>150000</td>\n",
       "      <td>7</td>\n",
       "      <td>gasoline</td>\n",
       "      <td>volkswagen</td>\n",
       "      <td>no</td>\n",
       "      <td>2016-03-18 00:00:00</td>\n",
       "      <td>0</td>\n",
       "      <td>36391</td>\n",
       "      <td>2016-03-18 18:46:15</td>\n",
       "    </tr>\n",
       "    <tr>\n",
       "      <th>325651</th>\n",
       "      <td>2016-03-18 18:46:15</td>\n",
       "      <td>1999</td>\n",
       "      <td>wagon</td>\n",
       "      <td>2001</td>\n",
       "      <td>manual</td>\n",
       "      <td>131</td>\n",
       "      <td>passat</td>\n",
       "      <td>150000</td>\n",
       "      <td>7</td>\n",
       "      <td>gasoline</td>\n",
       "      <td>volkswagen</td>\n",
       "      <td>no</td>\n",
       "      <td>2016-03-18 00:00:00</td>\n",
       "      <td>0</td>\n",
       "      <td>36391</td>\n",
       "      <td>2016-03-18 18:46:15</td>\n",
       "    </tr>\n",
       "    <tr>\n",
       "      <th>187735</th>\n",
       "      <td>2016-04-03 09:01:15</td>\n",
       "      <td>4699</td>\n",
       "      <td>coupe</td>\n",
       "      <td>2003</td>\n",
       "      <td>auto</td>\n",
       "      <td>218</td>\n",
       "      <td>clk</td>\n",
       "      <td>125000</td>\n",
       "      <td>6</td>\n",
       "      <td>petrol</td>\n",
       "      <td>mercedes_benz</td>\n",
       "      <td>yes</td>\n",
       "      <td>2016-04-03 00:00:00</td>\n",
       "      <td>0</td>\n",
       "      <td>75196</td>\n",
       "      <td>2016-04-07 09:44:54</td>\n",
       "    </tr>\n",
       "    <tr>\n",
       "      <th>258109</th>\n",
       "      <td>2016-04-03 09:01:15</td>\n",
       "      <td>4699</td>\n",
       "      <td>coupe</td>\n",
       "      <td>2003</td>\n",
       "      <td>auto</td>\n",
       "      <td>218</td>\n",
       "      <td>clk</td>\n",
       "      <td>125000</td>\n",
       "      <td>6</td>\n",
       "      <td>petrol</td>\n",
       "      <td>mercedes_benz</td>\n",
       "      <td>yes</td>\n",
       "      <td>2016-04-03 00:00:00</td>\n",
       "      <td>0</td>\n",
       "      <td>75196</td>\n",
       "      <td>2016-04-07 09:44:54</td>\n",
       "    </tr>\n",
       "    <tr>\n",
       "      <th>189060</th>\n",
       "      <td>2016-04-04 22:50:44</td>\n",
       "      <td>13000</td>\n",
       "      <td>sedan</td>\n",
       "      <td>2008</td>\n",
       "      <td>manual</td>\n",
       "      <td>143</td>\n",
       "      <td>a4</td>\n",
       "      <td>125000</td>\n",
       "      <td>9</td>\n",
       "      <td>gasoline</td>\n",
       "      <td>audi</td>\n",
       "      <td>no</td>\n",
       "      <td>2016-04-04 00:00:00</td>\n",
       "      <td>0</td>\n",
       "      <td>65428</td>\n",
       "      <td>2016-04-05 12:30:14</td>\n",
       "    </tr>\n",
       "    <tr>\n",
       "      <th>194008</th>\n",
       "      <td>2016-04-04 22:50:44</td>\n",
       "      <td>13000</td>\n",
       "      <td>sedan</td>\n",
       "      <td>2008</td>\n",
       "      <td>manual</td>\n",
       "      <td>143</td>\n",
       "      <td>a4</td>\n",
       "      <td>125000</td>\n",
       "      <td>9</td>\n",
       "      <td>gasoline</td>\n",
       "      <td>audi</td>\n",
       "      <td>no</td>\n",
       "      <td>2016-04-04 00:00:00</td>\n",
       "      <td>0</td>\n",
       "      <td>65428</td>\n",
       "      <td>2016-04-05 12:30:14</td>\n",
       "    </tr>\n",
       "  </tbody>\n",
       "</table>\n",
       "</div>"
      ],
      "text/plain": [
       "               date_crawled  price vehicle_type  registration_year gearbox  \\\n",
       "90964   2016-03-28 00:56:10   1000        small               2002  manual   \n",
       "231258  2016-03-28 00:56:10   1000        small               2002  manual   \n",
       "88087   2016-03-08 18:42:48   1799        coupe               1999    auto   \n",
       "171088  2016-03-08 18:42:48   1799        coupe               1999    auto   \n",
       "41529   2016-03-18 18:46:15   1999        wagon               2001  manual   \n",
       "325651  2016-03-18 18:46:15   1999        wagon               2001  manual   \n",
       "187735  2016-04-03 09:01:15   4699        coupe               2003    auto   \n",
       "258109  2016-04-03 09:01:15   4699        coupe               2003    auto   \n",
       "189060  2016-04-04 22:50:44  13000        sedan               2008  manual   \n",
       "194008  2016-04-04 22:50:44  13000        sedan               2008  manual   \n",
       "\n",
       "        power   model  kilometer  registration_month fuel_type          brand  \\\n",
       "90964      83   other     150000                   1    petrol         suzuki   \n",
       "231258     83   other     150000                   1    petrol         suzuki   \n",
       "88087     193     clk      20000                   7    petrol  mercedes_benz   \n",
       "171088    193     clk      20000                   7    petrol  mercedes_benz   \n",
       "41529     131  passat     150000                   7  gasoline     volkswagen   \n",
       "325651    131  passat     150000                   7  gasoline     volkswagen   \n",
       "187735    218     clk     125000                   6    petrol  mercedes_benz   \n",
       "258109    218     clk     125000                   6    petrol  mercedes_benz   \n",
       "189060    143      a4     125000                   9  gasoline           audi   \n",
       "194008    143      a4     125000                   9  gasoline           audi   \n",
       "\n",
       "       not_repaired         date_created  number_of_pictures  postal_code  \\\n",
       "90964            no  2016-03-28 00:00:00                   0        66589   \n",
       "231258           no  2016-03-28 00:00:00                   0        66589   \n",
       "88087            no  2016-03-08 00:00:00                   0        89518   \n",
       "171088           no  2016-03-08 00:00:00                   0        89518   \n",
       "41529            no  2016-03-18 00:00:00                   0        36391   \n",
       "325651           no  2016-03-18 00:00:00                   0        36391   \n",
       "187735          yes  2016-04-03 00:00:00                   0        75196   \n",
       "258109          yes  2016-04-03 00:00:00                   0        75196   \n",
       "189060           no  2016-04-04 00:00:00                   0        65428   \n",
       "194008           no  2016-04-04 00:00:00                   0        65428   \n",
       "\n",
       "                  last_seen  \n",
       "90964   2016-03-28 08:46:21  \n",
       "231258  2016-03-28 08:46:21  \n",
       "88087   2016-03-09 09:46:57  \n",
       "171088  2016-03-09 09:46:57  \n",
       "41529   2016-03-18 18:46:15  \n",
       "325651  2016-03-18 18:46:15  \n",
       "187735  2016-04-07 09:44:54  \n",
       "258109  2016-04-07 09:44:54  \n",
       "189060  2016-04-05 12:30:14  \n",
       "194008  2016-04-05 12:30:14  "
      ]
     },
     "execution_count": 16,
     "metadata": {},
     "output_type": "execute_result"
    }
   ],
   "source": [
    "df[df.duplicated(keep=False)].sort_values(by='price').head(20)"
   ]
  },
  {
   "cell_type": "code",
   "execution_count": 17,
   "metadata": {},
   "outputs": [],
   "source": [
    "df = df.drop_duplicates()"
   ]
  },
  {
   "cell_type": "code",
   "execution_count": 18,
   "metadata": {},
   "outputs": [
    {
     "data": {
      "text/plain": [
       "0"
      ]
     },
     "execution_count": 18,
     "metadata": {},
     "output_type": "execute_result"
    }
   ],
   "source": [
    "df.duplicated().sum()"
   ]
  },
  {
   "cell_type": "markdown",
   "metadata": {},
   "source": [
    "Датафрейм очищен от дубликатов."
   ]
  },
  {
   "cell_type": "code",
   "execution_count": 19,
   "metadata": {},
   "outputs": [
    {
     "data": {
      "text/html": [
       "<div>\n",
       "<style scoped>\n",
       "    .dataframe tbody tr th:only-of-type {\n",
       "        vertical-align: middle;\n",
       "    }\n",
       "\n",
       "    .dataframe tbody tr th {\n",
       "        vertical-align: top;\n",
       "    }\n",
       "\n",
       "    .dataframe thead th {\n",
       "        text-align: right;\n",
       "    }\n",
       "</style>\n",
       "<table border=\"1\" class=\"dataframe\">\n",
       "  <thead>\n",
       "    <tr style=\"text-align: right;\">\n",
       "      <th></th>\n",
       "      <th>price</th>\n",
       "      <th>registration_year</th>\n",
       "      <th>power</th>\n",
       "      <th>kilometer</th>\n",
       "      <th>registration_month</th>\n",
       "      <th>number_of_pictures</th>\n",
       "      <th>postal_code</th>\n",
       "    </tr>\n",
       "  </thead>\n",
       "  <tbody>\n",
       "    <tr>\n",
       "      <th>count</th>\n",
       "      <td>354364.000000</td>\n",
       "      <td>354364.000000</td>\n",
       "      <td>354364.000000</td>\n",
       "      <td>354364.000000</td>\n",
       "      <td>354364.000000</td>\n",
       "      <td>354364.0</td>\n",
       "      <td>354364.000000</td>\n",
       "    </tr>\n",
       "    <tr>\n",
       "      <th>mean</th>\n",
       "      <td>4416.655608</td>\n",
       "      <td>2004.234471</td>\n",
       "      <td>110.093723</td>\n",
       "      <td>128211.373051</td>\n",
       "      <td>5.714641</td>\n",
       "      <td>0.0</td>\n",
       "      <td>50508.461698</td>\n",
       "    </tr>\n",
       "    <tr>\n",
       "      <th>std</th>\n",
       "      <td>4514.159690</td>\n",
       "      <td>90.228593</td>\n",
       "      <td>189.851590</td>\n",
       "      <td>37905.136957</td>\n",
       "      <td>3.726433</td>\n",
       "      <td>0.0</td>\n",
       "      <td>25783.124276</td>\n",
       "    </tr>\n",
       "    <tr>\n",
       "      <th>min</th>\n",
       "      <td>0.000000</td>\n",
       "      <td>1000.000000</td>\n",
       "      <td>0.000000</td>\n",
       "      <td>5000.000000</td>\n",
       "      <td>0.000000</td>\n",
       "      <td>0.0</td>\n",
       "      <td>1067.000000</td>\n",
       "    </tr>\n",
       "    <tr>\n",
       "      <th>25%</th>\n",
       "      <td>1050.000000</td>\n",
       "      <td>1999.000000</td>\n",
       "      <td>69.000000</td>\n",
       "      <td>125000.000000</td>\n",
       "      <td>3.000000</td>\n",
       "      <td>0.0</td>\n",
       "      <td>30165.000000</td>\n",
       "    </tr>\n",
       "    <tr>\n",
       "      <th>50%</th>\n",
       "      <td>2700.000000</td>\n",
       "      <td>2003.000000</td>\n",
       "      <td>105.000000</td>\n",
       "      <td>150000.000000</td>\n",
       "      <td>6.000000</td>\n",
       "      <td>0.0</td>\n",
       "      <td>49409.500000</td>\n",
       "    </tr>\n",
       "    <tr>\n",
       "      <th>75%</th>\n",
       "      <td>6400.000000</td>\n",
       "      <td>2008.000000</td>\n",
       "      <td>143.000000</td>\n",
       "      <td>150000.000000</td>\n",
       "      <td>9.000000</td>\n",
       "      <td>0.0</td>\n",
       "      <td>71083.000000</td>\n",
       "    </tr>\n",
       "    <tr>\n",
       "      <th>max</th>\n",
       "      <td>20000.000000</td>\n",
       "      <td>9999.000000</td>\n",
       "      <td>20000.000000</td>\n",
       "      <td>150000.000000</td>\n",
       "      <td>12.000000</td>\n",
       "      <td>0.0</td>\n",
       "      <td>99998.000000</td>\n",
       "    </tr>\n",
       "  </tbody>\n",
       "</table>\n",
       "</div>"
      ],
      "text/plain": [
       "               price  registration_year          power      kilometer  \\\n",
       "count  354364.000000      354364.000000  354364.000000  354364.000000   \n",
       "mean     4416.655608        2004.234471     110.093723  128211.373051   \n",
       "std      4514.159690          90.228593     189.851590   37905.136957   \n",
       "min         0.000000        1000.000000       0.000000    5000.000000   \n",
       "25%      1050.000000        1999.000000      69.000000  125000.000000   \n",
       "50%      2700.000000        2003.000000     105.000000  150000.000000   \n",
       "75%      6400.000000        2008.000000     143.000000  150000.000000   \n",
       "max     20000.000000        9999.000000   20000.000000  150000.000000   \n",
       "\n",
       "       registration_month  number_of_pictures    postal_code  \n",
       "count       354364.000000            354364.0  354364.000000  \n",
       "mean             5.714641                 0.0   50508.461698  \n",
       "std              3.726433                 0.0   25783.124276  \n",
       "min              0.000000                 0.0    1067.000000  \n",
       "25%              3.000000                 0.0   30165.000000  \n",
       "50%              6.000000                 0.0   49409.500000  \n",
       "75%              9.000000                 0.0   71083.000000  \n",
       "max             12.000000                 0.0   99998.000000  "
      ]
     },
     "execution_count": 19,
     "metadata": {},
     "output_type": "execute_result"
    }
   ],
   "source": [
    "df.describe()"
   ]
  },
  {
   "cell_type": "markdown",
   "metadata": {},
   "source": [
    "**Замечания в данных**\n",
    "1. размах цен слишком большой и имеет высокий уровень стандартного отклонения. Необходимо будет избавиться от выбросов.\n",
    "2. дата регистрации начинается с 1000 года и заканчивается 9999 годом. обозначим интервал следующим образом: от 1946 года (жёлтые номера образца 1946 года, которые могут встретиться на ретроавтомобилях) до 2022 года.\n",
    "3. Лошадиные силы у автомобиля достигают 20000. Согласно [рейтингу самых мощных автомобилей в мире](https://cars-rating.ru/legkovye/samye-moshhnye-avtomobili-v-mire) количество лошадиных сил не может превышать 5000. А вторая машина по мощноти имеет 2500 л.с. Эта цифра и будет нашей верхней границей, так как моделей с самой сильной мощностью всего 3 в мире, а выбросов только по России гораздо больше.\n",
    "3. Месяц регистрации автомобилей равный 0 присвоим значение 1.\n",
    "4. Столбцы \"number_of_pictures\", \"date_crawled\",\"date_created\",\"last_seen\",\"postal_code\" удалим, так как они не содержат в себе полезную информацию, влияющую на стоимость автомобиля."
   ]
  },
  {
   "cell_type": "code",
   "execution_count": 20,
   "metadata": {},
   "outputs": [],
   "source": [
    "df = df.drop([\"number_of_pictures\", \"date_created\",\"last_seen\",\"postal_code\"], 1) # \"date_crawled\""
   ]
  },
  {
   "cell_type": "code",
   "execution_count": 21,
   "metadata": {
    "scrolled": true
   },
   "outputs": [
    {
     "data": {
      "text/html": [
       "<div>\n",
       "<style scoped>\n",
       "    .dataframe tbody tr th:only-of-type {\n",
       "        vertical-align: middle;\n",
       "    }\n",
       "\n",
       "    .dataframe tbody tr th {\n",
       "        vertical-align: top;\n",
       "    }\n",
       "\n",
       "    .dataframe thead th {\n",
       "        text-align: right;\n",
       "    }\n",
       "</style>\n",
       "<table border=\"1\" class=\"dataframe\">\n",
       "  <thead>\n",
       "    <tr style=\"text-align: right;\">\n",
       "      <th></th>\n",
       "      <th>date_crawled</th>\n",
       "      <th>price</th>\n",
       "      <th>vehicle_type</th>\n",
       "      <th>registration_year</th>\n",
       "      <th>gearbox</th>\n",
       "      <th>power</th>\n",
       "      <th>model</th>\n",
       "      <th>kilometer</th>\n",
       "      <th>registration_month</th>\n",
       "      <th>fuel_type</th>\n",
       "      <th>brand</th>\n",
       "      <th>not_repaired</th>\n",
       "    </tr>\n",
       "  </thead>\n",
       "  <tbody>\n",
       "    <tr>\n",
       "      <th>0</th>\n",
       "      <td>2016-03-24 11:52:17</td>\n",
       "      <td>480</td>\n",
       "      <td>sedan</td>\n",
       "      <td>1993</td>\n",
       "      <td>manual</td>\n",
       "      <td>0</td>\n",
       "      <td>golf</td>\n",
       "      <td>150000</td>\n",
       "      <td>0</td>\n",
       "      <td>petrol</td>\n",
       "      <td>volkswagen</td>\n",
       "      <td>no</td>\n",
       "    </tr>\n",
       "    <tr>\n",
       "      <th>1</th>\n",
       "      <td>2016-03-24 10:58:45</td>\n",
       "      <td>18300</td>\n",
       "      <td>coupe</td>\n",
       "      <td>2011</td>\n",
       "      <td>manual</td>\n",
       "      <td>190</td>\n",
       "      <td>golf</td>\n",
       "      <td>125000</td>\n",
       "      <td>5</td>\n",
       "      <td>gasoline</td>\n",
       "      <td>audi</td>\n",
       "      <td>yes</td>\n",
       "    </tr>\n",
       "    <tr>\n",
       "      <th>2</th>\n",
       "      <td>2016-03-14 12:52:21</td>\n",
       "      <td>9800</td>\n",
       "      <td>suv</td>\n",
       "      <td>2004</td>\n",
       "      <td>auto</td>\n",
       "      <td>163</td>\n",
       "      <td>grand</td>\n",
       "      <td>125000</td>\n",
       "      <td>8</td>\n",
       "      <td>gasoline</td>\n",
       "      <td>jeep</td>\n",
       "      <td>no</td>\n",
       "    </tr>\n",
       "    <tr>\n",
       "      <th>3</th>\n",
       "      <td>2016-03-17 16:54:04</td>\n",
       "      <td>1500</td>\n",
       "      <td>small</td>\n",
       "      <td>2001</td>\n",
       "      <td>manual</td>\n",
       "      <td>75</td>\n",
       "      <td>golf</td>\n",
       "      <td>150000</td>\n",
       "      <td>6</td>\n",
       "      <td>petrol</td>\n",
       "      <td>volkswagen</td>\n",
       "      <td>no</td>\n",
       "    </tr>\n",
       "    <tr>\n",
       "      <th>4</th>\n",
       "      <td>2016-03-31 17:25:20</td>\n",
       "      <td>3600</td>\n",
       "      <td>small</td>\n",
       "      <td>2008</td>\n",
       "      <td>manual</td>\n",
       "      <td>69</td>\n",
       "      <td>fabia</td>\n",
       "      <td>90000</td>\n",
       "      <td>7</td>\n",
       "      <td>gasoline</td>\n",
       "      <td>skoda</td>\n",
       "      <td>no</td>\n",
       "    </tr>\n",
       "  </tbody>\n",
       "</table>\n",
       "</div>"
      ],
      "text/plain": [
       "          date_crawled  price vehicle_type  registration_year gearbox  power  \\\n",
       "0  2016-03-24 11:52:17    480        sedan               1993  manual      0   \n",
       "1  2016-03-24 10:58:45  18300        coupe               2011  manual    190   \n",
       "2  2016-03-14 12:52:21   9800          suv               2004    auto    163   \n",
       "3  2016-03-17 16:54:04   1500        small               2001  manual     75   \n",
       "4  2016-03-31 17:25:20   3600        small               2008  manual     69   \n",
       "\n",
       "   model  kilometer  registration_month fuel_type       brand not_repaired  \n",
       "0   golf     150000                   0    petrol  volkswagen           no  \n",
       "1   golf     125000                   5  gasoline        audi          yes  \n",
       "2  grand     125000                   8  gasoline        jeep           no  \n",
       "3   golf     150000                   6    petrol  volkswagen           no  \n",
       "4  fabia      90000                   7  gasoline       skoda           no  "
      ]
     },
     "execution_count": 21,
     "metadata": {},
     "output_type": "execute_result"
    }
   ],
   "source": [
    "df.head()"
   ]
  },
  {
   "cell_type": "code",
   "execution_count": 22,
   "metadata": {},
   "outputs": [],
   "source": [
    "df.loc[df['registration_month'] == 0, 'registration_month'] = 1"
   ]
  },
  {
   "cell_type": "code",
   "execution_count": 23,
   "metadata": {
    "scrolled": true
   },
   "outputs": [
    {
     "data": {
      "image/png": "[encoded data removed]",
      "text/plain": [
       "<Figure size 432x288 with 1 Axes>"
      ]
     },
     "metadata": {
      "needs_background": "light"
     },
     "output_type": "display_data"
    }
   ],
   "source": [
    "df.boxplot()\n",
    "plt.show()"
   ]
  },
  {
   "cell_type": "code",
   "execution_count": 24,
   "metadata": {
    "scrolled": true
   },
   "outputs": [
    {
     "data": {
      "image/png": "[encoded data removed]",
      "text/plain": [
       "<Figure size 432x288 with 1 Axes>"
      ]
     },
     "metadata": {
      "needs_background": "light"
     },
     "output_type": "display_data"
    }
   ],
   "source": [
    "df.boxplot('price')\n",
    "plt.show()"
   ]
  },
  {
   "cell_type": "code",
   "execution_count": 25,
   "metadata": {},
   "outputs": [
    {
     "data": {
      "text/html": [
       "<div>\n",
       "<style scoped>\n",
       "    .dataframe tbody tr th:only-of-type {\n",
       "        vertical-align: middle;\n",
       "    }\n",
       "\n",
       "    .dataframe tbody tr th {\n",
       "        vertical-align: top;\n",
       "    }\n",
       "\n",
       "    .dataframe thead th {\n",
       "        text-align: right;\n",
       "    }\n",
       "</style>\n",
       "<table border=\"1\" class=\"dataframe\">\n",
       "  <thead>\n",
       "    <tr style=\"text-align: right;\">\n",
       "      <th></th>\n",
       "      <th>date_crawled</th>\n",
       "      <th>price</th>\n",
       "      <th>vehicle_type</th>\n",
       "      <th>registration_year</th>\n",
       "      <th>gearbox</th>\n",
       "      <th>power</th>\n",
       "      <th>model</th>\n",
       "      <th>kilometer</th>\n",
       "      <th>registration_month</th>\n",
       "      <th>fuel_type</th>\n",
       "      <th>brand</th>\n",
       "      <th>not_repaired</th>\n",
       "    </tr>\n",
       "  </thead>\n",
       "  <tbody>\n",
       "    <tr>\n",
       "      <th>1</th>\n",
       "      <td>2016-03-24 10:58:45</td>\n",
       "      <td>18300</td>\n",
       "      <td>coupe</td>\n",
       "      <td>2011</td>\n",
       "      <td>manual</td>\n",
       "      <td>190</td>\n",
       "      <td>golf</td>\n",
       "      <td>125000</td>\n",
       "      <td>5</td>\n",
       "      <td>gasoline</td>\n",
       "      <td>audi</td>\n",
       "      <td>yes</td>\n",
       "    </tr>\n",
       "    <tr>\n",
       "      <th>8</th>\n",
       "      <td>2016-04-04 23:42:13</td>\n",
       "      <td>14500</td>\n",
       "      <td>bus</td>\n",
       "      <td>2014</td>\n",
       "      <td>manual</td>\n",
       "      <td>125</td>\n",
       "      <td>c_max</td>\n",
       "      <td>30000</td>\n",
       "      <td>8</td>\n",
       "      <td>petrol</td>\n",
       "      <td>ford</td>\n",
       "      <td>no</td>\n",
       "    </tr>\n",
       "    <tr>\n",
       "      <th>14</th>\n",
       "      <td>2016-03-21 12:57:01</td>\n",
       "      <td>17999</td>\n",
       "      <td>suv</td>\n",
       "      <td>2011</td>\n",
       "      <td>manual</td>\n",
       "      <td>190</td>\n",
       "      <td>navara</td>\n",
       "      <td>70000</td>\n",
       "      <td>3</td>\n",
       "      <td>gasoline</td>\n",
       "      <td>nissan</td>\n",
       "      <td>no</td>\n",
       "    </tr>\n",
       "    <tr>\n",
       "      <th>33</th>\n",
       "      <td>2016-03-25 21:48:47</td>\n",
       "      <td>18000</td>\n",
       "      <td>sedan</td>\n",
       "      <td>2007</td>\n",
       "      <td>auto</td>\n",
       "      <td>218</td>\n",
       "      <td>3er</td>\n",
       "      <td>20000</td>\n",
       "      <td>5</td>\n",
       "      <td>petrol</td>\n",
       "      <td>bmw</td>\n",
       "      <td>no</td>\n",
       "    </tr>\n",
       "    <tr>\n",
       "      <th>50</th>\n",
       "      <td>2016-03-30 08:50:37</td>\n",
       "      <td>14800</td>\n",
       "      <td>convertible</td>\n",
       "      <td>2008</td>\n",
       "      <td>manual</td>\n",
       "      <td>170</td>\n",
       "      <td>1er</td>\n",
       "      <td>125000</td>\n",
       "      <td>4</td>\n",
       "      <td>petrol</td>\n",
       "      <td>bmw</td>\n",
       "      <td>no</td>\n",
       "    </tr>\n",
       "    <tr>\n",
       "      <th>64</th>\n",
       "      <td>2016-03-07 22:36:54</td>\n",
       "      <td>14999</td>\n",
       "      <td>convertible</td>\n",
       "      <td>2007</td>\n",
       "      <td>manual</td>\n",
       "      <td>218</td>\n",
       "      <td>3er</td>\n",
       "      <td>50000</td>\n",
       "      <td>8</td>\n",
       "      <td>petrol</td>\n",
       "      <td>bmw</td>\n",
       "      <td>no</td>\n",
       "    </tr>\n",
       "    <tr>\n",
       "      <th>93</th>\n",
       "      <td>2016-03-10 11:44:54</td>\n",
       "      <td>14500</td>\n",
       "      <td>small</td>\n",
       "      <td>2013</td>\n",
       "      <td>manual</td>\n",
       "      <td>86</td>\n",
       "      <td>a1</td>\n",
       "      <td>60000</td>\n",
       "      <td>4</td>\n",
       "      <td>petrol</td>\n",
       "      <td>audi</td>\n",
       "      <td>no</td>\n",
       "    </tr>\n",
       "    <tr>\n",
       "      <th>134</th>\n",
       "      <td>2016-03-21 16:45:30</td>\n",
       "      <td>14499</td>\n",
       "      <td>sedan</td>\n",
       "      <td>2007</td>\n",
       "      <td>auto</td>\n",
       "      <td>170</td>\n",
       "      <td>c_klasse</td>\n",
       "      <td>125000</td>\n",
       "      <td>5</td>\n",
       "      <td>gasoline</td>\n",
       "      <td>mercedes_benz</td>\n",
       "      <td>no</td>\n",
       "    </tr>\n",
       "    <tr>\n",
       "      <th>155</th>\n",
       "      <td>2016-03-09 12:53:53</td>\n",
       "      <td>14500</td>\n",
       "      <td>sedan</td>\n",
       "      <td>2017</td>\n",
       "      <td>manual</td>\n",
       "      <td>136</td>\n",
       "      <td>sportage</td>\n",
       "      <td>125000</td>\n",
       "      <td>5</td>\n",
       "      <td>gasoline</td>\n",
       "      <td>kia</td>\n",
       "      <td>no</td>\n",
       "    </tr>\n",
       "    <tr>\n",
       "      <th>172</th>\n",
       "      <td>2016-03-07 12:38:19</td>\n",
       "      <td>19750</td>\n",
       "      <td>convertible</td>\n",
       "      <td>2006</td>\n",
       "      <td>manual</td>\n",
       "      <td>305</td>\n",
       "      <td>mustang</td>\n",
       "      <td>50000</td>\n",
       "      <td>7</td>\n",
       "      <td>petrol</td>\n",
       "      <td>ford</td>\n",
       "      <td>no</td>\n",
       "    </tr>\n",
       "    <tr>\n",
       "      <th>179</th>\n",
       "      <td>2016-03-08 20:58:31</td>\n",
       "      <td>16449</td>\n",
       "      <td>wagon</td>\n",
       "      <td>2015</td>\n",
       "      <td>auto</td>\n",
       "      <td>110</td>\n",
       "      <td>fabia</td>\n",
       "      <td>10000</td>\n",
       "      <td>8</td>\n",
       "      <td>petrol</td>\n",
       "      <td>skoda</td>\n",
       "      <td>no</td>\n",
       "    </tr>\n",
       "    <tr>\n",
       "      <th>182</th>\n",
       "      <td>2016-03-28 17:39:50</td>\n",
       "      <td>14300</td>\n",
       "      <td>sedan</td>\n",
       "      <td>2011</td>\n",
       "      <td>manual</td>\n",
       "      <td>120</td>\n",
       "      <td>a4</td>\n",
       "      <td>60000</td>\n",
       "      <td>5</td>\n",
       "      <td>petrol</td>\n",
       "      <td>audi</td>\n",
       "      <td>no</td>\n",
       "    </tr>\n",
       "    <tr>\n",
       "      <th>204</th>\n",
       "      <td>2016-03-31 12:58:26</td>\n",
       "      <td>18400</td>\n",
       "      <td>wagon</td>\n",
       "      <td>2011</td>\n",
       "      <td>auto</td>\n",
       "      <td>313</td>\n",
       "      <td>5er</td>\n",
       "      <td>150000</td>\n",
       "      <td>11</td>\n",
       "      <td>gasoline</td>\n",
       "      <td>bmw</td>\n",
       "      <td>no</td>\n",
       "    </tr>\n",
       "    <tr>\n",
       "      <th>210</th>\n",
       "      <td>2016-04-05 11:48:01</td>\n",
       "      <td>14900</td>\n",
       "      <td>sedan</td>\n",
       "      <td>2007</td>\n",
       "      <td>manual</td>\n",
       "      <td>265</td>\n",
       "      <td>1er</td>\n",
       "      <td>150000</td>\n",
       "      <td>10</td>\n",
       "      <td>petrol</td>\n",
       "      <td>bmw</td>\n",
       "      <td>no</td>\n",
       "    </tr>\n",
       "    <tr>\n",
       "      <th>236</th>\n",
       "      <td>2016-03-05 17:50:33</td>\n",
       "      <td>15700</td>\n",
       "      <td>sedan</td>\n",
       "      <td>2011</td>\n",
       "      <td>manual</td>\n",
       "      <td>170</td>\n",
       "      <td>golf</td>\n",
       "      <td>90000</td>\n",
       "      <td>3</td>\n",
       "      <td>gasoline</td>\n",
       "      <td>volkswagen</td>\n",
       "      <td>no</td>\n",
       "    </tr>\n",
       "    <tr>\n",
       "      <th>245</th>\n",
       "      <td>2016-03-30 20:42:52</td>\n",
       "      <td>14700</td>\n",
       "      <td>sedan</td>\n",
       "      <td>2012</td>\n",
       "      <td>auto</td>\n",
       "      <td>211</td>\n",
       "      <td>golf</td>\n",
       "      <td>60000</td>\n",
       "      <td>12</td>\n",
       "      <td>petrol</td>\n",
       "      <td>volkswagen</td>\n",
       "      <td>yes</td>\n",
       "    </tr>\n",
       "    <tr>\n",
       "      <th>270</th>\n",
       "      <td>2016-03-25 12:25:20</td>\n",
       "      <td>14950</td>\n",
       "      <td>bus</td>\n",
       "      <td>2009</td>\n",
       "      <td>manual</td>\n",
       "      <td>140</td>\n",
       "      <td>touran</td>\n",
       "      <td>70000</td>\n",
       "      <td>3</td>\n",
       "      <td>petrol</td>\n",
       "      <td>volkswagen</td>\n",
       "      <td>no</td>\n",
       "    </tr>\n",
       "    <tr>\n",
       "      <th>271</th>\n",
       "      <td>2016-03-28 18:38:30</td>\n",
       "      <td>14900</td>\n",
       "      <td>convertible</td>\n",
       "      <td>2004</td>\n",
       "      <td>manual</td>\n",
       "      <td>170</td>\n",
       "      <td>z_reihe</td>\n",
       "      <td>70000</td>\n",
       "      <td>6</td>\n",
       "      <td>petrol</td>\n",
       "      <td>bmw</td>\n",
       "      <td>no</td>\n",
       "    </tr>\n",
       "    <tr>\n",
       "      <th>282</th>\n",
       "      <td>2016-03-06 12:38:13</td>\n",
       "      <td>18700</td>\n",
       "      <td>coupe</td>\n",
       "      <td>2009</td>\n",
       "      <td>auto</td>\n",
       "      <td>213</td>\n",
       "      <td>mustang</td>\n",
       "      <td>80000</td>\n",
       "      <td>8</td>\n",
       "      <td>petrol</td>\n",
       "      <td>ford</td>\n",
       "      <td>no</td>\n",
       "    </tr>\n",
       "    <tr>\n",
       "      <th>287</th>\n",
       "      <td>2016-03-19 16:40:33</td>\n",
       "      <td>16150</td>\n",
       "      <td>suv</td>\n",
       "      <td>2011</td>\n",
       "      <td>manual</td>\n",
       "      <td>150</td>\n",
       "      <td>tiguan</td>\n",
       "      <td>30000</td>\n",
       "      <td>4</td>\n",
       "      <td>petrol</td>\n",
       "      <td>volkswagen</td>\n",
       "      <td>no</td>\n",
       "    </tr>\n",
       "  </tbody>\n",
       "</table>\n",
       "</div>"
      ],
      "text/plain": [
       "            date_crawled  price vehicle_type  registration_year gearbox  \\\n",
       "1    2016-03-24 10:58:45  18300        coupe               2011  manual   \n",
       "8    2016-04-04 23:42:13  14500          bus               2014  manual   \n",
       "14   2016-03-21 12:57:01  17999          suv               2011  manual   \n",
       "33   2016-03-25 21:48:47  18000        sedan               2007    auto   \n",
       "50   2016-03-30 08:50:37  14800  convertible               2008  manual   \n",
       "64   2016-03-07 22:36:54  14999  convertible               2007  manual   \n",
       "93   2016-03-10 11:44:54  14500        small               2013  manual   \n",
       "134  2016-03-21 16:45:30  14499        sedan               2007    auto   \n",
       "155  2016-03-09 12:53:53  14500        sedan               2017  manual   \n",
       "172  2016-03-07 12:38:19  19750  convertible               2006  manual   \n",
       "179  2016-03-08 20:58:31  16449        wagon               2015    auto   \n",
       "182  2016-03-28 17:39:50  14300        sedan               2011  manual   \n",
       "204  2016-03-31 12:58:26  18400        wagon               2011    auto   \n",
       "210  2016-04-05 11:48:01  14900        sedan               2007  manual   \n",
       "236  2016-03-05 17:50:33  15700        sedan               2011  manual   \n",
       "245  2016-03-30 20:42:52  14700        sedan               2012    auto   \n",
       "270  2016-03-25 12:25:20  14950          bus               2009  manual   \n",
       "271  2016-03-28 18:38:30  14900  convertible               2004  manual   \n",
       "282  2016-03-06 12:38:13  18700        coupe               2009    auto   \n",
       "287  2016-03-19 16:40:33  16150          suv               2011  manual   \n",
       "\n",
       "     power     model  kilometer  registration_month fuel_type          brand  \\\n",
       "1      190      golf     125000                   5  gasoline           audi   \n",
       "8      125     c_max      30000                   8    petrol           ford   \n",
       "14     190    navara      70000                   3  gasoline         nissan   \n",
       "33     218       3er      20000                   5    petrol            bmw   \n",
       "50     170       1er     125000                   4    petrol            bmw   \n",
       "64     218       3er      50000                   8    petrol            bmw   \n",
       "93      86        a1      60000                   4    petrol           audi   \n",
       "134    170  c_klasse     125000                   5  gasoline  mercedes_benz   \n",
       "155    136  sportage     125000                   5  gasoline            kia   \n",
       "172    305   mustang      50000                   7    petrol           ford   \n",
       "179    110     fabia      10000                   8    petrol          skoda   \n",
       "182    120        a4      60000                   5    petrol           audi   \n",
       "204    313       5er     150000                  11  gasoline            bmw   \n",
       "210    265       1er     150000                  10    petrol            bmw   \n",
       "236    170      golf      90000                   3  gasoline     volkswagen   \n",
       "245    211      golf      60000                  12    petrol     volkswagen   \n",
       "270    140    touran      70000                   3    petrol     volkswagen   \n",
       "271    170   z_reihe      70000                   6    petrol            bmw   \n",
       "282    213   mustang      80000                   8    petrol           ford   \n",
       "287    150    tiguan      30000                   4    petrol     volkswagen   \n",
       "\n",
       "    not_repaired  \n",
       "1            yes  \n",
       "8             no  \n",
       "14            no  \n",
       "33            no  \n",
       "50            no  \n",
       "64            no  \n",
       "93            no  \n",
       "134           no  \n",
       "155           no  \n",
       "172           no  \n",
       "179           no  \n",
       "182           no  \n",
       "204           no  \n",
       "210           no  \n",
       "236           no  \n",
       "245          yes  \n",
       "270           no  \n",
       "271           no  \n",
       "282           no  \n",
       "287           no  "
      ]
     },
     "execution_count": 25,
     "metadata": {},
     "output_type": "execute_result"
    }
   ],
   "source": [
    "df[df['price'] > 14000].head(20)"
   ]
  },
  {
   "cell_type": "markdown",
   "metadata": {},
   "source": [
    "Согласно данным из диаграммы размаха можно сделать вывод, что выбросами считается показатель стоимости, превышающий 14000."
   ]
  },
  {
   "cell_type": "code",
   "execution_count": 26,
   "metadata": {},
   "outputs": [],
   "source": [
    "size_before = df.shape[0]"
   ]
  },
  {
   "cell_type": "code",
   "execution_count": 27,
   "metadata": {},
   "outputs": [],
   "source": [
    "df = df[df['price'] < 14000]"
   ]
  },
  {
   "cell_type": "code",
   "execution_count": 28,
   "metadata": {
    "scrolled": true
   },
   "outputs": [
    {
     "data": {
      "image/png": "[encoded data removed]",
      "text/plain": [
       "<Figure size 432x288 with 1 Axes>"
      ]
     },
     "metadata": {
      "needs_background": "light"
     },
     "output_type": "display_data"
    }
   ],
   "source": [
    "df.boxplot(column='power')\n",
    "plt.show()"
   ]
  },
  {
   "cell_type": "code",
   "execution_count": 29,
   "metadata": {},
   "outputs": [],
   "source": [
    "df = df[df['power'] <= 2500]"
   ]
  },
  {
   "cell_type": "code",
   "execution_count": 30,
   "metadata": {
    "scrolled": true
   },
   "outputs": [
    {
     "data": {
      "image/png": "[encoded data removed]",
      "text/plain": [
       "<Figure size 432x288 with 1 Axes>"
      ]
     },
     "metadata": {
      "needs_background": "light"
     },
     "output_type": "display_data"
    }
   ],
   "source": [
    "df.boxplot('registration_year')\n",
    "plt.show()"
   ]
  },
  {
   "cell_type": "code",
   "execution_count": 31,
   "metadata": {},
   "outputs": [
    {
     "data": {
      "text/html": [
       "<div>\n",
       "<style scoped>\n",
       "    .dataframe tbody tr th:only-of-type {\n",
       "        vertical-align: middle;\n",
       "    }\n",
       "\n",
       "    .dataframe tbody tr th {\n",
       "        vertical-align: top;\n",
       "    }\n",
       "\n",
       "    .dataframe thead th {\n",
       "        text-align: right;\n",
       "    }\n",
       "</style>\n",
       "<table border=\"1\" class=\"dataframe\">\n",
       "  <thead>\n",
       "    <tr style=\"text-align: right;\">\n",
       "      <th></th>\n",
       "      <th>date_crawled</th>\n",
       "      <th>price</th>\n",
       "      <th>vehicle_type</th>\n",
       "      <th>registration_year</th>\n",
       "      <th>gearbox</th>\n",
       "      <th>power</th>\n",
       "      <th>model</th>\n",
       "      <th>kilometer</th>\n",
       "      <th>registration_month</th>\n",
       "      <th>fuel_type</th>\n",
       "      <th>brand</th>\n",
       "      <th>not_repaired</th>\n",
       "    </tr>\n",
       "  </thead>\n",
       "  <tbody>\n",
       "    <tr>\n",
       "      <th>0</th>\n",
       "      <td>2016-03-24 11:52:17</td>\n",
       "      <td>480</td>\n",
       "      <td>sedan</td>\n",
       "      <td>1993</td>\n",
       "      <td>manual</td>\n",
       "      <td>0</td>\n",
       "      <td>golf</td>\n",
       "      <td>150000</td>\n",
       "      <td>1</td>\n",
       "      <td>petrol</td>\n",
       "      <td>volkswagen</td>\n",
       "      <td>no</td>\n",
       "    </tr>\n",
       "    <tr>\n",
       "      <th>2</th>\n",
       "      <td>2016-03-14 12:52:21</td>\n",
       "      <td>9800</td>\n",
       "      <td>suv</td>\n",
       "      <td>2004</td>\n",
       "      <td>auto</td>\n",
       "      <td>163</td>\n",
       "      <td>grand</td>\n",
       "      <td>125000</td>\n",
       "      <td>8</td>\n",
       "      <td>gasoline</td>\n",
       "      <td>jeep</td>\n",
       "      <td>no</td>\n",
       "    </tr>\n",
       "    <tr>\n",
       "      <th>3</th>\n",
       "      <td>2016-03-17 16:54:04</td>\n",
       "      <td>1500</td>\n",
       "      <td>small</td>\n",
       "      <td>2001</td>\n",
       "      <td>manual</td>\n",
       "      <td>75</td>\n",
       "      <td>golf</td>\n",
       "      <td>150000</td>\n",
       "      <td>6</td>\n",
       "      <td>petrol</td>\n",
       "      <td>volkswagen</td>\n",
       "      <td>no</td>\n",
       "    </tr>\n",
       "    <tr>\n",
       "      <th>4</th>\n",
       "      <td>2016-03-31 17:25:20</td>\n",
       "      <td>3600</td>\n",
       "      <td>small</td>\n",
       "      <td>2008</td>\n",
       "      <td>manual</td>\n",
       "      <td>69</td>\n",
       "      <td>fabia</td>\n",
       "      <td>90000</td>\n",
       "      <td>7</td>\n",
       "      <td>gasoline</td>\n",
       "      <td>skoda</td>\n",
       "      <td>no</td>\n",
       "    </tr>\n",
       "    <tr>\n",
       "      <th>5</th>\n",
       "      <td>2016-04-04 17:36:23</td>\n",
       "      <td>650</td>\n",
       "      <td>sedan</td>\n",
       "      <td>1995</td>\n",
       "      <td>manual</td>\n",
       "      <td>102</td>\n",
       "      <td>3er</td>\n",
       "      <td>150000</td>\n",
       "      <td>10</td>\n",
       "      <td>petrol</td>\n",
       "      <td>bmw</td>\n",
       "      <td>yes</td>\n",
       "    </tr>\n",
       "  </tbody>\n",
       "</table>\n",
       "</div>"
      ],
      "text/plain": [
       "          date_crawled  price vehicle_type  registration_year gearbox  power  \\\n",
       "0  2016-03-24 11:52:17    480        sedan               1993  manual      0   \n",
       "2  2016-03-14 12:52:21   9800          suv               2004    auto    163   \n",
       "3  2016-03-17 16:54:04   1500        small               2001  manual     75   \n",
       "4  2016-03-31 17:25:20   3600        small               2008  manual     69   \n",
       "5  2016-04-04 17:36:23    650        sedan               1995  manual    102   \n",
       "\n",
       "   model  kilometer  registration_month fuel_type       brand not_repaired  \n",
       "0   golf     150000                   1    petrol  volkswagen           no  \n",
       "2  grand     125000                   8  gasoline        jeep           no  \n",
       "3   golf     150000                   6    petrol  volkswagen           no  \n",
       "4  fabia      90000                   7  gasoline       skoda           no  \n",
       "5    3er     150000                  10    petrol         bmw          yes  "
      ]
     },
     "execution_count": 31,
     "metadata": {},
     "output_type": "execute_result"
    }
   ],
   "source": [
    "df.head()"
   ]
  },
  {
   "cell_type": "code",
   "execution_count": 32,
   "metadata": {
    "scrolled": true
   },
   "outputs": [],
   "source": [
    "df['date_crawled'] = pd.to_datetime(df['date_crawled'], format = '%Y-%m-%d %H:%M:%S')"
   ]
  },
  {
   "cell_type": "code",
   "execution_count": 33,
   "metadata": {},
   "outputs": [],
   "source": [
    "df['date_crawled'] = df['date_crawled'].dt.year"
   ]
  },
  {
   "cell_type": "code",
   "execution_count": 34,
   "metadata": {
    "scrolled": true
   },
   "outputs": [
    {
     "data": {
      "text/html": [
       "<div>\n",
       "<style scoped>\n",
       "    .dataframe tbody tr th:only-of-type {\n",
       "        vertical-align: middle;\n",
       "    }\n",
       "\n",
       "    .dataframe tbody tr th {\n",
       "        vertical-align: top;\n",
       "    }\n",
       "\n",
       "    .dataframe thead th {\n",
       "        text-align: right;\n",
       "    }\n",
       "</style>\n",
       "<table border=\"1\" class=\"dataframe\">\n",
       "  <thead>\n",
       "    <tr style=\"text-align: right;\">\n",
       "      <th></th>\n",
       "      <th>registration_year</th>\n",
       "      <th>date_crawled</th>\n",
       "    </tr>\n",
       "  </thead>\n",
       "  <tbody>\n",
       "    <tr>\n",
       "      <th>0</th>\n",
       "      <td>1993</td>\n",
       "      <td>2016</td>\n",
       "    </tr>\n",
       "    <tr>\n",
       "      <th>2</th>\n",
       "      <td>2004</td>\n",
       "      <td>2016</td>\n",
       "    </tr>\n",
       "    <tr>\n",
       "      <th>3</th>\n",
       "      <td>2001</td>\n",
       "      <td>2016</td>\n",
       "    </tr>\n",
       "    <tr>\n",
       "      <th>4</th>\n",
       "      <td>2008</td>\n",
       "      <td>2016</td>\n",
       "    </tr>\n",
       "    <tr>\n",
       "      <th>5</th>\n",
       "      <td>1995</td>\n",
       "      <td>2016</td>\n",
       "    </tr>\n",
       "    <tr>\n",
       "      <th>...</th>\n",
       "      <td>...</td>\n",
       "      <td>...</td>\n",
       "    </tr>\n",
       "    <tr>\n",
       "      <th>354364</th>\n",
       "      <td>2005</td>\n",
       "      <td>2016</td>\n",
       "    </tr>\n",
       "    <tr>\n",
       "      <th>354365</th>\n",
       "      <td>2005</td>\n",
       "      <td>2016</td>\n",
       "    </tr>\n",
       "    <tr>\n",
       "      <th>354366</th>\n",
       "      <td>2000</td>\n",
       "      <td>2016</td>\n",
       "    </tr>\n",
       "    <tr>\n",
       "      <th>354367</th>\n",
       "      <td>1996</td>\n",
       "      <td>2016</td>\n",
       "    </tr>\n",
       "    <tr>\n",
       "      <th>354368</th>\n",
       "      <td>2002</td>\n",
       "      <td>2016</td>\n",
       "    </tr>\n",
       "  </tbody>\n",
       "</table>\n",
       "<p>334074 rows × 2 columns</p>\n",
       "</div>"
      ],
      "text/plain": [
       "        registration_year  date_crawled\n",
       "0                    1993          2016\n",
       "2                    2004          2016\n",
       "3                    2001          2016\n",
       "4                    2008          2016\n",
       "5                    1995          2016\n",
       "...                   ...           ...\n",
       "354364               2005          2016\n",
       "354365               2005          2016\n",
       "354366               2000          2016\n",
       "354367               1996          2016\n",
       "354368               2002          2016\n",
       "\n",
       "[334074 rows x 2 columns]"
      ]
     },
     "execution_count": 34,
     "metadata": {},
     "output_type": "execute_result"
    }
   ],
   "source": [
    "df[['registration_year', 'date_crawled']]"
   ]
  },
  {
   "cell_type": "code",
   "execution_count": 35,
   "metadata": {
    "scrolled": true
   },
   "outputs": [
    {
     "data": {
      "text/plain": [
       "date_crawled          14177\n",
       "price                 14177\n",
       "vehicle_type          14177\n",
       "registration_year     14177\n",
       "gearbox               14177\n",
       "power                 14177\n",
       "model                 14177\n",
       "kilometer             14177\n",
       "registration_month    14177\n",
       "fuel_type             14177\n",
       "brand                 14177\n",
       "not_repaired          14177\n",
       "dtype: int64"
      ]
     },
     "execution_count": 35,
     "metadata": {},
     "output_type": "execute_result"
    }
   ],
   "source": [
    "df[df['registration_year'] > df['date_crawled']].count()"
   ]
  },
  {
   "cell_type": "markdown",
   "metadata": {},
   "source": [
    "В датасете есть автомобили, регистрация которых была позже чем выгрузка из базы данных. В связи с этим необходимо прировнять все ошибочные даты регистрации автомобиля к дате выгрузки данных."
   ]
  },
  {
   "cell_type": "code",
   "execution_count": 36,
   "metadata": {},
   "outputs": [],
   "source": [
    "df.loc[df['registration_year'] > df['date_crawled'], 'registration_year'] = df.loc[df['registration_year'] > df['date_crawled'], 'date_crawled']"
   ]
  },
  {
   "cell_type": "code",
   "execution_count": 37,
   "metadata": {},
   "outputs": [
    {
     "data": {
      "text/plain": [
       "date_crawled          0\n",
       "price                 0\n",
       "vehicle_type          0\n",
       "registration_year     0\n",
       "gearbox               0\n",
       "power                 0\n",
       "model                 0\n",
       "kilometer             0\n",
       "registration_month    0\n",
       "fuel_type             0\n",
       "brand                 0\n",
       "not_repaired          0\n",
       "dtype: int64"
      ]
     },
     "execution_count": 37,
     "metadata": {},
     "output_type": "execute_result"
    }
   ],
   "source": [
    "df[df['registration_year'] > df['date_crawled']].count()"
   ]
  },
  {
   "cell_type": "code",
   "execution_count": 38,
   "metadata": {},
   "outputs": [],
   "source": [
    "df = df.drop('date_crawled', 1)"
   ]
  },
  {
   "cell_type": "code",
   "execution_count": 39,
   "metadata": {},
   "outputs": [],
   "source": [
    "df = df[(df['registration_year'] > 1946)&(df['registration_year'] <= 2022)]"
   ]
  },
  {
   "cell_type": "code",
   "execution_count": 40,
   "metadata": {},
   "outputs": [],
   "source": [
    "size_after = df.shape[0]"
   ]
  },
  {
   "cell_type": "code",
   "execution_count": 41,
   "metadata": {
    "scrolled": true
   },
   "outputs": [
    {
     "name": "stdout",
     "output_type": "stream",
     "text": [
      "После очистки датасета от выбросов общая доль потерь в данных составила: 0.05788398370037584\n"
     ]
    }
   ],
   "source": [
    "print('После очистки датасета от выбросов общая доль потерь в данных составила:', 1 - size_after / size_before)"
   ]
  },
  {
   "cell_type": "code",
   "execution_count": 42,
   "metadata": {},
   "outputs": [
    {
     "data": {
      "text/html": [
       "<div>\n",
       "<style scoped>\n",
       "    .dataframe tbody tr th:only-of-type {\n",
       "        vertical-align: middle;\n",
       "    }\n",
       "\n",
       "    .dataframe tbody tr th {\n",
       "        vertical-align: top;\n",
       "    }\n",
       "\n",
       "    .dataframe thead th {\n",
       "        text-align: right;\n",
       "    }\n",
       "</style>\n",
       "<table border=\"1\" class=\"dataframe\">\n",
       "  <thead>\n",
       "    <tr style=\"text-align: right;\">\n",
       "      <th></th>\n",
       "      <th>price</th>\n",
       "      <th>registration_year</th>\n",
       "      <th>power</th>\n",
       "      <th>kilometer</th>\n",
       "      <th>registration_month</th>\n",
       "    </tr>\n",
       "  </thead>\n",
       "  <tbody>\n",
       "    <tr>\n",
       "      <th>price</th>\n",
       "      <td>1.000000</td>\n",
       "      <td>0.372590</td>\n",
       "      <td>0.374758</td>\n",
       "      <td>-0.265552</td>\n",
       "      <td>0.108602</td>\n",
       "    </tr>\n",
       "    <tr>\n",
       "      <th>registration_year</th>\n",
       "      <td>0.372590</td>\n",
       "      <td>1.000000</td>\n",
       "      <td>0.064363</td>\n",
       "      <td>-0.150535</td>\n",
       "      <td>0.038529</td>\n",
       "    </tr>\n",
       "    <tr>\n",
       "      <th>power</th>\n",
       "      <td>0.374758</td>\n",
       "      <td>0.064363</td>\n",
       "      <td>1.000000</td>\n",
       "      <td>0.110922</td>\n",
       "      <td>0.100297</td>\n",
       "    </tr>\n",
       "    <tr>\n",
       "      <th>kilometer</th>\n",
       "      <td>-0.265552</td>\n",
       "      <td>-0.150535</td>\n",
       "      <td>0.110922</td>\n",
       "      <td>1.000000</td>\n",
       "      <td>0.015282</td>\n",
       "    </tr>\n",
       "    <tr>\n",
       "      <th>registration_month</th>\n",
       "      <td>0.108602</td>\n",
       "      <td>0.038529</td>\n",
       "      <td>0.100297</td>\n",
       "      <td>0.015282</td>\n",
       "      <td>1.000000</td>\n",
       "    </tr>\n",
       "  </tbody>\n",
       "</table>\n",
       "</div>"
      ],
      "text/plain": [
       "                       price  registration_year     power  kilometer  \\\n",
       "price               1.000000           0.372590  0.374758  -0.265552   \n",
       "registration_year   0.372590           1.000000  0.064363  -0.150535   \n",
       "power               0.374758           0.064363  1.000000   0.110922   \n",
       "kilometer          -0.265552          -0.150535  0.110922   1.000000   \n",
       "registration_month  0.108602           0.038529  0.100297   0.015282   \n",
       "\n",
       "                    registration_month  \n",
       "price                         0.108602  \n",
       "registration_year             0.038529  \n",
       "power                         0.100297  \n",
       "kilometer                     0.015282  \n",
       "registration_month            1.000000  "
      ]
     },
     "execution_count": 42,
     "metadata": {},
     "output_type": "execute_result"
    }
   ],
   "source": [
    "df.corr()"
   ]
  },
  {
   "cell_type": "markdown",
   "metadata": {},
   "source": [
    "### Разделение данных и их кодировка"
   ]
  },
  {
   "cell_type": "code",
   "execution_count": 43,
   "metadata": {},
   "outputs": [
    {
     "data": {
      "text/html": [
       "<div>\n",
       "<style scoped>\n",
       "    .dataframe tbody tr th:only-of-type {\n",
       "        vertical-align: middle;\n",
       "    }\n",
       "\n",
       "    .dataframe tbody tr th {\n",
       "        vertical-align: top;\n",
       "    }\n",
       "\n",
       "    .dataframe thead th {\n",
       "        text-align: right;\n",
       "    }\n",
       "</style>\n",
       "<table border=\"1\" class=\"dataframe\">\n",
       "  <thead>\n",
       "    <tr style=\"text-align: right;\">\n",
       "      <th></th>\n",
       "      <th>price</th>\n",
       "      <th>vehicle_type</th>\n",
       "      <th>registration_year</th>\n",
       "      <th>gearbox</th>\n",
       "      <th>power</th>\n",
       "      <th>model</th>\n",
       "      <th>kilometer</th>\n",
       "      <th>registration_month</th>\n",
       "      <th>fuel_type</th>\n",
       "      <th>brand</th>\n",
       "      <th>not_repaired</th>\n",
       "    </tr>\n",
       "  </thead>\n",
       "  <tbody>\n",
       "    <tr>\n",
       "      <th>0</th>\n",
       "      <td>480</td>\n",
       "      <td>sedan</td>\n",
       "      <td>1993</td>\n",
       "      <td>manual</td>\n",
       "      <td>0</td>\n",
       "      <td>golf</td>\n",
       "      <td>150000</td>\n",
       "      <td>1</td>\n",
       "      <td>petrol</td>\n",
       "      <td>volkswagen</td>\n",
       "      <td>no</td>\n",
       "    </tr>\n",
       "    <tr>\n",
       "      <th>2</th>\n",
       "      <td>9800</td>\n",
       "      <td>suv</td>\n",
       "      <td>2004</td>\n",
       "      <td>auto</td>\n",
       "      <td>163</td>\n",
       "      <td>grand</td>\n",
       "      <td>125000</td>\n",
       "      <td>8</td>\n",
       "      <td>gasoline</td>\n",
       "      <td>jeep</td>\n",
       "      <td>no</td>\n",
       "    </tr>\n",
       "    <tr>\n",
       "      <th>3</th>\n",
       "      <td>1500</td>\n",
       "      <td>small</td>\n",
       "      <td>2001</td>\n",
       "      <td>manual</td>\n",
       "      <td>75</td>\n",
       "      <td>golf</td>\n",
       "      <td>150000</td>\n",
       "      <td>6</td>\n",
       "      <td>petrol</td>\n",
       "      <td>volkswagen</td>\n",
       "      <td>no</td>\n",
       "    </tr>\n",
       "    <tr>\n",
       "      <th>4</th>\n",
       "      <td>3600</td>\n",
       "      <td>small</td>\n",
       "      <td>2008</td>\n",
       "      <td>manual</td>\n",
       "      <td>69</td>\n",
       "      <td>fabia</td>\n",
       "      <td>90000</td>\n",
       "      <td>7</td>\n",
       "      <td>gasoline</td>\n",
       "      <td>skoda</td>\n",
       "      <td>no</td>\n",
       "    </tr>\n",
       "    <tr>\n",
       "      <th>5</th>\n",
       "      <td>650</td>\n",
       "      <td>sedan</td>\n",
       "      <td>1995</td>\n",
       "      <td>manual</td>\n",
       "      <td>102</td>\n",
       "      <td>3er</td>\n",
       "      <td>150000</td>\n",
       "      <td>10</td>\n",
       "      <td>petrol</td>\n",
       "      <td>bmw</td>\n",
       "      <td>yes</td>\n",
       "    </tr>\n",
       "  </tbody>\n",
       "</table>\n",
       "</div>"
      ],
      "text/plain": [
       "   price vehicle_type  registration_year gearbox  power  model  kilometer  \\\n",
       "0    480        sedan               1993  manual      0   golf     150000   \n",
       "2   9800          suv               2004    auto    163  grand     125000   \n",
       "3   1500        small               2001  manual     75   golf     150000   \n",
       "4   3600        small               2008  manual     69  fabia      90000   \n",
       "5    650        sedan               1995  manual    102    3er     150000   \n",
       "\n",
       "   registration_month fuel_type       brand not_repaired  \n",
       "0                   1    petrol  volkswagen           no  \n",
       "2                   8  gasoline        jeep           no  \n",
       "3                   6    petrol  volkswagen           no  \n",
       "4                   7  gasoline       skoda           no  \n",
       "5                  10    petrol         bmw          yes  "
      ]
     },
     "execution_count": 43,
     "metadata": {},
     "output_type": "execute_result"
    }
   ],
   "source": [
    "df.head()"
   ]
  },
  {
   "cell_type": "markdown",
   "metadata": {},
   "source": [
    "Поскольку модели машинного обучения могут обрабатывать только числовые данные, то нужно все категориальные данные перевести в числовые."
   ]
  },
  {
   "cell_type": "code",
   "execution_count": 44,
   "metadata": {},
   "outputs": [],
   "source": [
    "df_tree = pd.get_dummies(df, drop_first=True)\n",
    "df_linear = pd.get_dummies(df, drop_first=True)"
   ]
  },
  {
   "cell_type": "code",
   "execution_count": 45,
   "metadata": {
    "scrolled": false
   },
   "outputs": [
    {
     "data": {
      "text/html": [
       "<div>\n",
       "<style scoped>\n",
       "    .dataframe tbody tr th:only-of-type {\n",
       "        vertical-align: middle;\n",
       "    }\n",
       "\n",
       "    .dataframe tbody tr th {\n",
       "        vertical-align: top;\n",
       "    }\n",
       "\n",
       "    .dataframe thead th {\n",
       "        text-align: right;\n",
       "    }\n",
       "</style>\n",
       "<table border=\"1\" class=\"dataframe\">\n",
       "  <thead>\n",
       "    <tr style=\"text-align: right;\">\n",
       "      <th></th>\n",
       "      <th>price</th>\n",
       "      <th>registration_year</th>\n",
       "      <th>power</th>\n",
       "      <th>kilometer</th>\n",
       "      <th>registration_month</th>\n",
       "      <th>vehicle_type_convertible</th>\n",
       "      <th>vehicle_type_coupe</th>\n",
       "      <th>vehicle_type_other</th>\n",
       "      <th>vehicle_type_sedan</th>\n",
       "      <th>vehicle_type_small</th>\n",
       "      <th>...</th>\n",
       "      <th>brand_skoda</th>\n",
       "      <th>brand_smart</th>\n",
       "      <th>brand_sonstige_autos</th>\n",
       "      <th>brand_subaru</th>\n",
       "      <th>brand_suzuki</th>\n",
       "      <th>brand_toyota</th>\n",
       "      <th>brand_trabant</th>\n",
       "      <th>brand_volkswagen</th>\n",
       "      <th>brand_volvo</th>\n",
       "      <th>not_repaired_yes</th>\n",
       "    </tr>\n",
       "  </thead>\n",
       "  <tbody>\n",
       "    <tr>\n",
       "      <th>0</th>\n",
       "      <td>480</td>\n",
       "      <td>1993</td>\n",
       "      <td>0</td>\n",
       "      <td>150000</td>\n",
       "      <td>1</td>\n",
       "      <td>0</td>\n",
       "      <td>0</td>\n",
       "      <td>0</td>\n",
       "      <td>1</td>\n",
       "      <td>0</td>\n",
       "      <td>...</td>\n",
       "      <td>0</td>\n",
       "      <td>0</td>\n",
       "      <td>0</td>\n",
       "      <td>0</td>\n",
       "      <td>0</td>\n",
       "      <td>0</td>\n",
       "      <td>0</td>\n",
       "      <td>1</td>\n",
       "      <td>0</td>\n",
       "      <td>0</td>\n",
       "    </tr>\n",
       "    <tr>\n",
       "      <th>2</th>\n",
       "      <td>9800</td>\n",
       "      <td>2004</td>\n",
       "      <td>163</td>\n",
       "      <td>125000</td>\n",
       "      <td>8</td>\n",
       "      <td>0</td>\n",
       "      <td>0</td>\n",
       "      <td>0</td>\n",
       "      <td>0</td>\n",
       "      <td>0</td>\n",
       "      <td>...</td>\n",
       "      <td>0</td>\n",
       "      <td>0</td>\n",
       "      <td>0</td>\n",
       "      <td>0</td>\n",
       "      <td>0</td>\n",
       "      <td>0</td>\n",
       "      <td>0</td>\n",
       "      <td>0</td>\n",
       "      <td>0</td>\n",
       "      <td>0</td>\n",
       "    </tr>\n",
       "    <tr>\n",
       "      <th>3</th>\n",
       "      <td>1500</td>\n",
       "      <td>2001</td>\n",
       "      <td>75</td>\n",
       "      <td>150000</td>\n",
       "      <td>6</td>\n",
       "      <td>0</td>\n",
       "      <td>0</td>\n",
       "      <td>0</td>\n",
       "      <td>0</td>\n",
       "      <td>1</td>\n",
       "      <td>...</td>\n",
       "      <td>0</td>\n",
       "      <td>0</td>\n",
       "      <td>0</td>\n",
       "      <td>0</td>\n",
       "      <td>0</td>\n",
       "      <td>0</td>\n",
       "      <td>0</td>\n",
       "      <td>1</td>\n",
       "      <td>0</td>\n",
       "      <td>0</td>\n",
       "    </tr>\n",
       "    <tr>\n",
       "      <th>4</th>\n",
       "      <td>3600</td>\n",
       "      <td>2008</td>\n",
       "      <td>69</td>\n",
       "      <td>90000</td>\n",
       "      <td>7</td>\n",
       "      <td>0</td>\n",
       "      <td>0</td>\n",
       "      <td>0</td>\n",
       "      <td>0</td>\n",
       "      <td>1</td>\n",
       "      <td>...</td>\n",
       "      <td>1</td>\n",
       "      <td>0</td>\n",
       "      <td>0</td>\n",
       "      <td>0</td>\n",
       "      <td>0</td>\n",
       "      <td>0</td>\n",
       "      <td>0</td>\n",
       "      <td>0</td>\n",
       "      <td>0</td>\n",
       "      <td>0</td>\n",
       "    </tr>\n",
       "    <tr>\n",
       "      <th>5</th>\n",
       "      <td>650</td>\n",
       "      <td>1995</td>\n",
       "      <td>102</td>\n",
       "      <td>150000</td>\n",
       "      <td>10</td>\n",
       "      <td>0</td>\n",
       "      <td>0</td>\n",
       "      <td>0</td>\n",
       "      <td>1</td>\n",
       "      <td>0</td>\n",
       "      <td>...</td>\n",
       "      <td>0</td>\n",
       "      <td>0</td>\n",
       "      <td>0</td>\n",
       "      <td>0</td>\n",
       "      <td>0</td>\n",
       "      <td>0</td>\n",
       "      <td>0</td>\n",
       "      <td>0</td>\n",
       "      <td>0</td>\n",
       "      <td>1</td>\n",
       "    </tr>\n",
       "  </tbody>\n",
       "</table>\n",
       "<p>5 rows × 307 columns</p>\n",
       "</div>"
      ],
      "text/plain": [
       "   price  registration_year  power  kilometer  registration_month  \\\n",
       "0    480               1993      0     150000                   1   \n",
       "2   9800               2004    163     125000                   8   \n",
       "3   1500               2001     75     150000                   6   \n",
       "4   3600               2008     69      90000                   7   \n",
       "5    650               1995    102     150000                  10   \n",
       "\n",
       "   vehicle_type_convertible  vehicle_type_coupe  vehicle_type_other  \\\n",
       "0                         0                   0                   0   \n",
       "2                         0                   0                   0   \n",
       "3                         0                   0                   0   \n",
       "4                         0                   0                   0   \n",
       "5                         0                   0                   0   \n",
       "\n",
       "   vehicle_type_sedan  vehicle_type_small  ...  brand_skoda  brand_smart  \\\n",
       "0                   1                   0  ...            0            0   \n",
       "2                   0                   0  ...            0            0   \n",
       "3                   0                   1  ...            0            0   \n",
       "4                   0                   1  ...            1            0   \n",
       "5                   1                   0  ...            0            0   \n",
       "\n",
       "   brand_sonstige_autos  brand_subaru  brand_suzuki  brand_toyota  \\\n",
       "0                     0             0             0             0   \n",
       "2                     0             0             0             0   \n",
       "3                     0             0             0             0   \n",
       "4                     0             0             0             0   \n",
       "5                     0             0             0             0   \n",
       "\n",
       "   brand_trabant  brand_volkswagen  brand_volvo  not_repaired_yes  \n",
       "0              0                 1            0                 0  \n",
       "2              0                 0            0                 0  \n",
       "3              0                 1            0                 0  \n",
       "4              0                 0            0                 0  \n",
       "5              0                 0            0                 1  \n",
       "\n",
       "[5 rows x 307 columns]"
      ]
     },
     "execution_count": 45,
     "metadata": {},
     "output_type": "execute_result"
    }
   ],
   "source": [
    "# код ревьюера\n",
    "df_tree.head()"
   ]
  },
  {
   "cell_type": "code",
   "execution_count": 46,
   "metadata": {},
   "outputs": [
    {
     "data": {
      "text/html": [
       "<div>\n",
       "<style scoped>\n",
       "    .dataframe tbody tr th:only-of-type {\n",
       "        vertical-align: middle;\n",
       "    }\n",
       "\n",
       "    .dataframe tbody tr th {\n",
       "        vertical-align: top;\n",
       "    }\n",
       "\n",
       "    .dataframe thead th {\n",
       "        text-align: right;\n",
       "    }\n",
       "</style>\n",
       "<table border=\"1\" class=\"dataframe\">\n",
       "  <thead>\n",
       "    <tr style=\"text-align: right;\">\n",
       "      <th></th>\n",
       "      <th>price</th>\n",
       "      <th>vehicle_type</th>\n",
       "      <th>registration_year</th>\n",
       "      <th>gearbox</th>\n",
       "      <th>power</th>\n",
       "      <th>model</th>\n",
       "      <th>kilometer</th>\n",
       "      <th>registration_month</th>\n",
       "      <th>fuel_type</th>\n",
       "      <th>brand</th>\n",
       "      <th>not_repaired</th>\n",
       "    </tr>\n",
       "  </thead>\n",
       "  <tbody>\n",
       "    <tr>\n",
       "      <th>0</th>\n",
       "      <td>480</td>\n",
       "      <td>sedan</td>\n",
       "      <td>1993</td>\n",
       "      <td>manual</td>\n",
       "      <td>0</td>\n",
       "      <td>golf</td>\n",
       "      <td>150000</td>\n",
       "      <td>1</td>\n",
       "      <td>petrol</td>\n",
       "      <td>volkswagen</td>\n",
       "      <td>no</td>\n",
       "    </tr>\n",
       "    <tr>\n",
       "      <th>2</th>\n",
       "      <td>9800</td>\n",
       "      <td>suv</td>\n",
       "      <td>2004</td>\n",
       "      <td>auto</td>\n",
       "      <td>163</td>\n",
       "      <td>grand</td>\n",
       "      <td>125000</td>\n",
       "      <td>8</td>\n",
       "      <td>gasoline</td>\n",
       "      <td>jeep</td>\n",
       "      <td>no</td>\n",
       "    </tr>\n",
       "    <tr>\n",
       "      <th>3</th>\n",
       "      <td>1500</td>\n",
       "      <td>small</td>\n",
       "      <td>2001</td>\n",
       "      <td>manual</td>\n",
       "      <td>75</td>\n",
       "      <td>golf</td>\n",
       "      <td>150000</td>\n",
       "      <td>6</td>\n",
       "      <td>petrol</td>\n",
       "      <td>volkswagen</td>\n",
       "      <td>no</td>\n",
       "    </tr>\n",
       "    <tr>\n",
       "      <th>4</th>\n",
       "      <td>3600</td>\n",
       "      <td>small</td>\n",
       "      <td>2008</td>\n",
       "      <td>manual</td>\n",
       "      <td>69</td>\n",
       "      <td>fabia</td>\n",
       "      <td>90000</td>\n",
       "      <td>7</td>\n",
       "      <td>gasoline</td>\n",
       "      <td>skoda</td>\n",
       "      <td>no</td>\n",
       "    </tr>\n",
       "    <tr>\n",
       "      <th>5</th>\n",
       "      <td>650</td>\n",
       "      <td>sedan</td>\n",
       "      <td>1995</td>\n",
       "      <td>manual</td>\n",
       "      <td>102</td>\n",
       "      <td>3er</td>\n",
       "      <td>150000</td>\n",
       "      <td>10</td>\n",
       "      <td>petrol</td>\n",
       "      <td>bmw</td>\n",
       "      <td>yes</td>\n",
       "    </tr>\n",
       "  </tbody>\n",
       "</table>\n",
       "</div>"
      ],
      "text/plain": [
       "   price vehicle_type  registration_year gearbox  power  model  kilometer  \\\n",
       "0    480        sedan               1993  manual      0   golf     150000   \n",
       "2   9800          suv               2004    auto    163  grand     125000   \n",
       "3   1500        small               2001  manual     75   golf     150000   \n",
       "4   3600        small               2008  manual     69  fabia      90000   \n",
       "5    650        sedan               1995  manual    102    3er     150000   \n",
       "\n",
       "   registration_month fuel_type       brand not_repaired  \n",
       "0                   1    petrol  volkswagen           no  \n",
       "2                   8  gasoline        jeep           no  \n",
       "3                   6    petrol  volkswagen           no  \n",
       "4                   7  gasoline       skoda           no  \n",
       "5                  10    petrol         bmw          yes  "
      ]
     },
     "execution_count": 46,
     "metadata": {},
     "output_type": "execute_result"
    }
   ],
   "source": [
    "df.head()"
   ]
  },
  {
   "cell_type": "code",
   "execution_count": 47,
   "metadata": {},
   "outputs": [],
   "source": [
    "df_xgb = df.copy()\n",
    "df_xgb = df_xgb.astype({\n",
    "    'vehicle_type': 'category',\n",
    "    'gearbox': 'category',\n",
    "    'model': 'category',\n",
    "    'fuel_type': 'category',\n",
    "    'brand': 'category',\n",
    "    'not_repaired': 'category'\n",
    "})\n",
    "df = df_xgb"
   ]
  },
  {
   "cell_type": "code",
   "execution_count": 48,
   "metadata": {},
   "outputs": [],
   "source": [
    "train = df.drop('price', 1)\n",
    "target = df['price']\n",
    "train_xgb = df_xgb.drop('price', 1)\n",
    "target_xgb = df_xgb['price']\n",
    "train_tree = df_tree.drop('price', 1)\n",
    "target_tree = df_tree['price']\n",
    "train_lin = df_linear.drop('price', 1)\n",
    "target_lin = df_linear['price']"
   ]
  },
  {
   "cell_type": "code",
   "execution_count": 49,
   "metadata": {
    "scrolled": true
   },
   "outputs": [],
   "source": [
    "train_features,test_features, train_target, test_target = train_test_split(train, target, test_size=0.25, random_state=12345)\n",
    "train_features_xgb,test_features_xgb, train_target_xgb, test_target_xgb = train_test_split(train_xgb, target_xgb, test_size=0.25, random_state=12345)\n",
    "train_features_tree,test_features_tree, train_target_tree, test_target_tree = train_test_split(train_tree, target_tree, test_size=0.25, random_state=12345)\n",
    "train_features_lin,test_features_lin, train_target_lin, test_target_lin = train_test_split(train_lin, target_lin, test_size=0.25, random_state=12345)"
   ]
  },
  {
   "cell_type": "code",
   "execution_count": 50,
   "metadata": {},
   "outputs": [
    {
     "data": {
      "text/plain": [
       "250389"
      ]
     },
     "execution_count": 50,
     "metadata": {},
     "output_type": "execute_result"
    }
   ],
   "source": [
    "train_features.shape[0]"
   ]
  },
  {
   "cell_type": "code",
   "execution_count": 51,
   "metadata": {},
   "outputs": [
    {
     "data": {
      "text/plain": [
       "250389"
      ]
     },
     "execution_count": 51,
     "metadata": {},
     "output_type": "execute_result"
    }
   ],
   "source": [
    "train_target.shape[0]"
   ]
  },
  {
   "cell_type": "markdown",
   "metadata": {},
   "source": [
    "**Выводы**"
   ]
  },
  {
   "cell_type": "markdown",
   "metadata": {},
   "source": [
    "бнаружено много пропусков (окло 20% от всех данных). Удаление пропусков приведёт к потерям множества нужных данных. В связи с этим необходимо восполнить пропуски. Столбцы fuel_type, vehicle_type, gearbox будут заполнены по методу большинства. Столбец model будет заполнена по методу большинства исходя из большинства колонок той же фирмы автомобиля. Столбец not_repaired будет заполнен как 'no', так как скорее всего машина в ремонте не была.\n",
    "Датафрейм очищен от дубликатов.\n",
    "\n",
    "**Замечания в данных**\n",
    "1. размах цен слишком большой и имеет высокий уровень стандартного отклонения. Необходимо будет избавиться от выбросов.\n",
    "2. дата регистрации начинается с 1000 года и заканчивается 9999 годом. обозначим интервал следующим образом: от 1900 года до 2022 года.\n",
    "3. Лошадиные силы у автомобиля достигают 20000. Согласно [рейтингу самых мощных автомобилей в мире](https://cars-rating.ru/legkovye/samye-moshhnye-avtomobili-v-mire) количество лошадиных сил не может превышать 5000. А вторая машина по мощноти имеет 2500 л.с. Эта цифра и будет нашей верхней границей, так как моделей с самой сильной мощностью всего 3 в мире, а выбросов только по России гораздо больше.\n",
    "3. Месяц регистрации автомобилей равный 0 присвоим значение 1.\n",
    "4. Столбцы \"number_of_pictures\", \"date_crawled\",\"date_created\",\"last_seen\",\"postal_code\" удалим, так как они не содержат в себе полезную информацию, влияющую на стоимость автомобиля.\n",
    "\n",
    "Согласно данным из диаграммы размаха можно сделать вывод, что выбросами считается показатель стоимости, превышающий 14000.\n",
    "\n",
    "После очистки датасета от выбросов общая доль потерь в данных составила: 0.058160535494576227\n",
    "\n",
    "Поскольку модели машинного обучения могут обрабатывать только числовые данные, то нужно все категориальные данные перевести в числовые. Разделим исходную выборку на обучающую и тестовую в пропорции 75% на 25%."
   ]
  },
  {
   "cell_type": "markdown",
   "metadata": {},
   "source": [
    "## Анализ моделей"
   ]
  },
  {
   "cell_type": "code",
   "execution_count": 77,
   "metadata": {},
   "outputs": [],
   "source": [
    "model_list = ['Tree', 'Forest', 'LR', 'LightGBM', 'Catboost']\n",
    "learn_predict_list = [['13 min', '10 min', '32 s', '8.17 s', '3 min'], ['209 ms', '354 ms', '389 ms', '1.39 s', '585 ms'], [1608, 1570, 2339, 1490, 1431]]\n"
   ]
  },
  {
   "cell_type": "code",
   "execution_count": 53,
   "metadata": {},
   "outputs": [],
   "source": [
    "param_set = {\n",
    "    'random_state': [12345],\n",
    "    'min_samples_split': [2, 3, 4, 5],\n",
    "    'min_samples_leaf': [1, 2, 3, 4, 5, 6]\n",
    "}\n",
    "grid_search = GridSearchCV(estimator=DecisionTreeRegressor(), param_grid=param_set, cv=3, scoring= 'neg_root_mean_squared_error')\n"
   ]
  },
  {
   "cell_type": "markdown",
   "metadata": {},
   "source": [
    "Время обучения дерева решений"
   ]
  },
  {
   "cell_type": "code",
   "execution_count": 54,
   "metadata": {},
   "outputs": [
    {
     "name": "stdout",
     "output_type": "stream",
     "text": [
      "CPU times: user 8min 56s, sys: 4min 43s, total: 13min 40s\n",
      "Wall time: 13min 56s\n"
     ]
    },
    {
     "data": {
      "text/plain": [
       "GridSearchCV(cv=3, estimator=DecisionTreeRegressor(),\n",
       "             param_grid={'min_samples_leaf': [1, 2, 3, 4, 5, 6],\n",
       "                         'min_samples_split': [2, 3, 4, 5],\n",
       "                         'random_state': [12345]},\n",
       "             scoring='neg_root_mean_squared_error')"
      ]
     },
     "execution_count": 54,
     "metadata": {},
     "output_type": "execute_result"
    }
   ],
   "source": [
    "%%time\n",
    "grid_search.fit(train_features_tree, train_target_tree)"
   ]
  },
  {
   "cell_type": "markdown",
   "metadata": {},
   "source": [
    "время предсказания модели дерева решений"
   ]
  },
  {
   "cell_type": "code",
   "execution_count": 55,
   "metadata": {},
   "outputs": [
    {
     "name": "stdout",
     "output_type": "stream",
     "text": [
      "CPU times: user 141 ms, sys: 66.7 ms, total: 208 ms\n",
      "Wall time: 209 ms\n"
     ]
    }
   ],
   "source": [
    "%%time\n",
    "best_model = grid_search.best_estimator_\n",
    "predict = best_model.predict(test_features_tree)"
   ]
  },
  {
   "cell_type": "code",
   "execution_count": 56,
   "metadata": {},
   "outputs": [
    {
     "name": "stdout",
     "output_type": "stream",
     "text": [
      "Лучший показатель rmse у модели дерева решений: 1608.332951184132\n"
     ]
    }
   ],
   "source": [
    "print('Лучший показатель rmse у модели дерева решений:', mean_squared_error(test_target_tree, predict, squared=False))"
   ]
  },
  {
   "cell_type": "code",
   "execution_count": 57,
   "metadata": {},
   "outputs": [],
   "source": [
    "param_set = {\n",
    "    'max_depth': [10, 30, 50],\n",
    "    'n_estimators': [4],\n",
    "    'random_state':[12345]\n",
    "}\n",
    "    \n",
    "model = RandomForestRegressor(random_state=12345)\n",
    "\n",
    "gscv_forest = GridSearchCV(estimator=model, param_grid=param_set, cv=5)"
   ]
  },
  {
   "cell_type": "markdown",
   "metadata": {},
   "source": [
    "Время обучения"
   ]
  },
  {
   "cell_type": "code",
   "execution_count": 58,
   "metadata": {},
   "outputs": [
    {
     "name": "stdout",
     "output_type": "stream",
     "text": [
      "CPU times: user 5min 54s, sys: 4min 34s, total: 10min 29s\n",
      "Wall time: 10min 37s\n"
     ]
    },
    {
     "data": {
      "text/plain": [
       "GridSearchCV(cv=5, estimator=RandomForestRegressor(random_state=12345),\n",
       "             param_grid={'max_depth': [10, 30, 50], 'n_estimators': [4],\n",
       "                         'random_state': [12345]})"
      ]
     },
     "execution_count": 58,
     "metadata": {},
     "output_type": "execute_result"
    }
   ],
   "source": [
    "%%time\n",
    "gscv_forest.fit(train_features_tree, train_target_tree)"
   ]
  },
  {
   "cell_type": "markdown",
   "metadata": {},
   "source": [
    "время предсказания модели случайного леса"
   ]
  },
  {
   "cell_type": "code",
   "execution_count": 59,
   "metadata": {},
   "outputs": [
    {
     "name": "stdout",
     "output_type": "stream",
     "text": [
      "CPU times: user 282 ms, sys: 62.9 ms, total: 345 ms\n",
      "Wall time: 354 ms\n"
     ]
    }
   ],
   "source": [
    "%%time\n",
    "best_model = gscv_forest.best_estimator_\n",
    "predictions = best_model.predict(test_features_tree)"
   ]
  },
  {
   "cell_type": "code",
   "execution_count": 60,
   "metadata": {},
   "outputs": [
    {
     "name": "stdout",
     "output_type": "stream",
     "text": [
      "Лучший показатель rmse у случайного леса равен 1570.591072962454\n"
     ]
    }
   ],
   "source": [
    "print('Лучший показатель rmse у случайного леса равен', mean_squared_error(test_target_tree, predictions, squared=False))"
   ]
  },
  {
   "cell_type": "code",
   "execution_count": 61,
   "metadata": {},
   "outputs": [],
   "source": [
    "model = LinearRegression()\n"
   ]
  },
  {
   "cell_type": "markdown",
   "metadata": {},
   "source": [
    "Время обучения линейной регрессии"
   ]
  },
  {
   "cell_type": "code",
   "execution_count": 62,
   "metadata": {},
   "outputs": [
    {
     "name": "stdout",
     "output_type": "stream",
     "text": [
      "CPU times: user 24.2 s, sys: 7.8 s, total: 32 s\n",
      "Wall time: 32.1 s\n"
     ]
    },
    {
     "data": {
      "text/plain": [
       "LinearRegression()"
      ]
     },
     "execution_count": 62,
     "metadata": {},
     "output_type": "execute_result"
    }
   ],
   "source": [
    "%%time\n",
    "model.fit(train_features_lin, train_target_lin)"
   ]
  },
  {
   "cell_type": "markdown",
   "metadata": {},
   "source": [
    "время предсказания линейной регрессии"
   ]
  },
  {
   "cell_type": "code",
   "execution_count": 63,
   "metadata": {},
   "outputs": [
    {
     "name": "stdout",
     "output_type": "stream",
     "text": [
      "CPU times: user 255 ms, sys: 160 ms, total: 415 ms\n",
      "Wall time: 389 ms\n"
     ]
    }
   ],
   "source": [
    "%%time\n",
    "predictions = model.predict(test_features_lin)"
   ]
  },
  {
   "cell_type": "code",
   "execution_count": 64,
   "metadata": {
    "scrolled": true
   },
   "outputs": [
    {
     "name": "stdout",
     "output_type": "stream",
     "text": [
      "Лучший показатель rmse у модели линейной регрессии равен 2339.462311499843\n"
     ]
    }
   ],
   "source": [
    "print('Лучший показатель rmse у модели линейной регрессии равен', mean_squared_error(test_target_lin, predictions, squared=False))"
   ]
  },
  {
   "cell_type": "markdown",
   "metadata": {},
   "source": [
    "**LightGBM**"
   ]
  },
  {
   "cell_type": "code",
   "execution_count": 65,
   "metadata": {},
   "outputs": [
    {
     "data": {
      "text/html": [
       "<div>\n",
       "<style scoped>\n",
       "    .dataframe tbody tr th:only-of-type {\n",
       "        vertical-align: middle;\n",
       "    }\n",
       "\n",
       "    .dataframe tbody tr th {\n",
       "        vertical-align: top;\n",
       "    }\n",
       "\n",
       "    .dataframe thead th {\n",
       "        text-align: right;\n",
       "    }\n",
       "</style>\n",
       "<table border=\"1\" class=\"dataframe\">\n",
       "  <thead>\n",
       "    <tr style=\"text-align: right;\">\n",
       "      <th></th>\n",
       "      <th>price</th>\n",
       "      <th>vehicle_type</th>\n",
       "      <th>registration_year</th>\n",
       "      <th>gearbox</th>\n",
       "      <th>power</th>\n",
       "      <th>model</th>\n",
       "      <th>kilometer</th>\n",
       "      <th>registration_month</th>\n",
       "      <th>fuel_type</th>\n",
       "      <th>brand</th>\n",
       "      <th>not_repaired</th>\n",
       "    </tr>\n",
       "  </thead>\n",
       "  <tbody>\n",
       "    <tr>\n",
       "      <th>0</th>\n",
       "      <td>480</td>\n",
       "      <td>sedan</td>\n",
       "      <td>1993</td>\n",
       "      <td>manual</td>\n",
       "      <td>0</td>\n",
       "      <td>golf</td>\n",
       "      <td>150000</td>\n",
       "      <td>1</td>\n",
       "      <td>petrol</td>\n",
       "      <td>volkswagen</td>\n",
       "      <td>no</td>\n",
       "    </tr>\n",
       "    <tr>\n",
       "      <th>2</th>\n",
       "      <td>9800</td>\n",
       "      <td>suv</td>\n",
       "      <td>2004</td>\n",
       "      <td>auto</td>\n",
       "      <td>163</td>\n",
       "      <td>grand</td>\n",
       "      <td>125000</td>\n",
       "      <td>8</td>\n",
       "      <td>gasoline</td>\n",
       "      <td>jeep</td>\n",
       "      <td>no</td>\n",
       "    </tr>\n",
       "    <tr>\n",
       "      <th>3</th>\n",
       "      <td>1500</td>\n",
       "      <td>small</td>\n",
       "      <td>2001</td>\n",
       "      <td>manual</td>\n",
       "      <td>75</td>\n",
       "      <td>golf</td>\n",
       "      <td>150000</td>\n",
       "      <td>6</td>\n",
       "      <td>petrol</td>\n",
       "      <td>volkswagen</td>\n",
       "      <td>no</td>\n",
       "    </tr>\n",
       "    <tr>\n",
       "      <th>4</th>\n",
       "      <td>3600</td>\n",
       "      <td>small</td>\n",
       "      <td>2008</td>\n",
       "      <td>manual</td>\n",
       "      <td>69</td>\n",
       "      <td>fabia</td>\n",
       "      <td>90000</td>\n",
       "      <td>7</td>\n",
       "      <td>gasoline</td>\n",
       "      <td>skoda</td>\n",
       "      <td>no</td>\n",
       "    </tr>\n",
       "    <tr>\n",
       "      <th>5</th>\n",
       "      <td>650</td>\n",
       "      <td>sedan</td>\n",
       "      <td>1995</td>\n",
       "      <td>manual</td>\n",
       "      <td>102</td>\n",
       "      <td>3er</td>\n",
       "      <td>150000</td>\n",
       "      <td>10</td>\n",
       "      <td>petrol</td>\n",
       "      <td>bmw</td>\n",
       "      <td>yes</td>\n",
       "    </tr>\n",
       "  </tbody>\n",
       "</table>\n",
       "</div>"
      ],
      "text/plain": [
       "   price vehicle_type  registration_year gearbox  power  model  kilometer  \\\n",
       "0    480        sedan               1993  manual      0   golf     150000   \n",
       "2   9800          suv               2004    auto    163  grand     125000   \n",
       "3   1500        small               2001  manual     75   golf     150000   \n",
       "4   3600        small               2008  manual     69  fabia      90000   \n",
       "5    650        sedan               1995  manual    102    3er     150000   \n",
       "\n",
       "   registration_month fuel_type       brand not_repaired  \n",
       "0                   1    petrol  volkswagen           no  \n",
       "2                   8  gasoline        jeep           no  \n",
       "3                   6    petrol  volkswagen           no  \n",
       "4                   7  gasoline       skoda           no  \n",
       "5                  10    petrol         bmw          yes  "
      ]
     },
     "execution_count": 65,
     "metadata": {},
     "output_type": "execute_result"
    }
   ],
   "source": [
    "df.head()"
   ]
  },
  {
   "cell_type": "code",
   "execution_count": 66,
   "metadata": {
    "scrolled": true
   },
   "outputs": [
    {
     "name": "stdout",
     "output_type": "stream",
     "text": [
      "CPU times: user 31 µs, sys: 19 µs, total: 50 µs\n",
      "Wall time: 55.8 µs\n"
     ]
    }
   ],
   "source": [
    "%%time\n",
    "#LightGBM\n",
    "train = lgb.Dataset(train_features_xgb, train_target_xgb)\n",
    "test = lgb.Dataset(test_features_xgb, test_target_xgb)\n",
    "params = {\n",
    "    'metric': 'l2',\n",
    "    'max_depth': 10,\n",
    "    'random_state': 12345,\n",
    "    'learning_rate': 0.1\n",
    "}\n"
   ]
  },
  {
   "cell_type": "markdown",
   "metadata": {},
   "source": [
    "Время обучения LightGBM"
   ]
  },
  {
   "cell_type": "code",
   "execution_count": 67,
   "metadata": {},
   "outputs": [
    {
     "name": "stdout",
     "output_type": "stream",
     "text": [
      "[LightGBM] [Warning] Accuracy may be bad since you didn't explicitly set num_leaves OR 2^max_depth > num_leaves. (num_leaves=31).\n",
      "[LightGBM] [Warning] Accuracy may be bad since you didn't explicitly set num_leaves OR 2^max_depth > num_leaves. (num_leaves=31).\n",
      "[LightGBM] [Warning] Auto-choosing row-wise multi-threading, the overhead of testing was 0.170385 seconds.\n",
      "You can set `force_row_wise=true` to remove the overhead.\n",
      "And if memory is not enough, you can set `force_col_wise=true`.\n",
      "[LightGBM] [Info] Total Bins 656\n",
      "[LightGBM] [Info] Number of data points in the train set: 250389, number of used features: 10\n",
      "[LightGBM] [Info] Start training from score 3669.792723\n",
      "CPU times: user 7.93 s, sys: 165 ms, total: 8.1 s\n",
      "Wall time: 8.17 s\n"
     ]
    }
   ],
   "source": [
    "%%time\n",
    "light = lgb.train(params, train, num_boost_round = 100, verbose_eval=100)"
   ]
  },
  {
   "cell_type": "markdown",
   "metadata": {},
   "source": [
    "время предсказания LightGBM"
   ]
  },
  {
   "cell_type": "code",
   "execution_count": 68,
   "metadata": {},
   "outputs": [
    {
     "name": "stdout",
     "output_type": "stream",
     "text": [
      "CPU times: user 1.32 s, sys: 2.3 ms, total: 1.32 s\n",
      "Wall time: 1.39 s\n"
     ]
    }
   ],
   "source": [
    "%%time\n",
    "predict = light.predict(test_features_xgb)"
   ]
  },
  {
   "cell_type": "code",
   "execution_count": 69,
   "metadata": {},
   "outputs": [
    {
     "name": "stdout",
     "output_type": "stream",
     "text": [
      "Лучший показатель rmse методом градиентного бустинга через LightGBM 1490.515755541264\n"
     ]
    }
   ],
   "source": [
    "print('Лучший показатель rmse методом градиентного бустинга через LightGBM', mean_squared_error(test_target_xgb, predict, squared=False))"
   ]
  },
  {
   "cell_type": "markdown",
   "metadata": {},
   "source": [
    "**CatBoost**"
   ]
  },
  {
   "cell_type": "code",
   "execution_count": 70,
   "metadata": {},
   "outputs": [
    {
     "data": {
      "text/html": [
       "<div>\n",
       "<style scoped>\n",
       "    .dataframe tbody tr th:only-of-type {\n",
       "        vertical-align: middle;\n",
       "    }\n",
       "\n",
       "    .dataframe tbody tr th {\n",
       "        vertical-align: top;\n",
       "    }\n",
       "\n",
       "    .dataframe thead th {\n",
       "        text-align: right;\n",
       "    }\n",
       "</style>\n",
       "<table border=\"1\" class=\"dataframe\">\n",
       "  <thead>\n",
       "    <tr style=\"text-align: right;\">\n",
       "      <th></th>\n",
       "      <th>price</th>\n",
       "      <th>vehicle_type</th>\n",
       "      <th>registration_year</th>\n",
       "      <th>gearbox</th>\n",
       "      <th>power</th>\n",
       "      <th>model</th>\n",
       "      <th>kilometer</th>\n",
       "      <th>registration_month</th>\n",
       "      <th>fuel_type</th>\n",
       "      <th>brand</th>\n",
       "      <th>not_repaired</th>\n",
       "    </tr>\n",
       "  </thead>\n",
       "  <tbody>\n",
       "    <tr>\n",
       "      <th>0</th>\n",
       "      <td>480</td>\n",
       "      <td>sedan</td>\n",
       "      <td>1993</td>\n",
       "      <td>manual</td>\n",
       "      <td>0</td>\n",
       "      <td>golf</td>\n",
       "      <td>150000</td>\n",
       "      <td>1</td>\n",
       "      <td>petrol</td>\n",
       "      <td>volkswagen</td>\n",
       "      <td>no</td>\n",
       "    </tr>\n",
       "    <tr>\n",
       "      <th>2</th>\n",
       "      <td>9800</td>\n",
       "      <td>suv</td>\n",
       "      <td>2004</td>\n",
       "      <td>auto</td>\n",
       "      <td>163</td>\n",
       "      <td>grand</td>\n",
       "      <td>125000</td>\n",
       "      <td>8</td>\n",
       "      <td>gasoline</td>\n",
       "      <td>jeep</td>\n",
       "      <td>no</td>\n",
       "    </tr>\n",
       "    <tr>\n",
       "      <th>3</th>\n",
       "      <td>1500</td>\n",
       "      <td>small</td>\n",
       "      <td>2001</td>\n",
       "      <td>manual</td>\n",
       "      <td>75</td>\n",
       "      <td>golf</td>\n",
       "      <td>150000</td>\n",
       "      <td>6</td>\n",
       "      <td>petrol</td>\n",
       "      <td>volkswagen</td>\n",
       "      <td>no</td>\n",
       "    </tr>\n",
       "    <tr>\n",
       "      <th>4</th>\n",
       "      <td>3600</td>\n",
       "      <td>small</td>\n",
       "      <td>2008</td>\n",
       "      <td>manual</td>\n",
       "      <td>69</td>\n",
       "      <td>fabia</td>\n",
       "      <td>90000</td>\n",
       "      <td>7</td>\n",
       "      <td>gasoline</td>\n",
       "      <td>skoda</td>\n",
       "      <td>no</td>\n",
       "    </tr>\n",
       "    <tr>\n",
       "      <th>5</th>\n",
       "      <td>650</td>\n",
       "      <td>sedan</td>\n",
       "      <td>1995</td>\n",
       "      <td>manual</td>\n",
       "      <td>102</td>\n",
       "      <td>3er</td>\n",
       "      <td>150000</td>\n",
       "      <td>10</td>\n",
       "      <td>petrol</td>\n",
       "      <td>bmw</td>\n",
       "      <td>yes</td>\n",
       "    </tr>\n",
       "  </tbody>\n",
       "</table>\n",
       "</div>"
      ],
      "text/plain": [
       "   price vehicle_type  registration_year gearbox  power  model  kilometer  \\\n",
       "0    480        sedan               1993  manual      0   golf     150000   \n",
       "2   9800          suv               2004    auto    163  grand     125000   \n",
       "3   1500        small               2001  manual     75   golf     150000   \n",
       "4   3600        small               2008  manual     69  fabia      90000   \n",
       "5    650        sedan               1995  manual    102    3er     150000   \n",
       "\n",
       "   registration_month fuel_type       brand not_repaired  \n",
       "0                   1    petrol  volkswagen           no  \n",
       "2                   8  gasoline        jeep           no  \n",
       "3                   6    petrol  volkswagen           no  \n",
       "4                   7  gasoline       skoda           no  \n",
       "5                  10    petrol         bmw          yes  "
      ]
     },
     "execution_count": 70,
     "metadata": {},
     "output_type": "execute_result"
    }
   ],
   "source": [
    "df.head()"
   ]
  },
  {
   "cell_type": "code",
   "execution_count": 71,
   "metadata": {},
   "outputs": [
    {
     "name": "stdout",
     "output_type": "stream",
     "text": [
      "0:\tlearn: 4610.9384020\ttest: 4585.3735982\tbest: 4585.3735982 (0)\ttotal: 218ms\tremaining: 3m 37s\n",
      "1:\tlearn: 4247.6651439\ttest: 4225.5355077\tbest: 4225.5355077 (1)\ttotal: 359ms\tremaining: 2m 59s\n",
      "2:\tlearn: 3923.2171308\ttest: 3903.5878138\tbest: 3903.5878138 (2)\ttotal: 506ms\tremaining: 2m 48s\n",
      "3:\tlearn: 3636.3488552\ttest: 3619.1431572\tbest: 3619.1431572 (3)\ttotal: 651ms\tremaining: 2m 41s\n",
      "4:\tlearn: 3381.0709886\ttest: 3366.5726976\tbest: 3366.5726976 (4)\ttotal: 800ms\tremaining: 2m 39s\n",
      "5:\tlearn: 3156.4617879\ttest: 3143.4951458\tbest: 3143.4951458 (5)\ttotal: 942ms\tremaining: 2m 36s\n",
      "6:\tlearn: 2962.7976349\ttest: 2951.6520468\tbest: 2951.6520468 (6)\ttotal: 1.09s\tremaining: 2m 34s\n",
      "7:\tlearn: 2792.5081167\ttest: 2783.1533683\tbest: 2783.1533683 (7)\ttotal: 1.24s\tremaining: 2m 33s\n",
      "8:\tlearn: 2643.3694742\ttest: 2635.5633371\tbest: 2635.5633371 (8)\ttotal: 1.39s\tremaining: 2m 33s\n",
      "9:\tlearn: 2515.6897486\ttest: 2509.3901915\tbest: 2509.3901915 (9)\ttotal: 1.54s\tremaining: 2m 32s\n",
      "10:\tlearn: 2400.4272931\ttest: 2394.7574563\tbest: 2394.7574563 (10)\ttotal: 1.68s\tremaining: 2m 31s\n",
      "11:\tlearn: 2302.1182566\ttest: 2297.4540052\tbest: 2297.4540052 (11)\ttotal: 1.83s\tremaining: 2m 30s\n",
      "12:\tlearn: 2218.2850732\ttest: 2214.4509280\tbest: 2214.4509280 (12)\ttotal: 1.97s\tremaining: 2m 29s\n",
      "13:\tlearn: 2145.0897636\ttest: 2141.9710560\tbest: 2141.9710560 (13)\ttotal: 2.11s\tremaining: 2m 28s\n",
      "14:\tlearn: 2078.9583109\ttest: 2075.7927485\tbest: 2075.7927485 (14)\ttotal: 2.26s\tremaining: 2m 28s\n",
      "15:\tlearn: 2025.8169255\ttest: 2023.1283673\tbest: 2023.1283673 (15)\ttotal: 2.41s\tremaining: 2m 28s\n",
      "16:\tlearn: 1978.3587204\ttest: 1976.9840238\tbest: 1976.9840238 (16)\ttotal: 2.56s\tremaining: 2m 27s\n",
      "17:\tlearn: 1935.5563762\ttest: 1934.5779362\tbest: 1934.5779362 (17)\ttotal: 2.7s\tremaining: 2m 27s\n",
      "18:\tlearn: 1899.8124435\ttest: 1899.3901770\tbest: 1899.3901770 (18)\ttotal: 2.85s\tremaining: 2m 27s\n",
      "19:\tlearn: 1867.4945749\ttest: 1868.0396632\tbest: 1868.0396632 (19)\ttotal: 3.01s\tremaining: 2m 27s\n",
      "20:\tlearn: 1840.7017910\ttest: 1841.6878451\tbest: 1841.6878451 (20)\ttotal: 3.17s\tremaining: 2m 27s\n",
      "21:\tlearn: 1817.7715788\ttest: 1819.5001510\tbest: 1819.5001510 (21)\ttotal: 3.32s\tremaining: 2m 27s\n",
      "22:\tlearn: 1793.8461457\ttest: 1795.8570176\tbest: 1795.8570176 (22)\ttotal: 3.48s\tremaining: 2m 27s\n",
      "23:\tlearn: 1774.6696478\ttest: 1777.0930811\tbest: 1777.0930811 (23)\ttotal: 3.63s\tremaining: 2m 27s\n",
      "24:\tlearn: 1755.8018372\ttest: 1758.7790392\tbest: 1758.7790392 (24)\ttotal: 3.77s\tremaining: 2m 27s\n",
      "25:\tlearn: 1740.9316214\ttest: 1744.5466953\tbest: 1744.5466953 (25)\ttotal: 3.94s\tremaining: 2m 27s\n",
      "26:\tlearn: 1726.4823923\ttest: 1730.9024122\tbest: 1730.9024122 (26)\ttotal: 4.09s\tremaining: 2m 27s\n",
      "27:\tlearn: 1713.0735337\ttest: 1717.4933852\tbest: 1717.4933852 (27)\ttotal: 4.24s\tremaining: 2m 27s\n",
      "28:\tlearn: 1703.0018805\ttest: 1708.0545219\tbest: 1708.0545219 (28)\ttotal: 4.39s\tremaining: 2m 27s\n",
      "29:\tlearn: 1694.3704115\ttest: 1700.5078621\tbest: 1700.5078621 (29)\ttotal: 4.54s\tremaining: 2m 26s\n",
      "30:\tlearn: 1685.5772393\ttest: 1692.2769672\tbest: 1692.2769672 (30)\ttotal: 4.69s\tremaining: 2m 26s\n",
      "31:\tlearn: 1675.8989085\ttest: 1682.5811964\tbest: 1682.5811964 (31)\ttotal: 4.83s\tremaining: 2m 26s\n",
      "32:\tlearn: 1667.7473040\ttest: 1674.6436481\tbest: 1674.6436481 (32)\ttotal: 4.98s\tremaining: 2m 25s\n",
      "33:\tlearn: 1661.4850773\ttest: 1668.6785765\tbest: 1668.6785765 (33)\ttotal: 5.13s\tremaining: 2m 25s\n",
      "34:\tlearn: 1655.3832360\ttest: 1662.9085282\tbest: 1662.9085282 (34)\ttotal: 5.31s\tremaining: 2m 26s\n",
      "35:\tlearn: 1650.5576330\ttest: 1658.5667621\tbest: 1658.5667621 (35)\ttotal: 5.46s\tremaining: 2m 26s\n",
      "36:\tlearn: 1646.3950471\ttest: 1654.3976688\tbest: 1654.3976688 (36)\ttotal: 5.61s\tremaining: 2m 26s\n",
      "37:\tlearn: 1642.0741397\ttest: 1650.5741414\tbest: 1650.5741414 (37)\ttotal: 5.75s\tremaining: 2m 25s\n",
      "38:\tlearn: 1638.3925699\ttest: 1647.1948443\tbest: 1647.1948443 (38)\ttotal: 5.9s\tremaining: 2m 25s\n",
      "39:\tlearn: 1633.4414259\ttest: 1642.7483509\tbest: 1642.7483509 (39)\ttotal: 6.04s\tremaining: 2m 25s\n",
      "40:\tlearn: 1629.4084887\ttest: 1638.8978162\tbest: 1638.8978162 (40)\ttotal: 6.19s\tremaining: 2m 24s\n",
      "41:\tlearn: 1625.4687985\ttest: 1635.5790072\tbest: 1635.5790072 (41)\ttotal: 6.33s\tremaining: 2m 24s\n",
      "42:\tlearn: 1622.4151232\ttest: 1632.7466583\tbest: 1632.7466583 (42)\ttotal: 6.47s\tremaining: 2m 24s\n",
      "43:\tlearn: 1619.4079471\ttest: 1630.3473026\tbest: 1630.3473026 (43)\ttotal: 6.62s\tremaining: 2m 23s\n",
      "44:\tlearn: 1616.2217451\ttest: 1627.3526341\tbest: 1627.3526341 (44)\ttotal: 6.76s\tremaining: 2m 23s\n",
      "45:\tlearn: 1612.5853707\ttest: 1624.3118431\tbest: 1624.3118431 (45)\ttotal: 6.91s\tremaining: 2m 23s\n",
      "46:\tlearn: 1609.9302283\ttest: 1622.1351660\tbest: 1622.1351660 (46)\ttotal: 7.05s\tremaining: 2m 22s\n",
      "47:\tlearn: 1607.6807614\ttest: 1620.1955373\tbest: 1620.1955373 (47)\ttotal: 7.2s\tremaining: 2m 22s\n",
      "48:\tlearn: 1604.5780777\ttest: 1617.2413899\tbest: 1617.2413899 (48)\ttotal: 7.34s\tremaining: 2m 22s\n",
      "49:\tlearn: 1602.8023656\ttest: 1615.3817404\tbest: 1615.3817404 (49)\ttotal: 7.49s\tremaining: 2m 22s\n",
      "50:\tlearn: 1600.2517328\ttest: 1612.7969804\tbest: 1612.7969804 (50)\ttotal: 7.63s\tremaining: 2m 22s\n",
      "51:\tlearn: 1598.2921454\ttest: 1611.0495313\tbest: 1611.0495313 (51)\ttotal: 7.78s\tremaining: 2m 21s\n",
      "52:\tlearn: 1596.2171507\ttest: 1609.2827842\tbest: 1609.2827842 (52)\ttotal: 7.92s\tremaining: 2m 21s\n",
      "53:\tlearn: 1594.5323314\ttest: 1607.6592108\tbest: 1607.6592108 (53)\ttotal: 8.07s\tremaining: 2m 21s\n",
      "54:\tlearn: 1591.8667260\ttest: 1605.1949809\tbest: 1605.1949809 (54)\ttotal: 8.21s\tremaining: 2m 21s\n",
      "55:\tlearn: 1589.5740198\ttest: 1603.0298791\tbest: 1603.0298791 (55)\ttotal: 8.36s\tremaining: 2m 20s\n",
      "56:\tlearn: 1587.4212287\ttest: 1600.9633011\tbest: 1600.9633011 (56)\ttotal: 8.5s\tremaining: 2m 20s\n",
      "57:\tlearn: 1585.7505342\ttest: 1599.5082236\tbest: 1599.5082236 (57)\ttotal: 8.65s\tremaining: 2m 20s\n",
      "58:\tlearn: 1583.6485169\ttest: 1597.7143058\tbest: 1597.7143058 (58)\ttotal: 8.79s\tremaining: 2m 20s\n",
      "59:\tlearn: 1581.9115832\ttest: 1595.9460367\tbest: 1595.9460367 (59)\ttotal: 8.94s\tremaining: 2m 20s\n",
      "60:\tlearn: 1579.9779656\ttest: 1594.3631026\tbest: 1594.3631026 (60)\ttotal: 9.09s\tremaining: 2m 19s\n",
      "61:\tlearn: 1578.3811847\ttest: 1592.8732031\tbest: 1592.8732031 (61)\ttotal: 9.23s\tremaining: 2m 19s\n",
      "62:\tlearn: 1576.4625229\ttest: 1591.2360050\tbest: 1591.2360050 (62)\ttotal: 9.38s\tremaining: 2m 19s\n",
      "63:\tlearn: 1575.0452106\ttest: 1589.9319591\tbest: 1589.9319591 (63)\ttotal: 9.52s\tremaining: 2m 19s\n",
      "64:\tlearn: 1572.8217351\ttest: 1588.1644642\tbest: 1588.1644642 (64)\ttotal: 9.67s\tremaining: 2m 19s\n",
      "65:\tlearn: 1570.9250687\ttest: 1586.5892048\tbest: 1586.5892048 (65)\ttotal: 9.81s\tremaining: 2m 18s\n",
      "66:\tlearn: 1569.3892672\ttest: 1585.1693026\tbest: 1585.1693026 (66)\ttotal: 9.96s\tremaining: 2m 18s\n",
      "67:\tlearn: 1568.1733049\ttest: 1584.0919987\tbest: 1584.0919987 (67)\ttotal: 10.1s\tremaining: 2m 18s\n",
      "68:\tlearn: 1566.4999486\ttest: 1582.6596086\tbest: 1582.6596086 (68)\ttotal: 10.3s\tremaining: 2m 18s\n",
      "69:\tlearn: 1565.4126764\ttest: 1581.7217109\tbest: 1581.7217109 (69)\ttotal: 10.4s\tremaining: 2m 18s\n",
      "70:\tlearn: 1564.3043168\ttest: 1580.5195377\tbest: 1580.5195377 (70)\ttotal: 10.6s\tremaining: 2m 18s\n",
      "71:\tlearn: 1562.8749087\ttest: 1579.4355508\tbest: 1579.4355508 (71)\ttotal: 10.7s\tremaining: 2m 17s\n",
      "72:\tlearn: 1561.8000432\ttest: 1578.4449931\tbest: 1578.4449931 (72)\ttotal: 10.8s\tremaining: 2m 17s\n",
      "73:\tlearn: 1560.4407921\ttest: 1577.3557666\tbest: 1577.3557666 (73)\ttotal: 11s\tremaining: 2m 17s\n",
      "74:\tlearn: 1558.9315377\ttest: 1576.0437847\tbest: 1576.0437847 (74)\ttotal: 11.1s\tremaining: 2m 17s\n",
      "75:\tlearn: 1556.5605130\ttest: 1573.8338472\tbest: 1573.8338472 (75)\ttotal: 11.3s\tremaining: 2m 17s\n",
      "76:\tlearn: 1555.0076089\ttest: 1572.4943811\tbest: 1572.4943811 (76)\ttotal: 11.4s\tremaining: 2m 17s\n",
      "77:\tlearn: 1554.0137114\ttest: 1571.5326326\tbest: 1571.5326326 (77)\ttotal: 11.6s\tremaining: 2m 16s\n",
      "78:\tlearn: 1553.1029058\ttest: 1570.5812185\tbest: 1570.5812185 (78)\ttotal: 11.7s\tremaining: 2m 16s\n",
      "79:\tlearn: 1551.5087855\ttest: 1569.4984881\tbest: 1569.4984881 (79)\ttotal: 11.9s\tremaining: 2m 16s\n",
      "80:\tlearn: 1550.1886784\ttest: 1568.7450557\tbest: 1568.7450557 (80)\ttotal: 12s\tremaining: 2m 16s\n",
      "81:\tlearn: 1548.7108899\ttest: 1567.5581478\tbest: 1567.5581478 (81)\ttotal: 12.2s\tremaining: 2m 16s\n",
      "82:\tlearn: 1547.5442546\ttest: 1566.5082335\tbest: 1566.5082335 (82)\ttotal: 12.3s\tremaining: 2m 16s\n",
      "83:\tlearn: 1546.5644579\ttest: 1565.8885645\tbest: 1565.8885645 (83)\ttotal: 12.5s\tremaining: 2m 15s\n",
      "84:\tlearn: 1545.2993242\ttest: 1564.7034934\tbest: 1564.7034934 (84)\ttotal: 12.6s\tremaining: 2m 15s\n",
      "85:\tlearn: 1544.2625892\ttest: 1564.1020772\tbest: 1564.1020772 (85)\ttotal: 12.7s\tremaining: 2m 15s\n",
      "86:\tlearn: 1542.9926824\ttest: 1563.2264085\tbest: 1563.2264085 (86)\ttotal: 12.9s\tremaining: 2m 15s\n",
      "87:\tlearn: 1542.0588638\ttest: 1562.5124196\tbest: 1562.5124196 (87)\ttotal: 13s\tremaining: 2m 15s\n",
      "88:\tlearn: 1541.1735250\ttest: 1561.7357497\tbest: 1561.7357497 (88)\ttotal: 13.2s\tremaining: 2m 14s\n",
      "89:\tlearn: 1539.8324044\ttest: 1560.7221724\tbest: 1560.7221724 (89)\ttotal: 13.3s\tremaining: 2m 14s\n",
      "90:\tlearn: 1538.9942652\ttest: 1560.0967580\tbest: 1560.0967580 (90)\ttotal: 13.5s\tremaining: 2m 14s\n",
      "91:\tlearn: 1538.0186523\ttest: 1559.2883938\tbest: 1559.2883938 (91)\ttotal: 13.6s\tremaining: 2m 14s\n",
      "92:\tlearn: 1536.9468112\ttest: 1558.4207803\tbest: 1558.4207803 (92)\ttotal: 13.7s\tremaining: 2m 14s\n",
      "93:\tlearn: 1536.0758293\ttest: 1557.8087481\tbest: 1557.8087481 (93)\ttotal: 13.9s\tremaining: 2m 13s\n",
      "94:\tlearn: 1535.0598828\ttest: 1557.0067804\tbest: 1557.0067804 (94)\ttotal: 14s\tremaining: 2m 13s\n",
      "95:\tlearn: 1534.2736505\ttest: 1556.3529091\tbest: 1556.3529091 (95)\ttotal: 14.2s\tremaining: 2m 13s\n",
      "96:\tlearn: 1533.2633810\ttest: 1555.4802923\tbest: 1555.4802923 (96)\ttotal: 14.3s\tremaining: 2m 13s\n",
      "97:\tlearn: 1532.6892402\ttest: 1555.0078459\tbest: 1555.0078459 (97)\ttotal: 14.5s\tremaining: 2m 13s\n",
      "98:\tlearn: 1531.7797181\ttest: 1554.3827740\tbest: 1554.3827740 (98)\ttotal: 14.6s\tremaining: 2m 13s\n",
      "99:\tlearn: 1530.8189016\ttest: 1553.7019950\tbest: 1553.7019950 (99)\ttotal: 14.8s\tremaining: 2m 12s\n",
      "100:\tlearn: 1529.8738952\ttest: 1552.9034173\tbest: 1552.9034173 (100)\ttotal: 14.9s\tremaining: 2m 12s\n",
      "101:\tlearn: 1529.3178167\ttest: 1552.3832569\tbest: 1552.3832569 (101)\ttotal: 15.1s\tremaining: 2m 12s\n",
      "102:\tlearn: 1528.4755047\ttest: 1551.6999897\tbest: 1551.6999897 (102)\ttotal: 15.2s\tremaining: 2m 12s\n",
      "103:\tlearn: 1527.7520694\ttest: 1551.1176887\tbest: 1551.1176887 (103)\ttotal: 15.3s\tremaining: 2m 12s\n",
      "104:\tlearn: 1526.4833978\ttest: 1550.1705770\tbest: 1550.1705770 (104)\ttotal: 15.5s\tremaining: 2m 11s\n",
      "105:\tlearn: 1525.7558468\ttest: 1549.7314908\tbest: 1549.7314908 (105)\ttotal: 15.6s\tremaining: 2m 11s\n",
      "106:\tlearn: 1525.1333515\ttest: 1549.2227286\tbest: 1549.2227286 (106)\ttotal: 15.8s\tremaining: 2m 12s\n",
      "107:\tlearn: 1523.9400969\ttest: 1548.1208753\tbest: 1548.1208753 (107)\ttotal: 16s\tremaining: 2m 12s\n",
      "108:\tlearn: 1523.0969519\ttest: 1547.4541981\tbest: 1547.4541981 (108)\ttotal: 16.2s\tremaining: 2m 12s\n",
      "109:\tlearn: 1522.2020383\ttest: 1546.3798236\tbest: 1546.3798236 (109)\ttotal: 16.4s\tremaining: 2m 12s\n",
      "110:\tlearn: 1521.6292171\ttest: 1545.9157681\tbest: 1545.9157681 (110)\ttotal: 16.5s\tremaining: 2m 12s\n",
      "111:\tlearn: 1520.5013326\ttest: 1545.3049082\tbest: 1545.3049082 (111)\ttotal: 16.7s\tremaining: 2m 12s\n",
      "112:\tlearn: 1519.9012565\ttest: 1544.9704338\tbest: 1544.9704338 (112)\ttotal: 16.8s\tremaining: 2m 11s\n",
      "113:\tlearn: 1519.2614697\ttest: 1544.5649312\tbest: 1544.5649312 (113)\ttotal: 17s\tremaining: 2m 11s\n",
      "114:\tlearn: 1518.1399428\ttest: 1543.6920479\tbest: 1543.6920479 (114)\ttotal: 17.1s\tremaining: 2m 11s\n",
      "115:\tlearn: 1517.3599668\ttest: 1543.1712457\tbest: 1543.1712457 (115)\ttotal: 17.2s\tremaining: 2m 11s\n",
      "116:\tlearn: 1516.5050354\ttest: 1542.4969643\tbest: 1542.4969643 (116)\ttotal: 17.4s\tremaining: 2m 11s\n",
      "117:\tlearn: 1515.4618513\ttest: 1541.4269427\tbest: 1541.4269427 (117)\ttotal: 17.6s\tremaining: 2m 11s\n",
      "118:\tlearn: 1514.6713464\ttest: 1540.7062088\tbest: 1540.7062088 (118)\ttotal: 17.8s\tremaining: 2m 11s\n",
      "119:\tlearn: 1513.9604453\ttest: 1540.0488217\tbest: 1540.0488217 (119)\ttotal: 17.9s\tremaining: 2m 11s\n",
      "120:\tlearn: 1513.1167186\ttest: 1539.2600396\tbest: 1539.2600396 (120)\ttotal: 18.1s\tremaining: 2m 11s\n",
      "121:\tlearn: 1512.3309800\ttest: 1538.6621215\tbest: 1538.6621215 (121)\ttotal: 18.2s\tremaining: 2m 11s\n",
      "122:\tlearn: 1511.7445088\ttest: 1538.2384819\tbest: 1538.2384819 (122)\ttotal: 18.4s\tremaining: 2m 10s\n",
      "123:\tlearn: 1510.7489146\ttest: 1537.2969572\tbest: 1537.2969572 (123)\ttotal: 18.5s\tremaining: 2m 10s\n",
      "124:\tlearn: 1510.0126834\ttest: 1536.7830974\tbest: 1536.7830974 (124)\ttotal: 18.7s\tremaining: 2m 10s\n",
      "125:\tlearn: 1509.2639659\ttest: 1536.1271360\tbest: 1536.1271360 (125)\ttotal: 18.8s\tremaining: 2m 10s\n",
      "126:\tlearn: 1508.6766218\ttest: 1535.4965609\tbest: 1535.4965609 (126)\ttotal: 18.9s\tremaining: 2m 10s\n",
      "127:\tlearn: 1507.9625111\ttest: 1534.8040271\tbest: 1534.8040271 (127)\ttotal: 19.1s\tremaining: 2m 10s\n",
      "128:\tlearn: 1507.4211035\ttest: 1534.5208651\tbest: 1534.5208651 (128)\ttotal: 19.2s\tremaining: 2m 9s\n",
      "129:\tlearn: 1506.9532694\ttest: 1534.2998855\tbest: 1534.2998855 (129)\ttotal: 19.4s\tremaining: 2m 9s\n",
      "130:\tlearn: 1506.0891567\ttest: 1533.7839362\tbest: 1533.7839362 (130)\ttotal: 19.5s\tremaining: 2m 9s\n",
      "131:\tlearn: 1505.5178496\ttest: 1533.1907922\tbest: 1533.1907922 (131)\ttotal: 19.7s\tremaining: 2m 9s\n",
      "132:\tlearn: 1504.5944960\ttest: 1532.4709589\tbest: 1532.4709589 (132)\ttotal: 19.8s\tremaining: 2m 9s\n",
      "133:\tlearn: 1504.2124756\ttest: 1532.1377221\tbest: 1532.1377221 (133)\ttotal: 20s\tremaining: 2m 9s\n",
      "134:\tlearn: 1503.5124452\ttest: 1531.6529536\tbest: 1531.6529536 (134)\ttotal: 20.1s\tremaining: 2m 8s\n",
      "135:\tlearn: 1502.8945823\ttest: 1531.0410140\tbest: 1531.0410140 (135)\ttotal: 20.3s\tremaining: 2m 8s\n",
      "136:\tlearn: 1502.4262235\ttest: 1530.7489992\tbest: 1530.7489992 (136)\ttotal: 20.4s\tremaining: 2m 8s\n",
      "137:\tlearn: 1501.4953042\ttest: 1529.8690220\tbest: 1529.8690220 (137)\ttotal: 20.6s\tremaining: 2m 8s\n",
      "138:\tlearn: 1500.9175571\ttest: 1529.2458875\tbest: 1529.2458875 (138)\ttotal: 20.7s\tremaining: 2m 8s\n",
      "139:\tlearn: 1500.0539581\ttest: 1528.8080665\tbest: 1528.8080665 (139)\ttotal: 20.9s\tremaining: 2m 8s\n",
      "140:\tlearn: 1499.3741939\ttest: 1528.5471498\tbest: 1528.5471498 (140)\ttotal: 21s\tremaining: 2m 8s\n",
      "141:\tlearn: 1498.4783111\ttest: 1527.9822167\tbest: 1527.9822167 (141)\ttotal: 21.2s\tremaining: 2m 7s\n",
      "142:\tlearn: 1497.8238615\ttest: 1527.6383316\tbest: 1527.6383316 (142)\ttotal: 21.3s\tremaining: 2m 7s\n",
      "143:\tlearn: 1497.3385594\ttest: 1527.1021250\tbest: 1527.1021250 (143)\ttotal: 21.5s\tremaining: 2m 7s\n",
      "144:\tlearn: 1496.6500653\ttest: 1526.7780427\tbest: 1526.7780427 (144)\ttotal: 21.6s\tremaining: 2m 7s\n",
      "145:\tlearn: 1495.8764467\ttest: 1526.2004813\tbest: 1526.2004813 (145)\ttotal: 21.8s\tremaining: 2m 7s\n",
      "146:\tlearn: 1495.3595826\ttest: 1525.7760066\tbest: 1525.7760066 (146)\ttotal: 21.9s\tremaining: 2m 7s\n",
      "147:\tlearn: 1494.7863305\ttest: 1525.3077177\tbest: 1525.3077177 (147)\ttotal: 22s\tremaining: 2m 6s\n",
      "148:\tlearn: 1494.2889302\ttest: 1525.0056722\tbest: 1525.0056722 (148)\ttotal: 22.2s\tremaining: 2m 6s\n",
      "149:\tlearn: 1493.7400298\ttest: 1524.5741337\tbest: 1524.5741337 (149)\ttotal: 22.3s\tremaining: 2m 6s\n",
      "150:\tlearn: 1493.0002007\ttest: 1524.0377299\tbest: 1524.0377299 (150)\ttotal: 22.5s\tremaining: 2m 6s\n",
      "151:\tlearn: 1492.3961060\ttest: 1523.6049114\tbest: 1523.6049114 (151)\ttotal: 22.6s\tremaining: 2m 6s\n",
      "152:\tlearn: 1491.8050569\ttest: 1523.1250283\tbest: 1523.1250283 (152)\ttotal: 22.8s\tremaining: 2m 6s\n",
      "153:\tlearn: 1491.3721688\ttest: 1522.7911944\tbest: 1522.7911944 (153)\ttotal: 22.9s\tremaining: 2m 6s\n",
      "154:\tlearn: 1490.5116830\ttest: 1522.3571124\tbest: 1522.3571124 (154)\ttotal: 23.1s\tremaining: 2m 5s\n",
      "155:\tlearn: 1489.9124101\ttest: 1521.8073368\tbest: 1521.8073368 (155)\ttotal: 23.2s\tremaining: 2m 5s\n",
      "156:\tlearn: 1489.4170370\ttest: 1521.3546969\tbest: 1521.3546969 (156)\ttotal: 23.4s\tremaining: 2m 5s\n",
      "157:\tlearn: 1488.7589675\ttest: 1520.5955740\tbest: 1520.5955740 (157)\ttotal: 23.5s\tremaining: 2m 5s\n",
      "158:\tlearn: 1488.1728591\ttest: 1520.3223679\tbest: 1520.3223679 (158)\ttotal: 23.7s\tremaining: 2m 5s\n",
      "159:\tlearn: 1487.4621117\ttest: 1519.9078478\tbest: 1519.9078478 (159)\ttotal: 23.8s\tremaining: 2m 5s\n",
      "160:\tlearn: 1487.0812194\ttest: 1519.7463205\tbest: 1519.7463205 (160)\ttotal: 24s\tremaining: 2m 4s\n",
      "161:\tlearn: 1486.3599304\ttest: 1519.3763179\tbest: 1519.3763179 (161)\ttotal: 24.1s\tremaining: 2m 4s\n",
      "162:\tlearn: 1485.6799456\ttest: 1518.9527629\tbest: 1518.9527629 (162)\ttotal: 24.3s\tremaining: 2m 4s\n",
      "163:\tlearn: 1485.0491971\ttest: 1518.5846457\tbest: 1518.5846457 (163)\ttotal: 24.4s\tremaining: 2m 4s\n",
      "164:\tlearn: 1484.3183681\ttest: 1517.9607457\tbest: 1517.9607457 (164)\ttotal: 24.5s\tremaining: 2m 4s\n",
      "165:\tlearn: 1483.8738610\ttest: 1517.5592337\tbest: 1517.5592337 (165)\ttotal: 24.7s\tremaining: 2m 4s\n",
      "166:\tlearn: 1483.2728225\ttest: 1517.2601789\tbest: 1517.2601789 (166)\ttotal: 24.8s\tremaining: 2m 3s\n",
      "167:\tlearn: 1482.9347562\ttest: 1516.9584539\tbest: 1516.9584539 (167)\ttotal: 25s\tremaining: 2m 3s\n",
      "168:\tlearn: 1482.6352384\ttest: 1516.7399167\tbest: 1516.7399167 (168)\ttotal: 25.1s\tremaining: 2m 3s\n",
      "169:\tlearn: 1481.9525663\ttest: 1516.3636965\tbest: 1516.3636965 (169)\ttotal: 25.3s\tremaining: 2m 3s\n",
      "170:\tlearn: 1481.4882860\ttest: 1516.0782176\tbest: 1516.0782176 (170)\ttotal: 25.4s\tremaining: 2m 3s\n",
      "171:\tlearn: 1481.0565759\ttest: 1515.9216525\tbest: 1515.9216525 (171)\ttotal: 25.6s\tremaining: 2m 3s\n",
      "172:\tlearn: 1480.4689934\ttest: 1515.5017524\tbest: 1515.5017524 (172)\ttotal: 25.7s\tremaining: 2m 2s\n",
      "173:\tlearn: 1479.9847773\ttest: 1515.1398268\tbest: 1515.1398268 (173)\ttotal: 25.9s\tremaining: 2m 2s\n",
      "174:\tlearn: 1479.3495736\ttest: 1514.5734743\tbest: 1514.5734743 (174)\ttotal: 26s\tremaining: 2m 2s\n",
      "175:\tlearn: 1478.5652090\ttest: 1514.0570725\tbest: 1514.0570725 (175)\ttotal: 26.2s\tremaining: 2m 2s\n",
      "176:\tlearn: 1477.9650329\ttest: 1513.6107688\tbest: 1513.6107688 (176)\ttotal: 26.3s\tremaining: 2m 2s\n",
      "177:\tlearn: 1477.5891451\ttest: 1513.4251448\tbest: 1513.4251448 (177)\ttotal: 26.4s\tremaining: 2m 2s\n",
      "178:\tlearn: 1477.0506264\ttest: 1513.1677090\tbest: 1513.1677090 (178)\ttotal: 26.6s\tremaining: 2m 1s\n",
      "179:\tlearn: 1476.4256214\ttest: 1512.8192435\tbest: 1512.8192435 (179)\ttotal: 26.7s\tremaining: 2m 1s\n",
      "180:\tlearn: 1475.7916076\ttest: 1512.3814382\tbest: 1512.3814382 (180)\ttotal: 26.9s\tremaining: 2m 1s\n",
      "181:\tlearn: 1475.3810552\ttest: 1512.0824239\tbest: 1512.0824239 (181)\ttotal: 27s\tremaining: 2m 1s\n",
      "182:\tlearn: 1474.9112048\ttest: 1511.8038145\tbest: 1511.8038145 (182)\ttotal: 27.2s\tremaining: 2m 1s\n",
      "183:\tlearn: 1474.4264311\ttest: 1511.4065260\tbest: 1511.4065260 (183)\ttotal: 27.3s\tremaining: 2m 1s\n",
      "184:\tlearn: 1474.0096983\ttest: 1511.1654852\tbest: 1511.1654852 (184)\ttotal: 27.5s\tremaining: 2m 1s\n",
      "185:\tlearn: 1473.4686121\ttest: 1511.0146033\tbest: 1511.0146033 (185)\ttotal: 27.6s\tremaining: 2m\n",
      "186:\tlearn: 1472.9954784\ttest: 1510.6639991\tbest: 1510.6639991 (186)\ttotal: 27.8s\tremaining: 2m\n",
      "187:\tlearn: 1472.6574345\ttest: 1510.3813946\tbest: 1510.3813946 (187)\ttotal: 27.9s\tremaining: 2m\n",
      "188:\tlearn: 1472.0513175\ttest: 1510.0384736\tbest: 1510.0384736 (188)\ttotal: 28.1s\tremaining: 2m\n",
      "189:\tlearn: 1471.5210253\ttest: 1509.6653544\tbest: 1509.6653544 (189)\ttotal: 28.2s\tremaining: 2m\n",
      "190:\tlearn: 1471.2560342\ttest: 1509.4652977\tbest: 1509.4652977 (190)\ttotal: 28.4s\tremaining: 2m\n",
      "191:\tlearn: 1470.5249534\ttest: 1509.2166624\tbest: 1509.2166624 (191)\ttotal: 28.5s\tremaining: 1m 59s\n",
      "192:\tlearn: 1469.8862976\ttest: 1508.7063937\tbest: 1508.7063937 (192)\ttotal: 28.6s\tremaining: 1m 59s\n",
      "193:\tlearn: 1469.3794241\ttest: 1508.4688485\tbest: 1508.4688485 (193)\ttotal: 28.8s\tremaining: 1m 59s\n",
      "194:\tlearn: 1468.9413617\ttest: 1508.1189250\tbest: 1508.1189250 (194)\ttotal: 28.9s\tremaining: 1m 59s\n",
      "195:\tlearn: 1468.4843637\ttest: 1507.7780632\tbest: 1507.7780632 (195)\ttotal: 29.1s\tremaining: 1m 59s\n",
      "196:\tlearn: 1467.8116581\ttest: 1507.3805689\tbest: 1507.3805689 (196)\ttotal: 29.2s\tremaining: 1m 59s\n",
      "197:\tlearn: 1467.3445928\ttest: 1507.1703666\tbest: 1507.1703666 (197)\ttotal: 29.4s\tremaining: 1m 59s\n",
      "198:\tlearn: 1466.7090419\ttest: 1506.8037677\tbest: 1506.8037677 (198)\ttotal: 29.5s\tremaining: 1m 58s\n",
      "199:\tlearn: 1465.8191112\ttest: 1506.4631915\tbest: 1506.4631915 (199)\ttotal: 29.7s\tremaining: 1m 58s\n",
      "200:\tlearn: 1465.2226854\ttest: 1506.1205652\tbest: 1506.1205652 (200)\ttotal: 29.8s\tremaining: 1m 58s\n",
      "201:\tlearn: 1464.6923566\ttest: 1505.6817867\tbest: 1505.6817867 (201)\ttotal: 30s\tremaining: 1m 58s\n",
      "202:\tlearn: 1464.1906766\ttest: 1505.3969269\tbest: 1505.3969269 (202)\ttotal: 30.1s\tremaining: 1m 58s\n",
      "203:\tlearn: 1463.4848126\ttest: 1504.9146214\tbest: 1504.9146214 (203)\ttotal: 30.3s\tremaining: 1m 58s\n",
      "204:\tlearn: 1463.0825954\ttest: 1504.6271773\tbest: 1504.6271773 (204)\ttotal: 30.4s\tremaining: 1m 57s\n",
      "205:\tlearn: 1462.6244425\ttest: 1504.4659523\tbest: 1504.4659523 (205)\ttotal: 30.5s\tremaining: 1m 57s\n",
      "206:\tlearn: 1462.2515359\ttest: 1504.2343075\tbest: 1504.2343075 (206)\ttotal: 30.7s\tremaining: 1m 57s\n",
      "207:\tlearn: 1461.5659158\ttest: 1503.7834404\tbest: 1503.7834404 (207)\ttotal: 30.8s\tremaining: 1m 57s\n",
      "208:\tlearn: 1461.2510708\ttest: 1503.7015417\tbest: 1503.7015417 (208)\ttotal: 31s\tremaining: 1m 57s\n",
      "209:\tlearn: 1460.7929551\ttest: 1503.5302631\tbest: 1503.5302631 (209)\ttotal: 31.1s\tremaining: 1m 57s\n",
      "210:\tlearn: 1460.4328528\ttest: 1503.3864813\tbest: 1503.3864813 (210)\ttotal: 31.3s\tremaining: 1m 56s\n",
      "211:\tlearn: 1460.0597897\ttest: 1503.1636555\tbest: 1503.1636555 (211)\ttotal: 31.4s\tremaining: 1m 56s\n",
      "212:\tlearn: 1459.5728649\ttest: 1502.8811602\tbest: 1502.8811602 (212)\ttotal: 31.6s\tremaining: 1m 56s\n",
      "213:\tlearn: 1459.0338477\ttest: 1502.4542994\tbest: 1502.4542994 (213)\ttotal: 31.7s\tremaining: 1m 56s\n",
      "214:\tlearn: 1458.6081512\ttest: 1502.2772355\tbest: 1502.2772355 (214)\ttotal: 31.8s\tremaining: 1m 56s\n",
      "215:\tlearn: 1457.8921574\ttest: 1501.7956132\tbest: 1501.7956132 (215)\ttotal: 32s\tremaining: 1m 56s\n",
      "216:\tlearn: 1457.4465200\ttest: 1501.5667982\tbest: 1501.5667982 (216)\ttotal: 32.1s\tremaining: 1m 55s\n",
      "217:\tlearn: 1456.9129526\ttest: 1501.2386753\tbest: 1501.2386753 (217)\ttotal: 32.3s\tremaining: 1m 55s\n",
      "218:\tlearn: 1456.3642150\ttest: 1500.9002243\tbest: 1500.9002243 (218)\ttotal: 32.4s\tremaining: 1m 55s\n",
      "219:\tlearn: 1455.5603669\ttest: 1500.4199761\tbest: 1500.4199761 (219)\ttotal: 32.6s\tremaining: 1m 55s\n",
      "220:\tlearn: 1455.0747020\ttest: 1500.1009115\tbest: 1500.1009115 (220)\ttotal: 32.7s\tremaining: 1m 55s\n",
      "221:\tlearn: 1454.6312252\ttest: 1499.7943126\tbest: 1499.7943126 (221)\ttotal: 32.9s\tremaining: 1m 55s\n",
      "222:\tlearn: 1454.2377815\ttest: 1499.6647567\tbest: 1499.6647567 (222)\ttotal: 33s\tremaining: 1m 55s\n",
      "223:\tlearn: 1453.8218750\ttest: 1499.3916122\tbest: 1499.3916122 (223)\ttotal: 33.2s\tremaining: 1m 54s\n",
      "224:\tlearn: 1453.4503632\ttest: 1499.1132266\tbest: 1499.1132266 (224)\ttotal: 33.3s\tremaining: 1m 54s\n",
      "225:\tlearn: 1453.0695077\ttest: 1498.8432281\tbest: 1498.8432281 (225)\ttotal: 33.5s\tremaining: 1m 54s\n",
      "226:\tlearn: 1452.6820700\ttest: 1498.5383516\tbest: 1498.5383516 (226)\ttotal: 33.6s\tremaining: 1m 54s\n",
      "227:\tlearn: 1452.2612808\ttest: 1498.2773407\tbest: 1498.2773407 (227)\ttotal: 33.8s\tremaining: 1m 54s\n",
      "228:\tlearn: 1451.9470015\ttest: 1498.0706696\tbest: 1498.0706696 (228)\ttotal: 33.9s\tremaining: 1m 54s\n",
      "229:\tlearn: 1451.6487221\ttest: 1497.8271369\tbest: 1497.8271369 (229)\ttotal: 34.1s\tremaining: 1m 54s\n",
      "230:\tlearn: 1451.2474402\ttest: 1497.4572730\tbest: 1497.4572730 (230)\ttotal: 34.2s\tremaining: 1m 53s\n",
      "231:\tlearn: 1450.8267395\ttest: 1497.2097845\tbest: 1497.2097845 (231)\ttotal: 34.4s\tremaining: 1m 53s\n",
      "232:\tlearn: 1450.5625875\ttest: 1497.0970289\tbest: 1497.0970289 (232)\ttotal: 34.5s\tremaining: 1m 53s\n",
      "233:\tlearn: 1450.3006195\ttest: 1496.9666514\tbest: 1496.9666514 (233)\ttotal: 34.7s\tremaining: 1m 53s\n",
      "234:\tlearn: 1449.9577697\ttest: 1496.6914408\tbest: 1496.6914408 (234)\ttotal: 34.8s\tremaining: 1m 53s\n",
      "235:\tlearn: 1449.6082142\ttest: 1496.3900824\tbest: 1496.3900824 (235)\ttotal: 35s\tremaining: 1m 53s\n",
      "236:\tlearn: 1449.3482307\ttest: 1496.2779388\tbest: 1496.2779388 (236)\ttotal: 35.1s\tremaining: 1m 53s\n",
      "237:\tlearn: 1448.8602227\ttest: 1496.0883454\tbest: 1496.0883454 (237)\ttotal: 35.3s\tremaining: 1m 52s\n",
      "238:\tlearn: 1448.3539187\ttest: 1495.8141124\tbest: 1495.8141124 (238)\ttotal: 35.4s\tremaining: 1m 52s\n",
      "239:\tlearn: 1447.8932247\ttest: 1495.4200844\tbest: 1495.4200844 (239)\ttotal: 35.6s\tremaining: 1m 52s\n",
      "240:\tlearn: 1447.3558266\ttest: 1495.1120708\tbest: 1495.1120708 (240)\ttotal: 35.8s\tremaining: 1m 52s\n",
      "241:\tlearn: 1446.8034377\ttest: 1494.9778456\tbest: 1494.9778456 (241)\ttotal: 35.9s\tremaining: 1m 52s\n",
      "242:\tlearn: 1446.4866655\ttest: 1494.8685619\tbest: 1494.8685619 (242)\ttotal: 36.1s\tremaining: 1m 52s\n",
      "243:\tlearn: 1446.2303570\ttest: 1494.6773857\tbest: 1494.6773857 (243)\ttotal: 36.3s\tremaining: 1m 52s\n",
      "244:\tlearn: 1445.7545722\ttest: 1494.4345464\tbest: 1494.4345464 (244)\ttotal: 36.5s\tremaining: 1m 52s\n",
      "245:\tlearn: 1445.4508594\ttest: 1494.2309682\tbest: 1494.2309682 (245)\ttotal: 36.7s\tremaining: 1m 52s\n",
      "246:\tlearn: 1444.9196958\ttest: 1493.7602328\tbest: 1493.7602328 (246)\ttotal: 36.8s\tremaining: 1m 52s\n",
      "247:\tlearn: 1444.5635077\ttest: 1493.4657396\tbest: 1493.4657396 (247)\ttotal: 37s\tremaining: 1m 52s\n",
      "248:\tlearn: 1444.2831787\ttest: 1493.1669732\tbest: 1493.1669732 (248)\ttotal: 37.2s\tremaining: 1m 52s\n",
      "249:\tlearn: 1444.0122160\ttest: 1492.9988527\tbest: 1492.9988527 (249)\ttotal: 37.4s\tremaining: 1m 52s\n",
      "250:\tlearn: 1443.4968407\ttest: 1492.7837266\tbest: 1492.7837266 (250)\ttotal: 37.5s\tremaining: 1m 52s\n",
      "251:\tlearn: 1443.1233543\ttest: 1492.5300057\tbest: 1492.5300057 (251)\ttotal: 37.7s\tremaining: 1m 51s\n",
      "252:\tlearn: 1442.8172215\ttest: 1492.3011344\tbest: 1492.3011344 (252)\ttotal: 37.9s\tremaining: 1m 51s\n",
      "253:\tlearn: 1442.5841968\ttest: 1492.1434856\tbest: 1492.1434856 (253)\ttotal: 38.1s\tremaining: 1m 51s\n",
      "254:\tlearn: 1442.2700546\ttest: 1491.8883987\tbest: 1491.8883987 (254)\ttotal: 38.2s\tremaining: 1m 51s\n",
      "255:\tlearn: 1441.9270761\ttest: 1491.8054182\tbest: 1491.8054182 (255)\ttotal: 38.4s\tremaining: 1m 51s\n",
      "256:\tlearn: 1441.5712738\ttest: 1491.6935412\tbest: 1491.6935412 (256)\ttotal: 38.5s\tremaining: 1m 51s\n",
      "257:\tlearn: 1441.3294867\ttest: 1491.6168551\tbest: 1491.6168551 (257)\ttotal: 38.7s\tremaining: 1m 51s\n",
      "258:\tlearn: 1440.8228703\ttest: 1491.5005501\tbest: 1491.5005501 (258)\ttotal: 38.8s\tremaining: 1m 51s\n",
      "259:\tlearn: 1440.5823181\ttest: 1491.3418596\tbest: 1491.3418596 (259)\ttotal: 39s\tremaining: 1m 51s\n",
      "260:\tlearn: 1439.9236239\ttest: 1490.9720493\tbest: 1490.9720493 (260)\ttotal: 39.2s\tremaining: 1m 50s\n",
      "261:\tlearn: 1439.6035992\ttest: 1490.7756829\tbest: 1490.7756829 (261)\ttotal: 39.4s\tremaining: 1m 50s\n",
      "262:\tlearn: 1439.2968178\ttest: 1490.5789916\tbest: 1490.5789916 (262)\ttotal: 39.5s\tremaining: 1m 50s\n",
      "263:\tlearn: 1438.9406877\ttest: 1490.3570323\tbest: 1490.3570323 (263)\ttotal: 39.6s\tremaining: 1m 50s\n",
      "264:\tlearn: 1438.5253578\ttest: 1490.1866857\tbest: 1490.1866857 (264)\ttotal: 39.8s\tremaining: 1m 50s\n",
      "265:\tlearn: 1438.2465658\ttest: 1490.0597352\tbest: 1490.0597352 (265)\ttotal: 39.9s\tremaining: 1m 50s\n",
      "266:\tlearn: 1437.7431293\ttest: 1489.7044940\tbest: 1489.7044940 (266)\ttotal: 40.1s\tremaining: 1m 49s\n",
      "267:\tlearn: 1437.5270032\ttest: 1489.6146353\tbest: 1489.6146353 (267)\ttotal: 40.2s\tremaining: 1m 49s\n",
      "268:\tlearn: 1437.2343431\ttest: 1489.4705206\tbest: 1489.4705206 (268)\ttotal: 40.3s\tremaining: 1m 49s\n",
      "269:\tlearn: 1436.8862347\ttest: 1489.3519983\tbest: 1489.3519983 (269)\ttotal: 40.5s\tremaining: 1m 49s\n",
      "270:\tlearn: 1436.6941186\ttest: 1489.2851052\tbest: 1489.2851052 (270)\ttotal: 40.6s\tremaining: 1m 49s\n",
      "271:\tlearn: 1436.4250165\ttest: 1489.1337145\tbest: 1489.1337145 (271)\ttotal: 40.8s\tremaining: 1m 49s\n",
      "272:\tlearn: 1436.1942534\ttest: 1489.0256142\tbest: 1489.0256142 (272)\ttotal: 40.9s\tremaining: 1m 48s\n",
      "273:\tlearn: 1435.6534179\ttest: 1488.7299454\tbest: 1488.7299454 (273)\ttotal: 41.1s\tremaining: 1m 48s\n",
      "274:\tlearn: 1435.1088135\ttest: 1488.3845935\tbest: 1488.3845935 (274)\ttotal: 41.2s\tremaining: 1m 48s\n",
      "275:\tlearn: 1434.7042732\ttest: 1488.2487836\tbest: 1488.2487836 (275)\ttotal: 41.3s\tremaining: 1m 48s\n",
      "276:\tlearn: 1434.3454743\ttest: 1488.0018034\tbest: 1488.0018034 (276)\ttotal: 41.5s\tremaining: 1m 48s\n",
      "277:\tlearn: 1433.8145405\ttest: 1487.6918656\tbest: 1487.6918656 (277)\ttotal: 41.6s\tremaining: 1m 48s\n",
      "278:\tlearn: 1433.5519607\ttest: 1487.4226114\tbest: 1487.4226114 (278)\ttotal: 41.8s\tremaining: 1m 47s\n",
      "279:\tlearn: 1433.3133315\ttest: 1487.2599730\tbest: 1487.2599730 (279)\ttotal: 41.9s\tremaining: 1m 47s\n",
      "280:\tlearn: 1433.0577261\ttest: 1487.2244784\tbest: 1487.2244784 (280)\ttotal: 42.1s\tremaining: 1m 47s\n",
      "281:\tlearn: 1432.5934823\ttest: 1486.9899109\tbest: 1486.9899109 (281)\ttotal: 42.2s\tremaining: 1m 47s\n",
      "282:\tlearn: 1432.3564951\ttest: 1486.8425278\tbest: 1486.8425278 (282)\ttotal: 42.4s\tremaining: 1m 47s\n",
      "283:\tlearn: 1432.1155594\ttest: 1486.6394737\tbest: 1486.6394737 (283)\ttotal: 42.5s\tremaining: 1m 47s\n",
      "284:\tlearn: 1431.6917399\ttest: 1486.3173749\tbest: 1486.3173749 (284)\ttotal: 42.6s\tremaining: 1m 46s\n",
      "285:\tlearn: 1431.2668630\ttest: 1486.0928763\tbest: 1486.0928763 (285)\ttotal: 42.8s\tremaining: 1m 46s\n",
      "286:\tlearn: 1431.0398387\ttest: 1486.0299434\tbest: 1486.0299434 (286)\ttotal: 42.9s\tremaining: 1m 46s\n",
      "287:\tlearn: 1430.5374942\ttest: 1485.6757940\tbest: 1485.6757940 (287)\ttotal: 43.1s\tremaining: 1m 46s\n",
      "288:\tlearn: 1430.0208117\ttest: 1485.0961759\tbest: 1485.0961759 (288)\ttotal: 43.2s\tremaining: 1m 46s\n",
      "289:\tlearn: 1429.7935389\ttest: 1484.9339429\tbest: 1484.9339429 (289)\ttotal: 43.4s\tremaining: 1m 46s\n",
      "290:\tlearn: 1429.4870889\ttest: 1484.6712091\tbest: 1484.6712091 (290)\ttotal: 43.5s\tremaining: 1m 46s\n",
      "291:\tlearn: 1429.1087119\ttest: 1484.5641566\tbest: 1484.5641566 (291)\ttotal: 43.7s\tremaining: 1m 45s\n",
      "292:\tlearn: 1428.7567842\ttest: 1484.3980246\tbest: 1484.3980246 (292)\ttotal: 43.8s\tremaining: 1m 45s\n",
      "293:\tlearn: 1428.3715391\ttest: 1484.1917006\tbest: 1484.1917006 (293)\ttotal: 43.9s\tremaining: 1m 45s\n",
      "294:\tlearn: 1427.8143349\ttest: 1484.0431870\tbest: 1484.0431870 (294)\ttotal: 44.1s\tremaining: 1m 45s\n",
      "295:\tlearn: 1427.3987924\ttest: 1483.6882520\tbest: 1483.6882520 (295)\ttotal: 44.2s\tremaining: 1m 45s\n",
      "296:\tlearn: 1427.1202076\ttest: 1483.5419166\tbest: 1483.5419166 (296)\ttotal: 44.4s\tremaining: 1m 45s\n",
      "297:\tlearn: 1426.7442880\ttest: 1483.4270351\tbest: 1483.4270351 (297)\ttotal: 44.5s\tremaining: 1m 44s\n",
      "298:\tlearn: 1426.3287227\ttest: 1483.2256352\tbest: 1483.2256352 (298)\ttotal: 44.7s\tremaining: 1m 44s\n",
      "299:\tlearn: 1426.0370958\ttest: 1483.0290716\tbest: 1483.0290716 (299)\ttotal: 44.8s\tremaining: 1m 44s\n",
      "300:\tlearn: 1425.8093312\ttest: 1482.9224147\tbest: 1482.9224147 (300)\ttotal: 45s\tremaining: 1m 44s\n",
      "301:\tlearn: 1425.4470222\ttest: 1482.7948520\tbest: 1482.7948520 (301)\ttotal: 45.1s\tremaining: 1m 44s\n",
      "302:\tlearn: 1425.0541073\ttest: 1482.5930326\tbest: 1482.5930326 (302)\ttotal: 45.2s\tremaining: 1m 44s\n",
      "303:\tlearn: 1424.4440892\ttest: 1482.2097657\tbest: 1482.2097657 (303)\ttotal: 45.4s\tremaining: 1m 43s\n",
      "304:\tlearn: 1424.0467118\ttest: 1482.0902316\tbest: 1482.0902316 (304)\ttotal: 45.5s\tremaining: 1m 43s\n",
      "305:\tlearn: 1423.7644817\ttest: 1482.0238187\tbest: 1482.0238187 (305)\ttotal: 45.7s\tremaining: 1m 43s\n",
      "306:\tlearn: 1423.4712061\ttest: 1481.8428172\tbest: 1481.8428172 (306)\ttotal: 45.8s\tremaining: 1m 43s\n",
      "307:\tlearn: 1423.2748818\ttest: 1481.6748346\tbest: 1481.6748346 (307)\ttotal: 46s\tremaining: 1m 43s\n",
      "308:\tlearn: 1423.0879942\ttest: 1481.5432796\tbest: 1481.5432796 (308)\ttotal: 46.2s\tremaining: 1m 43s\n",
      "309:\tlearn: 1422.6187643\ttest: 1481.3454236\tbest: 1481.3454236 (309)\ttotal: 46.3s\tremaining: 1m 43s\n",
      "310:\tlearn: 1422.1480725\ttest: 1481.1484515\tbest: 1481.1484515 (310)\ttotal: 46.5s\tremaining: 1m 42s\n",
      "311:\tlearn: 1422.0008838\ttest: 1481.0949098\tbest: 1481.0949098 (311)\ttotal: 46.6s\tremaining: 1m 42s\n",
      "312:\tlearn: 1421.7038976\ttest: 1480.8576076\tbest: 1480.8576076 (312)\ttotal: 46.8s\tremaining: 1m 42s\n",
      "313:\tlearn: 1421.3872256\ttest: 1480.6388348\tbest: 1480.6388348 (313)\ttotal: 46.9s\tremaining: 1m 42s\n",
      "314:\tlearn: 1421.1096734\ttest: 1480.5231163\tbest: 1480.5231163 (314)\ttotal: 47.1s\tremaining: 1m 42s\n",
      "315:\tlearn: 1420.7884154\ttest: 1480.2153513\tbest: 1480.2153513 (315)\ttotal: 47.2s\tremaining: 1m 42s\n",
      "316:\tlearn: 1420.4637072\ttest: 1480.0460199\tbest: 1480.0460199 (316)\ttotal: 47.4s\tremaining: 1m 42s\n",
      "317:\tlearn: 1420.1720719\ttest: 1479.9241440\tbest: 1479.9241440 (317)\ttotal: 47.5s\tremaining: 1m 41s\n",
      "318:\tlearn: 1419.7889380\ttest: 1479.8185134\tbest: 1479.8185134 (318)\ttotal: 47.6s\tremaining: 1m 41s\n",
      "319:\tlearn: 1419.5952095\ttest: 1479.7375144\tbest: 1479.7375144 (319)\ttotal: 47.8s\tremaining: 1m 41s\n",
      "320:\tlearn: 1419.2599979\ttest: 1479.5017213\tbest: 1479.5017213 (320)\ttotal: 47.9s\tremaining: 1m 41s\n",
      "321:\tlearn: 1419.0417060\ttest: 1479.3704931\tbest: 1479.3704931 (321)\ttotal: 48.1s\tremaining: 1m 41s\n",
      "322:\tlearn: 1418.7526395\ttest: 1479.1859263\tbest: 1479.1859263 (322)\ttotal: 48.2s\tremaining: 1m 41s\n",
      "323:\tlearn: 1418.4299699\ttest: 1479.0547341\tbest: 1479.0547341 (323)\ttotal: 48.4s\tremaining: 1m 40s\n",
      "324:\tlearn: 1418.0831034\ttest: 1478.9428539\tbest: 1478.9428539 (324)\ttotal: 48.6s\tremaining: 1m 40s\n",
      "325:\tlearn: 1417.7497022\ttest: 1478.7144202\tbest: 1478.7144202 (325)\ttotal: 48.7s\tremaining: 1m 40s\n",
      "326:\tlearn: 1417.3849466\ttest: 1478.5570374\tbest: 1478.5570374 (326)\ttotal: 48.9s\tremaining: 1m 40s\n",
      "327:\tlearn: 1417.0402340\ttest: 1478.3587755\tbest: 1478.3587755 (327)\ttotal: 49s\tremaining: 1m 40s\n",
      "328:\tlearn: 1416.8811898\ttest: 1478.1411530\tbest: 1478.1411530 (328)\ttotal: 49.2s\tremaining: 1m 40s\n",
      "329:\tlearn: 1416.4355221\ttest: 1478.0688786\tbest: 1478.0688786 (329)\ttotal: 49.3s\tremaining: 1m 40s\n",
      "330:\tlearn: 1416.2452601\ttest: 1477.9519698\tbest: 1477.9519698 (330)\ttotal: 49.5s\tremaining: 1m 39s\n",
      "331:\tlearn: 1415.8978774\ttest: 1477.7363674\tbest: 1477.7363674 (331)\ttotal: 49.6s\tremaining: 1m 39s\n",
      "332:\tlearn: 1415.6916898\ttest: 1477.6428137\tbest: 1477.6428137 (332)\ttotal: 49.8s\tremaining: 1m 39s\n",
      "333:\tlearn: 1415.4515400\ttest: 1477.5231745\tbest: 1477.5231745 (333)\ttotal: 49.9s\tremaining: 1m 39s\n",
      "334:\tlearn: 1415.0561873\ttest: 1477.4722367\tbest: 1477.4722367 (334)\ttotal: 50s\tremaining: 1m 39s\n",
      "335:\tlearn: 1414.7430184\ttest: 1477.2612475\tbest: 1477.2612475 (335)\ttotal: 50.2s\tremaining: 1m 39s\n",
      "336:\tlearn: 1414.5749181\ttest: 1477.1639896\tbest: 1477.1639896 (336)\ttotal: 50.3s\tremaining: 1m 39s\n",
      "337:\tlearn: 1414.2960981\ttest: 1476.9454640\tbest: 1476.9454640 (337)\ttotal: 50.5s\tremaining: 1m 38s\n",
      "338:\tlearn: 1413.8355581\ttest: 1476.6997808\tbest: 1476.6997808 (338)\ttotal: 50.6s\tremaining: 1m 38s\n",
      "339:\tlearn: 1413.5805379\ttest: 1476.5202300\tbest: 1476.5202300 (339)\ttotal: 50.8s\tremaining: 1m 38s\n",
      "340:\tlearn: 1413.2160244\ttest: 1476.3694893\tbest: 1476.3694893 (340)\ttotal: 50.9s\tremaining: 1m 38s\n",
      "341:\tlearn: 1412.8629909\ttest: 1476.1649240\tbest: 1476.1649240 (341)\ttotal: 51.1s\tremaining: 1m 38s\n",
      "342:\tlearn: 1412.7156308\ttest: 1476.2095922\tbest: 1476.1649240 (341)\ttotal: 51.2s\tremaining: 1m 38s\n",
      "343:\tlearn: 1412.4167662\ttest: 1476.0786114\tbest: 1476.0786114 (343)\ttotal: 51.4s\tremaining: 1m 37s\n",
      "344:\tlearn: 1412.1698623\ttest: 1475.9067386\tbest: 1475.9067386 (344)\ttotal: 51.5s\tremaining: 1m 37s\n",
      "345:\tlearn: 1411.9048664\ttest: 1475.7414576\tbest: 1475.7414576 (345)\ttotal: 51.7s\tremaining: 1m 37s\n",
      "346:\tlearn: 1411.5744714\ttest: 1475.6288726\tbest: 1475.6288726 (346)\ttotal: 51.8s\tremaining: 1m 37s\n",
      "347:\tlearn: 1411.2969998\ttest: 1475.4865176\tbest: 1475.4865176 (347)\ttotal: 52s\tremaining: 1m 37s\n",
      "348:\tlearn: 1411.1363694\ttest: 1475.3501927\tbest: 1475.3501927 (348)\ttotal: 52.1s\tremaining: 1m 37s\n",
      "349:\tlearn: 1410.7936668\ttest: 1475.0888571\tbest: 1475.0888571 (349)\ttotal: 52.3s\tremaining: 1m 37s\n",
      "350:\tlearn: 1410.5251272\ttest: 1474.9753668\tbest: 1474.9753668 (350)\ttotal: 52.4s\tremaining: 1m 36s\n",
      "351:\tlearn: 1410.0269857\ttest: 1474.7454087\tbest: 1474.7454087 (351)\ttotal: 52.6s\tremaining: 1m 36s\n",
      "352:\tlearn: 1409.7604633\ttest: 1474.6244055\tbest: 1474.6244055 (352)\ttotal: 52.7s\tremaining: 1m 36s\n",
      "353:\tlearn: 1409.5027474\ttest: 1474.5685895\tbest: 1474.5685895 (353)\ttotal: 52.9s\tremaining: 1m 36s\n",
      "354:\tlearn: 1409.1920510\ttest: 1474.3893257\tbest: 1474.3893257 (354)\ttotal: 53s\tremaining: 1m 36s\n",
      "355:\tlearn: 1408.9171232\ttest: 1474.2654931\tbest: 1474.2654931 (355)\ttotal: 53.1s\tremaining: 1m 36s\n",
      "356:\tlearn: 1408.6830986\ttest: 1474.1644001\tbest: 1474.1644001 (356)\ttotal: 53.3s\tremaining: 1m 35s\n",
      "357:\tlearn: 1408.5251233\ttest: 1474.1453227\tbest: 1474.1453227 (357)\ttotal: 53.4s\tremaining: 1m 35s\n",
      "358:\tlearn: 1408.0799537\ttest: 1473.7869418\tbest: 1473.7869418 (358)\ttotal: 53.6s\tremaining: 1m 35s\n",
      "359:\tlearn: 1407.8507800\ttest: 1473.7663783\tbest: 1473.7663783 (359)\ttotal: 53.7s\tremaining: 1m 35s\n",
      "360:\tlearn: 1407.6330816\ttest: 1473.6529078\tbest: 1473.6529078 (360)\ttotal: 53.9s\tremaining: 1m 35s\n",
      "361:\tlearn: 1407.2761894\ttest: 1473.4420663\tbest: 1473.4420663 (361)\ttotal: 54s\tremaining: 1m 35s\n",
      "362:\tlearn: 1406.9224398\ttest: 1473.3491933\tbest: 1473.3491933 (362)\ttotal: 54.2s\tremaining: 1m 35s\n",
      "363:\tlearn: 1406.7421025\ttest: 1473.2872347\tbest: 1473.2872347 (363)\ttotal: 54.3s\tremaining: 1m 34s\n",
      "364:\tlearn: 1406.3050831\ttest: 1473.2632646\tbest: 1473.2632646 (364)\ttotal: 54.5s\tremaining: 1m 34s\n",
      "365:\tlearn: 1406.0076402\ttest: 1473.0493618\tbest: 1473.0493618 (365)\ttotal: 54.6s\tremaining: 1m 34s\n",
      "366:\tlearn: 1405.7688613\ttest: 1472.8414004\tbest: 1472.8414004 (366)\ttotal: 54.8s\tremaining: 1m 34s\n",
      "367:\tlearn: 1405.4697820\ttest: 1472.7357294\tbest: 1472.7357294 (367)\ttotal: 54.9s\tremaining: 1m 34s\n",
      "368:\tlearn: 1405.2702015\ttest: 1472.7349371\tbest: 1472.7349371 (368)\ttotal: 55s\tremaining: 1m 34s\n",
      "369:\tlearn: 1404.9762065\ttest: 1472.5448224\tbest: 1472.5448224 (369)\ttotal: 55.2s\tremaining: 1m 33s\n",
      "370:\tlearn: 1404.7602745\ttest: 1472.4790062\tbest: 1472.4790062 (370)\ttotal: 55.3s\tremaining: 1m 33s\n",
      "371:\tlearn: 1404.4533413\ttest: 1472.3750056\tbest: 1472.3750056 (371)\ttotal: 55.5s\tremaining: 1m 33s\n",
      "372:\tlearn: 1404.1982958\ttest: 1472.3000072\tbest: 1472.3000072 (372)\ttotal: 55.6s\tremaining: 1m 33s\n",
      "373:\tlearn: 1403.9512954\ttest: 1472.1865639\tbest: 1472.1865639 (373)\ttotal: 55.8s\tremaining: 1m 33s\n",
      "374:\tlearn: 1403.7176949\ttest: 1472.0141149\tbest: 1472.0141149 (374)\ttotal: 55.9s\tremaining: 1m 33s\n",
      "375:\tlearn: 1403.3020150\ttest: 1471.8426356\tbest: 1471.8426356 (375)\ttotal: 56.1s\tremaining: 1m 33s\n",
      "376:\tlearn: 1403.1128518\ttest: 1471.7176299\tbest: 1471.7176299 (376)\ttotal: 56.2s\tremaining: 1m 32s\n",
      "377:\tlearn: 1402.8435931\ttest: 1471.6790338\tbest: 1471.6790338 (377)\ttotal: 56.4s\tremaining: 1m 32s\n",
      "378:\tlearn: 1402.6480512\ttest: 1471.6364125\tbest: 1471.6364125 (378)\ttotal: 56.5s\tremaining: 1m 32s\n",
      "379:\tlearn: 1402.4094598\ttest: 1471.5042053\tbest: 1471.5042053 (379)\ttotal: 56.7s\tremaining: 1m 32s\n",
      "380:\tlearn: 1402.2577367\ttest: 1471.3863331\tbest: 1471.3863331 (380)\ttotal: 56.8s\tremaining: 1m 32s\n",
      "381:\tlearn: 1401.8340635\ttest: 1471.1190724\tbest: 1471.1190724 (381)\ttotal: 56.9s\tremaining: 1m 32s\n",
      "382:\tlearn: 1401.6057894\ttest: 1470.9631994\tbest: 1470.9631994 (382)\ttotal: 57.1s\tremaining: 1m 31s\n",
      "383:\tlearn: 1401.3209966\ttest: 1470.7269943\tbest: 1470.7269943 (383)\ttotal: 57.2s\tremaining: 1m 31s\n",
      "384:\tlearn: 1400.9288782\ttest: 1470.5608901\tbest: 1470.5608901 (384)\ttotal: 57.4s\tremaining: 1m 31s\n",
      "385:\tlearn: 1400.5945060\ttest: 1470.5694935\tbest: 1470.5608901 (384)\ttotal: 57.5s\tremaining: 1m 31s\n",
      "386:\tlearn: 1400.2839294\ttest: 1470.4009422\tbest: 1470.4009422 (386)\ttotal: 57.7s\tremaining: 1m 31s\n",
      "387:\tlearn: 1400.1428992\ttest: 1470.3058212\tbest: 1470.3058212 (387)\ttotal: 57.8s\tremaining: 1m 31s\n",
      "388:\tlearn: 1399.8840451\ttest: 1470.2307669\tbest: 1470.2307669 (388)\ttotal: 58s\tremaining: 1m 31s\n",
      "389:\tlearn: 1399.6129298\ttest: 1470.1040234\tbest: 1470.1040234 (389)\ttotal: 58.1s\tremaining: 1m 30s\n",
      "390:\tlearn: 1399.4206222\ttest: 1470.0110799\tbest: 1470.0110799 (390)\ttotal: 58.2s\tremaining: 1m 30s\n",
      "391:\tlearn: 1399.2244861\ttest: 1469.9530390\tbest: 1469.9530390 (391)\ttotal: 58.4s\tremaining: 1m 30s\n",
      "392:\tlearn: 1398.8462589\ttest: 1469.8624227\tbest: 1469.8624227 (392)\ttotal: 58.5s\tremaining: 1m 30s\n",
      "393:\tlearn: 1398.5307014\ttest: 1469.7170016\tbest: 1469.7170016 (393)\ttotal: 58.7s\tremaining: 1m 30s\n",
      "394:\tlearn: 1398.2729569\ttest: 1469.6173714\tbest: 1469.6173714 (394)\ttotal: 58.8s\tremaining: 1m 30s\n",
      "395:\tlearn: 1397.7353950\ttest: 1469.3645809\tbest: 1469.3645809 (395)\ttotal: 59s\tremaining: 1m 29s\n",
      "396:\tlearn: 1397.5129658\ttest: 1469.2076751\tbest: 1469.2076751 (396)\ttotal: 59.1s\tremaining: 1m 29s\n",
      "397:\tlearn: 1397.2012530\ttest: 1469.0243663\tbest: 1469.0243663 (397)\ttotal: 59.3s\tremaining: 1m 29s\n",
      "398:\tlearn: 1396.8861560\ttest: 1468.9747402\tbest: 1468.9747402 (398)\ttotal: 59.4s\tremaining: 1m 29s\n",
      "399:\tlearn: 1396.3822062\ttest: 1468.6765950\tbest: 1468.6765950 (399)\ttotal: 59.6s\tremaining: 1m 29s\n",
      "400:\tlearn: 1396.1452511\ttest: 1468.6289880\tbest: 1468.6289880 (400)\ttotal: 59.7s\tremaining: 1m 29s\n",
      "401:\tlearn: 1395.9751698\ttest: 1468.5397990\tbest: 1468.5397990 (401)\ttotal: 59.9s\tremaining: 1m 29s\n",
      "402:\tlearn: 1395.7169644\ttest: 1468.4027478\tbest: 1468.4027478 (402)\ttotal: 1m\tremaining: 1m 28s\n",
      "403:\tlearn: 1395.5733310\ttest: 1468.4083370\tbest: 1468.4027478 (402)\ttotal: 1m\tremaining: 1m 28s\n",
      "404:\tlearn: 1395.3738646\ttest: 1468.3211282\tbest: 1468.3211282 (404)\ttotal: 1m\tremaining: 1m 28s\n",
      "405:\tlearn: 1395.1387679\ttest: 1468.1786435\tbest: 1468.1786435 (405)\ttotal: 1m\tremaining: 1m 28s\n",
      "406:\tlearn: 1394.9291131\ttest: 1468.0948665\tbest: 1468.0948665 (406)\ttotal: 1m\tremaining: 1m 28s\n",
      "407:\tlearn: 1394.5843336\ttest: 1467.9592823\tbest: 1467.9592823 (407)\ttotal: 1m\tremaining: 1m 28s\n",
      "408:\tlearn: 1394.1358876\ttest: 1467.7577632\tbest: 1467.7577632 (408)\ttotal: 1m\tremaining: 1m 27s\n",
      "409:\tlearn: 1393.8133064\ttest: 1467.6156914\tbest: 1467.6156914 (409)\ttotal: 1m 1s\tremaining: 1m 27s\n",
      "410:\tlearn: 1393.5117449\ttest: 1467.5813450\tbest: 1467.5813450 (410)\ttotal: 1m 1s\tremaining: 1m 27s\n",
      "411:\tlearn: 1393.2740678\ttest: 1467.4922542\tbest: 1467.4922542 (411)\ttotal: 1m 1s\tremaining: 1m 27s\n",
      "412:\tlearn: 1393.0834274\ttest: 1467.4555018\tbest: 1467.4555018 (412)\ttotal: 1m 1s\tremaining: 1m 27s\n",
      "413:\tlearn: 1392.7951272\ttest: 1467.2459283\tbest: 1467.2459283 (413)\ttotal: 1m 1s\tremaining: 1m 27s\n",
      "414:\tlearn: 1392.4053732\ttest: 1467.2336932\tbest: 1467.2336932 (414)\ttotal: 1m 1s\tremaining: 1m 27s\n",
      "415:\tlearn: 1392.1686657\ttest: 1467.1480806\tbest: 1467.1480806 (415)\ttotal: 1m 1s\tremaining: 1m 26s\n",
      "416:\tlearn: 1392.0024177\ttest: 1467.0879090\tbest: 1467.0879090 (416)\ttotal: 1m 2s\tremaining: 1m 26s\n",
      "417:\tlearn: 1391.7982901\ttest: 1467.0726450\tbest: 1467.0726450 (417)\ttotal: 1m 2s\tremaining: 1m 26s\n",
      "418:\tlearn: 1391.6320838\ttest: 1467.0089068\tbest: 1467.0089068 (418)\ttotal: 1m 2s\tremaining: 1m 26s\n",
      "419:\tlearn: 1391.4827040\ttest: 1466.9817559\tbest: 1466.9817559 (419)\ttotal: 1m 2s\tremaining: 1m 26s\n",
      "420:\tlearn: 1391.2181656\ttest: 1466.9437327\tbest: 1466.9437327 (420)\ttotal: 1m 2s\tremaining: 1m 26s\n",
      "421:\tlearn: 1390.9135568\ttest: 1466.7354736\tbest: 1466.7354736 (421)\ttotal: 1m 2s\tremaining: 1m 25s\n",
      "422:\tlearn: 1390.7166295\ttest: 1466.6390667\tbest: 1466.6390667 (422)\ttotal: 1m 2s\tremaining: 1m 25s\n",
      "423:\tlearn: 1390.3839059\ttest: 1466.4630780\tbest: 1466.4630780 (423)\ttotal: 1m 3s\tremaining: 1m 25s\n",
      "424:\tlearn: 1390.0490007\ttest: 1466.3189687\tbest: 1466.3189687 (424)\ttotal: 1m 3s\tremaining: 1m 25s\n",
      "425:\tlearn: 1389.8143875\ttest: 1466.1987958\tbest: 1466.1987958 (425)\ttotal: 1m 3s\tremaining: 1m 25s\n",
      "426:\tlearn: 1389.4745723\ttest: 1465.9403011\tbest: 1465.9403011 (426)\ttotal: 1m 3s\tremaining: 1m 25s\n",
      "427:\tlearn: 1389.2232035\ttest: 1465.8176155\tbest: 1465.8176155 (427)\ttotal: 1m 3s\tremaining: 1m 25s\n",
      "428:\tlearn: 1388.9959137\ttest: 1465.7601884\tbest: 1465.7601884 (428)\ttotal: 1m 3s\tremaining: 1m 24s\n",
      "429:\tlearn: 1388.7533157\ttest: 1465.6556492\tbest: 1465.6556492 (429)\ttotal: 1m 3s\tremaining: 1m 24s\n",
      "430:\tlearn: 1388.5390462\ttest: 1465.5250950\tbest: 1465.5250950 (430)\ttotal: 1m 4s\tremaining: 1m 24s\n",
      "431:\tlearn: 1388.3294822\ttest: 1465.3320935\tbest: 1465.3320935 (431)\ttotal: 1m 4s\tremaining: 1m 24s\n",
      "432:\tlearn: 1388.1134426\ttest: 1465.2428682\tbest: 1465.2428682 (432)\ttotal: 1m 4s\tremaining: 1m 24s\n",
      "433:\tlearn: 1387.9200178\ttest: 1465.1996534\tbest: 1465.1996534 (433)\ttotal: 1m 4s\tremaining: 1m 24s\n",
      "434:\tlearn: 1387.6545529\ttest: 1465.1568404\tbest: 1465.1568404 (434)\ttotal: 1m 4s\tremaining: 1m 24s\n",
      "435:\tlearn: 1387.2826645\ttest: 1465.1291966\tbest: 1465.1291966 (435)\ttotal: 1m 4s\tremaining: 1m 24s\n",
      "436:\tlearn: 1387.0606439\ttest: 1465.1296292\tbest: 1465.1291966 (435)\ttotal: 1m 5s\tremaining: 1m 23s\n",
      "437:\tlearn: 1386.8989907\ttest: 1465.0504280\tbest: 1465.0504280 (437)\ttotal: 1m 5s\tremaining: 1m 23s\n",
      "438:\tlearn: 1386.5395123\ttest: 1464.9537916\tbest: 1464.9537916 (438)\ttotal: 1m 5s\tremaining: 1m 23s\n",
      "439:\tlearn: 1386.3401499\ttest: 1464.7820203\tbest: 1464.7820203 (439)\ttotal: 1m 5s\tremaining: 1m 23s\n",
      "440:\tlearn: 1386.2161401\ttest: 1464.7344478\tbest: 1464.7344478 (440)\ttotal: 1m 5s\tremaining: 1m 23s\n",
      "441:\tlearn: 1386.0914115\ttest: 1464.7512550\tbest: 1464.7344478 (440)\ttotal: 1m 5s\tremaining: 1m 23s\n",
      "442:\tlearn: 1385.8172814\ttest: 1464.5571745\tbest: 1464.5571745 (442)\ttotal: 1m 5s\tremaining: 1m 22s\n",
      "443:\tlearn: 1385.5888924\ttest: 1464.3987376\tbest: 1464.3987376 (443)\ttotal: 1m 6s\tremaining: 1m 22s\n",
      "444:\tlearn: 1385.3967998\ttest: 1464.3005118\tbest: 1464.3005118 (444)\ttotal: 1m 6s\tremaining: 1m 22s\n",
      "445:\tlearn: 1385.2173592\ttest: 1464.2233684\tbest: 1464.2233684 (445)\ttotal: 1m 6s\tremaining: 1m 22s\n",
      "446:\tlearn: 1385.0310751\ttest: 1464.1373609\tbest: 1464.1373609 (446)\ttotal: 1m 6s\tremaining: 1m 22s\n",
      "447:\tlearn: 1384.8077178\ttest: 1464.0576822\tbest: 1464.0576822 (447)\ttotal: 1m 6s\tremaining: 1m 22s\n",
      "448:\tlearn: 1384.6545899\ttest: 1464.0715461\tbest: 1464.0576822 (447)\ttotal: 1m 6s\tremaining: 1m 22s\n",
      "449:\tlearn: 1384.2061780\ttest: 1463.8557132\tbest: 1463.8557132 (449)\ttotal: 1m 6s\tremaining: 1m 21s\n",
      "450:\tlearn: 1383.9347282\ttest: 1463.6452367\tbest: 1463.6452367 (450)\ttotal: 1m 7s\tremaining: 1m 21s\n",
      "451:\tlearn: 1383.7718025\ttest: 1463.6160660\tbest: 1463.6160660 (451)\ttotal: 1m 7s\tremaining: 1m 21s\n",
      "452:\tlearn: 1383.4177656\ttest: 1463.4105483\tbest: 1463.4105483 (452)\ttotal: 1m 7s\tremaining: 1m 21s\n",
      "453:\tlearn: 1383.2165076\ttest: 1463.4225802\tbest: 1463.4105483 (452)\ttotal: 1m 7s\tremaining: 1m 21s\n",
      "454:\tlearn: 1383.0994515\ttest: 1463.3311554\tbest: 1463.3311554 (454)\ttotal: 1m 7s\tremaining: 1m 21s\n",
      "455:\tlearn: 1382.8436638\ttest: 1463.2246497\tbest: 1463.2246497 (455)\ttotal: 1m 7s\tremaining: 1m 20s\n",
      "456:\tlearn: 1382.4963782\ttest: 1463.1414693\tbest: 1463.1414693 (456)\ttotal: 1m 7s\tremaining: 1m 20s\n",
      "457:\tlearn: 1382.1668674\ttest: 1463.0129736\tbest: 1463.0129736 (457)\ttotal: 1m 8s\tremaining: 1m 20s\n",
      "458:\tlearn: 1381.9184492\ttest: 1462.8991238\tbest: 1462.8991238 (458)\ttotal: 1m 8s\tremaining: 1m 20s\n",
      "459:\tlearn: 1381.6092714\ttest: 1462.8492587\tbest: 1462.8492587 (459)\ttotal: 1m 8s\tremaining: 1m 20s\n",
      "460:\tlearn: 1381.2799230\ttest: 1462.7784791\tbest: 1462.7784791 (460)\ttotal: 1m 8s\tremaining: 1m 20s\n",
      "461:\tlearn: 1381.0162506\ttest: 1462.7764190\tbest: 1462.7764190 (461)\ttotal: 1m 8s\tremaining: 1m 19s\n",
      "462:\tlearn: 1380.7680295\ttest: 1462.7513545\tbest: 1462.7513545 (462)\ttotal: 1m 8s\tremaining: 1m 19s\n",
      "463:\tlearn: 1380.4992338\ttest: 1462.6047584\tbest: 1462.6047584 (463)\ttotal: 1m 8s\tremaining: 1m 19s\n",
      "464:\tlearn: 1380.2945147\ttest: 1462.5034948\tbest: 1462.5034948 (464)\ttotal: 1m 9s\tremaining: 1m 19s\n",
      "465:\tlearn: 1379.8518101\ttest: 1462.2843769\tbest: 1462.2843769 (465)\ttotal: 1m 9s\tremaining: 1m 19s\n",
      "466:\tlearn: 1379.7072837\ttest: 1462.2507323\tbest: 1462.2507323 (466)\ttotal: 1m 9s\tremaining: 1m 19s\n",
      "467:\tlearn: 1379.4459108\ttest: 1462.2488969\tbest: 1462.2488969 (467)\ttotal: 1m 9s\tremaining: 1m 19s\n",
      "468:\tlearn: 1378.9964490\ttest: 1462.0529147\tbest: 1462.0529147 (468)\ttotal: 1m 9s\tremaining: 1m 18s\n",
      "469:\tlearn: 1378.7125447\ttest: 1462.0122035\tbest: 1462.0122035 (469)\ttotal: 1m 9s\tremaining: 1m 18s\n",
      "470:\tlearn: 1378.4086734\ttest: 1461.8912092\tbest: 1461.8912092 (470)\ttotal: 1m 10s\tremaining: 1m 18s\n",
      "471:\tlearn: 1378.0657159\ttest: 1461.7447572\tbest: 1461.7447572 (471)\ttotal: 1m 10s\tremaining: 1m 18s\n",
      "472:\tlearn: 1377.8390111\ttest: 1461.6251325\tbest: 1461.6251325 (472)\ttotal: 1m 10s\tremaining: 1m 18s\n",
      "473:\tlearn: 1377.7042834\ttest: 1461.6248087\tbest: 1461.6248087 (473)\ttotal: 1m 10s\tremaining: 1m 18s\n",
      "474:\tlearn: 1377.5021054\ttest: 1461.4376712\tbest: 1461.4376712 (474)\ttotal: 1m 10s\tremaining: 1m 18s\n",
      "475:\tlearn: 1377.1117278\ttest: 1461.4001214\tbest: 1461.4001214 (475)\ttotal: 1m 10s\tremaining: 1m 17s\n",
      "476:\tlearn: 1376.8557701\ttest: 1461.4270603\tbest: 1461.4001214 (475)\ttotal: 1m 10s\tremaining: 1m 17s\n",
      "477:\tlearn: 1376.6730714\ttest: 1461.3980489\tbest: 1461.3980489 (477)\ttotal: 1m 11s\tremaining: 1m 17s\n",
      "478:\tlearn: 1376.4870013\ttest: 1461.3321603\tbest: 1461.3321603 (478)\ttotal: 1m 11s\tremaining: 1m 17s\n",
      "479:\tlearn: 1376.3506816\ttest: 1461.2520455\tbest: 1461.2520455 (479)\ttotal: 1m 11s\tremaining: 1m 17s\n",
      "480:\tlearn: 1376.1676068\ttest: 1461.1424745\tbest: 1461.1424745 (480)\ttotal: 1m 11s\tremaining: 1m 17s\n",
      "481:\tlearn: 1375.9617883\ttest: 1461.1081915\tbest: 1461.1081915 (481)\ttotal: 1m 11s\tremaining: 1m 16s\n",
      "482:\tlearn: 1375.7162015\ttest: 1461.0170036\tbest: 1461.0170036 (482)\ttotal: 1m 11s\tremaining: 1m 16s\n",
      "483:\tlearn: 1375.5604342\ttest: 1461.0442874\tbest: 1461.0170036 (482)\ttotal: 1m 11s\tremaining: 1m 16s\n",
      "484:\tlearn: 1375.3027870\ttest: 1460.8267912\tbest: 1460.8267912 (484)\ttotal: 1m 12s\tremaining: 1m 16s\n",
      "485:\tlearn: 1375.1597085\ttest: 1460.7442871\tbest: 1460.7442871 (485)\ttotal: 1m 12s\tremaining: 1m 16s\n",
      "486:\tlearn: 1375.0778322\ttest: 1460.7285078\tbest: 1460.7285078 (486)\ttotal: 1m 12s\tremaining: 1m 16s\n",
      "487:\tlearn: 1374.9494548\ttest: 1460.7000462\tbest: 1460.7000462 (487)\ttotal: 1m 12s\tremaining: 1m 16s\n",
      "488:\tlearn: 1374.7803416\ttest: 1460.6727723\tbest: 1460.6727723 (488)\ttotal: 1m 12s\tremaining: 1m 15s\n",
      "489:\tlearn: 1374.6551155\ttest: 1460.6103039\tbest: 1460.6103039 (489)\ttotal: 1m 12s\tremaining: 1m 15s\n",
      "490:\tlearn: 1374.4622484\ttest: 1460.5174412\tbest: 1460.5174412 (490)\ttotal: 1m 12s\tremaining: 1m 15s\n",
      "491:\tlearn: 1374.2744432\ttest: 1460.4798769\tbest: 1460.4798769 (491)\ttotal: 1m 13s\tremaining: 1m 15s\n",
      "492:\tlearn: 1373.7654020\ttest: 1460.3077647\tbest: 1460.3077647 (492)\ttotal: 1m 13s\tremaining: 1m 15s\n",
      "493:\tlearn: 1373.5977127\ttest: 1460.2300173\tbest: 1460.2300173 (493)\ttotal: 1m 13s\tremaining: 1m 15s\n",
      "494:\tlearn: 1373.2113505\ttest: 1459.9691304\tbest: 1459.9691304 (494)\ttotal: 1m 13s\tremaining: 1m 14s\n",
      "495:\tlearn: 1373.0607528\ttest: 1459.9095634\tbest: 1459.9095634 (495)\ttotal: 1m 13s\tremaining: 1m 14s\n",
      "496:\tlearn: 1372.6780454\ttest: 1459.8755167\tbest: 1459.8755167 (496)\ttotal: 1m 13s\tremaining: 1m 14s\n",
      "497:\tlearn: 1372.4896569\ttest: 1459.7451208\tbest: 1459.7451208 (497)\ttotal: 1m 13s\tremaining: 1m 14s\n",
      "498:\tlearn: 1372.2734472\ttest: 1459.6518549\tbest: 1459.6518549 (498)\ttotal: 1m 14s\tremaining: 1m 14s\n",
      "499:\tlearn: 1371.9755696\ttest: 1459.5082432\tbest: 1459.5082432 (499)\ttotal: 1m 14s\tremaining: 1m 14s\n",
      "500:\tlearn: 1371.7507439\ttest: 1459.3953231\tbest: 1459.3953231 (500)\ttotal: 1m 14s\tremaining: 1m 14s\n",
      "501:\tlearn: 1371.3682801\ttest: 1459.3217336\tbest: 1459.3217336 (501)\ttotal: 1m 14s\tremaining: 1m 13s\n",
      "502:\tlearn: 1371.1475013\ttest: 1459.2476473\tbest: 1459.2476473 (502)\ttotal: 1m 14s\tremaining: 1m 13s\n",
      "503:\tlearn: 1371.0309178\ttest: 1459.1829909\tbest: 1459.1829909 (503)\ttotal: 1m 14s\tremaining: 1m 13s\n",
      "504:\tlearn: 1370.7503678\ttest: 1459.1380890\tbest: 1459.1380890 (504)\ttotal: 1m 14s\tremaining: 1m 13s\n",
      "505:\tlearn: 1370.5150658\ttest: 1459.0612920\tbest: 1459.0612920 (505)\ttotal: 1m 15s\tremaining: 1m 13s\n",
      "506:\tlearn: 1370.3270761\ttest: 1458.9048036\tbest: 1458.9048036 (506)\ttotal: 1m 15s\tremaining: 1m 13s\n",
      "507:\tlearn: 1370.0961351\ttest: 1458.8426304\tbest: 1458.8426304 (507)\ttotal: 1m 15s\tremaining: 1m 12s\n",
      "508:\tlearn: 1369.7715108\ttest: 1458.6935279\tbest: 1458.6935279 (508)\ttotal: 1m 15s\tremaining: 1m 12s\n",
      "509:\tlearn: 1369.5284475\ttest: 1458.5826792\tbest: 1458.5826792 (509)\ttotal: 1m 15s\tremaining: 1m 12s\n",
      "510:\tlearn: 1369.4486768\ttest: 1458.5683833\tbest: 1458.5683833 (510)\ttotal: 1m 15s\tremaining: 1m 12s\n",
      "511:\tlearn: 1369.2656666\ttest: 1458.5191032\tbest: 1458.5191032 (511)\ttotal: 1m 15s\tremaining: 1m 12s\n",
      "512:\tlearn: 1368.8604414\ttest: 1458.4232525\tbest: 1458.4232525 (512)\ttotal: 1m 16s\tremaining: 1m 12s\n",
      "513:\tlearn: 1368.6447428\ttest: 1458.4241795\tbest: 1458.4232525 (512)\ttotal: 1m 16s\tremaining: 1m 12s\n",
      "514:\tlearn: 1368.4251876\ttest: 1458.4847214\tbest: 1458.4232525 (512)\ttotal: 1m 16s\tremaining: 1m 11s\n",
      "515:\tlearn: 1368.2340649\ttest: 1458.4002664\tbest: 1458.4002664 (515)\ttotal: 1m 16s\tremaining: 1m 11s\n",
      "516:\tlearn: 1367.9225711\ttest: 1458.3611899\tbest: 1458.3611899 (516)\ttotal: 1m 16s\tremaining: 1m 11s\n",
      "517:\tlearn: 1367.6470485\ttest: 1458.2394939\tbest: 1458.2394939 (517)\ttotal: 1m 16s\tremaining: 1m 11s\n",
      "518:\tlearn: 1367.4306076\ttest: 1458.1546305\tbest: 1458.1546305 (518)\ttotal: 1m 16s\tremaining: 1m 11s\n",
      "519:\tlearn: 1367.2003454\ttest: 1458.0993880\tbest: 1458.0993880 (519)\ttotal: 1m 17s\tremaining: 1m 11s\n",
      "520:\tlearn: 1366.9766677\ttest: 1458.0700914\tbest: 1458.0700914 (520)\ttotal: 1m 17s\tremaining: 1m 10s\n",
      "521:\tlearn: 1366.8525301\ttest: 1458.1101242\tbest: 1458.0700914 (520)\ttotal: 1m 17s\tremaining: 1m 10s\n",
      "522:\tlearn: 1366.5104781\ttest: 1458.0497393\tbest: 1458.0497393 (522)\ttotal: 1m 17s\tremaining: 1m 10s\n",
      "523:\tlearn: 1366.3081321\ttest: 1457.9966503\tbest: 1457.9966503 (523)\ttotal: 1m 17s\tremaining: 1m 10s\n",
      "524:\tlearn: 1366.0172815\ttest: 1457.9053602\tbest: 1457.9053602 (524)\ttotal: 1m 17s\tremaining: 1m 10s\n",
      "525:\tlearn: 1365.8695942\ttest: 1457.8975551\tbest: 1457.8975551 (525)\ttotal: 1m 17s\tremaining: 1m 10s\n",
      "526:\tlearn: 1365.6600559\ttest: 1457.8437004\tbest: 1457.8437004 (526)\ttotal: 1m 18s\tremaining: 1m 10s\n",
      "527:\tlearn: 1365.4469324\ttest: 1457.7198327\tbest: 1457.7198327 (527)\ttotal: 1m 18s\tremaining: 1m 9s\n",
      "528:\tlearn: 1365.2392983\ttest: 1457.5736124\tbest: 1457.5736124 (528)\ttotal: 1m 18s\tremaining: 1m 9s\n",
      "529:\tlearn: 1365.0756562\ttest: 1457.4573084\tbest: 1457.4573084 (529)\ttotal: 1m 18s\tremaining: 1m 9s\n",
      "530:\tlearn: 1364.8825669\ttest: 1457.4060302\tbest: 1457.4060302 (530)\ttotal: 1m 18s\tremaining: 1m 9s\n",
      "531:\tlearn: 1364.6221130\ttest: 1457.3281735\tbest: 1457.3281735 (531)\ttotal: 1m 18s\tremaining: 1m 9s\n",
      "532:\tlearn: 1364.4414530\ttest: 1457.2346598\tbest: 1457.2346598 (532)\ttotal: 1m 18s\tremaining: 1m 9s\n",
      "533:\tlearn: 1364.2814835\ttest: 1457.1901066\tbest: 1457.1901066 (533)\ttotal: 1m 19s\tremaining: 1m 9s\n",
      "534:\tlearn: 1363.9645729\ttest: 1457.0491953\tbest: 1457.0491953 (534)\ttotal: 1m 19s\tremaining: 1m 8s\n",
      "535:\tlearn: 1363.7736213\ttest: 1456.9995362\tbest: 1456.9995362 (535)\ttotal: 1m 19s\tremaining: 1m 8s\n",
      "536:\tlearn: 1363.5068307\ttest: 1456.9787900\tbest: 1456.9787900 (536)\ttotal: 1m 19s\tremaining: 1m 8s\n",
      "537:\tlearn: 1363.2989454\ttest: 1456.9385416\tbest: 1456.9385416 (537)\ttotal: 1m 19s\tremaining: 1m 8s\n",
      "538:\tlearn: 1363.0775487\ttest: 1456.9072034\tbest: 1456.9072034 (538)\ttotal: 1m 19s\tremaining: 1m 8s\n",
      "539:\tlearn: 1362.8222468\ttest: 1456.8296766\tbest: 1456.8296766 (539)\ttotal: 1m 19s\tremaining: 1m 8s\n",
      "540:\tlearn: 1362.4907695\ttest: 1456.7514455\tbest: 1456.7514455 (540)\ttotal: 1m 20s\tremaining: 1m 7s\n",
      "541:\tlearn: 1362.3473243\ttest: 1456.6835336\tbest: 1456.6835336 (541)\ttotal: 1m 20s\tremaining: 1m 7s\n",
      "542:\tlearn: 1362.1172242\ttest: 1456.5887931\tbest: 1456.5887931 (542)\ttotal: 1m 20s\tremaining: 1m 7s\n",
      "543:\tlearn: 1361.9779756\ttest: 1456.5033470\tbest: 1456.5033470 (543)\ttotal: 1m 20s\tremaining: 1m 7s\n",
      "544:\tlearn: 1361.7856196\ttest: 1456.4592260\tbest: 1456.4592260 (544)\ttotal: 1m 20s\tremaining: 1m 7s\n",
      "545:\tlearn: 1361.6438846\ttest: 1456.4024185\tbest: 1456.4024185 (545)\ttotal: 1m 20s\tremaining: 1m 7s\n",
      "546:\tlearn: 1361.5175045\ttest: 1456.3797232\tbest: 1456.3797232 (546)\ttotal: 1m 21s\tremaining: 1m 7s\n",
      "547:\tlearn: 1361.1272986\ttest: 1456.3081641\tbest: 1456.3081641 (547)\ttotal: 1m 21s\tremaining: 1m 6s\n",
      "548:\tlearn: 1360.9994132\ttest: 1456.2983012\tbest: 1456.2983012 (548)\ttotal: 1m 21s\tremaining: 1m 6s\n",
      "549:\tlearn: 1360.8477147\ttest: 1456.1939037\tbest: 1456.1939037 (549)\ttotal: 1m 21s\tremaining: 1m 6s\n",
      "550:\tlearn: 1360.5570630\ttest: 1456.0913266\tbest: 1456.0913266 (550)\ttotal: 1m 21s\tremaining: 1m 6s\n",
      "551:\tlearn: 1360.2873158\ttest: 1456.0176119\tbest: 1456.0176119 (551)\ttotal: 1m 21s\tremaining: 1m 6s\n",
      "552:\tlearn: 1360.1922400\ttest: 1455.9650487\tbest: 1455.9650487 (552)\ttotal: 1m 21s\tremaining: 1m 6s\n",
      "553:\tlearn: 1359.9160151\ttest: 1455.8047474\tbest: 1455.8047474 (553)\ttotal: 1m 22s\tremaining: 1m 6s\n",
      "554:\tlearn: 1359.7901137\ttest: 1455.7030684\tbest: 1455.7030684 (554)\ttotal: 1m 22s\tremaining: 1m 5s\n",
      "555:\tlearn: 1359.5419615\ttest: 1455.5613579\tbest: 1455.5613579 (555)\ttotal: 1m 22s\tremaining: 1m 5s\n",
      "556:\tlearn: 1359.4870586\ttest: 1455.5663471\tbest: 1455.5613579 (555)\ttotal: 1m 22s\tremaining: 1m 5s\n",
      "557:\tlearn: 1359.3373506\ttest: 1455.5343406\tbest: 1455.5343406 (557)\ttotal: 1m 22s\tremaining: 1m 5s\n",
      "558:\tlearn: 1359.1425695\ttest: 1455.4382359\tbest: 1455.4382359 (558)\ttotal: 1m 22s\tremaining: 1m 5s\n",
      "559:\tlearn: 1358.8166463\ttest: 1455.2762930\tbest: 1455.2762930 (559)\ttotal: 1m 22s\tremaining: 1m 5s\n",
      "560:\tlearn: 1358.5735969\ttest: 1455.1420009\tbest: 1455.1420009 (560)\ttotal: 1m 23s\tremaining: 1m 4s\n",
      "561:\tlearn: 1358.3695265\ttest: 1455.0527388\tbest: 1455.0527388 (561)\ttotal: 1m 23s\tremaining: 1m 4s\n",
      "562:\tlearn: 1358.2515097\ttest: 1454.9844542\tbest: 1454.9844542 (562)\ttotal: 1m 23s\tremaining: 1m 4s\n",
      "563:\tlearn: 1358.0868352\ttest: 1454.9449492\tbest: 1454.9449492 (563)\ttotal: 1m 23s\tremaining: 1m 4s\n",
      "564:\tlearn: 1357.9595606\ttest: 1454.9143240\tbest: 1454.9143240 (564)\ttotal: 1m 23s\tremaining: 1m 4s\n",
      "565:\tlearn: 1357.7104979\ttest: 1454.8780494\tbest: 1454.8780494 (565)\ttotal: 1m 23s\tremaining: 1m 4s\n",
      "566:\tlearn: 1357.5746578\ttest: 1454.8880498\tbest: 1454.8780494 (565)\ttotal: 1m 23s\tremaining: 1m 4s\n",
      "567:\tlearn: 1357.3351305\ttest: 1454.9087044\tbest: 1454.8780494 (565)\ttotal: 1m 24s\tremaining: 1m 3s\n",
      "568:\tlearn: 1357.1243933\ttest: 1454.8988108\tbest: 1454.8780494 (565)\ttotal: 1m 24s\tremaining: 1m 3s\n",
      "569:\tlearn: 1356.9424150\ttest: 1454.8584991\tbest: 1454.8584991 (569)\ttotal: 1m 24s\tremaining: 1m 3s\n",
      "570:\tlearn: 1356.6098242\ttest: 1454.7725944\tbest: 1454.7725944 (570)\ttotal: 1m 24s\tremaining: 1m 3s\n",
      "571:\tlearn: 1356.4558940\ttest: 1454.7420505\tbest: 1454.7420505 (571)\ttotal: 1m 24s\tremaining: 1m 3s\n",
      "572:\tlearn: 1356.2721808\ttest: 1454.7057937\tbest: 1454.7057937 (572)\ttotal: 1m 24s\tremaining: 1m 3s\n",
      "573:\tlearn: 1356.0163220\ttest: 1454.5430369\tbest: 1454.5430369 (573)\ttotal: 1m 24s\tremaining: 1m 3s\n",
      "574:\tlearn: 1355.7664035\ttest: 1454.4112274\tbest: 1454.4112274 (574)\ttotal: 1m 25s\tremaining: 1m 2s\n",
      "575:\tlearn: 1355.6802270\ttest: 1454.3869863\tbest: 1454.3869863 (575)\ttotal: 1m 25s\tremaining: 1m 2s\n",
      "576:\tlearn: 1355.3959264\ttest: 1454.2836014\tbest: 1454.2836014 (576)\ttotal: 1m 25s\tremaining: 1m 2s\n",
      "577:\tlearn: 1355.0223055\ttest: 1454.1932263\tbest: 1454.1932263 (577)\ttotal: 1m 25s\tremaining: 1m 2s\n",
      "578:\tlearn: 1354.8373827\ttest: 1454.1494089\tbest: 1454.1494089 (578)\ttotal: 1m 25s\tremaining: 1m 2s\n",
      "579:\tlearn: 1354.5478303\ttest: 1454.0726191\tbest: 1454.0726191 (579)\ttotal: 1m 25s\tremaining: 1m 2s\n",
      "580:\tlearn: 1354.4269645\ttest: 1454.0374424\tbest: 1454.0374424 (580)\ttotal: 1m 25s\tremaining: 1m 1s\n",
      "581:\tlearn: 1354.2107963\ttest: 1453.9225910\tbest: 1453.9225910 (581)\ttotal: 1m 26s\tremaining: 1m 1s\n",
      "582:\tlearn: 1353.9377668\ttest: 1453.7230137\tbest: 1453.7230137 (582)\ttotal: 1m 26s\tremaining: 1m 1s\n",
      "583:\tlearn: 1353.6776547\ttest: 1453.5904790\tbest: 1453.5904790 (583)\ttotal: 1m 26s\tremaining: 1m 1s\n",
      "584:\tlearn: 1353.5141393\ttest: 1453.5061214\tbest: 1453.5061214 (584)\ttotal: 1m 26s\tremaining: 1m 1s\n",
      "585:\tlearn: 1353.2856775\ttest: 1453.4014066\tbest: 1453.4014066 (585)\ttotal: 1m 26s\tremaining: 1m 1s\n",
      "586:\tlearn: 1353.1006793\ttest: 1453.3965547\tbest: 1453.3965547 (586)\ttotal: 1m 26s\tremaining: 1m 1s\n",
      "587:\tlearn: 1353.0033290\ttest: 1453.3391404\tbest: 1453.3391404 (587)\ttotal: 1m 26s\tremaining: 1m\n",
      "588:\tlearn: 1352.7843734\ttest: 1453.2837825\tbest: 1453.2837825 (588)\ttotal: 1m 27s\tremaining: 1m\n",
      "589:\tlearn: 1352.6221370\ttest: 1453.2582263\tbest: 1453.2582263 (589)\ttotal: 1m 27s\tremaining: 1m\n",
      "590:\tlearn: 1352.3971324\ttest: 1453.2414957\tbest: 1453.2414957 (590)\ttotal: 1m 27s\tremaining: 1m\n",
      "591:\tlearn: 1352.2607761\ttest: 1453.2076446\tbest: 1453.2076446 (591)\ttotal: 1m 27s\tremaining: 1m\n",
      "592:\tlearn: 1352.0934810\ttest: 1453.1916814\tbest: 1453.1916814 (592)\ttotal: 1m 27s\tremaining: 1m\n",
      "593:\tlearn: 1351.8963347\ttest: 1453.1598896\tbest: 1453.1598896 (593)\ttotal: 1m 27s\tremaining: 60s\n",
      "594:\tlearn: 1351.6421900\ttest: 1453.1943580\tbest: 1453.1598896 (593)\ttotal: 1m 27s\tremaining: 59.8s\n",
      "595:\tlearn: 1351.5149222\ttest: 1453.1415559\tbest: 1453.1415559 (595)\ttotal: 1m 28s\tremaining: 59.7s\n",
      "596:\tlearn: 1351.3795196\ttest: 1453.1524914\tbest: 1453.1415559 (595)\ttotal: 1m 28s\tremaining: 59.5s\n",
      "597:\tlearn: 1351.0793596\ttest: 1453.0994638\tbest: 1453.0994638 (597)\ttotal: 1m 28s\tremaining: 59.4s\n",
      "598:\tlearn: 1350.8917666\ttest: 1453.0083605\tbest: 1453.0083605 (598)\ttotal: 1m 28s\tremaining: 59.2s\n",
      "599:\tlearn: 1350.7373480\ttest: 1452.9638332\tbest: 1452.9638332 (599)\ttotal: 1m 28s\tremaining: 59.1s\n",
      "600:\tlearn: 1350.4495748\ttest: 1452.9243235\tbest: 1452.9243235 (600)\ttotal: 1m 28s\tremaining: 58.9s\n",
      "601:\tlearn: 1350.2195298\ttest: 1452.8635804\tbest: 1452.8635804 (601)\ttotal: 1m 28s\tremaining: 58.8s\n",
      "602:\tlearn: 1350.0445941\ttest: 1452.7518929\tbest: 1452.7518929 (602)\ttotal: 1m 29s\tremaining: 58.6s\n",
      "603:\tlearn: 1349.9526067\ttest: 1452.7648737\tbest: 1452.7518929 (602)\ttotal: 1m 29s\tremaining: 58.5s\n",
      "604:\tlearn: 1349.6232197\ttest: 1452.7709259\tbest: 1452.7518929 (602)\ttotal: 1m 29s\tremaining: 58.3s\n",
      "605:\tlearn: 1349.5292472\ttest: 1452.7468349\tbest: 1452.7468349 (605)\ttotal: 1m 29s\tremaining: 58.2s\n",
      "606:\tlearn: 1349.3165864\ttest: 1452.7085073\tbest: 1452.7085073 (606)\ttotal: 1m 29s\tremaining: 58s\n",
      "607:\tlearn: 1349.1272297\ttest: 1452.6479063\tbest: 1452.6479063 (607)\ttotal: 1m 29s\tremaining: 57.9s\n",
      "608:\tlearn: 1349.0044478\ttest: 1452.6648570\tbest: 1452.6479063 (607)\ttotal: 1m 29s\tremaining: 57.7s\n",
      "609:\tlearn: 1348.7897731\ttest: 1452.5974327\tbest: 1452.5974327 (609)\ttotal: 1m 30s\tremaining: 57.6s\n",
      "610:\tlearn: 1348.6974483\ttest: 1452.5449741\tbest: 1452.5449741 (610)\ttotal: 1m 30s\tremaining: 57.4s\n",
      "611:\tlearn: 1348.5439608\ttest: 1452.4923821\tbest: 1452.4923821 (611)\ttotal: 1m 30s\tremaining: 57.3s\n",
      "612:\tlearn: 1348.4276135\ttest: 1452.4084018\tbest: 1452.4084018 (612)\ttotal: 1m 30s\tremaining: 57.1s\n",
      "613:\tlearn: 1348.2356529\ttest: 1452.2725051\tbest: 1452.2725051 (613)\ttotal: 1m 30s\tremaining: 57s\n",
      "614:\tlearn: 1348.0647580\ttest: 1452.2083434\tbest: 1452.2083434 (614)\ttotal: 1m 30s\tremaining: 56.9s\n",
      "615:\tlearn: 1347.9447926\ttest: 1452.2146497\tbest: 1452.2083434 (614)\ttotal: 1m 30s\tremaining: 56.7s\n",
      "616:\tlearn: 1347.7632823\ttest: 1452.1698436\tbest: 1452.1698436 (616)\ttotal: 1m 31s\tremaining: 56.6s\n",
      "617:\tlearn: 1347.6555432\ttest: 1452.0331416\tbest: 1452.0331416 (617)\ttotal: 1m 31s\tremaining: 56.4s\n",
      "618:\tlearn: 1347.4225691\ttest: 1452.0105655\tbest: 1452.0105655 (618)\ttotal: 1m 31s\tremaining: 56.3s\n",
      "619:\tlearn: 1347.0973472\ttest: 1451.8739329\tbest: 1451.8739329 (619)\ttotal: 1m 31s\tremaining: 56.1s\n",
      "620:\tlearn: 1346.8509285\ttest: 1451.9053293\tbest: 1451.8739329 (619)\ttotal: 1m 31s\tremaining: 56s\n",
      "621:\tlearn: 1346.6559062\ttest: 1451.6727918\tbest: 1451.6727918 (621)\ttotal: 1m 31s\tremaining: 55.8s\n",
      "622:\tlearn: 1346.5693008\ttest: 1451.6451411\tbest: 1451.6451411 (622)\ttotal: 1m 31s\tremaining: 55.7s\n",
      "623:\tlearn: 1346.4893633\ttest: 1451.6179815\tbest: 1451.6179815 (623)\ttotal: 1m 32s\tremaining: 55.5s\n",
      "624:\tlearn: 1346.3247230\ttest: 1451.6202060\tbest: 1451.6179815 (623)\ttotal: 1m 32s\tremaining: 55.4s\n",
      "625:\tlearn: 1346.1580205\ttest: 1451.5155372\tbest: 1451.5155372 (625)\ttotal: 1m 32s\tremaining: 55.2s\n",
      "626:\tlearn: 1346.0507595\ttest: 1451.5342769\tbest: 1451.5155372 (625)\ttotal: 1m 32s\tremaining: 55.1s\n",
      "627:\tlearn: 1345.9080358\ttest: 1451.5063554\tbest: 1451.5063554 (627)\ttotal: 1m 32s\tremaining: 54.9s\n",
      "628:\tlearn: 1345.7796612\ttest: 1451.4271143\tbest: 1451.4271143 (628)\ttotal: 1m 32s\tremaining: 54.8s\n",
      "629:\tlearn: 1345.5287623\ttest: 1451.3994747\tbest: 1451.3994747 (629)\ttotal: 1m 32s\tremaining: 54.6s\n",
      "630:\tlearn: 1345.3497334\ttest: 1451.3813968\tbest: 1451.3813968 (630)\ttotal: 1m 33s\tremaining: 54.5s\n",
      "631:\tlearn: 1345.1383193\ttest: 1451.3390119\tbest: 1451.3390119 (631)\ttotal: 1m 33s\tremaining: 54.3s\n",
      "632:\tlearn: 1344.8997729\ttest: 1451.2200658\tbest: 1451.2200658 (632)\ttotal: 1m 33s\tremaining: 54.2s\n",
      "633:\tlearn: 1344.7700790\ttest: 1451.1824370\tbest: 1451.1824370 (633)\ttotal: 1m 33s\tremaining: 54s\n",
      "634:\tlearn: 1344.5597080\ttest: 1451.2314548\tbest: 1451.1824370 (633)\ttotal: 1m 33s\tremaining: 53.9s\n",
      "635:\tlearn: 1344.4025954\ttest: 1451.1118030\tbest: 1451.1118030 (635)\ttotal: 1m 33s\tremaining: 53.7s\n",
      "636:\tlearn: 1344.1819650\ttest: 1451.0428253\tbest: 1451.0428253 (636)\ttotal: 1m 34s\tremaining: 53.6s\n",
      "637:\tlearn: 1343.9691959\ttest: 1451.0325607\tbest: 1451.0325607 (637)\ttotal: 1m 34s\tremaining: 53.4s\n",
      "638:\tlearn: 1343.8263310\ttest: 1451.0818938\tbest: 1451.0325607 (637)\ttotal: 1m 34s\tremaining: 53.3s\n",
      "639:\tlearn: 1343.5900778\ttest: 1451.0139353\tbest: 1451.0139353 (639)\ttotal: 1m 34s\tremaining: 53.1s\n",
      "640:\tlearn: 1343.4161810\ttest: 1450.9785947\tbest: 1450.9785947 (640)\ttotal: 1m 34s\tremaining: 53s\n",
      "641:\tlearn: 1343.3132513\ttest: 1450.9249582\tbest: 1450.9249582 (641)\ttotal: 1m 34s\tremaining: 52.8s\n",
      "642:\tlearn: 1343.1182273\ttest: 1450.8664469\tbest: 1450.8664469 (642)\ttotal: 1m 34s\tremaining: 52.7s\n",
      "643:\tlearn: 1342.9899165\ttest: 1450.8519291\tbest: 1450.8519291 (643)\ttotal: 1m 35s\tremaining: 52.5s\n",
      "644:\tlearn: 1342.8243160\ttest: 1450.7996690\tbest: 1450.7996690 (644)\ttotal: 1m 35s\tremaining: 52.4s\n",
      "645:\tlearn: 1342.7045143\ttest: 1450.7738482\tbest: 1450.7738482 (645)\ttotal: 1m 35s\tremaining: 52.2s\n",
      "646:\tlearn: 1342.5452830\ttest: 1450.7488724\tbest: 1450.7488724 (646)\ttotal: 1m 35s\tremaining: 52.1s\n",
      "647:\tlearn: 1342.4354165\ttest: 1450.6537013\tbest: 1450.6537013 (647)\ttotal: 1m 35s\tremaining: 51.9s\n",
      "648:\tlearn: 1342.3143975\ttest: 1450.6189991\tbest: 1450.6189991 (648)\ttotal: 1m 35s\tremaining: 51.8s\n",
      "649:\tlearn: 1342.2266105\ttest: 1450.5821987\tbest: 1450.5821987 (649)\ttotal: 1m 35s\tremaining: 51.7s\n",
      "650:\tlearn: 1342.0968113\ttest: 1450.5481656\tbest: 1450.5481656 (650)\ttotal: 1m 36s\tremaining: 51.5s\n",
      "651:\tlearn: 1341.8932104\ttest: 1450.4431227\tbest: 1450.4431227 (651)\ttotal: 1m 36s\tremaining: 51.4s\n",
      "652:\tlearn: 1341.6243996\ttest: 1450.4015875\tbest: 1450.4015875 (652)\ttotal: 1m 36s\tremaining: 51.2s\n",
      "653:\tlearn: 1341.4973364\ttest: 1450.3645443\tbest: 1450.3645443 (653)\ttotal: 1m 36s\tremaining: 51.1s\n",
      "654:\tlearn: 1341.2842655\ttest: 1450.2454843\tbest: 1450.2454843 (654)\ttotal: 1m 36s\tremaining: 50.9s\n",
      "655:\tlearn: 1341.1041758\ttest: 1450.1987995\tbest: 1450.1987995 (655)\ttotal: 1m 36s\tremaining: 50.8s\n",
      "656:\tlearn: 1340.9274378\ttest: 1450.1657484\tbest: 1450.1657484 (656)\ttotal: 1m 36s\tremaining: 50.6s\n",
      "657:\tlearn: 1340.7096399\ttest: 1450.1371507\tbest: 1450.1371507 (657)\ttotal: 1m 37s\tremaining: 50.5s\n",
      "658:\tlearn: 1340.5531456\ttest: 1450.0923578\tbest: 1450.0923578 (658)\ttotal: 1m 37s\tremaining: 50.3s\n",
      "659:\tlearn: 1340.4011680\ttest: 1449.9857457\tbest: 1449.9857457 (659)\ttotal: 1m 37s\tremaining: 50.2s\n",
      "660:\tlearn: 1340.1842055\ttest: 1449.9575451\tbest: 1449.9575451 (660)\ttotal: 1m 37s\tremaining: 50s\n",
      "661:\tlearn: 1339.9826728\ttest: 1449.8277383\tbest: 1449.8277383 (661)\ttotal: 1m 37s\tremaining: 49.9s\n",
      "662:\tlearn: 1339.8829354\ttest: 1449.7773529\tbest: 1449.7773529 (662)\ttotal: 1m 37s\tremaining: 49.7s\n",
      "663:\tlearn: 1339.7670676\ttest: 1449.7367783\tbest: 1449.7367783 (663)\ttotal: 1m 37s\tremaining: 49.6s\n",
      "664:\tlearn: 1339.5792719\ttest: 1449.7367045\tbest: 1449.7367045 (664)\ttotal: 1m 38s\tremaining: 49.4s\n",
      "665:\tlearn: 1339.3628700\ttest: 1449.5995697\tbest: 1449.5995697 (665)\ttotal: 1m 38s\tremaining: 49.3s\n",
      "666:\tlearn: 1339.1984388\ttest: 1449.5799696\tbest: 1449.5799696 (666)\ttotal: 1m 38s\tremaining: 49.1s\n",
      "667:\tlearn: 1338.8753527\ttest: 1449.4093947\tbest: 1449.4093947 (667)\ttotal: 1m 38s\tremaining: 49s\n",
      "668:\tlearn: 1338.6539814\ttest: 1449.3235049\tbest: 1449.3235049 (668)\ttotal: 1m 38s\tremaining: 48.8s\n",
      "669:\tlearn: 1338.5213179\ttest: 1449.2823709\tbest: 1449.2823709 (669)\ttotal: 1m 38s\tremaining: 48.7s\n",
      "670:\tlearn: 1338.3351220\ttest: 1449.1767356\tbest: 1449.1767356 (670)\ttotal: 1m 39s\tremaining: 48.5s\n",
      "671:\tlearn: 1338.0735477\ttest: 1449.1654621\tbest: 1449.1654621 (671)\ttotal: 1m 39s\tremaining: 48.4s\n",
      "672:\tlearn: 1337.9631169\ttest: 1449.0859215\tbest: 1449.0859215 (672)\ttotal: 1m 39s\tremaining: 48.2s\n",
      "673:\tlearn: 1337.8339606\ttest: 1449.0635677\tbest: 1449.0635677 (673)\ttotal: 1m 39s\tremaining: 48.1s\n",
      "674:\tlearn: 1337.7313784\ttest: 1449.0065893\tbest: 1449.0065893 (674)\ttotal: 1m 39s\tremaining: 48s\n",
      "675:\tlearn: 1337.6670912\ttest: 1449.0013370\tbest: 1449.0013370 (675)\ttotal: 1m 39s\tremaining: 47.8s\n",
      "676:\tlearn: 1337.5552300\ttest: 1448.9854567\tbest: 1448.9854567 (676)\ttotal: 1m 39s\tremaining: 47.7s\n",
      "677:\tlearn: 1337.4139239\ttest: 1448.9184409\tbest: 1448.9184409 (677)\ttotal: 1m 40s\tremaining: 47.5s\n",
      "678:\tlearn: 1337.2277718\ttest: 1448.8830952\tbest: 1448.8830952 (678)\ttotal: 1m 40s\tremaining: 47.4s\n",
      "679:\tlearn: 1337.0829298\ttest: 1448.8608741\tbest: 1448.8608741 (679)\ttotal: 1m 40s\tremaining: 47.2s\n",
      "680:\tlearn: 1337.0092236\ttest: 1448.8167040\tbest: 1448.8167040 (680)\ttotal: 1m 40s\tremaining: 47.1s\n",
      "681:\tlearn: 1336.7434753\ttest: 1448.7473942\tbest: 1448.7473942 (681)\ttotal: 1m 40s\tremaining: 46.9s\n",
      "682:\tlearn: 1336.5907801\ttest: 1448.7435958\tbest: 1448.7435958 (682)\ttotal: 1m 40s\tremaining: 46.8s\n",
      "683:\tlearn: 1336.3772427\ttest: 1448.6295144\tbest: 1448.6295144 (683)\ttotal: 1m 40s\tremaining: 46.6s\n",
      "684:\tlearn: 1336.1355134\ttest: 1448.5482634\tbest: 1448.5482634 (684)\ttotal: 1m 41s\tremaining: 46.5s\n",
      "685:\tlearn: 1336.0674289\ttest: 1448.5670518\tbest: 1448.5482634 (684)\ttotal: 1m 41s\tremaining: 46.3s\n",
      "686:\tlearn: 1335.9182818\ttest: 1448.5079155\tbest: 1448.5079155 (686)\ttotal: 1m 41s\tremaining: 46.2s\n",
      "687:\tlearn: 1335.5878612\ttest: 1448.3966955\tbest: 1448.3966955 (687)\ttotal: 1m 41s\tremaining: 46s\n",
      "688:\tlearn: 1335.4024785\ttest: 1448.3455042\tbest: 1448.3455042 (688)\ttotal: 1m 41s\tremaining: 45.9s\n",
      "689:\tlearn: 1335.2330626\ttest: 1448.2472725\tbest: 1448.2472725 (689)\ttotal: 1m 41s\tremaining: 45.7s\n",
      "690:\tlearn: 1335.0601079\ttest: 1448.2394476\tbest: 1448.2394476 (690)\ttotal: 1m 41s\tremaining: 45.6s\n",
      "691:\tlearn: 1334.8601043\ttest: 1448.1809970\tbest: 1448.1809970 (691)\ttotal: 1m 42s\tremaining: 45.4s\n",
      "692:\tlearn: 1334.7227872\ttest: 1448.1452023\tbest: 1448.1452023 (692)\ttotal: 1m 42s\tremaining: 45.3s\n",
      "693:\tlearn: 1334.6248694\ttest: 1448.1399019\tbest: 1448.1399019 (693)\ttotal: 1m 42s\tremaining: 45.1s\n",
      "694:\tlearn: 1334.5142703\ttest: 1448.1501497\tbest: 1448.1399019 (693)\ttotal: 1m 42s\tremaining: 45s\n",
      "695:\tlearn: 1334.4404668\ttest: 1448.1352259\tbest: 1448.1352259 (695)\ttotal: 1m 42s\tremaining: 44.8s\n",
      "696:\tlearn: 1334.2927295\ttest: 1448.0930367\tbest: 1448.0930367 (696)\ttotal: 1m 42s\tremaining: 44.7s\n",
      "697:\tlearn: 1334.1516404\ttest: 1448.0312497\tbest: 1448.0312497 (697)\ttotal: 1m 42s\tremaining: 44.6s\n",
      "698:\tlearn: 1333.9614840\ttest: 1447.9554558\tbest: 1447.9554558 (698)\ttotal: 1m 43s\tremaining: 44.4s\n",
      "699:\tlearn: 1333.8064148\ttest: 1447.9216714\tbest: 1447.9216714 (699)\ttotal: 1m 43s\tremaining: 44.3s\n",
      "700:\tlearn: 1333.4954931\ttest: 1447.9014213\tbest: 1447.9014213 (700)\ttotal: 1m 43s\tremaining: 44.1s\n",
      "701:\tlearn: 1333.3683448\ttest: 1447.8787437\tbest: 1447.8787437 (701)\ttotal: 1m 43s\tremaining: 44s\n",
      "702:\tlearn: 1333.1821539\ttest: 1447.8540653\tbest: 1447.8540653 (702)\ttotal: 1m 43s\tremaining: 43.8s\n",
      "703:\tlearn: 1333.0682418\ttest: 1447.8811694\tbest: 1447.8540653 (702)\ttotal: 1m 43s\tremaining: 43.7s\n",
      "704:\tlearn: 1332.9460218\ttest: 1447.8406767\tbest: 1447.8406767 (704)\ttotal: 1m 43s\tremaining: 43.5s\n",
      "705:\tlearn: 1332.7866903\ttest: 1447.7426685\tbest: 1447.7426685 (705)\ttotal: 1m 44s\tremaining: 43.4s\n",
      "706:\tlearn: 1332.6027644\ttest: 1447.6965126\tbest: 1447.6965126 (706)\ttotal: 1m 44s\tremaining: 43.2s\n",
      "707:\tlearn: 1332.4545752\ttest: 1447.6014853\tbest: 1447.6014853 (707)\ttotal: 1m 44s\tremaining: 43.1s\n",
      "708:\tlearn: 1332.3426371\ttest: 1447.5425245\tbest: 1447.5425245 (708)\ttotal: 1m 44s\tremaining: 42.9s\n",
      "709:\tlearn: 1332.1906681\ttest: 1447.5127785\tbest: 1447.5127785 (709)\ttotal: 1m 44s\tremaining: 42.8s\n",
      "710:\tlearn: 1331.9271936\ttest: 1447.5461862\tbest: 1447.5127785 (709)\ttotal: 1m 44s\tremaining: 42.6s\n",
      "711:\tlearn: 1331.7731541\ttest: 1447.4479270\tbest: 1447.4479270 (711)\ttotal: 1m 45s\tremaining: 42.5s\n",
      "712:\tlearn: 1331.6125195\ttest: 1447.3092931\tbest: 1447.3092931 (712)\ttotal: 1m 45s\tremaining: 42.3s\n",
      "713:\tlearn: 1331.4352781\ttest: 1447.1537346\tbest: 1447.1537346 (713)\ttotal: 1m 45s\tremaining: 42.2s\n",
      "714:\tlearn: 1331.2560611\ttest: 1447.1287101\tbest: 1447.1287101 (714)\ttotal: 1m 45s\tremaining: 42s\n",
      "715:\tlearn: 1331.0818144\ttest: 1447.0955694\tbest: 1447.0955694 (715)\ttotal: 1m 45s\tremaining: 41.9s\n",
      "716:\tlearn: 1330.8836105\ttest: 1447.1867423\tbest: 1447.0955694 (715)\ttotal: 1m 45s\tremaining: 41.7s\n",
      "717:\tlearn: 1330.6908926\ttest: 1447.0673147\tbest: 1447.0673147 (717)\ttotal: 1m 45s\tremaining: 41.6s\n",
      "718:\tlearn: 1330.5380798\ttest: 1446.9327847\tbest: 1446.9327847 (718)\ttotal: 1m 46s\tremaining: 41.4s\n",
      "719:\tlearn: 1330.3300958\ttest: 1446.9743968\tbest: 1446.9327847 (718)\ttotal: 1m 46s\tremaining: 41.3s\n",
      "720:\tlearn: 1330.2238181\ttest: 1446.9911212\tbest: 1446.9327847 (718)\ttotal: 1m 46s\tremaining: 41.1s\n",
      "721:\tlearn: 1330.0739223\ttest: 1446.9192349\tbest: 1446.9192349 (721)\ttotal: 1m 46s\tremaining: 41s\n",
      "722:\tlearn: 1329.9605111\ttest: 1446.8839856\tbest: 1446.8839856 (722)\ttotal: 1m 46s\tremaining: 40.8s\n",
      "723:\tlearn: 1329.8271974\ttest: 1446.8515431\tbest: 1446.8515431 (723)\ttotal: 1m 46s\tremaining: 40.7s\n",
      "724:\tlearn: 1329.6378400\ttest: 1446.7446101\tbest: 1446.7446101 (724)\ttotal: 1m 46s\tremaining: 40.5s\n",
      "725:\tlearn: 1329.4960463\ttest: 1446.6582647\tbest: 1446.6582647 (725)\ttotal: 1m 47s\tremaining: 40.4s\n",
      "726:\tlearn: 1329.2920823\ttest: 1446.5878793\tbest: 1446.5878793 (726)\ttotal: 1m 47s\tremaining: 40.3s\n",
      "727:\tlearn: 1329.1077277\ttest: 1446.5228412\tbest: 1446.5228412 (727)\ttotal: 1m 47s\tremaining: 40.1s\n",
      "728:\tlearn: 1329.0083013\ttest: 1446.4993393\tbest: 1446.4993393 (728)\ttotal: 1m 47s\tremaining: 40s\n",
      "729:\tlearn: 1328.8003184\ttest: 1446.3395702\tbest: 1446.3395702 (729)\ttotal: 1m 47s\tremaining: 39.8s\n",
      "730:\tlearn: 1328.6256384\ttest: 1446.2554657\tbest: 1446.2554657 (730)\ttotal: 1m 47s\tremaining: 39.7s\n",
      "731:\tlearn: 1328.4786524\ttest: 1446.1863705\tbest: 1446.1863705 (731)\ttotal: 1m 47s\tremaining: 39.5s\n",
      "732:\tlearn: 1328.3670499\ttest: 1446.1468395\tbest: 1446.1468395 (732)\ttotal: 1m 48s\tremaining: 39.4s\n",
      "733:\tlearn: 1328.0648246\ttest: 1446.0843709\tbest: 1446.0843709 (733)\ttotal: 1m 48s\tremaining: 39.2s\n",
      "734:\tlearn: 1327.8346798\ttest: 1446.0521382\tbest: 1446.0521382 (734)\ttotal: 1m 48s\tremaining: 39.1s\n",
      "735:\tlearn: 1327.6486829\ttest: 1445.9906913\tbest: 1445.9906913 (735)\ttotal: 1m 48s\tremaining: 38.9s\n",
      "736:\tlearn: 1327.5380711\ttest: 1445.9935814\tbest: 1445.9906913 (735)\ttotal: 1m 48s\tremaining: 38.8s\n",
      "737:\tlearn: 1327.4336598\ttest: 1445.9588757\tbest: 1445.9588757 (737)\ttotal: 1m 48s\tremaining: 38.6s\n",
      "738:\tlearn: 1327.2046283\ttest: 1445.8760607\tbest: 1445.8760607 (738)\ttotal: 1m 48s\tremaining: 38.5s\n",
      "739:\tlearn: 1327.0425734\ttest: 1445.8236070\tbest: 1445.8236070 (739)\ttotal: 1m 49s\tremaining: 38.3s\n",
      "740:\tlearn: 1326.7954082\ttest: 1445.7890896\tbest: 1445.7890896 (740)\ttotal: 1m 49s\tremaining: 38.2s\n",
      "741:\tlearn: 1326.6743172\ttest: 1445.6754802\tbest: 1445.6754802 (741)\ttotal: 1m 49s\tremaining: 38s\n",
      "742:\tlearn: 1326.5054531\ttest: 1445.6739755\tbest: 1445.6739755 (742)\ttotal: 1m 49s\tremaining: 37.9s\n",
      "743:\tlearn: 1326.4216580\ttest: 1445.6365983\tbest: 1445.6365983 (743)\ttotal: 1m 49s\tremaining: 37.7s\n",
      "744:\tlearn: 1326.3428694\ttest: 1445.5925188\tbest: 1445.5925188 (744)\ttotal: 1m 49s\tremaining: 37.6s\n",
      "745:\tlearn: 1326.1856802\ttest: 1445.5148285\tbest: 1445.5148285 (745)\ttotal: 1m 49s\tremaining: 37.4s\n",
      "746:\tlearn: 1325.9753665\ttest: 1445.5464698\tbest: 1445.5148285 (745)\ttotal: 1m 50s\tremaining: 37.3s\n",
      "747:\tlearn: 1325.7809136\ttest: 1445.5946351\tbest: 1445.5148285 (745)\ttotal: 1m 50s\tremaining: 37.1s\n",
      "748:\tlearn: 1325.6749979\ttest: 1445.5524351\tbest: 1445.5148285 (745)\ttotal: 1m 50s\tremaining: 37s\n",
      "749:\tlearn: 1325.5480124\ttest: 1445.5757539\tbest: 1445.5148285 (745)\ttotal: 1m 50s\tremaining: 36.8s\n",
      "750:\tlearn: 1325.4912603\ttest: 1445.5642084\tbest: 1445.5148285 (745)\ttotal: 1m 50s\tremaining: 36.7s\n",
      "751:\tlearn: 1325.3616306\ttest: 1445.5300052\tbest: 1445.5148285 (745)\ttotal: 1m 50s\tremaining: 36.5s\n",
      "752:\tlearn: 1325.1274604\ttest: 1445.5364035\tbest: 1445.5148285 (745)\ttotal: 1m 50s\tremaining: 36.4s\n",
      "753:\tlearn: 1324.9896125\ttest: 1445.5049306\tbest: 1445.5049306 (753)\ttotal: 1m 51s\tremaining: 36.3s\n",
      "754:\tlearn: 1324.5464977\ttest: 1445.3425855\tbest: 1445.3425855 (754)\ttotal: 1m 51s\tremaining: 36.1s\n",
      "755:\tlearn: 1324.3209549\ttest: 1445.1448532\tbest: 1445.1448532 (755)\ttotal: 1m 51s\tremaining: 36s\n",
      "756:\tlearn: 1324.2238360\ttest: 1445.1382527\tbest: 1445.1382527 (756)\ttotal: 1m 51s\tremaining: 35.8s\n",
      "757:\tlearn: 1324.1148728\ttest: 1445.1262867\tbest: 1445.1262867 (757)\ttotal: 1m 51s\tremaining: 35.7s\n",
      "758:\tlearn: 1323.9566214\ttest: 1445.0687718\tbest: 1445.0687718 (758)\ttotal: 1m 51s\tremaining: 35.5s\n",
      "759:\tlearn: 1323.8724989\ttest: 1445.0013591\tbest: 1445.0013591 (759)\ttotal: 1m 51s\tremaining: 35.4s\n",
      "760:\tlearn: 1323.8094457\ttest: 1444.9574897\tbest: 1444.9574897 (760)\ttotal: 1m 52s\tremaining: 35.2s\n",
      "761:\tlearn: 1323.5886085\ttest: 1444.8809597\tbest: 1444.8809597 (761)\ttotal: 1m 52s\tremaining: 35.1s\n",
      "762:\tlearn: 1323.5029656\ttest: 1444.8479478\tbest: 1444.8479478 (762)\ttotal: 1m 52s\tremaining: 34.9s\n",
      "763:\tlearn: 1323.3785376\ttest: 1444.8572155\tbest: 1444.8479478 (762)\ttotal: 1m 52s\tremaining: 34.8s\n",
      "764:\tlearn: 1323.1639991\ttest: 1444.7754305\tbest: 1444.7754305 (764)\ttotal: 1m 52s\tremaining: 34.6s\n",
      "765:\tlearn: 1323.0520446\ttest: 1444.7875220\tbest: 1444.7754305 (764)\ttotal: 1m 52s\tremaining: 34.5s\n",
      "766:\tlearn: 1322.8516300\ttest: 1444.7594216\tbest: 1444.7594216 (766)\ttotal: 1m 52s\tremaining: 34.3s\n",
      "767:\tlearn: 1322.6593821\ttest: 1444.7967742\tbest: 1444.7594216 (766)\ttotal: 1m 53s\tremaining: 34.2s\n",
      "768:\tlearn: 1322.4876218\ttest: 1444.7268536\tbest: 1444.7268536 (768)\ttotal: 1m 53s\tremaining: 34s\n",
      "769:\tlearn: 1322.4073999\ttest: 1444.7028165\tbest: 1444.7028165 (769)\ttotal: 1m 53s\tremaining: 33.9s\n",
      "770:\tlearn: 1322.2242203\ttest: 1444.6659968\tbest: 1444.6659968 (770)\ttotal: 1m 53s\tremaining: 33.7s\n",
      "771:\tlearn: 1322.0764022\ttest: 1444.6739236\tbest: 1444.6659968 (770)\ttotal: 1m 53s\tremaining: 33.6s\n",
      "772:\tlearn: 1321.9402770\ttest: 1444.6404425\tbest: 1444.6404425 (772)\ttotal: 1m 53s\tremaining: 33.4s\n",
      "773:\tlearn: 1321.7949371\ttest: 1444.6264469\tbest: 1444.6264469 (773)\ttotal: 1m 54s\tremaining: 33.3s\n",
      "774:\tlearn: 1321.6101001\ttest: 1444.5764686\tbest: 1444.5764686 (774)\ttotal: 1m 54s\tremaining: 33.1s\n",
      "775:\tlearn: 1321.3039239\ttest: 1444.4813929\tbest: 1444.4813929 (775)\ttotal: 1m 54s\tremaining: 33s\n",
      "776:\tlearn: 1321.1661282\ttest: 1444.4145930\tbest: 1444.4145930 (776)\ttotal: 1m 54s\tremaining: 32.8s\n",
      "777:\tlearn: 1321.0594926\ttest: 1444.3629398\tbest: 1444.3629398 (777)\ttotal: 1m 54s\tremaining: 32.7s\n",
      "778:\tlearn: 1320.9262695\ttest: 1444.2462916\tbest: 1444.2462916 (778)\ttotal: 1m 54s\tremaining: 32.5s\n",
      "779:\tlearn: 1320.7561579\ttest: 1444.1588813\tbest: 1444.1588813 (779)\ttotal: 1m 54s\tremaining: 32.4s\n",
      "780:\tlearn: 1320.5578382\ttest: 1444.0597368\tbest: 1444.0597368 (780)\ttotal: 1m 55s\tremaining: 32.3s\n",
      "781:\tlearn: 1320.3105494\ttest: 1444.0214842\tbest: 1444.0214842 (781)\ttotal: 1m 55s\tremaining: 32.1s\n",
      "782:\tlearn: 1320.0638642\ttest: 1443.9508622\tbest: 1443.9508622 (782)\ttotal: 1m 55s\tremaining: 32s\n",
      "783:\tlearn: 1319.9217983\ttest: 1443.9131697\tbest: 1443.9131697 (783)\ttotal: 1m 55s\tremaining: 31.8s\n",
      "784:\tlearn: 1319.8015174\ttest: 1443.9068044\tbest: 1443.9068044 (784)\ttotal: 1m 55s\tremaining: 31.7s\n",
      "785:\tlearn: 1319.7597054\ttest: 1443.8972710\tbest: 1443.8972710 (785)\ttotal: 1m 55s\tremaining: 31.5s\n",
      "786:\tlearn: 1319.6179914\ttest: 1443.8671639\tbest: 1443.8671639 (786)\ttotal: 1m 55s\tremaining: 31.4s\n",
      "787:\tlearn: 1319.4312131\ttest: 1443.8353114\tbest: 1443.8353114 (787)\ttotal: 1m 56s\tremaining: 31.2s\n",
      "788:\tlearn: 1319.3001255\ttest: 1443.7733316\tbest: 1443.7733316 (788)\ttotal: 1m 56s\tremaining: 31.1s\n",
      "789:\tlearn: 1319.0385492\ttest: 1443.7973936\tbest: 1443.7733316 (788)\ttotal: 1m 56s\tremaining: 30.9s\n",
      "790:\tlearn: 1318.9934861\ttest: 1443.7941731\tbest: 1443.7733316 (788)\ttotal: 1m 56s\tremaining: 30.8s\n",
      "791:\tlearn: 1318.8772641\ttest: 1443.7142347\tbest: 1443.7142347 (791)\ttotal: 1m 56s\tremaining: 30.6s\n",
      "792:\tlearn: 1318.7629401\ttest: 1443.6744089\tbest: 1443.6744089 (792)\ttotal: 1m 56s\tremaining: 30.5s\n",
      "793:\tlearn: 1318.4527338\ttest: 1443.7296669\tbest: 1443.6744089 (792)\ttotal: 1m 56s\tremaining: 30.3s\n",
      "794:\tlearn: 1318.2178013\ttest: 1443.6391674\tbest: 1443.6391674 (794)\ttotal: 1m 57s\tremaining: 30.2s\n",
      "795:\tlearn: 1317.9212737\ttest: 1443.6460261\tbest: 1443.6391674 (794)\ttotal: 1m 57s\tremaining: 30s\n",
      "796:\tlearn: 1317.7590233\ttest: 1443.5688547\tbest: 1443.5688547 (796)\ttotal: 1m 57s\tremaining: 29.9s\n",
      "797:\tlearn: 1317.6234152\ttest: 1443.5314444\tbest: 1443.5314444 (797)\ttotal: 1m 57s\tremaining: 29.7s\n",
      "798:\tlearn: 1317.5471704\ttest: 1443.5109534\tbest: 1443.5109534 (798)\ttotal: 1m 57s\tremaining: 29.6s\n",
      "799:\tlearn: 1317.3822532\ttest: 1443.4229587\tbest: 1443.4229587 (799)\ttotal: 1m 57s\tremaining: 29.5s\n",
      "800:\tlearn: 1317.2208110\ttest: 1443.4200850\tbest: 1443.4200850 (800)\ttotal: 1m 57s\tremaining: 29.3s\n",
      "801:\tlearn: 1317.1126636\ttest: 1443.3539716\tbest: 1443.3539716 (801)\ttotal: 1m 58s\tremaining: 29.2s\n",
      "802:\tlearn: 1316.9856838\ttest: 1443.3207670\tbest: 1443.3207670 (802)\ttotal: 1m 58s\tremaining: 29s\n",
      "803:\tlearn: 1316.8124019\ttest: 1443.2572139\tbest: 1443.2572139 (803)\ttotal: 1m 58s\tremaining: 28.9s\n",
      "804:\tlearn: 1316.7025352\ttest: 1443.2186078\tbest: 1443.2186078 (804)\ttotal: 1m 58s\tremaining: 28.7s\n",
      "805:\tlearn: 1316.2399491\ttest: 1443.0305210\tbest: 1443.0305210 (805)\ttotal: 1m 58s\tremaining: 28.6s\n",
      "806:\tlearn: 1316.1598254\ttest: 1443.0444120\tbest: 1443.0305210 (805)\ttotal: 1m 58s\tremaining: 28.4s\n",
      "807:\tlearn: 1315.9681186\ttest: 1442.9784736\tbest: 1442.9784736 (807)\ttotal: 1m 58s\tremaining: 28.3s\n",
      "808:\tlearn: 1315.7881723\ttest: 1442.9502173\tbest: 1442.9502173 (808)\ttotal: 1m 59s\tremaining: 28.1s\n",
      "809:\tlearn: 1315.5929977\ttest: 1442.8861812\tbest: 1442.8861812 (809)\ttotal: 1m 59s\tremaining: 28s\n",
      "810:\tlearn: 1315.4141164\ttest: 1442.8919995\tbest: 1442.8861812 (809)\ttotal: 1m 59s\tremaining: 27.8s\n",
      "811:\tlearn: 1315.1934545\ttest: 1442.7775971\tbest: 1442.7775971 (811)\ttotal: 1m 59s\tremaining: 27.7s\n",
      "812:\tlearn: 1315.0283096\ttest: 1442.7539989\tbest: 1442.7539989 (812)\ttotal: 1m 59s\tremaining: 27.5s\n",
      "813:\tlearn: 1314.9158604\ttest: 1442.7868132\tbest: 1442.7539989 (812)\ttotal: 1m 59s\tremaining: 27.4s\n",
      "814:\tlearn: 1314.7767912\ttest: 1442.7673593\tbest: 1442.7539989 (812)\ttotal: 1m 59s\tremaining: 27.2s\n",
      "815:\tlearn: 1314.5646171\ttest: 1442.7144596\tbest: 1442.7144596 (815)\ttotal: 2m\tremaining: 27.1s\n",
      "816:\tlearn: 1314.4201301\ttest: 1442.7260836\tbest: 1442.7144596 (815)\ttotal: 2m\tremaining: 26.9s\n",
      "817:\tlearn: 1314.3284519\ttest: 1442.7027772\tbest: 1442.7027772 (817)\ttotal: 2m\tremaining: 26.8s\n",
      "818:\tlearn: 1314.2046109\ttest: 1442.6479382\tbest: 1442.6479382 (818)\ttotal: 2m\tremaining: 26.6s\n",
      "819:\tlearn: 1314.0448634\ttest: 1442.5591611\tbest: 1442.5591611 (819)\ttotal: 2m\tremaining: 26.5s\n",
      "820:\tlearn: 1313.8741867\ttest: 1442.5560426\tbest: 1442.5560426 (820)\ttotal: 2m\tremaining: 26.3s\n",
      "821:\tlearn: 1313.8013280\ttest: 1442.5448716\tbest: 1442.5448716 (821)\ttotal: 2m\tremaining: 26.2s\n",
      "822:\tlearn: 1313.6324654\ttest: 1442.5370669\tbest: 1442.5370669 (822)\ttotal: 2m 1s\tremaining: 26s\n",
      "823:\tlearn: 1313.4657310\ttest: 1442.5255743\tbest: 1442.5255743 (823)\ttotal: 2m 1s\tremaining: 25.9s\n",
      "824:\tlearn: 1313.2571954\ttest: 1442.4610853\tbest: 1442.4610853 (824)\ttotal: 2m 1s\tremaining: 25.8s\n",
      "825:\tlearn: 1313.1262547\ttest: 1442.4328742\tbest: 1442.4328742 (825)\ttotal: 2m 1s\tremaining: 25.6s\n",
      "826:\tlearn: 1312.9448584\ttest: 1442.4026126\tbest: 1442.4026126 (826)\ttotal: 2m 1s\tremaining: 25.5s\n",
      "827:\tlearn: 1312.8522219\ttest: 1442.3959451\tbest: 1442.3959451 (827)\ttotal: 2m 1s\tremaining: 25.3s\n",
      "828:\tlearn: 1312.8026483\ttest: 1442.3837104\tbest: 1442.3837104 (828)\ttotal: 2m 1s\tremaining: 25.2s\n",
      "829:\tlearn: 1312.7272561\ttest: 1442.3540091\tbest: 1442.3540091 (829)\ttotal: 2m 2s\tremaining: 25s\n",
      "830:\tlearn: 1312.4804516\ttest: 1442.3844711\tbest: 1442.3540091 (829)\ttotal: 2m 2s\tremaining: 24.9s\n",
      "831:\tlearn: 1312.2137748\ttest: 1442.2042257\tbest: 1442.2042257 (831)\ttotal: 2m 2s\tremaining: 24.7s\n",
      "832:\tlearn: 1312.1098906\ttest: 1442.1750768\tbest: 1442.1750768 (832)\ttotal: 2m 2s\tremaining: 24.6s\n",
      "833:\tlearn: 1311.9010816\ttest: 1442.1377029\tbest: 1442.1377029 (833)\ttotal: 2m 2s\tremaining: 24.4s\n",
      "834:\tlearn: 1311.7698001\ttest: 1442.1533714\tbest: 1442.1377029 (833)\ttotal: 2m 2s\tremaining: 24.3s\n",
      "835:\tlearn: 1311.6349097\ttest: 1442.0853649\tbest: 1442.0853649 (835)\ttotal: 2m 3s\tremaining: 24.1s\n",
      "836:\tlearn: 1311.4748135\ttest: 1442.1056346\tbest: 1442.0853649 (835)\ttotal: 2m 3s\tremaining: 24s\n",
      "837:\tlearn: 1311.4401600\ttest: 1442.0893317\tbest: 1442.0853649 (835)\ttotal: 2m 3s\tremaining: 23.8s\n",
      "838:\tlearn: 1311.3031388\ttest: 1442.0458254\tbest: 1442.0458254 (838)\ttotal: 2m 3s\tremaining: 23.7s\n",
      "839:\tlearn: 1311.1475211\ttest: 1442.0513467\tbest: 1442.0458254 (838)\ttotal: 2m 3s\tremaining: 23.5s\n",
      "840:\tlearn: 1310.8422097\ttest: 1442.0230394\tbest: 1442.0230394 (840)\ttotal: 2m 3s\tremaining: 23.4s\n",
      "841:\tlearn: 1310.7676757\ttest: 1442.0187719\tbest: 1442.0187719 (841)\ttotal: 2m 3s\tremaining: 23.2s\n",
      "842:\tlearn: 1310.6787462\ttest: 1441.9790130\tbest: 1441.9790130 (842)\ttotal: 2m 4s\tremaining: 23.1s\n",
      "843:\tlearn: 1310.5826040\ttest: 1441.9352314\tbest: 1441.9352314 (843)\ttotal: 2m 4s\tremaining: 23s\n",
      "844:\tlearn: 1310.4134325\ttest: 1441.9240783\tbest: 1441.9240783 (844)\ttotal: 2m 4s\tremaining: 22.8s\n",
      "845:\tlearn: 1310.3604157\ttest: 1441.9223466\tbest: 1441.9223466 (845)\ttotal: 2m 4s\tremaining: 22.7s\n",
      "846:\tlearn: 1310.2042763\ttest: 1442.0012597\tbest: 1441.9223466 (845)\ttotal: 2m 4s\tremaining: 22.5s\n",
      "847:\tlearn: 1310.0554875\ttest: 1441.9515228\tbest: 1441.9223466 (845)\ttotal: 2m 4s\tremaining: 22.4s\n",
      "848:\tlearn: 1310.0155635\ttest: 1441.9492438\tbest: 1441.9223466 (845)\ttotal: 2m 4s\tremaining: 22.2s\n",
      "849:\tlearn: 1309.8886427\ttest: 1441.9307760\tbest: 1441.9223466 (845)\ttotal: 2m 5s\tremaining: 22.1s\n",
      "850:\tlearn: 1309.6097870\ttest: 1441.9179686\tbest: 1441.9179686 (850)\ttotal: 2m 5s\tremaining: 21.9s\n",
      "851:\tlearn: 1309.5114975\ttest: 1441.8531917\tbest: 1441.8531917 (851)\ttotal: 2m 5s\tremaining: 21.8s\n",
      "852:\tlearn: 1309.3549050\ttest: 1441.7965257\tbest: 1441.7965257 (852)\ttotal: 2m 5s\tremaining: 21.6s\n",
      "853:\tlearn: 1309.2018517\ttest: 1441.7345592\tbest: 1441.7345592 (853)\ttotal: 2m 5s\tremaining: 21.5s\n",
      "854:\tlearn: 1309.0194594\ttest: 1441.6417697\tbest: 1441.6417697 (854)\ttotal: 2m 5s\tremaining: 21.3s\n",
      "855:\tlearn: 1308.8665437\ttest: 1441.5964030\tbest: 1441.5964030 (855)\ttotal: 2m 5s\tremaining: 21.2s\n",
      "856:\tlearn: 1308.8336682\ttest: 1441.6002840\tbest: 1441.5964030 (855)\ttotal: 2m 6s\tremaining: 21s\n",
      "857:\tlearn: 1308.7524767\ttest: 1441.5878165\tbest: 1441.5878165 (857)\ttotal: 2m 6s\tremaining: 20.9s\n",
      "858:\tlearn: 1308.6569885\ttest: 1441.5518696\tbest: 1441.5518696 (858)\ttotal: 2m 6s\tremaining: 20.7s\n",
      "859:\tlearn: 1308.4401604\ttest: 1441.5535000\tbest: 1441.5518696 (858)\ttotal: 2m 6s\tremaining: 20.6s\n",
      "860:\tlearn: 1308.3504063\ttest: 1441.5207822\tbest: 1441.5207822 (860)\ttotal: 2m 6s\tremaining: 20.4s\n",
      "861:\tlearn: 1308.1574812\ttest: 1441.4840311\tbest: 1441.4840311 (861)\ttotal: 2m 6s\tremaining: 20.3s\n",
      "862:\tlearn: 1308.0099800\ttest: 1441.4233982\tbest: 1441.4233982 (862)\ttotal: 2m 6s\tremaining: 20.1s\n",
      "863:\tlearn: 1307.9228719\ttest: 1441.3979326\tbest: 1441.3979326 (863)\ttotal: 2m 7s\tremaining: 20s\n",
      "864:\tlearn: 1307.8159017\ttest: 1441.3988157\tbest: 1441.3979326 (863)\ttotal: 2m 7s\tremaining: 19.9s\n",
      "865:\tlearn: 1307.6842840\ttest: 1441.3666254\tbest: 1441.3666254 (865)\ttotal: 2m 7s\tremaining: 19.7s\n",
      "866:\tlearn: 1307.5235076\ttest: 1441.3635368\tbest: 1441.3635368 (866)\ttotal: 2m 7s\tremaining: 19.6s\n",
      "867:\tlearn: 1307.4852056\ttest: 1441.3920037\tbest: 1441.3635368 (866)\ttotal: 2m 7s\tremaining: 19.4s\n",
      "868:\tlearn: 1307.3632175\ttest: 1441.4020704\tbest: 1441.3635368 (866)\ttotal: 2m 7s\tremaining: 19.3s\n",
      "869:\tlearn: 1307.1982193\ttest: 1441.4800356\tbest: 1441.3635368 (866)\ttotal: 2m 7s\tremaining: 19.1s\n",
      "870:\tlearn: 1307.1780121\ttest: 1441.4849043\tbest: 1441.3635368 (866)\ttotal: 2m 8s\tremaining: 19s\n",
      "871:\tlearn: 1307.0672920\ttest: 1441.4509012\tbest: 1441.3635368 (866)\ttotal: 2m 8s\tremaining: 18.8s\n",
      "872:\tlearn: 1306.9782610\ttest: 1441.4938071\tbest: 1441.3635368 (866)\ttotal: 2m 8s\tremaining: 18.7s\n",
      "873:\tlearn: 1306.8581066\ttest: 1441.4714806\tbest: 1441.3635368 (866)\ttotal: 2m 8s\tremaining: 18.5s\n",
      "874:\tlearn: 1306.6841439\ttest: 1441.4690265\tbest: 1441.3635368 (866)\ttotal: 2m 8s\tremaining: 18.4s\n",
      "875:\tlearn: 1306.5961005\ttest: 1441.4195765\tbest: 1441.3635368 (866)\ttotal: 2m 8s\tremaining: 18.2s\n",
      "876:\tlearn: 1306.3997200\ttest: 1441.4258581\tbest: 1441.3635368 (866)\ttotal: 2m 8s\tremaining: 18.1s\n",
      "877:\tlearn: 1306.3003907\ttest: 1441.4319861\tbest: 1441.3635368 (866)\ttotal: 2m 9s\tremaining: 17.9s\n",
      "878:\tlearn: 1306.2361607\ttest: 1441.4130348\tbest: 1441.3635368 (866)\ttotal: 2m 9s\tremaining: 17.8s\n",
      "879:\tlearn: 1306.0586981\ttest: 1441.4013720\tbest: 1441.3635368 (866)\ttotal: 2m 9s\tremaining: 17.6s\n",
      "880:\tlearn: 1305.9351233\ttest: 1441.3452432\tbest: 1441.3452432 (880)\ttotal: 2m 9s\tremaining: 17.5s\n",
      "881:\tlearn: 1305.8726019\ttest: 1441.3454869\tbest: 1441.3452432 (880)\ttotal: 2m 9s\tremaining: 17.4s\n",
      "882:\tlearn: 1305.7177793\ttest: 1441.2554783\tbest: 1441.2554783 (882)\ttotal: 2m 9s\tremaining: 17.2s\n",
      "883:\tlearn: 1305.5290558\ttest: 1441.2793167\tbest: 1441.2554783 (882)\ttotal: 2m 9s\tremaining: 17.1s\n",
      "884:\tlearn: 1305.3319281\ttest: 1441.2413854\tbest: 1441.2413854 (884)\ttotal: 2m 10s\tremaining: 16.9s\n",
      "885:\tlearn: 1305.0717232\ttest: 1441.2764747\tbest: 1441.2413854 (884)\ttotal: 2m 10s\tremaining: 16.8s\n",
      "886:\tlearn: 1304.9121870\ttest: 1441.2550544\tbest: 1441.2413854 (884)\ttotal: 2m 10s\tremaining: 16.6s\n",
      "887:\tlearn: 1304.8065611\ttest: 1441.2653745\tbest: 1441.2413854 (884)\ttotal: 2m 10s\tremaining: 16.5s\n",
      "888:\tlearn: 1304.7091647\ttest: 1441.2423666\tbest: 1441.2413854 (884)\ttotal: 2m 10s\tremaining: 16.3s\n",
      "889:\tlearn: 1304.6042958\ttest: 1441.1879106\tbest: 1441.1879106 (889)\ttotal: 2m 10s\tremaining: 16.2s\n",
      "890:\tlearn: 1304.4863802\ttest: 1441.1742831\tbest: 1441.1742831 (890)\ttotal: 2m 11s\tremaining: 16s\n",
      "891:\tlearn: 1304.3276689\ttest: 1441.1535364\tbest: 1441.1535364 (891)\ttotal: 2m 11s\tremaining: 15.9s\n",
      "892:\tlearn: 1304.2183576\ttest: 1441.1660226\tbest: 1441.1535364 (891)\ttotal: 2m 11s\tremaining: 15.7s\n",
      "893:\tlearn: 1304.0059435\ttest: 1441.0913111\tbest: 1441.0913111 (893)\ttotal: 2m 11s\tremaining: 15.6s\n",
      "894:\tlearn: 1303.8355699\ttest: 1441.1027083\tbest: 1441.0913111 (893)\ttotal: 2m 11s\tremaining: 15.4s\n",
      "895:\tlearn: 1303.7383944\ttest: 1441.0665274\tbest: 1441.0665274 (895)\ttotal: 2m 11s\tremaining: 15.3s\n",
      "896:\tlearn: 1303.5312265\ttest: 1441.0993336\tbest: 1441.0665274 (895)\ttotal: 2m 11s\tremaining: 15.1s\n",
      "897:\tlearn: 1303.3461346\ttest: 1441.0287868\tbest: 1441.0287868 (897)\ttotal: 2m 12s\tremaining: 15s\n",
      "898:\tlearn: 1303.1307986\ttest: 1440.9646402\tbest: 1440.9646402 (898)\ttotal: 2m 12s\tremaining: 14.9s\n",
      "899:\tlearn: 1303.1108817\ttest: 1440.9692654\tbest: 1440.9646402 (898)\ttotal: 2m 12s\tremaining: 14.7s\n",
      "900:\tlearn: 1303.0521565\ttest: 1440.9566450\tbest: 1440.9566450 (900)\ttotal: 2m 12s\tremaining: 14.6s\n",
      "901:\tlearn: 1302.8798148\ttest: 1440.9486186\tbest: 1440.9486186 (901)\ttotal: 2m 12s\tremaining: 14.4s\n",
      "902:\tlearn: 1302.7936709\ttest: 1440.9353268\tbest: 1440.9353268 (902)\ttotal: 2m 12s\tremaining: 14.3s\n",
      "903:\tlearn: 1302.6623868\ttest: 1440.8693922\tbest: 1440.8693922 (903)\ttotal: 2m 12s\tremaining: 14.1s\n",
      "904:\tlearn: 1302.5202004\ttest: 1440.7782525\tbest: 1440.7782525 (904)\ttotal: 2m 13s\tremaining: 14s\n",
      "905:\tlearn: 1302.4356987\ttest: 1440.7487601\tbest: 1440.7487601 (905)\ttotal: 2m 13s\tremaining: 13.8s\n",
      "906:\tlearn: 1302.3259860\ttest: 1440.7126484\tbest: 1440.7126484 (906)\ttotal: 2m 13s\tremaining: 13.7s\n",
      "907:\tlearn: 1302.1460522\ttest: 1440.6993728\tbest: 1440.6993728 (907)\ttotal: 2m 13s\tremaining: 13.5s\n",
      "908:\tlearn: 1302.0465553\ttest: 1440.6495176\tbest: 1440.6495176 (908)\ttotal: 2m 13s\tremaining: 13.4s\n",
      "909:\tlearn: 1301.8472241\ttest: 1440.6152306\tbest: 1440.6152306 (909)\ttotal: 2m 13s\tremaining: 13.2s\n",
      "910:\tlearn: 1301.7126630\ttest: 1440.6814952\tbest: 1440.6152306 (909)\ttotal: 2m 14s\tremaining: 13.1s\n",
      "911:\tlearn: 1301.5964282\ttest: 1440.6644362\tbest: 1440.6152306 (909)\ttotal: 2m 14s\tremaining: 13s\n",
      "912:\tlearn: 1301.3772940\ttest: 1440.7010842\tbest: 1440.6152306 (909)\ttotal: 2m 14s\tremaining: 12.8s\n",
      "913:\tlearn: 1301.2042523\ttest: 1440.6795585\tbest: 1440.6152306 (909)\ttotal: 2m 14s\tremaining: 12.7s\n",
      "914:\tlearn: 1301.0668255\ttest: 1440.6085817\tbest: 1440.6085817 (914)\ttotal: 2m 14s\tremaining: 12.5s\n",
      "915:\tlearn: 1300.9479110\ttest: 1440.5757392\tbest: 1440.5757392 (915)\ttotal: 2m 15s\tremaining: 12.4s\n",
      "916:\tlearn: 1300.9031887\ttest: 1440.5965970\tbest: 1440.5757392 (915)\ttotal: 2m 15s\tremaining: 12.3s\n",
      "917:\tlearn: 1300.7588551\ttest: 1440.5695740\tbest: 1440.5695740 (917)\ttotal: 2m 15s\tremaining: 12.1s\n",
      "918:\tlearn: 1300.6957923\ttest: 1440.5582429\tbest: 1440.5582429 (918)\ttotal: 2m 15s\tremaining: 12s\n",
      "919:\tlearn: 1300.6242490\ttest: 1440.5828431\tbest: 1440.5582429 (918)\ttotal: 2m 15s\tremaining: 11.8s\n",
      "920:\tlearn: 1300.4816996\ttest: 1440.5434793\tbest: 1440.5434793 (920)\ttotal: 2m 16s\tremaining: 11.7s\n",
      "921:\tlearn: 1300.3090199\ttest: 1440.5014386\tbest: 1440.5014386 (921)\ttotal: 2m 16s\tremaining: 11.5s\n",
      "922:\tlearn: 1300.1879069\ttest: 1440.4338844\tbest: 1440.4338844 (922)\ttotal: 2m 16s\tremaining: 11.4s\n",
      "923:\tlearn: 1300.0439012\ttest: 1440.4200156\tbest: 1440.4200156 (923)\ttotal: 2m 16s\tremaining: 11.2s\n",
      "924:\tlearn: 1299.9120095\ttest: 1440.4501974\tbest: 1440.4200156 (923)\ttotal: 2m 16s\tremaining: 11.1s\n",
      "925:\tlearn: 1299.7613391\ttest: 1440.3933020\tbest: 1440.3933020 (925)\ttotal: 2m 16s\tremaining: 10.9s\n",
      "926:\tlearn: 1299.6381665\ttest: 1440.3416333\tbest: 1440.3416333 (926)\ttotal: 2m 17s\tremaining: 10.8s\n",
      "927:\tlearn: 1299.4216585\ttest: 1440.2868435\tbest: 1440.2868435 (927)\ttotal: 2m 17s\tremaining: 10.6s\n",
      "928:\tlearn: 1299.2568953\ttest: 1440.2887050\tbest: 1440.2868435 (927)\ttotal: 2m 17s\tremaining: 10.5s\n",
      "929:\tlearn: 1299.0648694\ttest: 1440.2652557\tbest: 1440.2652557 (929)\ttotal: 2m 17s\tremaining: 10.3s\n",
      "930:\tlearn: 1299.0349252\ttest: 1440.2626648\tbest: 1440.2626648 (930)\ttotal: 2m 17s\tremaining: 10.2s\n",
      "931:\tlearn: 1298.7539563\ttest: 1440.2139013\tbest: 1440.2139013 (931)\ttotal: 2m 17s\tremaining: 10s\n",
      "932:\tlearn: 1298.6598772\ttest: 1440.2485209\tbest: 1440.2139013 (931)\ttotal: 2m 17s\tremaining: 9.9s\n",
      "933:\tlearn: 1298.5898969\ttest: 1440.2113176\tbest: 1440.2113176 (933)\ttotal: 2m 18s\tremaining: 9.75s\n",
      "934:\tlearn: 1298.4683610\ttest: 1440.1894347\tbest: 1440.1894347 (934)\ttotal: 2m 18s\tremaining: 9.61s\n",
      "935:\tlearn: 1298.3740956\ttest: 1440.1490507\tbest: 1440.1490507 (935)\ttotal: 2m 18s\tremaining: 9.46s\n",
      "936:\tlearn: 1298.1636753\ttest: 1440.0803732\tbest: 1440.0803732 (936)\ttotal: 2m 18s\tremaining: 9.31s\n",
      "937:\tlearn: 1297.8108113\ttest: 1439.9701002\tbest: 1439.9701002 (937)\ttotal: 2m 18s\tremaining: 9.16s\n",
      "938:\tlearn: 1297.6333856\ttest: 1439.8509676\tbest: 1439.8509676 (938)\ttotal: 2m 18s\tremaining: 9.01s\n",
      "939:\tlearn: 1297.5622901\ttest: 1439.8632879\tbest: 1439.8509676 (938)\ttotal: 2m 18s\tremaining: 8.87s\n",
      "940:\tlearn: 1297.2496799\ttest: 1439.9060132\tbest: 1439.8509676 (938)\ttotal: 2m 19s\tremaining: 8.72s\n",
      "941:\tlearn: 1297.1324806\ttest: 1439.9206816\tbest: 1439.8509676 (938)\ttotal: 2m 19s\tremaining: 8.57s\n",
      "942:\tlearn: 1296.9806057\ttest: 1439.8647995\tbest: 1439.8509676 (938)\ttotal: 2m 19s\tremaining: 8.42s\n",
      "943:\tlearn: 1296.7978597\ttest: 1439.8110017\tbest: 1439.8110017 (943)\ttotal: 2m 19s\tremaining: 8.28s\n",
      "944:\tlearn: 1296.6428523\ttest: 1439.8018598\tbest: 1439.8018598 (944)\ttotal: 2m 19s\tremaining: 8.13s\n",
      "945:\tlearn: 1296.5611894\ttest: 1439.8097038\tbest: 1439.8018598 (944)\ttotal: 2m 19s\tremaining: 7.98s\n",
      "946:\tlearn: 1296.3716181\ttest: 1439.7747796\tbest: 1439.7747796 (946)\ttotal: 2m 19s\tremaining: 7.83s\n",
      "947:\tlearn: 1296.2516645\ttest: 1439.7448465\tbest: 1439.7448465 (947)\ttotal: 2m 20s\tremaining: 7.68s\n",
      "948:\tlearn: 1296.1741636\ttest: 1439.7350275\tbest: 1439.7350275 (948)\ttotal: 2m 20s\tremaining: 7.54s\n",
      "949:\tlearn: 1296.0821192\ttest: 1439.7116688\tbest: 1439.7116688 (949)\ttotal: 2m 20s\tremaining: 7.39s\n",
      "950:\tlearn: 1295.9762178\ttest: 1439.6902580\tbest: 1439.6902580 (950)\ttotal: 2m 20s\tremaining: 7.24s\n",
      "951:\tlearn: 1295.9562796\ttest: 1439.6856355\tbest: 1439.6856355 (951)\ttotal: 2m 20s\tremaining: 7.09s\n",
      "952:\tlearn: 1295.6738155\ttest: 1439.6513857\tbest: 1439.6513857 (952)\ttotal: 2m 20s\tremaining: 6.95s\n",
      "953:\tlearn: 1295.4497937\ttest: 1439.6984590\tbest: 1439.6513857 (952)\ttotal: 2m 21s\tremaining: 6.8s\n",
      "954:\tlearn: 1295.2958678\ttest: 1439.6199091\tbest: 1439.6199091 (954)\ttotal: 2m 21s\tremaining: 6.65s\n",
      "955:\tlearn: 1295.1540557\ttest: 1439.6090750\tbest: 1439.6090750 (955)\ttotal: 2m 21s\tremaining: 6.51s\n",
      "956:\tlearn: 1295.1251348\ttest: 1439.5965407\tbest: 1439.5965407 (956)\ttotal: 2m 21s\tremaining: 6.36s\n",
      "957:\tlearn: 1295.0632168\ttest: 1439.5897914\tbest: 1439.5897914 (957)\ttotal: 2m 21s\tremaining: 6.21s\n",
      "958:\tlearn: 1294.9708018\ttest: 1439.5942451\tbest: 1439.5897914 (957)\ttotal: 2m 21s\tremaining: 6.06s\n",
      "959:\tlearn: 1294.9043746\ttest: 1439.5883529\tbest: 1439.5883529 (959)\ttotal: 2m 21s\tremaining: 5.91s\n",
      "960:\tlearn: 1294.6232513\ttest: 1439.5242485\tbest: 1439.5242485 (960)\ttotal: 2m 22s\tremaining: 5.77s\n",
      "961:\tlearn: 1294.5227022\ttest: 1439.5155358\tbest: 1439.5155358 (961)\ttotal: 2m 22s\tremaining: 5.62s\n",
      "962:\tlearn: 1294.3396301\ttest: 1439.3552313\tbest: 1439.3552313 (962)\ttotal: 2m 22s\tremaining: 5.47s\n",
      "963:\tlearn: 1294.2414373\ttest: 1439.2791802\tbest: 1439.2791802 (963)\ttotal: 2m 22s\tremaining: 5.32s\n",
      "964:\tlearn: 1294.0568892\ttest: 1439.2572476\tbest: 1439.2572476 (964)\ttotal: 2m 22s\tremaining: 5.17s\n",
      "965:\tlearn: 1293.9306897\ttest: 1439.2597294\tbest: 1439.2572476 (964)\ttotal: 2m 22s\tremaining: 5.03s\n",
      "966:\tlearn: 1293.7892513\ttest: 1439.1038941\tbest: 1439.1038941 (966)\ttotal: 2m 22s\tremaining: 4.88s\n",
      "967:\tlearn: 1293.6710527\ttest: 1439.1135807\tbest: 1439.1038941 (966)\ttotal: 2m 23s\tremaining: 4.73s\n",
      "968:\tlearn: 1293.5427614\ttest: 1439.0845259\tbest: 1439.0845259 (968)\ttotal: 2m 23s\tremaining: 4.58s\n",
      "969:\tlearn: 1293.4659159\ttest: 1439.0874396\tbest: 1439.0845259 (968)\ttotal: 2m 23s\tremaining: 4.43s\n",
      "970:\tlearn: 1293.3318198\ttest: 1439.0154090\tbest: 1439.0154090 (970)\ttotal: 2m 23s\tremaining: 4.29s\n",
      "971:\tlearn: 1293.1510576\ttest: 1439.0112157\tbest: 1439.0112157 (971)\ttotal: 2m 23s\tremaining: 4.14s\n",
      "972:\tlearn: 1293.0958950\ttest: 1439.0179818\tbest: 1439.0112157 (971)\ttotal: 2m 23s\tremaining: 3.99s\n",
      "973:\tlearn: 1293.0638104\ttest: 1439.0337206\tbest: 1439.0112157 (971)\ttotal: 2m 23s\tremaining: 3.84s\n",
      "974:\tlearn: 1292.8079312\ttest: 1439.0042198\tbest: 1439.0042198 (974)\ttotal: 2m 24s\tremaining: 3.69s\n",
      "975:\tlearn: 1292.7100193\ttest: 1438.9766556\tbest: 1438.9766556 (975)\ttotal: 2m 24s\tremaining: 3.55s\n",
      "976:\tlearn: 1292.6449694\ttest: 1438.9626284\tbest: 1438.9626284 (976)\ttotal: 2m 24s\tremaining: 3.4s\n",
      "977:\tlearn: 1292.4748866\ttest: 1438.9611994\tbest: 1438.9611994 (977)\ttotal: 2m 24s\tremaining: 3.25s\n",
      "978:\tlearn: 1292.3379736\ttest: 1438.9360656\tbest: 1438.9360656 (978)\ttotal: 2m 24s\tremaining: 3.1s\n",
      "979:\tlearn: 1292.0933493\ttest: 1438.8520246\tbest: 1438.8520246 (979)\ttotal: 2m 24s\tremaining: 2.96s\n",
      "980:\tlearn: 1292.0262729\ttest: 1438.8315803\tbest: 1438.8315803 (980)\ttotal: 2m 25s\tremaining: 2.81s\n",
      "981:\tlearn: 1291.8766654\ttest: 1438.8743850\tbest: 1438.8315803 (980)\ttotal: 2m 25s\tremaining: 2.66s\n",
      "982:\tlearn: 1291.8104830\ttest: 1438.8698386\tbest: 1438.8315803 (980)\ttotal: 2m 25s\tremaining: 2.51s\n",
      "983:\tlearn: 1291.6488659\ttest: 1438.8467466\tbest: 1438.8315803 (980)\ttotal: 2m 25s\tremaining: 2.36s\n",
      "984:\tlearn: 1291.6087118\ttest: 1438.8579787\tbest: 1438.8315803 (980)\ttotal: 2m 25s\tremaining: 2.22s\n",
      "985:\tlearn: 1291.4604520\ttest: 1438.7956340\tbest: 1438.7956340 (985)\ttotal: 2m 25s\tremaining: 2.07s\n",
      "986:\tlearn: 1291.3578397\ttest: 1438.7266149\tbest: 1438.7266149 (986)\ttotal: 2m 25s\tremaining: 1.92s\n",
      "987:\tlearn: 1291.2485188\ttest: 1438.6785218\tbest: 1438.6785218 (987)\ttotal: 2m 26s\tremaining: 1.77s\n",
      "988:\tlearn: 1291.1348519\ttest: 1438.7006679\tbest: 1438.6785218 (987)\ttotal: 2m 26s\tremaining: 1.63s\n",
      "989:\tlearn: 1290.9226809\ttest: 1438.6735093\tbest: 1438.6735093 (989)\ttotal: 2m 26s\tremaining: 1.48s\n",
      "990:\tlearn: 1290.8025954\ttest: 1438.6284514\tbest: 1438.6284514 (990)\ttotal: 2m 26s\tremaining: 1.33s\n",
      "991:\tlearn: 1290.6567680\ttest: 1438.6257752\tbest: 1438.6257752 (991)\ttotal: 2m 26s\tremaining: 1.18s\n",
      "992:\tlearn: 1290.6142140\ttest: 1438.6287959\tbest: 1438.6257752 (991)\ttotal: 2m 26s\tremaining: 1.03s\n",
      "993:\tlearn: 1290.4870523\ttest: 1438.6487720\tbest: 1438.6257752 (991)\ttotal: 2m 26s\tremaining: 887ms\n",
      "994:\tlearn: 1290.3315100\ttest: 1438.5214005\tbest: 1438.5214005 (994)\ttotal: 2m 27s\tremaining: 739ms\n",
      "995:\tlearn: 1290.1568181\ttest: 1438.4652756\tbest: 1438.4652756 (995)\ttotal: 2m 27s\tremaining: 591ms\n",
      "996:\tlearn: 1290.0506301\ttest: 1438.4288963\tbest: 1438.4288963 (996)\ttotal: 2m 27s\tremaining: 443ms\n",
      "997:\tlearn: 1289.9992599\ttest: 1438.4180716\tbest: 1438.4180716 (997)\ttotal: 2m 27s\tremaining: 296ms\n",
      "998:\tlearn: 1289.8701654\ttest: 1438.4027353\tbest: 1438.4027353 (998)\ttotal: 2m 27s\tremaining: 148ms\n",
      "999:\tlearn: 1289.7483644\ttest: 1438.4246347\tbest: 1438.4027353 (998)\ttotal: 2m 27s\tremaining: 0us\n",
      "\n",
      "bestTest = 1438.402735\n",
      "bestIteration = 998\n",
      "\n",
      "0:\tloss: 1438.4027353\tbest: 1438.4027353 (0)\ttotal: 2m 31s\tremaining: 5m 2s\n",
      "0:\tlearn: 3438.8562241\ttest: 3421.4798645\tbest: 3421.4798645 (0)\ttotal: 144ms\tremaining: 2m 24s\n",
      "1:\tlearn: 2592.8308127\ttest: 2586.0230373\tbest: 2586.0230373 (1)\ttotal: 288ms\tremaining: 2m 23s\n",
      "2:\tlearn: 2156.2158880\ttest: 2151.4203833\tbest: 2151.4203833 (2)\ttotal: 428ms\tremaining: 2m 22s\n",
      "3:\tlearn: 1927.6045568\ttest: 1923.1606062\tbest: 1923.1606062 (3)\ttotal: 575ms\tremaining: 2m 23s\n",
      "4:\tlearn: 1812.9342428\ttest: 1810.5917291\tbest: 1810.5917291 (4)\ttotal: 721ms\tremaining: 2m 23s\n",
      "5:\tlearn: 1741.3455296\ttest: 1741.8968335\tbest: 1741.8968335 (5)\ttotal: 865ms\tremaining: 2m 23s\n",
      "6:\tlearn: 1696.5431877\ttest: 1696.5949385\tbest: 1696.5949385 (6)\ttotal: 1.01s\tremaining: 2m 22s\n",
      "7:\tlearn: 1672.8903925\ttest: 1677.0823619\tbest: 1677.0823619 (7)\ttotal: 1.15s\tremaining: 2m 22s\n",
      "8:\tlearn: 1653.1269529\ttest: 1658.5488691\tbest: 1658.5488691 (8)\ttotal: 1.29s\tremaining: 2m 22s\n",
      "9:\tlearn: 1635.2277610\ttest: 1642.3451036\tbest: 1642.3451036 (9)\ttotal: 1.44s\tremaining: 2m 22s\n",
      "10:\tlearn: 1624.4373563\ttest: 1633.2581618\tbest: 1633.2581618 (10)\ttotal: 1.59s\tremaining: 2m 22s\n",
      "11:\tlearn: 1615.2784974\ttest: 1624.7544034\tbest: 1624.7544034 (11)\ttotal: 1.73s\tremaining: 2m 22s\n",
      "12:\tlearn: 1609.5953831\ttest: 1619.1159542\tbest: 1619.1159542 (12)\ttotal: 1.87s\tremaining: 2m 22s\n",
      "13:\tlearn: 1603.4373645\ttest: 1613.4217617\tbest: 1613.4217617 (13)\ttotal: 2.02s\tremaining: 2m 22s\n",
      "14:\tlearn: 1594.9124440\ttest: 1606.5938649\tbest: 1606.5938649 (14)\ttotal: 2.16s\tremaining: 2m 21s\n",
      "15:\tlearn: 1588.5181536\ttest: 1602.1742838\tbest: 1602.1742838 (15)\ttotal: 2.31s\tremaining: 2m 22s\n",
      "16:\tlearn: 1580.4431140\ttest: 1595.7705920\tbest: 1595.7705920 (16)\ttotal: 2.45s\tremaining: 2m 21s\n",
      "17:\tlearn: 1575.3910869\ttest: 1590.8560223\tbest: 1590.8560223 (17)\ttotal: 2.6s\tremaining: 2m 21s\n",
      "18:\tlearn: 1571.7740930\ttest: 1587.3575472\tbest: 1587.3575472 (18)\ttotal: 2.74s\tremaining: 2m 21s\n",
      "19:\tlearn: 1567.1339369\ttest: 1583.6086578\tbest: 1583.6086578 (19)\ttotal: 2.89s\tremaining: 2m 21s\n",
      "20:\tlearn: 1562.0593408\ttest: 1579.1130099\tbest: 1579.1130099 (20)\ttotal: 3.04s\tremaining: 2m 21s\n",
      "21:\tlearn: 1558.4168593\ttest: 1576.0206373\tbest: 1576.0206373 (21)\ttotal: 3.18s\tremaining: 2m 21s\n",
      "22:\tlearn: 1548.9689176\ttest: 1568.5696744\tbest: 1568.5696744 (22)\ttotal: 3.33s\tremaining: 2m 21s\n",
      "23:\tlearn: 1545.1838845\ttest: 1565.4452855\tbest: 1565.4452855 (23)\ttotal: 3.47s\tremaining: 2m 21s\n",
      "24:\tlearn: 1539.4036496\ttest: 1561.5616907\tbest: 1561.5616907 (24)\ttotal: 3.62s\tremaining: 2m 21s\n",
      "25:\tlearn: 1536.0356659\ttest: 1558.1218099\tbest: 1558.1218099 (25)\ttotal: 3.77s\tremaining: 2m 21s\n",
      "26:\tlearn: 1533.7338884\ttest: 1556.3592776\tbest: 1556.3592776 (26)\ttotal: 3.91s\tremaining: 2m 20s\n",
      "27:\tlearn: 1531.0315845\ttest: 1555.1713957\tbest: 1555.1713957 (27)\ttotal: 4.05s\tremaining: 2m 20s\n",
      "28:\tlearn: 1527.6044453\ttest: 1553.6018653\tbest: 1553.6018653 (28)\ttotal: 4.2s\tremaining: 2m 20s\n",
      "29:\tlearn: 1525.4506623\ttest: 1551.9513100\tbest: 1551.9513100 (29)\ttotal: 4.35s\tremaining: 2m 20s\n",
      "30:\tlearn: 1523.8322375\ttest: 1550.1514605\tbest: 1550.1514605 (30)\ttotal: 4.49s\tremaining: 2m 20s\n",
      "31:\tlearn: 1519.4500827\ttest: 1547.0402064\tbest: 1547.0402064 (31)\ttotal: 4.64s\tremaining: 2m 20s\n",
      "32:\tlearn: 1516.5806776\ttest: 1544.4956492\tbest: 1544.4956492 (32)\ttotal: 4.78s\tremaining: 2m 20s\n",
      "33:\tlearn: 1513.9941683\ttest: 1542.5870877\tbest: 1542.5870877 (33)\ttotal: 4.93s\tremaining: 2m 19s\n",
      "34:\tlearn: 1510.3583086\ttest: 1540.0727629\tbest: 1540.0727629 (34)\ttotal: 5.07s\tremaining: 2m 19s\n",
      "35:\tlearn: 1506.9655414\ttest: 1537.6645272\tbest: 1537.6645272 (35)\ttotal: 5.21s\tremaining: 2m 19s\n",
      "36:\tlearn: 1504.2079677\ttest: 1536.4324318\tbest: 1536.4324318 (36)\ttotal: 5.36s\tremaining: 2m 19s\n",
      "37:\tlearn: 1502.0777406\ttest: 1535.0991123\tbest: 1535.0991123 (37)\ttotal: 5.52s\tremaining: 2m 19s\n",
      "38:\tlearn: 1498.8425635\ttest: 1532.8339215\tbest: 1532.8339215 (38)\ttotal: 5.66s\tremaining: 2m 19s\n",
      "39:\tlearn: 1496.5045540\ttest: 1531.1533639\tbest: 1531.1533639 (39)\ttotal: 5.81s\tremaining: 2m 19s\n",
      "40:\tlearn: 1494.5237655\ttest: 1530.1481759\tbest: 1530.1481759 (40)\ttotal: 5.96s\tremaining: 2m 19s\n",
      "41:\tlearn: 1492.8223312\ttest: 1529.1710171\tbest: 1529.1710171 (41)\ttotal: 6.11s\tremaining: 2m 19s\n",
      "42:\tlearn: 1491.0992919\ttest: 1528.0014482\tbest: 1528.0014482 (42)\ttotal: 6.25s\tremaining: 2m 19s\n",
      "43:\tlearn: 1488.5294829\ttest: 1525.7776261\tbest: 1525.7776261 (43)\ttotal: 6.39s\tremaining: 2m 18s\n",
      "44:\tlearn: 1484.6757644\ttest: 1524.2388517\tbest: 1524.2388517 (44)\ttotal: 6.54s\tremaining: 2m 18s\n",
      "45:\tlearn: 1483.0763174\ttest: 1522.9675897\tbest: 1522.9675897 (45)\ttotal: 6.69s\tremaining: 2m 18s\n",
      "46:\tlearn: 1480.6566383\ttest: 1520.8785966\tbest: 1520.8785966 (46)\ttotal: 6.83s\tremaining: 2m 18s\n",
      "47:\tlearn: 1478.2388642\ttest: 1519.8098885\tbest: 1519.8098885 (47)\ttotal: 6.98s\tremaining: 2m 18s\n",
      "48:\tlearn: 1476.1985523\ttest: 1517.6018298\tbest: 1517.6018298 (48)\ttotal: 7.12s\tremaining: 2m 18s\n",
      "49:\tlearn: 1474.9416853\ttest: 1516.5719046\tbest: 1516.5719046 (49)\ttotal: 7.27s\tremaining: 2m 18s\n",
      "50:\tlearn: 1472.7201421\ttest: 1515.5642564\tbest: 1515.5642564 (50)\ttotal: 7.41s\tremaining: 2m 17s\n",
      "51:\tlearn: 1471.2238162\ttest: 1515.0755925\tbest: 1515.0755925 (51)\ttotal: 7.56s\tremaining: 2m 17s\n",
      "52:\tlearn: 1469.2978598\ttest: 1513.8492195\tbest: 1513.8492195 (52)\ttotal: 7.71s\tremaining: 2m 17s\n",
      "53:\tlearn: 1467.4366540\ttest: 1512.1657026\tbest: 1512.1657026 (53)\ttotal: 7.85s\tremaining: 2m 17s\n",
      "54:\tlearn: 1465.3638904\ttest: 1511.0415786\tbest: 1511.0415786 (54)\ttotal: 7.99s\tremaining: 2m 17s\n",
      "55:\tlearn: 1464.0679636\ttest: 1510.5091601\tbest: 1510.5091601 (55)\ttotal: 8.13s\tremaining: 2m 17s\n",
      "56:\tlearn: 1462.7274265\ttest: 1509.7633215\tbest: 1509.7633215 (56)\ttotal: 8.28s\tremaining: 2m 16s\n",
      "57:\tlearn: 1461.3014446\ttest: 1509.0255129\tbest: 1509.0255129 (57)\ttotal: 8.42s\tremaining: 2m 16s\n",
      "58:\tlearn: 1458.9212737\ttest: 1507.8824426\tbest: 1507.8824426 (58)\ttotal: 8.56s\tremaining: 2m 16s\n",
      "59:\tlearn: 1457.4827010\ttest: 1506.8975615\tbest: 1506.8975615 (59)\ttotal: 8.71s\tremaining: 2m 16s\n",
      "60:\tlearn: 1455.4785968\ttest: 1506.4987985\tbest: 1506.4987985 (60)\ttotal: 8.85s\tremaining: 2m 16s\n",
      "61:\tlearn: 1452.8623606\ttest: 1504.7371010\tbest: 1504.7371010 (61)\ttotal: 9s\tremaining: 2m 16s\n",
      "62:\tlearn: 1450.0993699\ttest: 1504.2609673\tbest: 1504.2609673 (62)\ttotal: 9.14s\tremaining: 2m 15s\n",
      "63:\tlearn: 1448.9584853\ttest: 1503.4926756\tbest: 1503.4926756 (63)\ttotal: 9.3s\tremaining: 2m 16s\n",
      "64:\tlearn: 1447.5109519\ttest: 1502.4243681\tbest: 1502.4243681 (64)\ttotal: 9.45s\tremaining: 2m 15s\n",
      "65:\tlearn: 1445.9064618\ttest: 1501.1876896\tbest: 1501.1876896 (65)\ttotal: 9.59s\tremaining: 2m 15s\n",
      "66:\tlearn: 1443.9865940\ttest: 1500.2585988\tbest: 1500.2585988 (66)\ttotal: 9.74s\tremaining: 2m 15s\n",
      "67:\tlearn: 1441.6253332\ttest: 1499.6533373\tbest: 1499.6533373 (67)\ttotal: 9.88s\tremaining: 2m 15s\n",
      "68:\tlearn: 1439.7504241\ttest: 1499.0872967\tbest: 1499.0872967 (68)\ttotal: 10s\tremaining: 2m 15s\n",
      "69:\tlearn: 1439.0824854\ttest: 1498.7604603\tbest: 1498.7604603 (69)\ttotal: 10.2s\tremaining: 2m 15s\n",
      "70:\tlearn: 1437.8700632\ttest: 1498.3497078\tbest: 1498.3497078 (70)\ttotal: 10.3s\tremaining: 2m 14s\n",
      "71:\tlearn: 1436.5978260\ttest: 1497.6588806\tbest: 1497.6588806 (71)\ttotal: 10.5s\tremaining: 2m 14s\n",
      "72:\tlearn: 1435.1898428\ttest: 1496.8825635\tbest: 1496.8825635 (72)\ttotal: 10.6s\tremaining: 2m 14s\n",
      "73:\tlearn: 1433.7110527\ttest: 1496.2032940\tbest: 1496.2032940 (73)\ttotal: 10.7s\tremaining: 2m 14s\n",
      "74:\tlearn: 1431.8657333\ttest: 1495.6642458\tbest: 1495.6642458 (74)\ttotal: 10.9s\tremaining: 2m 14s\n",
      "75:\tlearn: 1431.1138363\ttest: 1495.3151581\tbest: 1495.3151581 (75)\ttotal: 11s\tremaining: 2m 14s\n",
      "76:\tlearn: 1430.0381902\ttest: 1494.4195075\tbest: 1494.4195075 (76)\ttotal: 11.2s\tremaining: 2m 13s\n",
      "77:\tlearn: 1428.4932405\ttest: 1493.8887731\tbest: 1493.8887731 (77)\ttotal: 11.3s\tremaining: 2m 14s\n",
      "78:\tlearn: 1426.7694789\ttest: 1492.7241420\tbest: 1492.7241420 (78)\ttotal: 11.5s\tremaining: 2m 13s\n",
      "79:\tlearn: 1424.2493884\ttest: 1491.8521198\tbest: 1491.8521198 (79)\ttotal: 11.6s\tremaining: 2m 13s\n",
      "80:\tlearn: 1423.4001401\ttest: 1491.6088754\tbest: 1491.6088754 (80)\ttotal: 11.8s\tremaining: 2m 13s\n",
      "81:\tlearn: 1422.3211148\ttest: 1491.0432785\tbest: 1491.0432785 (81)\ttotal: 11.9s\tremaining: 2m 13s\n",
      "82:\tlearn: 1420.7480307\ttest: 1490.2123649\tbest: 1490.2123649 (82)\ttotal: 12.1s\tremaining: 2m 13s\n",
      "83:\tlearn: 1419.9390578\ttest: 1490.1561777\tbest: 1490.1561777 (83)\ttotal: 12.2s\tremaining: 2m 13s\n",
      "84:\tlearn: 1418.8388807\ttest: 1489.8512190\tbest: 1489.8512190 (84)\ttotal: 12.3s\tremaining: 2m 12s\n",
      "85:\tlearn: 1417.7144027\ttest: 1489.0639183\tbest: 1489.0639183 (85)\ttotal: 12.5s\tremaining: 2m 12s\n",
      "86:\tlearn: 1416.4286450\ttest: 1488.2683077\tbest: 1488.2683077 (86)\ttotal: 12.6s\tremaining: 2m 12s\n",
      "87:\tlearn: 1414.7309744\ttest: 1487.6710109\tbest: 1487.6710109 (87)\ttotal: 12.8s\tremaining: 2m 12s\n",
      "88:\tlearn: 1413.2451206\ttest: 1487.1383485\tbest: 1487.1383485 (88)\ttotal: 12.9s\tremaining: 2m 12s\n",
      "89:\tlearn: 1412.3037960\ttest: 1486.7729801\tbest: 1486.7729801 (89)\ttotal: 13.1s\tremaining: 2m 12s\n",
      "90:\tlearn: 1411.4827122\ttest: 1486.6805170\tbest: 1486.6805170 (90)\ttotal: 13.2s\tremaining: 2m 11s\n",
      "91:\tlearn: 1410.2640986\ttest: 1485.9262626\tbest: 1485.9262626 (91)\ttotal: 13.4s\tremaining: 2m 11s\n",
      "92:\tlearn: 1408.9040226\ttest: 1485.1096845\tbest: 1485.1096845 (92)\ttotal: 13.5s\tremaining: 2m 11s\n",
      "93:\tlearn: 1407.4206456\ttest: 1484.2830424\tbest: 1484.2830424 (93)\ttotal: 13.6s\tremaining: 2m 11s\n",
      "94:\tlearn: 1406.0035079\ttest: 1483.5342779\tbest: 1483.5342779 (94)\ttotal: 13.8s\tremaining: 2m 11s\n",
      "95:\tlearn: 1404.5540696\ttest: 1482.8321135\tbest: 1482.8321135 (95)\ttotal: 13.9s\tremaining: 2m 11s\n",
      "96:\tlearn: 1402.7348250\ttest: 1481.8779585\tbest: 1481.8779585 (96)\ttotal: 14.1s\tremaining: 2m 11s\n",
      "97:\tlearn: 1401.5713650\ttest: 1481.7381982\tbest: 1481.7381982 (97)\ttotal: 14.2s\tremaining: 2m 10s\n",
      "98:\tlearn: 1400.0300132\ttest: 1481.2372370\tbest: 1481.2372370 (98)\ttotal: 14.4s\tremaining: 2m 10s\n",
      "99:\tlearn: 1399.3416940\ttest: 1480.7639637\tbest: 1480.7639637 (99)\ttotal: 14.5s\tremaining: 2m 10s\n",
      "100:\tlearn: 1398.4831345\ttest: 1480.1849382\tbest: 1480.1849382 (100)\ttotal: 14.7s\tremaining: 2m 10s\n",
      "101:\tlearn: 1397.7213435\ttest: 1480.2001619\tbest: 1480.1849382 (100)\ttotal: 14.8s\tremaining: 2m 10s\n",
      "102:\tlearn: 1397.1024810\ttest: 1479.9178962\tbest: 1479.9178962 (102)\ttotal: 15s\tremaining: 2m 10s\n",
      "103:\tlearn: 1396.0313596\ttest: 1479.1590335\tbest: 1479.1590335 (103)\ttotal: 15.1s\tremaining: 2m 10s\n",
      "104:\tlearn: 1395.4184438\ttest: 1478.9199575\tbest: 1478.9199575 (104)\ttotal: 15.2s\tremaining: 2m 9s\n",
      "105:\tlearn: 1394.3454648\ttest: 1478.6462332\tbest: 1478.6462332 (105)\ttotal: 15.4s\tremaining: 2m 9s\n",
      "106:\tlearn: 1393.3490714\ttest: 1478.3505395\tbest: 1478.3505395 (106)\ttotal: 15.5s\tremaining: 2m 9s\n",
      "107:\tlearn: 1391.8815505\ttest: 1478.3979685\tbest: 1478.3505395 (106)\ttotal: 15.7s\tremaining: 2m 9s\n",
      "108:\tlearn: 1390.3989496\ttest: 1477.4425688\tbest: 1477.4425688 (108)\ttotal: 15.8s\tremaining: 2m 9s\n",
      "109:\tlearn: 1389.5835690\ttest: 1477.1667540\tbest: 1477.1667540 (109)\ttotal: 16s\tremaining: 2m 9s\n",
      "110:\tlearn: 1388.6335356\ttest: 1476.5406697\tbest: 1476.5406697 (110)\ttotal: 16.1s\tremaining: 2m 9s\n",
      "111:\tlearn: 1387.6324302\ttest: 1476.3029934\tbest: 1476.3029934 (111)\ttotal: 16.3s\tremaining: 2m 9s\n",
      "112:\tlearn: 1386.1896740\ttest: 1475.4975622\tbest: 1475.4975622 (112)\ttotal: 16.4s\tremaining: 2m 8s\n",
      "113:\tlearn: 1385.2755949\ttest: 1475.6170873\tbest: 1475.4975622 (112)\ttotal: 16.6s\tremaining: 2m 8s\n",
      "114:\tlearn: 1383.9161019\ttest: 1474.9552376\tbest: 1474.9552376 (114)\ttotal: 16.7s\tremaining: 2m 8s\n",
      "115:\tlearn: 1383.3177026\ttest: 1474.7217032\tbest: 1474.7217032 (115)\ttotal: 16.9s\tremaining: 2m 8s\n",
      "116:\tlearn: 1382.4116902\ttest: 1474.6882615\tbest: 1474.6882615 (116)\ttotal: 17s\tremaining: 2m 8s\n",
      "117:\tlearn: 1381.6554792\ttest: 1474.4103740\tbest: 1474.4103740 (117)\ttotal: 17.2s\tremaining: 2m 8s\n",
      "118:\tlearn: 1380.7686136\ttest: 1473.9623736\tbest: 1473.9623736 (118)\ttotal: 17.4s\tremaining: 2m 8s\n",
      "119:\tlearn: 1379.8657105\ttest: 1473.8457323\tbest: 1473.8457323 (119)\ttotal: 17.6s\tremaining: 2m 8s\n",
      "120:\tlearn: 1379.2124027\ttest: 1473.6716198\tbest: 1473.6716198 (120)\ttotal: 17.7s\tremaining: 2m 8s\n",
      "121:\tlearn: 1378.1559985\ttest: 1473.4212842\tbest: 1473.4212842 (121)\ttotal: 18s\tremaining: 2m 9s\n",
      "122:\tlearn: 1377.6410513\ttest: 1473.4497166\tbest: 1473.4212842 (121)\ttotal: 18.1s\tremaining: 2m 9s\n",
      "123:\tlearn: 1377.1078688\ttest: 1472.9881228\tbest: 1472.9881228 (123)\ttotal: 18.3s\tremaining: 2m 8s\n",
      "124:\tlearn: 1375.7571531\ttest: 1472.7237593\tbest: 1472.7237593 (124)\ttotal: 18.4s\tremaining: 2m 8s\n",
      "125:\tlearn: 1375.0138519\ttest: 1472.4680716\tbest: 1472.4680716 (125)\ttotal: 18.5s\tremaining: 2m 8s\n",
      "126:\tlearn: 1374.3865196\ttest: 1472.2779844\tbest: 1472.2779844 (126)\ttotal: 18.7s\tremaining: 2m 8s\n",
      "127:\tlearn: 1373.3192774\ttest: 1472.2670944\tbest: 1472.2670944 (127)\ttotal: 18.8s\tremaining: 2m 8s\n",
      "128:\tlearn: 1372.4254215\ttest: 1472.3923198\tbest: 1472.2670944 (127)\ttotal: 19s\tremaining: 2m 8s\n",
      "129:\tlearn: 1371.6750240\ttest: 1472.3444895\tbest: 1472.2670944 (127)\ttotal: 19.1s\tremaining: 2m 7s\n",
      "130:\tlearn: 1371.0501415\ttest: 1472.1207363\tbest: 1472.1207363 (130)\ttotal: 19.3s\tremaining: 2m 7s\n",
      "131:\tlearn: 1370.5640831\ttest: 1471.7675098\tbest: 1471.7675098 (131)\ttotal: 19.4s\tremaining: 2m 7s\n",
      "132:\tlearn: 1369.9641506\ttest: 1471.9827205\tbest: 1471.7675098 (131)\ttotal: 19.5s\tremaining: 2m 7s\n",
      "133:\tlearn: 1369.4033188\ttest: 1471.9917647\tbest: 1471.7675098 (131)\ttotal: 19.7s\tremaining: 2m 7s\n",
      "134:\tlearn: 1368.4909126\ttest: 1472.0354761\tbest: 1471.7675098 (131)\ttotal: 19.8s\tremaining: 2m 7s\n",
      "135:\tlearn: 1367.5448954\ttest: 1471.6597808\tbest: 1471.6597808 (135)\ttotal: 20s\tremaining: 2m 6s\n",
      "136:\tlearn: 1366.3558355\ttest: 1470.7511275\tbest: 1470.7511275 (136)\ttotal: 20.1s\tremaining: 2m 6s\n",
      "137:\tlearn: 1365.8910579\ttest: 1470.3978104\tbest: 1470.3978104 (137)\ttotal: 20.3s\tremaining: 2m 6s\n",
      "138:\tlearn: 1365.4289707\ttest: 1470.3152846\tbest: 1470.3152846 (138)\ttotal: 20.4s\tremaining: 2m 6s\n",
      "139:\tlearn: 1364.8233663\ttest: 1470.0874295\tbest: 1470.0874295 (139)\ttotal: 20.6s\tremaining: 2m 6s\n",
      "140:\tlearn: 1363.8893148\ttest: 1470.2296595\tbest: 1470.0874295 (139)\ttotal: 20.7s\tremaining: 2m 6s\n",
      "141:\tlearn: 1362.6830947\ttest: 1469.4877947\tbest: 1469.4877947 (141)\ttotal: 20.8s\tremaining: 2m 5s\n",
      "142:\tlearn: 1361.6153965\ttest: 1469.3614348\tbest: 1469.3614348 (142)\ttotal: 21s\tremaining: 2m 5s\n",
      "143:\tlearn: 1360.9111922\ttest: 1469.1505458\tbest: 1469.1505458 (143)\ttotal: 21.1s\tremaining: 2m 5s\n",
      "144:\tlearn: 1359.9184213\ttest: 1468.9352332\tbest: 1468.9352332 (144)\ttotal: 21.3s\tremaining: 2m 5s\n",
      "145:\tlearn: 1358.5721865\ttest: 1468.3180267\tbest: 1468.3180267 (145)\ttotal: 21.4s\tremaining: 2m 5s\n",
      "146:\tlearn: 1357.6003402\ttest: 1468.3291415\tbest: 1468.3180267 (145)\ttotal: 21.6s\tremaining: 2m 5s\n",
      "147:\tlearn: 1357.1440185\ttest: 1468.3208910\tbest: 1468.3180267 (145)\ttotal: 21.7s\tremaining: 2m 5s\n",
      "148:\tlearn: 1356.6280295\ttest: 1468.2465297\tbest: 1468.2465297 (148)\ttotal: 21.9s\tremaining: 2m 4s\n",
      "149:\tlearn: 1355.7782441\ttest: 1467.9920218\tbest: 1467.9920218 (149)\ttotal: 22s\tremaining: 2m 4s\n",
      "150:\tlearn: 1354.9581554\ttest: 1467.5719774\tbest: 1467.5719774 (150)\ttotal: 22.1s\tremaining: 2m 4s\n",
      "151:\tlearn: 1353.8638987\ttest: 1467.5443723\tbest: 1467.5443723 (151)\ttotal: 22.3s\tremaining: 2m 4s\n",
      "152:\tlearn: 1352.8154946\ttest: 1467.4208094\tbest: 1467.4208094 (152)\ttotal: 22.4s\tremaining: 2m 4s\n",
      "153:\tlearn: 1352.1689967\ttest: 1467.4490332\tbest: 1467.4208094 (152)\ttotal: 22.6s\tremaining: 2m 4s\n",
      "154:\tlearn: 1351.5628560\ttest: 1467.7292327\tbest: 1467.4208094 (152)\ttotal: 22.7s\tremaining: 2m 3s\n",
      "155:\tlearn: 1350.9033909\ttest: 1467.6159107\tbest: 1467.4208094 (152)\ttotal: 22.9s\tremaining: 2m 3s\n",
      "156:\tlearn: 1349.8924834\ttest: 1467.5141082\tbest: 1467.4208094 (152)\ttotal: 23s\tremaining: 2m 3s\n",
      "157:\tlearn: 1349.0857169\ttest: 1467.5337373\tbest: 1467.4208094 (152)\ttotal: 23.2s\tremaining: 2m 3s\n",
      "158:\tlearn: 1348.1437704\ttest: 1467.5119986\tbest: 1467.4208094 (152)\ttotal: 23.3s\tremaining: 2m 3s\n",
      "159:\tlearn: 1346.9498806\ttest: 1466.8329551\tbest: 1466.8329551 (159)\ttotal: 23.5s\tremaining: 2m 3s\n",
      "160:\tlearn: 1346.3818981\ttest: 1466.6787451\tbest: 1466.6787451 (160)\ttotal: 23.6s\tremaining: 2m 3s\n",
      "161:\tlearn: 1345.6094995\ttest: 1466.3576497\tbest: 1466.3576497 (161)\ttotal: 23.8s\tremaining: 2m 2s\n",
      "162:\tlearn: 1345.0018631\ttest: 1466.3582885\tbest: 1466.3576497 (161)\ttotal: 23.9s\tremaining: 2m 2s\n",
      "163:\tlearn: 1344.6096287\ttest: 1466.4421274\tbest: 1466.3576497 (161)\ttotal: 24.1s\tremaining: 2m 2s\n",
      "164:\tlearn: 1343.6199440\ttest: 1466.1431795\tbest: 1466.1431795 (164)\ttotal: 24.2s\tremaining: 2m 2s\n",
      "165:\tlearn: 1342.2721565\ttest: 1465.8147546\tbest: 1465.8147546 (165)\ttotal: 24.4s\tremaining: 2m 2s\n",
      "166:\tlearn: 1341.5230400\ttest: 1466.0474641\tbest: 1465.8147546 (165)\ttotal: 24.5s\tremaining: 2m 2s\n",
      "167:\tlearn: 1340.5665806\ttest: 1465.9757557\tbest: 1465.8147546 (165)\ttotal: 24.7s\tremaining: 2m 2s\n",
      "168:\tlearn: 1339.8141788\ttest: 1465.7689144\tbest: 1465.7689144 (168)\ttotal: 24.8s\tremaining: 2m 1s\n",
      "169:\tlearn: 1339.0716294\ttest: 1465.3883936\tbest: 1465.3883936 (169)\ttotal: 24.9s\tremaining: 2m 1s\n",
      "170:\tlearn: 1338.2624781\ttest: 1465.0282140\tbest: 1465.0282140 (170)\ttotal: 25.1s\tremaining: 2m 1s\n",
      "171:\tlearn: 1337.7948423\ttest: 1464.9792957\tbest: 1464.9792957 (171)\ttotal: 25.2s\tremaining: 2m 1s\n",
      "172:\tlearn: 1336.9326784\ttest: 1464.6434567\tbest: 1464.6434567 (172)\ttotal: 25.4s\tremaining: 2m 1s\n",
      "173:\tlearn: 1336.6375918\ttest: 1464.7105717\tbest: 1464.6434567 (172)\ttotal: 25.5s\tremaining: 2m 1s\n",
      "174:\tlearn: 1336.3519746\ttest: 1464.6013538\tbest: 1464.6013538 (174)\ttotal: 25.7s\tremaining: 2m 1s\n",
      "175:\tlearn: 1335.9126408\ttest: 1464.3446093\tbest: 1464.3446093 (175)\ttotal: 25.8s\tremaining: 2m\n",
      "176:\tlearn: 1335.3815542\ttest: 1463.8244992\tbest: 1463.8244992 (176)\ttotal: 26s\tremaining: 2m\n",
      "177:\tlearn: 1335.1487444\ttest: 1463.7649362\tbest: 1463.7649362 (177)\ttotal: 26.1s\tremaining: 2m\n",
      "178:\tlearn: 1334.4031319\ttest: 1463.9175485\tbest: 1463.7649362 (177)\ttotal: 26.3s\tremaining: 2m\n",
      "179:\tlearn: 1334.1270107\ttest: 1463.8542954\tbest: 1463.7649362 (177)\ttotal: 26.4s\tremaining: 2m\n",
      "180:\tlearn: 1333.3651061\ttest: 1463.9292871\tbest: 1463.7649362 (177)\ttotal: 26.6s\tremaining: 2m\n",
      "181:\tlearn: 1331.7893029\ttest: 1463.5054273\tbest: 1463.5054273 (181)\ttotal: 26.7s\tremaining: 2m\n",
      "182:\tlearn: 1331.3734381\ttest: 1463.3300330\tbest: 1463.3300330 (182)\ttotal: 26.8s\tremaining: 1m 59s\n",
      "183:\tlearn: 1331.2432408\ttest: 1463.2784265\tbest: 1463.2784265 (183)\ttotal: 27s\tremaining: 1m 59s\n",
      "184:\tlearn: 1330.3991214\ttest: 1462.9829693\tbest: 1462.9829693 (184)\ttotal: 27.1s\tremaining: 1m 59s\n",
      "185:\tlearn: 1329.7237281\ttest: 1463.0906171\tbest: 1462.9829693 (184)\ttotal: 27.3s\tremaining: 1m 59s\n",
      "186:\tlearn: 1329.2669735\ttest: 1462.7396339\tbest: 1462.7396339 (186)\ttotal: 27.4s\tremaining: 1m 59s\n",
      "187:\tlearn: 1328.7088253\ttest: 1462.6035335\tbest: 1462.6035335 (187)\ttotal: 27.6s\tremaining: 1m 59s\n",
      "188:\tlearn: 1327.9261322\ttest: 1462.5798494\tbest: 1462.5798494 (188)\ttotal: 27.7s\tremaining: 1m 58s\n",
      "189:\tlearn: 1327.4480070\ttest: 1462.2377272\tbest: 1462.2377272 (189)\ttotal: 27.9s\tremaining: 1m 58s\n",
      "190:\tlearn: 1326.0164620\ttest: 1461.6236259\tbest: 1461.6236259 (190)\ttotal: 28s\tremaining: 1m 58s\n",
      "191:\tlearn: 1325.7015882\ttest: 1461.5594176\tbest: 1461.5594176 (191)\ttotal: 28.2s\tremaining: 1m 58s\n",
      "192:\tlearn: 1325.0682754\ttest: 1461.2423684\tbest: 1461.2423684 (192)\ttotal: 28.3s\tremaining: 1m 58s\n",
      "193:\tlearn: 1324.5313555\ttest: 1461.0787816\tbest: 1461.0787816 (193)\ttotal: 28.5s\tremaining: 1m 58s\n",
      "194:\tlearn: 1323.6219161\ttest: 1461.0280807\tbest: 1461.0280807 (194)\ttotal: 28.6s\tremaining: 1m 58s\n",
      "195:\tlearn: 1323.0836048\ttest: 1460.9511788\tbest: 1460.9511788 (195)\ttotal: 28.8s\tremaining: 1m 58s\n",
      "196:\tlearn: 1322.2182578\ttest: 1460.6914897\tbest: 1460.6914897 (196)\ttotal: 28.9s\tremaining: 1m 57s\n",
      "197:\tlearn: 1321.6774509\ttest: 1460.6524877\tbest: 1460.6524877 (197)\ttotal: 29.1s\tremaining: 1m 57s\n",
      "198:\tlearn: 1320.7737686\ttest: 1460.3929678\tbest: 1460.3929678 (198)\ttotal: 29.2s\tremaining: 1m 57s\n",
      "199:\tlearn: 1320.1634230\ttest: 1460.3286101\tbest: 1460.3286101 (199)\ttotal: 29.4s\tremaining: 1m 57s\n",
      "200:\tlearn: 1319.5277954\ttest: 1460.2159978\tbest: 1460.2159978 (200)\ttotal: 29.5s\tremaining: 1m 57s\n",
      "201:\tlearn: 1319.0145205\ttest: 1460.0434328\tbest: 1460.0434328 (201)\ttotal: 29.7s\tremaining: 1m 57s\n",
      "202:\tlearn: 1318.6300684\ttest: 1459.8523806\tbest: 1459.8523806 (202)\ttotal: 29.8s\tremaining: 1m 57s\n",
      "203:\tlearn: 1318.1232438\ttest: 1459.4875784\tbest: 1459.4875784 (203)\ttotal: 30s\tremaining: 1m 56s\n",
      "204:\tlearn: 1317.3058920\ttest: 1459.1425507\tbest: 1459.1425507 (204)\ttotal: 30.1s\tremaining: 1m 56s\n",
      "205:\tlearn: 1316.7868031\ttest: 1459.0735062\tbest: 1459.0735062 (205)\ttotal: 30.3s\tremaining: 1m 56s\n",
      "206:\tlearn: 1316.1989044\ttest: 1458.7848490\tbest: 1458.7848490 (206)\ttotal: 30.4s\tremaining: 1m 56s\n",
      "207:\tlearn: 1315.4469574\ttest: 1458.5794550\tbest: 1458.5794550 (207)\ttotal: 30.5s\tremaining: 1m 56s\n",
      "208:\tlearn: 1314.2285765\ttest: 1458.7710590\tbest: 1458.5794550 (207)\ttotal: 30.7s\tremaining: 1m 56s\n",
      "209:\tlearn: 1313.0454067\ttest: 1458.8925642\tbest: 1458.5794550 (207)\ttotal: 30.8s\tremaining: 1m 56s\n",
      "210:\tlearn: 1312.3901089\ttest: 1458.6759057\tbest: 1458.5794550 (207)\ttotal: 31s\tremaining: 1m 55s\n",
      "211:\tlearn: 1311.7411653\ttest: 1458.6870630\tbest: 1458.5794550 (207)\ttotal: 31.1s\tremaining: 1m 55s\n",
      "212:\tlearn: 1311.1261490\ttest: 1458.1431999\tbest: 1458.1431999 (212)\ttotal: 31.3s\tremaining: 1m 55s\n",
      "213:\tlearn: 1310.1511088\ttest: 1458.4080310\tbest: 1458.1431999 (212)\ttotal: 31.4s\tremaining: 1m 55s\n",
      "214:\tlearn: 1309.8897363\ttest: 1458.5180200\tbest: 1458.1431999 (212)\ttotal: 31.6s\tremaining: 1m 55s\n",
      "215:\tlearn: 1309.1116304\ttest: 1458.3187475\tbest: 1458.1431999 (212)\ttotal: 31.7s\tremaining: 1m 55s\n",
      "216:\tlearn: 1308.4613987\ttest: 1457.9841903\tbest: 1457.9841903 (216)\ttotal: 31.9s\tremaining: 1m 55s\n",
      "217:\tlearn: 1308.1396415\ttest: 1457.9484380\tbest: 1457.9484380 (217)\ttotal: 32s\tremaining: 1m 54s\n",
      "218:\tlearn: 1307.7190266\ttest: 1457.9081367\tbest: 1457.9081367 (218)\ttotal: 32.2s\tremaining: 1m 54s\n",
      "219:\tlearn: 1307.1407959\ttest: 1457.8070205\tbest: 1457.8070205 (219)\ttotal: 32.3s\tremaining: 1m 54s\n",
      "220:\tlearn: 1306.2034616\ttest: 1457.5621212\tbest: 1457.5621212 (220)\ttotal: 32.5s\tremaining: 1m 54s\n",
      "221:\tlearn: 1305.6319391\ttest: 1457.6013580\tbest: 1457.5621212 (220)\ttotal: 32.6s\tremaining: 1m 54s\n",
      "222:\tlearn: 1304.9561356\ttest: 1457.4900654\tbest: 1457.4900654 (222)\ttotal: 32.8s\tremaining: 1m 54s\n",
      "223:\tlearn: 1304.6783576\ttest: 1457.5493356\tbest: 1457.4900654 (222)\ttotal: 32.9s\tremaining: 1m 54s\n",
      "224:\tlearn: 1304.1220282\ttest: 1457.9150815\tbest: 1457.4900654 (222)\ttotal: 33.1s\tremaining: 1m 53s\n",
      "225:\tlearn: 1303.6487475\ttest: 1457.6217194\tbest: 1457.4900654 (222)\ttotal: 33.2s\tremaining: 1m 53s\n",
      "226:\tlearn: 1303.1565129\ttest: 1457.5381073\tbest: 1457.4900654 (222)\ttotal: 33.4s\tremaining: 1m 53s\n",
      "227:\tlearn: 1302.6019017\ttest: 1457.4883549\tbest: 1457.4883549 (227)\ttotal: 33.5s\tremaining: 1m 53s\n",
      "228:\tlearn: 1301.9639265\ttest: 1457.2529472\tbest: 1457.2529472 (228)\ttotal: 33.7s\tremaining: 1m 53s\n",
      "229:\tlearn: 1301.6189066\ttest: 1457.0783604\tbest: 1457.0783604 (229)\ttotal: 33.8s\tremaining: 1m 53s\n",
      "230:\tlearn: 1301.1415739\ttest: 1456.9086050\tbest: 1456.9086050 (230)\ttotal: 34s\tremaining: 1m 53s\n",
      "231:\tlearn: 1300.3782049\ttest: 1456.8818504\tbest: 1456.8818504 (231)\ttotal: 34.1s\tremaining: 1m 52s\n",
      "232:\tlearn: 1299.6752037\ttest: 1457.1285167\tbest: 1456.8818504 (231)\ttotal: 34.3s\tremaining: 1m 52s\n",
      "233:\tlearn: 1299.2251408\ttest: 1456.6181857\tbest: 1456.6181857 (233)\ttotal: 34.4s\tremaining: 1m 52s\n",
      "234:\tlearn: 1298.5578880\ttest: 1456.4930236\tbest: 1456.4930236 (234)\ttotal: 34.6s\tremaining: 1m 52s\n",
      "235:\tlearn: 1298.2825062\ttest: 1456.4497628\tbest: 1456.4497628 (235)\ttotal: 34.7s\tremaining: 1m 52s\n",
      "236:\tlearn: 1297.8677231\ttest: 1456.3963739\tbest: 1456.3963739 (236)\ttotal: 34.9s\tremaining: 1m 52s\n",
      "237:\tlearn: 1297.1078355\ttest: 1456.0316362\tbest: 1456.0316362 (237)\ttotal: 35s\tremaining: 1m 52s\n",
      "238:\tlearn: 1296.8171342\ttest: 1456.0233205\tbest: 1456.0233205 (238)\ttotal: 35.2s\tremaining: 1m 51s\n",
      "239:\tlearn: 1296.2305854\ttest: 1455.6887853\tbest: 1455.6887853 (239)\ttotal: 35.3s\tremaining: 1m 51s\n",
      "240:\tlearn: 1295.4099082\ttest: 1455.6090383\tbest: 1455.6090383 (240)\ttotal: 35.5s\tremaining: 1m 51s\n",
      "241:\tlearn: 1295.1142102\ttest: 1455.4760069\tbest: 1455.4760069 (241)\ttotal: 35.6s\tremaining: 1m 51s\n",
      "242:\tlearn: 1294.2549084\ttest: 1455.2322378\tbest: 1455.2322378 (242)\ttotal: 35.8s\tremaining: 1m 51s\n",
      "243:\tlearn: 1293.6371942\ttest: 1455.2827714\tbest: 1455.2322378 (242)\ttotal: 35.9s\tremaining: 1m 51s\n",
      "244:\tlearn: 1292.6378137\ttest: 1454.9726980\tbest: 1454.9726980 (244)\ttotal: 36.1s\tremaining: 1m 51s\n",
      "245:\tlearn: 1292.1856523\ttest: 1454.8281828\tbest: 1454.8281828 (245)\ttotal: 36.2s\tremaining: 1m 51s\n",
      "246:\tlearn: 1291.8385023\ttest: 1454.7059214\tbest: 1454.7059214 (246)\ttotal: 36.4s\tremaining: 1m 50s\n",
      "247:\tlearn: 1291.6206497\ttest: 1454.6817482\tbest: 1454.6817482 (247)\ttotal: 36.5s\tremaining: 1m 50s\n",
      "248:\tlearn: 1290.8051116\ttest: 1454.5801690\tbest: 1454.5801690 (248)\ttotal: 36.7s\tremaining: 1m 50s\n",
      "249:\tlearn: 1290.2215037\ttest: 1454.5117261\tbest: 1454.5117261 (249)\ttotal: 36.8s\tremaining: 1m 50s\n",
      "250:\tlearn: 1289.8164904\ttest: 1454.4145849\tbest: 1454.4145849 (250)\ttotal: 37s\tremaining: 1m 50s\n",
      "251:\tlearn: 1288.8200365\ttest: 1454.1415743\tbest: 1454.1415743 (251)\ttotal: 37.1s\tremaining: 1m 50s\n",
      "252:\tlearn: 1288.2875171\ttest: 1454.4039323\tbest: 1454.1415743 (251)\ttotal: 37.3s\tremaining: 1m 50s\n",
      "253:\tlearn: 1287.3977478\ttest: 1454.5004636\tbest: 1454.1415743 (251)\ttotal: 37.4s\tremaining: 1m 49s\n",
      "254:\tlearn: 1286.9945178\ttest: 1454.4746140\tbest: 1454.1415743 (251)\ttotal: 37.6s\tremaining: 1m 49s\n",
      "255:\tlearn: 1286.3846818\ttest: 1454.2895792\tbest: 1454.1415743 (251)\ttotal: 37.7s\tremaining: 1m 49s\n",
      "256:\tlearn: 1285.6366407\ttest: 1454.4658358\tbest: 1454.1415743 (251)\ttotal: 37.9s\tremaining: 1m 49s\n",
      "257:\tlearn: 1285.0127764\ttest: 1454.3299016\tbest: 1454.1415743 (251)\ttotal: 38s\tremaining: 1m 49s\n",
      "258:\tlearn: 1284.7658353\ttest: 1454.3518686\tbest: 1454.1415743 (251)\ttotal: 38.1s\tremaining: 1m 49s\n",
      "259:\tlearn: 1284.1323249\ttest: 1454.2469197\tbest: 1454.1415743 (251)\ttotal: 38.3s\tremaining: 1m 48s\n",
      "260:\tlearn: 1283.8478958\ttest: 1454.0123497\tbest: 1454.0123497 (260)\ttotal: 38.4s\tremaining: 1m 48s\n",
      "261:\tlearn: 1283.2182111\ttest: 1453.8063990\tbest: 1453.8063990 (261)\ttotal: 38.6s\tremaining: 1m 48s\n",
      "262:\tlearn: 1282.7061554\ttest: 1453.7811722\tbest: 1453.7811722 (262)\ttotal: 38.7s\tremaining: 1m 48s\n",
      "263:\tlearn: 1282.6011838\ttest: 1453.7741198\tbest: 1453.7741198 (263)\ttotal: 38.9s\tremaining: 1m 48s\n",
      "264:\tlearn: 1282.1899281\ttest: 1453.8574497\tbest: 1453.7741198 (263)\ttotal: 39s\tremaining: 1m 48s\n",
      "265:\tlearn: 1281.4887034\ttest: 1454.0303098\tbest: 1453.7741198 (263)\ttotal: 39.2s\tremaining: 1m 48s\n",
      "266:\tlearn: 1280.8602915\ttest: 1453.9072980\tbest: 1453.7741198 (263)\ttotal: 39.3s\tremaining: 1m 48s\n",
      "267:\tlearn: 1280.4131533\ttest: 1453.7608802\tbest: 1453.7608802 (267)\ttotal: 39.5s\tremaining: 1m 47s\n",
      "268:\tlearn: 1279.9067812\ttest: 1453.6236588\tbest: 1453.6236588 (268)\ttotal: 39.6s\tremaining: 1m 47s\n",
      "269:\tlearn: 1279.3487440\ttest: 1453.5502032\tbest: 1453.5502032 (269)\ttotal: 39.8s\tremaining: 1m 47s\n",
      "270:\tlearn: 1278.4763911\ttest: 1453.5422331\tbest: 1453.5422331 (270)\ttotal: 39.9s\tremaining: 1m 47s\n",
      "271:\tlearn: 1277.8966246\ttest: 1453.5025414\tbest: 1453.5025414 (271)\ttotal: 40.1s\tremaining: 1m 47s\n",
      "272:\tlearn: 1277.0008180\ttest: 1453.5346251\tbest: 1453.5025414 (271)\ttotal: 40.2s\tremaining: 1m 47s\n",
      "273:\tlearn: 1276.7154201\ttest: 1453.3269253\tbest: 1453.3269253 (273)\ttotal: 40.4s\tremaining: 1m 46s\n",
      "274:\tlearn: 1276.2188498\ttest: 1453.1807602\tbest: 1453.1807602 (274)\ttotal: 40.6s\tremaining: 1m 47s\n",
      "275:\tlearn: 1275.8434676\ttest: 1453.0622284\tbest: 1453.0622284 (275)\ttotal: 40.8s\tremaining: 1m 46s\n",
      "276:\tlearn: 1275.4505139\ttest: 1453.1401659\tbest: 1453.0622284 (275)\ttotal: 40.9s\tremaining: 1m 46s\n",
      "277:\tlearn: 1275.1316008\ttest: 1453.1162939\tbest: 1453.0622284 (275)\ttotal: 41s\tremaining: 1m 46s\n",
      "278:\tlearn: 1274.6003010\ttest: 1453.0584875\tbest: 1453.0584875 (278)\ttotal: 41.2s\tremaining: 1m 46s\n",
      "279:\tlearn: 1274.2043041\ttest: 1453.0952190\tbest: 1453.0584875 (278)\ttotal: 41.3s\tremaining: 1m 46s\n",
      "280:\tlearn: 1273.8282775\ttest: 1452.7040704\tbest: 1452.7040704 (280)\ttotal: 41.5s\tremaining: 1m 46s\n",
      "281:\tlearn: 1273.3978813\ttest: 1452.5332470\tbest: 1452.5332470 (281)\ttotal: 41.6s\tremaining: 1m 46s\n",
      "282:\tlearn: 1273.1821793\ttest: 1452.4761942\tbest: 1452.4761942 (282)\ttotal: 41.8s\tremaining: 1m 45s\n",
      "283:\tlearn: 1272.8200727\ttest: 1452.4574127\tbest: 1452.4574127 (283)\ttotal: 41.9s\tremaining: 1m 45s\n",
      "284:\tlearn: 1272.3454217\ttest: 1452.1986168\tbest: 1452.1986168 (284)\ttotal: 42.1s\tremaining: 1m 45s\n",
      "285:\tlearn: 1272.0996518\ttest: 1452.1961542\tbest: 1452.1961542 (285)\ttotal: 42.2s\tremaining: 1m 45s\n",
      "286:\tlearn: 1271.4467704\ttest: 1452.5487236\tbest: 1452.1961542 (285)\ttotal: 42.4s\tremaining: 1m 45s\n",
      "287:\tlearn: 1271.1187357\ttest: 1452.4837466\tbest: 1452.1961542 (285)\ttotal: 42.5s\tremaining: 1m 45s\n",
      "288:\tlearn: 1270.5152066\ttest: 1452.2955059\tbest: 1452.1961542 (285)\ttotal: 42.7s\tremaining: 1m 44s\n",
      "289:\tlearn: 1270.4611979\ttest: 1452.2013310\tbest: 1452.1961542 (285)\ttotal: 42.8s\tremaining: 1m 44s\n",
      "290:\tlearn: 1269.9501325\ttest: 1452.1995760\tbest: 1452.1961542 (285)\ttotal: 43s\tremaining: 1m 44s\n",
      "291:\tlearn: 1269.6966435\ttest: 1452.1485775\tbest: 1452.1485775 (291)\ttotal: 43.1s\tremaining: 1m 44s\n",
      "292:\tlearn: 1269.6907175\ttest: 1452.1367750\tbest: 1452.1367750 (292)\ttotal: 43.2s\tremaining: 1m 44s\n",
      "293:\tlearn: 1269.2283633\ttest: 1452.0864001\tbest: 1452.0864001 (293)\ttotal: 43.4s\tremaining: 1m 44s\n",
      "294:\tlearn: 1268.5260577\ttest: 1451.7527462\tbest: 1451.7527462 (294)\ttotal: 43.5s\tremaining: 1m 44s\n",
      "295:\tlearn: 1268.0787417\ttest: 1451.8262807\tbest: 1451.7527462 (294)\ttotal: 43.7s\tremaining: 1m 43s\n",
      "296:\tlearn: 1267.4377935\ttest: 1451.6386643\tbest: 1451.6386643 (296)\ttotal: 43.8s\tremaining: 1m 43s\n",
      "297:\tlearn: 1267.0945781\ttest: 1451.4427033\tbest: 1451.4427033 (297)\ttotal: 44s\tremaining: 1m 43s\n",
      "298:\tlearn: 1266.3191415\ttest: 1451.2377967\tbest: 1451.2377967 (298)\ttotal: 44.1s\tremaining: 1m 43s\n",
      "299:\tlearn: 1265.8592166\ttest: 1451.2450176\tbest: 1451.2377967 (298)\ttotal: 44.3s\tremaining: 1m 43s\n",
      "300:\tlearn: 1265.3661952\ttest: 1451.1742183\tbest: 1451.1742183 (300)\ttotal: 44.4s\tremaining: 1m 43s\n",
      "301:\tlearn: 1264.9145683\ttest: 1451.3299859\tbest: 1451.1742183 (300)\ttotal: 44.6s\tremaining: 1m 43s\n",
      "302:\tlearn: 1264.4480432\ttest: 1451.2533829\tbest: 1451.1742183 (300)\ttotal: 44.7s\tremaining: 1m 42s\n",
      "303:\tlearn: 1264.0778077\ttest: 1451.1200754\tbest: 1451.1200754 (303)\ttotal: 44.9s\tremaining: 1m 42s\n",
      "304:\tlearn: 1263.6823245\ttest: 1451.0815858\tbest: 1451.0815858 (304)\ttotal: 45s\tremaining: 1m 42s\n",
      "305:\tlearn: 1263.4019282\ttest: 1450.8900027\tbest: 1450.8900027 (305)\ttotal: 45.2s\tremaining: 1m 42s\n",
      "306:\tlearn: 1263.1779767\ttest: 1450.9012065\tbest: 1450.8900027 (305)\ttotal: 45.3s\tremaining: 1m 42s\n",
      "307:\tlearn: 1262.8646249\ttest: 1450.9908737\tbest: 1450.8900027 (305)\ttotal: 45.5s\tremaining: 1m 42s\n",
      "308:\tlearn: 1262.2068262\ttest: 1451.0649599\tbest: 1450.8900027 (305)\ttotal: 45.6s\tremaining: 1m 41s\n",
      "309:\tlearn: 1261.3521353\ttest: 1450.9095151\tbest: 1450.8900027 (305)\ttotal: 45.7s\tremaining: 1m 41s\n",
      "310:\tlearn: 1260.8357999\ttest: 1450.9191878\tbest: 1450.8900027 (305)\ttotal: 45.9s\tremaining: 1m 41s\n",
      "311:\tlearn: 1260.5164060\ttest: 1450.9594619\tbest: 1450.8900027 (305)\ttotal: 46s\tremaining: 1m 41s\n",
      "312:\tlearn: 1259.9820225\ttest: 1450.9367417\tbest: 1450.8900027 (305)\ttotal: 46.2s\tremaining: 1m 41s\n",
      "313:\tlearn: 1259.7461682\ttest: 1450.9685965\tbest: 1450.8900027 (305)\ttotal: 46.3s\tremaining: 1m 41s\n",
      "314:\tlearn: 1259.6088015\ttest: 1451.0020611\tbest: 1450.8900027 (305)\ttotal: 46.5s\tremaining: 1m 41s\n",
      "315:\tlearn: 1259.1245224\ttest: 1450.8150933\tbest: 1450.8150933 (315)\ttotal: 46.6s\tremaining: 1m 40s\n",
      "316:\tlearn: 1258.7235721\ttest: 1450.3751339\tbest: 1450.3751339 (316)\ttotal: 46.8s\tremaining: 1m 40s\n",
      "317:\tlearn: 1258.1645284\ttest: 1450.3385791\tbest: 1450.3385791 (317)\ttotal: 46.9s\tremaining: 1m 40s\n",
      "318:\tlearn: 1257.7840617\ttest: 1450.0475547\tbest: 1450.0475547 (318)\ttotal: 47.1s\tremaining: 1m 40s\n",
      "319:\tlearn: 1257.2995606\ttest: 1449.9448083\tbest: 1449.9448083 (319)\ttotal: 47.2s\tremaining: 1m 40s\n",
      "320:\tlearn: 1256.9016853\ttest: 1450.0980373\tbest: 1449.9448083 (319)\ttotal: 47.4s\tremaining: 1m 40s\n",
      "321:\tlearn: 1256.4849363\ttest: 1449.9627890\tbest: 1449.9448083 (319)\ttotal: 47.5s\tremaining: 1m 40s\n",
      "322:\tlearn: 1256.0790015\ttest: 1450.0641952\tbest: 1449.9448083 (319)\ttotal: 47.7s\tremaining: 1m 39s\n",
      "323:\tlearn: 1256.0028359\ttest: 1450.0868414\tbest: 1449.9448083 (319)\ttotal: 47.8s\tremaining: 1m 39s\n",
      "324:\tlearn: 1255.8238120\ttest: 1450.1515831\tbest: 1449.9448083 (319)\ttotal: 48s\tremaining: 1m 39s\n",
      "325:\tlearn: 1255.4332582\ttest: 1450.2998991\tbest: 1449.9448083 (319)\ttotal: 48.1s\tremaining: 1m 39s\n",
      "326:\tlearn: 1254.7707230\ttest: 1449.9035956\tbest: 1449.9035956 (326)\ttotal: 48.3s\tremaining: 1m 39s\n",
      "327:\tlearn: 1254.1505695\ttest: 1449.5640415\tbest: 1449.5640415 (327)\ttotal: 48.4s\tremaining: 1m 39s\n",
      "328:\tlearn: 1253.6415593\ttest: 1449.3913720\tbest: 1449.3913720 (328)\ttotal: 48.5s\tremaining: 1m 39s\n",
      "329:\tlearn: 1253.1121430\ttest: 1449.3975366\tbest: 1449.3913720 (328)\ttotal: 48.7s\tremaining: 1m 38s\n",
      "330:\tlearn: 1252.5314210\ttest: 1449.2031075\tbest: 1449.2031075 (330)\ttotal: 48.8s\tremaining: 1m 38s\n",
      "331:\tlearn: 1251.9800647\ttest: 1449.0330112\tbest: 1449.0330112 (331)\ttotal: 49s\tremaining: 1m 38s\n",
      "332:\tlearn: 1251.5845309\ttest: 1448.7899167\tbest: 1448.7899167 (332)\ttotal: 49.1s\tremaining: 1m 38s\n",
      "333:\tlearn: 1251.3356799\ttest: 1448.8136247\tbest: 1448.7899167 (332)\ttotal: 49.3s\tremaining: 1m 38s\n",
      "334:\tlearn: 1251.1446367\ttest: 1448.7834324\tbest: 1448.7834324 (334)\ttotal: 49.4s\tremaining: 1m 38s\n",
      "335:\tlearn: 1251.0332280\ttest: 1448.7302725\tbest: 1448.7302725 (335)\ttotal: 49.6s\tremaining: 1m 37s\n",
      "336:\tlearn: 1250.6447510\ttest: 1448.7258291\tbest: 1448.7258291 (336)\ttotal: 49.7s\tremaining: 1m 37s\n",
      "337:\tlearn: 1250.2184531\ttest: 1448.6971059\tbest: 1448.6971059 (337)\ttotal: 49.9s\tremaining: 1m 37s\n",
      "338:\tlearn: 1249.8125984\ttest: 1448.6617716\tbest: 1448.6617716 (338)\ttotal: 50s\tremaining: 1m 37s\n",
      "339:\tlearn: 1249.3313151\ttest: 1448.8114204\tbest: 1448.6617716 (338)\ttotal: 50.2s\tremaining: 1m 37s\n",
      "340:\tlearn: 1248.8743331\ttest: 1448.5951827\tbest: 1448.5951827 (340)\ttotal: 50.3s\tremaining: 1m 37s\n",
      "341:\tlearn: 1248.4702084\ttest: 1448.5875264\tbest: 1448.5875264 (341)\ttotal: 50.5s\tremaining: 1m 37s\n",
      "342:\tlearn: 1248.1560250\ttest: 1448.5814777\tbest: 1448.5814777 (342)\ttotal: 50.6s\tremaining: 1m 36s\n",
      "343:\tlearn: 1247.6747344\ttest: 1448.6215846\tbest: 1448.5814777 (342)\ttotal: 50.7s\tremaining: 1m 36s\n",
      "344:\tlearn: 1247.2571876\ttest: 1448.4117984\tbest: 1448.4117984 (344)\ttotal: 50.9s\tremaining: 1m 36s\n",
      "345:\tlearn: 1246.9903166\ttest: 1448.4310711\tbest: 1448.4117984 (344)\ttotal: 51s\tremaining: 1m 36s\n",
      "346:\tlearn: 1246.9389491\ttest: 1448.4144411\tbest: 1448.4117984 (344)\ttotal: 51.2s\tremaining: 1m 36s\n",
      "347:\tlearn: 1246.6796018\ttest: 1448.4719080\tbest: 1448.4117984 (344)\ttotal: 51.4s\tremaining: 1m 36s\n",
      "348:\tlearn: 1245.9668212\ttest: 1448.5023803\tbest: 1448.4117984 (344)\ttotal: 51.6s\tremaining: 1m 36s\n",
      "349:\tlearn: 1245.6408352\ttest: 1448.4633808\tbest: 1448.4117984 (344)\ttotal: 51.7s\tremaining: 1m 36s\n",
      "350:\tlearn: 1244.9310727\ttest: 1448.3899307\tbest: 1448.3899307 (350)\ttotal: 51.9s\tremaining: 1m 35s\n",
      "351:\tlearn: 1244.5641261\ttest: 1448.3289127\tbest: 1448.3289127 (351)\ttotal: 52s\tremaining: 1m 35s\n",
      "352:\tlearn: 1244.0967171\ttest: 1448.2751447\tbest: 1448.2751447 (352)\ttotal: 52.2s\tremaining: 1m 35s\n",
      "353:\tlearn: 1243.6604728\ttest: 1448.2389566\tbest: 1448.2389566 (353)\ttotal: 52.3s\tremaining: 1m 35s\n",
      "354:\tlearn: 1243.0030863\ttest: 1448.5166511\tbest: 1448.2389566 (353)\ttotal: 52.4s\tremaining: 1m 35s\n",
      "355:\tlearn: 1242.5695960\ttest: 1448.3774757\tbest: 1448.2389566 (353)\ttotal: 52.6s\tremaining: 1m 35s\n",
      "356:\tlearn: 1242.4348004\ttest: 1448.3816804\tbest: 1448.2389566 (353)\ttotal: 52.7s\tremaining: 1m 34s\n",
      "357:\tlearn: 1241.7863632\ttest: 1448.2487361\tbest: 1448.2389566 (353)\ttotal: 52.9s\tremaining: 1m 34s\n",
      "358:\tlearn: 1241.4533370\ttest: 1448.2744888\tbest: 1448.2389566 (353)\ttotal: 53s\tremaining: 1m 34s\n",
      "359:\tlearn: 1241.3760168\ttest: 1448.2620504\tbest: 1448.2389566 (353)\ttotal: 53.2s\tremaining: 1m 34s\n",
      "360:\tlearn: 1240.6620430\ttest: 1448.5058753\tbest: 1448.2389566 (353)\ttotal: 53.4s\tremaining: 1m 34s\n",
      "361:\tlearn: 1240.2629389\ttest: 1448.6623425\tbest: 1448.2389566 (353)\ttotal: 53.5s\tremaining: 1m 34s\n",
      "362:\tlearn: 1239.8129211\ttest: 1448.5990996\tbest: 1448.2389566 (353)\ttotal: 53.6s\tremaining: 1m 34s\n",
      "363:\tlearn: 1239.7906721\ttest: 1448.5932454\tbest: 1448.2389566 (353)\ttotal: 53.8s\tremaining: 1m 33s\n",
      "364:\tlearn: 1239.6322528\ttest: 1448.6313221\tbest: 1448.2389566 (353)\ttotal: 53.9s\tremaining: 1m 33s\n",
      "365:\tlearn: 1239.3522565\ttest: 1448.5480479\tbest: 1448.2389566 (353)\ttotal: 54.1s\tremaining: 1m 33s\n",
      "366:\tlearn: 1238.9435663\ttest: 1448.4257052\tbest: 1448.2389566 (353)\ttotal: 54.3s\tremaining: 1m 33s\n",
      "367:\tlearn: 1238.7233077\ttest: 1448.3834730\tbest: 1448.2389566 (353)\ttotal: 54.4s\tremaining: 1m 33s\n",
      "368:\tlearn: 1238.4887529\ttest: 1448.3722772\tbest: 1448.2389566 (353)\ttotal: 54.6s\tremaining: 1m 33s\n",
      "369:\tlearn: 1238.0488913\ttest: 1448.3246716\tbest: 1448.2389566 (353)\ttotal: 54.8s\tremaining: 1m 33s\n",
      "370:\tlearn: 1237.6799055\ttest: 1448.1629770\tbest: 1448.1629770 (370)\ttotal: 55s\tremaining: 1m 33s\n",
      "371:\tlearn: 1237.3687978\ttest: 1448.1483140\tbest: 1448.1483140 (371)\ttotal: 55.2s\tremaining: 1m 33s\n",
      "372:\tlearn: 1237.0758857\ttest: 1448.1203731\tbest: 1448.1203731 (372)\ttotal: 55.4s\tremaining: 1m 33s\n",
      "373:\tlearn: 1236.6658179\ttest: 1448.2051874\tbest: 1448.1203731 (372)\ttotal: 55.5s\tremaining: 1m 32s\n",
      "374:\tlearn: 1236.5281633\ttest: 1448.2564183\tbest: 1448.1203731 (372)\ttotal: 55.7s\tremaining: 1m 32s\n",
      "375:\tlearn: 1236.1935125\ttest: 1448.4806040\tbest: 1448.1203731 (372)\ttotal: 55.9s\tremaining: 1m 32s\n",
      "376:\tlearn: 1235.6878928\ttest: 1448.3758841\tbest: 1448.1203731 (372)\ttotal: 56.1s\tremaining: 1m 32s\n",
      "377:\tlearn: 1235.3531054\ttest: 1448.5720390\tbest: 1448.1203731 (372)\ttotal: 56.2s\tremaining: 1m 32s\n",
      "378:\tlearn: 1234.7456299\ttest: 1448.0515333\tbest: 1448.0515333 (378)\ttotal: 56.4s\tremaining: 1m 32s\n",
      "379:\tlearn: 1234.2989133\ttest: 1447.9041125\tbest: 1447.9041125 (379)\ttotal: 56.5s\tremaining: 1m 32s\n",
      "380:\tlearn: 1233.9262440\ttest: 1447.8740254\tbest: 1447.8740254 (380)\ttotal: 56.7s\tremaining: 1m 32s\n",
      "381:\tlearn: 1233.5305425\ttest: 1448.0187708\tbest: 1447.8740254 (380)\ttotal: 56.8s\tremaining: 1m 31s\n",
      "382:\tlearn: 1233.0493316\ttest: 1447.8716666\tbest: 1447.8716666 (382)\ttotal: 56.9s\tremaining: 1m 31s\n",
      "383:\tlearn: 1232.6443784\ttest: 1447.8088372\tbest: 1447.8088372 (383)\ttotal: 57.1s\tremaining: 1m 31s\n",
      "384:\tlearn: 1232.3651413\ttest: 1447.7352087\tbest: 1447.7352087 (384)\ttotal: 57.2s\tremaining: 1m 31s\n",
      "385:\tlearn: 1231.9191017\ttest: 1447.5895295\tbest: 1447.5895295 (385)\ttotal: 57.4s\tremaining: 1m 31s\n",
      "386:\tlearn: 1231.6138515\ttest: 1447.6256055\tbest: 1447.5895295 (385)\ttotal: 57.5s\tremaining: 1m 31s\n",
      "387:\tlearn: 1231.3986167\ttest: 1447.6826862\tbest: 1447.5895295 (385)\ttotal: 57.7s\tremaining: 1m 30s\n",
      "388:\tlearn: 1231.2492029\ttest: 1447.8271539\tbest: 1447.5895295 (385)\ttotal: 57.8s\tremaining: 1m 30s\n",
      "389:\tlearn: 1230.5581372\ttest: 1447.5969358\tbest: 1447.5895295 (385)\ttotal: 58s\tremaining: 1m 30s\n",
      "390:\tlearn: 1230.3886998\ttest: 1447.6339491\tbest: 1447.5895295 (385)\ttotal: 58.1s\tremaining: 1m 30s\n",
      "391:\tlearn: 1230.3087071\ttest: 1447.6145702\tbest: 1447.5895295 (385)\ttotal: 58.2s\tremaining: 1m 30s\n",
      "392:\tlearn: 1230.0155670\ttest: 1447.5505543\tbest: 1447.5505543 (392)\ttotal: 58.4s\tremaining: 1m 30s\n",
      "393:\tlearn: 1229.6040725\ttest: 1447.7177368\tbest: 1447.5505543 (392)\ttotal: 58.5s\tremaining: 1m 30s\n",
      "394:\tlearn: 1229.1417884\ttest: 1447.5669130\tbest: 1447.5505543 (392)\ttotal: 58.7s\tremaining: 1m 29s\n",
      "395:\tlearn: 1228.9481237\ttest: 1447.5215996\tbest: 1447.5215996 (395)\ttotal: 58.8s\tremaining: 1m 29s\n",
      "396:\tlearn: 1228.7311461\ttest: 1447.4396209\tbest: 1447.4396209 (396)\ttotal: 59s\tremaining: 1m 29s\n",
      "397:\tlearn: 1228.5156827\ttest: 1447.5170012\tbest: 1447.4396209 (396)\ttotal: 59.1s\tremaining: 1m 29s\n",
      "398:\tlearn: 1228.3244674\ttest: 1447.4350505\tbest: 1447.4350505 (398)\ttotal: 59.3s\tremaining: 1m 29s\n",
      "399:\tlearn: 1227.9603559\ttest: 1447.4346646\tbest: 1447.4346646 (399)\ttotal: 59.4s\tremaining: 1m 29s\n",
      "400:\tlearn: 1227.7161480\ttest: 1447.4011524\tbest: 1447.4011524 (400)\ttotal: 59.6s\tremaining: 1m 28s\n",
      "401:\tlearn: 1227.5934486\ttest: 1447.2848985\tbest: 1447.2848985 (401)\ttotal: 59.7s\tremaining: 1m 28s\n",
      "402:\tlearn: 1227.1037662\ttest: 1447.1863411\tbest: 1447.1863411 (402)\ttotal: 59.9s\tremaining: 1m 28s\n",
      "403:\tlearn: 1226.7283013\ttest: 1447.1616142\tbest: 1447.1616142 (403)\ttotal: 60s\tremaining: 1m 28s\n",
      "404:\tlearn: 1226.2698704\ttest: 1447.0203902\tbest: 1447.0203902 (404)\ttotal: 1m\tremaining: 1m 28s\n",
      "405:\tlearn: 1225.7479218\ttest: 1446.9404335\tbest: 1446.9404335 (405)\ttotal: 1m\tremaining: 1m 28s\n",
      "406:\tlearn: 1225.3318002\ttest: 1446.7283330\tbest: 1446.7283330 (406)\ttotal: 1m\tremaining: 1m 28s\n",
      "407:\tlearn: 1225.0239637\ttest: 1446.6290493\tbest: 1446.6290493 (407)\ttotal: 1m\tremaining: 1m 27s\n",
      "408:\tlearn: 1224.7505328\ttest: 1446.5159971\tbest: 1446.5159971 (408)\ttotal: 1m\tremaining: 1m 27s\n",
      "409:\tlearn: 1224.3935224\ttest: 1446.4439668\tbest: 1446.4439668 (409)\ttotal: 1m\tremaining: 1m 27s\n",
      "410:\tlearn: 1223.8201600\ttest: 1446.3681861\tbest: 1446.3681861 (410)\ttotal: 1m 1s\tremaining: 1m 27s\n",
      "411:\tlearn: 1223.4582359\ttest: 1446.4566684\tbest: 1446.3681861 (410)\ttotal: 1m 1s\tremaining: 1m 27s\n",
      "412:\tlearn: 1223.0616023\ttest: 1446.4586980\tbest: 1446.3681861 (410)\ttotal: 1m 1s\tremaining: 1m 27s\n",
      "413:\tlearn: 1222.5673844\ttest: 1446.3377325\tbest: 1446.3377325 (413)\ttotal: 1m 1s\tremaining: 1m 27s\n",
      "414:\tlearn: 1222.3133116\ttest: 1446.4762982\tbest: 1446.3377325 (413)\ttotal: 1m 1s\tremaining: 1m 27s\n",
      "415:\tlearn: 1221.9176659\ttest: 1446.5726249\tbest: 1446.3377325 (413)\ttotal: 1m 1s\tremaining: 1m 26s\n",
      "416:\tlearn: 1221.5648654\ttest: 1446.7492322\tbest: 1446.3377325 (413)\ttotal: 1m 2s\tremaining: 1m 26s\n",
      "417:\tlearn: 1221.2563044\ttest: 1446.6969239\tbest: 1446.3377325 (413)\ttotal: 1m 2s\tremaining: 1m 26s\n",
      "418:\tlearn: 1221.0853123\ttest: 1446.6913192\tbest: 1446.3377325 (413)\ttotal: 1m 2s\tremaining: 1m 26s\n",
      "419:\tlearn: 1220.9657903\ttest: 1446.6888240\tbest: 1446.3377325 (413)\ttotal: 1m 2s\tremaining: 1m 26s\n",
      "420:\tlearn: 1220.5771341\ttest: 1446.6836902\tbest: 1446.3377325 (413)\ttotal: 1m 2s\tremaining: 1m 26s\n",
      "421:\tlearn: 1220.0775558\ttest: 1446.6831068\tbest: 1446.3377325 (413)\ttotal: 1m 2s\tremaining: 1m 25s\n",
      "422:\tlearn: 1220.0197761\ttest: 1446.7134073\tbest: 1446.3377325 (413)\ttotal: 1m 2s\tremaining: 1m 25s\n",
      "423:\tlearn: 1219.7107359\ttest: 1446.6759331\tbest: 1446.3377325 (413)\ttotal: 1m 3s\tremaining: 1m 25s\n",
      "424:\tlearn: 1219.3004486\ttest: 1446.5433460\tbest: 1446.3377325 (413)\ttotal: 1m 3s\tremaining: 1m 25s\n",
      "425:\tlearn: 1218.8463802\ttest: 1446.6384588\tbest: 1446.3377325 (413)\ttotal: 1m 3s\tremaining: 1m 25s\n",
      "426:\tlearn: 1218.6045383\ttest: 1446.6377916\tbest: 1446.3377325 (413)\ttotal: 1m 3s\tremaining: 1m 25s\n",
      "427:\tlearn: 1218.0788601\ttest: 1446.7663260\tbest: 1446.3377325 (413)\ttotal: 1m 3s\tremaining: 1m 25s\n",
      "428:\tlearn: 1217.6089664\ttest: 1446.7192444\tbest: 1446.3377325 (413)\ttotal: 1m 3s\tremaining: 1m 24s\n",
      "429:\tlearn: 1216.8227662\ttest: 1446.5664765\tbest: 1446.3377325 (413)\ttotal: 1m 3s\tremaining: 1m 24s\n",
      "430:\tlearn: 1216.3209517\ttest: 1446.5372286\tbest: 1446.3377325 (413)\ttotal: 1m 4s\tremaining: 1m 24s\n",
      "431:\tlearn: 1216.0881081\ttest: 1446.5511883\tbest: 1446.3377325 (413)\ttotal: 1m 4s\tremaining: 1m 24s\n",
      "432:\tlearn: 1215.7690374\ttest: 1446.4666750\tbest: 1446.3377325 (413)\ttotal: 1m 4s\tremaining: 1m 24s\n",
      "433:\tlearn: 1215.5318194\ttest: 1446.5248701\tbest: 1446.3377325 (413)\ttotal: 1m 4s\tremaining: 1m 24s\n",
      "434:\tlearn: 1215.2112711\ttest: 1446.5042153\tbest: 1446.3377325 (413)\ttotal: 1m 4s\tremaining: 1m 23s\n",
      "435:\tlearn: 1214.8242615\ttest: 1446.5442394\tbest: 1446.3377325 (413)\ttotal: 1m 4s\tremaining: 1m 23s\n",
      "436:\tlearn: 1214.3285800\ttest: 1446.7259689\tbest: 1446.3377325 (413)\ttotal: 1m 4s\tremaining: 1m 23s\n",
      "437:\tlearn: 1213.7493957\ttest: 1446.8627767\tbest: 1446.3377325 (413)\ttotal: 1m 5s\tremaining: 1m 23s\n",
      "438:\tlearn: 1213.6817223\ttest: 1446.8902965\tbest: 1446.3377325 (413)\ttotal: 1m 5s\tremaining: 1m 23s\n",
      "439:\tlearn: 1213.0436538\ttest: 1446.8098568\tbest: 1446.3377325 (413)\ttotal: 1m 5s\tremaining: 1m 23s\n",
      "440:\tlearn: 1212.2691015\ttest: 1447.0082150\tbest: 1446.3377325 (413)\ttotal: 1m 5s\tremaining: 1m 23s\n",
      "441:\tlearn: 1211.8791235\ttest: 1446.9628643\tbest: 1446.3377325 (413)\ttotal: 1m 5s\tremaining: 1m 22s\n",
      "442:\tlearn: 1211.0601634\ttest: 1446.8795634\tbest: 1446.3377325 (413)\ttotal: 1m 5s\tremaining: 1m 22s\n",
      "443:\tlearn: 1210.6973154\ttest: 1446.8276285\tbest: 1446.3377325 (413)\ttotal: 1m 5s\tremaining: 1m 22s\n",
      "444:\tlearn: 1210.2974431\ttest: 1446.7835477\tbest: 1446.3377325 (413)\ttotal: 1m 6s\tremaining: 1m 22s\n",
      "445:\tlearn: 1209.9637416\ttest: 1446.6938659\tbest: 1446.3377325 (413)\ttotal: 1m 6s\tremaining: 1m 22s\n",
      "446:\tlearn: 1209.8411093\ttest: 1446.6612838\tbest: 1446.3377325 (413)\ttotal: 1m 6s\tremaining: 1m 22s\n",
      "447:\tlearn: 1209.4595166\ttest: 1446.5341885\tbest: 1446.3377325 (413)\ttotal: 1m 6s\tremaining: 1m 22s\n",
      "448:\tlearn: 1209.0923405\ttest: 1446.5518517\tbest: 1446.3377325 (413)\ttotal: 1m 6s\tremaining: 1m 21s\n",
      "449:\tlearn: 1208.9323349\ttest: 1446.6218234\tbest: 1446.3377325 (413)\ttotal: 1m 6s\tremaining: 1m 21s\n",
      "450:\tlearn: 1208.3368716\ttest: 1446.6064889\tbest: 1446.3377325 (413)\ttotal: 1m 7s\tremaining: 1m 21s\n",
      "451:\tlearn: 1207.8915146\ttest: 1446.5183401\tbest: 1446.3377325 (413)\ttotal: 1m 7s\tremaining: 1m 21s\n",
      "452:\tlearn: 1207.6807346\ttest: 1446.4920535\tbest: 1446.3377325 (413)\ttotal: 1m 7s\tremaining: 1m 21s\n",
      "453:\tlearn: 1207.4242892\ttest: 1446.4170152\tbest: 1446.3377325 (413)\ttotal: 1m 7s\tremaining: 1m 21s\n",
      "454:\tlearn: 1206.9712389\ttest: 1446.5042527\tbest: 1446.3377325 (413)\ttotal: 1m 7s\tremaining: 1m 20s\n",
      "455:\tlearn: 1206.5128291\ttest: 1446.4661756\tbest: 1446.3377325 (413)\ttotal: 1m 7s\tremaining: 1m 20s\n",
      "456:\tlearn: 1206.1880437\ttest: 1446.3109494\tbest: 1446.3109494 (456)\ttotal: 1m 7s\tremaining: 1m 20s\n",
      "457:\tlearn: 1205.8335139\ttest: 1446.2720284\tbest: 1446.2720284 (457)\ttotal: 1m 8s\tremaining: 1m 20s\n",
      "458:\tlearn: 1205.6693411\ttest: 1446.1444110\tbest: 1446.1444110 (458)\ttotal: 1m 8s\tremaining: 1m 20s\n",
      "459:\tlearn: 1205.3637807\ttest: 1446.1151883\tbest: 1446.1151883 (459)\ttotal: 1m 8s\tremaining: 1m 20s\n",
      "460:\tlearn: 1205.0960694\ttest: 1445.9446821\tbest: 1445.9446821 (460)\ttotal: 1m 8s\tremaining: 1m 20s\n",
      "461:\tlearn: 1204.7646242\ttest: 1445.9216000\tbest: 1445.9216000 (461)\ttotal: 1m 8s\tremaining: 1m 19s\n",
      "462:\tlearn: 1204.4347525\ttest: 1445.9135817\tbest: 1445.9135817 (462)\ttotal: 1m 8s\tremaining: 1m 19s\n",
      "463:\tlearn: 1204.0670678\ttest: 1445.8337952\tbest: 1445.8337952 (463)\ttotal: 1m 8s\tremaining: 1m 19s\n",
      "464:\tlearn: 1203.7137333\ttest: 1445.8769042\tbest: 1445.8337952 (463)\ttotal: 1m 9s\tremaining: 1m 19s\n",
      "465:\tlearn: 1203.3960580\ttest: 1445.8789815\tbest: 1445.8337952 (463)\ttotal: 1m 9s\tremaining: 1m 19s\n",
      "466:\tlearn: 1203.1184640\ttest: 1445.7331452\tbest: 1445.7331452 (466)\ttotal: 1m 9s\tremaining: 1m 19s\n",
      "467:\tlearn: 1202.7381448\ttest: 1445.5669621\tbest: 1445.5669621 (467)\ttotal: 1m 9s\tremaining: 1m 18s\n",
      "468:\tlearn: 1202.5432965\ttest: 1445.5800490\tbest: 1445.5669621 (467)\ttotal: 1m 9s\tremaining: 1m 18s\n",
      "469:\tlearn: 1201.9658287\ttest: 1445.6543918\tbest: 1445.5669621 (467)\ttotal: 1m 9s\tremaining: 1m 18s\n",
      "470:\tlearn: 1201.7642233\ttest: 1445.6255085\tbest: 1445.5669621 (467)\ttotal: 1m 9s\tremaining: 1m 18s\n",
      "471:\tlearn: 1201.3157783\ttest: 1445.2741867\tbest: 1445.2741867 (471)\ttotal: 1m 10s\tremaining: 1m 18s\n",
      "472:\tlearn: 1201.2260325\ttest: 1445.3131304\tbest: 1445.2741867 (471)\ttotal: 1m 10s\tremaining: 1m 18s\n",
      "473:\tlearn: 1200.5928989\ttest: 1445.4422171\tbest: 1445.2741867 (471)\ttotal: 1m 10s\tremaining: 1m 18s\n",
      "474:\tlearn: 1200.2510330\ttest: 1445.4125142\tbest: 1445.2741867 (471)\ttotal: 1m 10s\tremaining: 1m 17s\n",
      "475:\tlearn: 1199.8502579\ttest: 1445.5893418\tbest: 1445.2741867 (471)\ttotal: 1m 10s\tremaining: 1m 17s\n",
      "476:\tlearn: 1199.4200510\ttest: 1445.6629667\tbest: 1445.2741867 (471)\ttotal: 1m 10s\tremaining: 1m 17s\n",
      "477:\tlearn: 1199.0561050\ttest: 1445.6950534\tbest: 1445.2741867 (471)\ttotal: 1m 10s\tremaining: 1m 17s\n",
      "478:\tlearn: 1198.7956015\ttest: 1445.6628523\tbest: 1445.2741867 (471)\ttotal: 1m 11s\tremaining: 1m 17s\n",
      "479:\tlearn: 1198.6127710\ttest: 1445.6313518\tbest: 1445.2741867 (471)\ttotal: 1m 11s\tremaining: 1m 17s\n",
      "480:\tlearn: 1198.4378772\ttest: 1445.6903647\tbest: 1445.2741867 (471)\ttotal: 1m 11s\tremaining: 1m 17s\n",
      "481:\tlearn: 1198.2781432\ttest: 1445.6980950\tbest: 1445.2741867 (471)\ttotal: 1m 11s\tremaining: 1m 16s\n",
      "482:\tlearn: 1198.1122538\ttest: 1445.6378959\tbest: 1445.2741867 (471)\ttotal: 1m 11s\tremaining: 1m 16s\n",
      "483:\tlearn: 1197.7753676\ttest: 1445.6795740\tbest: 1445.2741867 (471)\ttotal: 1m 11s\tremaining: 1m 16s\n",
      "484:\tlearn: 1197.3042543\ttest: 1445.5334394\tbest: 1445.2741867 (471)\ttotal: 1m 11s\tremaining: 1m 16s\n",
      "485:\tlearn: 1196.6266310\ttest: 1445.5637672\tbest: 1445.2741867 (471)\ttotal: 1m 12s\tremaining: 1m 16s\n",
      "486:\tlearn: 1196.5583269\ttest: 1445.6278451\tbest: 1445.2741867 (471)\ttotal: 1m 12s\tremaining: 1m 16s\n",
      "487:\tlearn: 1195.9725261\ttest: 1445.5715124\tbest: 1445.2741867 (471)\ttotal: 1m 12s\tremaining: 1m 15s\n",
      "488:\tlearn: 1195.6694518\ttest: 1445.6244532\tbest: 1445.2741867 (471)\ttotal: 1m 12s\tremaining: 1m 15s\n",
      "489:\tlearn: 1195.1687702\ttest: 1445.6453766\tbest: 1445.2741867 (471)\ttotal: 1m 12s\tremaining: 1m 15s\n",
      "490:\tlearn: 1194.8826944\ttest: 1445.6173452\tbest: 1445.2741867 (471)\ttotal: 1m 12s\tremaining: 1m 15s\n",
      "491:\tlearn: 1194.6124911\ttest: 1445.7049359\tbest: 1445.2741867 (471)\ttotal: 1m 13s\tremaining: 1m 15s\n",
      "492:\tlearn: 1194.3077193\ttest: 1445.6496761\tbest: 1445.2741867 (471)\ttotal: 1m 13s\tremaining: 1m 15s\n",
      "493:\tlearn: 1193.9484699\ttest: 1445.6314395\tbest: 1445.2741867 (471)\ttotal: 1m 13s\tremaining: 1m 15s\n",
      "494:\tlearn: 1193.5895544\ttest: 1445.5757998\tbest: 1445.2741867 (471)\ttotal: 1m 13s\tremaining: 1m 14s\n",
      "495:\tlearn: 1193.5030571\ttest: 1445.6116764\tbest: 1445.2741867 (471)\ttotal: 1m 13s\tremaining: 1m 14s\n",
      "496:\tlearn: 1193.1509177\ttest: 1445.4535721\tbest: 1445.2741867 (471)\ttotal: 1m 13s\tremaining: 1m 14s\n",
      "497:\tlearn: 1193.0256106\ttest: 1445.4401870\tbest: 1445.2741867 (471)\ttotal: 1m 13s\tremaining: 1m 14s\n",
      "498:\tlearn: 1192.4463578\ttest: 1445.3592153\tbest: 1445.2741867 (471)\ttotal: 1m 14s\tremaining: 1m 14s\n",
      "499:\tlearn: 1191.9278983\ttest: 1445.3341004\tbest: 1445.2741867 (471)\ttotal: 1m 14s\tremaining: 1m 14s\n",
      "500:\tlearn: 1191.4514920\ttest: 1445.2834155\tbest: 1445.2741867 (471)\ttotal: 1m 14s\tremaining: 1m 14s\n",
      "501:\tlearn: 1191.2093199\ttest: 1445.2120840\tbest: 1445.2120840 (501)\ttotal: 1m 14s\tremaining: 1m 13s\n",
      "502:\tlearn: 1191.0258391\ttest: 1445.1948277\tbest: 1445.1948277 (502)\ttotal: 1m 14s\tremaining: 1m 13s\n",
      "503:\tlearn: 1190.7975907\ttest: 1445.1857853\tbest: 1445.1857853 (503)\ttotal: 1m 14s\tremaining: 1m 13s\n",
      "504:\tlearn: 1190.3142177\ttest: 1445.0309669\tbest: 1445.0309669 (504)\ttotal: 1m 14s\tremaining: 1m 13s\n",
      "505:\tlearn: 1190.1573551\ttest: 1445.0830977\tbest: 1445.0309669 (504)\ttotal: 1m 15s\tremaining: 1m 13s\n",
      "506:\tlearn: 1189.4562105\ttest: 1445.1743383\tbest: 1445.0309669 (504)\ttotal: 1m 15s\tremaining: 1m 13s\n",
      "507:\tlearn: 1189.3180517\ttest: 1445.2206758\tbest: 1445.0309669 (504)\ttotal: 1m 15s\tremaining: 1m 12s\n",
      "508:\tlearn: 1189.3068522\ttest: 1445.2147470\tbest: 1445.0309669 (504)\ttotal: 1m 15s\tremaining: 1m 12s\n",
      "509:\tlearn: 1188.7086029\ttest: 1445.3010186\tbest: 1445.0309669 (504)\ttotal: 1m 15s\tremaining: 1m 12s\n",
      "510:\tlearn: 1188.5287679\ttest: 1445.0438490\tbest: 1445.0309669 (504)\ttotal: 1m 15s\tremaining: 1m 12s\n",
      "511:\tlearn: 1188.3852525\ttest: 1445.0055299\tbest: 1445.0055299 (511)\ttotal: 1m 15s\tremaining: 1m 12s\n",
      "512:\tlearn: 1188.3790184\ttest: 1445.0063755\tbest: 1445.0055299 (511)\ttotal: 1m 16s\tremaining: 1m 12s\n",
      "513:\tlearn: 1188.1337348\ttest: 1445.0273709\tbest: 1445.0055299 (511)\ttotal: 1m 16s\tremaining: 1m 12s\n",
      "514:\tlearn: 1187.8326434\ttest: 1445.0333425\tbest: 1445.0055299 (511)\ttotal: 1m 16s\tremaining: 1m 11s\n",
      "515:\tlearn: 1187.8310425\ttest: 1445.0339081\tbest: 1445.0055299 (511)\ttotal: 1m 16s\tremaining: 1m 11s\n",
      "516:\tlearn: 1187.6231476\ttest: 1444.9020632\tbest: 1444.9020632 (516)\ttotal: 1m 16s\tremaining: 1m 11s\n",
      "517:\tlearn: 1187.5288068\ttest: 1444.9366225\tbest: 1444.9020632 (516)\ttotal: 1m 16s\tremaining: 1m 11s\n",
      "518:\tlearn: 1187.2767894\ttest: 1444.9876479\tbest: 1444.9020632 (516)\ttotal: 1m 16s\tremaining: 1m 11s\n",
      "519:\tlearn: 1186.9637988\ttest: 1445.0235029\tbest: 1444.9020632 (516)\ttotal: 1m 17s\tremaining: 1m 11s\n",
      "520:\tlearn: 1186.6872915\ttest: 1445.1812892\tbest: 1444.9020632 (516)\ttotal: 1m 17s\tremaining: 1m 10s\n",
      "521:\tlearn: 1186.2605842\ttest: 1445.2990343\tbest: 1444.9020632 (516)\ttotal: 1m 17s\tremaining: 1m 10s\n",
      "522:\tlearn: 1185.8861436\ttest: 1445.8281514\tbest: 1444.9020632 (516)\ttotal: 1m 17s\tremaining: 1m 10s\n",
      "523:\tlearn: 1185.5761853\ttest: 1445.6995581\tbest: 1444.9020632 (516)\ttotal: 1m 17s\tremaining: 1m 10s\n",
      "524:\tlearn: 1185.5545862\ttest: 1445.7065990\tbest: 1444.9020632 (516)\ttotal: 1m 17s\tremaining: 1m 10s\n",
      "525:\tlearn: 1185.1583400\ttest: 1445.8113172\tbest: 1444.9020632 (516)\ttotal: 1m 17s\tremaining: 1m 10s\n",
      "526:\tlearn: 1184.9841455\ttest: 1445.8069112\tbest: 1444.9020632 (516)\ttotal: 1m 18s\tremaining: 1m 10s\n",
      "527:\tlearn: 1184.7400821\ttest: 1445.8568912\tbest: 1444.9020632 (516)\ttotal: 1m 18s\tremaining: 1m 9s\n",
      "528:\tlearn: 1184.5110392\ttest: 1445.8174802\tbest: 1444.9020632 (516)\ttotal: 1m 18s\tremaining: 1m 9s\n",
      "529:\tlearn: 1184.1974992\ttest: 1445.8682326\tbest: 1444.9020632 (516)\ttotal: 1m 18s\tremaining: 1m 9s\n",
      "530:\tlearn: 1183.4064722\ttest: 1445.8305078\tbest: 1444.9020632 (516)\ttotal: 1m 18s\tremaining: 1m 9s\n",
      "531:\tlearn: 1183.1230218\ttest: 1445.8590703\tbest: 1444.9020632 (516)\ttotal: 1m 18s\tremaining: 1m 9s\n",
      "532:\tlearn: 1182.8115425\ttest: 1445.9123069\tbest: 1444.9020632 (516)\ttotal: 1m 18s\tremaining: 1m 9s\n",
      "533:\tlearn: 1182.7180424\ttest: 1445.8573367\tbest: 1444.9020632 (516)\ttotal: 1m 19s\tremaining: 1m 9s\n",
      "534:\tlearn: 1182.5315118\ttest: 1445.8691774\tbest: 1444.9020632 (516)\ttotal: 1m 19s\tremaining: 1m 8s\n",
      "535:\tlearn: 1182.1983264\ttest: 1445.8182699\tbest: 1444.9020632 (516)\ttotal: 1m 19s\tremaining: 1m 8s\n",
      "536:\tlearn: 1182.0452099\ttest: 1445.7480881\tbest: 1444.9020632 (516)\ttotal: 1m 19s\tremaining: 1m 8s\n",
      "537:\tlearn: 1181.8375116\ttest: 1445.6061777\tbest: 1444.9020632 (516)\ttotal: 1m 19s\tremaining: 1m 8s\n",
      "538:\tlearn: 1181.3567468\ttest: 1445.7001945\tbest: 1444.9020632 (516)\ttotal: 1m 19s\tremaining: 1m 8s\n",
      "539:\tlearn: 1180.9141118\ttest: 1445.6428977\tbest: 1444.9020632 (516)\ttotal: 1m 20s\tremaining: 1m 8s\n",
      "540:\tlearn: 1180.7242675\ttest: 1445.4985946\tbest: 1444.9020632 (516)\ttotal: 1m 20s\tremaining: 1m 8s\n",
      "541:\tlearn: 1180.2786241\ttest: 1445.4604973\tbest: 1444.9020632 (516)\ttotal: 1m 20s\tremaining: 1m 7s\n",
      "542:\tlearn: 1179.6801630\ttest: 1445.6170179\tbest: 1444.9020632 (516)\ttotal: 1m 20s\tremaining: 1m 7s\n",
      "543:\tlearn: 1179.4304405\ttest: 1445.7479801\tbest: 1444.9020632 (516)\ttotal: 1m 20s\tremaining: 1m 7s\n",
      "544:\tlearn: 1179.2296262\ttest: 1445.6829322\tbest: 1444.9020632 (516)\ttotal: 1m 20s\tremaining: 1m 7s\n",
      "545:\tlearn: 1179.1606507\ttest: 1445.6957497\tbest: 1444.9020632 (516)\ttotal: 1m 20s\tremaining: 1m 7s\n",
      "546:\tlearn: 1178.5534446\ttest: 1445.5252718\tbest: 1444.9020632 (516)\ttotal: 1m 21s\tremaining: 1m 7s\n",
      "547:\tlearn: 1178.2401026\ttest: 1445.4492567\tbest: 1444.9020632 (516)\ttotal: 1m 21s\tremaining: 1m 6s\n",
      "548:\tlearn: 1177.9769246\ttest: 1445.4507931\tbest: 1444.9020632 (516)\ttotal: 1m 21s\tremaining: 1m 6s\n",
      "549:\tlearn: 1177.7989627\ttest: 1445.3978120\tbest: 1444.9020632 (516)\ttotal: 1m 21s\tremaining: 1m 6s\n",
      "550:\tlearn: 1177.6381795\ttest: 1445.3671079\tbest: 1444.9020632 (516)\ttotal: 1m 21s\tremaining: 1m 6s\n",
      "551:\tlearn: 1177.3739845\ttest: 1445.3973790\tbest: 1444.9020632 (516)\ttotal: 1m 21s\tremaining: 1m 6s\n",
      "552:\tlearn: 1177.0306177\ttest: 1445.3208442\tbest: 1444.9020632 (516)\ttotal: 1m 21s\tremaining: 1m 6s\n",
      "553:\tlearn: 1176.5559513\ttest: 1445.4501080\tbest: 1444.9020632 (516)\ttotal: 1m 22s\tremaining: 1m 6s\n",
      "554:\tlearn: 1176.3333076\ttest: 1445.2922398\tbest: 1444.9020632 (516)\ttotal: 1m 22s\tremaining: 1m 5s\n",
      "555:\tlearn: 1176.0977038\ttest: 1445.2399316\tbest: 1444.9020632 (516)\ttotal: 1m 22s\tremaining: 1m 5s\n",
      "556:\tlearn: 1175.6671318\ttest: 1445.3651408\tbest: 1444.9020632 (516)\ttotal: 1m 22s\tremaining: 1m 5s\n",
      "557:\tlearn: 1175.3979477\ttest: 1445.4350438\tbest: 1444.9020632 (516)\ttotal: 1m 22s\tremaining: 1m 5s\n",
      "558:\tlearn: 1174.8360702\ttest: 1445.6334310\tbest: 1444.9020632 (516)\ttotal: 1m 22s\tremaining: 1m 5s\n",
      "559:\tlearn: 1174.5700882\ttest: 1445.6620608\tbest: 1444.9020632 (516)\ttotal: 1m 22s\tremaining: 1m 5s\n",
      "560:\tlearn: 1174.1988713\ttest: 1445.6883637\tbest: 1444.9020632 (516)\ttotal: 1m 23s\tremaining: 1m 5s\n",
      "561:\tlearn: 1173.7597400\ttest: 1445.7636882\tbest: 1444.9020632 (516)\ttotal: 1m 23s\tremaining: 1m 4s\n",
      "562:\tlearn: 1173.6931310\ttest: 1445.7372089\tbest: 1444.9020632 (516)\ttotal: 1m 23s\tremaining: 1m 4s\n",
      "563:\tlearn: 1173.0852834\ttest: 1445.7421888\tbest: 1444.9020632 (516)\ttotal: 1m 23s\tremaining: 1m 4s\n",
      "564:\tlearn: 1172.8779786\ttest: 1445.6862936\tbest: 1444.9020632 (516)\ttotal: 1m 23s\tremaining: 1m 4s\n",
      "565:\tlearn: 1172.5051918\ttest: 1445.7673865\tbest: 1444.9020632 (516)\ttotal: 1m 23s\tremaining: 1m 4s\n",
      "566:\tlearn: 1172.3291869\ttest: 1445.7610993\tbest: 1444.9020632 (516)\ttotal: 1m 24s\tremaining: 1m 4s\n",
      "567:\tlearn: 1171.9775457\ttest: 1445.6227127\tbest: 1444.9020632 (516)\ttotal: 1m 24s\tremaining: 1m 4s\n",
      "568:\tlearn: 1171.6765758\ttest: 1445.5813317\tbest: 1444.9020632 (516)\ttotal: 1m 24s\tremaining: 1m 3s\n",
      "569:\tlearn: 1171.1517179\ttest: 1445.4970321\tbest: 1444.9020632 (516)\ttotal: 1m 24s\tremaining: 1m 3s\n",
      "570:\tlearn: 1170.8531631\ttest: 1445.3943247\tbest: 1444.9020632 (516)\ttotal: 1m 24s\tremaining: 1m 3s\n",
      "571:\tlearn: 1170.5399840\ttest: 1445.3484288\tbest: 1444.9020632 (516)\ttotal: 1m 24s\tremaining: 1m 3s\n",
      "572:\tlearn: 1170.1455050\ttest: 1445.4632542\tbest: 1444.9020632 (516)\ttotal: 1m 24s\tremaining: 1m 3s\n",
      "573:\tlearn: 1169.8938834\ttest: 1445.4516268\tbest: 1444.9020632 (516)\ttotal: 1m 25s\tremaining: 1m 3s\n",
      "574:\tlearn: 1169.4162224\ttest: 1445.3746998\tbest: 1444.9020632 (516)\ttotal: 1m 25s\tremaining: 1m 2s\n",
      "575:\tlearn: 1169.2261146\ttest: 1445.3637283\tbest: 1444.9020632 (516)\ttotal: 1m 25s\tremaining: 1m 2s\n",
      "576:\tlearn: 1168.7912003\ttest: 1445.2593950\tbest: 1444.9020632 (516)\ttotal: 1m 25s\tremaining: 1m 2s\n",
      "577:\tlearn: 1168.4304395\ttest: 1445.2733532\tbest: 1444.9020632 (516)\ttotal: 1m 25s\tremaining: 1m 2s\n",
      "578:\tlearn: 1168.1034913\ttest: 1445.4058498\tbest: 1444.9020632 (516)\ttotal: 1m 25s\tremaining: 1m 2s\n",
      "579:\tlearn: 1167.6637781\ttest: 1445.3515778\tbest: 1444.9020632 (516)\ttotal: 1m 25s\tremaining: 1m 2s\n",
      "580:\tlearn: 1167.3377297\ttest: 1445.4202071\tbest: 1444.9020632 (516)\ttotal: 1m 26s\tremaining: 1m 2s\n",
      "581:\tlearn: 1167.2828994\ttest: 1445.4039804\tbest: 1444.9020632 (516)\ttotal: 1m 26s\tremaining: 1m 1s\n",
      "582:\tlearn: 1167.1101284\ttest: 1445.3638557\tbest: 1444.9020632 (516)\ttotal: 1m 26s\tremaining: 1m 1s\n",
      "583:\tlearn: 1166.9360866\ttest: 1445.3407203\tbest: 1444.9020632 (516)\ttotal: 1m 26s\tremaining: 1m 1s\n",
      "584:\tlearn: 1166.4218652\ttest: 1445.4015559\tbest: 1444.9020632 (516)\ttotal: 1m 26s\tremaining: 1m 1s\n",
      "585:\tlearn: 1165.9162719\ttest: 1445.5366115\tbest: 1444.9020632 (516)\ttotal: 1m 26s\tremaining: 1m 1s\n",
      "586:\tlearn: 1165.6313555\ttest: 1445.4906841\tbest: 1444.9020632 (516)\ttotal: 1m 27s\tremaining: 1m 1s\n",
      "587:\tlearn: 1165.1794589\ttest: 1445.6509683\tbest: 1444.9020632 (516)\ttotal: 1m 27s\tremaining: 1m 1s\n",
      "588:\tlearn: 1164.9290213\ttest: 1445.6614156\tbest: 1444.9020632 (516)\ttotal: 1m 27s\tremaining: 1m\n",
      "589:\tlearn: 1164.7131424\ttest: 1445.6167679\tbest: 1444.9020632 (516)\ttotal: 1m 27s\tremaining: 1m\n",
      "590:\tlearn: 1164.3746784\ttest: 1445.4259978\tbest: 1444.9020632 (516)\ttotal: 1m 27s\tremaining: 1m\n",
      "591:\tlearn: 1164.1320785\ttest: 1445.3038273\tbest: 1444.9020632 (516)\ttotal: 1m 27s\tremaining: 1m\n",
      "592:\tlearn: 1163.9437436\ttest: 1445.3450132\tbest: 1444.9020632 (516)\ttotal: 1m 27s\tremaining: 1m\n",
      "593:\tlearn: 1163.5186981\ttest: 1445.4197290\tbest: 1444.9020632 (516)\ttotal: 1m 28s\tremaining: 1m\n",
      "594:\tlearn: 1163.2947645\ttest: 1445.3973562\tbest: 1444.9020632 (516)\ttotal: 1m 28s\tremaining: 1m\n",
      "595:\tlearn: 1162.9000019\ttest: 1445.4717680\tbest: 1444.9020632 (516)\ttotal: 1m 28s\tremaining: 59.9s\n",
      "596:\tlearn: 1162.5073653\ttest: 1445.5241622\tbest: 1444.9020632 (516)\ttotal: 1m 28s\tremaining: 59.7s\n",
      "597:\tlearn: 1162.3112901\ttest: 1445.5734470\tbest: 1444.9020632 (516)\ttotal: 1m 28s\tremaining: 59.6s\n",
      "598:\tlearn: 1162.0946181\ttest: 1445.5989847\tbest: 1444.9020632 (516)\ttotal: 1m 28s\tremaining: 59.4s\n",
      "599:\tlearn: 1161.7270372\ttest: 1445.7113410\tbest: 1444.9020632 (516)\ttotal: 1m 28s\tremaining: 59.3s\n",
      "600:\tlearn: 1161.4951078\ttest: 1445.7099359\tbest: 1444.9020632 (516)\ttotal: 1m 29s\tremaining: 59.1s\n",
      "601:\tlearn: 1161.1538249\ttest: 1445.7260447\tbest: 1444.9020632 (516)\ttotal: 1m 29s\tremaining: 59s\n",
      "602:\tlearn: 1160.7550701\ttest: 1445.7332483\tbest: 1444.9020632 (516)\ttotal: 1m 29s\tremaining: 58.8s\n",
      "603:\tlearn: 1160.6680153\ttest: 1445.7616060\tbest: 1444.9020632 (516)\ttotal: 1m 29s\tremaining: 58.7s\n",
      "604:\tlearn: 1160.3409634\ttest: 1445.8058420\tbest: 1444.9020632 (516)\ttotal: 1m 29s\tremaining: 58.5s\n",
      "605:\tlearn: 1159.9065767\ttest: 1445.6796348\tbest: 1444.9020632 (516)\ttotal: 1m 29s\tremaining: 58.4s\n",
      "606:\tlearn: 1159.7208657\ttest: 1445.7698317\tbest: 1444.9020632 (516)\ttotal: 1m 29s\tremaining: 58.2s\n",
      "607:\tlearn: 1159.4949332\ttest: 1445.7706066\tbest: 1444.9020632 (516)\ttotal: 1m 30s\tremaining: 58.1s\n",
      "608:\tlearn: 1159.1018874\ttest: 1445.7890844\tbest: 1444.9020632 (516)\ttotal: 1m 30s\tremaining: 57.9s\n",
      "609:\tlearn: 1158.9105314\ttest: 1445.8616890\tbest: 1444.9020632 (516)\ttotal: 1m 30s\tremaining: 57.8s\n",
      "610:\tlearn: 1158.6184676\ttest: 1445.7591165\tbest: 1444.9020632 (516)\ttotal: 1m 30s\tremaining: 57.6s\n",
      "611:\tlearn: 1158.3923929\ttest: 1445.8359622\tbest: 1444.9020632 (516)\ttotal: 1m 30s\tremaining: 57.5s\n",
      "612:\tlearn: 1158.0348539\ttest: 1445.8721208\tbest: 1444.9020632 (516)\ttotal: 1m 30s\tremaining: 57.3s\n",
      "613:\tlearn: 1157.8477316\ttest: 1445.8074585\tbest: 1444.9020632 (516)\ttotal: 1m 30s\tremaining: 57.2s\n",
      "614:\tlearn: 1157.1754694\ttest: 1445.4835770\tbest: 1444.9020632 (516)\ttotal: 1m 31s\tremaining: 57s\n",
      "615:\tlearn: 1156.8572025\ttest: 1445.5487205\tbest: 1444.9020632 (516)\ttotal: 1m 31s\tremaining: 56.9s\n",
      "616:\tlearn: 1156.6029579\ttest: 1445.4042116\tbest: 1444.9020632 (516)\ttotal: 1m 31s\tremaining: 56.7s\n",
      "617:\tlearn: 1156.4483760\ttest: 1445.4480061\tbest: 1444.9020632 (516)\ttotal: 1m 31s\tremaining: 56.6s\n",
      "618:\tlearn: 1156.3569260\ttest: 1445.4397038\tbest: 1444.9020632 (516)\ttotal: 1m 31s\tremaining: 56.4s\n",
      "619:\tlearn: 1156.0733659\ttest: 1445.5442282\tbest: 1444.9020632 (516)\ttotal: 1m 31s\tremaining: 56.3s\n",
      "620:\tlearn: 1155.8488818\ttest: 1445.4426293\tbest: 1444.9020632 (516)\ttotal: 1m 32s\tremaining: 56.2s\n",
      "621:\tlearn: 1155.5435727\ttest: 1445.3863191\tbest: 1444.9020632 (516)\ttotal: 1m 32s\tremaining: 56s\n",
      "622:\tlearn: 1155.3632374\ttest: 1445.4176256\tbest: 1444.9020632 (516)\ttotal: 1m 32s\tremaining: 55.9s\n",
      "623:\tlearn: 1154.8888841\ttest: 1445.7569103\tbest: 1444.9020632 (516)\ttotal: 1m 32s\tremaining: 55.7s\n",
      "624:\tlearn: 1154.5814964\ttest: 1445.7099242\tbest: 1444.9020632 (516)\ttotal: 1m 32s\tremaining: 55.6s\n",
      "625:\tlearn: 1154.3097019\ttest: 1445.6810334\tbest: 1444.9020632 (516)\ttotal: 1m 32s\tremaining: 55.4s\n",
      "626:\tlearn: 1154.1159223\ttest: 1445.7172746\tbest: 1444.9020632 (516)\ttotal: 1m 32s\tremaining: 55.3s\n",
      "627:\tlearn: 1153.7909017\ttest: 1445.6972982\tbest: 1444.9020632 (516)\ttotal: 1m 33s\tremaining: 55.1s\n",
      "628:\tlearn: 1153.5363719\ttest: 1445.5573471\tbest: 1444.9020632 (516)\ttotal: 1m 33s\tremaining: 55s\n",
      "629:\tlearn: 1153.3539252\ttest: 1445.5425961\tbest: 1444.9020632 (516)\ttotal: 1m 33s\tremaining: 54.8s\n",
      "630:\tlearn: 1153.1553921\ttest: 1445.4545517\tbest: 1444.9020632 (516)\ttotal: 1m 33s\tremaining: 54.7s\n",
      "631:\tlearn: 1152.9465594\ttest: 1445.5022957\tbest: 1444.9020632 (516)\ttotal: 1m 33s\tremaining: 54.5s\n",
      "632:\tlearn: 1152.6958305\ttest: 1445.5297790\tbest: 1444.9020632 (516)\ttotal: 1m 33s\tremaining: 54.4s\n",
      "633:\tlearn: 1152.5807383\ttest: 1445.4616119\tbest: 1444.9020632 (516)\ttotal: 1m 33s\tremaining: 54.2s\n",
      "634:\tlearn: 1152.2615279\ttest: 1445.4136667\tbest: 1444.9020632 (516)\ttotal: 1m 34s\tremaining: 54.1s\n",
      "635:\tlearn: 1151.9817924\ttest: 1445.2528646\tbest: 1444.9020632 (516)\ttotal: 1m 34s\tremaining: 53.9s\n",
      "636:\tlearn: 1151.7422175\ttest: 1445.2697622\tbest: 1444.9020632 (516)\ttotal: 1m 34s\tremaining: 53.8s\n",
      "637:\tlearn: 1151.4789556\ttest: 1445.2794507\tbest: 1444.9020632 (516)\ttotal: 1m 34s\tremaining: 53.6s\n",
      "638:\tlearn: 1151.0704087\ttest: 1445.1838136\tbest: 1444.9020632 (516)\ttotal: 1m 34s\tremaining: 53.5s\n",
      "639:\tlearn: 1150.8817278\ttest: 1445.2003938\tbest: 1444.9020632 (516)\ttotal: 1m 34s\tremaining: 53.3s\n",
      "640:\tlearn: 1150.6108808\ttest: 1445.2306699\tbest: 1444.9020632 (516)\ttotal: 1m 34s\tremaining: 53.2s\n",
      "641:\tlearn: 1150.2564465\ttest: 1445.2647065\tbest: 1444.9020632 (516)\ttotal: 1m 35s\tremaining: 53s\n",
      "642:\tlearn: 1150.2061754\ttest: 1445.3080496\tbest: 1444.9020632 (516)\ttotal: 1m 35s\tremaining: 52.9s\n",
      "643:\tlearn: 1149.9095712\ttest: 1445.2613039\tbest: 1444.9020632 (516)\ttotal: 1m 35s\tremaining: 52.7s\n",
      "644:\tlearn: 1149.5748186\ttest: 1445.2381342\tbest: 1444.9020632 (516)\ttotal: 1m 35s\tremaining: 52.6s\n",
      "645:\tlearn: 1149.3230243\ttest: 1445.3356109\tbest: 1444.9020632 (516)\ttotal: 1m 35s\tremaining: 52.5s\n",
      "646:\tlearn: 1149.2625288\ttest: 1445.3318388\tbest: 1444.9020632 (516)\ttotal: 1m 35s\tremaining: 52.3s\n",
      "647:\tlearn: 1148.9560362\ttest: 1445.2550937\tbest: 1444.9020632 (516)\ttotal: 1m 36s\tremaining: 52.2s\n",
      "648:\tlearn: 1148.8751270\ttest: 1445.2644341\tbest: 1444.9020632 (516)\ttotal: 1m 36s\tremaining: 52s\n",
      "649:\tlearn: 1148.7542912\ttest: 1445.2438799\tbest: 1444.9020632 (516)\ttotal: 1m 36s\tremaining: 51.9s\n",
      "650:\tlearn: 1148.6017329\ttest: 1445.3150274\tbest: 1444.9020632 (516)\ttotal: 1m 36s\tremaining: 51.7s\n",
      "651:\tlearn: 1148.4073519\ttest: 1445.3946524\tbest: 1444.9020632 (516)\ttotal: 1m 36s\tremaining: 51.6s\n",
      "652:\tlearn: 1148.3596485\ttest: 1445.4310605\tbest: 1444.9020632 (516)\ttotal: 1m 36s\tremaining: 51.4s\n",
      "653:\tlearn: 1148.0968901\ttest: 1445.4787192\tbest: 1444.9020632 (516)\ttotal: 1m 36s\tremaining: 51.3s\n",
      "654:\tlearn: 1147.9393269\ttest: 1445.5407200\tbest: 1444.9020632 (516)\ttotal: 1m 37s\tremaining: 51.1s\n",
      "655:\tlearn: 1147.6757533\ttest: 1445.4412226\tbest: 1444.9020632 (516)\ttotal: 1m 37s\tremaining: 51s\n",
      "656:\tlearn: 1147.4214763\ttest: 1445.4498922\tbest: 1444.9020632 (516)\ttotal: 1m 37s\tremaining: 50.8s\n",
      "657:\tlearn: 1147.3568508\ttest: 1445.4388629\tbest: 1444.9020632 (516)\ttotal: 1m 37s\tremaining: 50.7s\n",
      "658:\tlearn: 1147.2235359\ttest: 1445.3928482\tbest: 1444.9020632 (516)\ttotal: 1m 37s\tremaining: 50.5s\n",
      "659:\tlearn: 1147.0496154\ttest: 1445.3752986\tbest: 1444.9020632 (516)\ttotal: 1m 37s\tremaining: 50.4s\n",
      "660:\tlearn: 1146.8380946\ttest: 1445.3998011\tbest: 1444.9020632 (516)\ttotal: 1m 37s\tremaining: 50.2s\n",
      "661:\tlearn: 1146.4298667\ttest: 1445.4029907\tbest: 1444.9020632 (516)\ttotal: 1m 38s\tremaining: 50.1s\n",
      "662:\tlearn: 1146.1953234\ttest: 1445.2656045\tbest: 1444.9020632 (516)\ttotal: 1m 38s\tremaining: 49.9s\n",
      "663:\tlearn: 1146.1240694\ttest: 1445.2660260\tbest: 1444.9020632 (516)\ttotal: 1m 38s\tremaining: 49.8s\n",
      "664:\tlearn: 1145.9497036\ttest: 1445.2430741\tbest: 1444.9020632 (516)\ttotal: 1m 38s\tremaining: 49.6s\n",
      "665:\tlearn: 1145.8726471\ttest: 1445.2065906\tbest: 1444.9020632 (516)\ttotal: 1m 38s\tremaining: 49.5s\n",
      "666:\tlearn: 1145.7000353\ttest: 1445.1736370\tbest: 1444.9020632 (516)\ttotal: 1m 38s\tremaining: 49.3s\n",
      "667:\tlearn: 1145.6860532\ttest: 1445.1797970\tbest: 1444.9020632 (516)\ttotal: 1m 38s\tremaining: 49.2s\n",
      "668:\tlearn: 1145.5271373\ttest: 1445.2217612\tbest: 1444.9020632 (516)\ttotal: 1m 39s\tremaining: 49s\n",
      "669:\tlearn: 1145.3657034\ttest: 1445.1624592\tbest: 1444.9020632 (516)\ttotal: 1m 39s\tremaining: 48.9s\n",
      "670:\tlearn: 1144.9724978\ttest: 1445.0865414\tbest: 1444.9020632 (516)\ttotal: 1m 39s\tremaining: 48.7s\n",
      "671:\tlearn: 1144.8031207\ttest: 1445.0855479\tbest: 1444.9020632 (516)\ttotal: 1m 39s\tremaining: 48.6s\n",
      "672:\tlearn: 1144.3584334\ttest: 1445.1232267\tbest: 1444.9020632 (516)\ttotal: 1m 39s\tremaining: 48.4s\n",
      "673:\tlearn: 1144.1687457\ttest: 1445.0939107\tbest: 1444.9020632 (516)\ttotal: 1m 39s\tremaining: 48.3s\n",
      "674:\tlearn: 1143.7603286\ttest: 1445.0805647\tbest: 1444.9020632 (516)\ttotal: 1m 40s\tremaining: 48.1s\n",
      "675:\tlearn: 1143.6295396\ttest: 1445.0913167\tbest: 1444.9020632 (516)\ttotal: 1m 40s\tremaining: 48s\n",
      "676:\tlearn: 1143.4172028\ttest: 1445.0304298\tbest: 1444.9020632 (516)\ttotal: 1m 40s\tremaining: 47.9s\n",
      "677:\tlearn: 1143.2544700\ttest: 1444.9626108\tbest: 1444.9020632 (516)\ttotal: 1m 40s\tremaining: 47.7s\n",
      "678:\tlearn: 1142.9898683\ttest: 1444.7623387\tbest: 1444.7623387 (678)\ttotal: 1m 40s\tremaining: 47.6s\n",
      "679:\tlearn: 1142.8136603\ttest: 1444.6840714\tbest: 1444.6840714 (679)\ttotal: 1m 40s\tremaining: 47.4s\n",
      "680:\tlearn: 1142.7748296\ttest: 1444.6875834\tbest: 1444.6840714 (679)\ttotal: 1m 40s\tremaining: 47.3s\n",
      "681:\tlearn: 1142.2777331\ttest: 1444.6733523\tbest: 1444.6733523 (681)\ttotal: 1m 41s\tremaining: 47.1s\n",
      "682:\tlearn: 1142.0129489\ttest: 1444.5739624\tbest: 1444.5739624 (682)\ttotal: 1m 41s\tremaining: 47s\n",
      "683:\tlearn: 1141.6981085\ttest: 1444.5311575\tbest: 1444.5311575 (683)\ttotal: 1m 41s\tremaining: 46.8s\n",
      "684:\tlearn: 1141.3626161\ttest: 1444.4287252\tbest: 1444.4287252 (684)\ttotal: 1m 41s\tremaining: 46.7s\n",
      "685:\tlearn: 1140.9984927\ttest: 1444.3606465\tbest: 1444.3606465 (685)\ttotal: 1m 41s\tremaining: 46.5s\n",
      "686:\tlearn: 1140.7848243\ttest: 1444.2811097\tbest: 1444.2811097 (686)\ttotal: 1m 41s\tremaining: 46.4s\n",
      "687:\tlearn: 1140.6842710\ttest: 1444.2635252\tbest: 1444.2635252 (687)\ttotal: 1m 41s\tremaining: 46.2s\n",
      "688:\tlearn: 1140.3568130\ttest: 1444.2755282\tbest: 1444.2635252 (687)\ttotal: 1m 42s\tremaining: 46.1s\n",
      "689:\tlearn: 1140.0648588\ttest: 1444.2521996\tbest: 1444.2521996 (689)\ttotal: 1m 42s\tremaining: 45.9s\n",
      "690:\tlearn: 1139.5328516\ttest: 1443.9811306\tbest: 1443.9811306 (690)\ttotal: 1m 42s\tremaining: 45.8s\n",
      "691:\tlearn: 1139.1251339\ttest: 1443.8425020\tbest: 1443.8425020 (691)\ttotal: 1m 42s\tremaining: 45.6s\n",
      "692:\tlearn: 1138.9230220\ttest: 1443.7336823\tbest: 1443.7336823 (692)\ttotal: 1m 42s\tremaining: 45.5s\n",
      "693:\tlearn: 1138.6970392\ttest: 1443.8054134\tbest: 1443.7336823 (692)\ttotal: 1m 42s\tremaining: 45.3s\n",
      "694:\tlearn: 1138.3961971\ttest: 1443.7803780\tbest: 1443.7336823 (692)\ttotal: 1m 42s\tremaining: 45.2s\n",
      "695:\tlearn: 1137.9604744\ttest: 1443.6129794\tbest: 1443.6129794 (695)\ttotal: 1m 43s\tremaining: 45s\n",
      "696:\tlearn: 1137.7702692\ttest: 1443.5579004\tbest: 1443.5579004 (696)\ttotal: 1m 43s\tremaining: 44.9s\n",
      "697:\tlearn: 1137.6251252\ttest: 1443.5166468\tbest: 1443.5166468 (697)\ttotal: 1m 43s\tremaining: 44.7s\n",
      "698:\tlearn: 1137.4441619\ttest: 1443.4869876\tbest: 1443.4869876 (698)\ttotal: 1m 43s\tremaining: 44.6s\n",
      "699:\tlearn: 1137.0576834\ttest: 1443.5732418\tbest: 1443.4869876 (698)\ttotal: 1m 43s\tremaining: 44.4s\n",
      "700:\tlearn: 1136.8905879\ttest: 1443.5671894\tbest: 1443.4869876 (698)\ttotal: 1m 43s\tremaining: 44.3s\n",
      "701:\tlearn: 1136.4890574\ttest: 1443.7233802\tbest: 1443.4869876 (698)\ttotal: 1m 43s\tremaining: 44.1s\n",
      "702:\tlearn: 1136.2392461\ttest: 1443.7273438\tbest: 1443.4869876 (698)\ttotal: 1m 44s\tremaining: 44s\n",
      "703:\tlearn: 1135.9031919\ttest: 1443.8046837\tbest: 1443.4869876 (698)\ttotal: 1m 44s\tremaining: 43.8s\n",
      "704:\tlearn: 1135.6343319\ttest: 1444.0226649\tbest: 1443.4869876 (698)\ttotal: 1m 44s\tremaining: 43.7s\n",
      "705:\tlearn: 1135.2784645\ttest: 1444.0230835\tbest: 1443.4869876 (698)\ttotal: 1m 44s\tremaining: 43.5s\n",
      "706:\tlearn: 1134.8944865\ttest: 1444.2632076\tbest: 1443.4869876 (698)\ttotal: 1m 44s\tremaining: 43.4s\n",
      "707:\tlearn: 1134.6268706\ttest: 1444.2158816\tbest: 1443.4869876 (698)\ttotal: 1m 44s\tremaining: 43.2s\n",
      "708:\tlearn: 1134.5411415\ttest: 1444.1867478\tbest: 1443.4869876 (698)\ttotal: 1m 44s\tremaining: 43.1s\n",
      "709:\tlearn: 1134.2962897\ttest: 1444.3704083\tbest: 1443.4869876 (698)\ttotal: 1m 45s\tremaining: 42.9s\n",
      "710:\tlearn: 1134.2809137\ttest: 1444.3745710\tbest: 1443.4869876 (698)\ttotal: 1m 45s\tremaining: 42.8s\n",
      "711:\tlearn: 1134.0970803\ttest: 1444.3986934\tbest: 1443.4869876 (698)\ttotal: 1m 45s\tremaining: 42.6s\n",
      "712:\tlearn: 1133.8915982\ttest: 1444.5330634\tbest: 1443.4869876 (698)\ttotal: 1m 45s\tremaining: 42.5s\n",
      "713:\tlearn: 1133.6794459\ttest: 1444.5889180\tbest: 1443.4869876 (698)\ttotal: 1m 45s\tremaining: 42.3s\n",
      "714:\tlearn: 1133.4527907\ttest: 1444.5340291\tbest: 1443.4869876 (698)\ttotal: 1m 45s\tremaining: 42.2s\n",
      "715:\tlearn: 1133.0726399\ttest: 1444.7626672\tbest: 1443.4869876 (698)\ttotal: 1m 46s\tremaining: 42s\n",
      "716:\tlearn: 1132.9541386\ttest: 1444.7955719\tbest: 1443.4869876 (698)\ttotal: 1m 46s\tremaining: 41.9s\n",
      "717:\tlearn: 1132.5920905\ttest: 1444.8468481\tbest: 1443.4869876 (698)\ttotal: 1m 46s\tremaining: 41.8s\n",
      "718:\tlearn: 1132.3930650\ttest: 1445.0654922\tbest: 1443.4869876 (698)\ttotal: 1m 46s\tremaining: 41.7s\n",
      "719:\tlearn: 1132.1383876\ttest: 1445.1170396\tbest: 1443.4869876 (698)\ttotal: 1m 46s\tremaining: 41.5s\n",
      "720:\tlearn: 1132.1316169\ttest: 1445.1200211\tbest: 1443.4869876 (698)\ttotal: 1m 46s\tremaining: 41.4s\n",
      "721:\tlearn: 1132.0196260\ttest: 1445.2784714\tbest: 1443.4869876 (698)\ttotal: 1m 47s\tremaining: 41.2s\n",
      "722:\tlearn: 1131.8072000\ttest: 1445.2889311\tbest: 1443.4869876 (698)\ttotal: 1m 47s\tremaining: 41.1s\n",
      "723:\tlearn: 1131.5357499\ttest: 1445.3393909\tbest: 1443.4869876 (698)\ttotal: 1m 47s\tremaining: 40.9s\n",
      "724:\tlearn: 1131.3261318\ttest: 1445.4248530\tbest: 1443.4869876 (698)\ttotal: 1m 47s\tremaining: 40.8s\n",
      "725:\tlearn: 1131.1512272\ttest: 1445.5521031\tbest: 1443.4869876 (698)\ttotal: 1m 47s\tremaining: 40.6s\n",
      "726:\tlearn: 1130.8846610\ttest: 1445.5362895\tbest: 1443.4869876 (698)\ttotal: 1m 47s\tremaining: 40.5s\n",
      "727:\tlearn: 1130.8052687\ttest: 1445.4991443\tbest: 1443.4869876 (698)\ttotal: 1m 47s\tremaining: 40.3s\n",
      "728:\tlearn: 1130.7846766\ttest: 1445.5106945\tbest: 1443.4869876 (698)\ttotal: 1m 48s\tremaining: 40.2s\n",
      "729:\tlearn: 1130.6148511\ttest: 1445.4226074\tbest: 1443.4869876 (698)\ttotal: 1m 48s\tremaining: 40s\n",
      "730:\tlearn: 1130.4116373\ttest: 1445.3725684\tbest: 1443.4869876 (698)\ttotal: 1m 48s\tremaining: 39.9s\n",
      "731:\tlearn: 1130.0174952\ttest: 1445.5921252\tbest: 1443.4869876 (698)\ttotal: 1m 48s\tremaining: 39.7s\n",
      "732:\tlearn: 1129.7312924\ttest: 1445.6302779\tbest: 1443.4869876 (698)\ttotal: 1m 48s\tremaining: 39.6s\n",
      "733:\tlearn: 1129.5466839\ttest: 1445.5882918\tbest: 1443.4869876 (698)\ttotal: 1m 48s\tremaining: 39.4s\n",
      "734:\tlearn: 1129.3886192\ttest: 1445.6316361\tbest: 1443.4869876 (698)\ttotal: 1m 48s\tremaining: 39.3s\n",
      "735:\tlearn: 1128.9309141\ttest: 1445.8049018\tbest: 1443.4869876 (698)\ttotal: 1m 49s\tremaining: 39.1s\n",
      "736:\tlearn: 1128.5215271\ttest: 1446.0482134\tbest: 1443.4869876 (698)\ttotal: 1m 49s\tremaining: 39s\n",
      "737:\tlearn: 1128.1257019\ttest: 1446.1797064\tbest: 1443.4869876 (698)\ttotal: 1m 49s\tremaining: 38.8s\n",
      "738:\tlearn: 1128.1197785\ttest: 1446.1629970\tbest: 1443.4869876 (698)\ttotal: 1m 49s\tremaining: 38.7s\n",
      "739:\tlearn: 1127.9275438\ttest: 1446.2584318\tbest: 1443.4869876 (698)\ttotal: 1m 49s\tremaining: 38.5s\n",
      "740:\tlearn: 1127.7107524\ttest: 1446.2835380\tbest: 1443.4869876 (698)\ttotal: 1m 49s\tremaining: 38.4s\n",
      "741:\tlearn: 1127.4397371\ttest: 1446.2260497\tbest: 1443.4869876 (698)\ttotal: 1m 49s\tremaining: 38.2s\n",
      "742:\tlearn: 1127.2450097\ttest: 1446.3207506\tbest: 1443.4869876 (698)\ttotal: 1m 50s\tremaining: 38.1s\n",
      "743:\tlearn: 1126.9349068\ttest: 1446.3937818\tbest: 1443.4869876 (698)\ttotal: 1m 50s\tremaining: 37.9s\n",
      "744:\tlearn: 1126.7538215\ttest: 1446.4655093\tbest: 1443.4869876 (698)\ttotal: 1m 50s\tremaining: 37.8s\n",
      "745:\tlearn: 1126.5006076\ttest: 1446.5205709\tbest: 1443.4869876 (698)\ttotal: 1m 50s\tremaining: 37.6s\n",
      "746:\tlearn: 1126.3498067\ttest: 1446.5124193\tbest: 1443.4869876 (698)\ttotal: 1m 50s\tremaining: 37.5s\n",
      "747:\tlearn: 1126.2091215\ttest: 1446.5822805\tbest: 1443.4869876 (698)\ttotal: 1m 50s\tremaining: 37.3s\n",
      "748:\tlearn: 1125.8716819\ttest: 1446.4944526\tbest: 1443.4869876 (698)\ttotal: 1m 50s\tremaining: 37.2s\n",
      "749:\tlearn: 1125.8172239\ttest: 1446.5084928\tbest: 1443.4869876 (698)\ttotal: 1m 51s\tremaining: 37s\n",
      "750:\tlearn: 1125.6960947\ttest: 1446.5256746\tbest: 1443.4869876 (698)\ttotal: 1m 51s\tremaining: 36.9s\n",
      "751:\tlearn: 1125.6587108\ttest: 1446.4963907\tbest: 1443.4869876 (698)\ttotal: 1m 51s\tremaining: 36.7s\n",
      "752:\tlearn: 1125.5207031\ttest: 1446.2985400\tbest: 1443.4869876 (698)\ttotal: 1m 51s\tremaining: 36.6s\n",
      "753:\tlearn: 1125.3630832\ttest: 1446.3312024\tbest: 1443.4869876 (698)\ttotal: 1m 51s\tremaining: 36.4s\n",
      "754:\tlearn: 1125.2483231\ttest: 1446.2523447\tbest: 1443.4869876 (698)\ttotal: 1m 51s\tremaining: 36.3s\n",
      "755:\tlearn: 1125.0312532\ttest: 1446.1467911\tbest: 1443.4869876 (698)\ttotal: 1m 51s\tremaining: 36.1s\n",
      "756:\tlearn: 1124.9403104\ttest: 1446.1790835\tbest: 1443.4869876 (698)\ttotal: 1m 52s\tremaining: 36s\n",
      "757:\tlearn: 1124.8012604\ttest: 1446.0587593\tbest: 1443.4869876 (698)\ttotal: 1m 52s\tremaining: 35.8s\n",
      "758:\tlearn: 1124.6277578\ttest: 1446.0961328\tbest: 1443.4869876 (698)\ttotal: 1m 52s\tremaining: 35.7s\n",
      "759:\tlearn: 1124.4525384\ttest: 1446.0212809\tbest: 1443.4869876 (698)\ttotal: 1m 52s\tremaining: 35.5s\n",
      "760:\tlearn: 1124.2539230\ttest: 1446.0870525\tbest: 1443.4869876 (698)\ttotal: 1m 52s\tremaining: 35.4s\n",
      "761:\tlearn: 1124.1506923\ttest: 1446.1224755\tbest: 1443.4869876 (698)\ttotal: 1m 52s\tremaining: 35.2s\n",
      "762:\tlearn: 1123.9937700\ttest: 1446.0634224\tbest: 1443.4869876 (698)\ttotal: 1m 53s\tremaining: 35.1s\n",
      "763:\tlearn: 1123.9419378\ttest: 1446.0721764\tbest: 1443.4869876 (698)\ttotal: 1m 53s\tremaining: 35s\n",
      "764:\tlearn: 1123.8058425\ttest: 1446.1380931\tbest: 1443.4869876 (698)\ttotal: 1m 53s\tremaining: 34.8s\n",
      "765:\tlearn: 1123.6057073\ttest: 1446.0576523\tbest: 1443.4869876 (698)\ttotal: 1m 53s\tremaining: 34.7s\n",
      "766:\tlearn: 1123.4363957\ttest: 1446.1089030\tbest: 1443.4869876 (698)\ttotal: 1m 53s\tremaining: 34.5s\n",
      "767:\tlearn: 1123.4009037\ttest: 1446.0779277\tbest: 1443.4869876 (698)\ttotal: 1m 53s\tremaining: 34.4s\n",
      "768:\tlearn: 1123.3850033\ttest: 1446.0519672\tbest: 1443.4869876 (698)\ttotal: 1m 53s\tremaining: 34.2s\n",
      "769:\tlearn: 1123.2848150\ttest: 1446.1194218\tbest: 1443.4869876 (698)\ttotal: 1m 54s\tremaining: 34.1s\n",
      "770:\tlearn: 1123.0744626\ttest: 1446.1990120\tbest: 1443.4869876 (698)\ttotal: 1m 54s\tremaining: 33.9s\n",
      "771:\tlearn: 1122.7457983\ttest: 1446.1781926\tbest: 1443.4869876 (698)\ttotal: 1m 54s\tremaining: 33.8s\n",
      "772:\tlearn: 1122.5203187\ttest: 1446.2387746\tbest: 1443.4869876 (698)\ttotal: 1m 54s\tremaining: 33.6s\n",
      "773:\tlearn: 1122.3145270\ttest: 1446.2484705\tbest: 1443.4869876 (698)\ttotal: 1m 54s\tremaining: 33.5s\n",
      "774:\tlearn: 1122.1893898\ttest: 1446.2957280\tbest: 1443.4869876 (698)\ttotal: 1m 54s\tremaining: 33.3s\n",
      "775:\tlearn: 1121.9904069\ttest: 1446.3191361\tbest: 1443.4869876 (698)\ttotal: 1m 54s\tremaining: 33.2s\n",
      "776:\tlearn: 1121.9084152\ttest: 1446.3336944\tbest: 1443.4869876 (698)\ttotal: 1m 55s\tremaining: 33s\n",
      "777:\tlearn: 1121.5906956\ttest: 1446.3825288\tbest: 1443.4869876 (698)\ttotal: 1m 55s\tremaining: 32.9s\n",
      "778:\tlearn: 1121.4543696\ttest: 1446.4299744\tbest: 1443.4869876 (698)\ttotal: 1m 55s\tremaining: 32.7s\n",
      "779:\tlearn: 1121.2978309\ttest: 1446.5339796\tbest: 1443.4869876 (698)\ttotal: 1m 55s\tremaining: 32.6s\n",
      "780:\tlearn: 1121.1468999\ttest: 1446.5913216\tbest: 1443.4869876 (698)\ttotal: 1m 55s\tremaining: 32.4s\n",
      "781:\tlearn: 1120.6769308\ttest: 1446.4010775\tbest: 1443.4869876 (698)\ttotal: 1m 55s\tremaining: 32.3s\n",
      "782:\tlearn: 1120.6176339\ttest: 1446.4141088\tbest: 1443.4869876 (698)\ttotal: 1m 56s\tremaining: 32.1s\n",
      "783:\tlearn: 1120.2923357\ttest: 1446.3217928\tbest: 1443.4869876 (698)\ttotal: 1m 56s\tremaining: 32s\n",
      "784:\tlearn: 1119.9449979\ttest: 1446.4207766\tbest: 1443.4869876 (698)\ttotal: 1m 56s\tremaining: 31.9s\n",
      "785:\tlearn: 1119.4130059\ttest: 1446.4108016\tbest: 1443.4869876 (698)\ttotal: 1m 56s\tremaining: 31.7s\n",
      "786:\tlearn: 1118.9614981\ttest: 1446.3207289\tbest: 1443.4869876 (698)\ttotal: 1m 56s\tremaining: 31.6s\n",
      "787:\tlearn: 1118.8043055\ttest: 1446.3126051\tbest: 1443.4869876 (698)\ttotal: 1m 56s\tremaining: 31.4s\n",
      "788:\tlearn: 1118.6267560\ttest: 1446.3391788\tbest: 1443.4869876 (698)\ttotal: 1m 56s\tremaining: 31.3s\n",
      "789:\tlearn: 1118.5628215\ttest: 1446.3141642\tbest: 1443.4869876 (698)\ttotal: 1m 57s\tremaining: 31.1s\n",
      "790:\tlearn: 1118.2606076\ttest: 1446.4069121\tbest: 1443.4869876 (698)\ttotal: 1m 57s\tremaining: 31s\n",
      "791:\tlearn: 1118.1390875\ttest: 1446.3183651\tbest: 1443.4869876 (698)\ttotal: 1m 57s\tremaining: 30.8s\n",
      "792:\tlearn: 1117.4848192\ttest: 1446.1523578\tbest: 1443.4869876 (698)\ttotal: 1m 57s\tremaining: 30.7s\n",
      "793:\tlearn: 1117.1070649\ttest: 1446.0411374\tbest: 1443.4869876 (698)\ttotal: 1m 57s\tremaining: 30.5s\n",
      "794:\tlearn: 1117.0020145\ttest: 1446.0600933\tbest: 1443.4869876 (698)\ttotal: 1m 57s\tremaining: 30.4s\n",
      "795:\tlearn: 1116.7229249\ttest: 1446.1005138\tbest: 1443.4869876 (698)\ttotal: 1m 57s\tremaining: 30.2s\n",
      "796:\tlearn: 1116.5746056\ttest: 1446.0864831\tbest: 1443.4869876 (698)\ttotal: 1m 58s\tremaining: 30.1s\n",
      "797:\tlearn: 1116.2966052\ttest: 1446.0158016\tbest: 1443.4869876 (698)\ttotal: 1m 58s\tremaining: 29.9s\n",
      "798:\tlearn: 1116.0604749\ttest: 1445.9826512\tbest: 1443.4869876 (698)\ttotal: 1m 58s\tremaining: 29.8s\n",
      "799:\tlearn: 1115.7698397\ttest: 1445.7933849\tbest: 1443.4869876 (698)\ttotal: 1m 58s\tremaining: 29.6s\n",
      "800:\tlearn: 1115.6820113\ttest: 1445.7744804\tbest: 1443.4869876 (698)\ttotal: 1m 58s\tremaining: 29.5s\n",
      "801:\tlearn: 1115.5821840\ttest: 1445.7894658\tbest: 1443.4869876 (698)\ttotal: 1m 58s\tremaining: 29.3s\n",
      "802:\tlearn: 1115.3079757\ttest: 1445.7880820\tbest: 1443.4869876 (698)\ttotal: 1m 58s\tremaining: 29.2s\n",
      "803:\tlearn: 1115.0080175\ttest: 1445.7455387\tbest: 1443.4869876 (698)\ttotal: 1m 59s\tremaining: 29s\n",
      "804:\tlearn: 1114.8932764\ttest: 1445.7451465\tbest: 1443.4869876 (698)\ttotal: 1m 59s\tremaining: 28.9s\n",
      "805:\tlearn: 1114.3926444\ttest: 1445.7813935\tbest: 1443.4869876 (698)\ttotal: 1m 59s\tremaining: 28.7s\n",
      "806:\tlearn: 1114.0695591\ttest: 1445.7569864\tbest: 1443.4869876 (698)\ttotal: 1m 59s\tremaining: 28.6s\n",
      "807:\tlearn: 1113.9796759\ttest: 1445.8640564\tbest: 1443.4869876 (698)\ttotal: 1m 59s\tremaining: 28.4s\n",
      "808:\tlearn: 1113.8860924\ttest: 1445.8789121\tbest: 1443.4869876 (698)\ttotal: 1m 59s\tremaining: 28.3s\n",
      "809:\tlearn: 1113.6442510\ttest: 1445.8420834\tbest: 1443.4869876 (698)\ttotal: 1m 59s\tremaining: 28.1s\n",
      "810:\tlearn: 1113.4606602\ttest: 1445.9559391\tbest: 1443.4869876 (698)\ttotal: 2m\tremaining: 28s\n",
      "811:\tlearn: 1113.3588750\ttest: 1445.9715624\tbest: 1443.4869876 (698)\ttotal: 2m\tremaining: 27.8s\n",
      "812:\tlearn: 1113.2230904\ttest: 1445.9749589\tbest: 1443.4869876 (698)\ttotal: 2m\tremaining: 27.7s\n",
      "813:\tlearn: 1113.0163846\ttest: 1446.0585519\tbest: 1443.4869876 (698)\ttotal: 2m\tremaining: 27.5s\n",
      "814:\tlearn: 1112.8544839\ttest: 1446.0884198\tbest: 1443.4869876 (698)\ttotal: 2m\tremaining: 27.4s\n",
      "815:\tlearn: 1112.6246901\ttest: 1446.1051781\tbest: 1443.4869876 (698)\ttotal: 2m\tremaining: 27.2s\n",
      "816:\tlearn: 1112.3696205\ttest: 1445.9399546\tbest: 1443.4869876 (698)\ttotal: 2m\tremaining: 27.1s\n",
      "817:\tlearn: 1112.1874298\ttest: 1445.9735714\tbest: 1443.4869876 (698)\ttotal: 2m 1s\tremaining: 26.9s\n",
      "818:\tlearn: 1112.0520716\ttest: 1446.0466432\tbest: 1443.4869876 (698)\ttotal: 2m 1s\tremaining: 26.8s\n",
      "819:\tlearn: 1111.8238284\ttest: 1446.1716098\tbest: 1443.4869876 (698)\ttotal: 2m 1s\tremaining: 26.6s\n",
      "820:\tlearn: 1111.6963018\ttest: 1446.2097609\tbest: 1443.4869876 (698)\ttotal: 2m 1s\tremaining: 26.5s\n",
      "821:\tlearn: 1111.6016119\ttest: 1446.2089833\tbest: 1443.4869876 (698)\ttotal: 2m 1s\tremaining: 26.3s\n",
      "822:\tlearn: 1111.4265176\ttest: 1446.2030727\tbest: 1443.4869876 (698)\ttotal: 2m 1s\tremaining: 26.2s\n",
      "823:\tlearn: 1111.1543402\ttest: 1446.3186847\tbest: 1443.4869876 (698)\ttotal: 2m 1s\tremaining: 26s\n",
      "824:\tlearn: 1110.9397725\ttest: 1446.3738348\tbest: 1443.4869876 (698)\ttotal: 2m 2s\tremaining: 25.9s\n",
      "825:\tlearn: 1110.9026529\ttest: 1446.3736482\tbest: 1443.4869876 (698)\ttotal: 2m 2s\tremaining: 25.7s\n",
      "826:\tlearn: 1110.6168279\ttest: 1446.3629992\tbest: 1443.4869876 (698)\ttotal: 2m 2s\tremaining: 25.6s\n",
      "827:\tlearn: 1110.5278380\ttest: 1446.4712932\tbest: 1443.4869876 (698)\ttotal: 2m 2s\tremaining: 25.4s\n",
      "828:\tlearn: 1110.3416879\ttest: 1446.5616656\tbest: 1443.4869876 (698)\ttotal: 2m 2s\tremaining: 25.3s\n",
      "829:\tlearn: 1110.1681542\ttest: 1446.6218514\tbest: 1443.4869876 (698)\ttotal: 2m 2s\tremaining: 25.1s\n",
      "830:\tlearn: 1109.7547001\ttest: 1446.5470619\tbest: 1443.4869876 (698)\ttotal: 2m 2s\tremaining: 25s\n",
      "831:\tlearn: 1109.5089435\ttest: 1446.5993782\tbest: 1443.4869876 (698)\ttotal: 2m 3s\tremaining: 24.8s\n",
      "832:\tlearn: 1109.3677813\ttest: 1446.5546126\tbest: 1443.4869876 (698)\ttotal: 2m 3s\tremaining: 24.7s\n",
      "833:\tlearn: 1109.2277079\ttest: 1446.5902369\tbest: 1443.4869876 (698)\ttotal: 2m 3s\tremaining: 24.6s\n",
      "834:\tlearn: 1109.0230114\ttest: 1446.4871895\tbest: 1443.4869876 (698)\ttotal: 2m 3s\tremaining: 24.4s\n",
      "835:\tlearn: 1108.7094237\ttest: 1446.4497079\tbest: 1443.4869876 (698)\ttotal: 2m 3s\tremaining: 24.3s\n",
      "836:\tlearn: 1108.5631560\ttest: 1446.4552424\tbest: 1443.4869876 (698)\ttotal: 2m 3s\tremaining: 24.1s\n",
      "837:\tlearn: 1108.3881585\ttest: 1446.4912450\tbest: 1443.4869876 (698)\ttotal: 2m 3s\tremaining: 24s\n",
      "838:\tlearn: 1108.0682032\ttest: 1446.6002568\tbest: 1443.4869876 (698)\ttotal: 2m 4s\tremaining: 23.8s\n",
      "839:\tlearn: 1107.9506889\ttest: 1446.6052716\tbest: 1443.4869876 (698)\ttotal: 2m 4s\tremaining: 23.7s\n",
      "840:\tlearn: 1107.7832661\ttest: 1446.7333021\tbest: 1443.4869876 (698)\ttotal: 2m 4s\tremaining: 23.5s\n",
      "841:\tlearn: 1107.3887154\ttest: 1446.6252047\tbest: 1443.4869876 (698)\ttotal: 2m 4s\tremaining: 23.4s\n",
      "842:\tlearn: 1107.3171937\ttest: 1446.6162400\tbest: 1443.4869876 (698)\ttotal: 2m 4s\tremaining: 23.2s\n",
      "843:\tlearn: 1107.0822447\ttest: 1446.6566937\tbest: 1443.4869876 (698)\ttotal: 2m 4s\tremaining: 23.1s\n",
      "844:\tlearn: 1106.8631713\ttest: 1446.7143635\tbest: 1443.4869876 (698)\ttotal: 2m 5s\tremaining: 22.9s\n",
      "845:\tlearn: 1106.7450248\ttest: 1446.6730115\tbest: 1443.4869876 (698)\ttotal: 2m 5s\tremaining: 22.8s\n",
      "846:\tlearn: 1106.5101366\ttest: 1446.6156341\tbest: 1443.4869876 (698)\ttotal: 2m 5s\tremaining: 22.6s\n",
      "847:\tlearn: 1106.0862829\ttest: 1446.7169238\tbest: 1443.4869876 (698)\ttotal: 2m 5s\tremaining: 22.5s\n",
      "848:\tlearn: 1105.9886542\ttest: 1446.7453791\tbest: 1443.4869876 (698)\ttotal: 2m 5s\tremaining: 22.3s\n",
      "849:\tlearn: 1105.7284544\ttest: 1446.7377187\tbest: 1443.4869876 (698)\ttotal: 2m 5s\tremaining: 22.2s\n",
      "850:\tlearn: 1105.6203373\ttest: 1446.7765491\tbest: 1443.4869876 (698)\ttotal: 2m 5s\tremaining: 22s\n",
      "851:\tlearn: 1105.4582143\ttest: 1446.7968899\tbest: 1443.4869876 (698)\ttotal: 2m 6s\tremaining: 21.9s\n",
      "852:\tlearn: 1105.2098433\ttest: 1446.8558425\tbest: 1443.4869876 (698)\ttotal: 2m 6s\tremaining: 21.7s\n",
      "853:\tlearn: 1104.8226284\ttest: 1446.8730030\tbest: 1443.4869876 (698)\ttotal: 2m 6s\tremaining: 21.6s\n",
      "854:\tlearn: 1104.6143452\ttest: 1446.8141480\tbest: 1443.4869876 (698)\ttotal: 2m 6s\tremaining: 21.4s\n",
      "855:\tlearn: 1104.4370806\ttest: 1446.9626385\tbest: 1443.4869876 (698)\ttotal: 2m 6s\tremaining: 21.3s\n",
      "856:\tlearn: 1104.1891197\ttest: 1447.0510688\tbest: 1443.4869876 (698)\ttotal: 2m 6s\tremaining: 21.2s\n",
      "857:\tlearn: 1104.1179282\ttest: 1447.1307985\tbest: 1443.4869876 (698)\ttotal: 2m 6s\tremaining: 21s\n",
      "858:\tlearn: 1103.9428209\ttest: 1447.1044849\tbest: 1443.4869876 (698)\ttotal: 2m 7s\tremaining: 20.9s\n",
      "859:\tlearn: 1103.7441658\ttest: 1447.1289675\tbest: 1443.4869876 (698)\ttotal: 2m 7s\tremaining: 20.7s\n",
      "860:\tlearn: 1103.5724487\ttest: 1447.1282648\tbest: 1443.4869876 (698)\ttotal: 2m 7s\tremaining: 20.6s\n",
      "861:\tlearn: 1103.4114656\ttest: 1447.1535911\tbest: 1443.4869876 (698)\ttotal: 2m 7s\tremaining: 20.4s\n",
      "862:\tlearn: 1103.0292006\ttest: 1447.1867165\tbest: 1443.4869876 (698)\ttotal: 2m 7s\tremaining: 20.3s\n",
      "863:\tlearn: 1102.6625215\ttest: 1447.3131873\tbest: 1443.4869876 (698)\ttotal: 2m 7s\tremaining: 20.1s\n",
      "864:\tlearn: 1102.4062944\ttest: 1447.4151286\tbest: 1443.4869876 (698)\ttotal: 2m 7s\tremaining: 20s\n",
      "865:\tlearn: 1102.2032059\ttest: 1447.4729109\tbest: 1443.4869876 (698)\ttotal: 2m 8s\tremaining: 19.8s\n",
      "866:\tlearn: 1101.9470039\ttest: 1447.4519717\tbest: 1443.4869876 (698)\ttotal: 2m 8s\tremaining: 19.7s\n",
      "867:\tlearn: 1101.7371616\ttest: 1447.4500298\tbest: 1443.4869876 (698)\ttotal: 2m 8s\tremaining: 19.5s\n",
      "868:\tlearn: 1101.4729517\ttest: 1447.2962219\tbest: 1443.4869876 (698)\ttotal: 2m 8s\tremaining: 19.4s\n",
      "869:\tlearn: 1101.2890644\ttest: 1447.3531333\tbest: 1443.4869876 (698)\ttotal: 2m 8s\tremaining: 19.2s\n",
      "870:\tlearn: 1100.9817569\ttest: 1447.3960350\tbest: 1443.4869876 (698)\ttotal: 2m 8s\tremaining: 19.1s\n",
      "871:\tlearn: 1100.7409362\ttest: 1447.5360946\tbest: 1443.4869876 (698)\ttotal: 2m 8s\tremaining: 18.9s\n",
      "872:\tlearn: 1100.5252996\ttest: 1447.5305412\tbest: 1443.4869876 (698)\ttotal: 2m 9s\tremaining: 18.8s\n",
      "873:\tlearn: 1100.2513423\ttest: 1447.5533163\tbest: 1443.4869876 (698)\ttotal: 2m 9s\tremaining: 18.6s\n",
      "874:\tlearn: 1100.0284715\ttest: 1447.6979716\tbest: 1443.4869876 (698)\ttotal: 2m 9s\tremaining: 18.5s\n",
      "875:\tlearn: 1099.7777759\ttest: 1447.7580940\tbest: 1443.4869876 (698)\ttotal: 2m 9s\tremaining: 18.3s\n",
      "876:\tlearn: 1099.5558102\ttest: 1447.7384679\tbest: 1443.4869876 (698)\ttotal: 2m 9s\tremaining: 18.2s\n",
      "877:\tlearn: 1099.2803884\ttest: 1447.7043523\tbest: 1443.4869876 (698)\ttotal: 2m 9s\tremaining: 18s\n",
      "878:\tlearn: 1099.1700559\ttest: 1447.7498049\tbest: 1443.4869876 (698)\ttotal: 2m 10s\tremaining: 17.9s\n",
      "879:\tlearn: 1099.0018462\ttest: 1447.7370629\tbest: 1443.4869876 (698)\ttotal: 2m 10s\tremaining: 17.8s\n",
      "880:\tlearn: 1098.7790764\ttest: 1447.7272791\tbest: 1443.4869876 (698)\ttotal: 2m 10s\tremaining: 17.6s\n",
      "881:\tlearn: 1098.4954181\ttest: 1447.7998063\tbest: 1443.4869876 (698)\ttotal: 2m 10s\tremaining: 17.5s\n",
      "882:\tlearn: 1098.2443563\ttest: 1447.9130370\tbest: 1443.4869876 (698)\ttotal: 2m 10s\tremaining: 17.3s\n",
      "883:\tlearn: 1098.0545878\ttest: 1448.0186652\tbest: 1443.4869876 (698)\ttotal: 2m 10s\tremaining: 17.2s\n",
      "884:\tlearn: 1097.7504310\ttest: 1448.1033326\tbest: 1443.4869876 (698)\ttotal: 2m 10s\tremaining: 17s\n",
      "885:\tlearn: 1097.6153550\ttest: 1448.0345314\tbest: 1443.4869876 (698)\ttotal: 2m 11s\tremaining: 16.9s\n",
      "886:\tlearn: 1097.3951689\ttest: 1448.0985311\tbest: 1443.4869876 (698)\ttotal: 2m 11s\tremaining: 16.7s\n",
      "887:\tlearn: 1097.2302336\ttest: 1447.9749615\tbest: 1443.4869876 (698)\ttotal: 2m 11s\tremaining: 16.6s\n",
      "888:\tlearn: 1097.1362377\ttest: 1447.9582946\tbest: 1443.4869876 (698)\ttotal: 2m 11s\tremaining: 16.4s\n",
      "889:\tlearn: 1096.9789299\ttest: 1447.9940182\tbest: 1443.4869876 (698)\ttotal: 2m 11s\tremaining: 16.3s\n",
      "890:\tlearn: 1096.7524998\ttest: 1448.0302367\tbest: 1443.4869876 (698)\ttotal: 2m 11s\tremaining: 16.1s\n",
      "891:\tlearn: 1096.5006699\ttest: 1447.9787525\tbest: 1443.4869876 (698)\ttotal: 2m 11s\tremaining: 16s\n",
      "892:\tlearn: 1096.3654919\ttest: 1447.9648702\tbest: 1443.4869876 (698)\ttotal: 2m 12s\tremaining: 15.8s\n",
      "893:\tlearn: 1095.9929736\ttest: 1447.7392543\tbest: 1443.4869876 (698)\ttotal: 2m 12s\tremaining: 15.7s\n",
      "894:\tlearn: 1095.8718606\ttest: 1447.7166860\tbest: 1443.4869876 (698)\ttotal: 2m 12s\tremaining: 15.5s\n",
      "895:\tlearn: 1095.6267265\ttest: 1447.6939577\tbest: 1443.4869876 (698)\ttotal: 2m 12s\tremaining: 15.4s\n",
      "896:\tlearn: 1095.3537371\ttest: 1447.7016489\tbest: 1443.4869876 (698)\ttotal: 2m 12s\tremaining: 15.2s\n",
      "897:\tlearn: 1095.0955094\ttest: 1447.7031076\tbest: 1443.4869876 (698)\ttotal: 2m 12s\tremaining: 15.1s\n",
      "898:\tlearn: 1094.5711053\ttest: 1447.6061855\tbest: 1443.4869876 (698)\ttotal: 2m 13s\tremaining: 15s\n",
      "899:\tlearn: 1094.3715528\ttest: 1447.6252299\tbest: 1443.4869876 (698)\ttotal: 2m 13s\tremaining: 14.8s\n",
      "900:\tlearn: 1094.0855549\ttest: 1447.7292999\tbest: 1443.4869876 (698)\ttotal: 2m 13s\tremaining: 14.7s\n",
      "901:\tlearn: 1093.9655677\ttest: 1447.6616481\tbest: 1443.4869876 (698)\ttotal: 2m 13s\tremaining: 14.5s\n",
      "902:\tlearn: 1093.8503462\ttest: 1447.6553153\tbest: 1443.4869876 (698)\ttotal: 2m 13s\tremaining: 14.4s\n",
      "903:\tlearn: 1093.5699837\ttest: 1447.6215657\tbest: 1443.4869876 (698)\ttotal: 2m 13s\tremaining: 14.2s\n",
      "904:\tlearn: 1093.4198538\ttest: 1447.6186752\tbest: 1443.4869876 (698)\ttotal: 2m 13s\tremaining: 14.1s\n",
      "905:\tlearn: 1093.2805465\ttest: 1447.6291489\tbest: 1443.4869876 (698)\ttotal: 2m 14s\tremaining: 13.9s\n",
      "906:\tlearn: 1093.0864429\ttest: 1447.7657646\tbest: 1443.4869876 (698)\ttotal: 2m 14s\tremaining: 13.8s\n",
      "907:\tlearn: 1092.8107099\ttest: 1447.8251155\tbest: 1443.4869876 (698)\ttotal: 2m 14s\tremaining: 13.6s\n",
      "908:\tlearn: 1092.4099033\ttest: 1447.9245199\tbest: 1443.4869876 (698)\ttotal: 2m 14s\tremaining: 13.5s\n",
      "909:\tlearn: 1092.2169245\ttest: 1447.8506759\tbest: 1443.4869876 (698)\ttotal: 2m 14s\tremaining: 13.3s\n",
      "910:\tlearn: 1092.0347185\ttest: 1447.9486748\tbest: 1443.4869876 (698)\ttotal: 2m 14s\tremaining: 13.2s\n",
      "911:\tlearn: 1091.8875829\ttest: 1447.9118280\tbest: 1443.4869876 (698)\ttotal: 2m 14s\tremaining: 13s\n",
      "912:\tlearn: 1091.6861948\ttest: 1447.9983073\tbest: 1443.4869876 (698)\ttotal: 2m 15s\tremaining: 12.9s\n",
      "913:\tlearn: 1091.5831649\ttest: 1448.0714158\tbest: 1443.4869876 (698)\ttotal: 2m 15s\tremaining: 12.7s\n",
      "914:\tlearn: 1091.4167618\ttest: 1448.1452702\tbest: 1443.4869876 (698)\ttotal: 2m 15s\tremaining: 12.6s\n",
      "915:\tlearn: 1091.0681046\ttest: 1448.1514971\tbest: 1443.4869876 (698)\ttotal: 2m 15s\tremaining: 12.4s\n",
      "916:\tlearn: 1090.9024508\ttest: 1448.1233623\tbest: 1443.4869876 (698)\ttotal: 2m 15s\tremaining: 12.3s\n",
      "917:\tlearn: 1090.5958171\ttest: 1448.0660149\tbest: 1443.4869876 (698)\ttotal: 2m 15s\tremaining: 12.1s\n",
      "918:\tlearn: 1090.3870285\ttest: 1448.0842835\tbest: 1443.4869876 (698)\ttotal: 2m 16s\tremaining: 12s\n",
      "919:\tlearn: 1090.0776214\ttest: 1448.2447443\tbest: 1443.4869876 (698)\ttotal: 2m 16s\tremaining: 11.8s\n",
      "920:\tlearn: 1089.9744023\ttest: 1448.1700240\tbest: 1443.4869876 (698)\ttotal: 2m 16s\tremaining: 11.7s\n",
      "921:\tlearn: 1089.7681394\ttest: 1448.2739615\tbest: 1443.4869876 (698)\ttotal: 2m 16s\tremaining: 11.5s\n",
      "922:\tlearn: 1089.4765669\ttest: 1448.2464633\tbest: 1443.4869876 (698)\ttotal: 2m 16s\tremaining: 11.4s\n",
      "923:\tlearn: 1089.2618675\ttest: 1448.2854347\tbest: 1443.4869876 (698)\ttotal: 2m 16s\tremaining: 11.2s\n",
      "924:\tlearn: 1089.2091516\ttest: 1448.2857961\tbest: 1443.4869876 (698)\ttotal: 2m 16s\tremaining: 11.1s\n",
      "925:\tlearn: 1088.8876503\ttest: 1448.2928332\tbest: 1443.4869876 (698)\ttotal: 2m 17s\tremaining: 10.9s\n",
      "926:\tlearn: 1088.7247557\ttest: 1448.1798535\tbest: 1443.4869876 (698)\ttotal: 2m 17s\tremaining: 10.8s\n",
      "927:\tlearn: 1088.5717106\ttest: 1448.2112657\tbest: 1443.4869876 (698)\ttotal: 2m 17s\tremaining: 10.7s\n",
      "928:\tlearn: 1088.4624424\ttest: 1448.1928953\tbest: 1443.4869876 (698)\ttotal: 2m 17s\tremaining: 10.5s\n",
      "929:\tlearn: 1088.1946421\ttest: 1448.2433774\tbest: 1443.4869876 (698)\ttotal: 2m 17s\tremaining: 10.4s\n",
      "930:\tlearn: 1088.0747962\ttest: 1448.3103635\tbest: 1443.4869876 (698)\ttotal: 2m 17s\tremaining: 10.2s\n",
      "931:\tlearn: 1087.9443982\ttest: 1448.3156222\tbest: 1443.4869876 (698)\ttotal: 2m 17s\tremaining: 10.1s\n",
      "932:\tlearn: 1087.6681893\ttest: 1448.3949534\tbest: 1443.4869876 (698)\ttotal: 2m 18s\tremaining: 9.91s\n",
      "933:\tlearn: 1087.4709843\ttest: 1448.3536441\tbest: 1443.4869876 (698)\ttotal: 2m 18s\tremaining: 9.77s\n",
      "934:\tlearn: 1087.3266412\ttest: 1448.4277246\tbest: 1443.4869876 (698)\ttotal: 2m 18s\tremaining: 9.62s\n",
      "935:\tlearn: 1087.1899530\ttest: 1448.3200666\tbest: 1443.4869876 (698)\ttotal: 2m 18s\tremaining: 9.47s\n",
      "936:\tlearn: 1087.0822180\ttest: 1448.3464776\tbest: 1443.4869876 (698)\ttotal: 2m 18s\tremaining: 9.32s\n",
      "937:\tlearn: 1086.9939274\ttest: 1448.2854255\tbest: 1443.4869876 (698)\ttotal: 2m 18s\tremaining: 9.17s\n",
      "938:\tlearn: 1086.5689248\ttest: 1448.3549756\tbest: 1443.4869876 (698)\ttotal: 2m 18s\tremaining: 9.02s\n",
      "939:\tlearn: 1086.3905682\ttest: 1448.3805164\tbest: 1443.4869876 (698)\ttotal: 2m 19s\tremaining: 8.88s\n",
      "940:\tlearn: 1086.1721271\ttest: 1448.3929701\tbest: 1443.4869876 (698)\ttotal: 2m 19s\tremaining: 8.73s\n",
      "941:\tlearn: 1085.9005953\ttest: 1448.4400319\tbest: 1443.4869876 (698)\ttotal: 2m 19s\tremaining: 8.58s\n",
      "942:\tlearn: 1085.6728502\ttest: 1448.5653150\tbest: 1443.4869876 (698)\ttotal: 2m 19s\tremaining: 8.43s\n",
      "943:\tlearn: 1085.5486471\ttest: 1448.5859421\tbest: 1443.4869876 (698)\ttotal: 2m 19s\tremaining: 8.28s\n",
      "944:\tlearn: 1085.2918457\ttest: 1448.4884698\tbest: 1443.4869876 (698)\ttotal: 2m 19s\tremaining: 8.14s\n",
      "945:\tlearn: 1085.2239103\ttest: 1448.5604921\tbest: 1443.4869876 (698)\ttotal: 2m 19s\tremaining: 7.99s\n",
      "946:\tlearn: 1085.0753467\ttest: 1448.6307640\tbest: 1443.4869876 (698)\ttotal: 2m 20s\tremaining: 7.84s\n",
      "947:\tlearn: 1084.7149265\ttest: 1448.4696052\tbest: 1443.4869876 (698)\ttotal: 2m 20s\tremaining: 7.69s\n",
      "948:\tlearn: 1084.6369243\ttest: 1448.5413532\tbest: 1443.4869876 (698)\ttotal: 2m 20s\tremaining: 7.54s\n",
      "949:\tlearn: 1084.3192106\ttest: 1448.5554682\tbest: 1443.4869876 (698)\ttotal: 2m 20s\tremaining: 7.4s\n",
      "950:\tlearn: 1084.1261784\ttest: 1448.6682225\tbest: 1443.4869876 (698)\ttotal: 2m 20s\tremaining: 7.25s\n",
      "951:\tlearn: 1084.0019787\ttest: 1448.6719148\tbest: 1443.4869876 (698)\ttotal: 2m 20s\tremaining: 7.1s\n",
      "952:\tlearn: 1083.7629993\ttest: 1448.6169633\tbest: 1443.4869876 (698)\ttotal: 2m 20s\tremaining: 6.95s\n",
      "953:\tlearn: 1083.5781023\ttest: 1448.6164519\tbest: 1443.4869876 (698)\ttotal: 2m 21s\tremaining: 6.8s\n",
      "954:\tlearn: 1083.3562759\ttest: 1448.6147559\tbest: 1443.4869876 (698)\ttotal: 2m 21s\tremaining: 6.66s\n",
      "955:\tlearn: 1083.1347250\ttest: 1448.4566659\tbest: 1443.4869876 (698)\ttotal: 2m 21s\tremaining: 6.51s\n",
      "956:\tlearn: 1083.0078470\ttest: 1448.4278924\tbest: 1443.4869876 (698)\ttotal: 2m 21s\tremaining: 6.36s\n",
      "957:\tlearn: 1082.7907009\ttest: 1448.4156354\tbest: 1443.4869876 (698)\ttotal: 2m 21s\tremaining: 6.21s\n",
      "958:\tlearn: 1082.6830862\ttest: 1448.4092865\tbest: 1443.4869876 (698)\ttotal: 2m 21s\tremaining: 6.06s\n",
      "959:\tlearn: 1082.2721518\ttest: 1448.3870497\tbest: 1443.4869876 (698)\ttotal: 2m 21s\tremaining: 5.92s\n",
      "960:\tlearn: 1082.1351940\ttest: 1448.3489216\tbest: 1443.4869876 (698)\ttotal: 2m 22s\tremaining: 5.77s\n",
      "961:\tlearn: 1081.9887501\ttest: 1448.3415182\tbest: 1443.4869876 (698)\ttotal: 2m 22s\tremaining: 5.62s\n",
      "962:\tlearn: 1081.6734524\ttest: 1448.3866561\tbest: 1443.4869876 (698)\ttotal: 2m 22s\tremaining: 5.47s\n",
      "963:\tlearn: 1081.6064281\ttest: 1448.4372010\tbest: 1443.4869876 (698)\ttotal: 2m 22s\tremaining: 5.32s\n",
      "964:\tlearn: 1081.4868069\ttest: 1448.4145610\tbest: 1443.4869876 (698)\ttotal: 2m 22s\tremaining: 5.17s\n",
      "965:\tlearn: 1081.3156291\ttest: 1448.4276177\tbest: 1443.4869876 (698)\ttotal: 2m 22s\tremaining: 5.03s\n",
      "966:\tlearn: 1080.9836372\ttest: 1448.4571247\tbest: 1443.4869876 (698)\ttotal: 2m 22s\tremaining: 4.88s\n",
      "967:\tlearn: 1080.8288908\ttest: 1448.3757857\tbest: 1443.4869876 (698)\ttotal: 2m 23s\tremaining: 4.73s\n",
      "968:\tlearn: 1080.7051468\ttest: 1448.3435423\tbest: 1443.4869876 (698)\ttotal: 2m 23s\tremaining: 4.58s\n",
      "969:\tlearn: 1080.4912137\ttest: 1448.2524237\tbest: 1443.4869876 (698)\ttotal: 2m 23s\tremaining: 4.44s\n",
      "970:\tlearn: 1080.2864630\ttest: 1448.1754163\tbest: 1443.4869876 (698)\ttotal: 2m 23s\tremaining: 4.29s\n",
      "971:\tlearn: 1080.1633564\ttest: 1448.1868768\tbest: 1443.4869876 (698)\ttotal: 2m 23s\tremaining: 4.14s\n",
      "972:\tlearn: 1079.9450437\ttest: 1448.1555688\tbest: 1443.4869876 (698)\ttotal: 2m 23s\tremaining: 3.99s\n",
      "973:\tlearn: 1079.8038640\ttest: 1448.1766245\tbest: 1443.4869876 (698)\ttotal: 2m 24s\tremaining: 3.84s\n",
      "974:\tlearn: 1079.6304076\ttest: 1448.3129961\tbest: 1443.4869876 (698)\ttotal: 2m 24s\tremaining: 3.7s\n",
      "975:\tlearn: 1079.4812138\ttest: 1448.3347785\tbest: 1443.4869876 (698)\ttotal: 2m 24s\tremaining: 3.55s\n",
      "976:\tlearn: 1079.3716321\ttest: 1448.4324448\tbest: 1443.4869876 (698)\ttotal: 2m 24s\tremaining: 3.4s\n",
      "977:\tlearn: 1079.2143039\ttest: 1448.5983066\tbest: 1443.4869876 (698)\ttotal: 2m 24s\tremaining: 3.25s\n",
      "978:\tlearn: 1079.0883884\ttest: 1448.5625705\tbest: 1443.4869876 (698)\ttotal: 2m 24s\tremaining: 3.1s\n",
      "979:\tlearn: 1078.9475843\ttest: 1448.5226714\tbest: 1443.4869876 (698)\ttotal: 2m 24s\tremaining: 2.96s\n",
      "980:\tlearn: 1078.6033572\ttest: 1448.7169568\tbest: 1443.4869876 (698)\ttotal: 2m 25s\tremaining: 2.81s\n",
      "981:\tlearn: 1078.4263937\ttest: 1448.6618540\tbest: 1443.4869876 (698)\ttotal: 2m 25s\tremaining: 2.66s\n",
      "982:\tlearn: 1078.2627596\ttest: 1448.6103006\tbest: 1443.4869876 (698)\ttotal: 2m 25s\tremaining: 2.51s\n",
      "983:\tlearn: 1078.0441952\ttest: 1448.6291369\tbest: 1443.4869876 (698)\ttotal: 2m 25s\tremaining: 2.37s\n",
      "984:\tlearn: 1077.7833737\ttest: 1448.5525864\tbest: 1443.4869876 (698)\ttotal: 2m 25s\tremaining: 2.22s\n",
      "985:\tlearn: 1077.5612627\ttest: 1448.6714171\tbest: 1443.4869876 (698)\ttotal: 2m 25s\tremaining: 2.07s\n",
      "986:\tlearn: 1077.3608299\ttest: 1448.7366796\tbest: 1443.4869876 (698)\ttotal: 2m 25s\tremaining: 1.92s\n",
      "987:\tlearn: 1077.3346447\ttest: 1448.7411818\tbest: 1443.4869876 (698)\ttotal: 2m 26s\tremaining: 1.77s\n",
      "988:\tlearn: 1077.1120474\ttest: 1448.6729072\tbest: 1443.4869876 (698)\ttotal: 2m 26s\tremaining: 1.63s\n",
      "989:\tlearn: 1076.7824125\ttest: 1448.5138309\tbest: 1443.4869876 (698)\ttotal: 2m 26s\tremaining: 1.48s\n",
      "990:\tlearn: 1076.7063088\ttest: 1448.4069304\tbest: 1443.4869876 (698)\ttotal: 2m 26s\tremaining: 1.33s\n",
      "991:\tlearn: 1076.5755751\ttest: 1448.5333676\tbest: 1443.4869876 (698)\ttotal: 2m 26s\tremaining: 1.18s\n",
      "992:\tlearn: 1076.4192309\ttest: 1448.5983478\tbest: 1443.4869876 (698)\ttotal: 2m 26s\tremaining: 1.03s\n",
      "993:\tlearn: 1076.2836556\ttest: 1448.7094009\tbest: 1443.4869876 (698)\ttotal: 2m 26s\tremaining: 887ms\n",
      "994:\tlearn: 1076.0125315\ttest: 1448.7990865\tbest: 1443.4869876 (698)\ttotal: 2m 27s\tremaining: 739ms\n",
      "995:\tlearn: 1075.8346130\ttest: 1448.8580593\tbest: 1443.4869876 (698)\ttotal: 2m 27s\tremaining: 591ms\n",
      "996:\tlearn: 1075.7110597\ttest: 1448.8584247\tbest: 1443.4869876 (698)\ttotal: 2m 27s\tremaining: 444ms\n",
      "997:\tlearn: 1075.5413186\ttest: 1448.9269664\tbest: 1443.4869876 (698)\ttotal: 2m 27s\tremaining: 296ms\n",
      "998:\tlearn: 1075.3130801\ttest: 1448.9532275\tbest: 1443.4869876 (698)\ttotal: 2m 27s\tremaining: 148ms\n",
      "999:\tlearn: 1074.9838123\ttest: 1448.8727517\tbest: 1443.4869876 (698)\ttotal: 2m 27s\tremaining: 0us\n",
      "\n",
      "bestTest = 1443.486988\n",
      "bestIteration = 698\n",
      "\n",
      "1:\tloss: 1443.4869876\tbest: 1438.4027353 (0)\ttotal: 4m 59s\tremaining: 2m 29s\n",
      "0:\tlearn: 2480.1782931\ttest: 2467.8141095\tbest: 2467.8141095 (0)\ttotal: 146ms\tremaining: 2m 26s\n",
      "1:\tlearn: 1942.8290986\ttest: 1939.1864778\tbest: 1939.1864778 (1)\ttotal: 292ms\tremaining: 2m 25s\n",
      "2:\tlearn: 1774.1819402\ttest: 1771.8664888\tbest: 1771.8664888 (2)\ttotal: 440ms\tremaining: 2m 26s\n",
      "3:\tlearn: 1719.4759972\ttest: 1723.8031287\tbest: 1723.8031287 (3)\ttotal: 584ms\tremaining: 2m 25s\n",
      "4:\tlearn: 1686.9333702\ttest: 1697.6809126\tbest: 1697.6809126 (4)\ttotal: 730ms\tremaining: 2m 25s\n",
      "5:\tlearn: 1659.5059990\ttest: 1671.2496267\tbest: 1671.2496267 (5)\ttotal: 875ms\tremaining: 2m 24s\n",
      "6:\tlearn: 1641.0209155\ttest: 1652.0232440\tbest: 1652.0232440 (6)\ttotal: 1.03s\tremaining: 2m 26s\n",
      "7:\tlearn: 1623.1945857\ttest: 1637.8539235\tbest: 1637.8539235 (7)\ttotal: 1.18s\tremaining: 2m 26s\n",
      "8:\tlearn: 1612.0929618\ttest: 1626.7657844\tbest: 1626.7657844 (8)\ttotal: 1.33s\tremaining: 2m 26s\n",
      "9:\tlearn: 1604.2043644\ttest: 1621.0111483\tbest: 1621.0111483 (9)\ttotal: 1.47s\tremaining: 2m 25s\n",
      "10:\tlearn: 1594.5633393\ttest: 1614.1281898\tbest: 1614.1281898 (10)\ttotal: 1.62s\tremaining: 2m 25s\n",
      "11:\tlearn: 1584.9381805\ttest: 1606.2136017\tbest: 1606.2136017 (11)\ttotal: 1.77s\tremaining: 2m 25s\n",
      "12:\tlearn: 1576.8346980\ttest: 1599.6154331\tbest: 1599.6154331 (12)\ttotal: 1.91s\tremaining: 2m 25s\n",
      "13:\tlearn: 1572.1216238\ttest: 1595.2709363\tbest: 1595.2709363 (13)\ttotal: 2.06s\tremaining: 2m 25s\n",
      "14:\tlearn: 1567.2610649\ttest: 1591.5563939\tbest: 1591.5563939 (14)\ttotal: 2.21s\tremaining: 2m 25s\n",
      "15:\tlearn: 1561.7233981\ttest: 1588.3091925\tbest: 1588.3091925 (15)\ttotal: 2.36s\tremaining: 2m 25s\n",
      "16:\tlearn: 1551.3554598\ttest: 1580.2470664\tbest: 1580.2470664 (16)\ttotal: 2.51s\tremaining: 2m 25s\n",
      "17:\tlearn: 1545.4394049\ttest: 1576.2509366\tbest: 1576.2509366 (17)\ttotal: 2.65s\tremaining: 2m 24s\n",
      "18:\tlearn: 1541.1445406\ttest: 1573.5185256\tbest: 1573.5185256 (18)\ttotal: 2.81s\tremaining: 2m 24s\n",
      "19:\tlearn: 1537.2197385\ttest: 1570.7932134\tbest: 1570.7932134 (19)\ttotal: 2.95s\tremaining: 2m 24s\n",
      "20:\tlearn: 1528.8516353\ttest: 1564.1693242\tbest: 1564.1693242 (20)\ttotal: 3.1s\tremaining: 2m 24s\n",
      "21:\tlearn: 1525.1592135\ttest: 1561.1245725\tbest: 1561.1245725 (21)\ttotal: 3.25s\tremaining: 2m 24s\n",
      "22:\tlearn: 1519.6172790\ttest: 1557.6972014\tbest: 1557.6972014 (22)\ttotal: 3.4s\tremaining: 2m 24s\n",
      "23:\tlearn: 1514.5219579\ttest: 1555.8133725\tbest: 1555.8133725 (23)\ttotal: 3.54s\tremaining: 2m 24s\n",
      "24:\tlearn: 1510.7988920\ttest: 1553.9225322\tbest: 1553.9225322 (24)\ttotal: 3.69s\tremaining: 2m 24s\n",
      "25:\tlearn: 1506.9141507\ttest: 1550.8649084\tbest: 1550.8649084 (25)\ttotal: 3.84s\tremaining: 2m 23s\n",
      "26:\tlearn: 1503.5778963\ttest: 1548.5985943\tbest: 1548.5985943 (26)\ttotal: 3.99s\tremaining: 2m 23s\n",
      "27:\tlearn: 1500.6165562\ttest: 1547.0540177\tbest: 1547.0540177 (27)\ttotal: 4.24s\tremaining: 2m 27s\n",
      "28:\tlearn: 1496.9603091\ttest: 1544.9283077\tbest: 1544.9283077 (28)\ttotal: 4.39s\tremaining: 2m 27s\n",
      "29:\tlearn: 1494.1908687\ttest: 1543.4001709\tbest: 1543.4001709 (29)\ttotal: 4.54s\tremaining: 2m 26s\n",
      "30:\tlearn: 1490.2542989\ttest: 1541.0044283\tbest: 1541.0044283 (30)\ttotal: 4.68s\tremaining: 2m 26s\n",
      "31:\tlearn: 1486.2069250\ttest: 1538.7678260\tbest: 1538.7678260 (31)\ttotal: 4.83s\tremaining: 2m 26s\n",
      "32:\tlearn: 1482.8414862\ttest: 1538.6554955\tbest: 1538.6554955 (32)\ttotal: 4.98s\tremaining: 2m 25s\n",
      "33:\tlearn: 1480.4814453\ttest: 1536.8151928\tbest: 1536.8151928 (33)\ttotal: 5.12s\tremaining: 2m 25s\n",
      "34:\tlearn: 1476.8749714\ttest: 1534.1705478\tbest: 1534.1705478 (34)\ttotal: 5.27s\tremaining: 2m 25s\n",
      "35:\tlearn: 1473.5573375\ttest: 1531.8561770\tbest: 1531.8561770 (35)\ttotal: 5.43s\tremaining: 2m 25s\n",
      "36:\tlearn: 1471.0084620\ttest: 1530.2886461\tbest: 1530.2886461 (36)\ttotal: 5.58s\tremaining: 2m 25s\n",
      "37:\tlearn: 1467.9926141\ttest: 1528.8840947\tbest: 1528.8840947 (37)\ttotal: 5.73s\tremaining: 2m 25s\n",
      "38:\tlearn: 1466.1966385\ttest: 1528.1786354\tbest: 1528.1786354 (38)\ttotal: 5.88s\tremaining: 2m 24s\n",
      "39:\tlearn: 1464.0325465\ttest: 1526.9617310\tbest: 1526.9617310 (39)\ttotal: 6.03s\tremaining: 2m 24s\n",
      "40:\tlearn: 1460.9608509\ttest: 1525.3125616\tbest: 1525.3125616 (40)\ttotal: 6.18s\tremaining: 2m 24s\n",
      "41:\tlearn: 1457.1181887\ttest: 1522.8835595\tbest: 1522.8835595 (41)\ttotal: 6.32s\tremaining: 2m 24s\n",
      "42:\tlearn: 1455.3699467\ttest: 1521.7713171\tbest: 1521.7713171 (42)\ttotal: 6.47s\tremaining: 2m 24s\n",
      "43:\tlearn: 1453.1421605\ttest: 1520.8282659\tbest: 1520.8282659 (43)\ttotal: 6.62s\tremaining: 2m 23s\n",
      "44:\tlearn: 1450.9502534\ttest: 1519.7623741\tbest: 1519.7623741 (44)\ttotal: 6.77s\tremaining: 2m 23s\n",
      "45:\tlearn: 1447.2318751\ttest: 1516.3703361\tbest: 1516.3703361 (45)\ttotal: 6.92s\tremaining: 2m 23s\n",
      "46:\tlearn: 1444.8512986\ttest: 1515.3446058\tbest: 1515.3446058 (46)\ttotal: 7.07s\tremaining: 2m 23s\n",
      "47:\tlearn: 1443.2083271\ttest: 1514.8274249\tbest: 1514.8274249 (47)\ttotal: 7.22s\tremaining: 2m 23s\n",
      "48:\tlearn: 1440.9466772\ttest: 1513.2358430\tbest: 1513.2358430 (48)\ttotal: 7.37s\tremaining: 2m 23s\n",
      "49:\tlearn: 1438.9084553\ttest: 1513.2224904\tbest: 1513.2224904 (49)\ttotal: 7.52s\tremaining: 2m 22s\n",
      "50:\tlearn: 1436.3867000\ttest: 1512.7695014\tbest: 1512.7695014 (50)\ttotal: 7.67s\tremaining: 2m 22s\n",
      "51:\tlearn: 1433.8791087\ttest: 1511.4364866\tbest: 1511.4364866 (51)\ttotal: 7.82s\tremaining: 2m 22s\n",
      "52:\tlearn: 1431.7648088\ttest: 1510.2545132\tbest: 1510.2545132 (52)\ttotal: 7.96s\tremaining: 2m 22s\n",
      "53:\tlearn: 1429.5293688\ttest: 1509.3364822\tbest: 1509.3364822 (53)\ttotal: 8.11s\tremaining: 2m 22s\n",
      "54:\tlearn: 1427.6193417\ttest: 1508.1197403\tbest: 1508.1197403 (54)\ttotal: 8.26s\tremaining: 2m 21s\n",
      "55:\tlearn: 1426.0460427\ttest: 1506.8777917\tbest: 1506.8777917 (55)\ttotal: 8.4s\tremaining: 2m 21s\n",
      "56:\tlearn: 1424.1939050\ttest: 1505.1756386\tbest: 1505.1756386 (56)\ttotal: 8.55s\tremaining: 2m 21s\n",
      "57:\tlearn: 1422.9866055\ttest: 1504.7760935\tbest: 1504.7760935 (57)\ttotal: 8.7s\tremaining: 2m 21s\n",
      "58:\tlearn: 1420.7595023\ttest: 1503.6650942\tbest: 1503.6650942 (58)\ttotal: 8.85s\tremaining: 2m 21s\n",
      "59:\tlearn: 1418.6906650\ttest: 1503.1823431\tbest: 1503.1823431 (59)\ttotal: 8.99s\tremaining: 2m 20s\n",
      "60:\tlearn: 1416.8689652\ttest: 1502.0478731\tbest: 1502.0478731 (60)\ttotal: 9.23s\tremaining: 2m 22s\n",
      "61:\tlearn: 1414.5127316\ttest: 1501.4215544\tbest: 1501.4215544 (61)\ttotal: 9.37s\tremaining: 2m 21s\n",
      "62:\tlearn: 1413.2429245\ttest: 1500.8387875\tbest: 1500.8387875 (62)\ttotal: 9.52s\tremaining: 2m 21s\n",
      "63:\tlearn: 1411.3015312\ttest: 1499.7736892\tbest: 1499.7736892 (63)\ttotal: 9.66s\tremaining: 2m 21s\n",
      "64:\tlearn: 1409.7705564\ttest: 1499.6911204\tbest: 1499.6911204 (64)\ttotal: 9.81s\tremaining: 2m 21s\n",
      "65:\tlearn: 1408.2108398\ttest: 1499.2600310\tbest: 1499.2600310 (65)\ttotal: 9.96s\tremaining: 2m 20s\n",
      "66:\tlearn: 1406.0119834\ttest: 1498.1303389\tbest: 1498.1303389 (66)\ttotal: 10.1s\tremaining: 2m 20s\n",
      "67:\tlearn: 1404.0252737\ttest: 1497.0293464\tbest: 1497.0293464 (67)\ttotal: 10.3s\tremaining: 2m 20s\n",
      "68:\tlearn: 1401.6007402\ttest: 1496.4812335\tbest: 1496.4812335 (68)\ttotal: 10.4s\tremaining: 2m 20s\n",
      "69:\tlearn: 1400.2455333\ttest: 1496.0883830\tbest: 1496.0883830 (69)\ttotal: 10.5s\tremaining: 2m 20s\n",
      "70:\tlearn: 1398.8284605\ttest: 1496.2907664\tbest: 1496.0883830 (69)\ttotal: 10.7s\tremaining: 2m 19s\n",
      "71:\tlearn: 1396.8894248\ttest: 1494.8325828\tbest: 1494.8325828 (71)\ttotal: 10.8s\tremaining: 2m 19s\n",
      "72:\tlearn: 1395.0613229\ttest: 1494.2861785\tbest: 1494.2861785 (72)\ttotal: 11s\tremaining: 2m 19s\n",
      "73:\tlearn: 1393.0205714\ttest: 1493.7312616\tbest: 1493.7312616 (73)\ttotal: 11.1s\tremaining: 2m 19s\n",
      "74:\tlearn: 1391.4610864\ttest: 1493.3589103\tbest: 1493.3589103 (74)\ttotal: 11.3s\tremaining: 2m 19s\n",
      "75:\tlearn: 1388.7481546\ttest: 1492.3704245\tbest: 1492.3704245 (75)\ttotal: 11.4s\tremaining: 2m 18s\n",
      "76:\tlearn: 1387.1815618\ttest: 1492.3430608\tbest: 1492.3430608 (76)\ttotal: 11.6s\tremaining: 2m 18s\n",
      "77:\tlearn: 1384.7890144\ttest: 1491.9116101\tbest: 1491.9116101 (77)\ttotal: 11.7s\tremaining: 2m 18s\n",
      "78:\tlearn: 1383.1241162\ttest: 1491.2018972\tbest: 1491.2018972 (78)\ttotal: 11.8s\tremaining: 2m 18s\n",
      "79:\tlearn: 1381.5773933\ttest: 1490.1232746\tbest: 1490.1232746 (79)\ttotal: 12s\tremaining: 2m 17s\n",
      "80:\tlearn: 1380.3618870\ttest: 1489.9890737\tbest: 1489.9890737 (80)\ttotal: 12.1s\tremaining: 2m 17s\n",
      "81:\tlearn: 1378.5466805\ttest: 1489.8877590\tbest: 1489.8877590 (81)\ttotal: 12.3s\tremaining: 2m 17s\n",
      "82:\tlearn: 1377.2493234\ttest: 1489.3256482\tbest: 1489.3256482 (82)\ttotal: 12.4s\tremaining: 2m 17s\n",
      "83:\tlearn: 1376.6351763\ttest: 1489.2797958\tbest: 1489.2797958 (83)\ttotal: 12.6s\tremaining: 2m 17s\n",
      "84:\tlearn: 1374.0843974\ttest: 1488.2410811\tbest: 1488.2410811 (84)\ttotal: 12.7s\tremaining: 2m 17s\n",
      "85:\tlearn: 1372.8294877\ttest: 1487.7218515\tbest: 1487.7218515 (85)\ttotal: 12.9s\tremaining: 2m 16s\n",
      "86:\tlearn: 1371.8472657\ttest: 1487.5802948\tbest: 1487.5802948 (86)\ttotal: 13s\tremaining: 2m 16s\n",
      "87:\tlearn: 1370.9420058\ttest: 1487.2803231\tbest: 1487.2803231 (87)\ttotal: 13.2s\tremaining: 2m 16s\n",
      "88:\tlearn: 1369.5586474\ttest: 1486.8248943\tbest: 1486.8248943 (88)\ttotal: 13.3s\tremaining: 2m 16s\n",
      "89:\tlearn: 1368.7128701\ttest: 1486.7762107\tbest: 1486.7762107 (89)\ttotal: 13.5s\tremaining: 2m 16s\n",
      "90:\tlearn: 1367.5864603\ttest: 1486.4635742\tbest: 1486.4635742 (90)\ttotal: 13.6s\tremaining: 2m 15s\n",
      "91:\tlearn: 1366.5247727\ttest: 1485.6471387\tbest: 1485.6471387 (91)\ttotal: 13.7s\tremaining: 2m 15s\n",
      "92:\tlearn: 1365.3775041\ttest: 1485.7264711\tbest: 1485.6471387 (91)\ttotal: 13.9s\tremaining: 2m 15s\n",
      "93:\tlearn: 1364.5929241\ttest: 1485.5352525\tbest: 1485.5352525 (93)\ttotal: 14s\tremaining: 2m 15s\n",
      "94:\tlearn: 1362.8066408\ttest: 1485.7769202\tbest: 1485.5352525 (93)\ttotal: 14.2s\tremaining: 2m 15s\n",
      "95:\tlearn: 1361.8167978\ttest: 1485.3261895\tbest: 1485.3261895 (95)\ttotal: 14.3s\tremaining: 2m 14s\n",
      "96:\tlearn: 1360.9975679\ttest: 1485.4951201\tbest: 1485.3261895 (95)\ttotal: 14.5s\tremaining: 2m 14s\n",
      "97:\tlearn: 1359.3499737\ttest: 1485.0079250\tbest: 1485.0079250 (97)\ttotal: 14.6s\tremaining: 2m 14s\n",
      "98:\tlearn: 1358.0957487\ttest: 1484.4157832\tbest: 1484.4157832 (98)\ttotal: 14.8s\tremaining: 2m 14s\n",
      "99:\tlearn: 1356.7520813\ttest: 1484.0331064\tbest: 1484.0331064 (99)\ttotal: 14.9s\tremaining: 2m 14s\n",
      "100:\tlearn: 1355.6798855\ttest: 1483.3698690\tbest: 1483.3698690 (100)\ttotal: 15.1s\tremaining: 2m 14s\n",
      "101:\tlearn: 1355.1357661\ttest: 1483.4043969\tbest: 1483.3698690 (100)\ttotal: 15.2s\tremaining: 2m 13s\n",
      "102:\tlearn: 1353.5712914\ttest: 1483.0174343\tbest: 1483.0174343 (102)\ttotal: 15.4s\tremaining: 2m 13s\n",
      "103:\tlearn: 1352.5547345\ttest: 1482.5459267\tbest: 1482.5459267 (103)\ttotal: 15.5s\tremaining: 2m 13s\n",
      "104:\tlearn: 1351.8227897\ttest: 1482.7959183\tbest: 1482.5459267 (103)\ttotal: 15.7s\tremaining: 2m 13s\n",
      "105:\tlearn: 1351.3325255\ttest: 1482.5283086\tbest: 1482.5283086 (105)\ttotal: 15.8s\tremaining: 2m 13s\n",
      "106:\tlearn: 1349.4766646\ttest: 1481.3518967\tbest: 1481.3518967 (106)\ttotal: 16s\tremaining: 2m 13s\n",
      "107:\tlearn: 1348.5877985\ttest: 1481.3395091\tbest: 1481.3395091 (107)\ttotal: 16.1s\tremaining: 2m 13s\n",
      "108:\tlearn: 1346.7164448\ttest: 1480.7401416\tbest: 1480.7401416 (108)\ttotal: 16.3s\tremaining: 2m 12s\n",
      "109:\tlearn: 1345.1339733\ttest: 1480.8396365\tbest: 1480.7401416 (108)\ttotal: 16.4s\tremaining: 2m 12s\n",
      "110:\tlearn: 1342.4462486\ttest: 1480.6516053\tbest: 1480.6516053 (110)\ttotal: 16.5s\tremaining: 2m 12s\n",
      "111:\tlearn: 1340.6589156\ttest: 1480.2934752\tbest: 1480.2934752 (111)\ttotal: 16.7s\tremaining: 2m 12s\n",
      "112:\tlearn: 1339.1689062\ttest: 1480.3143300\tbest: 1480.2934752 (111)\ttotal: 16.8s\tremaining: 2m 12s\n",
      "113:\tlearn: 1337.9737171\ttest: 1480.2689052\tbest: 1480.2689052 (113)\ttotal: 17s\tremaining: 2m 11s\n",
      "114:\tlearn: 1336.7615630\ttest: 1479.7006156\tbest: 1479.7006156 (114)\ttotal: 17.2s\tremaining: 2m 12s\n",
      "115:\tlearn: 1335.7108545\ttest: 1479.4645471\tbest: 1479.4645471 (115)\ttotal: 17.3s\tremaining: 2m 11s\n",
      "116:\tlearn: 1334.7070003\ttest: 1479.1347672\tbest: 1479.1347672 (116)\ttotal: 17.5s\tremaining: 2m 11s\n",
      "117:\tlearn: 1333.7854305\ttest: 1479.2999370\tbest: 1479.1347672 (116)\ttotal: 17.6s\tremaining: 2m 11s\n",
      "118:\tlearn: 1332.6016720\ttest: 1479.4709897\tbest: 1479.1347672 (116)\ttotal: 17.8s\tremaining: 2m 11s\n",
      "119:\tlearn: 1331.4343939\ttest: 1479.8432606\tbest: 1479.1347672 (116)\ttotal: 18s\tremaining: 2m 12s\n",
      "120:\tlearn: 1329.9382262\ttest: 1479.7016171\tbest: 1479.1347672 (116)\ttotal: 18.2s\tremaining: 2m 11s\n",
      "121:\tlearn: 1328.0714912\ttest: 1480.1759328\tbest: 1479.1347672 (116)\ttotal: 18.3s\tremaining: 2m 11s\n",
      "122:\tlearn: 1326.5824773\ttest: 1480.1090578\tbest: 1479.1347672 (116)\ttotal: 18.4s\tremaining: 2m 11s\n",
      "123:\tlearn: 1325.3496657\ttest: 1479.6989610\tbest: 1479.1347672 (116)\ttotal: 18.6s\tremaining: 2m 11s\n",
      "124:\tlearn: 1324.4256716\ttest: 1479.3368412\tbest: 1479.1347672 (116)\ttotal: 18.7s\tremaining: 2m 11s\n",
      "125:\tlearn: 1323.0851247\ttest: 1479.1476185\tbest: 1479.1347672 (116)\ttotal: 18.9s\tremaining: 2m 10s\n",
      "126:\tlearn: 1322.1633540\ttest: 1479.4299886\tbest: 1479.1347672 (116)\ttotal: 19s\tremaining: 2m 10s\n",
      "127:\tlearn: 1321.2629231\ttest: 1479.2573402\tbest: 1479.1347672 (116)\ttotal: 19.2s\tremaining: 2m 10s\n",
      "128:\tlearn: 1320.3929279\ttest: 1478.7186330\tbest: 1478.7186330 (128)\ttotal: 19.3s\tremaining: 2m 10s\n",
      "129:\tlearn: 1318.7945860\ttest: 1478.8700185\tbest: 1478.7186330 (128)\ttotal: 19.5s\tremaining: 2m 10s\n",
      "130:\tlearn: 1318.3684725\ttest: 1478.7301066\tbest: 1478.7186330 (128)\ttotal: 19.6s\tremaining: 2m 10s\n",
      "131:\tlearn: 1317.5150412\ttest: 1478.5990023\tbest: 1478.5990023 (131)\ttotal: 19.7s\tremaining: 2m 9s\n",
      "132:\tlearn: 1316.7400041\ttest: 1478.2687254\tbest: 1478.2687254 (132)\ttotal: 19.9s\tremaining: 2m 9s\n",
      "133:\tlearn: 1315.9202989\ttest: 1478.2344660\tbest: 1478.2344660 (133)\ttotal: 20s\tremaining: 2m 9s\n",
      "134:\tlearn: 1314.8908131\ttest: 1478.0987961\tbest: 1478.0987961 (134)\ttotal: 20.2s\tremaining: 2m 9s\n",
      "135:\tlearn: 1314.3365541\ttest: 1477.9632195\tbest: 1477.9632195 (135)\ttotal: 20.3s\tremaining: 2m 9s\n",
      "136:\tlearn: 1312.7326512\ttest: 1478.1737227\tbest: 1477.9632195 (135)\ttotal: 20.5s\tremaining: 2m 8s\n",
      "137:\tlearn: 1311.6311331\ttest: 1477.8751638\tbest: 1477.8751638 (137)\ttotal: 20.6s\tremaining: 2m 8s\n",
      "138:\tlearn: 1310.4171822\ttest: 1478.3530446\tbest: 1477.8751638 (137)\ttotal: 20.8s\tremaining: 2m 8s\n",
      "139:\tlearn: 1309.7115507\ttest: 1478.3067859\tbest: 1477.8751638 (137)\ttotal: 20.9s\tremaining: 2m 8s\n",
      "140:\tlearn: 1308.5454965\ttest: 1478.1239353\tbest: 1477.8751638 (137)\ttotal: 21.1s\tremaining: 2m 8s\n",
      "141:\tlearn: 1308.4800963\ttest: 1478.1759523\tbest: 1477.8751638 (137)\ttotal: 21.2s\tremaining: 2m 8s\n",
      "142:\tlearn: 1307.2741363\ttest: 1478.2497331\tbest: 1477.8751638 (137)\ttotal: 21.4s\tremaining: 2m 8s\n",
      "143:\tlearn: 1306.0166276\ttest: 1478.7569555\tbest: 1477.8751638 (137)\ttotal: 21.5s\tremaining: 2m 7s\n",
      "144:\tlearn: 1305.4267087\ttest: 1479.0252273\tbest: 1477.8751638 (137)\ttotal: 21.7s\tremaining: 2m 7s\n",
      "145:\tlearn: 1304.1639814\ttest: 1479.7384094\tbest: 1477.8751638 (137)\ttotal: 21.8s\tremaining: 2m 7s\n",
      "146:\tlearn: 1303.7996832\ttest: 1479.8590641\tbest: 1477.8751638 (137)\ttotal: 22s\tremaining: 2m 7s\n",
      "147:\tlearn: 1302.3072398\ttest: 1479.8404154\tbest: 1477.8751638 (137)\ttotal: 22.1s\tremaining: 2m 7s\n",
      "148:\tlearn: 1301.2931099\ttest: 1479.8680894\tbest: 1477.8751638 (137)\ttotal: 22.3s\tremaining: 2m 7s\n",
      "149:\tlearn: 1300.2830996\ttest: 1479.9414757\tbest: 1477.8751638 (137)\ttotal: 22.5s\tremaining: 2m 7s\n",
      "150:\tlearn: 1299.0517750\ttest: 1479.9147766\tbest: 1477.8751638 (137)\ttotal: 22.6s\tremaining: 2m 7s\n",
      "151:\tlearn: 1297.8940935\ttest: 1479.1953907\tbest: 1477.8751638 (137)\ttotal: 22.8s\tremaining: 2m 6s\n",
      "152:\tlearn: 1297.3142221\ttest: 1479.1940324\tbest: 1477.8751638 (137)\ttotal: 22.9s\tremaining: 2m 6s\n",
      "153:\tlearn: 1296.7397951\ttest: 1478.8606648\tbest: 1477.8751638 (137)\ttotal: 23s\tremaining: 2m 6s\n",
      "154:\tlearn: 1295.5499187\ttest: 1478.6971734\tbest: 1477.8751638 (137)\ttotal: 23.2s\tremaining: 2m 6s\n",
      "155:\tlearn: 1293.6652871\ttest: 1478.8698661\tbest: 1477.8751638 (137)\ttotal: 23.3s\tremaining: 2m 6s\n",
      "156:\tlearn: 1293.0498117\ttest: 1478.8261769\tbest: 1477.8751638 (137)\ttotal: 23.5s\tremaining: 2m 6s\n",
      "157:\tlearn: 1292.5163036\ttest: 1478.9222155\tbest: 1477.8751638 (137)\ttotal: 23.6s\tremaining: 2m 5s\n",
      "158:\tlearn: 1291.7423343\ttest: 1478.6317219\tbest: 1477.8751638 (137)\ttotal: 23.8s\tremaining: 2m 5s\n",
      "159:\tlearn: 1290.9742730\ttest: 1478.8672098\tbest: 1477.8751638 (137)\ttotal: 23.9s\tremaining: 2m 5s\n",
      "160:\tlearn: 1289.9055195\ttest: 1478.6735933\tbest: 1477.8751638 (137)\ttotal: 24.1s\tremaining: 2m 5s\n",
      "161:\tlearn: 1289.3508835\ttest: 1478.5268781\tbest: 1477.8751638 (137)\ttotal: 24.2s\tremaining: 2m 5s\n",
      "162:\tlearn: 1288.6389450\ttest: 1478.6095855\tbest: 1477.8751638 (137)\ttotal: 24.4s\tremaining: 2m 5s\n",
      "163:\tlearn: 1287.7543158\ttest: 1478.6430973\tbest: 1477.8751638 (137)\ttotal: 24.5s\tremaining: 2m 4s\n",
      "164:\tlearn: 1286.4644982\ttest: 1478.5370918\tbest: 1477.8751638 (137)\ttotal: 24.7s\tremaining: 2m 4s\n",
      "165:\tlearn: 1285.7898107\ttest: 1477.6619568\tbest: 1477.6619568 (165)\ttotal: 24.8s\tremaining: 2m 4s\n",
      "166:\tlearn: 1284.5033737\ttest: 1477.5674512\tbest: 1477.5674512 (166)\ttotal: 25s\tremaining: 2m 4s\n",
      "167:\tlearn: 1283.4927041\ttest: 1477.2971048\tbest: 1477.2971048 (167)\ttotal: 25.1s\tremaining: 2m 4s\n",
      "168:\tlearn: 1282.7688909\ttest: 1476.9226642\tbest: 1476.9226642 (168)\ttotal: 25.3s\tremaining: 2m 4s\n",
      "169:\tlearn: 1282.0850081\ttest: 1477.0133118\tbest: 1476.9226642 (168)\ttotal: 25.4s\tremaining: 2m 4s\n",
      "170:\tlearn: 1281.4770812\ttest: 1476.8615220\tbest: 1476.8615220 (170)\ttotal: 25.6s\tremaining: 2m 4s\n",
      "171:\tlearn: 1280.0285144\ttest: 1476.2835655\tbest: 1476.2835655 (171)\ttotal: 25.7s\tremaining: 2m 3s\n",
      "172:\tlearn: 1279.1662260\ttest: 1476.0951928\tbest: 1476.0951928 (172)\ttotal: 25.9s\tremaining: 2m 3s\n",
      "173:\tlearn: 1278.3802552\ttest: 1476.0421304\tbest: 1476.0421304 (173)\ttotal: 26s\tremaining: 2m 3s\n",
      "174:\tlearn: 1277.0260340\ttest: 1475.7171034\tbest: 1475.7171034 (174)\ttotal: 26.2s\tremaining: 2m 3s\n",
      "175:\tlearn: 1275.8520392\ttest: 1475.1337161\tbest: 1475.1337161 (175)\ttotal: 26.3s\tremaining: 2m 3s\n",
      "176:\tlearn: 1274.6725045\ttest: 1475.1867419\tbest: 1475.1337161 (175)\ttotal: 26.5s\tremaining: 2m 3s\n",
      "177:\tlearn: 1274.0126550\ttest: 1474.9711512\tbest: 1474.9711512 (177)\ttotal: 26.6s\tremaining: 2m 3s\n",
      "178:\tlearn: 1273.4639287\ttest: 1474.9287061\tbest: 1474.9287061 (178)\ttotal: 26.8s\tremaining: 2m 2s\n",
      "179:\tlearn: 1272.7558804\ttest: 1474.8270174\tbest: 1474.8270174 (179)\ttotal: 26.9s\tremaining: 2m 2s\n",
      "180:\tlearn: 1271.7112661\ttest: 1474.6909762\tbest: 1474.6909762 (180)\ttotal: 27.1s\tremaining: 2m 2s\n",
      "181:\tlearn: 1270.9043245\ttest: 1474.4133177\tbest: 1474.4133177 (181)\ttotal: 27.3s\tremaining: 2m 2s\n",
      "182:\tlearn: 1269.9004146\ttest: 1474.4836510\tbest: 1474.4133177 (181)\ttotal: 27.4s\tremaining: 2m 2s\n",
      "183:\tlearn: 1268.6499235\ttest: 1474.1954394\tbest: 1474.1954394 (183)\ttotal: 27.6s\tremaining: 2m 2s\n",
      "184:\tlearn: 1267.8779593\ttest: 1474.2990763\tbest: 1474.1954394 (183)\ttotal: 27.7s\tremaining: 2m 2s\n",
      "185:\tlearn: 1267.0582730\ttest: 1474.0525329\tbest: 1474.0525329 (185)\ttotal: 27.9s\tremaining: 2m 1s\n",
      "186:\tlearn: 1266.2836466\ttest: 1474.0679936\tbest: 1474.0525329 (185)\ttotal: 28s\tremaining: 2m 1s\n",
      "187:\tlearn: 1265.2598218\ttest: 1474.0403010\tbest: 1474.0403010 (187)\ttotal: 28.2s\tremaining: 2m 1s\n",
      "188:\tlearn: 1264.6903276\ttest: 1473.6525461\tbest: 1473.6525461 (188)\ttotal: 28.3s\tremaining: 2m 1s\n",
      "189:\tlearn: 1263.9793187\ttest: 1473.6592201\tbest: 1473.6525461 (188)\ttotal: 28.4s\tremaining: 2m 1s\n",
      "190:\tlearn: 1262.9754066\ttest: 1473.1750349\tbest: 1473.1750349 (190)\ttotal: 28.6s\tremaining: 2m 1s\n",
      "191:\tlearn: 1261.8851294\ttest: 1473.0580470\tbest: 1473.0580470 (191)\ttotal: 28.7s\tremaining: 2m\n",
      "192:\tlearn: 1261.3802265\ttest: 1472.8391876\tbest: 1472.8391876 (192)\ttotal: 28.9s\tremaining: 2m\n",
      "193:\tlearn: 1260.3758767\ttest: 1472.7010131\tbest: 1472.7010131 (193)\ttotal: 29s\tremaining: 2m\n",
      "194:\tlearn: 1259.7165055\ttest: 1472.7328320\tbest: 1472.7010131 (193)\ttotal: 29.2s\tremaining: 2m\n",
      "195:\tlearn: 1259.1100406\ttest: 1473.1464181\tbest: 1472.7010131 (193)\ttotal: 29.3s\tremaining: 2m\n",
      "196:\tlearn: 1258.6586175\ttest: 1473.1112188\tbest: 1472.7010131 (193)\ttotal: 29.5s\tremaining: 2m\n",
      "197:\tlearn: 1258.3235986\ttest: 1472.9287516\tbest: 1472.7010131 (193)\ttotal: 29.6s\tremaining: 1m 59s\n",
      "198:\tlearn: 1257.4377966\ttest: 1473.0093618\tbest: 1472.7010131 (193)\ttotal: 29.7s\tremaining: 1m 59s\n",
      "199:\tlearn: 1256.7115262\ttest: 1472.8448454\tbest: 1472.7010131 (193)\ttotal: 29.9s\tremaining: 1m 59s\n",
      "200:\tlearn: 1256.2253609\ttest: 1472.4498597\tbest: 1472.4498597 (200)\ttotal: 30s\tremaining: 1m 59s\n",
      "201:\tlearn: 1255.7348997\ttest: 1472.2933766\tbest: 1472.2933766 (201)\ttotal: 30.2s\tremaining: 1m 59s\n",
      "202:\tlearn: 1254.5012872\ttest: 1472.3706062\tbest: 1472.2933766 (201)\ttotal: 30.3s\tremaining: 1m 59s\n",
      "203:\tlearn: 1253.2205052\ttest: 1472.2442581\tbest: 1472.2442581 (203)\ttotal: 30.5s\tremaining: 1m 58s\n",
      "204:\tlearn: 1252.6176650\ttest: 1471.9652079\tbest: 1471.9652079 (204)\ttotal: 30.6s\tremaining: 1m 58s\n",
      "205:\tlearn: 1251.6734856\ttest: 1472.4290330\tbest: 1471.9652079 (204)\ttotal: 30.8s\tremaining: 1m 58s\n",
      "206:\tlearn: 1251.0534057\ttest: 1472.7718425\tbest: 1471.9652079 (204)\ttotal: 30.9s\tremaining: 1m 58s\n",
      "207:\tlearn: 1250.7849365\ttest: 1472.7281529\tbest: 1471.9652079 (204)\ttotal: 31.1s\tremaining: 1m 58s\n",
      "208:\tlearn: 1250.4694676\ttest: 1472.9190914\tbest: 1471.9652079 (204)\ttotal: 31.2s\tremaining: 1m 58s\n",
      "209:\tlearn: 1249.6572541\ttest: 1473.1341197\tbest: 1471.9652079 (204)\ttotal: 31.3s\tremaining: 1m 57s\n",
      "210:\tlearn: 1248.7143365\ttest: 1472.9216280\tbest: 1471.9652079 (204)\ttotal: 31.5s\tremaining: 1m 57s\n",
      "211:\tlearn: 1248.0917363\ttest: 1472.8623805\tbest: 1471.9652079 (204)\ttotal: 31.6s\tremaining: 1m 57s\n",
      "212:\tlearn: 1247.4418896\ttest: 1472.6584610\tbest: 1471.9652079 (204)\ttotal: 31.8s\tremaining: 1m 57s\n",
      "213:\tlearn: 1246.8615486\ttest: 1472.2730567\tbest: 1471.9652079 (204)\ttotal: 31.9s\tremaining: 1m 57s\n",
      "214:\tlearn: 1246.3246682\ttest: 1472.4061535\tbest: 1471.9652079 (204)\ttotal: 32.1s\tremaining: 1m 57s\n",
      "215:\tlearn: 1245.6465234\ttest: 1471.9912200\tbest: 1471.9652079 (204)\ttotal: 32.2s\tremaining: 1m 56s\n",
      "216:\tlearn: 1244.9580870\ttest: 1471.8712761\tbest: 1471.8712761 (216)\ttotal: 32.4s\tremaining: 1m 56s\n",
      "217:\tlearn: 1244.5481763\ttest: 1471.5386896\tbest: 1471.5386896 (217)\ttotal: 32.5s\tremaining: 1m 56s\n",
      "218:\tlearn: 1243.6783289\ttest: 1471.5775336\tbest: 1471.5386896 (217)\ttotal: 32.6s\tremaining: 1m 56s\n",
      "219:\tlearn: 1241.5171288\ttest: 1471.8790583\tbest: 1471.5386896 (217)\ttotal: 32.8s\tremaining: 1m 56s\n",
      "220:\tlearn: 1241.0400645\ttest: 1472.0898815\tbest: 1471.5386896 (217)\ttotal: 32.9s\tremaining: 1m 56s\n",
      "221:\tlearn: 1240.5359990\ttest: 1472.2811961\tbest: 1471.5386896 (217)\ttotal: 33.1s\tremaining: 1m 55s\n",
      "222:\tlearn: 1240.0480177\ttest: 1472.2751664\tbest: 1471.5386896 (217)\ttotal: 33.2s\tremaining: 1m 55s\n",
      "223:\tlearn: 1239.2786400\ttest: 1472.8633738\tbest: 1471.5386896 (217)\ttotal: 33.4s\tremaining: 1m 55s\n",
      "224:\tlearn: 1238.5213856\ttest: 1472.4811473\tbest: 1471.5386896 (217)\ttotal: 33.5s\tremaining: 1m 55s\n",
      "225:\tlearn: 1237.5588928\ttest: 1472.3474717\tbest: 1471.5386896 (217)\ttotal: 33.7s\tremaining: 1m 55s\n",
      "226:\tlearn: 1237.4873066\ttest: 1472.2832465\tbest: 1471.5386896 (217)\ttotal: 33.8s\tremaining: 1m 55s\n",
      "227:\tlearn: 1237.3338564\ttest: 1472.2404400\tbest: 1471.5386896 (217)\ttotal: 34s\tremaining: 1m 54s\n",
      "228:\tlearn: 1237.2302374\ttest: 1472.1099247\tbest: 1471.5386896 (217)\ttotal: 34.1s\tremaining: 1m 54s\n",
      "229:\tlearn: 1236.7595086\ttest: 1471.7960451\tbest: 1471.5386896 (217)\ttotal: 34.3s\tremaining: 1m 54s\n",
      "230:\tlearn: 1235.9881148\ttest: 1471.8021457\tbest: 1471.5386896 (217)\ttotal: 34.4s\tremaining: 1m 54s\n",
      "231:\tlearn: 1235.5151686\ttest: 1471.8489682\tbest: 1471.5386896 (217)\ttotal: 34.6s\tremaining: 1m 54s\n",
      "232:\tlearn: 1234.7709251\ttest: 1472.4160556\tbest: 1471.5386896 (217)\ttotal: 34.7s\tremaining: 1m 54s\n",
      "233:\tlearn: 1234.2516367\ttest: 1472.7174886\tbest: 1471.5386896 (217)\ttotal: 34.9s\tremaining: 1m 54s\n",
      "234:\tlearn: 1233.6696566\ttest: 1472.6616881\tbest: 1471.5386896 (217)\ttotal: 35s\tremaining: 1m 53s\n",
      "235:\tlearn: 1232.7351666\ttest: 1472.7590054\tbest: 1471.5386896 (217)\ttotal: 35.2s\tremaining: 1m 53s\n",
      "236:\tlearn: 1231.9935846\ttest: 1472.5358290\tbest: 1471.5386896 (217)\ttotal: 35.3s\tremaining: 1m 53s\n",
      "237:\tlearn: 1231.1743239\ttest: 1472.3290059\tbest: 1471.5386896 (217)\ttotal: 35.5s\tremaining: 1m 53s\n",
      "238:\tlearn: 1230.3753243\ttest: 1472.1639715\tbest: 1471.5386896 (217)\ttotal: 35.6s\tremaining: 1m 53s\n",
      "239:\tlearn: 1229.8359305\ttest: 1472.3579243\tbest: 1471.5386896 (217)\ttotal: 35.8s\tremaining: 1m 53s\n",
      "240:\tlearn: 1229.0034784\ttest: 1472.6069905\tbest: 1471.5386896 (217)\ttotal: 35.9s\tremaining: 1m 53s\n",
      "241:\tlearn: 1228.1629147\ttest: 1472.7447907\tbest: 1471.5386896 (217)\ttotal: 36.1s\tremaining: 1m 53s\n",
      "242:\tlearn: 1227.5268508\ttest: 1472.4167810\tbest: 1471.5386896 (217)\ttotal: 36.3s\tremaining: 1m 53s\n",
      "243:\tlearn: 1226.4222433\ttest: 1472.5917852\tbest: 1471.5386896 (217)\ttotal: 36.5s\tremaining: 1m 53s\n",
      "244:\tlearn: 1225.5545984\ttest: 1472.8118625\tbest: 1471.5386896 (217)\ttotal: 36.7s\tremaining: 1m 52s\n",
      "245:\tlearn: 1225.0139577\ttest: 1472.8867797\tbest: 1471.5386896 (217)\ttotal: 36.9s\tremaining: 1m 52s\n",
      "246:\tlearn: 1224.4342258\ttest: 1472.6872428\tbest: 1471.5386896 (217)\ttotal: 37s\tremaining: 1m 52s\n",
      "247:\tlearn: 1223.9780635\ttest: 1472.8489146\tbest: 1471.5386896 (217)\ttotal: 37.2s\tremaining: 1m 52s\n",
      "248:\tlearn: 1223.7841708\ttest: 1472.9794158\tbest: 1471.5386896 (217)\ttotal: 37.4s\tremaining: 1m 52s\n",
      "249:\tlearn: 1222.9993979\ttest: 1473.4136536\tbest: 1471.5386896 (217)\ttotal: 37.6s\tremaining: 1m 52s\n",
      "250:\tlearn: 1222.9702144\ttest: 1473.4139697\tbest: 1471.5386896 (217)\ttotal: 37.7s\tremaining: 1m 52s\n",
      "251:\tlearn: 1222.4549028\ttest: 1472.9457541\tbest: 1471.5386896 (217)\ttotal: 37.9s\tremaining: 1m 52s\n",
      "252:\tlearn: 1221.8096725\ttest: 1472.8166734\tbest: 1471.5386896 (217)\ttotal: 38s\tremaining: 1m 52s\n",
      "253:\tlearn: 1221.1530106\ttest: 1472.7765792\tbest: 1471.5386896 (217)\ttotal: 38.2s\tremaining: 1m 52s\n",
      "254:\tlearn: 1220.5617623\ttest: 1472.6440466\tbest: 1471.5386896 (217)\ttotal: 38.3s\tremaining: 1m 51s\n",
      "255:\tlearn: 1220.3363163\ttest: 1472.7239802\tbest: 1471.5386896 (217)\ttotal: 38.5s\tremaining: 1m 51s\n",
      "256:\tlearn: 1219.6638355\ttest: 1472.2985915\tbest: 1471.5386896 (217)\ttotal: 38.6s\tremaining: 1m 51s\n",
      "257:\tlearn: 1219.0980356\ttest: 1472.3334087\tbest: 1471.5386896 (217)\ttotal: 38.8s\tremaining: 1m 51s\n",
      "258:\tlearn: 1218.6305254\ttest: 1472.3234966\tbest: 1471.5386896 (217)\ttotal: 38.9s\tremaining: 1m 51s\n",
      "259:\tlearn: 1217.6543269\ttest: 1471.8793193\tbest: 1471.5386896 (217)\ttotal: 39.1s\tremaining: 1m 51s\n",
      "260:\tlearn: 1217.2353193\ttest: 1472.2411329\tbest: 1471.5386896 (217)\ttotal: 39.2s\tremaining: 1m 51s\n",
      "261:\tlearn: 1216.1762714\ttest: 1472.2484899\tbest: 1471.5386896 (217)\ttotal: 39.4s\tremaining: 1m 50s\n",
      "262:\tlearn: 1215.5042470\ttest: 1472.3237901\tbest: 1471.5386896 (217)\ttotal: 39.5s\tremaining: 1m 50s\n",
      "263:\tlearn: 1214.9434417\ttest: 1472.8020272\tbest: 1471.5386896 (217)\ttotal: 39.7s\tremaining: 1m 50s\n",
      "264:\tlearn: 1214.2263048\ttest: 1472.4884162\tbest: 1471.5386896 (217)\ttotal: 39.8s\tremaining: 1m 50s\n",
      "265:\tlearn: 1213.6790194\ttest: 1472.6688617\tbest: 1471.5386896 (217)\ttotal: 40s\tremaining: 1m 50s\n",
      "266:\tlearn: 1212.7741507\ttest: 1472.1116507\tbest: 1471.5386896 (217)\ttotal: 40.1s\tremaining: 1m 50s\n",
      "267:\tlearn: 1212.2135885\ttest: 1472.0888454\tbest: 1471.5386896 (217)\ttotal: 40.3s\tremaining: 1m 50s\n",
      "268:\tlearn: 1211.3381833\ttest: 1471.7945728\tbest: 1471.5386896 (217)\ttotal: 40.4s\tremaining: 1m 49s\n",
      "269:\tlearn: 1210.8148995\ttest: 1472.2401631\tbest: 1471.5386896 (217)\ttotal: 40.6s\tremaining: 1m 49s\n",
      "270:\tlearn: 1210.2194135\ttest: 1472.3669862\tbest: 1471.5386896 (217)\ttotal: 40.7s\tremaining: 1m 49s\n",
      "271:\tlearn: 1209.5967890\ttest: 1472.3067571\tbest: 1471.5386896 (217)\ttotal: 40.9s\tremaining: 1m 49s\n",
      "272:\tlearn: 1208.9823718\ttest: 1472.2392942\tbest: 1471.5386896 (217)\ttotal: 41s\tremaining: 1m 49s\n",
      "273:\tlearn: 1208.5029414\ttest: 1472.5366436\tbest: 1471.5386896 (217)\ttotal: 41.2s\tremaining: 1m 49s\n",
      "274:\tlearn: 1208.0624130\ttest: 1472.9148793\tbest: 1471.5386896 (217)\ttotal: 41.3s\tremaining: 1m 48s\n",
      "275:\tlearn: 1207.2971728\ttest: 1472.7572876\tbest: 1471.5386896 (217)\ttotal: 41.5s\tremaining: 1m 48s\n",
      "276:\tlearn: 1206.7495772\ttest: 1472.6915340\tbest: 1471.5386896 (217)\ttotal: 41.6s\tremaining: 1m 48s\n",
      "277:\tlearn: 1206.1225911\ttest: 1472.3493197\tbest: 1471.5386896 (217)\ttotal: 41.8s\tremaining: 1m 48s\n",
      "278:\tlearn: 1205.8369523\ttest: 1472.4833456\tbest: 1471.5386896 (217)\ttotal: 41.9s\tremaining: 1m 48s\n",
      "279:\tlearn: 1204.7689897\ttest: 1472.3069774\tbest: 1471.5386896 (217)\ttotal: 42.1s\tremaining: 1m 48s\n",
      "280:\tlearn: 1204.1714136\ttest: 1472.1762745\tbest: 1471.5386896 (217)\ttotal: 42.2s\tremaining: 1m 47s\n",
      "281:\tlearn: 1203.5516270\ttest: 1472.4462440\tbest: 1471.5386896 (217)\ttotal: 42.3s\tremaining: 1m 47s\n",
      "282:\tlearn: 1203.3442426\ttest: 1472.5337436\tbest: 1471.5386896 (217)\ttotal: 42.5s\tremaining: 1m 47s\n",
      "283:\tlearn: 1202.1481521\ttest: 1472.4730355\tbest: 1471.5386896 (217)\ttotal: 42.6s\tremaining: 1m 47s\n",
      "284:\tlearn: 1202.0191307\ttest: 1472.5053675\tbest: 1471.5386896 (217)\ttotal: 42.8s\tremaining: 1m 47s\n",
      "285:\tlearn: 1201.8615983\ttest: 1472.6084123\tbest: 1471.5386896 (217)\ttotal: 42.9s\tremaining: 1m 47s\n",
      "286:\tlearn: 1201.0331118\ttest: 1472.3846382\tbest: 1471.5386896 (217)\ttotal: 43.1s\tremaining: 1m 47s\n",
      "287:\tlearn: 1200.6435471\ttest: 1472.4428636\tbest: 1471.5386896 (217)\ttotal: 43.2s\tremaining: 1m 46s\n",
      "288:\tlearn: 1200.3242053\ttest: 1472.3445654\tbest: 1471.5386896 (217)\ttotal: 43.4s\tremaining: 1m 46s\n",
      "289:\tlearn: 1200.2496087\ttest: 1472.3515109\tbest: 1471.5386896 (217)\ttotal: 43.5s\tremaining: 1m 46s\n",
      "290:\tlearn: 1198.8090585\ttest: 1472.3434527\tbest: 1471.5386896 (217)\ttotal: 43.7s\tremaining: 1m 46s\n",
      "291:\tlearn: 1197.5893067\ttest: 1472.0356247\tbest: 1471.5386896 (217)\ttotal: 43.8s\tremaining: 1m 46s\n",
      "292:\tlearn: 1196.7145643\ttest: 1472.1619800\tbest: 1471.5386896 (217)\ttotal: 44s\tremaining: 1m 46s\n",
      "293:\tlearn: 1196.0758599\ttest: 1472.4008945\tbest: 1471.5386896 (217)\ttotal: 44.1s\tremaining: 1m 45s\n",
      "294:\tlearn: 1195.4993081\ttest: 1473.0599538\tbest: 1471.5386896 (217)\ttotal: 44.3s\tremaining: 1m 45s\n",
      "295:\tlearn: 1194.9714379\ttest: 1472.8762082\tbest: 1471.5386896 (217)\ttotal: 44.4s\tremaining: 1m 45s\n",
      "296:\tlearn: 1194.4609958\ttest: 1473.0236813\tbest: 1471.5386896 (217)\ttotal: 44.6s\tremaining: 1m 45s\n",
      "297:\tlearn: 1193.4328089\ttest: 1472.8305712\tbest: 1471.5386896 (217)\ttotal: 44.7s\tremaining: 1m 45s\n",
      "298:\tlearn: 1192.8657370\ttest: 1473.0495631\tbest: 1471.5386896 (217)\ttotal: 44.9s\tremaining: 1m 45s\n",
      "299:\tlearn: 1192.7734397\ttest: 1473.0681822\tbest: 1471.5386896 (217)\ttotal: 45s\tremaining: 1m 45s\n",
      "300:\tlearn: 1192.3950489\ttest: 1473.2432754\tbest: 1471.5386896 (217)\ttotal: 45.2s\tremaining: 1m 44s\n",
      "301:\tlearn: 1191.8055000\ttest: 1473.8435463\tbest: 1471.5386896 (217)\ttotal: 45.3s\tremaining: 1m 44s\n",
      "302:\tlearn: 1191.4966764\ttest: 1473.9957309\tbest: 1471.5386896 (217)\ttotal: 45.5s\tremaining: 1m 44s\n",
      "303:\tlearn: 1191.4001472\ttest: 1474.0075576\tbest: 1471.5386896 (217)\ttotal: 45.6s\tremaining: 1m 44s\n",
      "304:\tlearn: 1191.0980252\ttest: 1473.9456619\tbest: 1471.5386896 (217)\ttotal: 45.7s\tremaining: 1m 44s\n",
      "305:\tlearn: 1190.6459991\ttest: 1474.0001880\tbest: 1471.5386896 (217)\ttotal: 45.9s\tremaining: 1m 44s\n",
      "306:\tlearn: 1189.8149420\ttest: 1473.6183521\tbest: 1471.5386896 (217)\ttotal: 46s\tremaining: 1m 43s\n",
      "307:\tlearn: 1189.6418437\ttest: 1473.5564062\tbest: 1471.5386896 (217)\ttotal: 46.2s\tremaining: 1m 43s\n",
      "308:\tlearn: 1189.2569966\ttest: 1473.3208465\tbest: 1471.5386896 (217)\ttotal: 46.3s\tremaining: 1m 43s\n",
      "309:\tlearn: 1189.0824598\ttest: 1473.3294043\tbest: 1471.5386896 (217)\ttotal: 46.5s\tremaining: 1m 43s\n",
      "310:\tlearn: 1188.6845159\ttest: 1473.1952500\tbest: 1471.5386896 (217)\ttotal: 46.6s\tremaining: 1m 43s\n",
      "311:\tlearn: 1187.9725927\ttest: 1473.2806236\tbest: 1471.5386896 (217)\ttotal: 46.8s\tremaining: 1m 43s\n",
      "312:\tlearn: 1187.7357373\ttest: 1473.1604818\tbest: 1471.5386896 (217)\ttotal: 46.9s\tremaining: 1m 42s\n",
      "313:\tlearn: 1187.0348347\ttest: 1472.7748534\tbest: 1471.5386896 (217)\ttotal: 47.1s\tremaining: 1m 42s\n",
      "314:\tlearn: 1186.9701541\ttest: 1472.7499201\tbest: 1471.5386896 (217)\ttotal: 47.2s\tremaining: 1m 42s\n",
      "315:\tlearn: 1186.4320867\ttest: 1472.7184292\tbest: 1471.5386896 (217)\ttotal: 47.3s\tremaining: 1m 42s\n",
      "316:\tlearn: 1185.8992032\ttest: 1472.9511809\tbest: 1471.5386896 (217)\ttotal: 47.5s\tremaining: 1m 42s\n",
      "317:\tlearn: 1185.0843013\ttest: 1472.7877938\tbest: 1471.5386896 (217)\ttotal: 47.6s\tremaining: 1m 42s\n",
      "318:\tlearn: 1184.3887246\ttest: 1472.6231905\tbest: 1471.5386896 (217)\ttotal: 47.8s\tremaining: 1m 42s\n",
      "319:\tlearn: 1183.8794222\ttest: 1472.9142408\tbest: 1471.5386896 (217)\ttotal: 47.9s\tremaining: 1m 41s\n",
      "320:\tlearn: 1183.4478821\ttest: 1472.8330628\tbest: 1471.5386896 (217)\ttotal: 48.1s\tremaining: 1m 41s\n",
      "321:\tlearn: 1183.0725638\ttest: 1472.9370605\tbest: 1471.5386896 (217)\ttotal: 48.2s\tremaining: 1m 41s\n",
      "322:\tlearn: 1182.3271232\ttest: 1472.8359522\tbest: 1471.5386896 (217)\ttotal: 48.4s\tremaining: 1m 41s\n",
      "323:\tlearn: 1182.0536391\ttest: 1472.9866033\tbest: 1471.5386896 (217)\ttotal: 48.5s\tremaining: 1m 41s\n",
      "324:\tlearn: 1180.9874546\ttest: 1473.0010732\tbest: 1471.5386896 (217)\ttotal: 48.7s\tremaining: 1m 41s\n",
      "325:\tlearn: 1180.4968287\ttest: 1472.8553515\tbest: 1471.5386896 (217)\ttotal: 48.8s\tremaining: 1m 40s\n",
      "326:\tlearn: 1180.4625716\ttest: 1472.8073276\tbest: 1471.5386896 (217)\ttotal: 49s\tremaining: 1m 40s\n",
      "327:\tlearn: 1180.0019380\ttest: 1472.9080414\tbest: 1471.5386896 (217)\ttotal: 49.1s\tremaining: 1m 40s\n",
      "328:\tlearn: 1179.5325851\ttest: 1472.9541845\tbest: 1471.5386896 (217)\ttotal: 49.2s\tremaining: 1m 40s\n",
      "329:\tlearn: 1179.1076809\ttest: 1472.8035833\tbest: 1471.5386896 (217)\ttotal: 49.4s\tremaining: 1m 40s\n",
      "330:\tlearn: 1178.4868046\ttest: 1472.7383484\tbest: 1471.5386896 (217)\ttotal: 49.5s\tremaining: 1m 40s\n",
      "331:\tlearn: 1177.9474909\ttest: 1472.5676225\tbest: 1471.5386896 (217)\ttotal: 49.7s\tremaining: 1m 39s\n",
      "332:\tlearn: 1177.6393017\ttest: 1472.7384029\tbest: 1471.5386896 (217)\ttotal: 49.8s\tremaining: 1m 39s\n",
      "333:\tlearn: 1177.3530440\ttest: 1472.8761671\tbest: 1471.5386896 (217)\ttotal: 50s\tremaining: 1m 39s\n",
      "334:\tlearn: 1176.7471326\ttest: 1472.9880514\tbest: 1471.5386896 (217)\ttotal: 50.1s\tremaining: 1m 39s\n",
      "335:\tlearn: 1176.3715409\ttest: 1473.1760557\tbest: 1471.5386896 (217)\ttotal: 50.3s\tremaining: 1m 39s\n",
      "336:\tlearn: 1175.8762567\ttest: 1473.5885623\tbest: 1471.5386896 (217)\ttotal: 50.4s\tremaining: 1m 39s\n",
      "337:\tlearn: 1175.7797130\ttest: 1473.5706873\tbest: 1471.5386896 (217)\ttotal: 50.5s\tremaining: 1m 39s\n",
      "338:\tlearn: 1175.3352164\ttest: 1473.4560809\tbest: 1471.5386896 (217)\ttotal: 50.7s\tremaining: 1m 38s\n",
      "339:\tlearn: 1175.0995602\ttest: 1473.4453766\tbest: 1471.5386896 (217)\ttotal: 50.8s\tremaining: 1m 38s\n",
      "340:\tlearn: 1174.4618434\ttest: 1473.5223566\tbest: 1471.5386896 (217)\ttotal: 51s\tremaining: 1m 38s\n",
      "341:\tlearn: 1174.2420578\ttest: 1473.5862585\tbest: 1471.5386896 (217)\ttotal: 51.1s\tremaining: 1m 38s\n",
      "342:\tlearn: 1173.6683598\ttest: 1473.5921052\tbest: 1471.5386896 (217)\ttotal: 51.3s\tremaining: 1m 38s\n",
      "343:\tlearn: 1173.1245926\ttest: 1473.5208095\tbest: 1471.5386896 (217)\ttotal: 51.4s\tremaining: 1m 38s\n",
      "344:\tlearn: 1172.7938962\ttest: 1473.3405633\tbest: 1471.5386896 (217)\ttotal: 51.6s\tremaining: 1m 37s\n",
      "345:\tlearn: 1172.4150674\ttest: 1473.1133132\tbest: 1471.5386896 (217)\ttotal: 51.7s\tremaining: 1m 37s\n",
      "346:\tlearn: 1171.8433399\ttest: 1473.1212121\tbest: 1471.5386896 (217)\ttotal: 51.8s\tremaining: 1m 37s\n",
      "347:\tlearn: 1170.9014415\ttest: 1473.0836877\tbest: 1471.5386896 (217)\ttotal: 52s\tremaining: 1m 37s\n",
      "348:\tlearn: 1170.2140139\ttest: 1473.5502959\tbest: 1471.5386896 (217)\ttotal: 52.1s\tremaining: 1m 37s\n",
      "349:\tlearn: 1169.9071595\ttest: 1473.5250364\tbest: 1471.5386896 (217)\ttotal: 52.3s\tremaining: 1m 37s\n",
      "350:\tlearn: 1169.6095090\ttest: 1473.5731556\tbest: 1471.5386896 (217)\ttotal: 52.4s\tremaining: 1m 36s\n",
      "351:\tlearn: 1169.1788580\ttest: 1473.5784110\tbest: 1471.5386896 (217)\ttotal: 52.6s\tremaining: 1m 36s\n",
      "352:\tlearn: 1169.1528825\ttest: 1473.5678290\tbest: 1471.5386896 (217)\ttotal: 52.7s\tremaining: 1m 36s\n",
      "353:\tlearn: 1168.7894927\ttest: 1473.6486887\tbest: 1471.5386896 (217)\ttotal: 52.9s\tremaining: 1m 36s\n",
      "354:\tlearn: 1168.2608421\ttest: 1473.9206159\tbest: 1471.5386896 (217)\ttotal: 53s\tremaining: 1m 36s\n",
      "355:\tlearn: 1167.7848260\ttest: 1473.8153757\tbest: 1471.5386896 (217)\ttotal: 53.1s\tremaining: 1m 36s\n",
      "356:\tlearn: 1167.0938449\ttest: 1474.1921281\tbest: 1471.5386896 (217)\ttotal: 53.3s\tremaining: 1m 35s\n",
      "357:\tlearn: 1166.5520947\ttest: 1474.1043364\tbest: 1471.5386896 (217)\ttotal: 53.4s\tremaining: 1m 35s\n",
      "358:\tlearn: 1166.1860849\ttest: 1474.0912932\tbest: 1471.5386896 (217)\ttotal: 53.6s\tremaining: 1m 35s\n",
      "359:\tlearn: 1165.9077085\ttest: 1474.0779065\tbest: 1471.5386896 (217)\ttotal: 53.7s\tremaining: 1m 35s\n",
      "360:\tlearn: 1165.8124382\ttest: 1474.0970383\tbest: 1471.5386896 (217)\ttotal: 53.9s\tremaining: 1m 35s\n",
      "361:\tlearn: 1165.3665865\ttest: 1474.1846799\tbest: 1471.5386896 (217)\ttotal: 54s\tremaining: 1m 35s\n",
      "362:\tlearn: 1164.9036840\ttest: 1474.0129610\tbest: 1471.5386896 (217)\ttotal: 54.2s\tremaining: 1m 35s\n",
      "363:\tlearn: 1164.4761656\ttest: 1474.0191098\tbest: 1471.5386896 (217)\ttotal: 54.3s\tremaining: 1m 34s\n",
      "364:\tlearn: 1164.1256596\ttest: 1474.1264065\tbest: 1471.5386896 (217)\ttotal: 54.5s\tremaining: 1m 34s\n",
      "365:\tlearn: 1163.8931451\ttest: 1474.5749312\tbest: 1471.5386896 (217)\ttotal: 54.6s\tremaining: 1m 34s\n",
      "366:\tlearn: 1163.4178077\ttest: 1474.7903187\tbest: 1471.5386896 (217)\ttotal: 54.8s\tremaining: 1m 34s\n",
      "367:\tlearn: 1163.1361550\ttest: 1474.7405442\tbest: 1471.5386896 (217)\ttotal: 54.9s\tremaining: 1m 34s\n",
      "368:\tlearn: 1162.8804396\ttest: 1474.6750962\tbest: 1471.5386896 (217)\ttotal: 55.1s\tremaining: 1m 34s\n",
      "369:\tlearn: 1162.4603073\ttest: 1474.4852579\tbest: 1471.5386896 (217)\ttotal: 55.2s\tremaining: 1m 33s\n",
      "370:\tlearn: 1161.9975851\ttest: 1474.4445689\tbest: 1471.5386896 (217)\ttotal: 55.3s\tremaining: 1m 33s\n",
      "371:\tlearn: 1161.6408757\ttest: 1474.7568084\tbest: 1471.5386896 (217)\ttotal: 55.5s\tremaining: 1m 33s\n",
      "372:\tlearn: 1160.4194541\ttest: 1474.4737774\tbest: 1471.5386896 (217)\ttotal: 55.6s\tremaining: 1m 33s\n",
      "373:\tlearn: 1160.0978221\ttest: 1474.6790009\tbest: 1471.5386896 (217)\ttotal: 55.8s\tremaining: 1m 33s\n",
      "374:\tlearn: 1159.7532436\ttest: 1474.7577317\tbest: 1471.5386896 (217)\ttotal: 55.9s\tremaining: 1m 33s\n",
      "375:\tlearn: 1159.4303896\ttest: 1474.8088279\tbest: 1471.5386896 (217)\ttotal: 56.1s\tremaining: 1m 33s\n",
      "376:\tlearn: 1159.1211416\ttest: 1474.6492086\tbest: 1471.5386896 (217)\ttotal: 56.2s\tremaining: 1m 32s\n",
      "377:\tlearn: 1158.6314166\ttest: 1474.3711451\tbest: 1471.5386896 (217)\ttotal: 56.5s\tremaining: 1m 32s\n",
      "378:\tlearn: 1158.3374301\ttest: 1474.4350018\tbest: 1471.5386896 (217)\ttotal: 56.6s\tremaining: 1m 32s\n",
      "379:\tlearn: 1158.3074741\ttest: 1474.4624121\tbest: 1471.5386896 (217)\ttotal: 56.8s\tremaining: 1m 32s\n",
      "380:\tlearn: 1158.0906464\ttest: 1474.4407662\tbest: 1471.5386896 (217)\ttotal: 56.9s\tremaining: 1m 32s\n",
      "381:\tlearn: 1157.4079430\ttest: 1473.3159685\tbest: 1471.5386896 (217)\ttotal: 57s\tremaining: 1m 32s\n",
      "382:\tlearn: 1156.8940351\ttest: 1473.2227556\tbest: 1471.5386896 (217)\ttotal: 57.2s\tremaining: 1m 32s\n",
      "383:\tlearn: 1156.4745948\ttest: 1473.3097905\tbest: 1471.5386896 (217)\ttotal: 57.3s\tremaining: 1m 31s\n",
      "384:\tlearn: 1156.1196935\ttest: 1473.2875979\tbest: 1471.5386896 (217)\ttotal: 57.5s\tremaining: 1m 31s\n",
      "385:\tlearn: 1155.7187274\ttest: 1473.0624757\tbest: 1471.5386896 (217)\ttotal: 57.6s\tremaining: 1m 31s\n",
      "386:\tlearn: 1155.4303760\ttest: 1473.2341629\tbest: 1471.5386896 (217)\ttotal: 57.8s\tremaining: 1m 31s\n",
      "387:\tlearn: 1154.7006019\ttest: 1473.4275898\tbest: 1471.5386896 (217)\ttotal: 57.9s\tremaining: 1m 31s\n",
      "388:\tlearn: 1154.2397262\ttest: 1473.5581589\tbest: 1471.5386896 (217)\ttotal: 58.1s\tremaining: 1m 31s\n",
      "389:\tlearn: 1153.7084596\ttest: 1473.7521978\tbest: 1471.5386896 (217)\ttotal: 58.2s\tremaining: 1m 31s\n",
      "390:\tlearn: 1153.2006389\ttest: 1473.5979301\tbest: 1471.5386896 (217)\ttotal: 58.4s\tremaining: 1m 30s\n",
      "391:\tlearn: 1152.7892745\ttest: 1473.5932156\tbest: 1471.5386896 (217)\ttotal: 58.5s\tremaining: 1m 30s\n",
      "392:\tlearn: 1152.1980555\ttest: 1473.3824323\tbest: 1471.5386896 (217)\ttotal: 58.7s\tremaining: 1m 30s\n",
      "393:\tlearn: 1151.8287655\ttest: 1473.3048133\tbest: 1471.5386896 (217)\ttotal: 58.8s\tremaining: 1m 30s\n",
      "394:\tlearn: 1151.5575534\ttest: 1473.1302703\tbest: 1471.5386896 (217)\ttotal: 58.9s\tremaining: 1m 30s\n",
      "395:\tlearn: 1151.3765694\ttest: 1473.0905136\tbest: 1471.5386896 (217)\ttotal: 59.1s\tremaining: 1m 30s\n",
      "396:\tlearn: 1151.3094459\ttest: 1473.1137734\tbest: 1471.5386896 (217)\ttotal: 59.2s\tremaining: 1m 29s\n",
      "397:\tlearn: 1150.7457175\ttest: 1472.9959853\tbest: 1471.5386896 (217)\ttotal: 59.4s\tremaining: 1m 29s\n",
      "398:\tlearn: 1150.5893105\ttest: 1472.8875977\tbest: 1471.5386896 (217)\ttotal: 59.5s\tremaining: 1m 29s\n",
      "399:\tlearn: 1149.7997802\ttest: 1473.3574466\tbest: 1471.5386896 (217)\ttotal: 59.7s\tremaining: 1m 29s\n",
      "400:\tlearn: 1149.0757084\ttest: 1473.4047008\tbest: 1471.5386896 (217)\ttotal: 59.8s\tremaining: 1m 29s\n",
      "401:\tlearn: 1148.5542363\ttest: 1473.4270616\tbest: 1471.5386896 (217)\ttotal: 60s\tremaining: 1m 29s\n",
      "402:\tlearn: 1148.0509057\ttest: 1473.5801930\tbest: 1471.5386896 (217)\ttotal: 1m\tremaining: 1m 29s\n",
      "403:\tlearn: 1147.5076014\ttest: 1473.7662965\tbest: 1471.5386896 (217)\ttotal: 1m\tremaining: 1m 28s\n",
      "404:\tlearn: 1146.9389266\ttest: 1474.0858814\tbest: 1471.5386896 (217)\ttotal: 1m\tremaining: 1m 28s\n",
      "405:\tlearn: 1146.7796310\ttest: 1474.1488686\tbest: 1471.5386896 (217)\ttotal: 1m\tremaining: 1m 28s\n",
      "406:\tlearn: 1146.2207804\ttest: 1474.3905513\tbest: 1471.5386896 (217)\ttotal: 1m\tremaining: 1m 28s\n",
      "407:\tlearn: 1145.6594605\ttest: 1474.3960054\tbest: 1471.5386896 (217)\ttotal: 1m\tremaining: 1m 28s\n",
      "408:\tlearn: 1145.3258626\ttest: 1474.4468075\tbest: 1471.5386896 (217)\ttotal: 1m\tremaining: 1m 28s\n",
      "409:\tlearn: 1145.0883981\ttest: 1474.3270071\tbest: 1471.5386896 (217)\ttotal: 1m 1s\tremaining: 1m 27s\n",
      "410:\tlearn: 1144.8135627\ttest: 1474.2214868\tbest: 1471.5386896 (217)\ttotal: 1m 1s\tremaining: 1m 27s\n",
      "411:\tlearn: 1144.4957481\ttest: 1474.2381730\tbest: 1471.5386896 (217)\ttotal: 1m 1s\tremaining: 1m 27s\n",
      "412:\tlearn: 1143.9226400\ttest: 1474.2941940\tbest: 1471.5386896 (217)\ttotal: 1m 1s\tremaining: 1m 27s\n",
      "413:\tlearn: 1143.5958659\ttest: 1474.5235915\tbest: 1471.5386896 (217)\ttotal: 1m 1s\tremaining: 1m 27s\n",
      "414:\tlearn: 1143.4563157\ttest: 1474.5991409\tbest: 1471.5386896 (217)\ttotal: 1m 1s\tremaining: 1m 27s\n",
      "415:\tlearn: 1143.1440069\ttest: 1474.7143526\tbest: 1471.5386896 (217)\ttotal: 1m 2s\tremaining: 1m 27s\n",
      "416:\tlearn: 1142.8713368\ttest: 1474.6678524\tbest: 1471.5386896 (217)\ttotal: 1m 2s\tremaining: 1m 26s\n",
      "417:\tlearn: 1141.8819747\ttest: 1474.6294793\tbest: 1471.5386896 (217)\ttotal: 1m 2s\tremaining: 1m 26s\n",
      "418:\tlearn: 1141.7422935\ttest: 1474.5713876\tbest: 1471.5386896 (217)\ttotal: 1m 2s\tremaining: 1m 26s\n",
      "419:\tlearn: 1141.6706716\ttest: 1474.5330741\tbest: 1471.5386896 (217)\ttotal: 1m 2s\tremaining: 1m 26s\n",
      "420:\tlearn: 1141.3917636\ttest: 1474.6406270\tbest: 1471.5386896 (217)\ttotal: 1m 2s\tremaining: 1m 26s\n",
      "421:\tlearn: 1141.0881764\ttest: 1474.9395599\tbest: 1471.5386896 (217)\ttotal: 1m 2s\tremaining: 1m 26s\n",
      "422:\tlearn: 1141.0441472\ttest: 1474.9661136\tbest: 1471.5386896 (217)\ttotal: 1m 3s\tremaining: 1m 25s\n",
      "423:\tlearn: 1140.5121555\ttest: 1474.8515235\tbest: 1471.5386896 (217)\ttotal: 1m 3s\tremaining: 1m 25s\n",
      "424:\tlearn: 1140.1887251\ttest: 1474.5367365\tbest: 1471.5386896 (217)\ttotal: 1m 3s\tremaining: 1m 25s\n",
      "425:\tlearn: 1139.8650482\ttest: 1474.6118564\tbest: 1471.5386896 (217)\ttotal: 1m 3s\tremaining: 1m 25s\n",
      "426:\tlearn: 1139.5635152\ttest: 1474.7605054\tbest: 1471.5386896 (217)\ttotal: 1m 3s\tremaining: 1m 25s\n",
      "427:\tlearn: 1139.0602894\ttest: 1474.3256091\tbest: 1471.5386896 (217)\ttotal: 1m 3s\tremaining: 1m 25s\n",
      "428:\tlearn: 1138.7784369\ttest: 1474.3799655\tbest: 1471.5386896 (217)\ttotal: 1m 3s\tremaining: 1m 25s\n",
      "429:\tlearn: 1138.3664745\ttest: 1474.7315399\tbest: 1471.5386896 (217)\ttotal: 1m 4s\tremaining: 1m 24s\n",
      "430:\tlearn: 1138.0803061\ttest: 1474.7343900\tbest: 1471.5386896 (217)\ttotal: 1m 4s\tremaining: 1m 24s\n",
      "431:\tlearn: 1137.6958437\ttest: 1474.9362014\tbest: 1471.5386896 (217)\ttotal: 1m 4s\tremaining: 1m 24s\n",
      "432:\tlearn: 1137.1308040\ttest: 1475.0735485\tbest: 1471.5386896 (217)\ttotal: 1m 4s\tremaining: 1m 24s\n",
      "433:\tlearn: 1135.9333897\ttest: 1474.8182382\tbest: 1471.5386896 (217)\ttotal: 1m 4s\tremaining: 1m 24s\n",
      "434:\tlearn: 1135.3284722\ttest: 1474.6244523\tbest: 1471.5386896 (217)\ttotal: 1m 4s\tremaining: 1m 24s\n",
      "435:\tlearn: 1135.2910825\ttest: 1474.6194097\tbest: 1471.5386896 (217)\ttotal: 1m 4s\tremaining: 1m 23s\n",
      "436:\tlearn: 1134.9810656\ttest: 1474.6878647\tbest: 1471.5386896 (217)\ttotal: 1m 5s\tremaining: 1m 23s\n",
      "437:\tlearn: 1134.2614476\ttest: 1474.9167567\tbest: 1471.5386896 (217)\ttotal: 1m 5s\tremaining: 1m 23s\n",
      "438:\tlearn: 1133.8057087\ttest: 1475.0134072\tbest: 1471.5386896 (217)\ttotal: 1m 5s\tremaining: 1m 23s\n",
      "439:\tlearn: 1133.2463687\ttest: 1474.8316997\tbest: 1471.5386896 (217)\ttotal: 1m 5s\tremaining: 1m 23s\n",
      "440:\tlearn: 1132.9680584\ttest: 1474.7178633\tbest: 1471.5386896 (217)\ttotal: 1m 5s\tremaining: 1m 23s\n",
      "441:\tlearn: 1132.5388309\ttest: 1474.7137291\tbest: 1471.5386896 (217)\ttotal: 1m 5s\tremaining: 1m 23s\n",
      "442:\tlearn: 1132.0948551\ttest: 1474.6105453\tbest: 1471.5386896 (217)\ttotal: 1m 5s\tremaining: 1m 22s\n",
      "443:\tlearn: 1131.6436733\ttest: 1474.6202458\tbest: 1471.5386896 (217)\ttotal: 1m 6s\tremaining: 1m 22s\n",
      "444:\tlearn: 1131.4579187\ttest: 1474.6338228\tbest: 1471.5386896 (217)\ttotal: 1m 6s\tremaining: 1m 22s\n",
      "445:\tlearn: 1131.1198037\ttest: 1474.7448165\tbest: 1471.5386896 (217)\ttotal: 1m 6s\tremaining: 1m 22s\n",
      "446:\tlearn: 1130.7767731\ttest: 1474.9771810\tbest: 1471.5386896 (217)\ttotal: 1m 6s\tremaining: 1m 22s\n",
      "447:\tlearn: 1130.2492455\ttest: 1474.4523446\tbest: 1471.5386896 (217)\ttotal: 1m 6s\tremaining: 1m 22s\n",
      "448:\tlearn: 1129.4996677\ttest: 1474.5470876\tbest: 1471.5386896 (217)\ttotal: 1m 6s\tremaining: 1m 22s\n",
      "449:\tlearn: 1128.9338899\ttest: 1474.6937379\tbest: 1471.5386896 (217)\ttotal: 1m 6s\tremaining: 1m 21s\n",
      "450:\tlearn: 1128.5799115\ttest: 1474.6311620\tbest: 1471.5386896 (217)\ttotal: 1m 7s\tremaining: 1m 21s\n",
      "451:\tlearn: 1128.2056108\ttest: 1474.6533541\tbest: 1471.5386896 (217)\ttotal: 1m 7s\tremaining: 1m 21s\n",
      "452:\tlearn: 1127.8598550\ttest: 1474.7731103\tbest: 1471.5386896 (217)\ttotal: 1m 7s\tremaining: 1m 21s\n",
      "453:\tlearn: 1127.3858705\ttest: 1474.5533094\tbest: 1471.5386896 (217)\ttotal: 1m 7s\tremaining: 1m 21s\n",
      "454:\tlearn: 1126.8109308\ttest: 1474.8587954\tbest: 1471.5386896 (217)\ttotal: 1m 7s\tremaining: 1m 21s\n",
      "455:\tlearn: 1126.4332480\ttest: 1474.9937010\tbest: 1471.5386896 (217)\ttotal: 1m 7s\tremaining: 1m 20s\n",
      "456:\tlearn: 1125.9155692\ttest: 1474.8142165\tbest: 1471.5386896 (217)\ttotal: 1m 8s\tremaining: 1m 20s\n",
      "457:\tlearn: 1125.5870196\ttest: 1474.8578811\tbest: 1471.5386896 (217)\ttotal: 1m 8s\tremaining: 1m 20s\n",
      "458:\tlearn: 1125.2237399\ttest: 1475.0703838\tbest: 1471.5386896 (217)\ttotal: 1m 8s\tremaining: 1m 20s\n",
      "459:\tlearn: 1124.6318360\ttest: 1474.7576957\tbest: 1471.5386896 (217)\ttotal: 1m 8s\tremaining: 1m 20s\n",
      "460:\tlearn: 1124.1080494\ttest: 1474.8089757\tbest: 1471.5386896 (217)\ttotal: 1m 8s\tremaining: 1m 20s\n",
      "461:\tlearn: 1123.7854727\ttest: 1474.5205979\tbest: 1471.5386896 (217)\ttotal: 1m 8s\tremaining: 1m 20s\n",
      "462:\tlearn: 1123.3168884\ttest: 1474.9857085\tbest: 1471.5386896 (217)\ttotal: 1m 8s\tremaining: 1m 19s\n",
      "463:\tlearn: 1122.5933893\ttest: 1475.1086806\tbest: 1471.5386896 (217)\ttotal: 1m 9s\tremaining: 1m 19s\n",
      "464:\tlearn: 1122.1974164\ttest: 1475.2047772\tbest: 1471.5386896 (217)\ttotal: 1m 9s\tremaining: 1m 19s\n",
      "465:\tlearn: 1122.0244288\ttest: 1475.1422137\tbest: 1471.5386896 (217)\ttotal: 1m 9s\tremaining: 1m 19s\n",
      "466:\tlearn: 1122.0030104\ttest: 1475.1103916\tbest: 1471.5386896 (217)\ttotal: 1m 9s\tremaining: 1m 19s\n",
      "467:\tlearn: 1121.0789308\ttest: 1475.0551936\tbest: 1471.5386896 (217)\ttotal: 1m 9s\tremaining: 1m 19s\n",
      "468:\tlearn: 1120.5422894\ttest: 1475.1211997\tbest: 1471.5386896 (217)\ttotal: 1m 9s\tremaining: 1m 19s\n",
      "469:\tlearn: 1120.3318873\ttest: 1475.2153959\tbest: 1471.5386896 (217)\ttotal: 1m 9s\tremaining: 1m 18s\n",
      "470:\tlearn: 1120.0809276\ttest: 1475.1313027\tbest: 1471.5386896 (217)\ttotal: 1m 10s\tremaining: 1m 18s\n",
      "471:\tlearn: 1119.6713745\ttest: 1475.0507733\tbest: 1471.5386896 (217)\ttotal: 1m 10s\tremaining: 1m 18s\n",
      "472:\tlearn: 1119.1665244\ttest: 1475.1468973\tbest: 1471.5386896 (217)\ttotal: 1m 10s\tremaining: 1m 18s\n",
      "473:\tlearn: 1118.5830949\ttest: 1475.1625540\tbest: 1471.5386896 (217)\ttotal: 1m 10s\tremaining: 1m 18s\n",
      "474:\tlearn: 1118.3240081\ttest: 1475.3477364\tbest: 1471.5386896 (217)\ttotal: 1m 10s\tremaining: 1m 18s\n",
      "475:\tlearn: 1117.9790896\ttest: 1475.4550366\tbest: 1471.5386896 (217)\ttotal: 1m 10s\tremaining: 1m 17s\n",
      "476:\tlearn: 1117.6915745\ttest: 1475.3460753\tbest: 1471.5386896 (217)\ttotal: 1m 10s\tremaining: 1m 17s\n",
      "477:\tlearn: 1117.0848763\ttest: 1475.1763196\tbest: 1471.5386896 (217)\ttotal: 1m 11s\tremaining: 1m 17s\n",
      "478:\tlearn: 1116.6715487\ttest: 1474.7587485\tbest: 1471.5386896 (217)\ttotal: 1m 11s\tremaining: 1m 17s\n",
      "479:\tlearn: 1115.9235436\ttest: 1474.8793881\tbest: 1471.5386896 (217)\ttotal: 1m 11s\tremaining: 1m 17s\n",
      "480:\tlearn: 1115.7708796\ttest: 1474.9388432\tbest: 1471.5386896 (217)\ttotal: 1m 11s\tremaining: 1m 17s\n",
      "481:\tlearn: 1115.1756967\ttest: 1474.9774483\tbest: 1471.5386896 (217)\ttotal: 1m 11s\tremaining: 1m 17s\n",
      "482:\tlearn: 1114.6939847\ttest: 1474.9911513\tbest: 1471.5386896 (217)\ttotal: 1m 11s\tremaining: 1m 16s\n",
      "483:\tlearn: 1114.2670086\ttest: 1475.2642423\tbest: 1471.5386896 (217)\ttotal: 1m 12s\tremaining: 1m 16s\n",
      "484:\tlearn: 1113.8896223\ttest: 1475.5305867\tbest: 1471.5386896 (217)\ttotal: 1m 12s\tremaining: 1m 16s\n",
      "485:\tlearn: 1113.4725346\ttest: 1475.6594121\tbest: 1471.5386896 (217)\ttotal: 1m 12s\tremaining: 1m 16s\n",
      "486:\tlearn: 1113.3140143\ttest: 1475.5659638\tbest: 1471.5386896 (217)\ttotal: 1m 12s\tremaining: 1m 16s\n",
      "487:\tlearn: 1112.9640845\ttest: 1475.9267790\tbest: 1471.5386896 (217)\ttotal: 1m 12s\tremaining: 1m 16s\n",
      "488:\tlearn: 1112.7752173\ttest: 1475.8642589\tbest: 1471.5386896 (217)\ttotal: 1m 12s\tremaining: 1m 16s\n",
      "489:\tlearn: 1112.3426732\ttest: 1476.0857563\tbest: 1471.5386896 (217)\ttotal: 1m 12s\tremaining: 1m 15s\n",
      "490:\tlearn: 1111.9882425\ttest: 1476.0966412\tbest: 1471.5386896 (217)\ttotal: 1m 13s\tremaining: 1m 15s\n",
      "491:\tlearn: 1111.8962916\ttest: 1476.0808512\tbest: 1471.5386896 (217)\ttotal: 1m 13s\tremaining: 1m 15s\n",
      "492:\tlearn: 1111.0344962\ttest: 1476.3197896\tbest: 1471.5386896 (217)\ttotal: 1m 13s\tremaining: 1m 15s\n",
      "493:\tlearn: 1110.8176623\ttest: 1476.3449647\tbest: 1471.5386896 (217)\ttotal: 1m 13s\tremaining: 1m 15s\n",
      "494:\tlearn: 1110.4375238\ttest: 1476.3063680\tbest: 1471.5386896 (217)\ttotal: 1m 13s\tremaining: 1m 15s\n",
      "495:\tlearn: 1110.2905351\ttest: 1476.2552549\tbest: 1471.5386896 (217)\ttotal: 1m 13s\tremaining: 1m 14s\n",
      "496:\tlearn: 1109.9759880\ttest: 1476.2315579\tbest: 1471.5386896 (217)\ttotal: 1m 13s\tremaining: 1m 14s\n",
      "497:\tlearn: 1109.5836644\ttest: 1476.1373311\tbest: 1471.5386896 (217)\ttotal: 1m 14s\tremaining: 1m 14s\n",
      "498:\tlearn: 1109.4101151\ttest: 1476.1556008\tbest: 1471.5386896 (217)\ttotal: 1m 14s\tremaining: 1m 14s\n",
      "499:\tlearn: 1109.0694349\ttest: 1476.1171245\tbest: 1471.5386896 (217)\ttotal: 1m 14s\tremaining: 1m 14s\n",
      "500:\tlearn: 1108.6724864\ttest: 1476.0661293\tbest: 1471.5386896 (217)\ttotal: 1m 14s\tremaining: 1m 14s\n",
      "501:\tlearn: 1108.2559027\ttest: 1475.9778751\tbest: 1471.5386896 (217)\ttotal: 1m 14s\tremaining: 1m 14s\n",
      "502:\tlearn: 1108.0607705\ttest: 1475.8872867\tbest: 1471.5386896 (217)\ttotal: 1m 14s\tremaining: 1m 13s\n",
      "503:\tlearn: 1107.7459438\ttest: 1476.0033503\tbest: 1471.5386896 (217)\ttotal: 1m 14s\tremaining: 1m 13s\n",
      "504:\tlearn: 1107.3693820\ttest: 1476.1147625\tbest: 1471.5386896 (217)\ttotal: 1m 15s\tremaining: 1m 13s\n",
      "505:\tlearn: 1107.0133638\ttest: 1476.1562601\tbest: 1471.5386896 (217)\ttotal: 1m 15s\tremaining: 1m 13s\n",
      "506:\tlearn: 1106.7265597\ttest: 1476.0976242\tbest: 1471.5386896 (217)\ttotal: 1m 15s\tremaining: 1m 13s\n",
      "507:\tlearn: 1106.4117728\ttest: 1476.0659702\tbest: 1471.5386896 (217)\ttotal: 1m 15s\tremaining: 1m 13s\n",
      "508:\tlearn: 1106.0934667\ttest: 1476.6032018\tbest: 1471.5386896 (217)\ttotal: 1m 15s\tremaining: 1m 13s\n",
      "509:\tlearn: 1105.9360596\ttest: 1476.5861384\tbest: 1471.5386896 (217)\ttotal: 1m 15s\tremaining: 1m 12s\n",
      "510:\tlearn: 1105.5584658\ttest: 1476.5966605\tbest: 1471.5386896 (217)\ttotal: 1m 15s\tremaining: 1m 12s\n",
      "511:\tlearn: 1104.9989958\ttest: 1476.7475248\tbest: 1471.5386896 (217)\ttotal: 1m 16s\tremaining: 1m 12s\n",
      "512:\tlearn: 1104.6286055\ttest: 1476.7817960\tbest: 1471.5386896 (217)\ttotal: 1m 16s\tremaining: 1m 12s\n",
      "513:\tlearn: 1104.3446769\ttest: 1476.7762394\tbest: 1471.5386896 (217)\ttotal: 1m 16s\tremaining: 1m 12s\n",
      "514:\tlearn: 1103.9963658\ttest: 1476.7298017\tbest: 1471.5386896 (217)\ttotal: 1m 16s\tremaining: 1m 12s\n",
      "515:\tlearn: 1103.9844574\ttest: 1476.7141771\tbest: 1471.5386896 (217)\ttotal: 1m 16s\tremaining: 1m 11s\n",
      "516:\tlearn: 1103.5337186\ttest: 1476.6823398\tbest: 1471.5386896 (217)\ttotal: 1m 16s\tremaining: 1m 11s\n",
      "517:\tlearn: 1103.3786003\ttest: 1476.6988027\tbest: 1471.5386896 (217)\ttotal: 1m 16s\tremaining: 1m 11s\n",
      "518:\tlearn: 1103.0946147\ttest: 1476.8715444\tbest: 1471.5386896 (217)\ttotal: 1m 17s\tremaining: 1m 11s\n",
      "519:\tlearn: 1102.8133458\ttest: 1476.9734772\tbest: 1471.5386896 (217)\ttotal: 1m 17s\tremaining: 1m 11s\n",
      "520:\tlearn: 1102.4254208\ttest: 1476.7865404\tbest: 1471.5386896 (217)\ttotal: 1m 17s\tremaining: 1m 11s\n",
      "521:\tlearn: 1101.9824216\ttest: 1476.7846261\tbest: 1471.5386896 (217)\ttotal: 1m 17s\tremaining: 1m 10s\n",
      "522:\tlearn: 1101.4790690\ttest: 1476.9044242\tbest: 1471.5386896 (217)\ttotal: 1m 17s\tremaining: 1m 10s\n",
      "523:\tlearn: 1101.0929000\ttest: 1476.9425401\tbest: 1471.5386896 (217)\ttotal: 1m 17s\tremaining: 1m 10s\n",
      "524:\tlearn: 1100.6991011\ttest: 1477.0777764\tbest: 1471.5386896 (217)\ttotal: 1m 17s\tremaining: 1m 10s\n",
      "525:\tlearn: 1100.3194743\ttest: 1477.2637914\tbest: 1471.5386896 (217)\ttotal: 1m 18s\tremaining: 1m 10s\n",
      "526:\tlearn: 1100.0592287\ttest: 1477.3326949\tbest: 1471.5386896 (217)\ttotal: 1m 18s\tremaining: 1m 10s\n",
      "527:\tlearn: 1099.7201431\ttest: 1477.4340643\tbest: 1471.5386896 (217)\ttotal: 1m 18s\tremaining: 1m 10s\n",
      "528:\tlearn: 1099.5300461\ttest: 1477.3647188\tbest: 1471.5386896 (217)\ttotal: 1m 18s\tremaining: 1m 9s\n",
      "529:\tlearn: 1098.6759400\ttest: 1477.3795622\tbest: 1471.5386896 (217)\ttotal: 1m 18s\tremaining: 1m 9s\n",
      "530:\tlearn: 1098.2243947\ttest: 1476.9514996\tbest: 1471.5386896 (217)\ttotal: 1m 18s\tremaining: 1m 9s\n",
      "531:\tlearn: 1097.7995373\ttest: 1477.0080448\tbest: 1471.5386896 (217)\ttotal: 1m 19s\tremaining: 1m 9s\n",
      "532:\tlearn: 1097.4354020\ttest: 1477.1016206\tbest: 1471.5386896 (217)\ttotal: 1m 19s\tremaining: 1m 9s\n",
      "533:\tlearn: 1097.1341201\ttest: 1477.1765079\tbest: 1471.5386896 (217)\ttotal: 1m 19s\tremaining: 1m 9s\n",
      "534:\tlearn: 1096.7979985\ttest: 1476.9645598\tbest: 1471.5386896 (217)\ttotal: 1m 19s\tremaining: 1m 9s\n",
      "535:\tlearn: 1096.5931542\ttest: 1477.1899994\tbest: 1471.5386896 (217)\ttotal: 1m 19s\tremaining: 1m 9s\n",
      "536:\tlearn: 1096.3019340\ttest: 1477.2500124\tbest: 1471.5386896 (217)\ttotal: 1m 20s\tremaining: 1m 8s\n",
      "537:\tlearn: 1095.7731949\ttest: 1477.0630110\tbest: 1471.5386896 (217)\ttotal: 1m 20s\tremaining: 1m 8s\n",
      "538:\tlearn: 1095.4862902\ttest: 1477.0748214\tbest: 1471.5386896 (217)\ttotal: 1m 20s\tremaining: 1m 8s\n",
      "539:\tlearn: 1095.2307725\ttest: 1476.8625912\tbest: 1471.5386896 (217)\ttotal: 1m 20s\tremaining: 1m 8s\n",
      "540:\tlearn: 1094.9752957\ttest: 1476.8214530\tbest: 1471.5386896 (217)\ttotal: 1m 20s\tremaining: 1m 8s\n",
      "541:\tlearn: 1094.4355278\ttest: 1476.9183430\tbest: 1471.5386896 (217)\ttotal: 1m 20s\tremaining: 1m 8s\n",
      "542:\tlearn: 1094.2349187\ttest: 1476.7515629\tbest: 1471.5386896 (217)\ttotal: 1m 20s\tremaining: 1m 8s\n",
      "543:\tlearn: 1093.9903722\ttest: 1476.7217621\tbest: 1471.5386896 (217)\ttotal: 1m 21s\tremaining: 1m 7s\n",
      "544:\tlearn: 1093.4812110\ttest: 1476.6517396\tbest: 1471.5386896 (217)\ttotal: 1m 21s\tremaining: 1m 7s\n",
      "545:\tlearn: 1093.0778185\ttest: 1476.7016855\tbest: 1471.5386896 (217)\ttotal: 1m 21s\tremaining: 1m 7s\n",
      "546:\tlearn: 1092.8049987\ttest: 1476.7455156\tbest: 1471.5386896 (217)\ttotal: 1m 21s\tremaining: 1m 7s\n",
      "547:\tlearn: 1092.3917503\ttest: 1476.9884742\tbest: 1471.5386896 (217)\ttotal: 1m 21s\tremaining: 1m 7s\n",
      "548:\tlearn: 1091.9221779\ttest: 1477.0836011\tbest: 1471.5386896 (217)\ttotal: 1m 21s\tremaining: 1m 7s\n",
      "549:\tlearn: 1091.3030202\ttest: 1477.0930059\tbest: 1471.5386896 (217)\ttotal: 1m 21s\tremaining: 1m 7s\n",
      "550:\tlearn: 1091.0796563\ttest: 1477.2016355\tbest: 1471.5386896 (217)\ttotal: 1m 22s\tremaining: 1m 6s\n",
      "551:\tlearn: 1090.6784221\ttest: 1477.2710337\tbest: 1471.5386896 (217)\ttotal: 1m 22s\tremaining: 1m 6s\n",
      "552:\tlearn: 1090.4719442\ttest: 1477.2588309\tbest: 1471.5386896 (217)\ttotal: 1m 22s\tremaining: 1m 6s\n",
      "553:\tlearn: 1090.0495173\ttest: 1477.2855880\tbest: 1471.5386896 (217)\ttotal: 1m 22s\tremaining: 1m 6s\n",
      "554:\tlearn: 1089.4679151\ttest: 1477.4990366\tbest: 1471.5386896 (217)\ttotal: 1m 22s\tremaining: 1m 6s\n",
      "555:\tlearn: 1088.9979281\ttest: 1477.5345634\tbest: 1471.5386896 (217)\ttotal: 1m 22s\tremaining: 1m 6s\n",
      "556:\tlearn: 1088.6670475\ttest: 1477.6339747\tbest: 1471.5386896 (217)\ttotal: 1m 22s\tremaining: 1m 5s\n",
      "557:\tlearn: 1088.4205946\ttest: 1477.5632437\tbest: 1471.5386896 (217)\ttotal: 1m 23s\tremaining: 1m 5s\n",
      "558:\tlearn: 1087.9784160\ttest: 1477.6559718\tbest: 1471.5386896 (217)\ttotal: 1m 23s\tremaining: 1m 5s\n",
      "559:\tlearn: 1087.6498350\ttest: 1477.5990053\tbest: 1471.5386896 (217)\ttotal: 1m 23s\tremaining: 1m 5s\n",
      "560:\tlearn: 1087.3865376\ttest: 1477.7524181\tbest: 1471.5386896 (217)\ttotal: 1m 23s\tremaining: 1m 5s\n",
      "561:\tlearn: 1087.2450996\ttest: 1477.6665462\tbest: 1471.5386896 (217)\ttotal: 1m 23s\tremaining: 1m 5s\n",
      "562:\tlearn: 1086.6695512\ttest: 1477.6759792\tbest: 1471.5386896 (217)\ttotal: 1m 23s\tremaining: 1m 5s\n",
      "563:\tlearn: 1086.3440549\ttest: 1477.9484443\tbest: 1471.5386896 (217)\ttotal: 1m 23s\tremaining: 1m 4s\n",
      "564:\tlearn: 1085.9715693\ttest: 1477.9571358\tbest: 1471.5386896 (217)\ttotal: 1m 24s\tremaining: 1m 4s\n",
      "565:\tlearn: 1085.7374369\ttest: 1477.9269921\tbest: 1471.5386896 (217)\ttotal: 1m 24s\tremaining: 1m 4s\n",
      "566:\tlearn: 1085.4609602\ttest: 1477.8628482\tbest: 1471.5386896 (217)\ttotal: 1m 24s\tremaining: 1m 4s\n",
      "567:\tlearn: 1084.9589445\ttest: 1477.7064482\tbest: 1471.5386896 (217)\ttotal: 1m 24s\tremaining: 1m 4s\n",
      "568:\tlearn: 1084.7887159\ttest: 1477.6661078\tbest: 1471.5386896 (217)\ttotal: 1m 24s\tremaining: 1m 4s\n",
      "569:\tlearn: 1084.6042609\ttest: 1477.6501967\tbest: 1471.5386896 (217)\ttotal: 1m 24s\tremaining: 1m 4s\n",
      "570:\tlearn: 1084.1907761\ttest: 1477.9051173\tbest: 1471.5386896 (217)\ttotal: 1m 24s\tremaining: 1m 3s\n",
      "571:\tlearn: 1083.7074242\ttest: 1478.1306865\tbest: 1471.5386896 (217)\ttotal: 1m 25s\tremaining: 1m 3s\n",
      "572:\tlearn: 1083.5205243\ttest: 1477.9761635\tbest: 1471.5386896 (217)\ttotal: 1m 25s\tremaining: 1m 3s\n",
      "573:\tlearn: 1083.1275336\ttest: 1477.9284409\tbest: 1471.5386896 (217)\ttotal: 1m 25s\tremaining: 1m 3s\n",
      "574:\tlearn: 1082.8929035\ttest: 1477.9491778\tbest: 1471.5386896 (217)\ttotal: 1m 25s\tremaining: 1m 3s\n",
      "575:\tlearn: 1082.6298003\ttest: 1477.9364722\tbest: 1471.5386896 (217)\ttotal: 1m 25s\tremaining: 1m 3s\n",
      "576:\tlearn: 1082.1352812\ttest: 1478.0551465\tbest: 1471.5386896 (217)\ttotal: 1m 25s\tremaining: 1m 2s\n",
      "577:\tlearn: 1081.5924457\ttest: 1477.9682257\tbest: 1471.5386896 (217)\ttotal: 1m 26s\tremaining: 1m 2s\n",
      "578:\tlearn: 1081.2617104\ttest: 1477.9856107\tbest: 1471.5386896 (217)\ttotal: 1m 26s\tremaining: 1m 2s\n",
      "579:\tlearn: 1080.9657431\ttest: 1477.9828761\tbest: 1471.5386896 (217)\ttotal: 1m 26s\tremaining: 1m 2s\n",
      "580:\tlearn: 1080.6895365\ttest: 1477.9013482\tbest: 1471.5386896 (217)\ttotal: 1m 26s\tremaining: 1m 2s\n",
      "581:\tlearn: 1080.3353662\ttest: 1477.8192109\tbest: 1471.5386896 (217)\ttotal: 1m 26s\tremaining: 1m 2s\n",
      "582:\tlearn: 1079.9914213\ttest: 1477.8144107\tbest: 1471.5386896 (217)\ttotal: 1m 26s\tremaining: 1m 2s\n",
      "583:\tlearn: 1079.4922732\ttest: 1477.4152172\tbest: 1471.5386896 (217)\ttotal: 1m 26s\tremaining: 1m 1s\n",
      "584:\tlearn: 1079.3176261\ttest: 1477.4912699\tbest: 1471.5386896 (217)\ttotal: 1m 27s\tremaining: 1m 1s\n",
      "585:\tlearn: 1078.9262485\ttest: 1477.4619698\tbest: 1471.5386896 (217)\ttotal: 1m 27s\tremaining: 1m 1s\n",
      "586:\tlearn: 1078.3362725\ttest: 1477.5311997\tbest: 1471.5386896 (217)\ttotal: 1m 27s\tremaining: 1m 1s\n",
      "587:\tlearn: 1078.1168322\ttest: 1477.5692444\tbest: 1471.5386896 (217)\ttotal: 1m 27s\tremaining: 1m 1s\n",
      "588:\tlearn: 1077.5631019\ttest: 1477.4803640\tbest: 1471.5386896 (217)\ttotal: 1m 27s\tremaining: 1m 1s\n",
      "589:\tlearn: 1077.3184331\ttest: 1477.5412749\tbest: 1471.5386896 (217)\ttotal: 1m 27s\tremaining: 1m\n",
      "590:\tlearn: 1077.0307626\ttest: 1477.6809551\tbest: 1471.5386896 (217)\ttotal: 1m 27s\tremaining: 1m\n",
      "591:\tlearn: 1076.7843569\ttest: 1477.7628796\tbest: 1471.5386896 (217)\ttotal: 1m 28s\tremaining: 1m\n",
      "592:\tlearn: 1076.5555376\ttest: 1477.8795587\tbest: 1471.5386896 (217)\ttotal: 1m 28s\tremaining: 1m\n",
      "593:\tlearn: 1076.2613534\ttest: 1477.9656348\tbest: 1471.5386896 (217)\ttotal: 1m 28s\tremaining: 1m\n",
      "594:\tlearn: 1075.6536308\ttest: 1478.1217251\tbest: 1471.5386896 (217)\ttotal: 1m 28s\tremaining: 1m\n",
      "595:\tlearn: 1075.1749794\ttest: 1478.3421537\tbest: 1471.5386896 (217)\ttotal: 1m 28s\tremaining: 1m\n",
      "596:\tlearn: 1074.7077910\ttest: 1478.1897914\tbest: 1471.5386896 (217)\ttotal: 1m 28s\tremaining: 59.9s\n",
      "597:\tlearn: 1074.3134221\ttest: 1478.2085079\tbest: 1471.5386896 (217)\ttotal: 1m 28s\tremaining: 59.8s\n",
      "598:\tlearn: 1073.9709679\ttest: 1478.1135190\tbest: 1471.5386896 (217)\ttotal: 1m 29s\tremaining: 59.6s\n",
      "599:\tlearn: 1073.6408866\ttest: 1477.9080938\tbest: 1471.5386896 (217)\ttotal: 1m 29s\tremaining: 59.5s\n",
      "600:\tlearn: 1073.3438361\ttest: 1477.9626148\tbest: 1471.5386896 (217)\ttotal: 1m 29s\tremaining: 59.3s\n",
      "601:\tlearn: 1072.9699845\ttest: 1478.1901444\tbest: 1471.5386896 (217)\ttotal: 1m 29s\tremaining: 59.1s\n",
      "602:\tlearn: 1072.6314441\ttest: 1478.0812747\tbest: 1471.5386896 (217)\ttotal: 1m 29s\tremaining: 59s\n",
      "603:\tlearn: 1072.2164597\ttest: 1478.0526874\tbest: 1471.5386896 (217)\ttotal: 1m 29s\tremaining: 58.8s\n",
      "604:\tlearn: 1071.8307645\ttest: 1478.1747433\tbest: 1471.5386896 (217)\ttotal: 1m 29s\tremaining: 58.7s\n",
      "605:\tlearn: 1071.2395183\ttest: 1478.4266884\tbest: 1471.5386896 (217)\ttotal: 1m 30s\tremaining: 58.5s\n",
      "606:\tlearn: 1070.8284123\ttest: 1478.4047284\tbest: 1471.5386896 (217)\ttotal: 1m 30s\tremaining: 58.4s\n",
      "607:\tlearn: 1070.4193223\ttest: 1478.4928609\tbest: 1471.5386896 (217)\ttotal: 1m 30s\tremaining: 58.2s\n",
      "608:\tlearn: 1069.9816933\ttest: 1478.7452575\tbest: 1471.5386896 (217)\ttotal: 1m 30s\tremaining: 58.1s\n",
      "609:\tlearn: 1069.8043782\ttest: 1478.7984993\tbest: 1471.5386896 (217)\ttotal: 1m 30s\tremaining: 57.9s\n",
      "610:\tlearn: 1069.1105178\ttest: 1478.9362747\tbest: 1471.5386896 (217)\ttotal: 1m 30s\tremaining: 57.8s\n",
      "611:\tlearn: 1068.8360027\ttest: 1478.9663969\tbest: 1471.5386896 (217)\ttotal: 1m 30s\tremaining: 57.6s\n",
      "612:\tlearn: 1068.4790339\ttest: 1479.0648850\tbest: 1471.5386896 (217)\ttotal: 1m 31s\tremaining: 57.5s\n",
      "613:\tlearn: 1068.1327272\ttest: 1479.0196958\tbest: 1471.5386896 (217)\ttotal: 1m 31s\tremaining: 57.3s\n",
      "614:\tlearn: 1067.8796246\ttest: 1478.9339718\tbest: 1471.5386896 (217)\ttotal: 1m 31s\tremaining: 57.2s\n",
      "615:\tlearn: 1067.5077523\ttest: 1479.1778656\tbest: 1471.5386896 (217)\ttotal: 1m 31s\tremaining: 57s\n",
      "616:\tlearn: 1066.9695801\ttest: 1479.4249127\tbest: 1471.5386896 (217)\ttotal: 1m 31s\tremaining: 56.9s\n",
      "617:\tlearn: 1066.6273015\ttest: 1479.5341250\tbest: 1471.5386896 (217)\ttotal: 1m 31s\tremaining: 56.7s\n",
      "618:\tlearn: 1066.3682052\ttest: 1479.4190498\tbest: 1471.5386896 (217)\ttotal: 1m 31s\tremaining: 56.6s\n",
      "619:\tlearn: 1065.7931799\ttest: 1479.4299152\tbest: 1471.5386896 (217)\ttotal: 1m 32s\tremaining: 56.4s\n",
      "620:\tlearn: 1065.3932895\ttest: 1479.5005251\tbest: 1471.5386896 (217)\ttotal: 1m 32s\tremaining: 56.3s\n",
      "621:\tlearn: 1065.2798444\ttest: 1479.5315352\tbest: 1471.5386896 (217)\ttotal: 1m 32s\tremaining: 56.1s\n",
      "622:\tlearn: 1064.9652086\ttest: 1479.4744080\tbest: 1471.5386896 (217)\ttotal: 1m 32s\tremaining: 56s\n",
      "623:\tlearn: 1064.3781157\ttest: 1479.2806145\tbest: 1471.5386896 (217)\ttotal: 1m 32s\tremaining: 55.8s\n",
      "624:\tlearn: 1064.0646388\ttest: 1479.3776045\tbest: 1471.5386896 (217)\ttotal: 1m 32s\tremaining: 55.7s\n",
      "625:\tlearn: 1063.8549719\ttest: 1479.4564655\tbest: 1471.5386896 (217)\ttotal: 1m 32s\tremaining: 55.5s\n",
      "626:\tlearn: 1063.6829722\ttest: 1479.4590694\tbest: 1471.5386896 (217)\ttotal: 1m 33s\tremaining: 55.4s\n",
      "627:\tlearn: 1063.3850303\ttest: 1479.7947509\tbest: 1471.5386896 (217)\ttotal: 1m 33s\tremaining: 55.2s\n",
      "628:\tlearn: 1063.0613990\ttest: 1480.0090499\tbest: 1471.5386896 (217)\ttotal: 1m 33s\tremaining: 55.1s\n",
      "629:\tlearn: 1062.7385971\ttest: 1480.0157430\tbest: 1471.5386896 (217)\ttotal: 1m 33s\tremaining: 54.9s\n",
      "630:\tlearn: 1062.5280384\ttest: 1479.9758392\tbest: 1471.5386896 (217)\ttotal: 1m 33s\tremaining: 54.8s\n",
      "631:\tlearn: 1062.2312938\ttest: 1479.8370282\tbest: 1471.5386896 (217)\ttotal: 1m 33s\tremaining: 54.6s\n",
      "632:\tlearn: 1061.9504525\ttest: 1479.9050704\tbest: 1471.5386896 (217)\ttotal: 1m 33s\tremaining: 54.5s\n",
      "633:\tlearn: 1061.6746242\ttest: 1480.1338815\tbest: 1471.5386896 (217)\ttotal: 1m 34s\tremaining: 54.3s\n",
      "634:\tlearn: 1061.2605732\ttest: 1480.0218385\tbest: 1471.5386896 (217)\ttotal: 1m 34s\tremaining: 54.2s\n",
      "635:\tlearn: 1060.9944080\ttest: 1480.1253683\tbest: 1471.5386896 (217)\ttotal: 1m 34s\tremaining: 54s\n",
      "636:\tlearn: 1060.8399104\ttest: 1480.0983066\tbest: 1471.5386896 (217)\ttotal: 1m 34s\tremaining: 53.9s\n",
      "637:\tlearn: 1060.5962264\ttest: 1480.1363694\tbest: 1471.5386896 (217)\ttotal: 1m 34s\tremaining: 53.7s\n",
      "638:\tlearn: 1060.4580733\ttest: 1480.1587250\tbest: 1471.5386896 (217)\ttotal: 1m 34s\tremaining: 53.6s\n",
      "639:\tlearn: 1060.1337612\ttest: 1480.2793362\tbest: 1471.5386896 (217)\ttotal: 1m 34s\tremaining: 53.4s\n",
      "640:\tlearn: 1059.6739761\ttest: 1480.3034264\tbest: 1471.5386896 (217)\ttotal: 1m 35s\tremaining: 53.3s\n",
      "641:\tlearn: 1059.4989129\ttest: 1480.3059465\tbest: 1471.5386896 (217)\ttotal: 1m 35s\tremaining: 53.1s\n",
      "642:\tlearn: 1059.0572292\ttest: 1480.4993246\tbest: 1471.5386896 (217)\ttotal: 1m 35s\tremaining: 53s\n",
      "643:\tlearn: 1058.7917798\ttest: 1480.4295127\tbest: 1471.5386896 (217)\ttotal: 1m 35s\tremaining: 52.8s\n",
      "644:\tlearn: 1058.3529157\ttest: 1480.2802991\tbest: 1471.5386896 (217)\ttotal: 1m 35s\tremaining: 52.7s\n",
      "645:\tlearn: 1058.1837089\ttest: 1480.2572716\tbest: 1471.5386896 (217)\ttotal: 1m 35s\tremaining: 52.5s\n",
      "646:\tlearn: 1057.8287733\ttest: 1480.2442702\tbest: 1471.5386896 (217)\ttotal: 1m 36s\tremaining: 52.4s\n",
      "647:\tlearn: 1057.6362400\ttest: 1480.3107373\tbest: 1471.5386896 (217)\ttotal: 1m 36s\tremaining: 52.2s\n",
      "648:\tlearn: 1057.4391394\ttest: 1480.3407139\tbest: 1471.5386896 (217)\ttotal: 1m 36s\tremaining: 52.1s\n",
      "649:\tlearn: 1057.2513788\ttest: 1480.3001922\tbest: 1471.5386896 (217)\ttotal: 1m 36s\tremaining: 51.9s\n",
      "650:\tlearn: 1057.0434488\ttest: 1480.0821630\tbest: 1471.5386896 (217)\ttotal: 1m 36s\tremaining: 51.8s\n",
      "651:\tlearn: 1056.8155801\ttest: 1480.0944645\tbest: 1471.5386896 (217)\ttotal: 1m 36s\tremaining: 51.6s\n",
      "652:\tlearn: 1056.4873851\ttest: 1480.0939830\tbest: 1471.5386896 (217)\ttotal: 1m 36s\tremaining: 51.5s\n",
      "653:\tlearn: 1056.3694360\ttest: 1480.1165340\tbest: 1471.5386896 (217)\ttotal: 1m 37s\tremaining: 51.3s\n",
      "654:\tlearn: 1056.3042692\ttest: 1480.1055331\tbest: 1471.5386896 (217)\ttotal: 1m 37s\tremaining: 51.2s\n",
      "655:\tlearn: 1056.0303895\ttest: 1480.2556861\tbest: 1471.5386896 (217)\ttotal: 1m 37s\tremaining: 51s\n",
      "656:\tlearn: 1055.8681722\ttest: 1480.3212329\tbest: 1471.5386896 (217)\ttotal: 1m 37s\tremaining: 50.9s\n",
      "657:\tlearn: 1055.5131455\ttest: 1480.3170976\tbest: 1471.5386896 (217)\ttotal: 1m 37s\tremaining: 50.7s\n",
      "658:\tlearn: 1055.2647927\ttest: 1480.4619960\tbest: 1471.5386896 (217)\ttotal: 1m 37s\tremaining: 50.6s\n",
      "659:\tlearn: 1055.0778768\ttest: 1480.4955796\tbest: 1471.5386896 (217)\ttotal: 1m 37s\tremaining: 50.4s\n",
      "660:\tlearn: 1054.6602981\ttest: 1480.3613497\tbest: 1471.5386896 (217)\ttotal: 1m 38s\tremaining: 50.3s\n",
      "661:\tlearn: 1054.4147102\ttest: 1480.3211409\tbest: 1471.5386896 (217)\ttotal: 1m 38s\tremaining: 50.1s\n",
      "662:\tlearn: 1053.9497909\ttest: 1480.2789616\tbest: 1471.5386896 (217)\ttotal: 1m 38s\tremaining: 50s\n",
      "663:\tlearn: 1053.6793411\ttest: 1480.2754946\tbest: 1471.5386896 (217)\ttotal: 1m 38s\tremaining: 49.9s\n",
      "664:\tlearn: 1053.2141894\ttest: 1480.1893039\tbest: 1471.5386896 (217)\ttotal: 1m 38s\tremaining: 49.7s\n",
      "665:\tlearn: 1052.7732672\ttest: 1480.3968448\tbest: 1471.5386896 (217)\ttotal: 1m 38s\tremaining: 49.6s\n",
      "666:\tlearn: 1052.4952848\ttest: 1480.3738326\tbest: 1471.5386896 (217)\ttotal: 1m 38s\tremaining: 49.4s\n",
      "667:\tlearn: 1052.1783799\ttest: 1480.3092770\tbest: 1471.5386896 (217)\ttotal: 1m 39s\tremaining: 49.3s\n",
      "668:\tlearn: 1051.9824710\ttest: 1480.2243595\tbest: 1471.5386896 (217)\ttotal: 1m 39s\tremaining: 49.1s\n",
      "669:\tlearn: 1051.7375569\ttest: 1480.3130231\tbest: 1471.5386896 (217)\ttotal: 1m 39s\tremaining: 49s\n",
      "670:\tlearn: 1051.4119471\ttest: 1480.5239063\tbest: 1471.5386896 (217)\ttotal: 1m 39s\tremaining: 48.8s\n",
      "671:\tlearn: 1050.8738651\ttest: 1480.4608134\tbest: 1471.5386896 (217)\ttotal: 1m 39s\tremaining: 48.7s\n",
      "672:\tlearn: 1050.4834648\ttest: 1480.4193975\tbest: 1471.5386896 (217)\ttotal: 1m 39s\tremaining: 48.5s\n",
      "673:\tlearn: 1050.0906970\ttest: 1480.4696934\tbest: 1471.5386896 (217)\ttotal: 1m 40s\tremaining: 48.4s\n",
      "674:\tlearn: 1049.8940758\ttest: 1480.3377123\tbest: 1471.5386896 (217)\ttotal: 1m 40s\tremaining: 48.2s\n",
      "675:\tlearn: 1049.6800026\ttest: 1480.4921529\tbest: 1471.5386896 (217)\ttotal: 1m 40s\tremaining: 48.1s\n",
      "676:\tlearn: 1049.4431568\ttest: 1480.4677077\tbest: 1471.5386896 (217)\ttotal: 1m 40s\tremaining: 47.9s\n",
      "677:\tlearn: 1049.3432996\ttest: 1480.4654827\tbest: 1471.5386896 (217)\ttotal: 1m 40s\tremaining: 47.8s\n",
      "678:\tlearn: 1049.1710118\ttest: 1480.7003678\tbest: 1471.5386896 (217)\ttotal: 1m 40s\tremaining: 47.6s\n",
      "679:\tlearn: 1048.5347833\ttest: 1480.6206447\tbest: 1471.5386896 (217)\ttotal: 1m 40s\tremaining: 47.5s\n",
      "680:\tlearn: 1048.1952435\ttest: 1480.6288342\tbest: 1471.5386896 (217)\ttotal: 1m 41s\tremaining: 47.4s\n",
      "681:\tlearn: 1047.9842958\ttest: 1480.6977534\tbest: 1471.5386896 (217)\ttotal: 1m 41s\tremaining: 47.2s\n",
      "682:\tlearn: 1047.7064956\ttest: 1480.8615979\tbest: 1471.5386896 (217)\ttotal: 1m 41s\tremaining: 47.1s\n",
      "683:\tlearn: 1047.5343180\ttest: 1480.8740725\tbest: 1471.5386896 (217)\ttotal: 1m 41s\tremaining: 47s\n",
      "684:\tlearn: 1047.4451855\ttest: 1480.9325344\tbest: 1471.5386896 (217)\ttotal: 1m 41s\tremaining: 46.8s\n",
      "685:\tlearn: 1047.2562654\ttest: 1480.8449346\tbest: 1471.5386896 (217)\ttotal: 1m 41s\tremaining: 46.7s\n",
      "686:\tlearn: 1047.0747949\ttest: 1480.7145970\tbest: 1471.5386896 (217)\ttotal: 1m 42s\tremaining: 46.5s\n",
      "687:\tlearn: 1046.9580211\ttest: 1480.7401163\tbest: 1471.5386896 (217)\ttotal: 1m 42s\tremaining: 46.4s\n",
      "688:\tlearn: 1046.8540243\ttest: 1480.8381985\tbest: 1471.5386896 (217)\ttotal: 1m 42s\tremaining: 46.2s\n",
      "689:\tlearn: 1046.7212549\ttest: 1480.8702271\tbest: 1471.5386896 (217)\ttotal: 1m 42s\tremaining: 46.1s\n",
      "690:\tlearn: 1046.4430733\ttest: 1480.8663042\tbest: 1471.5386896 (217)\ttotal: 1m 42s\tremaining: 45.9s\n",
      "691:\tlearn: 1046.3667591\ttest: 1480.8849202\tbest: 1471.5386896 (217)\ttotal: 1m 42s\tremaining: 45.8s\n",
      "692:\tlearn: 1046.2508598\ttest: 1480.7999796\tbest: 1471.5386896 (217)\ttotal: 1m 43s\tremaining: 45.7s\n",
      "693:\tlearn: 1045.8925376\ttest: 1480.8850427\tbest: 1471.5386896 (217)\ttotal: 1m 43s\tremaining: 45.5s\n",
      "694:\tlearn: 1045.3010438\ttest: 1480.7295093\tbest: 1471.5386896 (217)\ttotal: 1m 43s\tremaining: 45.4s\n",
      "695:\tlearn: 1044.9056619\ttest: 1480.9623187\tbest: 1471.5386896 (217)\ttotal: 1m 43s\tremaining: 45.2s\n",
      "696:\tlearn: 1044.2691644\ttest: 1480.8052811\tbest: 1471.5386896 (217)\ttotal: 1m 43s\tremaining: 45.1s\n",
      "697:\tlearn: 1044.1550922\ttest: 1480.8102568\tbest: 1471.5386896 (217)\ttotal: 1m 43s\tremaining: 44.9s\n",
      "698:\tlearn: 1043.9039565\ttest: 1480.9454531\tbest: 1471.5386896 (217)\ttotal: 1m 44s\tremaining: 44.8s\n",
      "699:\tlearn: 1043.6669144\ttest: 1481.0121623\tbest: 1471.5386896 (217)\ttotal: 1m 44s\tremaining: 44.6s\n",
      "700:\tlearn: 1043.5577342\ttest: 1480.9303138\tbest: 1471.5386896 (217)\ttotal: 1m 44s\tremaining: 44.5s\n",
      "701:\tlearn: 1043.3687235\ttest: 1480.8737694\tbest: 1471.5386896 (217)\ttotal: 1m 44s\tremaining: 44.3s\n",
      "702:\tlearn: 1043.0798810\ttest: 1480.8119931\tbest: 1471.5386896 (217)\ttotal: 1m 44s\tremaining: 44.2s\n",
      "703:\tlearn: 1042.9805210\ttest: 1480.7627128\tbest: 1471.5386896 (217)\ttotal: 1m 44s\tremaining: 44s\n",
      "704:\tlearn: 1042.7087893\ttest: 1480.7652612\tbest: 1471.5386896 (217)\ttotal: 1m 44s\tremaining: 43.9s\n",
      "705:\tlearn: 1042.1324504\ttest: 1480.7802589\tbest: 1471.5386896 (217)\ttotal: 1m 45s\tremaining: 43.7s\n",
      "706:\tlearn: 1041.9489286\ttest: 1480.7974592\tbest: 1471.5386896 (217)\ttotal: 1m 45s\tremaining: 43.6s\n",
      "707:\tlearn: 1041.5566275\ttest: 1480.9692615\tbest: 1471.5386896 (217)\ttotal: 1m 45s\tremaining: 43.4s\n",
      "708:\tlearn: 1041.4063726\ttest: 1480.9958686\tbest: 1471.5386896 (217)\ttotal: 1m 45s\tremaining: 43.3s\n",
      "709:\tlearn: 1041.2520447\ttest: 1480.9453398\tbest: 1471.5386896 (217)\ttotal: 1m 45s\tremaining: 43.1s\n",
      "710:\tlearn: 1041.0590279\ttest: 1480.9256005\tbest: 1471.5386896 (217)\ttotal: 1m 45s\tremaining: 43s\n",
      "711:\tlearn: 1040.8863201\ttest: 1480.9844113\tbest: 1471.5386896 (217)\ttotal: 1m 45s\tremaining: 42.8s\n",
      "712:\tlearn: 1040.6522459\ttest: 1481.0760346\tbest: 1471.5386896 (217)\ttotal: 1m 46s\tremaining: 42.7s\n",
      "713:\tlearn: 1040.4760151\ttest: 1481.0642165\tbest: 1471.5386896 (217)\ttotal: 1m 46s\tremaining: 42.5s\n",
      "714:\tlearn: 1039.9268730\ttest: 1480.9224525\tbest: 1471.5386896 (217)\ttotal: 1m 46s\tremaining: 42.4s\n",
      "715:\tlearn: 1039.5045892\ttest: 1480.8080497\tbest: 1471.5386896 (217)\ttotal: 1m 46s\tremaining: 42.2s\n",
      "716:\tlearn: 1039.3814487\ttest: 1480.7559853\tbest: 1471.5386896 (217)\ttotal: 1m 46s\tremaining: 42.1s\n",
      "717:\tlearn: 1039.2808518\ttest: 1480.7482886\tbest: 1471.5386896 (217)\ttotal: 1m 46s\tremaining: 41.9s\n",
      "718:\tlearn: 1038.9557344\ttest: 1480.9916816\tbest: 1471.5386896 (217)\ttotal: 1m 46s\tremaining: 41.8s\n",
      "719:\tlearn: 1038.7270700\ttest: 1480.9865428\tbest: 1471.5386896 (217)\ttotal: 1m 47s\tremaining: 41.6s\n",
      "720:\tlearn: 1038.4425280\ttest: 1481.1022541\tbest: 1471.5386896 (217)\ttotal: 1m 47s\tremaining: 41.5s\n",
      "721:\tlearn: 1038.1946021\ttest: 1481.0196834\tbest: 1471.5386896 (217)\ttotal: 1m 47s\tremaining: 41.3s\n",
      "722:\tlearn: 1038.0968361\ttest: 1481.0222935\tbest: 1471.5386896 (217)\ttotal: 1m 47s\tremaining: 41.2s\n",
      "723:\tlearn: 1037.5533468\ttest: 1480.8363891\tbest: 1471.5386896 (217)\ttotal: 1m 47s\tremaining: 41.1s\n",
      "724:\tlearn: 1037.0169843\ttest: 1480.8516005\tbest: 1471.5386896 (217)\ttotal: 1m 47s\tremaining: 40.9s\n",
      "725:\tlearn: 1036.8137778\ttest: 1480.5968282\tbest: 1471.5386896 (217)\ttotal: 1m 47s\tremaining: 40.8s\n",
      "726:\tlearn: 1036.5376886\ttest: 1480.6301822\tbest: 1471.5386896 (217)\ttotal: 1m 48s\tremaining: 40.6s\n",
      "727:\tlearn: 1036.3198719\ttest: 1480.5490801\tbest: 1471.5386896 (217)\ttotal: 1m 48s\tremaining: 40.5s\n",
      "728:\tlearn: 1035.9905071\ttest: 1480.5140870\tbest: 1471.5386896 (217)\ttotal: 1m 48s\tremaining: 40.3s\n",
      "729:\tlearn: 1035.5747182\ttest: 1480.6084740\tbest: 1471.5386896 (217)\ttotal: 1m 48s\tremaining: 40.2s\n",
      "730:\tlearn: 1035.5094406\ttest: 1480.7137235\tbest: 1471.5386896 (217)\ttotal: 1m 48s\tremaining: 40s\n",
      "731:\tlearn: 1035.2933852\ttest: 1480.7600790\tbest: 1471.5386896 (217)\ttotal: 1m 48s\tremaining: 39.9s\n",
      "732:\tlearn: 1035.0308516\ttest: 1480.9134883\tbest: 1471.5386896 (217)\ttotal: 1m 48s\tremaining: 39.7s\n",
      "733:\tlearn: 1034.8576564\ttest: 1480.8495239\tbest: 1471.5386896 (217)\ttotal: 1m 49s\tremaining: 39.6s\n",
      "734:\tlearn: 1034.4009356\ttest: 1480.9693725\tbest: 1471.5386896 (217)\ttotal: 1m 49s\tremaining: 39.4s\n",
      "735:\tlearn: 1034.2675704\ttest: 1481.0487798\tbest: 1471.5386896 (217)\ttotal: 1m 49s\tremaining: 39.3s\n",
      "736:\tlearn: 1034.0150708\ttest: 1481.0635337\tbest: 1471.5386896 (217)\ttotal: 1m 49s\tremaining: 39.1s\n",
      "737:\tlearn: 1033.8378271\ttest: 1481.2686577\tbest: 1471.5386896 (217)\ttotal: 1m 49s\tremaining: 39s\n",
      "738:\tlearn: 1033.5500887\ttest: 1481.4369007\tbest: 1471.5386896 (217)\ttotal: 1m 49s\tremaining: 38.8s\n",
      "739:\tlearn: 1033.1753889\ttest: 1481.5282900\tbest: 1471.5386896 (217)\ttotal: 1m 50s\tremaining: 38.7s\n",
      "740:\tlearn: 1033.0450942\ttest: 1481.5555796\tbest: 1471.5386896 (217)\ttotal: 1m 50s\tremaining: 38.5s\n",
      "741:\tlearn: 1032.6981878\ttest: 1481.4282519\tbest: 1471.5386896 (217)\ttotal: 1m 50s\tremaining: 38.4s\n",
      "742:\tlearn: 1032.4210276\ttest: 1481.2807282\tbest: 1471.5386896 (217)\ttotal: 1m 50s\tremaining: 38.2s\n",
      "743:\tlearn: 1032.0578380\ttest: 1481.7790472\tbest: 1471.5386896 (217)\ttotal: 1m 50s\tremaining: 38.1s\n",
      "744:\tlearn: 1031.9237072\ttest: 1481.8579454\tbest: 1471.5386896 (217)\ttotal: 1m 50s\tremaining: 37.9s\n",
      "745:\tlearn: 1031.4822853\ttest: 1481.8863750\tbest: 1471.5386896 (217)\ttotal: 1m 50s\tremaining: 37.8s\n",
      "746:\tlearn: 1031.2044194\ttest: 1481.8983838\tbest: 1471.5386896 (217)\ttotal: 1m 51s\tremaining: 37.6s\n",
      "747:\tlearn: 1030.8922396\ttest: 1481.8690889\tbest: 1471.5386896 (217)\ttotal: 1m 51s\tremaining: 37.5s\n",
      "748:\tlearn: 1030.5006662\ttest: 1481.9186702\tbest: 1471.5386896 (217)\ttotal: 1m 51s\tremaining: 37.3s\n",
      "749:\tlearn: 1030.3770009\ttest: 1482.0446983\tbest: 1471.5386896 (217)\ttotal: 1m 51s\tremaining: 37.2s\n",
      "750:\tlearn: 1030.1711281\ttest: 1482.0105670\tbest: 1471.5386896 (217)\ttotal: 1m 51s\tremaining: 37s\n",
      "751:\tlearn: 1030.1391574\ttest: 1481.9946111\tbest: 1471.5386896 (217)\ttotal: 1m 51s\tremaining: 36.9s\n",
      "752:\tlearn: 1029.9909525\ttest: 1482.0537513\tbest: 1471.5386896 (217)\ttotal: 1m 51s\tremaining: 36.7s\n",
      "753:\tlearn: 1029.5685274\ttest: 1482.2801151\tbest: 1471.5386896 (217)\ttotal: 1m 52s\tremaining: 36.6s\n",
      "754:\tlearn: 1029.1365237\ttest: 1482.2596524\tbest: 1471.5386896 (217)\ttotal: 1m 52s\tremaining: 36.4s\n",
      "755:\tlearn: 1028.8568763\ttest: 1482.3250565\tbest: 1471.5386896 (217)\ttotal: 1m 52s\tremaining: 36.3s\n",
      "756:\tlearn: 1028.7411556\ttest: 1482.3127223\tbest: 1471.5386896 (217)\ttotal: 1m 52s\tremaining: 36.1s\n",
      "757:\tlearn: 1028.3197383\ttest: 1482.2232402\tbest: 1471.5386896 (217)\ttotal: 1m 52s\tremaining: 36s\n",
      "758:\tlearn: 1028.1000286\ttest: 1482.3187733\tbest: 1471.5386896 (217)\ttotal: 1m 52s\tremaining: 35.8s\n",
      "759:\tlearn: 1027.9466701\ttest: 1482.2758390\tbest: 1471.5386896 (217)\ttotal: 1m 52s\tremaining: 35.7s\n",
      "760:\tlearn: 1027.7382574\ttest: 1482.3848566\tbest: 1471.5386896 (217)\ttotal: 1m 53s\tremaining: 35.5s\n",
      "761:\tlearn: 1027.6064280\ttest: 1482.4077068\tbest: 1471.5386896 (217)\ttotal: 1m 53s\tremaining: 35.4s\n",
      "762:\tlearn: 1027.1714642\ttest: 1482.4004319\tbest: 1471.5386896 (217)\ttotal: 1m 53s\tremaining: 35.2s\n",
      "763:\tlearn: 1026.8341033\ttest: 1482.4274453\tbest: 1471.5386896 (217)\ttotal: 1m 53s\tremaining: 35.1s\n",
      "764:\tlearn: 1026.6371718\ttest: 1482.4270169\tbest: 1471.5386896 (217)\ttotal: 1m 53s\tremaining: 34.9s\n",
      "765:\tlearn: 1026.3571182\ttest: 1482.3898875\tbest: 1471.5386896 (217)\ttotal: 1m 53s\tremaining: 34.8s\n",
      "766:\tlearn: 1026.1853478\ttest: 1482.4986610\tbest: 1471.5386896 (217)\ttotal: 1m 53s\tremaining: 34.6s\n",
      "767:\tlearn: 1025.8552996\ttest: 1482.6158870\tbest: 1471.5386896 (217)\ttotal: 1m 54s\tremaining: 34.5s\n",
      "768:\tlearn: 1025.5295776\ttest: 1482.8457276\tbest: 1471.5386896 (217)\ttotal: 1m 54s\tremaining: 34.3s\n",
      "769:\tlearn: 1025.1375921\ttest: 1482.6981526\tbest: 1471.5386896 (217)\ttotal: 1m 54s\tremaining: 34.2s\n",
      "770:\tlearn: 1024.7642713\ttest: 1482.5941288\tbest: 1471.5386896 (217)\ttotal: 1m 54s\tremaining: 34s\n",
      "771:\tlearn: 1024.3096346\ttest: 1482.8187054\tbest: 1471.5386896 (217)\ttotal: 1m 54s\tremaining: 33.9s\n",
      "772:\tlearn: 1023.9885246\ttest: 1482.6581064\tbest: 1471.5386896 (217)\ttotal: 1m 54s\tremaining: 33.7s\n",
      "773:\tlearn: 1023.6831782\ttest: 1482.7282906\tbest: 1471.5386896 (217)\ttotal: 1m 54s\tremaining: 33.6s\n",
      "774:\tlearn: 1023.5090236\ttest: 1482.8049265\tbest: 1471.5386896 (217)\ttotal: 1m 55s\tremaining: 33.4s\n",
      "775:\tlearn: 1023.2434699\ttest: 1482.9319960\tbest: 1471.5386896 (217)\ttotal: 1m 55s\tremaining: 33.3s\n",
      "776:\tlearn: 1023.0872746\ttest: 1482.9378293\tbest: 1471.5386896 (217)\ttotal: 1m 55s\tremaining: 33.1s\n",
      "777:\tlearn: 1022.5438227\ttest: 1482.9076344\tbest: 1471.5386896 (217)\ttotal: 1m 55s\tremaining: 33s\n",
      "778:\tlearn: 1022.2951330\ttest: 1482.8466100\tbest: 1471.5386896 (217)\ttotal: 1m 55s\tremaining: 32.8s\n",
      "779:\tlearn: 1022.0229437\ttest: 1482.7577365\tbest: 1471.5386896 (217)\ttotal: 1m 55s\tremaining: 32.7s\n",
      "780:\tlearn: 1021.7556513\ttest: 1482.6999140\tbest: 1471.5386896 (217)\ttotal: 1m 55s\tremaining: 32.5s\n",
      "781:\tlearn: 1021.6724459\ttest: 1482.7421257\tbest: 1471.5386896 (217)\ttotal: 1m 56s\tremaining: 32.4s\n",
      "782:\tlearn: 1021.5334519\ttest: 1482.6653258\tbest: 1471.5386896 (217)\ttotal: 1m 56s\tremaining: 32.2s\n",
      "783:\tlearn: 1021.3139611\ttest: 1482.4902901\tbest: 1471.5386896 (217)\ttotal: 1m 56s\tremaining: 32.1s\n",
      "784:\tlearn: 1021.1275518\ttest: 1482.5886613\tbest: 1471.5386896 (217)\ttotal: 1m 56s\tremaining: 31.9s\n",
      "785:\tlearn: 1020.8347639\ttest: 1482.6117360\tbest: 1471.5386896 (217)\ttotal: 1m 56s\tremaining: 31.8s\n",
      "786:\tlearn: 1020.8025583\ttest: 1482.6354772\tbest: 1471.5386896 (217)\ttotal: 1m 56s\tremaining: 31.6s\n",
      "787:\tlearn: 1020.6563082\ttest: 1482.6184483\tbest: 1471.5386896 (217)\ttotal: 1m 57s\tremaining: 31.5s\n",
      "788:\tlearn: 1020.4781228\ttest: 1482.6429045\tbest: 1471.5386896 (217)\ttotal: 1m 57s\tremaining: 31.4s\n",
      "789:\tlearn: 1020.4200539\ttest: 1482.6199549\tbest: 1471.5386896 (217)\ttotal: 1m 57s\tremaining: 31.2s\n",
      "790:\tlearn: 1020.2335527\ttest: 1482.7351379\tbest: 1471.5386896 (217)\ttotal: 1m 57s\tremaining: 31.1s\n",
      "791:\tlearn: 1020.1292631\ttest: 1482.7636955\tbest: 1471.5386896 (217)\ttotal: 1m 57s\tremaining: 30.9s\n",
      "792:\tlearn: 1019.8976606\ttest: 1482.7222852\tbest: 1471.5386896 (217)\ttotal: 1m 57s\tremaining: 30.7s\n",
      "793:\tlearn: 1019.5827181\ttest: 1482.8037320\tbest: 1471.5386896 (217)\ttotal: 1m 57s\tremaining: 30.6s\n",
      "794:\tlearn: 1019.2961754\ttest: 1483.0660079\tbest: 1471.5386896 (217)\ttotal: 1m 58s\tremaining: 30.4s\n",
      "795:\tlearn: 1019.1811091\ttest: 1483.1072784\tbest: 1471.5386896 (217)\ttotal: 1m 58s\tremaining: 30.3s\n",
      "796:\tlearn: 1019.0325619\ttest: 1483.1090586\tbest: 1471.5386896 (217)\ttotal: 1m 58s\tremaining: 30.1s\n",
      "797:\tlearn: 1018.8375344\ttest: 1483.1917314\tbest: 1471.5386896 (217)\ttotal: 1m 58s\tremaining: 30s\n",
      "798:\tlearn: 1018.4858881\ttest: 1483.3523164\tbest: 1471.5386896 (217)\ttotal: 1m 58s\tremaining: 29.8s\n",
      "799:\tlearn: 1018.4114793\ttest: 1483.3734557\tbest: 1471.5386896 (217)\ttotal: 1m 58s\tremaining: 29.7s\n",
      "800:\tlearn: 1018.0477342\ttest: 1483.3375299\tbest: 1471.5386896 (217)\ttotal: 1m 58s\tremaining: 29.6s\n",
      "801:\tlearn: 1017.7913837\ttest: 1483.2850437\tbest: 1471.5386896 (217)\ttotal: 1m 59s\tremaining: 29.4s\n",
      "802:\tlearn: 1017.7202021\ttest: 1483.2274839\tbest: 1471.5386896 (217)\ttotal: 1m 59s\tremaining: 29.3s\n",
      "803:\tlearn: 1017.5851519\ttest: 1483.0633770\tbest: 1471.5386896 (217)\ttotal: 1m 59s\tremaining: 29.1s\n",
      "804:\tlearn: 1017.4860857\ttest: 1483.0628191\tbest: 1471.5386896 (217)\ttotal: 1m 59s\tremaining: 29s\n",
      "805:\tlearn: 1017.1465749\ttest: 1483.0232400\tbest: 1471.5386896 (217)\ttotal: 1m 59s\tremaining: 28.8s\n",
      "806:\tlearn: 1016.9681397\ttest: 1482.9296606\tbest: 1471.5386896 (217)\ttotal: 1m 59s\tremaining: 28.7s\n",
      "807:\tlearn: 1016.8216573\ttest: 1483.0555142\tbest: 1471.5386896 (217)\ttotal: 2m\tremaining: 28.5s\n",
      "808:\tlearn: 1016.7299522\ttest: 1483.0127378\tbest: 1471.5386896 (217)\ttotal: 2m\tremaining: 28.4s\n",
      "809:\tlearn: 1016.4339126\ttest: 1483.0253224\tbest: 1471.5386896 (217)\ttotal: 2m\tremaining: 28.2s\n",
      "810:\tlearn: 1016.2515079\ttest: 1483.1174985\tbest: 1471.5386896 (217)\ttotal: 2m\tremaining: 28.1s\n",
      "811:\tlearn: 1016.0434524\ttest: 1483.1437558\tbest: 1471.5386896 (217)\ttotal: 2m\tremaining: 27.9s\n",
      "812:\tlearn: 1015.7867238\ttest: 1483.0852296\tbest: 1471.5386896 (217)\ttotal: 2m\tremaining: 27.8s\n",
      "813:\tlearn: 1015.5246029\ttest: 1483.1876678\tbest: 1471.5386896 (217)\ttotal: 2m\tremaining: 27.6s\n",
      "814:\tlearn: 1015.4124861\ttest: 1483.1197202\tbest: 1471.5386896 (217)\ttotal: 2m 1s\tremaining: 27.5s\n",
      "815:\tlearn: 1015.2737645\ttest: 1483.0919028\tbest: 1471.5386896 (217)\ttotal: 2m 1s\tremaining: 27.3s\n",
      "816:\tlearn: 1015.0574603\ttest: 1483.1442965\tbest: 1471.5386896 (217)\ttotal: 2m 1s\tremaining: 27.2s\n",
      "817:\tlearn: 1014.6453757\ttest: 1483.1381889\tbest: 1471.5386896 (217)\ttotal: 2m 1s\tremaining: 27s\n",
      "818:\tlearn: 1014.5334475\ttest: 1483.2063887\tbest: 1471.5386896 (217)\ttotal: 2m 1s\tremaining: 26.9s\n",
      "819:\tlearn: 1014.2182716\ttest: 1482.9999091\tbest: 1471.5386896 (217)\ttotal: 2m 1s\tremaining: 26.7s\n",
      "820:\tlearn: 1014.0085834\ttest: 1483.1091591\tbest: 1471.5386896 (217)\ttotal: 2m 1s\tremaining: 26.6s\n",
      "821:\tlearn: 1013.8817520\ttest: 1483.0873231\tbest: 1471.5386896 (217)\ttotal: 2m 2s\tremaining: 26.4s\n",
      "822:\tlearn: 1013.6100640\ttest: 1483.0833744\tbest: 1471.5386896 (217)\ttotal: 2m 2s\tremaining: 26.3s\n",
      "823:\tlearn: 1013.2495322\ttest: 1483.2250791\tbest: 1471.5386896 (217)\ttotal: 2m 2s\tremaining: 26.1s\n",
      "824:\tlearn: 1013.1288211\ttest: 1483.2587934\tbest: 1471.5386896 (217)\ttotal: 2m 2s\tremaining: 26s\n",
      "825:\tlearn: 1012.7963876\ttest: 1483.2891185\tbest: 1471.5386896 (217)\ttotal: 2m 2s\tremaining: 25.8s\n",
      "826:\tlearn: 1012.5425841\ttest: 1483.3072657\tbest: 1471.5386896 (217)\ttotal: 2m 2s\tremaining: 25.7s\n",
      "827:\tlearn: 1012.2439991\ttest: 1483.3210855\tbest: 1471.5386896 (217)\ttotal: 2m 2s\tremaining: 25.5s\n",
      "828:\tlearn: 1011.9807614\ttest: 1483.3455042\tbest: 1471.5386896 (217)\ttotal: 2m 3s\tremaining: 25.4s\n",
      "829:\tlearn: 1011.8857848\ttest: 1483.3361802\tbest: 1471.5386896 (217)\ttotal: 2m 3s\tremaining: 25.2s\n",
      "830:\tlearn: 1011.6307859\ttest: 1483.2671411\tbest: 1471.5386896 (217)\ttotal: 2m 3s\tremaining: 25.1s\n",
      "831:\tlearn: 1011.4646110\ttest: 1483.3477137\tbest: 1471.5386896 (217)\ttotal: 2m 3s\tremaining: 24.9s\n",
      "832:\tlearn: 1011.1859555\ttest: 1483.4210633\tbest: 1471.5386896 (217)\ttotal: 2m 3s\tremaining: 24.8s\n",
      "833:\tlearn: 1011.1063436\ttest: 1483.4402433\tbest: 1471.5386896 (217)\ttotal: 2m 3s\tremaining: 24.6s\n",
      "834:\tlearn: 1010.6438968\ttest: 1483.5637385\tbest: 1471.5386896 (217)\ttotal: 2m 3s\tremaining: 24.5s\n",
      "835:\tlearn: 1010.4989160\ttest: 1483.4774806\tbest: 1471.5386896 (217)\ttotal: 2m 4s\tremaining: 24.3s\n",
      "836:\tlearn: 1010.3544076\ttest: 1483.4554256\tbest: 1471.5386896 (217)\ttotal: 2m 4s\tremaining: 24.2s\n",
      "837:\tlearn: 1010.1844453\ttest: 1483.4318004\tbest: 1471.5386896 (217)\ttotal: 2m 4s\tremaining: 24s\n",
      "838:\tlearn: 1010.0287002\ttest: 1483.4112432\tbest: 1471.5386896 (217)\ttotal: 2m 4s\tremaining: 23.9s\n",
      "839:\tlearn: 1009.9005394\ttest: 1483.3634604\tbest: 1471.5386896 (217)\ttotal: 2m 4s\tremaining: 23.7s\n",
      "840:\tlearn: 1009.4720418\ttest: 1483.2921549\tbest: 1471.5386896 (217)\ttotal: 2m 4s\tremaining: 23.6s\n",
      "841:\tlearn: 1009.1892186\ttest: 1483.2496428\tbest: 1471.5386896 (217)\ttotal: 2m 4s\tremaining: 23.4s\n",
      "842:\tlearn: 1009.0327781\ttest: 1483.1991673\tbest: 1471.5386896 (217)\ttotal: 2m 5s\tremaining: 23.3s\n",
      "843:\tlearn: 1008.8442811\ttest: 1483.2076347\tbest: 1471.5386896 (217)\ttotal: 2m 5s\tremaining: 23.1s\n",
      "844:\tlearn: 1008.6571358\ttest: 1483.0533228\tbest: 1471.5386896 (217)\ttotal: 2m 5s\tremaining: 23s\n",
      "845:\tlearn: 1008.4259259\ttest: 1483.0764887\tbest: 1471.5386896 (217)\ttotal: 2m 5s\tremaining: 22.8s\n",
      "846:\tlearn: 1008.2618811\ttest: 1483.1536531\tbest: 1471.5386896 (217)\ttotal: 2m 5s\tremaining: 22.7s\n",
      "847:\tlearn: 1008.0983063\ttest: 1483.0794950\tbest: 1471.5386896 (217)\ttotal: 2m 5s\tremaining: 22.5s\n",
      "848:\tlearn: 1007.8489734\ttest: 1483.0279324\tbest: 1471.5386896 (217)\ttotal: 2m 5s\tremaining: 22.4s\n",
      "849:\tlearn: 1007.7760028\ttest: 1483.0371269\tbest: 1471.5386896 (217)\ttotal: 2m 6s\tremaining: 22.2s\n",
      "850:\tlearn: 1007.7024455\ttest: 1483.0194320\tbest: 1471.5386896 (217)\ttotal: 2m 6s\tremaining: 22.1s\n",
      "851:\tlearn: 1007.5750779\ttest: 1483.1402656\tbest: 1471.5386896 (217)\ttotal: 2m 6s\tremaining: 21.9s\n",
      "852:\tlearn: 1007.4141670\ttest: 1483.1148876\tbest: 1471.5386896 (217)\ttotal: 2m 6s\tremaining: 21.8s\n",
      "853:\tlearn: 1007.1006877\ttest: 1483.3145529\tbest: 1471.5386896 (217)\ttotal: 2m 6s\tremaining: 21.7s\n",
      "854:\tlearn: 1006.7426190\ttest: 1483.4664811\tbest: 1471.5386896 (217)\ttotal: 2m 6s\tremaining: 21.5s\n",
      "855:\tlearn: 1006.3801435\ttest: 1483.3558547\tbest: 1471.5386896 (217)\ttotal: 2m 6s\tremaining: 21.4s\n",
      "856:\tlearn: 1006.1024643\ttest: 1483.3878055\tbest: 1471.5386896 (217)\ttotal: 2m 7s\tremaining: 21.2s\n",
      "857:\tlearn: 1005.7911375\ttest: 1483.3079025\tbest: 1471.5386896 (217)\ttotal: 2m 7s\tremaining: 21.1s\n",
      "858:\tlearn: 1005.6657314\ttest: 1483.3949318\tbest: 1471.5386896 (217)\ttotal: 2m 7s\tremaining: 20.9s\n",
      "859:\tlearn: 1005.5607955\ttest: 1483.4890821\tbest: 1471.5386896 (217)\ttotal: 2m 7s\tremaining: 20.8s\n",
      "860:\tlearn: 1005.3466228\ttest: 1483.3220035\tbest: 1471.5386896 (217)\ttotal: 2m 7s\tremaining: 20.6s\n",
      "861:\tlearn: 1005.2754820\ttest: 1483.3277934\tbest: 1471.5386896 (217)\ttotal: 2m 7s\tremaining: 20.5s\n",
      "862:\tlearn: 1005.1205110\ttest: 1483.3929584\tbest: 1471.5386896 (217)\ttotal: 2m 7s\tremaining: 20.3s\n",
      "863:\tlearn: 1004.8685763\ttest: 1483.2765982\tbest: 1471.5386896 (217)\ttotal: 2m 8s\tremaining: 20.2s\n",
      "864:\tlearn: 1004.6770729\ttest: 1483.4322415\tbest: 1471.5386896 (217)\ttotal: 2m 8s\tremaining: 20s\n",
      "865:\tlearn: 1004.2553819\ttest: 1483.4038649\tbest: 1471.5386896 (217)\ttotal: 2m 8s\tremaining: 19.9s\n",
      "866:\tlearn: 1004.1206276\ttest: 1483.5017161\tbest: 1471.5386896 (217)\ttotal: 2m 8s\tremaining: 19.7s\n",
      "867:\tlearn: 1003.7380077\ttest: 1483.3682180\tbest: 1471.5386896 (217)\ttotal: 2m 8s\tremaining: 19.6s\n",
      "868:\tlearn: 1003.5907862\ttest: 1483.3935333\tbest: 1471.5386896 (217)\ttotal: 2m 8s\tremaining: 19.4s\n",
      "869:\tlearn: 1003.3076660\ttest: 1483.4088055\tbest: 1471.5386896 (217)\ttotal: 2m 8s\tremaining: 19.3s\n",
      "870:\tlearn: 1003.2842893\ttest: 1483.4179712\tbest: 1471.5386896 (217)\ttotal: 2m 9s\tremaining: 19.1s\n",
      "871:\tlearn: 1003.1391013\ttest: 1483.4512989\tbest: 1471.5386896 (217)\ttotal: 2m 9s\tremaining: 19s\n",
      "872:\tlearn: 1002.6684621\ttest: 1483.6014959\tbest: 1471.5386896 (217)\ttotal: 2m 9s\tremaining: 18.8s\n",
      "873:\tlearn: 1002.5275299\ttest: 1483.5722303\tbest: 1471.5386896 (217)\ttotal: 2m 9s\tremaining: 18.7s\n",
      "874:\tlearn: 1002.4202496\ttest: 1483.6286002\tbest: 1471.5386896 (217)\ttotal: 2m 9s\tremaining: 18.5s\n",
      "875:\tlearn: 1002.1037679\ttest: 1483.7527046\tbest: 1471.5386896 (217)\ttotal: 2m 9s\tremaining: 18.4s\n",
      "876:\tlearn: 1002.0140293\ttest: 1483.7167207\tbest: 1471.5386896 (217)\ttotal: 2m 10s\tremaining: 18.2s\n",
      "877:\tlearn: 1001.8264578\ttest: 1483.7352590\tbest: 1471.5386896 (217)\ttotal: 2m 10s\tremaining: 18.1s\n",
      "878:\tlearn: 1001.7213575\ttest: 1483.7394428\tbest: 1471.5386896 (217)\ttotal: 2m 10s\tremaining: 17.9s\n",
      "879:\tlearn: 1001.6098432\ttest: 1483.7425599\tbest: 1471.5386896 (217)\ttotal: 2m 10s\tremaining: 17.8s\n",
      "880:\tlearn: 1001.2401972\ttest: 1483.6674327\tbest: 1471.5386896 (217)\ttotal: 2m 10s\tremaining: 17.6s\n",
      "881:\tlearn: 1001.1386003\ttest: 1483.6003996\tbest: 1471.5386896 (217)\ttotal: 2m 10s\tremaining: 17.5s\n",
      "882:\tlearn: 1000.9079856\ttest: 1483.5876650\tbest: 1471.5386896 (217)\ttotal: 2m 10s\tremaining: 17.3s\n",
      "883:\tlearn: 1000.6744112\ttest: 1483.5436850\tbest: 1471.5386896 (217)\ttotal: 2m 11s\tremaining: 17.2s\n",
      "884:\tlearn: 1000.5594223\ttest: 1483.5534860\tbest: 1471.5386896 (217)\ttotal: 2m 11s\tremaining: 17.1s\n",
      "885:\tlearn: 1000.3870482\ttest: 1483.5637208\tbest: 1471.5386896 (217)\ttotal: 2m 11s\tremaining: 16.9s\n",
      "886:\tlearn: 999.9813175\ttest: 1483.5684578\tbest: 1471.5386896 (217)\ttotal: 2m 11s\tremaining: 16.8s\n",
      "887:\tlearn: 999.7840446\ttest: 1483.4640161\tbest: 1471.5386896 (217)\ttotal: 2m 11s\tremaining: 16.6s\n",
      "888:\tlearn: 999.4708989\ttest: 1483.5692397\tbest: 1471.5386896 (217)\ttotal: 2m 11s\tremaining: 16.5s\n",
      "889:\tlearn: 999.2696351\ttest: 1483.5401356\tbest: 1471.5386896 (217)\ttotal: 2m 11s\tremaining: 16.3s\n",
      "890:\tlearn: 998.9565258\ttest: 1483.3990693\tbest: 1471.5386896 (217)\ttotal: 2m 12s\tremaining: 16.2s\n",
      "891:\tlearn: 998.7563843\ttest: 1483.4004434\tbest: 1471.5386896 (217)\ttotal: 2m 12s\tremaining: 16s\n",
      "892:\tlearn: 998.5540290\ttest: 1483.4559284\tbest: 1471.5386896 (217)\ttotal: 2m 12s\tremaining: 15.9s\n",
      "893:\tlearn: 998.3217846\ttest: 1483.6830600\tbest: 1471.5386896 (217)\ttotal: 2m 12s\tremaining: 15.7s\n",
      "894:\tlearn: 998.1192008\ttest: 1483.7062972\tbest: 1471.5386896 (217)\ttotal: 2m 12s\tremaining: 15.6s\n",
      "895:\tlearn: 997.9287198\ttest: 1483.6091342\tbest: 1471.5386896 (217)\ttotal: 2m 12s\tremaining: 15.4s\n",
      "896:\tlearn: 997.7429120\ttest: 1483.4941919\tbest: 1471.5386896 (217)\ttotal: 2m 12s\tremaining: 15.3s\n",
      "897:\tlearn: 997.6822059\ttest: 1483.5225527\tbest: 1471.5386896 (217)\ttotal: 2m 13s\tremaining: 15.1s\n",
      "898:\tlearn: 997.4812632\ttest: 1483.4833026\tbest: 1471.5386896 (217)\ttotal: 2m 13s\tremaining: 15s\n",
      "899:\tlearn: 997.3787721\ttest: 1483.6349701\tbest: 1471.5386896 (217)\ttotal: 2m 13s\tremaining: 14.8s\n",
      "900:\tlearn: 997.0637849\ttest: 1483.4339064\tbest: 1471.5386896 (217)\ttotal: 2m 13s\tremaining: 14.7s\n",
      "901:\tlearn: 996.7570679\ttest: 1483.5087176\tbest: 1471.5386896 (217)\ttotal: 2m 13s\tremaining: 14.5s\n",
      "902:\tlearn: 996.5823464\ttest: 1483.4111669\tbest: 1471.5386896 (217)\ttotal: 2m 13s\tremaining: 14.4s\n",
      "903:\tlearn: 996.3698924\ttest: 1483.4967035\tbest: 1471.5386896 (217)\ttotal: 2m 13s\tremaining: 14.2s\n",
      "904:\tlearn: 996.0632239\ttest: 1483.5147748\tbest: 1471.5386896 (217)\ttotal: 2m 14s\tremaining: 14.1s\n",
      "905:\tlearn: 995.8401751\ttest: 1483.7121008\tbest: 1471.5386896 (217)\ttotal: 2m 14s\tremaining: 13.9s\n",
      "906:\tlearn: 995.4545921\ttest: 1483.6680682\tbest: 1471.5386896 (217)\ttotal: 2m 14s\tremaining: 13.8s\n",
      "907:\tlearn: 995.2064874\ttest: 1483.7067719\tbest: 1471.5386896 (217)\ttotal: 2m 14s\tremaining: 13.6s\n",
      "908:\tlearn: 994.7919303\ttest: 1483.7297953\tbest: 1471.5386896 (217)\ttotal: 2m 14s\tremaining: 13.5s\n",
      "909:\tlearn: 994.5254283\ttest: 1483.7953142\tbest: 1471.5386896 (217)\ttotal: 2m 14s\tremaining: 13.3s\n",
      "910:\tlearn: 994.1859222\ttest: 1483.5814169\tbest: 1471.5386896 (217)\ttotal: 2m 14s\tremaining: 13.2s\n",
      "911:\tlearn: 993.9316596\ttest: 1483.3773447\tbest: 1471.5386896 (217)\ttotal: 2m 15s\tremaining: 13s\n",
      "912:\tlearn: 993.5942275\ttest: 1483.2053544\tbest: 1471.5386896 (217)\ttotal: 2m 15s\tremaining: 12.9s\n",
      "913:\tlearn: 993.3832310\ttest: 1483.2211541\tbest: 1471.5386896 (217)\ttotal: 2m 15s\tremaining: 12.7s\n",
      "914:\tlearn: 993.2050045\ttest: 1483.2926594\tbest: 1471.5386896 (217)\ttotal: 2m 15s\tremaining: 12.6s\n",
      "915:\tlearn: 993.0868217\ttest: 1483.2429187\tbest: 1471.5386896 (217)\ttotal: 2m 15s\tremaining: 12.4s\n",
      "916:\tlearn: 992.8669396\ttest: 1483.1085553\tbest: 1471.5386896 (217)\ttotal: 2m 15s\tremaining: 12.3s\n",
      "917:\tlearn: 992.6852610\ttest: 1483.0332814\tbest: 1471.5386896 (217)\ttotal: 2m 16s\tremaining: 12.2s\n",
      "918:\tlearn: 992.5177917\ttest: 1483.0445422\tbest: 1471.5386896 (217)\ttotal: 2m 16s\tremaining: 12s\n",
      "919:\tlearn: 992.2553312\ttest: 1483.0932849\tbest: 1471.5386896 (217)\ttotal: 2m 16s\tremaining: 11.9s\n",
      "920:\tlearn: 992.0647163\ttest: 1483.0751812\tbest: 1471.5386896 (217)\ttotal: 2m 16s\tremaining: 11.7s\n",
      "921:\tlearn: 991.7754060\ttest: 1483.1175562\tbest: 1471.5386896 (217)\ttotal: 2m 16s\tremaining: 11.6s\n",
      "922:\tlearn: 991.5662898\ttest: 1483.1275708\tbest: 1471.5386896 (217)\ttotal: 2m 16s\tremaining: 11.4s\n",
      "923:\tlearn: 991.2828701\ttest: 1483.2009676\tbest: 1471.5386896 (217)\ttotal: 2m 17s\tremaining: 11.3s\n",
      "924:\tlearn: 991.1228688\ttest: 1483.3109133\tbest: 1471.5386896 (217)\ttotal: 2m 17s\tremaining: 11.1s\n",
      "925:\tlearn: 990.9397870\ttest: 1483.4337811\tbest: 1471.5386896 (217)\ttotal: 2m 17s\tremaining: 11s\n",
      "926:\tlearn: 990.7742643\ttest: 1483.3569529\tbest: 1471.5386896 (217)\ttotal: 2m 17s\tremaining: 10.8s\n",
      "927:\tlearn: 990.4842004\ttest: 1483.3936221\tbest: 1471.5386896 (217)\ttotal: 2m 17s\tremaining: 10.7s\n",
      "928:\tlearn: 990.3332538\ttest: 1483.5045906\tbest: 1471.5386896 (217)\ttotal: 2m 17s\tremaining: 10.5s\n",
      "929:\tlearn: 989.9313164\ttest: 1483.4590308\tbest: 1471.5386896 (217)\ttotal: 2m 18s\tremaining: 10.4s\n",
      "930:\tlearn: 989.7129199\ttest: 1483.4493342\tbest: 1471.5386896 (217)\ttotal: 2m 18s\tremaining: 10.2s\n",
      "931:\tlearn: 989.6155571\ttest: 1483.5693164\tbest: 1471.5386896 (217)\ttotal: 2m 18s\tremaining: 10.1s\n",
      "932:\tlearn: 989.5178853\ttest: 1483.4966851\tbest: 1471.5386896 (217)\ttotal: 2m 18s\tremaining: 9.95s\n",
      "933:\tlearn: 989.4266530\ttest: 1483.4954874\tbest: 1471.5386896 (217)\ttotal: 2m 18s\tremaining: 9.8s\n",
      "934:\tlearn: 989.3453101\ttest: 1483.4890367\tbest: 1471.5386896 (217)\ttotal: 2m 18s\tremaining: 9.65s\n",
      "935:\tlearn: 989.0306944\ttest: 1483.7444483\tbest: 1471.5386896 (217)\ttotal: 2m 18s\tremaining: 9.5s\n",
      "936:\tlearn: 988.8026569\ttest: 1483.7893621\tbest: 1471.5386896 (217)\ttotal: 2m 19s\tremaining: 9.35s\n",
      "937:\tlearn: 988.6016989\ttest: 1483.6608913\tbest: 1471.5386896 (217)\ttotal: 2m 19s\tremaining: 9.2s\n",
      "938:\tlearn: 988.4580620\ttest: 1483.6497289\tbest: 1471.5386896 (217)\ttotal: 2m 19s\tremaining: 9.05s\n",
      "939:\tlearn: 988.3650500\ttest: 1483.6271248\tbest: 1471.5386896 (217)\ttotal: 2m 19s\tremaining: 8.9s\n",
      "940:\tlearn: 988.0938330\ttest: 1483.6851852\tbest: 1471.5386896 (217)\ttotal: 2m 19s\tremaining: 8.76s\n",
      "941:\tlearn: 987.7505380\ttest: 1483.7158052\tbest: 1471.5386896 (217)\ttotal: 2m 19s\tremaining: 8.61s\n",
      "942:\tlearn: 987.5369266\ttest: 1483.8074559\tbest: 1471.5386896 (217)\ttotal: 2m 19s\tremaining: 8.46s\n",
      "943:\tlearn: 987.3908839\ttest: 1483.6907318\tbest: 1471.5386896 (217)\ttotal: 2m 20s\tremaining: 8.31s\n",
      "944:\tlearn: 987.1881336\ttest: 1483.7831452\tbest: 1471.5386896 (217)\ttotal: 2m 20s\tremaining: 8.16s\n",
      "945:\tlearn: 987.0525429\ttest: 1483.8125539\tbest: 1471.5386896 (217)\ttotal: 2m 20s\tremaining: 8.01s\n",
      "946:\tlearn: 986.9407816\ttest: 1483.7954047\tbest: 1471.5386896 (217)\ttotal: 2m 20s\tremaining: 7.86s\n",
      "947:\tlearn: 986.7714045\ttest: 1483.7841138\tbest: 1471.5386896 (217)\ttotal: 2m 20s\tremaining: 7.72s\n",
      "948:\tlearn: 986.7317536\ttest: 1483.7977774\tbest: 1471.5386896 (217)\ttotal: 2m 20s\tremaining: 7.57s\n",
      "949:\tlearn: 986.6485573\ttest: 1483.8630649\tbest: 1471.5386896 (217)\ttotal: 2m 20s\tremaining: 7.42s\n",
      "950:\tlearn: 986.5393298\ttest: 1483.8755941\tbest: 1471.5386896 (217)\ttotal: 2m 21s\tremaining: 7.27s\n",
      "951:\tlearn: 986.1630091\ttest: 1483.7955345\tbest: 1471.5386896 (217)\ttotal: 2m 21s\tremaining: 7.12s\n",
      "952:\tlearn: 986.0074971\ttest: 1483.8128125\tbest: 1471.5386896 (217)\ttotal: 2m 21s\tremaining: 6.97s\n",
      "953:\tlearn: 985.8889678\ttest: 1483.8270527\tbest: 1471.5386896 (217)\ttotal: 2m 21s\tremaining: 6.83s\n",
      "954:\tlearn: 985.6530111\ttest: 1483.7367646\tbest: 1471.5386896 (217)\ttotal: 2m 21s\tremaining: 6.68s\n",
      "955:\tlearn: 985.5345279\ttest: 1483.7892213\tbest: 1471.5386896 (217)\ttotal: 2m 21s\tremaining: 6.53s\n",
      "956:\tlearn: 985.2142319\ttest: 1483.8502030\tbest: 1471.5386896 (217)\ttotal: 2m 22s\tremaining: 6.38s\n",
      "957:\tlearn: 985.1087883\ttest: 1483.8707840\tbest: 1471.5386896 (217)\ttotal: 2m 22s\tremaining: 6.23s\n",
      "958:\tlearn: 984.8040196\ttest: 1483.7674942\tbest: 1471.5386896 (217)\ttotal: 2m 22s\tremaining: 6.08s\n",
      "959:\tlearn: 984.5457553\ttest: 1483.7343589\tbest: 1471.5386896 (217)\ttotal: 2m 22s\tremaining: 5.94s\n",
      "960:\tlearn: 984.2012142\ttest: 1483.7621545\tbest: 1471.5386896 (217)\ttotal: 2m 22s\tremaining: 5.79s\n",
      "961:\tlearn: 983.5203125\ttest: 1483.8258139\tbest: 1471.5386896 (217)\ttotal: 2m 22s\tremaining: 5.64s\n",
      "962:\tlearn: 983.3078289\ttest: 1483.9586436\tbest: 1471.5386896 (217)\ttotal: 2m 22s\tremaining: 5.49s\n",
      "963:\tlearn: 983.1592587\ttest: 1484.0940867\tbest: 1471.5386896 (217)\ttotal: 2m 23s\tremaining: 5.34s\n",
      "964:\tlearn: 982.9514996\ttest: 1483.9602801\tbest: 1471.5386896 (217)\ttotal: 2m 23s\tremaining: 5.19s\n",
      "965:\tlearn: 982.7660003\ttest: 1483.8990473\tbest: 1471.5386896 (217)\ttotal: 2m 23s\tremaining: 5.04s\n",
      "966:\tlearn: 982.5698020\ttest: 1484.0660268\tbest: 1471.5386896 (217)\ttotal: 2m 23s\tremaining: 4.9s\n",
      "967:\tlearn: 982.4013244\ttest: 1483.9739897\tbest: 1471.5386896 (217)\ttotal: 2m 23s\tremaining: 4.75s\n",
      "968:\tlearn: 982.1779590\ttest: 1484.0659782\tbest: 1471.5386896 (217)\ttotal: 2m 23s\tremaining: 4.6s\n",
      "969:\tlearn: 981.7939981\ttest: 1484.0317769\tbest: 1471.5386896 (217)\ttotal: 2m 23s\tremaining: 4.45s\n",
      "970:\tlearn: 981.6563607\ttest: 1484.0173282\tbest: 1471.5386896 (217)\ttotal: 2m 24s\tremaining: 4.3s\n",
      "971:\tlearn: 981.5269571\ttest: 1484.0425521\tbest: 1471.5386896 (217)\ttotal: 2m 24s\tremaining: 4.15s\n",
      "972:\tlearn: 981.3543818\ttest: 1484.0642313\tbest: 1471.5386896 (217)\ttotal: 2m 24s\tremaining: 4s\n",
      "973:\tlearn: 981.1960261\ttest: 1484.0536823\tbest: 1471.5386896 (217)\ttotal: 2m 24s\tremaining: 3.86s\n",
      "974:\tlearn: 980.8779022\ttest: 1484.2512959\tbest: 1471.5386896 (217)\ttotal: 2m 24s\tremaining: 3.71s\n",
      "975:\tlearn: 980.6865007\ttest: 1484.2323628\tbest: 1471.5386896 (217)\ttotal: 2m 24s\tremaining: 3.56s\n",
      "976:\tlearn: 980.4402122\ttest: 1484.2635178\tbest: 1471.5386896 (217)\ttotal: 2m 24s\tremaining: 3.41s\n",
      "977:\tlearn: 980.0781201\ttest: 1484.5885064\tbest: 1471.5386896 (217)\ttotal: 2m 25s\tremaining: 3.26s\n",
      "978:\tlearn: 979.8660750\ttest: 1484.5108552\tbest: 1471.5386896 (217)\ttotal: 2m 25s\tremaining: 3.12s\n",
      "979:\tlearn: 979.6959718\ttest: 1484.7128904\tbest: 1471.5386896 (217)\ttotal: 2m 25s\tremaining: 2.97s\n",
      "980:\tlearn: 979.5341048\ttest: 1484.8441023\tbest: 1471.5386896 (217)\ttotal: 2m 25s\tremaining: 2.82s\n",
      "981:\tlearn: 979.3428901\ttest: 1484.9224741\tbest: 1471.5386896 (217)\ttotal: 2m 25s\tremaining: 2.67s\n",
      "982:\tlearn: 979.3256035\ttest: 1484.9495467\tbest: 1471.5386896 (217)\ttotal: 2m 25s\tremaining: 2.52s\n",
      "983:\tlearn: 978.9536344\ttest: 1484.9876328\tbest: 1471.5386896 (217)\ttotal: 2m 26s\tremaining: 2.37s\n",
      "984:\tlearn: 978.8058294\ttest: 1484.9568743\tbest: 1471.5386896 (217)\ttotal: 2m 26s\tremaining: 2.23s\n",
      "985:\tlearn: 978.5278553\ttest: 1484.8963570\tbest: 1471.5386896 (217)\ttotal: 2m 26s\tremaining: 2.08s\n",
      "986:\tlearn: 978.3710126\ttest: 1484.9551199\tbest: 1471.5386896 (217)\ttotal: 2m 26s\tremaining: 1.93s\n",
      "987:\tlearn: 978.1532101\ttest: 1485.0677740\tbest: 1471.5386896 (217)\ttotal: 2m 26s\tremaining: 1.78s\n",
      "988:\tlearn: 978.0333080\ttest: 1485.1547165\tbest: 1471.5386896 (217)\ttotal: 2m 26s\tremaining: 1.63s\n",
      "989:\tlearn: 977.9288639\ttest: 1485.1742535\tbest: 1471.5386896 (217)\ttotal: 2m 26s\tremaining: 1.48s\n",
      "990:\tlearn: 977.6953742\ttest: 1485.0764240\tbest: 1471.5386896 (217)\ttotal: 2m 27s\tremaining: 1.33s\n",
      "991:\tlearn: 977.4060175\ttest: 1485.2121257\tbest: 1471.5386896 (217)\ttotal: 2m 27s\tremaining: 1.19s\n",
      "992:\tlearn: 977.1734909\ttest: 1485.2214058\tbest: 1471.5386896 (217)\ttotal: 2m 27s\tremaining: 1.04s\n",
      "993:\tlearn: 976.8820343\ttest: 1485.2743894\tbest: 1471.5386896 (217)\ttotal: 2m 27s\tremaining: 890ms\n",
      "994:\tlearn: 976.7370730\ttest: 1485.2601408\tbest: 1471.5386896 (217)\ttotal: 2m 27s\tremaining: 742ms\n",
      "995:\tlearn: 976.3168926\ttest: 1485.5189471\tbest: 1471.5386896 (217)\ttotal: 2m 27s\tremaining: 593ms\n",
      "996:\tlearn: 976.1655215\ttest: 1485.5679524\tbest: 1471.5386896 (217)\ttotal: 2m 27s\tremaining: 445ms\n",
      "997:\tlearn: 975.8327663\ttest: 1485.5563963\tbest: 1471.5386896 (217)\ttotal: 2m 28s\tremaining: 297ms\n",
      "998:\tlearn: 975.7272567\ttest: 1485.5340898\tbest: 1471.5386896 (217)\ttotal: 2m 28s\tremaining: 148ms\n",
      "999:\tlearn: 975.5675005\ttest: 1485.4609470\tbest: 1471.5386896 (217)\ttotal: 2m 28s\tremaining: 0us\n",
      "\n",
      "bestTest = 1471.53869\n",
      "bestIteration = 217\n",
      "\n",
      "2:\tloss: 1471.5386896\tbest: 1438.4027353 (0)\ttotal: 7m 27s\tremaining: 0us\n",
      "Estimating final quality...\n",
      "Training on fold [0/2]\n",
      "0:\tlearn: 4598.2535596\ttest: 4628.8523994\tbest: 4628.8523994 (0)\ttotal: 98.5ms\tremaining: 1m 38s\n",
      "1:\tlearn: 4238.1200634\ttest: 4266.2547913\tbest: 4266.2547913 (1)\ttotal: 192ms\tremaining: 1m 35s\n",
      "2:\tlearn: 3913.4535369\ttest: 3939.0133678\tbest: 3939.0133678 (2)\ttotal: 285ms\tremaining: 1m 34s\n",
      "3:\tlearn: 3629.6382422\ttest: 3653.9925194\tbest: 3653.9925194 (3)\ttotal: 383ms\tremaining: 1m 35s\n",
      "4:\tlearn: 3382.2362213\ttest: 3405.5670565\tbest: 3405.5670565 (4)\ttotal: 477ms\tremaining: 1m 34s\n",
      "5:\tlearn: 3157.5979982\ttest: 3178.7805921\tbest: 3178.7805921 (5)\ttotal: 571ms\tremaining: 1m 34s\n",
      "6:\tlearn: 2963.5652720\ttest: 2983.4950446\tbest: 2983.4950446 (6)\ttotal: 670ms\tremaining: 1m 34s\n",
      "7:\tlearn: 2798.5537562\ttest: 2818.0849162\tbest: 2818.0849162 (7)\ttotal: 763ms\tremaining: 1m 34s\n",
      "8:\tlearn: 2646.1156803\ttest: 2664.5408755\tbest: 2664.5408755 (8)\ttotal: 856ms\tremaining: 1m 34s\n",
      "9:\tlearn: 2521.1088405\ttest: 2538.6610181\tbest: 2538.6610181 (9)\ttotal: 952ms\tremaining: 1m 34s\n",
      "10:\tlearn: 2404.8915099\ttest: 2421.2528582\tbest: 2421.2528582 (10)\ttotal: 1.05s\tremaining: 1m 34s\n",
      "11:\tlearn: 2305.2684444\ttest: 2320.8004303\tbest: 2320.8004303 (11)\ttotal: 1.14s\tremaining: 1m 34s\n",
      "12:\tlearn: 2223.1943889\ttest: 2237.7904909\tbest: 2237.7904909 (12)\ttotal: 1.24s\tremaining: 1m 34s\n",
      "13:\tlearn: 2149.5168403\ttest: 2163.4925776\tbest: 2163.4925776 (13)\ttotal: 1.34s\tremaining: 1m 34s\n",
      "14:\tlearn: 2081.6698180\ttest: 2095.8854368\tbest: 2095.8854368 (14)\ttotal: 1.43s\tremaining: 1m 34s\n",
      "15:\tlearn: 2028.0177257\ttest: 2041.7281915\tbest: 2041.7281915 (15)\ttotal: 1.54s\tremaining: 1m 34s\n",
      "16:\tlearn: 1977.3123557\ttest: 1991.2427530\tbest: 1991.2427530 (16)\ttotal: 1.63s\tremaining: 1m 34s\n",
      "17:\tlearn: 1936.1273082\ttest: 1950.3412769\tbest: 1950.3412769 (17)\ttotal: 1.73s\tremaining: 1m 34s\n",
      "18:\tlearn: 1901.4087749\ttest: 1915.2470728\tbest: 1915.2470728 (18)\ttotal: 1.83s\tremaining: 1m 34s\n",
      "19:\tlearn: 1869.2365354\ttest: 1882.9693807\tbest: 1882.9693807 (19)\ttotal: 1.92s\tremaining: 1m 34s\n",
      "20:\tlearn: 1837.9333632\ttest: 1851.7656605\tbest: 1851.7656605 (20)\ttotal: 2.02s\tremaining: 1m 34s\n",
      "21:\tlearn: 1814.0933680\ttest: 1828.1542136\tbest: 1828.1542136 (21)\ttotal: 2.12s\tremaining: 1m 34s\n",
      "22:\tlearn: 1789.3948205\ttest: 1803.5567567\tbest: 1803.5567567 (22)\ttotal: 2.22s\tremaining: 1m 34s\n",
      "23:\tlearn: 1770.7672669\ttest: 1784.8394228\tbest: 1784.8394228 (23)\ttotal: 2.31s\tremaining: 1m 33s\n",
      "24:\tlearn: 1754.3270145\ttest: 1768.7759197\tbest: 1768.7759197 (24)\ttotal: 2.41s\tremaining: 1m 33s\n",
      "25:\tlearn: 1736.9740104\ttest: 1751.4102206\tbest: 1751.4102206 (25)\ttotal: 2.5s\tremaining: 1m 33s\n",
      "26:\tlearn: 1723.5563525\ttest: 1738.2514998\tbest: 1738.2514998 (26)\ttotal: 2.6s\tremaining: 1m 33s\n",
      "27:\tlearn: 1712.5391205\ttest: 1727.8456561\tbest: 1727.8456561 (27)\ttotal: 2.69s\tremaining: 1m 33s\n",
      "28:\tlearn: 1702.3625544\ttest: 1717.6044280\tbest: 1717.6044280 (28)\ttotal: 2.79s\tremaining: 1m 33s\n",
      "29:\tlearn: 1690.7848995\ttest: 1706.2415633\tbest: 1706.2415633 (29)\ttotal: 2.88s\tremaining: 1m 33s\n",
      "30:\tlearn: 1682.0806460\ttest: 1698.1319243\tbest: 1698.1319243 (30)\ttotal: 2.98s\tremaining: 1m 33s\n",
      "31:\tlearn: 1674.6636703\ttest: 1690.9570284\tbest: 1690.9570284 (31)\ttotal: 3.07s\tremaining: 1m 32s\n",
      "32:\tlearn: 1666.9431719\ttest: 1683.4282991\tbest: 1683.4282991 (32)\ttotal: 3.17s\tremaining: 1m 32s\n",
      "33:\tlearn: 1659.6238260\ttest: 1675.9510866\tbest: 1675.9510866 (33)\ttotal: 3.27s\tremaining: 1m 32s\n",
      "34:\tlearn: 1654.4808569\ttest: 1670.9638371\tbest: 1670.9638371 (34)\ttotal: 3.36s\tremaining: 1m 32s\n",
      "35:\tlearn: 1649.5021035\ttest: 1666.1306933\tbest: 1666.1306933 (35)\ttotal: 3.45s\tremaining: 1m 32s\n",
      "36:\tlearn: 1644.2734763\ttest: 1661.3944557\tbest: 1661.3944557 (36)\ttotal: 3.55s\tremaining: 1m 32s\n",
      "37:\tlearn: 1640.1650105\ttest: 1657.4352247\tbest: 1657.4352247 (37)\ttotal: 3.65s\tremaining: 1m 32s\n",
      "38:\tlearn: 1635.7762033\ttest: 1653.3517669\tbest: 1653.3517669 (38)\ttotal: 3.75s\tremaining: 1m 32s\n",
      "39:\tlearn: 1632.7328574\ttest: 1650.5718921\tbest: 1650.5718921 (39)\ttotal: 3.84s\tremaining: 1m 32s\n",
      "40:\tlearn: 1628.5180306\ttest: 1646.9483540\tbest: 1646.9483540 (40)\ttotal: 3.94s\tremaining: 1m 32s\n",
      "41:\tlearn: 1624.6603088\ttest: 1643.2743801\tbest: 1643.2743801 (41)\ttotal: 4.05s\tremaining: 1m 32s\n",
      "42:\tlearn: 1621.1012035\ttest: 1639.9453077\tbest: 1639.9453077 (42)\ttotal: 4.16s\tremaining: 1m 32s\n",
      "43:\tlearn: 1617.4337833\ttest: 1636.4573979\tbest: 1636.4573979 (43)\ttotal: 4.25s\tremaining: 1m 32s\n",
      "44:\tlearn: 1614.9361184\ttest: 1634.1862381\tbest: 1634.1862381 (44)\ttotal: 4.35s\tremaining: 1m 32s\n",
      "45:\tlearn: 1611.2863567\ttest: 1630.8310733\tbest: 1630.8310733 (45)\ttotal: 4.45s\tremaining: 1m 32s\n",
      "46:\tlearn: 1608.3750304\ttest: 1628.1074744\tbest: 1628.1074744 (46)\ttotal: 4.54s\tremaining: 1m 32s\n",
      "47:\tlearn: 1605.6678811\ttest: 1625.5721916\tbest: 1625.5721916 (47)\ttotal: 4.64s\tremaining: 1m 32s\n",
      "48:\tlearn: 1603.1542340\ttest: 1623.2509079\tbest: 1623.2509079 (48)\ttotal: 4.74s\tremaining: 1m 32s\n",
      "49:\tlearn: 1600.7886066\ttest: 1621.1551341\tbest: 1621.1551341 (49)\ttotal: 4.87s\tremaining: 1m 32s\n",
      "50:\tlearn: 1598.5919223\ttest: 1619.1321950\tbest: 1619.1321950 (50)\ttotal: 4.99s\tremaining: 1m 32s\n",
      "51:\tlearn: 1596.3267232\ttest: 1617.1669078\tbest: 1617.1669078 (51)\ttotal: 5.09s\tremaining: 1m 32s\n",
      "52:\tlearn: 1593.9948134\ttest: 1615.1288670\tbest: 1615.1288670 (52)\ttotal: 5.19s\tremaining: 1m 32s\n",
      "53:\tlearn: 1592.0586909\ttest: 1613.1462137\tbest: 1613.1462137 (53)\ttotal: 5.28s\tremaining: 1m 32s\n",
      "54:\tlearn: 1590.1265123\ttest: 1611.5740904\tbest: 1611.5740904 (54)\ttotal: 5.38s\tremaining: 1m 32s\n",
      "55:\tlearn: 1588.8388489\ttest: 1610.3926992\tbest: 1610.3926992 (55)\ttotal: 5.48s\tremaining: 1m 32s\n",
      "56:\tlearn: 1586.1272505\ttest: 1607.6960561\tbest: 1607.6960561 (56)\ttotal: 5.58s\tremaining: 1m 32s\n",
      "57:\tlearn: 1584.6229792\ttest: 1606.3654541\tbest: 1606.3654541 (57)\ttotal: 5.67s\tremaining: 1m 32s\n",
      "58:\tlearn: 1582.7890886\ttest: 1604.9612348\tbest: 1604.9612348 (58)\ttotal: 5.77s\tremaining: 1m 32s\n",
      "59:\tlearn: 1581.4471863\ttest: 1603.7108959\tbest: 1603.7108959 (59)\ttotal: 5.86s\tremaining: 1m 31s\n",
      "60:\tlearn: 1580.3457311\ttest: 1602.7004119\tbest: 1602.7004119 (60)\ttotal: 5.97s\tremaining: 1m 31s\n",
      "61:\tlearn: 1578.2980583\ttest: 1600.9601851\tbest: 1600.9601851 (61)\ttotal: 6.06s\tremaining: 1m 31s\n",
      "62:\tlearn: 1576.4303447\ttest: 1599.2714414\tbest: 1599.2714414 (62)\ttotal: 6.16s\tremaining: 1m 31s\n",
      "63:\tlearn: 1575.0231336\ttest: 1598.0286803\tbest: 1598.0286803 (63)\ttotal: 6.26s\tremaining: 1m 31s\n",
      "64:\tlearn: 1572.2273590\ttest: 1595.5992572\tbest: 1595.5992572 (64)\ttotal: 6.36s\tremaining: 1m 31s\n",
      "65:\tlearn: 1570.4043116\ttest: 1593.8671415\tbest: 1593.8671415 (65)\ttotal: 6.46s\tremaining: 1m 31s\n",
      "66:\tlearn: 1568.2010607\ttest: 1591.8664835\tbest: 1591.8664835 (66)\ttotal: 6.56s\tremaining: 1m 31s\n",
      "67:\tlearn: 1566.8616367\ttest: 1590.7581492\tbest: 1590.7581492 (67)\ttotal: 6.66s\tremaining: 1m 31s\n",
      "68:\tlearn: 1565.6929092\ttest: 1589.8229497\tbest: 1589.8229497 (68)\ttotal: 6.76s\tremaining: 1m 31s\n",
      "69:\tlearn: 1564.5730314\ttest: 1588.8656528\tbest: 1588.8656528 (69)\ttotal: 6.86s\tremaining: 1m 31s\n",
      "70:\tlearn: 1562.7730587\ttest: 1587.3645058\tbest: 1587.3645058 (70)\ttotal: 6.96s\tremaining: 1m 31s\n",
      "71:\tlearn: 1560.8266614\ttest: 1585.8505094\tbest: 1585.8505094 (71)\ttotal: 7.06s\tremaining: 1m 30s\n",
      "72:\tlearn: 1559.4613387\ttest: 1584.6120639\tbest: 1584.6120639 (72)\ttotal: 7.16s\tremaining: 1m 30s\n",
      "73:\tlearn: 1557.7664943\ttest: 1583.1331369\tbest: 1583.1331369 (73)\ttotal: 7.25s\tremaining: 1m 30s\n",
      "74:\tlearn: 1556.5739168\ttest: 1582.2206277\tbest: 1582.2206277 (74)\ttotal: 7.35s\tremaining: 1m 30s\n",
      "75:\tlearn: 1555.3049447\ttest: 1581.2207630\tbest: 1581.2207630 (75)\ttotal: 7.45s\tremaining: 1m 30s\n",
      "76:\tlearn: 1553.6327885\ttest: 1579.8257496\tbest: 1579.8257496 (76)\ttotal: 7.55s\tremaining: 1m 30s\n",
      "77:\tlearn: 1552.4299727\ttest: 1578.9773999\tbest: 1578.9773999 (77)\ttotal: 7.64s\tremaining: 1m 30s\n",
      "78:\tlearn: 1551.1963397\ttest: 1577.9107585\tbest: 1577.9107585 (78)\ttotal: 7.74s\tremaining: 1m 30s\n",
      "79:\tlearn: 1549.0928592\ttest: 1576.3027399\tbest: 1576.3027399 (79)\ttotal: 7.84s\tremaining: 1m 30s\n",
      "80:\tlearn: 1547.9390285\ttest: 1575.3088774\tbest: 1575.3088774 (80)\ttotal: 7.93s\tremaining: 1m 30s\n",
      "81:\tlearn: 1547.0654999\ttest: 1574.5742822\tbest: 1574.5742822 (81)\ttotal: 8.04s\tremaining: 1m 29s\n",
      "82:\tlearn: 1545.4588374\ttest: 1573.2315751\tbest: 1573.2315751 (82)\ttotal: 8.13s\tremaining: 1m 29s\n",
      "83:\tlearn: 1544.2653136\ttest: 1572.2349879\tbest: 1572.2349879 (83)\ttotal: 8.23s\tremaining: 1m 29s\n",
      "84:\tlearn: 1543.0496826\ttest: 1571.3628189\tbest: 1571.3628189 (84)\ttotal: 8.33s\tremaining: 1m 29s\n",
      "85:\tlearn: 1542.1719845\ttest: 1570.6354587\tbest: 1570.6354587 (85)\ttotal: 8.42s\tremaining: 1m 29s\n",
      "86:\tlearn: 1541.5320840\ttest: 1570.1053813\tbest: 1570.1053813 (86)\ttotal: 8.52s\tremaining: 1m 29s\n",
      "87:\tlearn: 1540.4626602\ttest: 1569.1827910\tbest: 1569.1827910 (87)\ttotal: 8.62s\tremaining: 1m 29s\n",
      "88:\tlearn: 1539.1548185\ttest: 1568.1207516\tbest: 1568.1207516 (88)\ttotal: 8.72s\tremaining: 1m 29s\n",
      "89:\tlearn: 1537.9019925\ttest: 1566.9969323\tbest: 1566.9969323 (89)\ttotal: 8.82s\tremaining: 1m 29s\n",
      "90:\tlearn: 1536.6025853\ttest: 1566.0841635\tbest: 1566.0841635 (90)\ttotal: 8.92s\tremaining: 1m 29s\n",
      "91:\tlearn: 1535.3271471\ttest: 1564.9968757\tbest: 1564.9968757 (91)\ttotal: 9.02s\tremaining: 1m 28s\n",
      "92:\tlearn: 1534.0271884\ttest: 1563.8738534\tbest: 1563.8738534 (92)\ttotal: 9.11s\tremaining: 1m 28s\n",
      "93:\tlearn: 1533.1924982\ttest: 1563.1549313\tbest: 1563.1549313 (93)\ttotal: 9.21s\tremaining: 1m 28s\n",
      "94:\tlearn: 1531.9127550\ttest: 1562.1137322\tbest: 1562.1137322 (94)\ttotal: 9.31s\tremaining: 1m 28s\n",
      "95:\tlearn: 1531.2668544\ttest: 1561.6265048\tbest: 1561.6265048 (95)\ttotal: 9.4s\tremaining: 1m 28s\n",
      "96:\tlearn: 1530.6478781\ttest: 1561.2131200\tbest: 1561.2131200 (96)\ttotal: 9.5s\tremaining: 1m 28s\n",
      "97:\tlearn: 1530.0424873\ttest: 1560.7682613\tbest: 1560.7682613 (97)\ttotal: 9.6s\tremaining: 1m 28s\n",
      "98:\tlearn: 1529.3451873\ttest: 1560.1709577\tbest: 1560.1709577 (98)\ttotal: 9.7s\tremaining: 1m 28s\n",
      "99:\tlearn: 1528.2964471\ttest: 1559.4637858\tbest: 1559.4637858 (99)\ttotal: 9.79s\tremaining: 1m 28s\n",
      "100:\tlearn: 1527.6711942\ttest: 1558.9648770\tbest: 1558.9648770 (100)\ttotal: 9.89s\tremaining: 1m 28s\n",
      "101:\tlearn: 1526.8443596\ttest: 1558.4473219\tbest: 1558.4473219 (101)\ttotal: 9.98s\tremaining: 1m 27s\n",
      "102:\tlearn: 1525.9491351\ttest: 1557.5971204\tbest: 1557.5971204 (102)\ttotal: 10.1s\tremaining: 1m 27s\n",
      "103:\tlearn: 1525.1137697\ttest: 1556.8131848\tbest: 1556.8131848 (103)\ttotal: 10.2s\tremaining: 1m 27s\n",
      "104:\tlearn: 1523.8987107\ttest: 1555.8927600\tbest: 1555.8927600 (104)\ttotal: 10.3s\tremaining: 1m 27s\n",
      "105:\tlearn: 1523.2413801\ttest: 1555.3450853\tbest: 1555.3450853 (105)\ttotal: 10.4s\tremaining: 1m 27s\n",
      "106:\tlearn: 1521.6033187\ttest: 1554.1775840\tbest: 1554.1775840 (106)\ttotal: 10.5s\tremaining: 1m 27s\n",
      "107:\tlearn: 1520.2033320\ttest: 1553.1087640\tbest: 1553.1087640 (107)\ttotal: 10.6s\tremaining: 1m 27s\n",
      "108:\tlearn: 1519.6096914\ttest: 1552.5776233\tbest: 1552.5776233 (108)\ttotal: 10.7s\tremaining: 1m 27s\n",
      "109:\tlearn: 1518.9609471\ttest: 1552.2206520\tbest: 1552.2206520 (109)\ttotal: 10.8s\tremaining: 1m 27s\n",
      "110:\tlearn: 1518.2574399\ttest: 1551.6328672\tbest: 1551.6328672 (110)\ttotal: 10.9s\tremaining: 1m 27s\n",
      "111:\tlearn: 1517.4806087\ttest: 1551.0235356\tbest: 1551.0235356 (111)\ttotal: 11s\tremaining: 1m 26s\n",
      "112:\tlearn: 1516.2657390\ttest: 1550.1655103\tbest: 1550.1655103 (112)\ttotal: 11.1s\tremaining: 1m 26s\n",
      "113:\tlearn: 1515.6168132\ttest: 1549.8037126\tbest: 1549.8037126 (113)\ttotal: 11.2s\tremaining: 1m 26s\n",
      "114:\tlearn: 1514.6539238\ttest: 1549.1862813\tbest: 1549.1862813 (114)\ttotal: 11.3s\tremaining: 1m 26s\n",
      "115:\tlearn: 1513.8786782\ttest: 1548.4699505\tbest: 1548.4699505 (115)\ttotal: 11.3s\tremaining: 1m 26s\n",
      "116:\tlearn: 1513.2344627\ttest: 1547.9309225\tbest: 1547.9309225 (116)\ttotal: 11.4s\tremaining: 1m 26s\n",
      "117:\tlearn: 1512.6815596\ttest: 1547.4846150\tbest: 1547.4846150 (117)\ttotal: 11.5s\tremaining: 1m 26s\n",
      "118:\tlearn: 1511.6275811\ttest: 1546.7757911\tbest: 1546.7757911 (118)\ttotal: 11.6s\tremaining: 1m 26s\n",
      "119:\tlearn: 1510.7647599\ttest: 1546.0692404\tbest: 1546.0692404 (119)\ttotal: 11.7s\tremaining: 1m 26s\n",
      "120:\tlearn: 1510.1459870\ttest: 1545.5444430\tbest: 1545.5444430 (120)\ttotal: 11.8s\tremaining: 1m 25s\n",
      "121:\tlearn: 1509.5670542\ttest: 1545.1530718\tbest: 1545.1530718 (121)\ttotal: 11.9s\tremaining: 1m 25s\n",
      "122:\tlearn: 1508.8277292\ttest: 1544.4474195\tbest: 1544.4474195 (122)\ttotal: 12s\tremaining: 1m 25s\n",
      "123:\tlearn: 1508.2213476\ttest: 1543.9496676\tbest: 1543.9496676 (123)\ttotal: 12.1s\tremaining: 1m 25s\n",
      "124:\tlearn: 1507.5166043\ttest: 1543.4859580\tbest: 1543.4859580 (124)\ttotal: 12.2s\tremaining: 1m 25s\n",
      "125:\tlearn: 1506.9175778\ttest: 1543.0013707\tbest: 1543.0013707 (125)\ttotal: 12.3s\tremaining: 1m 25s\n",
      "126:\tlearn: 1506.0265512\ttest: 1542.3956173\tbest: 1542.3956173 (126)\ttotal: 12.4s\tremaining: 1m 25s\n",
      "127:\tlearn: 1505.1932289\ttest: 1541.8010292\tbest: 1541.8010292 (127)\ttotal: 12.5s\tremaining: 1m 25s\n",
      "128:\tlearn: 1503.8157256\ttest: 1540.9446919\tbest: 1540.9446919 (128)\ttotal: 12.6s\tremaining: 1m 24s\n",
      "129:\tlearn: 1503.0238116\ttest: 1540.5051363\tbest: 1540.5051363 (129)\ttotal: 12.7s\tremaining: 1m 24s\n",
      "130:\tlearn: 1502.2892549\ttest: 1540.0079356\tbest: 1540.0079356 (130)\ttotal: 12.8s\tremaining: 1m 24s\n",
      "131:\tlearn: 1501.4946477\ttest: 1539.3639328\tbest: 1539.3639328 (131)\ttotal: 12.9s\tremaining: 1m 24s\n",
      "132:\tlearn: 1500.9764645\ttest: 1539.0410716\tbest: 1539.0410716 (132)\ttotal: 13s\tremaining: 1m 24s\n",
      "133:\tlearn: 1500.2032824\ttest: 1538.4076877\tbest: 1538.4076877 (133)\ttotal: 13s\tremaining: 1m 24s\n",
      "134:\tlearn: 1499.4913950\ttest: 1537.9398708\tbest: 1537.9398708 (134)\ttotal: 13.1s\tremaining: 1m 24s\n",
      "135:\tlearn: 1498.9169564\ttest: 1537.5635423\tbest: 1537.5635423 (135)\ttotal: 13.2s\tremaining: 1m 24s\n",
      "136:\tlearn: 1498.5503295\ttest: 1537.2780913\tbest: 1537.2780913 (136)\ttotal: 13.3s\tremaining: 1m 23s\n",
      "137:\tlearn: 1497.6439642\ttest: 1536.5663405\tbest: 1536.5663405 (137)\ttotal: 13.4s\tremaining: 1m 23s\n",
      "138:\tlearn: 1497.1801431\ttest: 1536.1754989\tbest: 1536.1754989 (138)\ttotal: 13.5s\tremaining: 1m 23s\n",
      "139:\tlearn: 1496.4363802\ttest: 1535.6417406\tbest: 1535.6417406 (139)\ttotal: 13.6s\tremaining: 1m 23s\n",
      "140:\tlearn: 1495.4986584\ttest: 1534.9500814\tbest: 1534.9500814 (140)\ttotal: 13.7s\tremaining: 1m 23s\n",
      "141:\tlearn: 1494.5391319\ttest: 1534.2281677\tbest: 1534.2281677 (141)\ttotal: 13.8s\tremaining: 1m 23s\n",
      "142:\tlearn: 1494.0058411\ttest: 1533.8726012\tbest: 1533.8726012 (142)\ttotal: 13.9s\tremaining: 1m 23s\n",
      "143:\tlearn: 1493.2142901\ttest: 1533.2857227\tbest: 1533.2857227 (143)\ttotal: 14s\tremaining: 1m 23s\n",
      "144:\tlearn: 1492.4154591\ttest: 1532.9597628\tbest: 1532.9597628 (144)\ttotal: 14.1s\tremaining: 1m 23s\n",
      "145:\tlearn: 1491.8748708\ttest: 1532.6058748\tbest: 1532.6058748 (145)\ttotal: 14.2s\tremaining: 1m 22s\n",
      "146:\tlearn: 1491.2471162\ttest: 1532.1979792\tbest: 1532.1979792 (146)\ttotal: 14.3s\tremaining: 1m 22s\n",
      "147:\tlearn: 1490.8169885\ttest: 1531.8988921\tbest: 1531.8988921 (147)\ttotal: 14.4s\tremaining: 1m 22s\n",
      "148:\tlearn: 1490.2502069\ttest: 1531.4413688\tbest: 1531.4413688 (148)\ttotal: 14.5s\tremaining: 1m 22s\n",
      "149:\tlearn: 1489.5805187\ttest: 1531.0288096\tbest: 1531.0288096 (149)\ttotal: 14.6s\tremaining: 1m 22s\n",
      "150:\tlearn: 1488.6236656\ttest: 1530.4091299\tbest: 1530.4091299 (150)\ttotal: 14.7s\tremaining: 1m 22s\n",
      "151:\tlearn: 1487.8010429\ttest: 1529.8807416\tbest: 1529.8807416 (151)\ttotal: 14.8s\tremaining: 1m 22s\n",
      "152:\tlearn: 1487.1485879\ttest: 1529.5508558\tbest: 1529.5508558 (152)\ttotal: 14.9s\tremaining: 1m 22s\n",
      "153:\tlearn: 1486.1389366\ttest: 1528.7787958\tbest: 1528.7787958 (153)\ttotal: 15s\tremaining: 1m 22s\n",
      "154:\tlearn: 1485.3339474\ttest: 1528.2731061\tbest: 1528.2731061 (154)\ttotal: 15s\tremaining: 1m 22s\n",
      "155:\tlearn: 1484.7102890\ttest: 1527.8442731\tbest: 1527.8442731 (155)\ttotal: 15.1s\tremaining: 1m 21s\n",
      "156:\tlearn: 1484.2044832\ttest: 1527.3657896\tbest: 1527.3657896 (156)\ttotal: 15.2s\tremaining: 1m 21s\n",
      "157:\tlearn: 1483.4321476\ttest: 1526.7398400\tbest: 1526.7398400 (157)\ttotal: 15.3s\tremaining: 1m 21s\n",
      "158:\tlearn: 1482.8270078\ttest: 1526.4308366\tbest: 1526.4308366 (158)\ttotal: 15.4s\tremaining: 1m 21s\n",
      "159:\tlearn: 1481.9715511\ttest: 1525.9498722\tbest: 1525.9498722 (159)\ttotal: 15.5s\tremaining: 1m 21s\n",
      "160:\tlearn: 1481.6087513\ttest: 1525.7300905\tbest: 1525.7300905 (160)\ttotal: 15.6s\tremaining: 1m 21s\n",
      "161:\tlearn: 1480.9336083\ttest: 1525.3237945\tbest: 1525.3237945 (161)\ttotal: 15.7s\tremaining: 1m 21s\n",
      "162:\tlearn: 1480.2561663\ttest: 1524.8223424\tbest: 1524.8223424 (162)\ttotal: 15.8s\tremaining: 1m 21s\n",
      "163:\tlearn: 1479.7761365\ttest: 1524.6915056\tbest: 1524.6915056 (163)\ttotal: 15.9s\tremaining: 1m 21s\n",
      "164:\tlearn: 1479.1846526\ttest: 1524.3062140\tbest: 1524.3062140 (164)\ttotal: 16s\tremaining: 1m 21s\n",
      "165:\tlearn: 1478.7264087\ttest: 1523.9907758\tbest: 1523.9907758 (165)\ttotal: 16.1s\tremaining: 1m 21s\n",
      "166:\tlearn: 1478.1302430\ttest: 1523.5406054\tbest: 1523.5406054 (166)\ttotal: 16.2s\tremaining: 1m 20s\n",
      "167:\tlearn: 1477.3276101\ttest: 1522.9007746\tbest: 1522.9007746 (167)\ttotal: 16.3s\tremaining: 1m 20s\n",
      "168:\tlearn: 1476.7376745\ttest: 1522.4291999\tbest: 1522.4291999 (168)\ttotal: 16.4s\tremaining: 1m 20s\n",
      "169:\tlearn: 1475.9350249\ttest: 1521.9292341\tbest: 1521.9292341 (169)\ttotal: 16.5s\tremaining: 1m 20s\n",
      "170:\tlearn: 1475.0852541\ttest: 1521.4434031\tbest: 1521.4434031 (170)\ttotal: 16.6s\tremaining: 1m 20s\n",
      "171:\tlearn: 1474.3830240\ttest: 1520.9592927\tbest: 1520.9592927 (171)\ttotal: 16.7s\tremaining: 1m 20s\n",
      "172:\tlearn: 1473.5760016\ttest: 1520.3970708\tbest: 1520.3970708 (172)\ttotal: 16.8s\tremaining: 1m 20s\n",
      "173:\tlearn: 1473.0873562\ttest: 1520.1773437\tbest: 1520.1773437 (173)\ttotal: 16.9s\tremaining: 1m 20s\n",
      "174:\tlearn: 1472.6350529\ttest: 1520.0580666\tbest: 1520.0580666 (174)\ttotal: 17s\tremaining: 1m 20s\n",
      "175:\tlearn: 1472.1283597\ttest: 1519.6772029\tbest: 1519.6772029 (175)\ttotal: 17.1s\tremaining: 1m 19s\n",
      "176:\tlearn: 1470.8468190\ttest: 1519.0084154\tbest: 1519.0084154 (176)\ttotal: 17.2s\tremaining: 1m 19s\n",
      "177:\tlearn: 1469.5591128\ttest: 1518.1592819\tbest: 1518.1592819 (177)\ttotal: 17.3s\tremaining: 1m 19s\n",
      "178:\tlearn: 1468.8355341\ttest: 1517.8639977\tbest: 1517.8639977 (178)\ttotal: 17.4s\tremaining: 1m 19s\n",
      "179:\tlearn: 1467.8115615\ttest: 1517.4547857\tbest: 1517.4547857 (179)\ttotal: 17.5s\tremaining: 1m 19s\n",
      "180:\tlearn: 1467.3685213\ttest: 1517.1805777\tbest: 1517.1805777 (180)\ttotal: 17.6s\tremaining: 1m 19s\n",
      "181:\tlearn: 1466.8598212\ttest: 1516.8648598\tbest: 1516.8648598 (181)\ttotal: 17.7s\tremaining: 1m 19s\n",
      "182:\tlearn: 1466.2077904\ttest: 1516.5445563\tbest: 1516.5445563 (182)\ttotal: 17.8s\tremaining: 1m 19s\n",
      "183:\tlearn: 1465.7988117\ttest: 1516.3251336\tbest: 1516.3251336 (183)\ttotal: 17.9s\tremaining: 1m 19s\n",
      "184:\tlearn: 1465.2977137\ttest: 1516.1708422\tbest: 1516.1708422 (184)\ttotal: 18s\tremaining: 1m 19s\n",
      "185:\tlearn: 1464.9433751\ttest: 1515.9270238\tbest: 1515.9270238 (185)\ttotal: 18.1s\tremaining: 1m 19s\n",
      "186:\tlearn: 1464.2490764\ttest: 1515.4799736\tbest: 1515.4799736 (186)\ttotal: 18.2s\tremaining: 1m 18s\n",
      "187:\tlearn: 1463.6984555\ttest: 1515.1769978\tbest: 1515.1769978 (187)\ttotal: 18.3s\tremaining: 1m 18s\n",
      "188:\tlearn: 1463.1961082\ttest: 1514.8863842\tbest: 1514.8863842 (188)\ttotal: 18.4s\tremaining: 1m 18s\n",
      "189:\tlearn: 1462.5843153\ttest: 1514.6382325\tbest: 1514.6382325 (189)\ttotal: 18.5s\tremaining: 1m 18s\n",
      "190:\tlearn: 1462.0694388\ttest: 1514.4508616\tbest: 1514.4508616 (190)\ttotal: 18.6s\tremaining: 1m 18s\n",
      "191:\tlearn: 1461.4994381\ttest: 1514.1317444\tbest: 1514.1317444 (191)\ttotal: 18.7s\tremaining: 1m 18s\n",
      "192:\tlearn: 1460.9292827\ttest: 1513.9640317\tbest: 1513.9640317 (192)\ttotal: 18.8s\tremaining: 1m 18s\n",
      "193:\tlearn: 1460.1787717\ttest: 1513.4197624\tbest: 1513.4197624 (193)\ttotal: 18.9s\tremaining: 1m 18s\n",
      "194:\tlearn: 1459.7298569\ttest: 1513.2519773\tbest: 1513.2519773 (194)\ttotal: 18.9s\tremaining: 1m 18s\n",
      "195:\tlearn: 1459.3283474\ttest: 1513.0964073\tbest: 1513.0964073 (195)\ttotal: 19s\tremaining: 1m 18s\n",
      "196:\tlearn: 1458.7412834\ttest: 1512.8222491\tbest: 1512.8222491 (196)\ttotal: 19.1s\tremaining: 1m 18s\n",
      "197:\tlearn: 1457.9205478\ttest: 1512.5923403\tbest: 1512.5923403 (197)\ttotal: 19.2s\tremaining: 1m 17s\n",
      "198:\tlearn: 1457.6021254\ttest: 1512.5503074\tbest: 1512.5503074 (198)\ttotal: 19.3s\tremaining: 1m 17s\n",
      "199:\tlearn: 1456.7873387\ttest: 1512.0719720\tbest: 1512.0719720 (199)\ttotal: 19.4s\tremaining: 1m 17s\n",
      "200:\tlearn: 1456.2656391\ttest: 1511.8399077\tbest: 1511.8399077 (200)\ttotal: 19.5s\tremaining: 1m 17s\n",
      "201:\tlearn: 1455.8641682\ttest: 1511.6396274\tbest: 1511.6396274 (201)\ttotal: 19.6s\tremaining: 1m 17s\n",
      "202:\tlearn: 1455.3839379\ttest: 1511.4239258\tbest: 1511.4239258 (202)\ttotal: 19.7s\tremaining: 1m 17s\n",
      "203:\tlearn: 1454.9496162\ttest: 1511.1125635\tbest: 1511.1125635 (203)\ttotal: 19.8s\tremaining: 1m 17s\n",
      "204:\tlearn: 1454.1744916\ttest: 1510.6760858\tbest: 1510.6760858 (204)\ttotal: 19.9s\tremaining: 1m 17s\n",
      "205:\tlearn: 1453.0530406\ttest: 1509.9854221\tbest: 1509.9854221 (205)\ttotal: 20s\tremaining: 1m 17s\n",
      "206:\tlearn: 1452.7475418\ttest: 1509.8699402\tbest: 1509.8699402 (206)\ttotal: 20.1s\tremaining: 1m 17s\n",
      "207:\tlearn: 1452.2018465\ttest: 1509.5642787\tbest: 1509.5642787 (207)\ttotal: 20.2s\tremaining: 1m 16s\n",
      "208:\tlearn: 1451.9026927\ttest: 1509.5722170\tbest: 1509.5642787 (207)\ttotal: 20.3s\tremaining: 1m 16s\n",
      "209:\tlearn: 1451.4028413\ttest: 1509.2615915\tbest: 1509.2615915 (209)\ttotal: 20.4s\tremaining: 1m 16s\n",
      "210:\tlearn: 1451.0372404\ttest: 1509.0374809\tbest: 1509.0374809 (210)\ttotal: 20.5s\tremaining: 1m 16s\n",
      "211:\tlearn: 1450.6005695\ttest: 1508.7461535\tbest: 1508.7461535 (211)\ttotal: 20.6s\tremaining: 1m 16s\n",
      "212:\tlearn: 1450.0715954\ttest: 1508.4223319\tbest: 1508.4223319 (212)\ttotal: 20.7s\tremaining: 1m 16s\n",
      "213:\tlearn: 1449.6007869\ttest: 1508.1280929\tbest: 1508.1280929 (213)\ttotal: 20.8s\tremaining: 1m 16s\n",
      "214:\tlearn: 1449.2200070\ttest: 1507.9410763\tbest: 1507.9410763 (214)\ttotal: 20.9s\tremaining: 1m 16s\n",
      "215:\tlearn: 1448.8823741\ttest: 1507.7103947\tbest: 1507.7103947 (215)\ttotal: 21s\tremaining: 1m 16s\n",
      "216:\tlearn: 1448.4937326\ttest: 1507.4624548\tbest: 1507.4624548 (216)\ttotal: 21.1s\tremaining: 1m 16s\n",
      "217:\tlearn: 1448.1672139\ttest: 1507.3094313\tbest: 1507.3094313 (217)\ttotal: 21.2s\tremaining: 1m 16s\n",
      "218:\tlearn: 1447.5759722\ttest: 1506.8969169\tbest: 1506.8969169 (218)\ttotal: 21.3s\tremaining: 1m 16s\n",
      "219:\tlearn: 1446.8414170\ttest: 1506.4507091\tbest: 1506.4507091 (219)\ttotal: 21.4s\tremaining: 1m 15s\n",
      "220:\tlearn: 1446.4902085\ttest: 1506.3067371\tbest: 1506.3067371 (220)\ttotal: 21.5s\tremaining: 1m 15s\n",
      "221:\tlearn: 1445.9585718\ttest: 1506.0045160\tbest: 1506.0045160 (221)\ttotal: 21.6s\tremaining: 1m 15s\n",
      "222:\tlearn: 1445.5366077\ttest: 1505.7717091\tbest: 1505.7717091 (222)\ttotal: 21.7s\tremaining: 1m 15s\n",
      "223:\tlearn: 1445.2499755\ttest: 1505.6869755\tbest: 1505.6869755 (223)\ttotal: 21.8s\tremaining: 1m 15s\n",
      "224:\tlearn: 1444.7583392\ttest: 1505.3860028\tbest: 1505.3860028 (224)\ttotal: 21.9s\tremaining: 1m 15s\n",
      "225:\tlearn: 1444.2211817\ttest: 1504.9970039\tbest: 1504.9970039 (225)\ttotal: 22s\tremaining: 1m 15s\n",
      "226:\tlearn: 1443.7573849\ttest: 1504.8389697\tbest: 1504.8389697 (226)\ttotal: 22.1s\tremaining: 1m 15s\n",
      "227:\tlearn: 1443.4929146\ttest: 1504.7499745\tbest: 1504.7499745 (227)\ttotal: 22.2s\tremaining: 1m 15s\n",
      "228:\tlearn: 1443.1057614\ttest: 1504.6627652\tbest: 1504.6627652 (228)\ttotal: 22.3s\tremaining: 1m 14s\n",
      "229:\tlearn: 1442.5295965\ttest: 1504.3470784\tbest: 1504.3470784 (229)\ttotal: 22.4s\tremaining: 1m 14s\n",
      "230:\tlearn: 1442.1208774\ttest: 1504.1148430\tbest: 1504.1148430 (230)\ttotal: 22.5s\tremaining: 1m 14s\n",
      "231:\tlearn: 1441.8050594\ttest: 1503.9477824\tbest: 1503.9477824 (231)\ttotal: 22.5s\tremaining: 1m 14s\n",
      "232:\tlearn: 1441.1025460\ttest: 1503.4260665\tbest: 1503.4260665 (232)\ttotal: 22.6s\tremaining: 1m 14s\n",
      "233:\tlearn: 1440.7848942\ttest: 1503.3272816\tbest: 1503.3272816 (233)\ttotal: 22.7s\tremaining: 1m 14s\n",
      "234:\tlearn: 1440.1058894\ttest: 1502.9957055\tbest: 1502.9957055 (234)\ttotal: 22.8s\tremaining: 1m 14s\n",
      "235:\tlearn: 1439.4706902\ttest: 1502.6345658\tbest: 1502.6345658 (235)\ttotal: 22.9s\tremaining: 1m 14s\n",
      "236:\tlearn: 1438.9963472\ttest: 1502.4638978\tbest: 1502.4638978 (236)\ttotal: 23s\tremaining: 1m 14s\n",
      "237:\tlearn: 1438.5957863\ttest: 1502.1993583\tbest: 1502.1993583 (237)\ttotal: 23.1s\tremaining: 1m 14s\n",
      "238:\tlearn: 1438.3466261\ttest: 1502.1018019\tbest: 1502.1018019 (238)\ttotal: 23.2s\tremaining: 1m 13s\n",
      "239:\tlearn: 1437.8880450\ttest: 1501.9465378\tbest: 1501.9465378 (239)\ttotal: 23.3s\tremaining: 1m 13s\n",
      "240:\tlearn: 1437.6054757\ttest: 1501.7652661\tbest: 1501.7652661 (240)\ttotal: 23.4s\tremaining: 1m 13s\n",
      "241:\tlearn: 1437.0751188\ttest: 1501.6326996\tbest: 1501.6326996 (241)\ttotal: 23.5s\tremaining: 1m 13s\n",
      "242:\tlearn: 1436.5813102\ttest: 1501.3722797\tbest: 1501.3722797 (242)\ttotal: 23.6s\tremaining: 1m 13s\n",
      "243:\tlearn: 1436.0062707\ttest: 1501.2413274\tbest: 1501.2413274 (243)\ttotal: 23.7s\tremaining: 1m 13s\n",
      "244:\tlearn: 1435.5345672\ttest: 1501.0197902\tbest: 1501.0197902 (244)\ttotal: 23.8s\tremaining: 1m 13s\n",
      "245:\tlearn: 1434.9926109\ttest: 1500.7195920\tbest: 1500.7195920 (245)\ttotal: 23.9s\tremaining: 1m 13s\n",
      "246:\tlearn: 1434.4940914\ttest: 1500.4703884\tbest: 1500.4703884 (246)\ttotal: 24s\tremaining: 1m 13s\n",
      "247:\tlearn: 1434.2760002\ttest: 1500.3844233\tbest: 1500.3844233 (247)\ttotal: 24.1s\tremaining: 1m 13s\n",
      "248:\tlearn: 1433.9668215\ttest: 1500.2503433\tbest: 1500.2503433 (248)\ttotal: 24.2s\tremaining: 1m 12s\n",
      "249:\tlearn: 1433.3119274\ttest: 1500.0420004\tbest: 1500.0420004 (249)\ttotal: 24.3s\tremaining: 1m 12s\n",
      "250:\tlearn: 1432.6285010\ttest: 1499.7405278\tbest: 1499.7405278 (250)\ttotal: 24.4s\tremaining: 1m 12s\n",
      "251:\tlearn: 1431.9872782\ttest: 1499.4496384\tbest: 1499.4496384 (251)\ttotal: 24.5s\tremaining: 1m 12s\n",
      "252:\tlearn: 1431.4764033\ttest: 1499.1599055\tbest: 1499.1599055 (252)\ttotal: 24.6s\tremaining: 1m 12s\n",
      "253:\tlearn: 1431.3381626\ttest: 1499.0989602\tbest: 1499.0989602 (253)\ttotal: 24.7s\tremaining: 1m 12s\n",
      "254:\tlearn: 1431.0151502\ttest: 1498.9307082\tbest: 1498.9307082 (254)\ttotal: 24.8s\tremaining: 1m 12s\n",
      "255:\tlearn: 1430.5048900\ttest: 1498.6466704\tbest: 1498.6466704 (255)\ttotal: 24.9s\tremaining: 1m 12s\n",
      "256:\tlearn: 1430.1146192\ttest: 1498.4457783\tbest: 1498.4457783 (256)\ttotal: 25s\tremaining: 1m 12s\n",
      "257:\tlearn: 1429.8061343\ttest: 1498.2297974\tbest: 1498.2297974 (257)\ttotal: 25.1s\tremaining: 1m 12s\n",
      "258:\tlearn: 1429.1140682\ttest: 1497.8092886\tbest: 1497.8092886 (258)\ttotal: 25.2s\tremaining: 1m 11s\n",
      "259:\tlearn: 1428.6989140\ttest: 1497.7373873\tbest: 1497.7373873 (259)\ttotal: 25.3s\tremaining: 1m 11s\n",
      "260:\tlearn: 1428.3956499\ttest: 1497.6917868\tbest: 1497.6917868 (260)\ttotal: 25.3s\tremaining: 1m 11s\n",
      "261:\tlearn: 1427.9987299\ttest: 1497.5465126\tbest: 1497.5465126 (261)\ttotal: 25.4s\tremaining: 1m 11s\n",
      "262:\tlearn: 1427.6344875\ttest: 1497.3905161\tbest: 1497.3905161 (262)\ttotal: 25.5s\tremaining: 1m 11s\n",
      "263:\tlearn: 1427.1190796\ttest: 1497.1640814\tbest: 1497.1640814 (263)\ttotal: 25.6s\tremaining: 1m 11s\n",
      "264:\tlearn: 1426.8848956\ttest: 1496.9996658\tbest: 1496.9996658 (264)\ttotal: 25.7s\tremaining: 1m 11s\n",
      "265:\tlearn: 1426.6297166\ttest: 1496.8691112\tbest: 1496.8691112 (265)\ttotal: 25.8s\tremaining: 1m 11s\n",
      "266:\tlearn: 1425.9589921\ttest: 1496.5853507\tbest: 1496.5853507 (266)\ttotal: 25.9s\tremaining: 1m 11s\n",
      "267:\tlearn: 1425.5612413\ttest: 1496.3640902\tbest: 1496.3640902 (267)\ttotal: 26s\tremaining: 1m 11s\n",
      "268:\tlearn: 1425.1623328\ttest: 1496.2027863\tbest: 1496.2027863 (268)\ttotal: 26.1s\tremaining: 1m 10s\n",
      "269:\tlearn: 1424.6832195\ttest: 1495.9817227\tbest: 1495.9817227 (269)\ttotal: 26.2s\tremaining: 1m 10s\n",
      "270:\tlearn: 1424.1897621\ttest: 1495.7227042\tbest: 1495.7227042 (270)\ttotal: 26.3s\tremaining: 1m 10s\n",
      "271:\tlearn: 1423.6795096\ttest: 1495.5343794\tbest: 1495.5343794 (271)\ttotal: 26.4s\tremaining: 1m 10s\n",
      "272:\tlearn: 1423.1811478\ttest: 1495.3523831\tbest: 1495.3523831 (272)\ttotal: 26.5s\tremaining: 1m 10s\n",
      "273:\tlearn: 1422.7393929\ttest: 1495.2419517\tbest: 1495.2419517 (273)\ttotal: 26.6s\tremaining: 1m 10s\n",
      "274:\tlearn: 1422.3954068\ttest: 1495.1081996\tbest: 1495.1081996 (274)\ttotal: 26.7s\tremaining: 1m 10s\n",
      "275:\tlearn: 1422.1394804\ttest: 1494.9511328\tbest: 1494.9511328 (275)\ttotal: 26.8s\tremaining: 1m 10s\n",
      "276:\tlearn: 1421.8671293\ttest: 1494.7623854\tbest: 1494.7623854 (276)\ttotal: 26.9s\tremaining: 1m 10s\n",
      "277:\tlearn: 1421.6004830\ttest: 1494.7002164\tbest: 1494.7002164 (277)\ttotal: 27s\tremaining: 1m 10s\n",
      "278:\tlearn: 1421.1088131\ttest: 1494.5039335\tbest: 1494.5039335 (278)\ttotal: 27.1s\tremaining: 1m 9s\n",
      "279:\tlearn: 1420.7851242\ttest: 1494.4026052\tbest: 1494.4026052 (279)\ttotal: 27.2s\tremaining: 1m 9s\n",
      "280:\tlearn: 1420.2828337\ttest: 1494.1758152\tbest: 1494.1758152 (280)\ttotal: 27.3s\tremaining: 1m 9s\n",
      "281:\tlearn: 1419.9386008\ttest: 1494.0859985\tbest: 1494.0859985 (281)\ttotal: 27.4s\tremaining: 1m 9s\n",
      "282:\tlearn: 1419.4703494\ttest: 1493.9079071\tbest: 1493.9079071 (282)\ttotal: 27.5s\tremaining: 1m 9s\n",
      "283:\tlearn: 1419.2423516\ttest: 1493.8553856\tbest: 1493.8553856 (283)\ttotal: 27.6s\tremaining: 1m 9s\n",
      "284:\tlearn: 1418.6774114\ttest: 1493.6541393\tbest: 1493.6541393 (284)\ttotal: 27.7s\tremaining: 1m 9s\n",
      "285:\tlearn: 1418.4602864\ttest: 1493.6132311\tbest: 1493.6132311 (285)\ttotal: 27.8s\tremaining: 1m 9s\n",
      "286:\tlearn: 1418.2495808\ttest: 1493.5698873\tbest: 1493.5698873 (286)\ttotal: 27.9s\tremaining: 1m 9s\n",
      "287:\tlearn: 1417.9295041\ttest: 1493.4898620\tbest: 1493.4898620 (287)\ttotal: 27.9s\tremaining: 1m 9s\n",
      "288:\tlearn: 1417.4133972\ttest: 1493.2354792\tbest: 1493.2354792 (288)\ttotal: 28s\tremaining: 1m 8s\n",
      "289:\tlearn: 1416.8528970\ttest: 1492.9948391\tbest: 1492.9948391 (289)\ttotal: 28.1s\tremaining: 1m 8s\n",
      "290:\tlearn: 1416.6655065\ttest: 1492.9820849\tbest: 1492.9820849 (290)\ttotal: 28.2s\tremaining: 1m 8s\n",
      "291:\tlearn: 1416.3537148\ttest: 1492.8166507\tbest: 1492.8166507 (291)\ttotal: 28.3s\tremaining: 1m 8s\n",
      "292:\tlearn: 1415.9107057\ttest: 1492.5911000\tbest: 1492.5911000 (292)\ttotal: 28.4s\tremaining: 1m 8s\n",
      "293:\tlearn: 1415.5266965\ttest: 1492.3914356\tbest: 1492.3914356 (293)\ttotal: 28.5s\tremaining: 1m 8s\n",
      "294:\tlearn: 1415.0958149\ttest: 1492.1501275\tbest: 1492.1501275 (294)\ttotal: 28.6s\tremaining: 1m 8s\n",
      "295:\tlearn: 1414.6330130\ttest: 1491.9899281\tbest: 1491.9899281 (295)\ttotal: 28.7s\tremaining: 1m 8s\n",
      "296:\tlearn: 1414.1883897\ttest: 1491.8377562\tbest: 1491.8377562 (296)\ttotal: 28.8s\tremaining: 1m 8s\n",
      "297:\tlearn: 1413.6565683\ttest: 1491.5747434\tbest: 1491.5747434 (297)\ttotal: 28.9s\tremaining: 1m 8s\n",
      "298:\tlearn: 1413.4064830\ttest: 1491.4321174\tbest: 1491.4321174 (298)\ttotal: 29s\tremaining: 1m 7s\n",
      "299:\tlearn: 1412.8871597\ttest: 1491.2234527\tbest: 1491.2234527 (299)\ttotal: 29.1s\tremaining: 1m 7s\n",
      "300:\tlearn: 1412.3681691\ttest: 1491.0502015\tbest: 1491.0502015 (300)\ttotal: 29.2s\tremaining: 1m 7s\n",
      "301:\tlearn: 1411.8978928\ttest: 1490.7879635\tbest: 1490.7879635 (301)\ttotal: 29.3s\tremaining: 1m 7s\n",
      "302:\tlearn: 1411.5158750\ttest: 1490.6144820\tbest: 1490.6144820 (302)\ttotal: 29.4s\tremaining: 1m 7s\n",
      "303:\tlearn: 1411.1687421\ttest: 1490.4895192\tbest: 1490.4895192 (303)\ttotal: 29.5s\tremaining: 1m 7s\n",
      "304:\tlearn: 1410.7089584\ttest: 1490.2656346\tbest: 1490.2656346 (304)\ttotal: 29.6s\tremaining: 1m 7s\n",
      "305:\tlearn: 1410.5700230\ttest: 1490.2820456\tbest: 1490.2656346 (304)\ttotal: 29.7s\tremaining: 1m 7s\n",
      "306:\tlearn: 1410.1646505\ttest: 1490.0836213\tbest: 1490.0836213 (306)\ttotal: 29.8s\tremaining: 1m 7s\n",
      "307:\tlearn: 1409.9169660\ttest: 1489.9798774\tbest: 1489.9798774 (307)\ttotal: 29.9s\tremaining: 1m 7s\n",
      "308:\tlearn: 1409.1576329\ttest: 1489.8300690\tbest: 1489.8300690 (308)\ttotal: 30s\tremaining: 1m 7s\n",
      "309:\tlearn: 1408.7891841\ttest: 1489.7372280\tbest: 1489.7372280 (309)\ttotal: 30.1s\tremaining: 1m 6s\n",
      "310:\tlearn: 1408.5400188\ttest: 1489.6299148\tbest: 1489.6299148 (310)\ttotal: 30.2s\tremaining: 1m 6s\n",
      "311:\tlearn: 1408.2200350\ttest: 1489.6090210\tbest: 1489.6090210 (311)\ttotal: 30.3s\tremaining: 1m 6s\n",
      "312:\tlearn: 1407.7786216\ttest: 1489.5170352\tbest: 1489.5170352 (312)\ttotal: 30.4s\tremaining: 1m 6s\n",
      "313:\tlearn: 1406.8253753\ttest: 1489.2591568\tbest: 1489.2591568 (313)\ttotal: 30.5s\tremaining: 1m 6s\n",
      "314:\tlearn: 1406.5212236\ttest: 1489.1955079\tbest: 1489.1955079 (314)\ttotal: 30.6s\tremaining: 1m 6s\n",
      "315:\tlearn: 1406.0960960\ttest: 1489.0982171\tbest: 1489.0982171 (315)\ttotal: 30.7s\tremaining: 1m 6s\n",
      "316:\tlearn: 1405.6040453\ttest: 1488.8677271\tbest: 1488.8677271 (316)\ttotal: 30.8s\tremaining: 1m 6s\n",
      "317:\tlearn: 1405.2249593\ttest: 1488.6579537\tbest: 1488.6579537 (317)\ttotal: 30.9s\tremaining: 1m 6s\n",
      "318:\tlearn: 1405.1182658\ttest: 1488.6786528\tbest: 1488.6579537 (317)\ttotal: 31s\tremaining: 1m 6s\n",
      "319:\tlearn: 1404.7681516\ttest: 1488.4905591\tbest: 1488.4905591 (319)\ttotal: 31.1s\tremaining: 1m 5s\n",
      "320:\tlearn: 1404.5325583\ttest: 1488.4075557\tbest: 1488.4075557 (320)\ttotal: 31.2s\tremaining: 1m 5s\n",
      "321:\tlearn: 1404.1035516\ttest: 1488.1763301\tbest: 1488.1763301 (321)\ttotal: 31.2s\tremaining: 1m 5s\n",
      "322:\tlearn: 1403.6433911\ttest: 1488.0469697\tbest: 1488.0469697 (322)\ttotal: 31.3s\tremaining: 1m 5s\n",
      "323:\tlearn: 1403.1383496\ttest: 1487.7221128\tbest: 1487.7221128 (323)\ttotal: 31.4s\tremaining: 1m 5s\n",
      "324:\tlearn: 1402.9110280\ttest: 1487.5488631\tbest: 1487.5488631 (324)\ttotal: 31.5s\tremaining: 1m 5s\n",
      "325:\tlearn: 1402.5611406\ttest: 1487.5164311\tbest: 1487.5164311 (325)\ttotal: 31.6s\tremaining: 1m 5s\n",
      "326:\tlearn: 1402.1120430\ttest: 1487.2393459\tbest: 1487.2393459 (326)\ttotal: 31.7s\tremaining: 1m 5s\n",
      "327:\tlearn: 1401.7336379\ttest: 1487.0987541\tbest: 1487.0987541 (327)\ttotal: 31.8s\tremaining: 1m 5s\n",
      "328:\tlearn: 1401.4447912\ttest: 1486.9605270\tbest: 1486.9605270 (328)\ttotal: 31.9s\tremaining: 1m 5s\n",
      "329:\tlearn: 1401.1659129\ttest: 1486.8615240\tbest: 1486.8615240 (329)\ttotal: 32s\tremaining: 1m 5s\n",
      "330:\tlearn: 1400.8603895\ttest: 1486.8090744\tbest: 1486.8090744 (330)\ttotal: 32.1s\tremaining: 1m 4s\n",
      "331:\tlearn: 1400.3493659\ttest: 1486.6505882\tbest: 1486.6505882 (331)\ttotal: 32.2s\tremaining: 1m 4s\n",
      "332:\tlearn: 1400.0824281\ttest: 1486.5478815\tbest: 1486.5478815 (332)\ttotal: 32.3s\tremaining: 1m 4s\n",
      "333:\tlearn: 1399.8547102\ttest: 1486.4338337\tbest: 1486.4338337 (333)\ttotal: 32.4s\tremaining: 1m 4s\n",
      "334:\tlearn: 1399.4296433\ttest: 1486.3161338\tbest: 1486.3161338 (334)\ttotal: 32.5s\tremaining: 1m 4s\n",
      "335:\tlearn: 1399.1742216\ttest: 1486.2495315\tbest: 1486.2495315 (335)\ttotal: 32.6s\tremaining: 1m 4s\n",
      "336:\tlearn: 1399.0118342\ttest: 1486.2538990\tbest: 1486.2495315 (335)\ttotal: 32.7s\tremaining: 1m 4s\n",
      "337:\tlearn: 1398.7568556\ttest: 1486.1840682\tbest: 1486.1840682 (337)\ttotal: 32.8s\tremaining: 1m 4s\n",
      "338:\tlearn: 1398.1880800\ttest: 1485.9093428\tbest: 1485.9093428 (338)\ttotal: 32.9s\tremaining: 1m 4s\n",
      "339:\tlearn: 1397.8149526\ttest: 1485.6713351\tbest: 1485.6713351 (339)\ttotal: 33s\tremaining: 1m 4s\n",
      "340:\tlearn: 1397.3056307\ttest: 1485.4313218\tbest: 1485.4313218 (340)\ttotal: 33.1s\tremaining: 1m 3s\n",
      "341:\tlearn: 1396.8650849\ttest: 1485.3128101\tbest: 1485.3128101 (341)\ttotal: 33.2s\tremaining: 1m 3s\n",
      "342:\tlearn: 1396.7937687\ttest: 1485.2999315\tbest: 1485.2999315 (342)\ttotal: 33.3s\tremaining: 1m 3s\n",
      "343:\tlearn: 1396.5307147\ttest: 1485.1564299\tbest: 1485.1564299 (343)\ttotal: 33.4s\tremaining: 1m 3s\n",
      "344:\tlearn: 1396.2311196\ttest: 1485.0474794\tbest: 1485.0474794 (344)\ttotal: 33.5s\tremaining: 1m 3s\n",
      "345:\tlearn: 1395.9744925\ttest: 1484.8778277\tbest: 1484.8778277 (345)\ttotal: 33.6s\tremaining: 1m 3s\n",
      "346:\tlearn: 1395.5603676\ttest: 1484.7766132\tbest: 1484.7766132 (346)\ttotal: 33.7s\tremaining: 1m 3s\n",
      "347:\tlearn: 1395.1870470\ttest: 1484.6216333\tbest: 1484.6216333 (347)\ttotal: 33.8s\tremaining: 1m 3s\n",
      "348:\tlearn: 1394.9746929\ttest: 1484.5264623\tbest: 1484.5264623 (348)\ttotal: 33.9s\tremaining: 1m 3s\n",
      "349:\tlearn: 1394.4686841\ttest: 1484.3075476\tbest: 1484.3075476 (349)\ttotal: 34s\tremaining: 1m 3s\n",
      "350:\tlearn: 1394.1865523\ttest: 1484.1629085\tbest: 1484.1629085 (350)\ttotal: 34.1s\tremaining: 1m 2s\n",
      "351:\tlearn: 1393.7579102\ttest: 1484.0356582\tbest: 1484.0356582 (351)\ttotal: 34.2s\tremaining: 1m 2s\n",
      "352:\tlearn: 1393.5400614\ttest: 1483.9303059\tbest: 1483.9303059 (352)\ttotal: 34.2s\tremaining: 1m 2s\n",
      "353:\tlearn: 1393.3799029\ttest: 1483.9013270\tbest: 1483.9013270 (353)\ttotal: 34.3s\tremaining: 1m 2s\n",
      "354:\tlearn: 1393.0224660\ttest: 1483.6465334\tbest: 1483.6465334 (354)\ttotal: 34.4s\tremaining: 1m 2s\n",
      "355:\tlearn: 1392.8314453\ttest: 1483.5573546\tbest: 1483.5573546 (355)\ttotal: 34.5s\tremaining: 1m 2s\n",
      "356:\tlearn: 1392.7297309\ttest: 1483.4857211\tbest: 1483.4857211 (356)\ttotal: 34.6s\tremaining: 1m 2s\n",
      "357:\tlearn: 1392.2121400\ttest: 1483.2549098\tbest: 1483.2549098 (357)\ttotal: 34.8s\tremaining: 1m 2s\n",
      "358:\tlearn: 1391.7235644\ttest: 1483.1398108\tbest: 1483.1398108 (358)\ttotal: 34.9s\tremaining: 1m 2s\n",
      "359:\tlearn: 1391.5203804\ttest: 1483.0888460\tbest: 1483.0888460 (359)\ttotal: 35s\tremaining: 1m 2s\n",
      "360:\tlearn: 1391.2425730\ttest: 1482.8586379\tbest: 1482.8586379 (360)\ttotal: 35.1s\tremaining: 1m 2s\n",
      "361:\tlearn: 1390.9111470\ttest: 1482.7448330\tbest: 1482.7448330 (361)\ttotal: 35.2s\tremaining: 1m 2s\n",
      "362:\tlearn: 1390.6367774\ttest: 1482.4858044\tbest: 1482.4858044 (362)\ttotal: 35.3s\tremaining: 1m 2s\n",
      "363:\tlearn: 1390.4214283\ttest: 1482.4023794\tbest: 1482.4023794 (363)\ttotal: 35.4s\tremaining: 1m 1s\n",
      "364:\tlearn: 1390.2429950\ttest: 1482.3380319\tbest: 1482.3380319 (364)\ttotal: 35.5s\tremaining: 1m 1s\n",
      "365:\tlearn: 1389.8716344\ttest: 1482.2383253\tbest: 1482.2383253 (365)\ttotal: 35.6s\tremaining: 1m 1s\n",
      "366:\tlearn: 1389.4141038\ttest: 1482.1850169\tbest: 1482.1850169 (366)\ttotal: 35.7s\tremaining: 1m 1s\n",
      "367:\tlearn: 1388.8834228\ttest: 1482.0105055\tbest: 1482.0105055 (367)\ttotal: 35.8s\tremaining: 1m 1s\n",
      "368:\tlearn: 1388.5666438\ttest: 1481.9430422\tbest: 1481.9430422 (368)\ttotal: 35.9s\tremaining: 1m 1s\n",
      "369:\tlearn: 1388.1614767\ttest: 1481.7732272\tbest: 1481.7732272 (369)\ttotal: 36s\tremaining: 1m 1s\n",
      "370:\tlearn: 1387.7125614\ttest: 1481.5649542\tbest: 1481.5649542 (370)\ttotal: 36.1s\tremaining: 1m 1s\n",
      "371:\tlearn: 1387.3816693\ttest: 1481.4499975\tbest: 1481.4499975 (371)\ttotal: 36.2s\tremaining: 1m 1s\n",
      "372:\tlearn: 1387.1500784\ttest: 1481.3979058\tbest: 1481.3979058 (372)\ttotal: 36.4s\tremaining: 1m 1s\n",
      "373:\tlearn: 1386.8035453\ttest: 1481.2893499\tbest: 1481.2893499 (373)\ttotal: 36.4s\tremaining: 1m 1s\n",
      "374:\tlearn: 1386.5185112\ttest: 1481.1752949\tbest: 1481.1752949 (374)\ttotal: 36.5s\tremaining: 1m\n",
      "375:\tlearn: 1386.2982990\ttest: 1481.1015152\tbest: 1481.1015152 (375)\ttotal: 36.6s\tremaining: 1m\n",
      "376:\tlearn: 1386.0377770\ttest: 1480.9862350\tbest: 1480.9862350 (376)\ttotal: 36.7s\tremaining: 1m\n",
      "377:\tlearn: 1385.7579391\ttest: 1480.8874290\tbest: 1480.8874290 (377)\ttotal: 36.8s\tremaining: 1m\n",
      "378:\tlearn: 1385.6847572\ttest: 1480.9069282\tbest: 1480.8874290 (377)\ttotal: 36.9s\tremaining: 1m\n",
      "379:\tlearn: 1385.3574826\ttest: 1480.7536220\tbest: 1480.7536220 (379)\ttotal: 37s\tremaining: 1m\n",
      "380:\tlearn: 1385.1269827\ttest: 1480.6554543\tbest: 1480.6554543 (380)\ttotal: 37.1s\tremaining: 1m\n",
      "381:\tlearn: 1384.6835149\ttest: 1480.5076661\tbest: 1480.5076661 (381)\ttotal: 37.2s\tremaining: 1m\n",
      "382:\tlearn: 1384.4604582\ttest: 1480.4577742\tbest: 1480.4577742 (382)\ttotal: 37.4s\tremaining: 1m\n",
      "383:\tlearn: 1383.9049351\ttest: 1480.2406926\tbest: 1480.2406926 (383)\ttotal: 37.5s\tremaining: 1m\n",
      "384:\tlearn: 1383.4998777\ttest: 1480.1874413\tbest: 1480.1874413 (384)\ttotal: 37.6s\tremaining: 1m\n",
      "385:\tlearn: 1383.0702278\ttest: 1480.1085719\tbest: 1480.1085719 (385)\ttotal: 37.7s\tremaining: 1m\n",
      "386:\tlearn: 1382.6241397\ttest: 1479.9438133\tbest: 1479.9438133 (386)\ttotal: 37.9s\tremaining: 60s\n",
      "387:\tlearn: 1382.3770364\ttest: 1479.9146461\tbest: 1479.9146461 (387)\ttotal: 38s\tremaining: 59.9s\n",
      "388:\tlearn: 1382.2982978\ttest: 1479.9240030\tbest: 1479.9146461 (387)\ttotal: 38.1s\tremaining: 59.9s\n",
      "389:\tlearn: 1382.1201102\ttest: 1479.8855029\tbest: 1479.8855029 (389)\ttotal: 38.2s\tremaining: 59.8s\n",
      "390:\tlearn: 1381.9083560\ttest: 1479.8813415\tbest: 1479.8813415 (390)\ttotal: 38.3s\tremaining: 59.7s\n",
      "391:\tlearn: 1381.7102416\ttest: 1479.8476319\tbest: 1479.8476319 (391)\ttotal: 38.4s\tremaining: 59.6s\n",
      "392:\tlearn: 1381.4409517\ttest: 1479.7525295\tbest: 1479.7525295 (392)\ttotal: 38.5s\tremaining: 59.5s\n",
      "393:\tlearn: 1381.2158464\ttest: 1479.6540054\tbest: 1479.6540054 (393)\ttotal: 38.6s\tremaining: 59.4s\n",
      "394:\tlearn: 1380.9404776\ttest: 1479.5982727\tbest: 1479.5982727 (394)\ttotal: 38.7s\tremaining: 59.3s\n",
      "395:\tlearn: 1380.7813435\ttest: 1479.5436303\tbest: 1479.5436303 (395)\ttotal: 38.8s\tremaining: 59.2s\n",
      "396:\tlearn: 1380.1247621\ttest: 1479.2993340\tbest: 1479.2993340 (396)\ttotal: 38.9s\tremaining: 59.1s\n",
      "397:\tlearn: 1379.8215886\ttest: 1479.1542035\tbest: 1479.1542035 (397)\ttotal: 39s\tremaining: 59s\n",
      "398:\tlearn: 1379.4743341\ttest: 1479.0210383\tbest: 1479.0210383 (398)\ttotal: 39.1s\tremaining: 58.9s\n",
      "399:\tlearn: 1379.1194145\ttest: 1478.9180416\tbest: 1478.9180416 (399)\ttotal: 39.2s\tremaining: 58.8s\n",
      "400:\tlearn: 1378.7874476\ttest: 1478.8600523\tbest: 1478.8600523 (400)\ttotal: 39.3s\tremaining: 58.7s\n",
      "401:\tlearn: 1378.4004234\ttest: 1478.7178596\tbest: 1478.7178596 (401)\ttotal: 39.4s\tremaining: 58.6s\n",
      "402:\tlearn: 1378.1446241\ttest: 1478.6576789\tbest: 1478.6576789 (402)\ttotal: 39.5s\tremaining: 58.5s\n",
      "403:\tlearn: 1377.8185726\ttest: 1478.4372069\tbest: 1478.4372069 (403)\ttotal: 39.6s\tremaining: 58.4s\n",
      "404:\tlearn: 1377.5628038\ttest: 1478.3849185\tbest: 1478.3849185 (404)\ttotal: 39.7s\tremaining: 58.3s\n",
      "405:\tlearn: 1377.2811966\ttest: 1478.2721098\tbest: 1478.2721098 (405)\ttotal: 39.8s\tremaining: 58.2s\n",
      "406:\tlearn: 1377.0913491\ttest: 1478.2201874\tbest: 1478.2201874 (406)\ttotal: 39.9s\tremaining: 58.1s\n",
      "407:\tlearn: 1376.6540589\ttest: 1478.0226233\tbest: 1478.0226233 (407)\ttotal: 40s\tremaining: 58s\n",
      "408:\tlearn: 1376.3557370\ttest: 1478.0004195\tbest: 1478.0004195 (408)\ttotal: 40.1s\tremaining: 57.9s\n",
      "409:\tlearn: 1376.0591600\ttest: 1477.9311454\tbest: 1477.9311454 (409)\ttotal: 40.2s\tremaining: 57.8s\n",
      "410:\tlearn: 1375.7810691\ttest: 1477.8899817\tbest: 1477.8899817 (410)\ttotal: 40.3s\tremaining: 57.7s\n",
      "411:\tlearn: 1375.4923356\ttest: 1477.7635839\tbest: 1477.7635839 (411)\ttotal: 40.4s\tremaining: 57.6s\n",
      "412:\tlearn: 1375.1943853\ttest: 1477.6581247\tbest: 1477.6581247 (412)\ttotal: 40.4s\tremaining: 57.5s\n",
      "413:\tlearn: 1375.0402932\ttest: 1477.6127547\tbest: 1477.6127547 (413)\ttotal: 40.5s\tremaining: 57.4s\n",
      "414:\tlearn: 1374.3802246\ttest: 1477.3813040\tbest: 1477.3813040 (414)\ttotal: 40.6s\tremaining: 57.3s\n",
      "415:\tlearn: 1374.0099032\ttest: 1477.3216679\tbest: 1477.3216679 (415)\ttotal: 40.7s\tremaining: 57.2s\n",
      "416:\tlearn: 1373.5357830\ttest: 1477.1668056\tbest: 1477.1668056 (416)\ttotal: 40.8s\tremaining: 57.1s\n",
      "417:\tlearn: 1373.4592429\ttest: 1477.1174984\tbest: 1477.1174984 (417)\ttotal: 40.9s\tremaining: 57s\n",
      "418:\tlearn: 1373.3534119\ttest: 1477.0898309\tbest: 1477.0898309 (418)\ttotal: 41s\tremaining: 56.9s\n",
      "419:\tlearn: 1373.2918078\ttest: 1477.0776667\tbest: 1477.0776667 (419)\ttotal: 41.1s\tremaining: 56.8s\n",
      "420:\tlearn: 1373.2199099\ttest: 1477.0554650\tbest: 1477.0554650 (420)\ttotal: 41.2s\tremaining: 56.7s\n",
      "421:\tlearn: 1373.1291955\ttest: 1476.9917910\tbest: 1476.9917910 (421)\ttotal: 41.3s\tremaining: 56.6s\n",
      "422:\tlearn: 1372.7902912\ttest: 1476.9749164\tbest: 1476.9749164 (422)\ttotal: 41.4s\tremaining: 56.5s\n",
      "423:\tlearn: 1372.4592991\ttest: 1476.8960935\tbest: 1476.8960935 (423)\ttotal: 41.5s\tremaining: 56.4s\n",
      "424:\tlearn: 1372.2344336\ttest: 1476.8769238\tbest: 1476.8769238 (424)\ttotal: 41.6s\tremaining: 56.3s\n",
      "425:\tlearn: 1372.0004633\ttest: 1476.8157097\tbest: 1476.8157097 (425)\ttotal: 41.7s\tremaining: 56.2s\n",
      "426:\tlearn: 1371.7489655\ttest: 1476.7252496\tbest: 1476.7252496 (426)\ttotal: 41.8s\tremaining: 56.1s\n",
      "427:\tlearn: 1371.6654047\ttest: 1476.6886327\tbest: 1476.6886327 (427)\ttotal: 41.9s\tremaining: 56s\n",
      "428:\tlearn: 1371.4940775\ttest: 1476.6587815\tbest: 1476.6587815 (428)\ttotal: 42s\tremaining: 55.9s\n",
      "429:\tlearn: 1370.7877303\ttest: 1476.4657731\tbest: 1476.4657731 (429)\ttotal: 42.1s\tremaining: 55.8s\n",
      "430:\tlearn: 1370.5899278\ttest: 1476.3905950\tbest: 1476.3905950 (430)\ttotal: 42.2s\tremaining: 55.7s\n",
      "431:\tlearn: 1370.2394264\ttest: 1476.1874310\tbest: 1476.1874310 (431)\ttotal: 42.3s\tremaining: 55.6s\n",
      "432:\tlearn: 1370.1198779\ttest: 1476.0925543\tbest: 1476.0925543 (432)\ttotal: 42.4s\tremaining: 55.5s\n",
      "433:\tlearn: 1369.7622874\ttest: 1475.9215324\tbest: 1475.9215324 (433)\ttotal: 42.5s\tremaining: 55.4s\n",
      "434:\tlearn: 1369.7037560\ttest: 1475.9005033\tbest: 1475.9005033 (434)\ttotal: 42.6s\tremaining: 55.3s\n",
      "435:\tlearn: 1369.2748596\ttest: 1475.8191400\tbest: 1475.8191400 (435)\ttotal: 42.7s\tremaining: 55.2s\n",
      "436:\tlearn: 1368.9560185\ttest: 1475.6702580\tbest: 1475.6702580 (436)\ttotal: 42.8s\tremaining: 55.1s\n",
      "437:\tlearn: 1368.7505569\ttest: 1475.5847105\tbest: 1475.5847105 (437)\ttotal: 42.8s\tremaining: 55s\n",
      "438:\tlearn: 1368.5669882\ttest: 1475.5215725\tbest: 1475.5215725 (438)\ttotal: 42.9s\tremaining: 54.9s\n",
      "439:\tlearn: 1368.1710559\ttest: 1475.3491800\tbest: 1475.3491800 (439)\ttotal: 43s\tremaining: 54.8s\n",
      "440:\tlearn: 1367.9182310\ttest: 1475.1585625\tbest: 1475.1585625 (440)\ttotal: 43.1s\tremaining: 54.7s\n",
      "441:\tlearn: 1367.7416522\ttest: 1475.0529875\tbest: 1475.0529875 (441)\ttotal: 43.2s\tremaining: 54.6s\n",
      "442:\tlearn: 1367.4821203\ttest: 1474.8768911\tbest: 1474.8768911 (442)\ttotal: 43.3s\tremaining: 54.5s\n",
      "443:\tlearn: 1367.1898432\ttest: 1474.7872522\tbest: 1474.7872522 (443)\ttotal: 43.4s\tremaining: 54.4s\n",
      "444:\tlearn: 1366.9669108\ttest: 1474.7184659\tbest: 1474.7184659 (444)\ttotal: 43.5s\tremaining: 54.3s\n",
      "445:\tlearn: 1366.5446237\ttest: 1474.6036002\tbest: 1474.6036002 (445)\ttotal: 43.6s\tremaining: 54.2s\n",
      "446:\tlearn: 1366.4663037\ttest: 1474.5574413\tbest: 1474.5574413 (446)\ttotal: 43.7s\tremaining: 54.1s\n",
      "447:\tlearn: 1366.3222201\ttest: 1474.4846646\tbest: 1474.4846646 (447)\ttotal: 43.8s\tremaining: 54s\n",
      "448:\tlearn: 1366.1779632\ttest: 1474.3981263\tbest: 1474.3981263 (448)\ttotal: 43.9s\tremaining: 53.9s\n",
      "449:\tlearn: 1365.8034057\ttest: 1474.3138094\tbest: 1474.3138094 (449)\ttotal: 44s\tremaining: 53.8s\n",
      "450:\tlearn: 1365.4916103\ttest: 1474.1990723\tbest: 1474.1990723 (450)\ttotal: 44.1s\tremaining: 53.7s\n",
      "451:\tlearn: 1365.3138122\ttest: 1474.1496505\tbest: 1474.1496505 (451)\ttotal: 44.2s\tremaining: 53.6s\n",
      "452:\tlearn: 1364.9273536\ttest: 1474.0935228\tbest: 1474.0935228 (452)\ttotal: 44.3s\tremaining: 53.5s\n",
      "453:\tlearn: 1364.4557564\ttest: 1473.9087138\tbest: 1473.9087138 (453)\ttotal: 44.4s\tremaining: 53.4s\n",
      "454:\tlearn: 1364.1845124\ttest: 1473.7547965\tbest: 1473.7547965 (454)\ttotal: 44.5s\tremaining: 53.3s\n",
      "455:\tlearn: 1363.8635618\ttest: 1473.6946148\tbest: 1473.6946148 (455)\ttotal: 44.6s\tremaining: 53.2s\n",
      "456:\tlearn: 1363.6296247\ttest: 1473.6155323\tbest: 1473.6155323 (456)\ttotal: 44.7s\tremaining: 53.1s\n",
      "457:\tlearn: 1363.1278063\ttest: 1473.4907532\tbest: 1473.4907532 (457)\ttotal: 44.8s\tremaining: 53s\n",
      "458:\tlearn: 1362.9987325\ttest: 1473.4586990\tbest: 1473.4586990 (458)\ttotal: 44.9s\tremaining: 52.9s\n",
      "459:\tlearn: 1362.8107242\ttest: 1473.3697223\tbest: 1473.3697223 (459)\ttotal: 45s\tremaining: 52.8s\n",
      "460:\tlearn: 1362.5543307\ttest: 1473.2752781\tbest: 1473.2752781 (460)\ttotal: 45.1s\tremaining: 52.7s\n",
      "461:\tlearn: 1362.3644807\ttest: 1473.1343813\tbest: 1473.1343813 (461)\ttotal: 45.2s\tremaining: 52.6s\n",
      "462:\tlearn: 1362.0459248\ttest: 1472.9266642\tbest: 1472.9266642 (462)\ttotal: 45.2s\tremaining: 52.5s\n",
      "463:\tlearn: 1361.8916335\ttest: 1472.8654158\tbest: 1472.8654158 (463)\ttotal: 45.3s\tremaining: 52.4s\n",
      "464:\tlearn: 1361.6478091\ttest: 1472.7151537\tbest: 1472.7151537 (464)\ttotal: 45.4s\tremaining: 52.3s\n",
      "465:\tlearn: 1361.5296095\ttest: 1472.6501850\tbest: 1472.6501850 (465)\ttotal: 45.5s\tremaining: 52.2s\n",
      "466:\tlearn: 1361.0891341\ttest: 1472.4748865\tbest: 1472.4748865 (466)\ttotal: 45.6s\tremaining: 52.1s\n",
      "467:\tlearn: 1360.8562624\ttest: 1472.4499043\tbest: 1472.4499043 (467)\ttotal: 45.7s\tremaining: 52s\n",
      "468:\tlearn: 1360.5299274\ttest: 1472.3225973\tbest: 1472.3225973 (468)\ttotal: 45.8s\tremaining: 51.9s\n",
      "469:\tlearn: 1360.3949785\ttest: 1472.3077992\tbest: 1472.3077992 (469)\ttotal: 45.9s\tremaining: 51.8s\n",
      "470:\tlearn: 1360.2146849\ttest: 1472.2488025\tbest: 1472.2488025 (470)\ttotal: 46s\tremaining: 51.7s\n",
      "471:\tlearn: 1359.8921672\ttest: 1472.1241818\tbest: 1472.1241818 (471)\ttotal: 46.1s\tremaining: 51.6s\n",
      "472:\tlearn: 1359.5922222\ttest: 1472.0238967\tbest: 1472.0238967 (472)\ttotal: 46.2s\tremaining: 51.5s\n",
      "473:\tlearn: 1359.3264786\ttest: 1472.0170544\tbest: 1472.0170544 (473)\ttotal: 46.3s\tremaining: 51.4s\n",
      "474:\tlearn: 1359.1024570\ttest: 1471.9638869\tbest: 1471.9638869 (474)\ttotal: 46.4s\tremaining: 51.3s\n",
      "475:\tlearn: 1358.9883271\ttest: 1471.9393246\tbest: 1471.9393246 (475)\ttotal: 46.5s\tremaining: 51.2s\n",
      "476:\tlearn: 1358.7200906\ttest: 1471.8846386\tbest: 1471.8846386 (476)\ttotal: 46.7s\tremaining: 51.2s\n",
      "477:\tlearn: 1358.5186199\ttest: 1471.8520872\tbest: 1471.8520872 (477)\ttotal: 46.8s\tremaining: 51.1s\n",
      "478:\tlearn: 1358.4186742\ttest: 1471.8093732\tbest: 1471.8093732 (478)\ttotal: 46.9s\tremaining: 51s\n",
      "479:\tlearn: 1358.1730093\ttest: 1471.7304171\tbest: 1471.7304171 (479)\ttotal: 47.1s\tremaining: 51s\n",
      "480:\tlearn: 1357.9380760\ttest: 1471.6338907\tbest: 1471.6338907 (480)\ttotal: 47.2s\tremaining: 50.9s\n",
      "481:\tlearn: 1357.7547006\ttest: 1471.5305267\tbest: 1471.5305267 (481)\ttotal: 47.3s\tremaining: 50.8s\n",
      "482:\tlearn: 1357.4857606\ttest: 1471.4261873\tbest: 1471.4261873 (482)\ttotal: 47.4s\tremaining: 50.8s\n",
      "483:\tlearn: 1357.2952835\ttest: 1471.3993934\tbest: 1471.3993934 (483)\ttotal: 47.5s\tremaining: 50.7s\n",
      "484:\tlearn: 1357.1347585\ttest: 1471.3354603\tbest: 1471.3354603 (484)\ttotal: 47.7s\tremaining: 50.6s\n",
      "485:\tlearn: 1357.0203727\ttest: 1471.3171184\tbest: 1471.3171184 (485)\ttotal: 47.9s\tremaining: 50.6s\n",
      "486:\tlearn: 1356.8494891\ttest: 1471.2920853\tbest: 1471.2920853 (486)\ttotal: 48.1s\tremaining: 50.7s\n",
      "487:\tlearn: 1356.5921852\ttest: 1471.1689456\tbest: 1471.1689456 (487)\ttotal: 48.3s\tremaining: 50.6s\n",
      "488:\tlearn: 1356.2856612\ttest: 1471.0628496\tbest: 1471.0628496 (488)\ttotal: 48.4s\tremaining: 50.6s\n",
      "489:\tlearn: 1355.9493858\ttest: 1470.9508712\tbest: 1470.9508712 (489)\ttotal: 48.6s\tremaining: 50.5s\n",
      "490:\tlearn: 1355.8126799\ttest: 1470.9223562\tbest: 1470.9223562 (490)\ttotal: 48.7s\tremaining: 50.4s\n",
      "491:\tlearn: 1354.9827490\ttest: 1470.7117715\tbest: 1470.7117715 (491)\ttotal: 48.8s\tremaining: 50.3s\n",
      "492:\tlearn: 1354.7341227\ttest: 1470.6710111\tbest: 1470.6710111 (492)\ttotal: 48.9s\tremaining: 50.2s\n",
      "493:\tlearn: 1354.5168246\ttest: 1470.5948808\tbest: 1470.5948808 (493)\ttotal: 48.9s\tremaining: 50.1s\n",
      "494:\tlearn: 1354.2815443\ttest: 1470.5456292\tbest: 1470.5456292 (494)\ttotal: 49.1s\tremaining: 50.1s\n",
      "495:\tlearn: 1354.1133566\ttest: 1470.5284206\tbest: 1470.5284206 (495)\ttotal: 49.2s\tremaining: 50s\n",
      "496:\tlearn: 1353.6714735\ttest: 1470.4286940\tbest: 1470.4286940 (496)\ttotal: 49.3s\tremaining: 49.9s\n",
      "497:\tlearn: 1353.4087906\ttest: 1470.3728529\tbest: 1470.3728529 (497)\ttotal: 49.4s\tremaining: 49.8s\n",
      "498:\tlearn: 1353.2175449\ttest: 1470.3002104\tbest: 1470.3002104 (498)\ttotal: 49.5s\tremaining: 49.7s\n",
      "499:\tlearn: 1352.8813668\ttest: 1470.2167493\tbest: 1470.2167493 (499)\ttotal: 49.6s\tremaining: 49.6s\n",
      "500:\tlearn: 1352.7108051\ttest: 1470.1562028\tbest: 1470.1562028 (500)\ttotal: 49.7s\tremaining: 49.5s\n",
      "501:\tlearn: 1352.4066414\ttest: 1470.0304676\tbest: 1470.0304676 (501)\ttotal: 49.8s\tremaining: 49.4s\n",
      "502:\tlearn: 1352.0505446\ttest: 1469.9128376\tbest: 1469.9128376 (502)\ttotal: 49.9s\tremaining: 49.3s\n",
      "503:\tlearn: 1351.9344542\ttest: 1469.8172206\tbest: 1469.8172206 (503)\ttotal: 49.9s\tremaining: 49.2s\n",
      "504:\tlearn: 1351.6346771\ttest: 1469.7043874\tbest: 1469.7043874 (504)\ttotal: 50s\tremaining: 49.1s\n",
      "505:\tlearn: 1351.4706153\ttest: 1469.6517728\tbest: 1469.6517728 (505)\ttotal: 50.1s\tremaining: 49s\n",
      "506:\tlearn: 1351.3023422\ttest: 1469.5952873\tbest: 1469.5952873 (506)\ttotal: 50.2s\tremaining: 48.9s\n",
      "507:\tlearn: 1350.8890900\ttest: 1469.4582699\tbest: 1469.4582699 (507)\ttotal: 50.4s\tremaining: 48.8s\n",
      "508:\tlearn: 1350.5531332\ttest: 1469.3641324\tbest: 1469.3641324 (508)\ttotal: 50.5s\tremaining: 48.7s\n",
      "509:\tlearn: 1350.3000647\ttest: 1469.3389047\tbest: 1469.3389047 (509)\ttotal: 50.5s\tremaining: 48.6s\n",
      "510:\tlearn: 1350.0489593\ttest: 1469.2183832\tbest: 1469.2183832 (510)\ttotal: 50.6s\tremaining: 48.5s\n",
      "511:\tlearn: 1349.7451214\ttest: 1469.1273483\tbest: 1469.1273483 (511)\ttotal: 50.7s\tremaining: 48.4s\n",
      "512:\tlearn: 1349.5334796\ttest: 1469.0189516\tbest: 1469.0189516 (512)\ttotal: 50.8s\tremaining: 48.3s\n",
      "513:\tlearn: 1349.2324818\ttest: 1468.9592010\tbest: 1468.9592010 (513)\ttotal: 50.9s\tremaining: 48.1s\n",
      "514:\tlearn: 1348.9710459\ttest: 1468.9350122\tbest: 1468.9350122 (514)\ttotal: 51s\tremaining: 48s\n",
      "515:\tlearn: 1348.6008940\ttest: 1468.8228777\tbest: 1468.8228777 (515)\ttotal: 51.1s\tremaining: 47.9s\n",
      "516:\tlearn: 1348.2656842\ttest: 1468.8136494\tbest: 1468.8136494 (516)\ttotal: 51.2s\tremaining: 47.8s\n",
      "517:\tlearn: 1347.9675837\ttest: 1468.7333922\tbest: 1468.7333922 (517)\ttotal: 51.3s\tremaining: 47.7s\n",
      "518:\tlearn: 1347.6874084\ttest: 1468.6212147\tbest: 1468.6212147 (518)\ttotal: 51.4s\tremaining: 47.6s\n",
      "519:\tlearn: 1347.4817229\ttest: 1468.5684086\tbest: 1468.5684086 (519)\ttotal: 51.5s\tremaining: 47.5s\n",
      "520:\tlearn: 1347.2520990\ttest: 1468.4474986\tbest: 1468.4474986 (520)\ttotal: 51.6s\tremaining: 47.4s\n",
      "521:\tlearn: 1347.1001865\ttest: 1468.4317664\tbest: 1468.4317664 (521)\ttotal: 51.7s\tremaining: 47.3s\n",
      "522:\tlearn: 1346.8794482\ttest: 1468.3518118\tbest: 1468.3518118 (522)\ttotal: 51.8s\tremaining: 47.2s\n",
      "523:\tlearn: 1346.5222576\ttest: 1468.2690264\tbest: 1468.2690264 (523)\ttotal: 51.9s\tremaining: 47.1s\n",
      "524:\tlearn: 1346.0845163\ttest: 1468.1454948\tbest: 1468.1454948 (524)\ttotal: 52s\tremaining: 47s\n",
      "525:\tlearn: 1345.8416331\ttest: 1468.1604749\tbest: 1468.1454948 (524)\ttotal: 52.1s\tremaining: 46.9s\n",
      "526:\tlearn: 1345.6450268\ttest: 1468.0507917\tbest: 1468.0507917 (526)\ttotal: 52.2s\tremaining: 46.8s\n",
      "527:\tlearn: 1345.4568632\ttest: 1467.9976044\tbest: 1467.9976044 (527)\ttotal: 52.3s\tremaining: 46.7s\n",
      "528:\tlearn: 1345.2664294\ttest: 1468.0138860\tbest: 1467.9976044 (527)\ttotal: 52.4s\tremaining: 46.6s\n",
      "529:\tlearn: 1344.9794471\ttest: 1467.9960947\tbest: 1467.9960947 (529)\ttotal: 52.5s\tremaining: 46.5s\n",
      "530:\tlearn: 1344.8076765\ttest: 1467.9793123\tbest: 1467.9793123 (530)\ttotal: 52.6s\tremaining: 46.4s\n",
      "531:\tlearn: 1344.6558400\ttest: 1468.0003835\tbest: 1467.9793123 (530)\ttotal: 52.7s\tremaining: 46.3s\n",
      "532:\tlearn: 1344.5673381\ttest: 1467.9498831\tbest: 1467.9498831 (532)\ttotal: 52.8s\tremaining: 46.2s\n",
      "533:\tlearn: 1344.3870064\ttest: 1467.9817815\tbest: 1467.9498831 (532)\ttotal: 52.9s\tremaining: 46.1s\n",
      "534:\tlearn: 1344.2668550\ttest: 1467.9483632\tbest: 1467.9483632 (534)\ttotal: 53s\tremaining: 46s\n",
      "535:\tlearn: 1344.0611177\ttest: 1467.8828624\tbest: 1467.8828624 (535)\ttotal: 53.1s\tremaining: 45.9s\n",
      "536:\tlearn: 1343.8993885\ttest: 1467.8162295\tbest: 1467.8162295 (536)\ttotal: 53.2s\tremaining: 45.9s\n",
      "537:\tlearn: 1343.6108986\ttest: 1467.7010020\tbest: 1467.7010020 (537)\ttotal: 53.3s\tremaining: 45.8s\n",
      "538:\tlearn: 1343.3046907\ttest: 1467.5312129\tbest: 1467.5312129 (538)\ttotal: 53.4s\tremaining: 45.7s\n",
      "539:\tlearn: 1343.2689126\ttest: 1467.5173479\tbest: 1467.5173479 (539)\ttotal: 53.5s\tremaining: 45.6s\n",
      "540:\tlearn: 1343.0429535\ttest: 1467.4769087\tbest: 1467.4769087 (540)\ttotal: 53.6s\tremaining: 45.5s\n",
      "541:\tlearn: 1342.4966474\ttest: 1467.3274036\tbest: 1467.3274036 (541)\ttotal: 53.7s\tremaining: 45.4s\n",
      "542:\tlearn: 1342.1116390\ttest: 1467.1685989\tbest: 1467.1685989 (542)\ttotal: 53.8s\tremaining: 45.3s\n",
      "543:\tlearn: 1341.8214801\ttest: 1467.1350669\tbest: 1467.1350669 (543)\ttotal: 53.9s\tremaining: 45.2s\n",
      "544:\tlearn: 1341.5814894\ttest: 1467.1080935\tbest: 1467.1080935 (544)\ttotal: 54s\tremaining: 45.1s\n",
      "545:\tlearn: 1341.2224501\ttest: 1467.1164312\tbest: 1467.1080935 (544)\ttotal: 54.2s\tremaining: 45.1s\n",
      "546:\tlearn: 1341.0191170\ttest: 1467.0517496\tbest: 1467.0517496 (546)\ttotal: 54.3s\tremaining: 45s\n",
      "547:\tlearn: 1340.9661956\ttest: 1467.0726765\tbest: 1467.0517496 (546)\ttotal: 54.4s\tremaining: 44.9s\n",
      "548:\tlearn: 1340.8245873\ttest: 1467.0171514\tbest: 1467.0171514 (548)\ttotal: 54.5s\tremaining: 44.8s\n",
      "549:\tlearn: 1340.7102915\ttest: 1466.9371679\tbest: 1466.9371679 (549)\ttotal: 54.6s\tremaining: 44.7s\n",
      "550:\tlearn: 1340.5612263\ttest: 1466.9268162\tbest: 1466.9268162 (550)\ttotal: 54.7s\tremaining: 44.6s\n",
      "551:\tlearn: 1340.3531826\ttest: 1466.8440690\tbest: 1466.8440690 (551)\ttotal: 54.8s\tremaining: 44.5s\n",
      "552:\tlearn: 1340.1871491\ttest: 1466.8079723\tbest: 1466.8079723 (552)\ttotal: 54.9s\tremaining: 44.4s\n",
      "553:\tlearn: 1339.9750966\ttest: 1466.7470819\tbest: 1466.7470819 (553)\ttotal: 55s\tremaining: 44.3s\n",
      "554:\tlearn: 1339.7114698\ttest: 1466.6902278\tbest: 1466.6902278 (554)\ttotal: 55.1s\tremaining: 44.2s\n",
      "555:\tlearn: 1339.5650069\ttest: 1466.6472049\tbest: 1466.6472049 (555)\ttotal: 55.2s\tremaining: 44.1s\n",
      "556:\tlearn: 1339.4526277\ttest: 1466.6257542\tbest: 1466.6257542 (556)\ttotal: 55.3s\tremaining: 44s\n",
      "557:\tlearn: 1339.0619774\ttest: 1466.4840490\tbest: 1466.4840490 (557)\ttotal: 55.4s\tremaining: 43.9s\n",
      "558:\tlearn: 1338.8262965\ttest: 1466.3707497\tbest: 1466.3707497 (558)\ttotal: 55.5s\tremaining: 43.8s\n",
      "559:\tlearn: 1338.6305461\ttest: 1466.2860288\tbest: 1466.2860288 (559)\ttotal: 55.6s\tremaining: 43.7s\n",
      "560:\tlearn: 1338.3770622\ttest: 1466.2635142\tbest: 1466.2635142 (560)\ttotal: 55.7s\tremaining: 43.6s\n",
      "561:\tlearn: 1338.0325174\ttest: 1466.2364046\tbest: 1466.2364046 (561)\ttotal: 55.8s\tremaining: 43.5s\n",
      "562:\tlearn: 1337.8986858\ttest: 1466.2118253\tbest: 1466.2118253 (562)\ttotal: 55.9s\tremaining: 43.4s\n",
      "563:\tlearn: 1337.6128157\ttest: 1466.1911469\tbest: 1466.1911469 (563)\ttotal: 56s\tremaining: 43.3s\n",
      "564:\tlearn: 1337.0383813\ttest: 1466.0307763\tbest: 1466.0307763 (564)\ttotal: 56.1s\tremaining: 43.2s\n",
      "565:\tlearn: 1336.9317264\ttest: 1465.9853583\tbest: 1465.9853583 (565)\ttotal: 56.2s\tremaining: 43.1s\n",
      "566:\tlearn: 1336.4957525\ttest: 1465.9007615\tbest: 1465.9007615 (566)\ttotal: 56.3s\tremaining: 43s\n",
      "567:\tlearn: 1336.3256727\ttest: 1465.8457796\tbest: 1465.8457796 (567)\ttotal: 56.4s\tremaining: 42.9s\n",
      "568:\tlearn: 1336.1310843\ttest: 1465.7966291\tbest: 1465.7966291 (568)\ttotal: 56.5s\tremaining: 42.8s\n",
      "569:\tlearn: 1335.8587813\ttest: 1465.7756658\tbest: 1465.7756658 (569)\ttotal: 56.6s\tremaining: 42.7s\n",
      "570:\tlearn: 1335.6207953\ttest: 1465.6784830\tbest: 1465.6784830 (570)\ttotal: 56.7s\tremaining: 42.6s\n",
      "571:\tlearn: 1335.2381410\ttest: 1465.6070865\tbest: 1465.6070865 (571)\ttotal: 56.8s\tremaining: 42.5s\n",
      "572:\tlearn: 1335.0877414\ttest: 1465.5402233\tbest: 1465.5402233 (572)\ttotal: 56.9s\tremaining: 42.4s\n",
      "573:\tlearn: 1334.7147785\ttest: 1465.4848270\tbest: 1465.4848270 (573)\ttotal: 57s\tremaining: 42.3s\n",
      "574:\tlearn: 1334.5714359\ttest: 1465.4552207\tbest: 1465.4552207 (574)\ttotal: 57.1s\tremaining: 42.2s\n",
      "575:\tlearn: 1334.2392513\ttest: 1465.3486009\tbest: 1465.3486009 (575)\ttotal: 57.2s\tremaining: 42.1s\n",
      "576:\tlearn: 1334.0871641\ttest: 1465.3182483\tbest: 1465.3182483 (576)\ttotal: 57.3s\tremaining: 42s\n",
      "577:\tlearn: 1333.8740021\ttest: 1465.2350506\tbest: 1465.2350506 (577)\ttotal: 57.4s\tremaining: 41.9s\n",
      "578:\tlearn: 1333.7151650\ttest: 1465.2139767\tbest: 1465.2139767 (578)\ttotal: 57.5s\tremaining: 41.8s\n",
      "579:\tlearn: 1333.3817372\ttest: 1465.1659853\tbest: 1465.1659853 (579)\ttotal: 57.6s\tremaining: 41.7s\n",
      "580:\tlearn: 1333.1981553\ttest: 1465.1425800\tbest: 1465.1425800 (580)\ttotal: 57.7s\tremaining: 41.6s\n",
      "581:\tlearn: 1333.1582518\ttest: 1465.1299848\tbest: 1465.1299848 (581)\ttotal: 57.8s\tremaining: 41.5s\n",
      "582:\tlearn: 1332.8481512\ttest: 1465.0336336\tbest: 1465.0336336 (582)\ttotal: 57.9s\tremaining: 41.4s\n",
      "583:\tlearn: 1332.3988635\ttest: 1464.9315319\tbest: 1464.9315319 (583)\ttotal: 58s\tremaining: 41.3s\n",
      "584:\tlearn: 1331.9166521\ttest: 1464.7654325\tbest: 1464.7654325 (584)\ttotal: 58.1s\tremaining: 41.2s\n",
      "585:\tlearn: 1331.6585275\ttest: 1464.7729609\tbest: 1464.7654325 (584)\ttotal: 58.1s\tremaining: 41.1s\n",
      "586:\tlearn: 1331.4717224\ttest: 1464.7101021\tbest: 1464.7101021 (586)\ttotal: 58.2s\tremaining: 41s\n",
      "587:\tlearn: 1331.3197499\ttest: 1464.6802964\tbest: 1464.6802964 (587)\ttotal: 58.3s\tremaining: 40.9s\n",
      "588:\tlearn: 1331.1126247\ttest: 1464.6034294\tbest: 1464.6034294 (588)\ttotal: 58.4s\tremaining: 40.8s\n",
      "589:\tlearn: 1330.8439386\ttest: 1464.5393545\tbest: 1464.5393545 (589)\ttotal: 58.5s\tremaining: 40.7s\n",
      "590:\tlearn: 1330.6954623\ttest: 1464.5068295\tbest: 1464.5068295 (590)\ttotal: 58.6s\tremaining: 40.6s\n",
      "591:\tlearn: 1330.4761748\ttest: 1464.3730872\tbest: 1464.3730872 (591)\ttotal: 58.7s\tremaining: 40.5s\n",
      "592:\tlearn: 1330.4204526\ttest: 1464.3557195\tbest: 1464.3557195 (592)\ttotal: 58.8s\tremaining: 40.4s\n",
      "593:\tlearn: 1330.1814794\ttest: 1464.3700687\tbest: 1464.3557195 (592)\ttotal: 58.9s\tremaining: 40.3s\n",
      "594:\tlearn: 1329.8078717\ttest: 1464.3086949\tbest: 1464.3086949 (594)\ttotal: 59s\tremaining: 40.2s\n",
      "595:\tlearn: 1329.4813103\ttest: 1464.3044001\tbest: 1464.3044001 (595)\ttotal: 59.1s\tremaining: 40.1s\n",
      "596:\tlearn: 1329.3170715\ttest: 1464.2884258\tbest: 1464.2884258 (596)\ttotal: 59.2s\tremaining: 40s\n",
      "597:\tlearn: 1328.9870004\ttest: 1464.2462584\tbest: 1464.2462584 (597)\ttotal: 59.3s\tremaining: 39.9s\n",
      "598:\tlearn: 1328.7703447\ttest: 1464.1807222\tbest: 1464.1807222 (598)\ttotal: 59.4s\tremaining: 39.8s\n",
      "599:\tlearn: 1328.5250019\ttest: 1464.0830016\tbest: 1464.0830016 (599)\ttotal: 59.5s\tremaining: 39.7s\n",
      "600:\tlearn: 1328.3799277\ttest: 1464.0134882\tbest: 1464.0134882 (600)\ttotal: 59.6s\tremaining: 39.6s\n",
      "601:\tlearn: 1328.1791106\ttest: 1463.9867902\tbest: 1463.9867902 (601)\ttotal: 59.7s\tremaining: 39.5s\n",
      "602:\tlearn: 1327.9312930\ttest: 1463.8744160\tbest: 1463.8744160 (602)\ttotal: 59.8s\tremaining: 39.4s\n",
      "603:\tlearn: 1327.8024051\ttest: 1463.8601119\tbest: 1463.8601119 (603)\ttotal: 59.9s\tremaining: 39.3s\n",
      "604:\tlearn: 1327.5399811\ttest: 1463.7686329\tbest: 1463.7686329 (604)\ttotal: 1m\tremaining: 39.2s\n",
      "605:\tlearn: 1327.2475655\ttest: 1463.7016847\tbest: 1463.7016847 (605)\ttotal: 1m\tremaining: 39.1s\n",
      "606:\tlearn: 1327.0359959\ttest: 1463.6793653\tbest: 1463.6793653 (606)\ttotal: 1m\tremaining: 39s\n",
      "607:\tlearn: 1326.9029531\ttest: 1463.5918550\tbest: 1463.5918550 (607)\ttotal: 1m\tremaining: 38.9s\n",
      "608:\tlearn: 1326.6771961\ttest: 1463.5760424\tbest: 1463.5760424 (608)\ttotal: 1m\tremaining: 38.8s\n",
      "609:\tlearn: 1326.6377608\ttest: 1463.5583303\tbest: 1463.5583303 (609)\ttotal: 1m\tremaining: 38.7s\n",
      "610:\tlearn: 1326.3625126\ttest: 1463.4565259\tbest: 1463.4565259 (610)\ttotal: 1m\tremaining: 38.6s\n",
      "611:\tlearn: 1326.2114859\ttest: 1463.4435439\tbest: 1463.4435439 (611)\ttotal: 1m\tremaining: 38.5s\n",
      "612:\tlearn: 1325.8538812\ttest: 1463.3297609\tbest: 1463.3297609 (612)\ttotal: 1m\tremaining: 38.4s\n",
      "613:\tlearn: 1325.5162991\ttest: 1463.2379540\tbest: 1463.2379540 (613)\ttotal: 1m\tremaining: 38.3s\n",
      "614:\tlearn: 1325.2259519\ttest: 1463.1210405\tbest: 1463.1210405 (614)\ttotal: 1m 1s\tremaining: 38.2s\n",
      "615:\tlearn: 1324.9826142\ttest: 1463.1959421\tbest: 1463.1210405 (614)\ttotal: 1m 1s\tremaining: 38.1s\n",
      "616:\tlearn: 1324.7123762\ttest: 1463.1225534\tbest: 1463.1210405 (614)\ttotal: 1m 1s\tremaining: 38s\n",
      "617:\tlearn: 1324.4925081\ttest: 1463.0525393\tbest: 1463.0525393 (617)\ttotal: 1m 1s\tremaining: 37.9s\n",
      "618:\tlearn: 1324.3476155\ttest: 1463.0421079\tbest: 1463.0421079 (618)\ttotal: 1m 1s\tremaining: 37.8s\n",
      "619:\tlearn: 1324.2137658\ttest: 1463.0213074\tbest: 1463.0213074 (619)\ttotal: 1m 1s\tremaining: 37.7s\n",
      "620:\tlearn: 1324.1031913\ttest: 1463.0227809\tbest: 1463.0213074 (619)\ttotal: 1m 1s\tremaining: 37.6s\n",
      "621:\tlearn: 1323.7973817\ttest: 1462.9951930\tbest: 1462.9951930 (621)\ttotal: 1m 1s\tremaining: 37.5s\n",
      "622:\tlearn: 1323.6510881\ttest: 1462.9617972\tbest: 1462.9617972 (622)\ttotal: 1m 1s\tremaining: 37.4s\n",
      "623:\tlearn: 1323.4438038\ttest: 1462.9216654\tbest: 1462.9216654 (623)\ttotal: 1m 1s\tremaining: 37.3s\n",
      "624:\tlearn: 1323.2393732\ttest: 1462.8082800\tbest: 1462.8082800 (624)\ttotal: 1m 1s\tremaining: 37.2s\n",
      "625:\tlearn: 1322.9764170\ttest: 1462.7812106\tbest: 1462.7812106 (625)\ttotal: 1m 2s\tremaining: 37.1s\n",
      "626:\tlearn: 1322.7134475\ttest: 1462.7266857\tbest: 1462.7266857 (626)\ttotal: 1m 2s\tremaining: 37s\n",
      "627:\tlearn: 1322.4472776\ttest: 1462.5907041\tbest: 1462.5907041 (627)\ttotal: 1m 2s\tremaining: 36.9s\n",
      "628:\tlearn: 1322.0967199\ttest: 1462.4837218\tbest: 1462.4837218 (628)\ttotal: 1m 2s\tremaining: 36.8s\n",
      "629:\tlearn: 1321.9259536\ttest: 1462.4379709\tbest: 1462.4379709 (629)\ttotal: 1m 2s\tremaining: 36.7s\n",
      "630:\tlearn: 1321.6894352\ttest: 1462.2896449\tbest: 1462.2896449 (630)\ttotal: 1m 2s\tremaining: 36.6s\n",
      "631:\tlearn: 1321.4256204\ttest: 1462.2267922\tbest: 1462.2267922 (631)\ttotal: 1m 2s\tremaining: 36.5s\n",
      "632:\tlearn: 1320.9972988\ttest: 1462.1438482\tbest: 1462.1438482 (632)\ttotal: 1m 2s\tremaining: 36.4s\n",
      "633:\tlearn: 1320.8182208\ttest: 1462.0398917\tbest: 1462.0398917 (633)\ttotal: 1m 2s\tremaining: 36.3s\n",
      "634:\tlearn: 1320.6901342\ttest: 1462.0350068\tbest: 1462.0350068 (634)\ttotal: 1m 2s\tremaining: 36.2s\n",
      "635:\tlearn: 1320.4745802\ttest: 1461.9970427\tbest: 1461.9970427 (635)\ttotal: 1m 3s\tremaining: 36.1s\n",
      "636:\tlearn: 1320.2372972\ttest: 1461.9734159\tbest: 1461.9734159 (636)\ttotal: 1m 3s\tremaining: 36s\n",
      "637:\tlearn: 1320.0780662\ttest: 1461.9451880\tbest: 1461.9451880 (637)\ttotal: 1m 3s\tremaining: 35.9s\n",
      "638:\tlearn: 1319.9571424\ttest: 1461.9261969\tbest: 1461.9261969 (638)\ttotal: 1m 3s\tremaining: 35.8s\n",
      "639:\tlearn: 1319.8129240\ttest: 1461.8992552\tbest: 1461.8992552 (639)\ttotal: 1m 3s\tremaining: 35.7s\n",
      "640:\tlearn: 1319.5913878\ttest: 1461.7273285\tbest: 1461.7273285 (640)\ttotal: 1m 3s\tremaining: 35.6s\n",
      "641:\tlearn: 1319.4694984\ttest: 1461.6887237\tbest: 1461.6887237 (641)\ttotal: 1m 3s\tremaining: 35.5s\n",
      "642:\tlearn: 1319.2553088\ttest: 1461.6452898\tbest: 1461.6452898 (642)\ttotal: 1m 3s\tremaining: 35.4s\n",
      "643:\tlearn: 1318.9492663\ttest: 1461.5733603\tbest: 1461.5733603 (643)\ttotal: 1m 3s\tremaining: 35.3s\n",
      "644:\tlearn: 1318.5871105\ttest: 1461.5119790\tbest: 1461.5119790 (644)\ttotal: 1m 3s\tremaining: 35.2s\n",
      "645:\tlearn: 1318.2891840\ttest: 1461.5120344\tbest: 1461.5119790 (644)\ttotal: 1m 4s\tremaining: 35.1s\n",
      "646:\tlearn: 1318.1011279\ttest: 1461.5003024\tbest: 1461.5003024 (646)\ttotal: 1m 4s\tremaining: 35s\n",
      "647:\tlearn: 1318.0563345\ttest: 1461.4848789\tbest: 1461.4848789 (647)\ttotal: 1m 4s\tremaining: 34.9s\n",
      "648:\tlearn: 1317.8501869\ttest: 1461.4661606\tbest: 1461.4661606 (648)\ttotal: 1m 4s\tremaining: 34.8s\n",
      "649:\tlearn: 1317.6369122\ttest: 1461.4578149\tbest: 1461.4578149 (649)\ttotal: 1m 4s\tremaining: 34.7s\n",
      "650:\tlearn: 1317.3376027\ttest: 1461.3256568\tbest: 1461.3256568 (650)\ttotal: 1m 4s\tremaining: 34.6s\n",
      "651:\tlearn: 1317.2011465\ttest: 1461.2912976\tbest: 1461.2912976 (651)\ttotal: 1m 4s\tremaining: 34.5s\n",
      "652:\tlearn: 1317.0192500\ttest: 1461.2556471\tbest: 1461.2556471 (652)\ttotal: 1m 4s\tremaining: 34.4s\n",
      "653:\tlearn: 1316.7317030\ttest: 1461.1952552\tbest: 1461.1952552 (653)\ttotal: 1m 4s\tremaining: 34.3s\n",
      "654:\tlearn: 1316.5685541\ttest: 1461.1369560\tbest: 1461.1369560 (654)\ttotal: 1m 4s\tremaining: 34.2s\n",
      "655:\tlearn: 1316.4172874\ttest: 1461.0783459\tbest: 1461.0783459 (655)\ttotal: 1m 4s\tremaining: 34.1s\n",
      "656:\tlearn: 1316.2430629\ttest: 1461.0791487\tbest: 1461.0783459 (655)\ttotal: 1m 5s\tremaining: 34s\n",
      "657:\tlearn: 1315.9016639\ttest: 1461.0414438\tbest: 1461.0414438 (657)\ttotal: 1m 5s\tremaining: 33.9s\n",
      "658:\tlearn: 1315.7583777\ttest: 1461.0258615\tbest: 1461.0258615 (658)\ttotal: 1m 5s\tremaining: 33.8s\n",
      "659:\tlearn: 1315.4593003\ttest: 1460.7887529\tbest: 1460.7887529 (659)\ttotal: 1m 5s\tremaining: 33.7s\n",
      "660:\tlearn: 1315.2090572\ttest: 1460.7835796\tbest: 1460.7835796 (660)\ttotal: 1m 5s\tremaining: 33.6s\n",
      "661:\tlearn: 1315.0216836\ttest: 1460.7500942\tbest: 1460.7500942 (661)\ttotal: 1m 5s\tremaining: 33.5s\n",
      "662:\tlearn: 1314.6208957\ttest: 1460.6815540\tbest: 1460.6815540 (662)\ttotal: 1m 5s\tremaining: 33.4s\n",
      "663:\tlearn: 1314.3503608\ttest: 1460.6402336\tbest: 1460.6402336 (663)\ttotal: 1m 5s\tremaining: 33.3s\n",
      "664:\tlearn: 1314.1876798\ttest: 1460.5915428\tbest: 1460.5915428 (664)\ttotal: 1m 5s\tremaining: 33.2s\n",
      "665:\tlearn: 1314.0914723\ttest: 1460.5968430\tbest: 1460.5915428 (664)\ttotal: 1m 5s\tremaining: 33.1s\n",
      "666:\tlearn: 1313.9681260\ttest: 1460.5815389\tbest: 1460.5815389 (666)\ttotal: 1m 6s\tremaining: 33s\n",
      "667:\tlearn: 1313.7858559\ttest: 1460.4888559\tbest: 1460.4888559 (667)\ttotal: 1m 6s\tremaining: 32.9s\n",
      "668:\tlearn: 1313.7636159\ttest: 1460.4743981\tbest: 1460.4743981 (668)\ttotal: 1m 6s\tremaining: 32.8s\n",
      "669:\tlearn: 1313.5276185\ttest: 1460.4732785\tbest: 1460.4732785 (669)\ttotal: 1m 6s\tremaining: 32.7s\n",
      "670:\tlearn: 1313.5045292\ttest: 1460.4445470\tbest: 1460.4445470 (670)\ttotal: 1m 6s\tremaining: 32.6s\n",
      "671:\tlearn: 1313.2999972\ttest: 1460.3829463\tbest: 1460.3829463 (671)\ttotal: 1m 6s\tremaining: 32.5s\n",
      "672:\tlearn: 1313.0867528\ttest: 1460.3270885\tbest: 1460.3270885 (672)\ttotal: 1m 6s\tremaining: 32.4s\n",
      "673:\tlearn: 1312.9729875\ttest: 1460.3316133\tbest: 1460.3270885 (672)\ttotal: 1m 6s\tremaining: 32.3s\n",
      "674:\tlearn: 1312.8019535\ttest: 1460.3582407\tbest: 1460.3270885 (672)\ttotal: 1m 6s\tremaining: 32.2s\n",
      "675:\tlearn: 1312.7017270\ttest: 1460.3424162\tbest: 1460.3270885 (672)\ttotal: 1m 6s\tremaining: 32.1s\n",
      "676:\tlearn: 1312.5225923\ttest: 1460.3316176\tbest: 1460.3270885 (672)\ttotal: 1m 7s\tremaining: 32s\n",
      "677:\tlearn: 1312.2041106\ttest: 1460.2888747\tbest: 1460.2888747 (677)\ttotal: 1m 7s\tremaining: 31.9s\n",
      "678:\tlearn: 1312.0327958\ttest: 1460.2215543\tbest: 1460.2215543 (678)\ttotal: 1m 7s\tremaining: 31.8s\n",
      "679:\tlearn: 1312.0107389\ttest: 1460.2273991\tbest: 1460.2215543 (678)\ttotal: 1m 7s\tremaining: 31.7s\n",
      "680:\tlearn: 1311.8523851\ttest: 1460.1655159\tbest: 1460.1655159 (680)\ttotal: 1m 7s\tremaining: 31.6s\n",
      "681:\tlearn: 1311.5543748\ttest: 1460.1110902\tbest: 1460.1110902 (681)\ttotal: 1m 7s\tremaining: 31.5s\n",
      "682:\tlearn: 1311.3755620\ttest: 1460.0315479\tbest: 1460.0315479 (682)\ttotal: 1m 7s\tremaining: 31.4s\n",
      "683:\tlearn: 1311.1624762\ttest: 1460.0250166\tbest: 1460.0250166 (683)\ttotal: 1m 7s\tremaining: 31.3s\n",
      "684:\tlearn: 1311.0407724\ttest: 1459.9965294\tbest: 1459.9965294 (684)\ttotal: 1m 7s\tremaining: 31.2s\n",
      "685:\tlearn: 1310.7371584\ttest: 1459.9356785\tbest: 1459.9356785 (685)\ttotal: 1m 7s\tremaining: 31.1s\n",
      "686:\tlearn: 1310.4907781\ttest: 1459.8025428\tbest: 1459.8025428 (686)\ttotal: 1m 8s\tremaining: 31s\n",
      "687:\tlearn: 1310.2535652\ttest: 1459.7394779\tbest: 1459.7394779 (687)\ttotal: 1m 8s\tremaining: 30.9s\n",
      "688:\tlearn: 1309.9052085\ttest: 1459.6926761\tbest: 1459.6926761 (688)\ttotal: 1m 8s\tremaining: 30.8s\n",
      "689:\tlearn: 1309.7174925\ttest: 1459.6757410\tbest: 1459.6757410 (689)\ttotal: 1m 8s\tremaining: 30.7s\n",
      "690:\tlearn: 1309.5255838\ttest: 1459.6499318\tbest: 1459.6499318 (690)\ttotal: 1m 8s\tremaining: 30.6s\n",
      "691:\tlearn: 1309.2947939\ttest: 1459.6681765\tbest: 1459.6499318 (690)\ttotal: 1m 8s\tremaining: 30.5s\n",
      "692:\tlearn: 1309.1218538\ttest: 1459.6353037\tbest: 1459.6353037 (692)\ttotal: 1m 8s\tremaining: 30.4s\n",
      "693:\tlearn: 1308.8621868\ttest: 1459.6376515\tbest: 1459.6353037 (692)\ttotal: 1m 8s\tremaining: 30.3s\n",
      "694:\tlearn: 1308.6639975\ttest: 1459.5930460\tbest: 1459.5930460 (694)\ttotal: 1m 8s\tremaining: 30.2s\n",
      "695:\tlearn: 1308.5608986\ttest: 1459.5741891\tbest: 1459.5741891 (695)\ttotal: 1m 8s\tremaining: 30.1s\n",
      "696:\tlearn: 1308.3568587\ttest: 1459.4932800\tbest: 1459.4932800 (696)\ttotal: 1m 8s\tremaining: 30s\n",
      "697:\tlearn: 1308.2391681\ttest: 1459.4586163\tbest: 1459.4586163 (697)\ttotal: 1m 9s\tremaining: 29.9s\n",
      "698:\tlearn: 1307.9022850\ttest: 1459.5194480\tbest: 1459.4586163 (697)\ttotal: 1m 9s\tremaining: 29.8s\n",
      "699:\tlearn: 1307.6782722\ttest: 1459.4619404\tbest: 1459.4586163 (697)\ttotal: 1m 9s\tremaining: 29.7s\n",
      "700:\tlearn: 1307.4380556\ttest: 1459.4369292\tbest: 1459.4369292 (700)\ttotal: 1m 9s\tremaining: 29.6s\n",
      "701:\tlearn: 1307.3360277\ttest: 1459.4273253\tbest: 1459.4273253 (701)\ttotal: 1m 9s\tremaining: 29.5s\n",
      "702:\tlearn: 1307.1872551\ttest: 1459.3675956\tbest: 1459.3675956 (702)\ttotal: 1m 9s\tremaining: 29.4s\n",
      "703:\tlearn: 1307.0624924\ttest: 1459.3593741\tbest: 1459.3593741 (703)\ttotal: 1m 9s\tremaining: 29.3s\n",
      "704:\tlearn: 1306.7927957\ttest: 1459.3419903\tbest: 1459.3419903 (704)\ttotal: 1m 9s\tremaining: 29.2s\n",
      "705:\tlearn: 1306.6081594\ttest: 1459.3097557\tbest: 1459.3097557 (705)\ttotal: 1m 9s\tremaining: 29.1s\n",
      "706:\tlearn: 1306.5354729\ttest: 1459.3130564\tbest: 1459.3097557 (705)\ttotal: 1m 9s\tremaining: 29s\n",
      "707:\tlearn: 1306.3484184\ttest: 1459.2793254\tbest: 1459.2793254 (707)\ttotal: 1m 10s\tremaining: 28.9s\n",
      "708:\tlearn: 1306.0422592\ttest: 1459.1974159\tbest: 1459.1974159 (708)\ttotal: 1m 10s\tremaining: 28.8s\n",
      "709:\tlearn: 1305.7140382\ttest: 1459.1360997\tbest: 1459.1360997 (709)\ttotal: 1m 10s\tremaining: 28.7s\n",
      "710:\tlearn: 1305.6092398\ttest: 1459.1129271\tbest: 1459.1129271 (710)\ttotal: 1m 10s\tremaining: 28.6s\n",
      "711:\tlearn: 1305.4556620\ttest: 1459.0086657\tbest: 1459.0086657 (711)\ttotal: 1m 10s\tremaining: 28.5s\n",
      "712:\tlearn: 1305.2188497\ttest: 1459.0335751\tbest: 1459.0086657 (711)\ttotal: 1m 10s\tremaining: 28.4s\n",
      "713:\tlearn: 1304.9798871\ttest: 1459.0214823\tbest: 1459.0086657 (711)\ttotal: 1m 10s\tremaining: 28.3s\n",
      "714:\tlearn: 1304.6580046\ttest: 1458.9345779\tbest: 1458.9345779 (714)\ttotal: 1m 10s\tremaining: 28.2s\n",
      "715:\tlearn: 1304.3834051\ttest: 1458.8953223\tbest: 1458.8953223 (715)\ttotal: 1m 10s\tremaining: 28.1s\n",
      "716:\tlearn: 1304.2027763\ttest: 1458.8971351\tbest: 1458.8953223 (715)\ttotal: 1m 10s\tremaining: 28s\n",
      "717:\tlearn: 1304.0684258\ttest: 1458.9079369\tbest: 1458.8953223 (715)\ttotal: 1m 11s\tremaining: 27.9s\n",
      "718:\tlearn: 1303.7781491\ttest: 1458.8458669\tbest: 1458.8458669 (718)\ttotal: 1m 11s\tremaining: 27.8s\n",
      "719:\tlearn: 1303.5024525\ttest: 1458.8208348\tbest: 1458.8208348 (719)\ttotal: 1m 11s\tremaining: 27.7s\n",
      "720:\tlearn: 1303.3034106\ttest: 1458.8398485\tbest: 1458.8208348 (719)\ttotal: 1m 11s\tremaining: 27.6s\n",
      "721:\tlearn: 1303.1485237\ttest: 1458.7807321\tbest: 1458.7807321 (721)\ttotal: 1m 11s\tremaining: 27.5s\n",
      "722:\tlearn: 1303.0618312\ttest: 1458.7865873\tbest: 1458.7807321 (721)\ttotal: 1m 11s\tremaining: 27.4s\n",
      "723:\tlearn: 1302.9029057\ttest: 1458.7629418\tbest: 1458.7629418 (723)\ttotal: 1m 11s\tremaining: 27.3s\n",
      "724:\tlearn: 1302.7774156\ttest: 1458.7225995\tbest: 1458.7225995 (724)\ttotal: 1m 11s\tremaining: 27.2s\n",
      "725:\tlearn: 1302.6417139\ttest: 1458.7009596\tbest: 1458.7009596 (725)\ttotal: 1m 11s\tremaining: 27.1s\n",
      "726:\tlearn: 1302.5361383\ttest: 1458.6939762\tbest: 1458.6939762 (726)\ttotal: 1m 11s\tremaining: 27s\n",
      "727:\tlearn: 1302.3671327\ttest: 1458.6412101\tbest: 1458.6412101 (727)\ttotal: 1m 11s\tremaining: 26.9s\n",
      "728:\tlearn: 1302.2428635\ttest: 1458.6212251\tbest: 1458.6212251 (728)\ttotal: 1m 12s\tremaining: 26.8s\n",
      "729:\tlearn: 1301.9298364\ttest: 1458.4964596\tbest: 1458.4964596 (729)\ttotal: 1m 12s\tremaining: 26.7s\n",
      "730:\tlearn: 1301.7312035\ttest: 1458.4586207\tbest: 1458.4586207 (730)\ttotal: 1m 12s\tremaining: 26.6s\n",
      "731:\tlearn: 1301.6215057\ttest: 1458.4603575\tbest: 1458.4586207 (730)\ttotal: 1m 12s\tremaining: 26.5s\n",
      "732:\tlearn: 1301.4960751\ttest: 1458.4460479\tbest: 1458.4460479 (732)\ttotal: 1m 12s\tremaining: 26.4s\n",
      "733:\tlearn: 1301.3574468\ttest: 1458.4244944\tbest: 1458.4244944 (733)\ttotal: 1m 12s\tremaining: 26.3s\n",
      "734:\tlearn: 1301.1082839\ttest: 1458.3449061\tbest: 1458.3449061 (734)\ttotal: 1m 12s\tremaining: 26.2s\n",
      "735:\tlearn: 1300.8209531\ttest: 1458.2750876\tbest: 1458.2750876 (735)\ttotal: 1m 12s\tremaining: 26.1s\n",
      "736:\tlearn: 1300.2958851\ttest: 1458.2039003\tbest: 1458.2039003 (736)\ttotal: 1m 12s\tremaining: 26s\n",
      "737:\tlearn: 1300.1037682\ttest: 1458.2203301\tbest: 1458.2039003 (736)\ttotal: 1m 12s\tremaining: 25.9s\n",
      "738:\tlearn: 1299.9959049\ttest: 1458.2397476\tbest: 1458.2039003 (736)\ttotal: 1m 13s\tremaining: 25.8s\n",
      "739:\tlearn: 1299.7295981\ttest: 1458.1348428\tbest: 1458.1348428 (739)\ttotal: 1m 13s\tremaining: 25.7s\n",
      "740:\tlearn: 1299.5784638\ttest: 1458.1362991\tbest: 1458.1348428 (739)\ttotal: 1m 13s\tremaining: 25.6s\n",
      "741:\tlearn: 1299.2471018\ttest: 1457.9772184\tbest: 1457.9772184 (741)\ttotal: 1m 13s\tremaining: 25.5s\n",
      "742:\tlearn: 1298.8670133\ttest: 1457.8682782\tbest: 1457.8682782 (742)\ttotal: 1m 13s\tremaining: 25.4s\n",
      "743:\tlearn: 1298.5408933\ttest: 1457.8413308\tbest: 1457.8413308 (743)\ttotal: 1m 13s\tremaining: 25.3s\n",
      "744:\tlearn: 1298.3689411\ttest: 1457.7926291\tbest: 1457.7926291 (744)\ttotal: 1m 13s\tremaining: 25.2s\n",
      "745:\tlearn: 1298.2751597\ttest: 1457.7507957\tbest: 1457.7507957 (745)\ttotal: 1m 13s\tremaining: 25.1s\n",
      "746:\tlearn: 1298.1720021\ttest: 1457.7246467\tbest: 1457.7246467 (746)\ttotal: 1m 13s\tremaining: 25s\n",
      "747:\tlearn: 1297.9433541\ttest: 1457.6455970\tbest: 1457.6455970 (747)\ttotal: 1m 13s\tremaining: 24.9s\n",
      "748:\tlearn: 1297.8361568\ttest: 1457.6573463\tbest: 1457.6455970 (747)\ttotal: 1m 14s\tremaining: 24.8s\n",
      "749:\tlearn: 1297.5586144\ttest: 1457.6427780\tbest: 1457.6427780 (749)\ttotal: 1m 14s\tremaining: 24.7s\n",
      "750:\tlearn: 1297.3935021\ttest: 1457.6579513\tbest: 1457.6427780 (749)\ttotal: 1m 14s\tremaining: 24.6s\n",
      "751:\tlearn: 1297.2779943\ttest: 1457.5931632\tbest: 1457.5931632 (751)\ttotal: 1m 14s\tremaining: 24.5s\n",
      "752:\tlearn: 1297.1584867\ttest: 1457.5973923\tbest: 1457.5931632 (751)\ttotal: 1m 14s\tremaining: 24.4s\n",
      "753:\tlearn: 1296.9084375\ttest: 1457.5461508\tbest: 1457.5461508 (753)\ttotal: 1m 14s\tremaining: 24.3s\n",
      "754:\tlearn: 1296.6263623\ttest: 1457.4935657\tbest: 1457.4935657 (754)\ttotal: 1m 14s\tremaining: 24.2s\n",
      "755:\tlearn: 1296.5322231\ttest: 1457.4765922\tbest: 1457.4765922 (755)\ttotal: 1m 14s\tremaining: 24.1s\n",
      "756:\tlearn: 1296.3614468\ttest: 1457.4302395\tbest: 1457.4302395 (756)\ttotal: 1m 14s\tremaining: 24s\n",
      "757:\tlearn: 1296.2363337\ttest: 1457.3956824\tbest: 1457.3956824 (757)\ttotal: 1m 14s\tremaining: 23.9s\n",
      "758:\tlearn: 1296.0565183\ttest: 1457.3465519\tbest: 1457.3465519 (758)\ttotal: 1m 15s\tremaining: 23.8s\n",
      "759:\tlearn: 1295.7734819\ttest: 1457.3156731\tbest: 1457.3156731 (759)\ttotal: 1m 15s\tremaining: 23.7s\n",
      "760:\tlearn: 1295.7027238\ttest: 1457.2904991\tbest: 1457.2904991 (760)\ttotal: 1m 15s\tremaining: 23.6s\n",
      "761:\tlearn: 1295.5640300\ttest: 1457.2759212\tbest: 1457.2759212 (761)\ttotal: 1m 15s\tremaining: 23.5s\n",
      "762:\tlearn: 1295.3856734\ttest: 1457.1919530\tbest: 1457.1919530 (762)\ttotal: 1m 15s\tremaining: 23.5s\n",
      "763:\tlearn: 1295.1478518\ttest: 1457.2231836\tbest: 1457.1919530 (762)\ttotal: 1m 15s\tremaining: 23.4s\n",
      "764:\tlearn: 1294.9293829\ttest: 1457.2253687\tbest: 1457.1919530 (762)\ttotal: 1m 15s\tremaining: 23.3s\n",
      "765:\tlearn: 1294.7588591\ttest: 1457.1776252\tbest: 1457.1776252 (765)\ttotal: 1m 15s\tremaining: 23.2s\n",
      "766:\tlearn: 1294.6767051\ttest: 1457.1472847\tbest: 1457.1472847 (766)\ttotal: 1m 15s\tremaining: 23.1s\n",
      "767:\tlearn: 1294.5927622\ttest: 1457.1546105\tbest: 1457.1472847 (766)\ttotal: 1m 15s\tremaining: 23s\n",
      "768:\tlearn: 1294.4247068\ttest: 1457.1057036\tbest: 1457.1057036 (768)\ttotal: 1m 16s\tremaining: 22.9s\n",
      "769:\tlearn: 1294.3469024\ttest: 1457.0920244\tbest: 1457.0920244 (769)\ttotal: 1m 16s\tremaining: 22.8s\n",
      "770:\tlearn: 1294.1834351\ttest: 1457.0968554\tbest: 1457.0920244 (769)\ttotal: 1m 16s\tremaining: 22.7s\n",
      "771:\tlearn: 1294.0444472\ttest: 1457.1000885\tbest: 1457.0920244 (769)\ttotal: 1m 16s\tremaining: 22.6s\n",
      "772:\tlearn: 1293.6433773\ttest: 1457.0624450\tbest: 1457.0624450 (772)\ttotal: 1m 16s\tremaining: 22.5s\n",
      "773:\tlearn: 1293.4986231\ttest: 1456.9710213\tbest: 1456.9710213 (773)\ttotal: 1m 16s\tremaining: 22.4s\n",
      "774:\tlearn: 1293.2496552\ttest: 1456.9075940\tbest: 1456.9075940 (774)\ttotal: 1m 16s\tremaining: 22.3s\n",
      "775:\tlearn: 1293.0813547\ttest: 1456.8580707\tbest: 1456.8580707 (775)\ttotal: 1m 16s\tremaining: 22.2s\n",
      "776:\tlearn: 1292.9637908\ttest: 1456.7819617\tbest: 1456.7819617 (776)\ttotal: 1m 16s\tremaining: 22.1s\n",
      "777:\tlearn: 1292.8289470\ttest: 1456.7380352\tbest: 1456.7380352 (777)\ttotal: 1m 16s\tremaining: 22s\n",
      "778:\tlearn: 1292.6276253\ttest: 1456.7077131\tbest: 1456.7077131 (778)\ttotal: 1m 17s\tremaining: 21.9s\n",
      "779:\tlearn: 1292.5190758\ttest: 1456.6727991\tbest: 1456.6727991 (779)\ttotal: 1m 17s\tremaining: 21.8s\n",
      "780:\tlearn: 1292.2010264\ttest: 1456.6537865\tbest: 1456.6537865 (780)\ttotal: 1m 17s\tremaining: 21.7s\n",
      "781:\tlearn: 1292.0741203\ttest: 1456.6311223\tbest: 1456.6311223 (781)\ttotal: 1m 17s\tremaining: 21.6s\n",
      "782:\tlearn: 1291.8208106\ttest: 1456.5770199\tbest: 1456.5770199 (782)\ttotal: 1m 17s\tremaining: 21.5s\n",
      "783:\tlearn: 1291.6775476\ttest: 1456.5203408\tbest: 1456.5203408 (783)\ttotal: 1m 17s\tremaining: 21.4s\n",
      "784:\tlearn: 1291.4666326\ttest: 1456.4633979\tbest: 1456.4633979 (784)\ttotal: 1m 17s\tremaining: 21.3s\n",
      "785:\tlearn: 1291.3290597\ttest: 1456.4578177\tbest: 1456.4578177 (785)\ttotal: 1m 17s\tremaining: 21.2s\n",
      "786:\tlearn: 1290.9714692\ttest: 1456.3289572\tbest: 1456.3289572 (786)\ttotal: 1m 17s\tremaining: 21.1s\n",
      "787:\tlearn: 1290.8260731\ttest: 1456.2908088\tbest: 1456.2908088 (787)\ttotal: 1m 17s\tremaining: 21s\n",
      "788:\tlearn: 1290.7170052\ttest: 1456.2187233\tbest: 1456.2187233 (788)\ttotal: 1m 18s\tremaining: 20.9s\n",
      "789:\tlearn: 1290.4687421\ttest: 1456.1451696\tbest: 1456.1451696 (789)\ttotal: 1m 18s\tremaining: 20.8s\n",
      "790:\tlearn: 1290.1488348\ttest: 1456.0388878\tbest: 1456.0388878 (790)\ttotal: 1m 18s\tremaining: 20.7s\n",
      "791:\tlearn: 1289.9830699\ttest: 1456.0230627\tbest: 1456.0230627 (791)\ttotal: 1m 18s\tremaining: 20.6s\n",
      "792:\tlearn: 1289.8707158\ttest: 1456.0046847\tbest: 1456.0046847 (792)\ttotal: 1m 18s\tremaining: 20.5s\n",
      "793:\tlearn: 1289.7931155\ttest: 1455.9974133\tbest: 1455.9974133 (793)\ttotal: 1m 18s\tremaining: 20.4s\n",
      "794:\tlearn: 1289.5007215\ttest: 1455.9332944\tbest: 1455.9332944 (794)\ttotal: 1m 18s\tremaining: 20.3s\n",
      "795:\tlearn: 1289.3001548\ttest: 1455.8868150\tbest: 1455.8868150 (795)\ttotal: 1m 18s\tremaining: 20.2s\n",
      "796:\tlearn: 1289.1594192\ttest: 1455.8237393\tbest: 1455.8237393 (796)\ttotal: 1m 18s\tremaining: 20.1s\n",
      "797:\tlearn: 1288.8618397\ttest: 1455.8431982\tbest: 1455.8237393 (796)\ttotal: 1m 18s\tremaining: 20s\n",
      "798:\tlearn: 1288.6926240\ttest: 1455.7712804\tbest: 1455.7712804 (798)\ttotal: 1m 19s\tremaining: 19.9s\n",
      "799:\tlearn: 1288.3686107\ttest: 1455.7725359\tbest: 1455.7712804 (798)\ttotal: 1m 19s\tremaining: 19.8s\n",
      "800:\tlearn: 1288.2834072\ttest: 1455.7719761\tbest: 1455.7712804 (798)\ttotal: 1m 19s\tremaining: 19.7s\n",
      "801:\tlearn: 1288.0461227\ttest: 1455.7121297\tbest: 1455.7121297 (801)\ttotal: 1m 19s\tremaining: 19.6s\n",
      "802:\tlearn: 1287.7903752\ttest: 1455.6723090\tbest: 1455.6723090 (802)\ttotal: 1m 19s\tremaining: 19.5s\n",
      "803:\tlearn: 1287.5573932\ttest: 1455.6073601\tbest: 1455.6073601 (803)\ttotal: 1m 19s\tremaining: 19.4s\n",
      "804:\tlearn: 1287.3535245\ttest: 1455.5601790\tbest: 1455.5601790 (804)\ttotal: 1m 19s\tremaining: 19.3s\n",
      "805:\tlearn: 1287.1581264\ttest: 1455.5215746\tbest: 1455.5215746 (805)\ttotal: 1m 19s\tremaining: 19.2s\n",
      "806:\tlearn: 1286.7811320\ttest: 1455.4558238\tbest: 1455.4558238 (806)\ttotal: 1m 19s\tremaining: 19.1s\n",
      "807:\tlearn: 1286.6339706\ttest: 1455.4460912\tbest: 1455.4460912 (807)\ttotal: 1m 19s\tremaining: 19s\n",
      "808:\tlearn: 1286.4833684\ttest: 1455.4463938\tbest: 1455.4460912 (807)\ttotal: 1m 20s\tremaining: 18.9s\n",
      "809:\tlearn: 1286.3642600\ttest: 1455.4037731\tbest: 1455.4037731 (809)\ttotal: 1m 20s\tremaining: 18.8s\n",
      "810:\tlearn: 1286.2569997\ttest: 1455.3568697\tbest: 1455.3568697 (810)\ttotal: 1m 20s\tremaining: 18.7s\n",
      "811:\tlearn: 1286.0664896\ttest: 1455.3380413\tbest: 1455.3380413 (811)\ttotal: 1m 20s\tremaining: 18.6s\n",
      "812:\tlearn: 1285.8682105\ttest: 1455.3155733\tbest: 1455.3155733 (812)\ttotal: 1m 20s\tremaining: 18.5s\n",
      "813:\tlearn: 1285.8151792\ttest: 1455.3304667\tbest: 1455.3155733 (812)\ttotal: 1m 20s\tremaining: 18.4s\n",
      "814:\tlearn: 1285.6548618\ttest: 1455.3272802\tbest: 1455.3155733 (812)\ttotal: 1m 20s\tremaining: 18.3s\n",
      "815:\tlearn: 1285.6054814\ttest: 1455.3100811\tbest: 1455.3100811 (815)\ttotal: 1m 20s\tremaining: 18.2s\n",
      "816:\tlearn: 1285.3310011\ttest: 1455.2646332\tbest: 1455.2646332 (816)\ttotal: 1m 20s\tremaining: 18.1s\n",
      "817:\tlearn: 1285.2605452\ttest: 1455.2610889\tbest: 1455.2610889 (817)\ttotal: 1m 20s\tremaining: 18s\n",
      "818:\tlearn: 1285.1664419\ttest: 1455.2723103\tbest: 1455.2610889 (817)\ttotal: 1m 21s\tremaining: 17.9s\n",
      "819:\tlearn: 1285.0867171\ttest: 1455.2555946\tbest: 1455.2555946 (819)\ttotal: 1m 21s\tremaining: 17.8s\n",
      "820:\tlearn: 1284.8938476\ttest: 1455.1926017\tbest: 1455.1926017 (820)\ttotal: 1m 21s\tremaining: 17.7s\n",
      "821:\tlearn: 1284.7796256\ttest: 1455.1500235\tbest: 1455.1500235 (821)\ttotal: 1m 21s\tremaining: 17.6s\n",
      "822:\tlearn: 1284.6158946\ttest: 1455.1184220\tbest: 1455.1184220 (822)\ttotal: 1m 21s\tremaining: 17.5s\n",
      "823:\tlearn: 1284.4739110\ttest: 1455.1161676\tbest: 1455.1161676 (823)\ttotal: 1m 21s\tremaining: 17.4s\n",
      "824:\tlearn: 1284.3581066\ttest: 1455.0956043\tbest: 1455.0956043 (824)\ttotal: 1m 21s\tremaining: 17.3s\n",
      "825:\tlearn: 1284.2616961\ttest: 1455.1007566\tbest: 1455.0956043 (824)\ttotal: 1m 21s\tremaining: 17.2s\n",
      "826:\tlearn: 1283.7714845\ttest: 1454.9327938\tbest: 1454.9327938 (826)\ttotal: 1m 21s\tremaining: 17.1s\n",
      "827:\tlearn: 1283.5466133\ttest: 1454.9074234\tbest: 1454.9074234 (827)\ttotal: 1m 21s\tremaining: 17s\n",
      "828:\tlearn: 1283.3328605\ttest: 1454.8951081\tbest: 1454.8951081 (828)\ttotal: 1m 22s\tremaining: 16.9s\n",
      "829:\tlearn: 1283.0676108\ttest: 1454.9135926\tbest: 1454.8951081 (828)\ttotal: 1m 22s\tremaining: 16.8s\n",
      "830:\tlearn: 1282.7780871\ttest: 1454.8728801\tbest: 1454.8728801 (830)\ttotal: 1m 22s\tremaining: 16.7s\n",
      "831:\tlearn: 1282.5570265\ttest: 1454.8015912\tbest: 1454.8015912 (831)\ttotal: 1m 22s\tremaining: 16.6s\n",
      "832:\tlearn: 1282.2192675\ttest: 1454.7473207\tbest: 1454.7473207 (832)\ttotal: 1m 22s\tremaining: 16.5s\n",
      "833:\tlearn: 1281.9212154\ttest: 1454.6670555\tbest: 1454.6670555 (833)\ttotal: 1m 22s\tremaining: 16.4s\n",
      "834:\tlearn: 1281.7578296\ttest: 1454.6252253\tbest: 1454.6252253 (834)\ttotal: 1m 22s\tremaining: 16.3s\n",
      "835:\tlearn: 1281.6439291\ttest: 1454.6085204\tbest: 1454.6085204 (835)\ttotal: 1m 22s\tremaining: 16.2s\n",
      "836:\tlearn: 1281.4459779\ttest: 1454.5537954\tbest: 1454.5537954 (836)\ttotal: 1m 22s\tremaining: 16.1s\n",
      "837:\tlearn: 1281.3253190\ttest: 1454.5338873\tbest: 1454.5338873 (837)\ttotal: 1m 22s\tremaining: 16s\n",
      "838:\tlearn: 1281.1748835\ttest: 1454.5315580\tbest: 1454.5315580 (838)\ttotal: 1m 23s\tremaining: 15.9s\n",
      "839:\tlearn: 1281.0017019\ttest: 1454.5267205\tbest: 1454.5267205 (839)\ttotal: 1m 23s\tremaining: 15.8s\n",
      "840:\tlearn: 1280.7202461\ttest: 1454.4968816\tbest: 1454.4968816 (840)\ttotal: 1m 23s\tremaining: 15.7s\n",
      "841:\tlearn: 1280.4049091\ttest: 1454.3776422\tbest: 1454.3776422 (841)\ttotal: 1m 23s\tremaining: 15.6s\n",
      "842:\tlearn: 1280.2779345\ttest: 1454.3849038\tbest: 1454.3776422 (841)\ttotal: 1m 23s\tremaining: 15.5s\n",
      "843:\tlearn: 1280.0481809\ttest: 1454.3125274\tbest: 1454.3125274 (843)\ttotal: 1m 23s\tremaining: 15.4s\n",
      "844:\tlearn: 1279.9204673\ttest: 1454.2175433\tbest: 1454.2175433 (844)\ttotal: 1m 23s\tremaining: 15.3s\n",
      "845:\tlearn: 1279.8044620\ttest: 1454.2404101\tbest: 1454.2175433 (844)\ttotal: 1m 23s\tremaining: 15.2s\n",
      "846:\tlearn: 1279.7466047\ttest: 1454.2329501\tbest: 1454.2175433 (844)\ttotal: 1m 23s\tremaining: 15.1s\n",
      "847:\tlearn: 1279.6122967\ttest: 1454.2181278\tbest: 1454.2175433 (844)\ttotal: 1m 23s\tremaining: 15s\n",
      "848:\tlearn: 1279.5467295\ttest: 1454.1904736\tbest: 1454.1904736 (848)\ttotal: 1m 24s\tremaining: 14.9s\n",
      "849:\tlearn: 1279.2142342\ttest: 1454.1916380\tbest: 1454.1904736 (848)\ttotal: 1m 24s\tremaining: 14.8s\n",
      "850:\tlearn: 1279.0606270\ttest: 1454.1704438\tbest: 1454.1704438 (850)\ttotal: 1m 24s\tremaining: 14.7s\n",
      "851:\tlearn: 1278.8304482\ttest: 1454.1361632\tbest: 1454.1361632 (851)\ttotal: 1m 24s\tremaining: 14.6s\n",
      "852:\tlearn: 1278.6071780\ttest: 1454.1133086\tbest: 1454.1133086 (852)\ttotal: 1m 24s\tremaining: 14.5s\n",
      "853:\tlearn: 1278.4701081\ttest: 1454.0598668\tbest: 1454.0598668 (853)\ttotal: 1m 24s\tremaining: 14.4s\n",
      "854:\tlearn: 1278.2387643\ttest: 1454.0432377\tbest: 1454.0432377 (854)\ttotal: 1m 24s\tremaining: 14.3s\n",
      "855:\tlearn: 1278.1291757\ttest: 1454.0516026\tbest: 1454.0432377 (854)\ttotal: 1m 24s\tremaining: 14.3s\n",
      "856:\tlearn: 1278.0042081\ttest: 1454.0174040\tbest: 1454.0174040 (856)\ttotal: 1m 24s\tremaining: 14.2s\n",
      "857:\tlearn: 1277.8363886\ttest: 1453.9705701\tbest: 1453.9705701 (857)\ttotal: 1m 24s\tremaining: 14.1s\n",
      "858:\tlearn: 1277.6205333\ttest: 1453.9386275\tbest: 1453.9386275 (858)\ttotal: 1m 25s\tremaining: 14s\n",
      "859:\tlearn: 1277.3691720\ttest: 1453.8746284\tbest: 1453.8746284 (859)\ttotal: 1m 25s\tremaining: 13.9s\n",
      "860:\tlearn: 1277.2546316\ttest: 1453.8696923\tbest: 1453.8696923 (860)\ttotal: 1m 25s\tremaining: 13.8s\n",
      "861:\tlearn: 1277.1147883\ttest: 1453.8379488\tbest: 1453.8379488 (861)\ttotal: 1m 25s\tremaining: 13.7s\n",
      "862:\tlearn: 1276.9850184\ttest: 1453.8365374\tbest: 1453.8365374 (862)\ttotal: 1m 25s\tremaining: 13.6s\n",
      "863:\tlearn: 1276.8366298\ttest: 1453.7976396\tbest: 1453.7976396 (863)\ttotal: 1m 25s\tremaining: 13.5s\n",
      "864:\tlearn: 1276.6062721\ttest: 1453.7771479\tbest: 1453.7771479 (864)\ttotal: 1m 25s\tremaining: 13.4s\n",
      "865:\tlearn: 1276.3006269\ttest: 1453.7860004\tbest: 1453.7771479 (864)\ttotal: 1m 25s\tremaining: 13.3s\n",
      "866:\tlearn: 1276.2079675\ttest: 1453.8365514\tbest: 1453.7771479 (864)\ttotal: 1m 25s\tremaining: 13.2s\n",
      "867:\tlearn: 1276.0606990\ttest: 1453.8091058\tbest: 1453.7771479 (864)\ttotal: 1m 25s\tremaining: 13.1s\n",
      "868:\tlearn: 1275.8311109\ttest: 1453.7915540\tbest: 1453.7771479 (864)\ttotal: 1m 25s\tremaining: 13s\n",
      "869:\tlearn: 1275.6061651\ttest: 1453.6729161\tbest: 1453.6729161 (869)\ttotal: 1m 26s\tremaining: 12.9s\n",
      "870:\tlearn: 1275.4882747\ttest: 1453.6779231\tbest: 1453.6729161 (869)\ttotal: 1m 26s\tremaining: 12.8s\n",
      "871:\tlearn: 1275.3482984\ttest: 1453.6441323\tbest: 1453.6441323 (871)\ttotal: 1m 26s\tremaining: 12.7s\n",
      "872:\tlearn: 1275.0960837\ttest: 1453.5645305\tbest: 1453.5645305 (872)\ttotal: 1m 26s\tremaining: 12.6s\n",
      "873:\tlearn: 1274.8578385\ttest: 1453.5655171\tbest: 1453.5645305 (872)\ttotal: 1m 26s\tremaining: 12.5s\n",
      "874:\tlearn: 1274.7284309\ttest: 1453.5130785\tbest: 1453.5130785 (874)\ttotal: 1m 26s\tremaining: 12.4s\n",
      "875:\tlearn: 1274.7033011\ttest: 1453.5079542\tbest: 1453.5079542 (875)\ttotal: 1m 26s\tremaining: 12.3s\n",
      "876:\tlearn: 1274.5432842\ttest: 1453.4913669\tbest: 1453.4913669 (876)\ttotal: 1m 26s\tremaining: 12.2s\n",
      "877:\tlearn: 1274.4587537\ttest: 1453.5136575\tbest: 1453.4913669 (876)\ttotal: 1m 26s\tremaining: 12.1s\n",
      "878:\tlearn: 1274.3730272\ttest: 1453.5147837\tbest: 1453.4913669 (876)\ttotal: 1m 26s\tremaining: 12s\n",
      "879:\tlearn: 1274.0835508\ttest: 1453.4193513\tbest: 1453.4193513 (879)\ttotal: 1m 27s\tremaining: 11.9s\n",
      "880:\tlearn: 1273.8919785\ttest: 1453.4054749\tbest: 1453.4054749 (880)\ttotal: 1m 27s\tremaining: 11.8s\n",
      "881:\tlearn: 1273.7135604\ttest: 1453.3820501\tbest: 1453.3820501 (881)\ttotal: 1m 27s\tremaining: 11.7s\n",
      "882:\tlearn: 1273.5268071\ttest: 1453.4211201\tbest: 1453.3820501 (881)\ttotal: 1m 27s\tremaining: 11.6s\n",
      "883:\tlearn: 1273.4038648\ttest: 1453.4007215\tbest: 1453.3820501 (881)\ttotal: 1m 27s\tremaining: 11.5s\n",
      "884:\tlearn: 1273.3311110\ttest: 1453.3937089\tbest: 1453.3820501 (881)\ttotal: 1m 27s\tremaining: 11.4s\n",
      "885:\tlearn: 1273.0339222\ttest: 1453.3677684\tbest: 1453.3677684 (885)\ttotal: 1m 27s\tremaining: 11.3s\n",
      "886:\tlearn: 1272.9670076\ttest: 1453.3719939\tbest: 1453.3677684 (885)\ttotal: 1m 27s\tremaining: 11.2s\n",
      "887:\tlearn: 1272.8797882\ttest: 1453.3384589\tbest: 1453.3384589 (887)\ttotal: 1m 27s\tremaining: 11.1s\n",
      "888:\tlearn: 1272.5981529\ttest: 1453.2706708\tbest: 1453.2706708 (888)\ttotal: 1m 27s\tremaining: 11s\n",
      "889:\tlearn: 1272.5256814\ttest: 1453.2806747\tbest: 1453.2706708 (888)\ttotal: 1m 28s\tremaining: 10.9s\n",
      "890:\tlearn: 1272.4480441\ttest: 1453.2937373\tbest: 1453.2706708 (888)\ttotal: 1m 28s\tremaining: 10.8s\n",
      "891:\tlearn: 1272.3156387\ttest: 1453.2594234\tbest: 1453.2594234 (891)\ttotal: 1m 28s\tremaining: 10.7s\n",
      "892:\tlearn: 1272.1297451\ttest: 1453.2510060\tbest: 1453.2510060 (892)\ttotal: 1m 28s\tremaining: 10.6s\n",
      "893:\tlearn: 1271.9731840\ttest: 1453.2405919\tbest: 1453.2405919 (893)\ttotal: 1m 28s\tremaining: 10.5s\n",
      "894:\tlearn: 1271.8187188\ttest: 1453.2491291\tbest: 1453.2405919 (893)\ttotal: 1m 28s\tremaining: 10.4s\n",
      "895:\tlearn: 1271.7355660\ttest: 1453.2333766\tbest: 1453.2333766 (895)\ttotal: 1m 28s\tremaining: 10.3s\n",
      "896:\tlearn: 1271.5808315\ttest: 1453.2274961\tbest: 1453.2274961 (896)\ttotal: 1m 28s\tremaining: 10.2s\n",
      "897:\tlearn: 1271.3710449\ttest: 1453.1880441\tbest: 1453.1880441 (897)\ttotal: 1m 28s\tremaining: 10.1s\n",
      "898:\tlearn: 1271.2373158\ttest: 1453.1322526\tbest: 1453.1322526 (898)\ttotal: 1m 28s\tremaining: 9.99s\n",
      "899:\tlearn: 1271.1354457\ttest: 1453.0959406\tbest: 1453.0959406 (899)\ttotal: 1m 29s\tremaining: 9.89s\n",
      "900:\tlearn: 1271.0990400\ttest: 1453.0616557\tbest: 1453.0616557 (900)\ttotal: 1m 29s\tremaining: 9.8s\n",
      "901:\tlearn: 1270.9990709\ttest: 1453.0588117\tbest: 1453.0588117 (901)\ttotal: 1m 29s\tremaining: 9.7s\n",
      "902:\tlearn: 1270.8566932\ttest: 1453.0195723\tbest: 1453.0195723 (902)\ttotal: 1m 29s\tremaining: 9.6s\n",
      "903:\tlearn: 1270.7334543\ttest: 1453.0005580\tbest: 1453.0005580 (903)\ttotal: 1m 29s\tremaining: 9.5s\n",
      "904:\tlearn: 1270.5713009\ttest: 1452.9781668\tbest: 1452.9781668 (904)\ttotal: 1m 29s\tremaining: 9.4s\n",
      "905:\tlearn: 1270.4830156\ttest: 1452.9750718\tbest: 1452.9750718 (905)\ttotal: 1m 29s\tremaining: 9.3s\n",
      "906:\tlearn: 1270.4578213\ttest: 1452.9650054\tbest: 1452.9650054 (906)\ttotal: 1m 29s\tremaining: 9.21s\n",
      "907:\tlearn: 1270.3185446\ttest: 1452.9492182\tbest: 1452.9492182 (907)\ttotal: 1m 29s\tremaining: 9.11s\n",
      "908:\tlearn: 1270.1656112\ttest: 1452.8842969\tbest: 1452.8842969 (908)\ttotal: 1m 30s\tremaining: 9.01s\n",
      "909:\tlearn: 1270.1200387\ttest: 1452.8653605\tbest: 1452.8653605 (909)\ttotal: 1m 30s\tremaining: 8.91s\n",
      "910:\tlearn: 1269.9756423\ttest: 1452.8204709\tbest: 1452.8204709 (910)\ttotal: 1m 30s\tremaining: 8.81s\n",
      "911:\tlearn: 1269.9089019\ttest: 1452.8145766\tbest: 1452.8145766 (911)\ttotal: 1m 30s\tremaining: 8.71s\n",
      "912:\tlearn: 1269.7665757\ttest: 1452.7739763\tbest: 1452.7739763 (912)\ttotal: 1m 30s\tremaining: 8.62s\n",
      "913:\tlearn: 1269.6517498\ttest: 1452.7185803\tbest: 1452.7185803 (913)\ttotal: 1m 30s\tremaining: 8.52s\n",
      "914:\tlearn: 1269.4665195\ttest: 1452.6694511\tbest: 1452.6694511 (914)\ttotal: 1m 30s\tremaining: 8.42s\n",
      "915:\tlearn: 1269.3122585\ttest: 1452.6615550\tbest: 1452.6615550 (915)\ttotal: 1m 30s\tremaining: 8.32s\n",
      "916:\tlearn: 1268.9352412\ttest: 1452.5461415\tbest: 1452.5461415 (916)\ttotal: 1m 30s\tremaining: 8.22s\n",
      "917:\tlearn: 1268.7489747\ttest: 1452.5384324\tbest: 1452.5384324 (917)\ttotal: 1m 30s\tremaining: 8.12s\n",
      "918:\tlearn: 1268.6716555\ttest: 1452.5454164\tbest: 1452.5384324 (917)\ttotal: 1m 31s\tremaining: 8.02s\n",
      "919:\tlearn: 1268.5371363\ttest: 1452.5122344\tbest: 1452.5122344 (919)\ttotal: 1m 31s\tremaining: 7.92s\n",
      "920:\tlearn: 1268.3698638\ttest: 1452.5223866\tbest: 1452.5122344 (919)\ttotal: 1m 31s\tremaining: 7.82s\n",
      "921:\tlearn: 1268.2309912\ttest: 1452.4952095\tbest: 1452.4952095 (921)\ttotal: 1m 31s\tremaining: 7.72s\n",
      "922:\tlearn: 1268.1421651\ttest: 1452.4981118\tbest: 1452.4952095 (921)\ttotal: 1m 31s\tremaining: 7.62s\n",
      "923:\tlearn: 1267.9974125\ttest: 1452.4712788\tbest: 1452.4712788 (923)\ttotal: 1m 31s\tremaining: 7.52s\n",
      "924:\tlearn: 1267.7164819\ttest: 1452.4204920\tbest: 1452.4204920 (924)\ttotal: 1m 31s\tremaining: 7.42s\n",
      "925:\tlearn: 1267.5694828\ttest: 1452.4068850\tbest: 1452.4068850 (925)\ttotal: 1m 31s\tremaining: 7.33s\n",
      "926:\tlearn: 1267.4024936\ttest: 1452.3604901\tbest: 1452.3604901 (926)\ttotal: 1m 31s\tremaining: 7.23s\n",
      "927:\tlearn: 1267.1007775\ttest: 1452.3365659\tbest: 1452.3365659 (927)\ttotal: 1m 31s\tremaining: 7.13s\n",
      "928:\tlearn: 1267.0372908\ttest: 1452.3165979\tbest: 1452.3165979 (928)\ttotal: 1m 31s\tremaining: 7.03s\n",
      "929:\tlearn: 1267.0129094\ttest: 1452.3221233\tbest: 1452.3165979 (928)\ttotal: 1m 32s\tremaining: 6.93s\n",
      "930:\tlearn: 1266.7079527\ttest: 1452.3330886\tbest: 1452.3165979 (928)\ttotal: 1m 32s\tremaining: 6.83s\n",
      "931:\tlearn: 1266.5906562\ttest: 1452.3482280\tbest: 1452.3165979 (928)\ttotal: 1m 32s\tremaining: 6.73s\n",
      "932:\tlearn: 1266.5213915\ttest: 1452.3271341\tbest: 1452.3165979 (928)\ttotal: 1m 32s\tremaining: 6.63s\n",
      "933:\tlearn: 1266.2413636\ttest: 1452.2022425\tbest: 1452.2022425 (933)\ttotal: 1m 32s\tremaining: 6.53s\n",
      "934:\tlearn: 1266.1493277\ttest: 1452.1760625\tbest: 1452.1760625 (934)\ttotal: 1m 32s\tremaining: 6.43s\n",
      "935:\tlearn: 1266.0595130\ttest: 1452.1822699\tbest: 1452.1760625 (934)\ttotal: 1m 32s\tremaining: 6.33s\n",
      "936:\tlearn: 1265.8333329\ttest: 1452.1798520\tbest: 1452.1760625 (934)\ttotal: 1m 32s\tremaining: 6.24s\n",
      "937:\tlearn: 1265.4016307\ttest: 1452.0510385\tbest: 1452.0510385 (937)\ttotal: 1m 32s\tremaining: 6.14s\n",
      "938:\tlearn: 1265.2004297\ttest: 1451.9903389\tbest: 1451.9903389 (938)\ttotal: 1m 32s\tremaining: 6.04s\n",
      "939:\tlearn: 1265.0295589\ttest: 1451.9849195\tbest: 1451.9849195 (939)\ttotal: 1m 33s\tremaining: 5.94s\n",
      "940:\tlearn: 1264.8903942\ttest: 1451.9823404\tbest: 1451.9823404 (940)\ttotal: 1m 33s\tremaining: 5.84s\n",
      "941:\tlearn: 1264.6571924\ttest: 1452.0020821\tbest: 1451.9823404 (940)\ttotal: 1m 33s\tremaining: 5.74s\n",
      "942:\tlearn: 1264.4465969\ttest: 1451.9614284\tbest: 1451.9614284 (942)\ttotal: 1m 33s\tremaining: 5.64s\n",
      "943:\tlearn: 1264.3653260\ttest: 1451.9698109\tbest: 1451.9614284 (942)\ttotal: 1m 33s\tremaining: 5.54s\n",
      "944:\tlearn: 1264.1236077\ttest: 1451.9241844\tbest: 1451.9241844 (944)\ttotal: 1m 33s\tremaining: 5.44s\n",
      "945:\tlearn: 1263.9564016\ttest: 1451.8723126\tbest: 1451.8723126 (945)\ttotal: 1m 33s\tremaining: 5.35s\n",
      "946:\tlearn: 1263.7126838\ttest: 1451.8155835\tbest: 1451.8155835 (946)\ttotal: 1m 33s\tremaining: 5.25s\n",
      "947:\tlearn: 1263.6051708\ttest: 1451.7966470\tbest: 1451.7966470 (947)\ttotal: 1m 33s\tremaining: 5.15s\n",
      "948:\tlearn: 1263.5203152\ttest: 1451.8294879\tbest: 1451.7966470 (947)\ttotal: 1m 33s\tremaining: 5.05s\n",
      "949:\tlearn: 1263.4306796\ttest: 1451.7987610\tbest: 1451.7966470 (947)\ttotal: 1m 34s\tremaining: 4.95s\n",
      "950:\tlearn: 1263.2135903\ttest: 1451.7330401\tbest: 1451.7330401 (950)\ttotal: 1m 34s\tremaining: 4.85s\n",
      "951:\tlearn: 1263.1037985\ttest: 1451.7041539\tbest: 1451.7041539 (951)\ttotal: 1m 34s\tremaining: 4.75s\n",
      "952:\tlearn: 1263.0034110\ttest: 1451.7126275\tbest: 1451.7041539 (951)\ttotal: 1m 34s\tremaining: 4.65s\n",
      "953:\tlearn: 1262.8809441\ttest: 1451.6933491\tbest: 1451.6933491 (953)\ttotal: 1m 34s\tremaining: 4.55s\n",
      "954:\tlearn: 1262.5737235\ttest: 1451.6227215\tbest: 1451.6227215 (954)\ttotal: 1m 34s\tremaining: 4.46s\n",
      "955:\tlearn: 1262.5517110\ttest: 1451.6308760\tbest: 1451.6227215 (954)\ttotal: 1m 34s\tremaining: 4.36s\n",
      "956:\tlearn: 1262.3898774\ttest: 1451.5690106\tbest: 1451.5690106 (956)\ttotal: 1m 34s\tremaining: 4.26s\n",
      "957:\tlearn: 1262.2902087\ttest: 1451.5401344\tbest: 1451.5401344 (957)\ttotal: 1m 34s\tremaining: 4.16s\n",
      "958:\tlearn: 1262.1999909\ttest: 1451.5495513\tbest: 1451.5401344 (957)\ttotal: 1m 34s\tremaining: 4.06s\n",
      "959:\tlearn: 1262.1123694\ttest: 1451.5193415\tbest: 1451.5193415 (959)\ttotal: 1m 35s\tremaining: 3.96s\n",
      "960:\tlearn: 1261.9768932\ttest: 1451.4986696\tbest: 1451.4986696 (960)\ttotal: 1m 35s\tremaining: 3.86s\n",
      "961:\tlearn: 1261.8258964\ttest: 1451.4495650\tbest: 1451.4495650 (961)\ttotal: 1m 35s\tremaining: 3.76s\n",
      "962:\tlearn: 1261.6207711\ttest: 1451.4160537\tbest: 1451.4160537 (962)\ttotal: 1m 35s\tremaining: 3.66s\n",
      "963:\tlearn: 1261.4974494\ttest: 1451.3996635\tbest: 1451.3996635 (963)\ttotal: 1m 35s\tremaining: 3.56s\n",
      "964:\tlearn: 1261.3056187\ttest: 1451.3235654\tbest: 1451.3235654 (964)\ttotal: 1m 35s\tremaining: 3.46s\n",
      "965:\tlearn: 1261.2958099\ttest: 1451.3259946\tbest: 1451.3235654 (964)\ttotal: 1m 35s\tremaining: 3.37s\n",
      "966:\tlearn: 1261.1855715\ttest: 1451.2776462\tbest: 1451.2776462 (966)\ttotal: 1m 35s\tremaining: 3.27s\n",
      "967:\tlearn: 1261.0654069\ttest: 1451.2666790\tbest: 1451.2666790 (967)\ttotal: 1m 35s\tremaining: 3.17s\n",
      "968:\tlearn: 1260.9096481\ttest: 1451.2548772\tbest: 1451.2548772 (968)\ttotal: 1m 35s\tremaining: 3.07s\n",
      "969:\tlearn: 1260.6448689\ttest: 1451.1994491\tbest: 1451.1994491 (969)\ttotal: 1m 36s\tremaining: 2.97s\n",
      "970:\tlearn: 1260.4983808\ttest: 1451.1805809\tbest: 1451.1805809 (970)\ttotal: 1m 36s\tremaining: 2.87s\n",
      "971:\tlearn: 1260.2785489\ttest: 1451.1287587\tbest: 1451.1287587 (971)\ttotal: 1m 36s\tremaining: 2.77s\n",
      "972:\tlearn: 1260.0304116\ttest: 1451.0464910\tbest: 1451.0464910 (972)\ttotal: 1m 36s\tremaining: 2.67s\n",
      "973:\tlearn: 1259.8916637\ttest: 1451.0485420\tbest: 1451.0464910 (972)\ttotal: 1m 36s\tremaining: 2.57s\n",
      "974:\tlearn: 1259.7487635\ttest: 1451.0242678\tbest: 1451.0242678 (974)\ttotal: 1m 36s\tremaining: 2.47s\n",
      "975:\tlearn: 1259.6830055\ttest: 1451.0364398\tbest: 1451.0242678 (974)\ttotal: 1m 36s\tremaining: 2.38s\n",
      "976:\tlearn: 1259.4794963\ttest: 1451.0297471\tbest: 1451.0242678 (974)\ttotal: 1m 36s\tremaining: 2.28s\n",
      "977:\tlearn: 1259.1507950\ttest: 1450.9634169\tbest: 1450.9634169 (977)\ttotal: 1m 36s\tremaining: 2.18s\n",
      "978:\tlearn: 1258.8733532\ttest: 1450.9077553\tbest: 1450.9077553 (978)\ttotal: 1m 36s\tremaining: 2.08s\n",
      "979:\tlearn: 1258.8193185\ttest: 1450.9004908\tbest: 1450.9004908 (979)\ttotal: 1m 37s\tremaining: 1.98s\n",
      "980:\tlearn: 1258.5433176\ttest: 1450.8632776\tbest: 1450.8632776 (980)\ttotal: 1m 37s\tremaining: 1.88s\n",
      "981:\tlearn: 1258.4473119\ttest: 1450.8336287\tbest: 1450.8336287 (981)\ttotal: 1m 37s\tremaining: 1.78s\n",
      "982:\tlearn: 1258.2833360\ttest: 1450.8297674\tbest: 1450.8297674 (982)\ttotal: 1m 37s\tremaining: 1.68s\n",
      "983:\tlearn: 1258.1410122\ttest: 1450.7956175\tbest: 1450.7956175 (983)\ttotal: 1m 37s\tremaining: 1.58s\n",
      "984:\tlearn: 1258.1206943\ttest: 1450.7866789\tbest: 1450.7866789 (984)\ttotal: 1m 37s\tremaining: 1.48s\n",
      "985:\tlearn: 1257.9149667\ttest: 1450.7551991\tbest: 1450.7551991 (985)\ttotal: 1m 37s\tremaining: 1.39s\n",
      "986:\tlearn: 1257.8367240\ttest: 1450.7692990\tbest: 1450.7551991 (985)\ttotal: 1m 37s\tremaining: 1.29s\n",
      "987:\tlearn: 1257.8150904\ttest: 1450.7700455\tbest: 1450.7551991 (985)\ttotal: 1m 37s\tremaining: 1.19s\n",
      "988:\tlearn: 1257.7286191\ttest: 1450.7474093\tbest: 1450.7474093 (988)\ttotal: 1m 37s\tremaining: 1.09s\n",
      "989:\tlearn: 1257.6091728\ttest: 1450.7033411\tbest: 1450.7033411 (989)\ttotal: 1m 38s\tremaining: 990ms\n",
      "990:\tlearn: 1257.4591048\ttest: 1450.6800861\tbest: 1450.6800861 (990)\ttotal: 1m 38s\tremaining: 891ms\n",
      "991:\tlearn: 1257.2575133\ttest: 1450.6274535\tbest: 1450.6274535 (991)\ttotal: 1m 38s\tremaining: 792ms\n",
      "992:\tlearn: 1257.1167694\ttest: 1450.6088727\tbest: 1450.6088727 (992)\ttotal: 1m 38s\tremaining: 693ms\n",
      "993:\tlearn: 1256.8390909\ttest: 1450.5448972\tbest: 1450.5448972 (993)\ttotal: 1m 38s\tremaining: 594ms\n",
      "994:\tlearn: 1256.7285188\ttest: 1450.5387816\tbest: 1450.5387816 (994)\ttotal: 1m 38s\tremaining: 495ms\n",
      "995:\tlearn: 1256.6261771\ttest: 1450.5172862\tbest: 1450.5172862 (995)\ttotal: 1m 38s\tremaining: 396ms\n",
      "996:\tlearn: 1256.5072339\ttest: 1450.5252157\tbest: 1450.5172862 (995)\ttotal: 1m 38s\tremaining: 297ms\n",
      "997:\tlearn: 1256.3788234\ttest: 1450.4883606\tbest: 1450.4883606 (997)\ttotal: 1m 38s\tremaining: 198ms\n",
      "998:\tlearn: 1256.2987858\ttest: 1450.4672281\tbest: 1450.4672281 (998)\ttotal: 1m 38s\tremaining: 99ms\n",
      "999:\tlearn: 1256.2527303\ttest: 1450.4481070\tbest: 1450.4481070 (999)\ttotal: 1m 39s\tremaining: 0us\n",
      "\n",
      "bestTest = 1450.448107\n",
      "bestIteration = 999\n",
      "\n",
      "Training on fold [1/2]\n",
      "0:\tlearn: 4625.1396222\ttest: 4594.7778898\tbest: 4594.7778898 (0)\ttotal: 104ms\tremaining: 1m 44s\n",
      "1:\tlearn: 4258.5038219\ttest: 4230.7798125\tbest: 4230.7798125 (1)\ttotal: 205ms\tremaining: 1m 42s\n",
      "2:\tlearn: 3939.2258590\ttest: 3914.2982100\tbest: 3914.2982100 (2)\ttotal: 301ms\tremaining: 1m 40s\n",
      "3:\tlearn: 3652.1346584\ttest: 3629.3657717\tbest: 3629.3657717 (3)\ttotal: 403ms\tremaining: 1m 40s\n",
      "4:\tlearn: 3397.2905439\ttest: 3377.6155221\tbest: 3377.6155221 (4)\ttotal: 500ms\tremaining: 1m 39s\n",
      "5:\tlearn: 3172.8152337\ttest: 3155.5756764\tbest: 3155.5756764 (5)\ttotal: 599ms\tremaining: 1m 39s\n",
      "6:\tlearn: 2976.1233907\ttest: 2961.3303856\tbest: 2961.3303856 (6)\ttotal: 703ms\tremaining: 1m 39s\n",
      "7:\tlearn: 2806.5504422\ttest: 2794.2048253\tbest: 2794.2048253 (7)\ttotal: 799ms\tremaining: 1m 39s\n",
      "8:\tlearn: 2654.8978638\ttest: 2644.1398795\tbest: 2644.1398795 (8)\ttotal: 901ms\tremaining: 1m 39s\n",
      "9:\tlearn: 2522.5997771\ttest: 2513.3766385\tbest: 2513.3766385 (9)\ttotal: 1s\tremaining: 1m 39s\n",
      "10:\tlearn: 2409.5938298\ttest: 2402.0830449\tbest: 2402.0830449 (10)\ttotal: 1.1s\tremaining: 1m 39s\n",
      "11:\tlearn: 2310.6599886\ttest: 2304.6625890\tbest: 2304.6625890 (11)\ttotal: 1.2s\tremaining: 1m 39s\n",
      "12:\tlearn: 2224.2192901\ttest: 2219.8357401\tbest: 2219.8357401 (12)\ttotal: 1.3s\tremaining: 1m 38s\n",
      "13:\tlearn: 2149.3355886\ttest: 2146.0885680\tbest: 2146.0885680 (13)\ttotal: 1.4s\tremaining: 1m 38s\n",
      "14:\tlearn: 2084.3398503\ttest: 2082.0344805\tbest: 2082.0344805 (14)\ttotal: 1.5s\tremaining: 1m 38s\n",
      "15:\tlearn: 2025.8977576\ttest: 2024.9122395\tbest: 2024.9122395 (15)\ttotal: 1.59s\tremaining: 1m 38s\n",
      "16:\tlearn: 1976.5762737\ttest: 1976.7203066\tbest: 1976.7203066 (16)\ttotal: 1.69s\tremaining: 1m 37s\n",
      "17:\tlearn: 1934.6371330\ttest: 1935.7690411\tbest: 1935.7690411 (17)\ttotal: 1.79s\tremaining: 1m 37s\n",
      "18:\tlearn: 1899.3937194\ttest: 1901.1161352\tbest: 1901.1161352 (18)\ttotal: 1.89s\tremaining: 1m 37s\n",
      "19:\tlearn: 1868.4297252\ttest: 1871.0481984\tbest: 1871.0481984 (19)\ttotal: 1.98s\tremaining: 1m 37s\n",
      "20:\tlearn: 1839.8697932\ttest: 1844.0001780\tbest: 1844.0001780 (20)\ttotal: 2.08s\tremaining: 1m 37s\n",
      "21:\tlearn: 1814.5461297\ttest: 1819.6238197\tbest: 1819.6238197 (21)\ttotal: 2.18s\tremaining: 1m 36s\n",
      "22:\tlearn: 1792.1272333\ttest: 1798.1888659\tbest: 1798.1888659 (22)\ttotal: 2.27s\tremaining: 1m 36s\n",
      "23:\tlearn: 1772.1423211\ttest: 1778.9972694\tbest: 1778.9972694 (23)\ttotal: 2.38s\tremaining: 1m 36s\n",
      "24:\tlearn: 1752.6325900\ttest: 1760.0310564\tbest: 1760.0310564 (24)\ttotal: 2.47s\tremaining: 1m 36s\n",
      "25:\tlearn: 1737.6971719\ttest: 1746.1387657\tbest: 1746.1387657 (25)\ttotal: 2.57s\tremaining: 1m 36s\n",
      "26:\tlearn: 1722.3315155\ttest: 1731.2820346\tbest: 1731.2820346 (26)\ttotal: 2.66s\tremaining: 1m 36s\n",
      "27:\tlearn: 1710.7558815\ttest: 1720.8285791\tbest: 1720.8285791 (27)\ttotal: 2.76s\tremaining: 1m 35s\n",
      "28:\tlearn: 1699.6668300\ttest: 1710.5440593\tbest: 1710.5440593 (28)\ttotal: 2.86s\tremaining: 1m 35s\n",
      "29:\tlearn: 1689.2576608\ttest: 1700.6799993\tbest: 1700.6799993 (29)\ttotal: 2.96s\tremaining: 1m 35s\n",
      "30:\tlearn: 1680.2728240\ttest: 1692.3608622\tbest: 1692.3608622 (30)\ttotal: 3.06s\tremaining: 1m 35s\n",
      "31:\tlearn: 1672.9960298\ttest: 1685.5932307\tbest: 1685.5932307 (31)\ttotal: 3.16s\tremaining: 1m 35s\n",
      "32:\tlearn: 1665.2921938\ttest: 1678.5260638\tbest: 1678.5260638 (32)\ttotal: 3.27s\tremaining: 1m 35s\n",
      "33:\tlearn: 1658.9764286\ttest: 1673.0397806\tbest: 1673.0397806 (33)\ttotal: 3.37s\tremaining: 1m 35s\n",
      "34:\tlearn: 1652.4385397\ttest: 1667.5597223\tbest: 1667.5597223 (34)\ttotal: 3.47s\tremaining: 1m 35s\n",
      "35:\tlearn: 1646.7139357\ttest: 1662.5512059\tbest: 1662.5512059 (35)\ttotal: 3.56s\tremaining: 1m 35s\n",
      "36:\tlearn: 1641.5709347\ttest: 1657.7991165\tbest: 1657.7991165 (36)\ttotal: 3.67s\tremaining: 1m 35s\n",
      "37:\tlearn: 1636.4682561\ttest: 1653.1497274\tbest: 1653.1497274 (37)\ttotal: 3.76s\tremaining: 1m 35s\n",
      "38:\tlearn: 1631.5814156\ttest: 1648.5943246\tbest: 1648.5943246 (38)\ttotal: 3.86s\tremaining: 1m 35s\n",
      "39:\tlearn: 1628.4748767\ttest: 1645.6413578\tbest: 1645.6413578 (39)\ttotal: 3.96s\tremaining: 1m 35s\n",
      "40:\tlearn: 1625.5810119\ttest: 1643.0041059\tbest: 1643.0041059 (40)\ttotal: 4.06s\tremaining: 1m 34s\n",
      "41:\tlearn: 1622.1776943\ttest: 1640.3982319\tbest: 1640.3982319 (41)\ttotal: 4.15s\tremaining: 1m 34s\n",
      "42:\tlearn: 1618.5027632\ttest: 1636.9847008\tbest: 1636.9847008 (42)\ttotal: 4.25s\tremaining: 1m 34s\n",
      "43:\tlearn: 1615.2052742\ttest: 1633.9497083\tbest: 1633.9497083 (43)\ttotal: 4.35s\tremaining: 1m 34s\n",
      "44:\tlearn: 1611.9794184\ttest: 1631.2233065\tbest: 1631.2233065 (44)\ttotal: 4.44s\tremaining: 1m 34s\n",
      "45:\tlearn: 1609.1739779\ttest: 1628.9969136\tbest: 1628.9969136 (45)\ttotal: 4.54s\tremaining: 1m 34s\n",
      "46:\tlearn: 1606.3704783\ttest: 1626.6296879\tbest: 1626.6296879 (46)\ttotal: 4.63s\tremaining: 1m 33s\n",
      "47:\tlearn: 1603.5202452\ttest: 1624.0347493\tbest: 1624.0347493 (47)\ttotal: 4.73s\tremaining: 1m 33s\n",
      "48:\tlearn: 1601.6502954\ttest: 1622.3197064\tbest: 1622.3197064 (48)\ttotal: 4.83s\tremaining: 1m 33s\n",
      "49:\tlearn: 1598.7221951\ttest: 1619.7081322\tbest: 1619.7081322 (49)\ttotal: 4.92s\tremaining: 1m 33s\n",
      "50:\tlearn: 1595.4585608\ttest: 1616.5931598\tbest: 1616.5931598 (50)\ttotal: 5.01s\tremaining: 1m 33s\n",
      "51:\tlearn: 1592.7313476\ttest: 1614.1665848\tbest: 1614.1665848 (51)\ttotal: 5.11s\tremaining: 1m 33s\n",
      "52:\tlearn: 1589.4985967\ttest: 1611.6240053\tbest: 1611.6240053 (52)\ttotal: 5.2s\tremaining: 1m 33s\n",
      "53:\tlearn: 1586.7491657\ttest: 1608.9516565\tbest: 1608.9516565 (53)\ttotal: 5.3s\tremaining: 1m 32s\n",
      "54:\tlearn: 1584.6695417\ttest: 1607.1374590\tbest: 1607.1374590 (54)\ttotal: 5.39s\tremaining: 1m 32s\n",
      "55:\tlearn: 1583.2072940\ttest: 1605.8507526\tbest: 1605.8507526 (55)\ttotal: 5.49s\tremaining: 1m 32s\n",
      "56:\tlearn: 1581.1790241\ttest: 1603.9811122\tbest: 1603.9811122 (56)\ttotal: 5.59s\tremaining: 1m 32s\n",
      "57:\tlearn: 1578.4542125\ttest: 1601.7248999\tbest: 1601.7248999 (57)\ttotal: 5.69s\tremaining: 1m 32s\n",
      "58:\tlearn: 1576.8530097\ttest: 1600.2105972\tbest: 1600.2105972 (58)\ttotal: 5.79s\tremaining: 1m 32s\n",
      "59:\tlearn: 1574.5740489\ttest: 1598.5231303\tbest: 1598.5231303 (59)\ttotal: 5.88s\tremaining: 1m 32s\n",
      "60:\tlearn: 1573.1840240\ttest: 1597.3639837\tbest: 1597.3639837 (60)\ttotal: 5.98s\tremaining: 1m 32s\n",
      "61:\tlearn: 1571.5819046\ttest: 1596.0205142\tbest: 1596.0205142 (61)\ttotal: 6.08s\tremaining: 1m 32s\n",
      "62:\tlearn: 1569.4399487\ttest: 1594.1151103\tbest: 1594.1151103 (62)\ttotal: 6.18s\tremaining: 1m 31s\n",
      "63:\tlearn: 1567.3291142\ttest: 1592.0852383\tbest: 1592.0852383 (63)\ttotal: 6.29s\tremaining: 1m 31s\n",
      "64:\tlearn: 1565.7596072\ttest: 1591.1581052\tbest: 1591.1581052 (64)\ttotal: 6.39s\tremaining: 1m 31s\n",
      "65:\tlearn: 1564.2135235\ttest: 1589.9791808\tbest: 1589.9791808 (65)\ttotal: 6.49s\tremaining: 1m 31s\n",
      "66:\tlearn: 1562.8291801\ttest: 1588.8411925\tbest: 1588.8411925 (66)\ttotal: 6.59s\tremaining: 1m 31s\n",
      "67:\tlearn: 1561.6658126\ttest: 1587.8654109\tbest: 1587.8654109 (67)\ttotal: 6.69s\tremaining: 1m 31s\n",
      "68:\tlearn: 1560.0960336\ttest: 1586.6917200\tbest: 1586.6917200 (68)\ttotal: 6.79s\tremaining: 1m 31s\n",
      "69:\tlearn: 1558.6391113\ttest: 1585.4030935\tbest: 1585.4030935 (69)\ttotal: 6.89s\tremaining: 1m 31s\n",
      "70:\tlearn: 1557.3268166\ttest: 1584.4409706\tbest: 1584.4409706 (70)\ttotal: 6.99s\tremaining: 1m 31s\n",
      "71:\tlearn: 1556.0276147\ttest: 1583.2225653\tbest: 1583.2225653 (71)\ttotal: 7.09s\tremaining: 1m 31s\n",
      "72:\tlearn: 1554.7950018\ttest: 1582.1406833\tbest: 1582.1406833 (72)\ttotal: 7.18s\tremaining: 1m 31s\n",
      "73:\tlearn: 1553.5278340\ttest: 1581.0158370\tbest: 1581.0158370 (73)\ttotal: 7.28s\tremaining: 1m 31s\n",
      "74:\tlearn: 1551.5071810\ttest: 1579.3580712\tbest: 1579.3580712 (74)\ttotal: 7.38s\tremaining: 1m 31s\n",
      "75:\tlearn: 1550.1057693\ttest: 1578.2273960\tbest: 1578.2273960 (75)\ttotal: 7.47s\tremaining: 1m 30s\n",
      "76:\tlearn: 1548.5843465\ttest: 1576.9361976\tbest: 1576.9361976 (76)\ttotal: 7.58s\tremaining: 1m 30s\n",
      "77:\tlearn: 1546.7534162\ttest: 1575.2661182\tbest: 1575.2661182 (77)\ttotal: 7.68s\tremaining: 1m 30s\n",
      "78:\tlearn: 1545.6354457\ttest: 1574.3972046\tbest: 1574.3972046 (78)\ttotal: 7.77s\tremaining: 1m 30s\n",
      "79:\tlearn: 1544.1674055\ttest: 1573.1385686\tbest: 1573.1385686 (79)\ttotal: 7.87s\tremaining: 1m 30s\n",
      "80:\tlearn: 1542.8479119\ttest: 1572.0954541\tbest: 1572.0954541 (80)\ttotal: 7.97s\tremaining: 1m 30s\n",
      "81:\tlearn: 1541.7092989\ttest: 1571.2297582\tbest: 1571.2297582 (81)\ttotal: 8.07s\tremaining: 1m 30s\n",
      "82:\tlearn: 1539.7861293\ttest: 1570.0617341\tbest: 1570.0617341 (82)\ttotal: 8.16s\tremaining: 1m 30s\n",
      "83:\tlearn: 1538.8625126\ttest: 1569.3803826\tbest: 1569.3803826 (83)\ttotal: 8.27s\tremaining: 1m 30s\n",
      "84:\tlearn: 1538.1377789\ttest: 1568.7912393\tbest: 1568.7912393 (84)\ttotal: 8.36s\tremaining: 1m 30s\n",
      "85:\tlearn: 1536.7840207\ttest: 1568.0719489\tbest: 1568.0719489 (85)\ttotal: 8.46s\tremaining: 1m 29s\n",
      "86:\tlearn: 1535.4844370\ttest: 1566.9986809\tbest: 1566.9986809 (86)\ttotal: 8.56s\tremaining: 1m 29s\n",
      "87:\tlearn: 1534.6826226\ttest: 1566.2694585\tbest: 1566.2694585 (87)\ttotal: 8.65s\tremaining: 1m 29s\n",
      "88:\tlearn: 1533.4757763\ttest: 1565.3199515\tbest: 1565.3199515 (88)\ttotal: 8.75s\tremaining: 1m 29s\n",
      "89:\tlearn: 1532.6445791\ttest: 1564.6852030\tbest: 1564.6852030 (89)\ttotal: 8.85s\tremaining: 1m 29s\n",
      "90:\tlearn: 1531.9325313\ttest: 1564.1143705\tbest: 1564.1143705 (90)\ttotal: 8.94s\tremaining: 1m 29s\n",
      "91:\tlearn: 1530.7987715\ttest: 1563.2207596\tbest: 1563.2207596 (91)\ttotal: 9.04s\tremaining: 1m 29s\n",
      "92:\tlearn: 1529.7303932\ttest: 1562.2697636\tbest: 1562.2697636 (92)\ttotal: 9.14s\tremaining: 1m 29s\n",
      "93:\tlearn: 1528.3647758\ttest: 1561.3520332\tbest: 1561.3520332 (93)\ttotal: 9.23s\tremaining: 1m 28s\n",
      "94:\tlearn: 1527.5152036\ttest: 1560.7072388\tbest: 1560.7072388 (94)\ttotal: 9.33s\tremaining: 1m 28s\n",
      "95:\tlearn: 1526.0181484\ttest: 1559.7979095\tbest: 1559.7979095 (95)\ttotal: 9.43s\tremaining: 1m 28s\n",
      "96:\tlearn: 1524.9697110\ttest: 1559.0257502\tbest: 1559.0257502 (96)\ttotal: 9.53s\tremaining: 1m 28s\n",
      "97:\tlearn: 1524.1406342\ttest: 1558.4581477\tbest: 1558.4581477 (97)\ttotal: 9.62s\tremaining: 1m 28s\n",
      "98:\tlearn: 1523.3937737\ttest: 1557.8152466\tbest: 1557.8152466 (98)\ttotal: 9.72s\tremaining: 1m 28s\n",
      "99:\tlearn: 1522.3556452\ttest: 1557.0957691\tbest: 1557.0957691 (99)\ttotal: 9.83s\tremaining: 1m 28s\n",
      "100:\tlearn: 1521.6043880\ttest: 1556.5656252\tbest: 1556.5656252 (100)\ttotal: 9.93s\tremaining: 1m 28s\n",
      "101:\tlearn: 1520.8407168\ttest: 1556.0479454\tbest: 1556.0479454 (101)\ttotal: 10s\tremaining: 1m 28s\n",
      "102:\tlearn: 1519.8278476\ttest: 1555.2899419\tbest: 1555.2899419 (102)\ttotal: 10.1s\tremaining: 1m 28s\n",
      "103:\tlearn: 1518.9162019\ttest: 1554.5775461\tbest: 1554.5775461 (103)\ttotal: 10.2s\tremaining: 1m 28s\n",
      "104:\tlearn: 1517.5104345\ttest: 1553.6450359\tbest: 1553.6450359 (104)\ttotal: 10.3s\tremaining: 1m 28s\n",
      "105:\tlearn: 1516.3265837\ttest: 1552.9368067\tbest: 1552.9368067 (105)\ttotal: 10.4s\tremaining: 1m 28s\n",
      "106:\tlearn: 1515.2094538\ttest: 1552.0944362\tbest: 1552.0944362 (106)\ttotal: 10.5s\tremaining: 1m 27s\n",
      "107:\tlearn: 1514.2088329\ttest: 1551.5591554\tbest: 1551.5591554 (107)\ttotal: 10.6s\tremaining: 1m 27s\n",
      "108:\tlearn: 1513.5345244\ttest: 1550.9551038\tbest: 1550.9551038 (108)\ttotal: 10.7s\tremaining: 1m 27s\n",
      "109:\tlearn: 1512.7721761\ttest: 1550.5134342\tbest: 1550.5134342 (109)\ttotal: 10.8s\tremaining: 1m 27s\n",
      "110:\tlearn: 1511.9680972\ttest: 1549.7909879\tbest: 1549.7909879 (110)\ttotal: 10.9s\tremaining: 1m 27s\n",
      "111:\tlearn: 1510.8059272\ttest: 1548.8327620\tbest: 1548.8327620 (111)\ttotal: 11s\tremaining: 1m 27s\n",
      "112:\tlearn: 1510.0010903\ttest: 1548.3064020\tbest: 1548.3064020 (112)\ttotal: 11.1s\tremaining: 1m 27s\n",
      "113:\tlearn: 1509.2946744\ttest: 1548.0370726\tbest: 1548.0370726 (113)\ttotal: 11.2s\tremaining: 1m 27s\n",
      "114:\tlearn: 1508.1190069\ttest: 1547.2320312\tbest: 1547.2320312 (114)\ttotal: 11.3s\tremaining: 1m 27s\n",
      "115:\tlearn: 1507.5413262\ttest: 1546.6709968\tbest: 1546.6709968 (115)\ttotal: 11.4s\tremaining: 1m 27s\n",
      "116:\tlearn: 1506.9198074\ttest: 1546.2363842\tbest: 1546.2363842 (116)\ttotal: 11.5s\tremaining: 1m 26s\n",
      "117:\tlearn: 1505.6010053\ttest: 1545.2795266\tbest: 1545.2795266 (117)\ttotal: 11.7s\tremaining: 1m 27s\n",
      "118:\tlearn: 1504.8902376\ttest: 1544.9990192\tbest: 1544.9990192 (118)\ttotal: 11.8s\tremaining: 1m 27s\n",
      "119:\tlearn: 1504.2824651\ttest: 1544.5252785\tbest: 1544.5252785 (119)\ttotal: 11.9s\tremaining: 1m 27s\n",
      "120:\tlearn: 1503.6949887\ttest: 1544.0845203\tbest: 1544.0845203 (120)\ttotal: 12s\tremaining: 1m 26s\n",
      "121:\tlearn: 1502.7483601\ttest: 1543.3714716\tbest: 1543.3714716 (121)\ttotal: 12.1s\tremaining: 1m 26s\n",
      "122:\tlearn: 1501.9721484\ttest: 1542.8483595\tbest: 1542.8483595 (122)\ttotal: 12.2s\tremaining: 1m 26s\n",
      "123:\tlearn: 1501.1579884\ttest: 1542.2024923\tbest: 1542.2024923 (123)\ttotal: 12.3s\tremaining: 1m 26s\n",
      "124:\tlearn: 1500.2980951\ttest: 1541.6359988\tbest: 1541.6359988 (124)\ttotal: 12.4s\tremaining: 1m 26s\n",
      "125:\tlearn: 1499.6904592\ttest: 1541.2600296\tbest: 1541.2600296 (125)\ttotal: 12.5s\tremaining: 1m 26s\n",
      "126:\tlearn: 1498.3618055\ttest: 1540.2045066\tbest: 1540.2045066 (126)\ttotal: 12.6s\tremaining: 1m 26s\n",
      "127:\tlearn: 1497.4570946\ttest: 1539.6220059\tbest: 1539.6220059 (127)\ttotal: 12.7s\tremaining: 1m 26s\n",
      "128:\tlearn: 1496.9602576\ttest: 1539.2311385\tbest: 1539.2311385 (128)\ttotal: 12.8s\tremaining: 1m 26s\n",
      "129:\tlearn: 1496.2874377\ttest: 1538.7390484\tbest: 1538.7390484 (129)\ttotal: 12.9s\tremaining: 1m 26s\n",
      "130:\tlearn: 1495.7540827\ttest: 1538.3070787\tbest: 1538.3070787 (130)\ttotal: 13s\tremaining: 1m 25s\n",
      "131:\tlearn: 1494.8393658\ttest: 1537.6137064\tbest: 1537.6137064 (131)\ttotal: 13.1s\tremaining: 1m 25s\n",
      "132:\tlearn: 1494.2906655\ttest: 1537.3129499\tbest: 1537.3129499 (132)\ttotal: 13.2s\tremaining: 1m 25s\n",
      "133:\tlearn: 1493.2618063\ttest: 1536.6410327\tbest: 1536.6410327 (133)\ttotal: 13.3s\tremaining: 1m 25s\n",
      "134:\tlearn: 1492.5959070\ttest: 1536.1533163\tbest: 1536.1533163 (134)\ttotal: 13.3s\tremaining: 1m 25s\n",
      "135:\tlearn: 1491.9877044\ttest: 1535.9109558\tbest: 1535.9109558 (135)\ttotal: 13.4s\tremaining: 1m 25s\n",
      "136:\tlearn: 1491.5682320\ttest: 1535.5214059\tbest: 1535.5214059 (136)\ttotal: 13.5s\tremaining: 1m 25s\n",
      "137:\tlearn: 1490.9948342\ttest: 1535.2235935\tbest: 1535.2235935 (137)\ttotal: 13.6s\tremaining: 1m 25s\n",
      "138:\tlearn: 1490.3352724\ttest: 1534.7949649\tbest: 1534.7949649 (138)\ttotal: 13.7s\tremaining: 1m 25s\n",
      "139:\tlearn: 1489.4400859\ttest: 1534.1979663\tbest: 1534.1979663 (139)\ttotal: 13.8s\tremaining: 1m 25s\n",
      "140:\tlearn: 1488.7448130\ttest: 1533.6811753\tbest: 1533.6811753 (140)\ttotal: 13.9s\tremaining: 1m 24s\n",
      "141:\tlearn: 1488.1587014\ttest: 1533.1549674\tbest: 1533.1549674 (141)\ttotal: 14s\tremaining: 1m 24s\n",
      "142:\tlearn: 1487.2940038\ttest: 1532.7349395\tbest: 1532.7349395 (142)\ttotal: 14.1s\tremaining: 1m 24s\n",
      "143:\tlearn: 1486.5494626\ttest: 1532.3508248\tbest: 1532.3508248 (143)\ttotal: 14.2s\tremaining: 1m 24s\n",
      "144:\tlearn: 1485.7525261\ttest: 1531.7933593\tbest: 1531.7933593 (144)\ttotal: 14.3s\tremaining: 1m 24s\n",
      "145:\tlearn: 1485.2770506\ttest: 1531.5145834\tbest: 1531.5145834 (145)\ttotal: 14.4s\tremaining: 1m 24s\n",
      "146:\tlearn: 1484.5379550\ttest: 1530.7245985\tbest: 1530.7245985 (146)\ttotal: 14.5s\tremaining: 1m 24s\n",
      "147:\tlearn: 1483.8398603\ttest: 1530.3552709\tbest: 1530.3552709 (147)\ttotal: 14.6s\tremaining: 1m 24s\n",
      "148:\tlearn: 1483.4462991\ttest: 1530.0958459\tbest: 1530.0958459 (148)\ttotal: 14.7s\tremaining: 1m 23s\n",
      "149:\tlearn: 1482.7195306\ttest: 1529.5317715\tbest: 1529.5317715 (149)\ttotal: 14.8s\tremaining: 1m 23s\n",
      "150:\tlearn: 1481.6509076\ttest: 1528.9740333\tbest: 1528.9740333 (150)\ttotal: 14.9s\tremaining: 1m 23s\n",
      "151:\tlearn: 1480.9652474\ttest: 1528.5394902\tbest: 1528.5394902 (151)\ttotal: 15s\tremaining: 1m 23s\n",
      "152:\tlearn: 1479.9923212\ttest: 1527.8966368\tbest: 1527.8966368 (152)\ttotal: 15.1s\tremaining: 1m 23s\n",
      "153:\tlearn: 1479.2424227\ttest: 1527.3157536\tbest: 1527.3157536 (153)\ttotal: 15.2s\tremaining: 1m 23s\n",
      "154:\tlearn: 1478.7352552\ttest: 1526.9123558\tbest: 1526.9123558 (154)\ttotal: 15.3s\tremaining: 1m 23s\n",
      "155:\tlearn: 1478.1256060\ttest: 1526.6984306\tbest: 1526.6984306 (155)\ttotal: 15.4s\tremaining: 1m 23s\n",
      "156:\tlearn: 1477.4389820\ttest: 1526.2385429\tbest: 1526.2385429 (156)\ttotal: 15.5s\tremaining: 1m 23s\n",
      "157:\tlearn: 1476.9315785\ttest: 1525.9194001\tbest: 1525.9194001 (157)\ttotal: 15.6s\tremaining: 1m 23s\n",
      "158:\tlearn: 1476.4241982\ttest: 1525.6374544\tbest: 1525.6374544 (158)\ttotal: 15.7s\tremaining: 1m 22s\n",
      "159:\tlearn: 1475.7678960\ttest: 1525.3315078\tbest: 1525.3315078 (159)\ttotal: 15.8s\tremaining: 1m 22s\n",
      "160:\tlearn: 1475.3781977\ttest: 1525.1271475\tbest: 1525.1271475 (160)\ttotal: 15.9s\tremaining: 1m 22s\n",
      "161:\tlearn: 1474.5723967\ttest: 1524.6015287\tbest: 1524.6015287 (161)\ttotal: 16s\tremaining: 1m 22s\n",
      "162:\tlearn: 1474.1056837\ttest: 1524.4294047\tbest: 1524.4294047 (162)\ttotal: 16.1s\tremaining: 1m 22s\n",
      "163:\tlearn: 1473.4476046\ttest: 1524.0063178\tbest: 1524.0063178 (163)\ttotal: 16.2s\tremaining: 1m 22s\n",
      "164:\tlearn: 1472.7476589\ttest: 1523.6526495\tbest: 1523.6526495 (164)\ttotal: 16.3s\tremaining: 1m 22s\n",
      "165:\tlearn: 1472.2309829\ttest: 1523.4361518\tbest: 1523.4361518 (165)\ttotal: 16.4s\tremaining: 1m 22s\n",
      "166:\tlearn: 1471.7617456\ttest: 1523.1571252\tbest: 1523.1571252 (166)\ttotal: 16.4s\tremaining: 1m 22s\n",
      "167:\tlearn: 1471.1414549\ttest: 1522.7758581\tbest: 1522.7758581 (167)\ttotal: 16.5s\tremaining: 1m 21s\n",
      "168:\tlearn: 1470.6095181\ttest: 1522.3953707\tbest: 1522.3953707 (168)\ttotal: 16.6s\tremaining: 1m 21s\n",
      "169:\tlearn: 1470.2300604\ttest: 1522.0659014\tbest: 1522.0659014 (169)\ttotal: 16.7s\tremaining: 1m 21s\n",
      "170:\tlearn: 1469.6227562\ttest: 1521.8041539\tbest: 1521.8041539 (170)\ttotal: 16.8s\tremaining: 1m 21s\n",
      "171:\tlearn: 1468.7949197\ttest: 1521.4352153\tbest: 1521.4352153 (171)\ttotal: 16.9s\tremaining: 1m 21s\n",
      "172:\tlearn: 1468.0903701\ttest: 1521.0948128\tbest: 1521.0948128 (172)\ttotal: 17s\tremaining: 1m 21s\n",
      "173:\tlearn: 1467.2748913\ttest: 1520.7030938\tbest: 1520.7030938 (173)\ttotal: 17.1s\tremaining: 1m 21s\n",
      "174:\tlearn: 1466.7382334\ttest: 1520.4270441\tbest: 1520.4270441 (174)\ttotal: 17.2s\tremaining: 1m 21s\n",
      "175:\tlearn: 1466.0796072\ttest: 1519.9240786\tbest: 1519.9240786 (175)\ttotal: 17.3s\tremaining: 1m 21s\n",
      "176:\tlearn: 1465.5709360\ttest: 1519.5562728\tbest: 1519.5562728 (176)\ttotal: 17.4s\tremaining: 1m 20s\n",
      "177:\tlearn: 1465.2047228\ttest: 1519.3453948\tbest: 1519.3453948 (177)\ttotal: 17.5s\tremaining: 1m 20s\n",
      "178:\tlearn: 1464.8584669\ttest: 1519.1769911\tbest: 1519.1769911 (178)\ttotal: 17.6s\tremaining: 1m 20s\n",
      "179:\tlearn: 1464.3662840\ttest: 1518.8818748\tbest: 1518.8818748 (179)\ttotal: 17.7s\tremaining: 1m 20s\n",
      "180:\tlearn: 1463.7920480\ttest: 1518.6622848\tbest: 1518.6622848 (180)\ttotal: 17.8s\tremaining: 1m 20s\n",
      "181:\tlearn: 1463.0930818\ttest: 1518.2743401\tbest: 1518.2743401 (181)\ttotal: 17.9s\tremaining: 1m 20s\n",
      "182:\tlearn: 1462.7757935\ttest: 1518.0359423\tbest: 1518.0359423 (182)\ttotal: 18s\tremaining: 1m 20s\n",
      "183:\tlearn: 1462.2629685\ttest: 1517.7460736\tbest: 1517.7460736 (183)\ttotal: 18.1s\tremaining: 1m 20s\n",
      "184:\tlearn: 1461.7378671\ttest: 1517.4925103\tbest: 1517.4925103 (184)\ttotal: 18.2s\tremaining: 1m 19s\n",
      "185:\tlearn: 1461.1524698\ttest: 1517.2538330\tbest: 1517.2538330 (185)\ttotal: 18.3s\tremaining: 1m 19s\n",
      "186:\tlearn: 1460.7819778\ttest: 1517.0670395\tbest: 1517.0670395 (186)\ttotal: 18.4s\tremaining: 1m 19s\n",
      "187:\tlearn: 1460.4000654\ttest: 1516.8990332\tbest: 1516.8990332 (187)\ttotal: 18.4s\tremaining: 1m 19s\n",
      "188:\tlearn: 1459.7328582\ttest: 1516.3445347\tbest: 1516.3445347 (188)\ttotal: 18.5s\tremaining: 1m 19s\n",
      "189:\tlearn: 1459.3585384\ttest: 1516.2371401\tbest: 1516.2371401 (189)\ttotal: 18.6s\tremaining: 1m 19s\n",
      "190:\tlearn: 1458.9420900\ttest: 1515.9842821\tbest: 1515.9842821 (190)\ttotal: 18.7s\tremaining: 1m 19s\n",
      "191:\tlearn: 1458.5946837\ttest: 1515.7684053\tbest: 1515.7684053 (191)\ttotal: 18.8s\tremaining: 1m 19s\n",
      "192:\tlearn: 1457.9330440\ttest: 1515.3909335\tbest: 1515.3909335 (192)\ttotal: 18.9s\tremaining: 1m 19s\n",
      "193:\tlearn: 1457.3846090\ttest: 1515.0826615\tbest: 1515.0826615 (193)\ttotal: 19s\tremaining: 1m 18s\n",
      "194:\tlearn: 1457.0199438\ttest: 1514.9102601\tbest: 1514.9102601 (194)\ttotal: 19.1s\tremaining: 1m 18s\n",
      "195:\tlearn: 1456.1763829\ttest: 1514.5617997\tbest: 1514.5617997 (195)\ttotal: 19.2s\tremaining: 1m 18s\n",
      "196:\tlearn: 1455.5696453\ttest: 1514.1596982\tbest: 1514.1596982 (196)\ttotal: 19.3s\tremaining: 1m 18s\n",
      "197:\tlearn: 1454.6777908\ttest: 1513.4742772\tbest: 1513.4742772 (197)\ttotal: 19.4s\tremaining: 1m 18s\n",
      "198:\tlearn: 1454.2126683\ttest: 1513.1496345\tbest: 1513.1496345 (198)\ttotal: 19.5s\tremaining: 1m 18s\n",
      "199:\tlearn: 1453.7353037\ttest: 1512.8979194\tbest: 1512.8979194 (199)\ttotal: 19.6s\tremaining: 1m 18s\n",
      "200:\tlearn: 1453.4482712\ttest: 1512.7807605\tbest: 1512.7807605 (200)\ttotal: 19.7s\tremaining: 1m 18s\n",
      "201:\tlearn: 1453.1064870\ttest: 1512.6043983\tbest: 1512.6043983 (201)\ttotal: 19.8s\tremaining: 1m 18s\n",
      "202:\tlearn: 1452.7075372\ttest: 1512.5285136\tbest: 1512.5285136 (202)\ttotal: 19.9s\tremaining: 1m 18s\n",
      "203:\tlearn: 1452.0883386\ttest: 1512.3305105\tbest: 1512.3305105 (203)\ttotal: 20s\tremaining: 1m 17s\n",
      "204:\tlearn: 1451.2910095\ttest: 1511.8346153\tbest: 1511.8346153 (204)\ttotal: 20.1s\tremaining: 1m 17s\n",
      "205:\tlearn: 1450.9655168\ttest: 1511.7001374\tbest: 1511.7001374 (205)\ttotal: 20.2s\tremaining: 1m 17s\n",
      "206:\tlearn: 1450.5051416\ttest: 1511.3660973\tbest: 1511.3660973 (206)\ttotal: 20.3s\tremaining: 1m 17s\n",
      "207:\tlearn: 1450.2511167\ttest: 1511.2584110\tbest: 1511.2584110 (207)\ttotal: 20.4s\tremaining: 1m 17s\n",
      "208:\tlearn: 1449.7275708\ttest: 1510.9448952\tbest: 1510.9448952 (208)\ttotal: 20.5s\tremaining: 1m 17s\n",
      "209:\tlearn: 1449.3077873\ttest: 1510.8558164\tbest: 1510.8558164 (209)\ttotal: 20.6s\tremaining: 1m 17s\n",
      "210:\tlearn: 1448.9961778\ttest: 1510.7000169\tbest: 1510.7000169 (210)\ttotal: 20.7s\tremaining: 1m 17s\n",
      "211:\tlearn: 1448.6236877\ttest: 1510.5011669\tbest: 1510.5011669 (211)\ttotal: 20.8s\tremaining: 1m 17s\n",
      "212:\tlearn: 1448.1747682\ttest: 1510.2331031\tbest: 1510.2331031 (212)\ttotal: 20.9s\tremaining: 1m 17s\n",
      "213:\tlearn: 1447.5827090\ttest: 1509.8461840\tbest: 1509.8461840 (213)\ttotal: 21s\tremaining: 1m 16s\n",
      "214:\tlearn: 1447.1898966\ttest: 1509.5858634\tbest: 1509.5858634 (214)\ttotal: 21.1s\tremaining: 1m 17s\n",
      "215:\tlearn: 1446.8055702\ttest: 1509.3851659\tbest: 1509.3851659 (215)\ttotal: 21.2s\tremaining: 1m 17s\n",
      "216:\tlearn: 1446.0472513\ttest: 1509.0849647\tbest: 1509.0849647 (216)\ttotal: 21.3s\tremaining: 1m 17s\n",
      "217:\tlearn: 1445.6923261\ttest: 1508.9565765\tbest: 1508.9565765 (217)\ttotal: 21.4s\tremaining: 1m 16s\n",
      "218:\tlearn: 1445.0268615\ttest: 1508.7459078\tbest: 1508.7459078 (218)\ttotal: 21.5s\tremaining: 1m 16s\n",
      "219:\tlearn: 1444.6584340\ttest: 1508.5719084\tbest: 1508.5719084 (219)\ttotal: 21.6s\tremaining: 1m 16s\n",
      "220:\tlearn: 1444.4354611\ttest: 1508.4867267\tbest: 1508.4867267 (220)\ttotal: 21.7s\tremaining: 1m 16s\n",
      "221:\tlearn: 1443.7658600\ttest: 1508.3267047\tbest: 1508.3267047 (221)\ttotal: 21.8s\tremaining: 1m 16s\n",
      "222:\tlearn: 1443.1823736\ttest: 1507.9663331\tbest: 1507.9663331 (222)\ttotal: 21.9s\tremaining: 1m 16s\n",
      "223:\tlearn: 1442.7016712\ttest: 1507.7222704\tbest: 1507.7222704 (223)\ttotal: 22s\tremaining: 1m 16s\n",
      "224:\tlearn: 1442.0875238\ttest: 1507.3558021\tbest: 1507.3558021 (224)\ttotal: 22.1s\tremaining: 1m 16s\n",
      "225:\tlearn: 1441.7810395\ttest: 1507.2525311\tbest: 1507.2525311 (225)\ttotal: 22.2s\tremaining: 1m 16s\n",
      "226:\tlearn: 1441.4997891\ttest: 1507.1349627\tbest: 1507.1349627 (226)\ttotal: 22.3s\tremaining: 1m 16s\n",
      "227:\tlearn: 1440.8740735\ttest: 1506.7399757\tbest: 1506.7399757 (227)\ttotal: 22.5s\tremaining: 1m 16s\n",
      "228:\tlearn: 1440.4282659\ttest: 1506.4621782\tbest: 1506.4621782 (228)\ttotal: 22.6s\tremaining: 1m 15s\n",
      "229:\tlearn: 1440.1028724\ttest: 1506.2947138\tbest: 1506.2947138 (229)\ttotal: 22.7s\tremaining: 1m 15s\n",
      "230:\tlearn: 1439.7458232\ttest: 1506.0234715\tbest: 1506.0234715 (230)\ttotal: 22.8s\tremaining: 1m 15s\n",
      "231:\tlearn: 1439.3025373\ttest: 1505.9507866\tbest: 1505.9507866 (231)\ttotal: 22.9s\tremaining: 1m 15s\n",
      "232:\tlearn: 1438.9326088\ttest: 1505.7087246\tbest: 1505.7087246 (232)\ttotal: 23s\tremaining: 1m 15s\n",
      "233:\tlearn: 1438.3972287\ttest: 1505.4987682\tbest: 1505.4987682 (233)\ttotal: 23s\tremaining: 1m 15s\n",
      "234:\tlearn: 1437.7899409\ttest: 1505.1469037\tbest: 1505.1469037 (234)\ttotal: 23.1s\tremaining: 1m 15s\n",
      "235:\tlearn: 1437.5437149\ttest: 1505.0670573\tbest: 1505.0670573 (235)\ttotal: 23.3s\tremaining: 1m 15s\n",
      "236:\tlearn: 1437.2803015\ttest: 1505.0010907\tbest: 1505.0010907 (236)\ttotal: 23.3s\tremaining: 1m 15s\n",
      "237:\tlearn: 1436.8312444\ttest: 1504.8272188\tbest: 1504.8272188 (237)\ttotal: 23.4s\tremaining: 1m 15s\n",
      "238:\tlearn: 1436.2380523\ttest: 1504.5443525\tbest: 1504.5443525 (238)\ttotal: 23.5s\tremaining: 1m 14s\n",
      "239:\tlearn: 1435.7946356\ttest: 1504.2630542\tbest: 1504.2630542 (239)\ttotal: 23.6s\tremaining: 1m 14s\n",
      "240:\tlearn: 1435.4024016\ttest: 1503.9707922\tbest: 1503.9707922 (240)\ttotal: 23.7s\tremaining: 1m 14s\n",
      "241:\tlearn: 1435.0997488\ttest: 1503.7086463\tbest: 1503.7086463 (241)\ttotal: 23.8s\tremaining: 1m 14s\n",
      "242:\tlearn: 1434.8032800\ttest: 1503.6364427\tbest: 1503.6364427 (242)\ttotal: 23.9s\tremaining: 1m 14s\n",
      "243:\tlearn: 1434.6047878\ttest: 1503.5941296\tbest: 1503.5941296 (243)\ttotal: 24s\tremaining: 1m 14s\n",
      "244:\tlearn: 1434.1488917\ttest: 1503.3322703\tbest: 1503.3322703 (244)\ttotal: 24.1s\tremaining: 1m 14s\n",
      "245:\tlearn: 1433.7143857\ttest: 1503.0653065\tbest: 1503.0653065 (245)\ttotal: 24.2s\tremaining: 1m 14s\n",
      "246:\tlearn: 1433.1583921\ttest: 1502.6837334\tbest: 1502.6837334 (246)\ttotal: 24.3s\tremaining: 1m 14s\n",
      "247:\tlearn: 1432.8267078\ttest: 1502.5153609\tbest: 1502.5153609 (247)\ttotal: 24.4s\tremaining: 1m 14s\n",
      "248:\tlearn: 1432.4182497\ttest: 1502.1778067\tbest: 1502.1778067 (248)\ttotal: 24.5s\tremaining: 1m 13s\n",
      "249:\tlearn: 1432.1302433\ttest: 1502.0334003\tbest: 1502.0334003 (249)\ttotal: 24.6s\tremaining: 1m 13s\n",
      "250:\tlearn: 1431.5476948\ttest: 1501.7570718\tbest: 1501.7570718 (250)\ttotal: 24.7s\tremaining: 1m 13s\n",
      "251:\tlearn: 1431.1002808\ttest: 1501.6386281\tbest: 1501.6386281 (251)\ttotal: 24.8s\tremaining: 1m 13s\n",
      "252:\tlearn: 1430.7361535\ttest: 1501.4544334\tbest: 1501.4544334 (252)\ttotal: 24.9s\tremaining: 1m 13s\n",
      "253:\tlearn: 1430.0644825\ttest: 1501.2425830\tbest: 1501.2425830 (253)\ttotal: 25s\tremaining: 1m 13s\n",
      "254:\tlearn: 1429.6197699\ttest: 1501.1270392\tbest: 1501.1270392 (254)\ttotal: 25.1s\tremaining: 1m 13s\n",
      "255:\tlearn: 1429.0012742\ttest: 1500.7354498\tbest: 1500.7354498 (255)\ttotal: 25.2s\tremaining: 1m 13s\n",
      "256:\tlearn: 1428.4877176\ttest: 1500.5067555\tbest: 1500.5067555 (256)\ttotal: 25.3s\tremaining: 1m 13s\n",
      "257:\tlearn: 1428.2296807\ttest: 1500.3598444\tbest: 1500.3598444 (257)\ttotal: 25.4s\tremaining: 1m 13s\n",
      "258:\tlearn: 1427.7066747\ttest: 1500.0847896\tbest: 1500.0847896 (258)\ttotal: 25.5s\tremaining: 1m 12s\n",
      "259:\tlearn: 1426.9926154\ttest: 1499.9645154\tbest: 1499.9645154 (259)\ttotal: 25.6s\tremaining: 1m 12s\n",
      "260:\tlearn: 1426.6645662\ttest: 1499.8940550\tbest: 1499.8940550 (260)\ttotal: 25.7s\tremaining: 1m 12s\n",
      "261:\tlearn: 1426.1176801\ttest: 1499.7567253\tbest: 1499.7567253 (261)\ttotal: 25.8s\tremaining: 1m 12s\n",
      "262:\tlearn: 1425.8780062\ttest: 1499.5832425\tbest: 1499.5832425 (262)\ttotal: 25.9s\tremaining: 1m 12s\n",
      "263:\tlearn: 1425.2503750\ttest: 1499.3596875\tbest: 1499.3596875 (263)\ttotal: 26s\tremaining: 1m 12s\n",
      "264:\tlearn: 1424.8302596\ttest: 1499.0748138\tbest: 1499.0748138 (264)\ttotal: 26.1s\tremaining: 1m 12s\n",
      "265:\tlearn: 1424.6953815\ttest: 1498.9665442\tbest: 1498.9665442 (265)\ttotal: 26.2s\tremaining: 1m 12s\n",
      "266:\tlearn: 1424.1208761\ttest: 1498.6414002\tbest: 1498.6414002 (266)\ttotal: 26.3s\tremaining: 1m 12s\n",
      "267:\tlearn: 1423.6863938\ttest: 1498.4673467\tbest: 1498.4673467 (267)\ttotal: 26.4s\tremaining: 1m 12s\n",
      "268:\tlearn: 1423.4278994\ttest: 1498.4057514\tbest: 1498.4057514 (268)\ttotal: 26.5s\tremaining: 1m 11s\n",
      "269:\tlearn: 1423.0375383\ttest: 1498.1409867\tbest: 1498.1409867 (269)\ttotal: 26.6s\tremaining: 1m 11s\n",
      "270:\tlearn: 1422.7406288\ttest: 1498.0425120\tbest: 1498.0425120 (270)\ttotal: 26.7s\tremaining: 1m 11s\n",
      "271:\tlearn: 1422.2390771\ttest: 1497.7447943\tbest: 1497.7447943 (271)\ttotal: 26.8s\tremaining: 1m 11s\n",
      "272:\tlearn: 1421.6315681\ttest: 1497.3280024\tbest: 1497.3280024 (272)\ttotal: 26.9s\tremaining: 1m 11s\n",
      "273:\tlearn: 1421.2502810\ttest: 1497.2428820\tbest: 1497.2428820 (273)\ttotal: 27s\tremaining: 1m 11s\n",
      "274:\tlearn: 1420.6360321\ttest: 1497.0577662\tbest: 1497.0577662 (274)\ttotal: 27.1s\tremaining: 1m 11s\n",
      "275:\tlearn: 1420.2458574\ttest: 1496.9958685\tbest: 1496.9958685 (275)\ttotal: 27.2s\tremaining: 1m 11s\n",
      "276:\tlearn: 1419.9941602\ttest: 1496.9625124\tbest: 1496.9625124 (276)\ttotal: 27.3s\tremaining: 1m 11s\n",
      "277:\tlearn: 1419.7245916\ttest: 1496.9142167\tbest: 1496.9142167 (277)\ttotal: 27.4s\tremaining: 1m 11s\n",
      "278:\tlearn: 1419.3969270\ttest: 1496.7325167\tbest: 1496.7325167 (278)\ttotal: 27.5s\tremaining: 1m 11s\n",
      "279:\tlearn: 1418.8996298\ttest: 1496.4363470\tbest: 1496.4363470 (279)\ttotal: 27.6s\tremaining: 1m 10s\n",
      "280:\tlearn: 1418.4249769\ttest: 1496.2907346\tbest: 1496.2907346 (280)\ttotal: 27.7s\tremaining: 1m 10s\n",
      "281:\tlearn: 1418.1273114\ttest: 1496.0852990\tbest: 1496.0852990 (281)\ttotal: 27.8s\tremaining: 1m 10s\n",
      "282:\tlearn: 1417.8790901\ttest: 1495.9889539\tbest: 1495.9889539 (282)\ttotal: 27.9s\tremaining: 1m 10s\n",
      "283:\tlearn: 1417.2564403\ttest: 1495.7536523\tbest: 1495.7536523 (283)\ttotal: 28s\tremaining: 1m 10s\n",
      "284:\tlearn: 1416.5362101\ttest: 1495.4987414\tbest: 1495.4987414 (284)\ttotal: 28.1s\tremaining: 1m 10s\n",
      "285:\tlearn: 1416.3250670\ttest: 1495.4423600\tbest: 1495.4423600 (285)\ttotal: 28.2s\tremaining: 1m 10s\n",
      "286:\tlearn: 1415.9906462\ttest: 1495.2408345\tbest: 1495.2408345 (286)\ttotal: 28.3s\tremaining: 1m 10s\n",
      "287:\tlearn: 1415.7510748\ttest: 1495.1672195\tbest: 1495.1672195 (287)\ttotal: 28.4s\tremaining: 1m 10s\n",
      "288:\tlearn: 1415.2803428\ttest: 1495.0166037\tbest: 1495.0166037 (288)\ttotal: 28.5s\tremaining: 1m 10s\n",
      "289:\tlearn: 1414.8662434\ttest: 1494.8384166\tbest: 1494.8384166 (289)\ttotal: 28.6s\tremaining: 1m 9s\n",
      "290:\tlearn: 1414.5994264\ttest: 1494.7632457\tbest: 1494.7632457 (290)\ttotal: 28.6s\tremaining: 1m 9s\n",
      "291:\tlearn: 1414.1240135\ttest: 1494.5648028\tbest: 1494.5648028 (291)\ttotal: 28.8s\tremaining: 1m 9s\n",
      "292:\tlearn: 1413.8138816\ttest: 1494.3500402\tbest: 1494.3500402 (292)\ttotal: 28.9s\tremaining: 1m 9s\n",
      "293:\tlearn: 1413.5063934\ttest: 1494.2397970\tbest: 1494.2397970 (293)\ttotal: 29s\tremaining: 1m 9s\n",
      "294:\tlearn: 1413.2576542\ttest: 1494.1366966\tbest: 1494.1366966 (294)\ttotal: 29.1s\tremaining: 1m 9s\n",
      "295:\tlearn: 1412.8261256\ttest: 1493.9353027\tbest: 1493.9353027 (295)\ttotal: 29.2s\tremaining: 1m 9s\n",
      "296:\tlearn: 1412.5732158\ttest: 1493.8223809\tbest: 1493.8223809 (296)\ttotal: 29.3s\tremaining: 1m 9s\n",
      "297:\tlearn: 1412.0695883\ttest: 1493.6940006\tbest: 1493.6940006 (297)\ttotal: 29.4s\tremaining: 1m 9s\n",
      "298:\tlearn: 1411.6773272\ttest: 1493.5618147\tbest: 1493.5618147 (298)\ttotal: 29.5s\tremaining: 1m 9s\n",
      "299:\tlearn: 1411.2999381\ttest: 1493.3790548\tbest: 1493.3790548 (299)\ttotal: 29.6s\tremaining: 1m 8s\n",
      "300:\tlearn: 1411.1068255\ttest: 1493.3303299\tbest: 1493.3303299 (300)\ttotal: 29.7s\tremaining: 1m 8s\n",
      "301:\tlearn: 1410.7171253\ttest: 1493.1124229\tbest: 1493.1124229 (301)\ttotal: 29.8s\tremaining: 1m 8s\n",
      "302:\tlearn: 1410.3687031\ttest: 1492.9462762\tbest: 1492.9462762 (302)\ttotal: 29.8s\tremaining: 1m 8s\n",
      "303:\tlearn: 1409.8491615\ttest: 1492.6331099\tbest: 1492.6331099 (303)\ttotal: 30s\tremaining: 1m 8s\n",
      "304:\tlearn: 1409.4044049\ttest: 1492.4185361\tbest: 1492.4185361 (304)\ttotal: 30s\tremaining: 1m 8s\n",
      "305:\tlearn: 1409.0705928\ttest: 1492.3948852\tbest: 1492.3948852 (305)\ttotal: 30.1s\tremaining: 1m 8s\n",
      "306:\tlearn: 1408.8213698\ttest: 1492.2303036\tbest: 1492.2303036 (306)\ttotal: 30.2s\tremaining: 1m 8s\n",
      "307:\tlearn: 1408.6585434\ttest: 1492.1954565\tbest: 1492.1954565 (307)\ttotal: 30.3s\tremaining: 1m 8s\n",
      "308:\tlearn: 1408.4857697\ttest: 1492.1193319\tbest: 1492.1193319 (308)\ttotal: 30.4s\tremaining: 1m 8s\n",
      "309:\tlearn: 1408.1228719\ttest: 1491.9548192\tbest: 1491.9548192 (309)\ttotal: 30.5s\tremaining: 1m 7s\n",
      "310:\tlearn: 1407.8947892\ttest: 1491.7944107\tbest: 1491.7944107 (310)\ttotal: 30.6s\tremaining: 1m 7s\n",
      "311:\tlearn: 1407.4943768\ttest: 1491.4962312\tbest: 1491.4962312 (311)\ttotal: 30.7s\tremaining: 1m 7s\n",
      "312:\tlearn: 1407.1592396\ttest: 1491.3760877\tbest: 1491.3760877 (312)\ttotal: 30.8s\tremaining: 1m 7s\n",
      "313:\tlearn: 1406.8144236\ttest: 1491.1962852\tbest: 1491.1962852 (313)\ttotal: 30.9s\tremaining: 1m 7s\n",
      "314:\tlearn: 1406.5604090\ttest: 1491.1799416\tbest: 1491.1799416 (314)\ttotal: 31s\tremaining: 1m 7s\n",
      "315:\tlearn: 1406.2443598\ttest: 1491.0113867\tbest: 1491.0113867 (315)\ttotal: 31.1s\tremaining: 1m 7s\n",
      "316:\tlearn: 1405.7378358\ttest: 1490.7352620\tbest: 1490.7352620 (316)\ttotal: 31.2s\tremaining: 1m 7s\n",
      "317:\tlearn: 1405.3845265\ttest: 1490.6102447\tbest: 1490.6102447 (317)\ttotal: 31.3s\tremaining: 1m 7s\n",
      "318:\tlearn: 1404.8882659\ttest: 1490.3239994\tbest: 1490.3239994 (318)\ttotal: 31.4s\tremaining: 1m 7s\n",
      "319:\tlearn: 1404.6018757\ttest: 1490.2202060\tbest: 1490.2202060 (319)\ttotal: 31.5s\tremaining: 1m 6s\n",
      "320:\tlearn: 1404.2234574\ttest: 1490.1038820\tbest: 1490.1038820 (320)\ttotal: 31.6s\tremaining: 1m 6s\n",
      "321:\tlearn: 1404.0696830\ttest: 1490.0378194\tbest: 1490.0378194 (321)\ttotal: 31.7s\tremaining: 1m 6s\n",
      "322:\tlearn: 1403.5536364\ttest: 1489.9830953\tbest: 1489.9830953 (322)\ttotal: 31.8s\tremaining: 1m 6s\n",
      "323:\tlearn: 1403.3807086\ttest: 1489.9601381\tbest: 1489.9601381 (323)\ttotal: 31.9s\tremaining: 1m 6s\n",
      "324:\tlearn: 1403.0065416\ttest: 1489.8333266\tbest: 1489.8333266 (324)\ttotal: 32s\tremaining: 1m 6s\n",
      "325:\tlearn: 1402.7615885\ttest: 1489.7902813\tbest: 1489.7902813 (325)\ttotal: 32.1s\tremaining: 1m 6s\n",
      "326:\tlearn: 1402.3551163\ttest: 1489.6605601\tbest: 1489.6605601 (326)\ttotal: 32.2s\tremaining: 1m 6s\n",
      "327:\tlearn: 1402.0669823\ttest: 1489.5586779\tbest: 1489.5586779 (327)\ttotal: 32.3s\tremaining: 1m 6s\n",
      "328:\tlearn: 1401.6187469\ttest: 1489.4298259\tbest: 1489.4298259 (328)\ttotal: 32.4s\tremaining: 1m 6s\n",
      "329:\tlearn: 1401.5165055\ttest: 1489.3969625\tbest: 1489.3969625 (329)\ttotal: 32.5s\tremaining: 1m 5s\n",
      "330:\tlearn: 1401.1380709\ttest: 1489.2055447\tbest: 1489.2055447 (330)\ttotal: 32.6s\tremaining: 1m 5s\n",
      "331:\tlearn: 1400.7680183\ttest: 1489.0738987\tbest: 1489.0738987 (331)\ttotal: 32.7s\tremaining: 1m 5s\n",
      "332:\tlearn: 1400.6049400\ttest: 1489.0499984\tbest: 1489.0499984 (332)\ttotal: 32.8s\tremaining: 1m 5s\n",
      "333:\tlearn: 1400.2596984\ttest: 1488.9699706\tbest: 1488.9699706 (333)\ttotal: 32.9s\tremaining: 1m 5s\n",
      "334:\tlearn: 1399.8944583\ttest: 1488.8799400\tbest: 1488.8799400 (334)\ttotal: 33s\tremaining: 1m 5s\n",
      "335:\tlearn: 1399.6108698\ttest: 1488.7566272\tbest: 1488.7566272 (335)\ttotal: 33.1s\tremaining: 1m 5s\n",
      "336:\tlearn: 1399.4494121\ttest: 1488.6816372\tbest: 1488.6816372 (336)\ttotal: 33.2s\tremaining: 1m 5s\n",
      "337:\tlearn: 1399.0876470\ttest: 1488.5418552\tbest: 1488.5418552 (337)\ttotal: 33.3s\tremaining: 1m 5s\n",
      "338:\tlearn: 1398.5032702\ttest: 1488.3980436\tbest: 1488.3980436 (338)\ttotal: 33.4s\tremaining: 1m 5s\n",
      "339:\tlearn: 1398.0914132\ttest: 1488.2230636\tbest: 1488.2230636 (339)\ttotal: 33.5s\tremaining: 1m 5s\n",
      "340:\tlearn: 1397.7598630\ttest: 1488.0884024\tbest: 1488.0884024 (340)\ttotal: 33.6s\tremaining: 1m 4s\n",
      "341:\tlearn: 1397.3954976\ttest: 1488.0588507\tbest: 1488.0588507 (341)\ttotal: 33.7s\tremaining: 1m 4s\n",
      "342:\tlearn: 1396.8857744\ttest: 1487.8852563\tbest: 1487.8852563 (342)\ttotal: 33.8s\tremaining: 1m 4s\n",
      "343:\tlearn: 1396.4657222\ttest: 1487.7666758\tbest: 1487.7666758 (343)\ttotal: 33.9s\tremaining: 1m 4s\n",
      "344:\tlearn: 1396.2924342\ttest: 1487.7750640\tbest: 1487.7666758 (343)\ttotal: 34s\tremaining: 1m 4s\n",
      "345:\tlearn: 1396.1399844\ttest: 1487.7158404\tbest: 1487.7158404 (345)\ttotal: 34.1s\tremaining: 1m 4s\n",
      "346:\tlearn: 1395.7007917\ttest: 1487.5743658\tbest: 1487.5743658 (346)\ttotal: 34.2s\tremaining: 1m 4s\n",
      "347:\tlearn: 1395.4237938\ttest: 1487.4894986\tbest: 1487.4894986 (347)\ttotal: 34.3s\tremaining: 1m 4s\n",
      "348:\tlearn: 1394.9824292\ttest: 1487.3392909\tbest: 1487.3392909 (348)\ttotal: 34.4s\tremaining: 1m 4s\n",
      "349:\tlearn: 1394.7870851\ttest: 1487.3207771\tbest: 1487.3207771 (349)\ttotal: 34.5s\tremaining: 1m 4s\n",
      "350:\tlearn: 1394.0603017\ttest: 1487.1848034\tbest: 1487.1848034 (350)\ttotal: 34.6s\tremaining: 1m 3s\n",
      "351:\tlearn: 1393.6900596\ttest: 1486.9353649\tbest: 1486.9353649 (351)\ttotal: 34.7s\tremaining: 1m 3s\n",
      "352:\tlearn: 1393.5314972\ttest: 1486.8819135\tbest: 1486.8819135 (352)\ttotal: 34.8s\tremaining: 1m 3s\n",
      "353:\tlearn: 1393.2880683\ttest: 1486.8220661\tbest: 1486.8220661 (353)\ttotal: 34.9s\tremaining: 1m 3s\n",
      "354:\tlearn: 1392.8870755\ttest: 1486.7054467\tbest: 1486.7054467 (354)\ttotal: 35s\tremaining: 1m 3s\n",
      "355:\tlearn: 1392.6040497\ttest: 1486.6109807\tbest: 1486.6109807 (355)\ttotal: 35.1s\tremaining: 1m 3s\n",
      "356:\tlearn: 1392.2872272\ttest: 1486.4735849\tbest: 1486.4735849 (356)\ttotal: 35.2s\tremaining: 1m 3s\n",
      "357:\tlearn: 1392.0175211\ttest: 1486.4237096\tbest: 1486.4237096 (357)\ttotal: 35.3s\tremaining: 1m 3s\n",
      "358:\tlearn: 1391.7349353\ttest: 1486.3332450\tbest: 1486.3332450 (358)\ttotal: 35.4s\tremaining: 1m 3s\n",
      "359:\tlearn: 1391.4148339\ttest: 1486.1415419\tbest: 1486.1415419 (359)\ttotal: 35.5s\tremaining: 1m 3s\n",
      "360:\tlearn: 1391.0026976\ttest: 1485.8915580\tbest: 1485.8915580 (360)\ttotal: 35.6s\tremaining: 1m 2s\n",
      "361:\tlearn: 1390.4636965\ttest: 1485.6901537\tbest: 1485.6901537 (361)\ttotal: 35.7s\tremaining: 1m 2s\n",
      "362:\tlearn: 1389.8401644\ttest: 1485.5051571\tbest: 1485.5051571 (362)\ttotal: 35.8s\tremaining: 1m 2s\n",
      "363:\tlearn: 1389.4940077\ttest: 1485.4124977\tbest: 1485.4124977 (363)\ttotal: 35.9s\tremaining: 1m 2s\n",
      "364:\tlearn: 1389.1912881\ttest: 1485.3502158\tbest: 1485.3502158 (364)\ttotal: 36s\tremaining: 1m 2s\n",
      "365:\tlearn: 1388.9972378\ttest: 1485.2964198\tbest: 1485.2964198 (365)\ttotal: 36.1s\tremaining: 1m 2s\n",
      "366:\tlearn: 1388.7324166\ttest: 1485.2459294\tbest: 1485.2459294 (366)\ttotal: 36.1s\tremaining: 1m 2s\n",
      "367:\tlearn: 1388.3028840\ttest: 1485.1052022\tbest: 1485.1052022 (367)\ttotal: 36.2s\tremaining: 1m 2s\n",
      "368:\tlearn: 1387.9667932\ttest: 1485.0103101\tbest: 1485.0103101 (368)\ttotal: 36.3s\tremaining: 1m 2s\n",
      "369:\tlearn: 1387.7680831\ttest: 1484.9572750\tbest: 1484.9572750 (369)\ttotal: 36.5s\tremaining: 1m 2s\n",
      "370:\tlearn: 1387.1697742\ttest: 1484.8194072\tbest: 1484.8194072 (370)\ttotal: 36.6s\tremaining: 1m 2s\n",
      "371:\tlearn: 1386.8842804\ttest: 1484.6937248\tbest: 1484.6937248 (371)\ttotal: 36.7s\tremaining: 1m 2s\n",
      "372:\tlearn: 1386.6253318\ttest: 1484.5728740\tbest: 1484.5728740 (372)\ttotal: 36.8s\tremaining: 1m 1s\n",
      "373:\tlearn: 1386.3062882\ttest: 1484.3036928\tbest: 1484.3036928 (373)\ttotal: 36.9s\tremaining: 1m 1s\n",
      "374:\tlearn: 1385.9633142\ttest: 1484.1946264\tbest: 1484.1946264 (374)\ttotal: 37s\tremaining: 1m 1s\n",
      "375:\tlearn: 1385.7525328\ttest: 1484.1547746\tbest: 1484.1547746 (375)\ttotal: 37.1s\tremaining: 1m 1s\n",
      "376:\tlearn: 1385.5317626\ttest: 1484.1237833\tbest: 1484.1237833 (376)\ttotal: 37.2s\tremaining: 1m 1s\n",
      "377:\tlearn: 1385.4319475\ttest: 1484.1062340\tbest: 1484.1062340 (377)\ttotal: 37.3s\tremaining: 1m 1s\n",
      "378:\tlearn: 1385.0363766\ttest: 1483.8747959\tbest: 1483.8747959 (378)\ttotal: 37.4s\tremaining: 1m 1s\n",
      "379:\tlearn: 1384.4810105\ttest: 1483.5882021\tbest: 1483.5882021 (379)\ttotal: 37.5s\tremaining: 1m 1s\n",
      "380:\tlearn: 1384.0245074\ttest: 1483.4473083\tbest: 1483.4473083 (380)\ttotal: 37.6s\tremaining: 1m 1s\n",
      "381:\tlearn: 1383.8436143\ttest: 1483.3538451\tbest: 1483.3538451 (381)\ttotal: 37.7s\tremaining: 1m 1s\n",
      "382:\tlearn: 1383.6056074\ttest: 1483.2224646\tbest: 1483.2224646 (382)\ttotal: 37.8s\tremaining: 1m\n",
      "383:\tlearn: 1383.3883775\ttest: 1483.1949329\tbest: 1483.1949329 (383)\ttotal: 37.9s\tremaining: 1m\n",
      "384:\tlearn: 1383.1584354\ttest: 1483.0860431\tbest: 1483.0860431 (384)\ttotal: 38s\tremaining: 1m\n",
      "385:\tlearn: 1382.7464349\ttest: 1482.9625598\tbest: 1482.9625598 (385)\ttotal: 38.1s\tremaining: 1m\n",
      "386:\tlearn: 1382.5870170\ttest: 1482.8982150\tbest: 1482.8982150 (386)\ttotal: 38.2s\tremaining: 1m\n",
      "387:\tlearn: 1382.2117319\ttest: 1482.7949472\tbest: 1482.7949472 (387)\ttotal: 38.3s\tremaining: 1m\n",
      "388:\tlearn: 1381.8288002\ttest: 1482.7595896\tbest: 1482.7595896 (388)\ttotal: 38.4s\tremaining: 1m\n",
      "389:\tlearn: 1381.5150352\ttest: 1482.6771012\tbest: 1482.6771012 (389)\ttotal: 38.5s\tremaining: 1m\n",
      "390:\tlearn: 1381.1953031\ttest: 1482.6115117\tbest: 1482.6115117 (390)\ttotal: 38.6s\tremaining: 1m\n",
      "391:\tlearn: 1380.8942898\ttest: 1482.6021876\tbest: 1482.6021876 (391)\ttotal: 38.7s\tremaining: 60s\n",
      "392:\tlearn: 1380.6585528\ttest: 1482.5437243\tbest: 1482.5437243 (392)\ttotal: 38.8s\tremaining: 59.9s\n",
      "393:\tlearn: 1380.2917565\ttest: 1482.4476018\tbest: 1482.4476018 (393)\ttotal: 38.9s\tremaining: 59.8s\n",
      "394:\tlearn: 1379.9220974\ttest: 1482.2805794\tbest: 1482.2805794 (394)\ttotal: 39s\tremaining: 59.7s\n",
      "395:\tlearn: 1379.6213236\ttest: 1482.0883149\tbest: 1482.0883149 (395)\ttotal: 39.1s\tremaining: 59.6s\n",
      "396:\tlearn: 1379.2143423\ttest: 1481.9871142\tbest: 1481.9871142 (396)\ttotal: 39.2s\tremaining: 59.5s\n",
      "397:\tlearn: 1378.9653383\ttest: 1481.8241244\tbest: 1481.8241244 (397)\ttotal: 39.3s\tremaining: 59.4s\n",
      "398:\tlearn: 1378.6803046\ttest: 1481.6637530\tbest: 1481.6637530 (398)\ttotal: 39.4s\tremaining: 59.3s\n",
      "399:\tlearn: 1378.4132751\ttest: 1481.5191700\tbest: 1481.5191700 (399)\ttotal: 39.5s\tremaining: 59.2s\n",
      "400:\tlearn: 1378.1817466\ttest: 1481.4718136\tbest: 1481.4718136 (400)\ttotal: 39.6s\tremaining: 59.1s\n",
      "401:\tlearn: 1377.8206743\ttest: 1481.3212897\tbest: 1481.3212897 (401)\ttotal: 39.6s\tremaining: 59s\n",
      "402:\tlearn: 1377.5032727\ttest: 1481.2293915\tbest: 1481.2293915 (402)\ttotal: 39.7s\tremaining: 58.9s\n",
      "403:\tlearn: 1377.2276679\ttest: 1481.1893995\tbest: 1481.1893995 (403)\ttotal: 39.9s\tremaining: 58.8s\n",
      "404:\tlearn: 1376.7616298\ttest: 1481.0242079\tbest: 1481.0242079 (404)\ttotal: 39.9s\tremaining: 58.7s\n",
      "405:\tlearn: 1376.5065078\ttest: 1480.9162773\tbest: 1480.9162773 (405)\ttotal: 40s\tremaining: 58.6s\n",
      "406:\tlearn: 1376.3949289\ttest: 1480.8634074\tbest: 1480.8634074 (406)\ttotal: 40.1s\tremaining: 58.5s\n",
      "407:\tlearn: 1376.1592144\ttest: 1480.7758222\tbest: 1480.7758222 (407)\ttotal: 40.2s\tremaining: 58.4s\n",
      "408:\tlearn: 1375.8346824\ttest: 1480.6840651\tbest: 1480.6840651 (408)\ttotal: 40.3s\tremaining: 58.3s\n",
      "409:\tlearn: 1375.6766457\ttest: 1480.6281314\tbest: 1480.6281314 (409)\ttotal: 40.4s\tremaining: 58.2s\n",
      "410:\tlearn: 1375.4661945\ttest: 1480.5963067\tbest: 1480.5963067 (410)\ttotal: 40.6s\tremaining: 58.1s\n",
      "411:\tlearn: 1375.1331172\ttest: 1480.4016681\tbest: 1480.4016681 (411)\ttotal: 40.7s\tremaining: 58s\n",
      "412:\tlearn: 1374.8580731\ttest: 1480.2965456\tbest: 1480.2965456 (412)\ttotal: 40.8s\tremaining: 58s\n",
      "413:\tlearn: 1374.6749912\ttest: 1480.2732076\tbest: 1480.2732076 (413)\ttotal: 40.9s\tremaining: 57.8s\n",
      "414:\tlearn: 1374.1778688\ttest: 1480.0869286\tbest: 1480.0869286 (414)\ttotal: 41s\tremaining: 57.8s\n",
      "415:\tlearn: 1373.6265368\ttest: 1480.0188386\tbest: 1480.0188386 (415)\ttotal: 41.1s\tremaining: 57.7s\n",
      "416:\tlearn: 1373.3109432\ttest: 1479.9536752\tbest: 1479.9536752 (416)\ttotal: 41.2s\tremaining: 57.6s\n",
      "417:\tlearn: 1372.9172620\ttest: 1479.8860040\tbest: 1479.8860040 (417)\ttotal: 41.3s\tremaining: 57.5s\n",
      "418:\tlearn: 1372.7367025\ttest: 1479.8137174\tbest: 1479.8137174 (418)\ttotal: 41.4s\tremaining: 57.4s\n",
      "419:\tlearn: 1372.3360420\ttest: 1479.7260007\tbest: 1479.7260007 (419)\ttotal: 41.5s\tremaining: 57.3s\n",
      "420:\tlearn: 1372.0246445\ttest: 1479.5790401\tbest: 1479.5790401 (420)\ttotal: 41.6s\tremaining: 57.2s\n",
      "421:\tlearn: 1371.8126531\ttest: 1479.4699284\tbest: 1479.4699284 (421)\ttotal: 41.7s\tremaining: 57.1s\n",
      "422:\tlearn: 1371.4574649\ttest: 1479.3708139\tbest: 1479.3708139 (422)\ttotal: 41.8s\tremaining: 57s\n",
      "423:\tlearn: 1371.2862143\ttest: 1479.3157745\tbest: 1479.3157745 (423)\ttotal: 41.9s\tremaining: 56.9s\n",
      "424:\tlearn: 1371.0985573\ttest: 1479.2903973\tbest: 1479.2903973 (424)\ttotal: 42s\tremaining: 56.8s\n",
      "425:\tlearn: 1370.6535127\ttest: 1479.2244652\tbest: 1479.2244652 (425)\ttotal: 42.1s\tremaining: 56.7s\n",
      "426:\tlearn: 1370.2735608\ttest: 1479.0910245\tbest: 1479.0910245 (426)\ttotal: 42.1s\tremaining: 56.6s\n",
      "427:\tlearn: 1369.9383403\ttest: 1479.0139675\tbest: 1479.0139675 (427)\ttotal: 42.2s\tremaining: 56.5s\n",
      "428:\tlearn: 1369.6601258\ttest: 1478.8874054\tbest: 1478.8874054 (428)\ttotal: 42.3s\tremaining: 56.4s\n",
      "429:\tlearn: 1369.3734836\ttest: 1478.8473825\tbest: 1478.8473825 (429)\ttotal: 42.4s\tremaining: 56.3s\n",
      "430:\tlearn: 1369.2079286\ttest: 1478.8259596\tbest: 1478.8259596 (430)\ttotal: 42.5s\tremaining: 56.1s\n",
      "431:\tlearn: 1369.0051585\ttest: 1478.7159384\tbest: 1478.7159384 (431)\ttotal: 42.6s\tremaining: 56.1s\n",
      "432:\tlearn: 1368.7948946\ttest: 1478.6848255\tbest: 1478.6848255 (432)\ttotal: 42.7s\tremaining: 56s\n",
      "433:\tlearn: 1368.5142898\ttest: 1478.5053532\tbest: 1478.5053532 (433)\ttotal: 42.8s\tremaining: 55.9s\n",
      "434:\tlearn: 1368.1893386\ttest: 1478.5680503\tbest: 1478.5053532 (433)\ttotal: 42.9s\tremaining: 55.8s\n",
      "435:\tlearn: 1367.7907325\ttest: 1478.4425653\tbest: 1478.4425653 (435)\ttotal: 43s\tremaining: 55.7s\n",
      "436:\tlearn: 1367.4240280\ttest: 1478.3583018\tbest: 1478.3583018 (436)\ttotal: 43.1s\tremaining: 55.6s\n",
      "437:\tlearn: 1367.2044419\ttest: 1478.2732541\tbest: 1478.2732541 (437)\ttotal: 43.2s\tremaining: 55.5s\n",
      "438:\tlearn: 1366.7678605\ttest: 1478.1647993\tbest: 1478.1647993 (438)\ttotal: 43.3s\tremaining: 55.4s\n",
      "439:\tlearn: 1366.5209788\ttest: 1478.1103534\tbest: 1478.1103534 (439)\ttotal: 43.4s\tremaining: 55.3s\n",
      "440:\tlearn: 1366.2423041\ttest: 1478.0538166\tbest: 1478.0538166 (440)\ttotal: 43.5s\tremaining: 55.2s\n",
      "441:\tlearn: 1365.8918527\ttest: 1477.9302753\tbest: 1477.9302753 (441)\ttotal: 43.6s\tremaining: 55.1s\n",
      "442:\tlearn: 1365.6737665\ttest: 1477.8808178\tbest: 1477.8808178 (442)\ttotal: 43.7s\tremaining: 55s\n",
      "443:\tlearn: 1365.4358131\ttest: 1477.6905230\tbest: 1477.6905230 (443)\ttotal: 43.8s\tremaining: 54.9s\n",
      "444:\tlearn: 1365.1006438\ttest: 1477.5551582\tbest: 1477.5551582 (444)\ttotal: 43.9s\tremaining: 54.8s\n",
      "445:\tlearn: 1364.7690725\ttest: 1477.5042457\tbest: 1477.5042457 (445)\ttotal: 44s\tremaining: 54.7s\n",
      "446:\tlearn: 1364.6335032\ttest: 1477.4704096\tbest: 1477.4704096 (446)\ttotal: 44.1s\tremaining: 54.6s\n",
      "447:\tlearn: 1364.4455114\ttest: 1477.4002263\tbest: 1477.4002263 (447)\ttotal: 44.2s\tremaining: 54.5s\n",
      "448:\tlearn: 1364.1920195\ttest: 1477.3765045\tbest: 1477.3765045 (448)\ttotal: 44.3s\tremaining: 54.4s\n",
      "449:\tlearn: 1364.0707650\ttest: 1477.3448370\tbest: 1477.3448370 (449)\ttotal: 44.4s\tremaining: 54.3s\n",
      "450:\tlearn: 1363.8407610\ttest: 1477.2443372\tbest: 1477.2443372 (450)\ttotal: 44.5s\tremaining: 54.2s\n",
      "451:\tlearn: 1363.4802836\ttest: 1477.1729100\tbest: 1477.1729100 (451)\ttotal: 44.6s\tremaining: 54.1s\n",
      "452:\tlearn: 1363.2861967\ttest: 1477.1433730\tbest: 1477.1433730 (452)\ttotal: 44.7s\tremaining: 54s\n",
      "453:\tlearn: 1362.8588953\ttest: 1476.8814470\tbest: 1476.8814470 (453)\ttotal: 44.8s\tremaining: 53.9s\n",
      "454:\tlearn: 1362.3027035\ttest: 1476.7779484\tbest: 1476.7779484 (454)\ttotal: 44.9s\tremaining: 53.8s\n",
      "455:\tlearn: 1362.0526536\ttest: 1476.7403540\tbest: 1476.7403540 (455)\ttotal: 45s\tremaining: 53.7s\n",
      "456:\tlearn: 1361.7791674\ttest: 1476.7440653\tbest: 1476.7403540 (455)\ttotal: 45.1s\tremaining: 53.6s\n",
      "457:\tlearn: 1361.5965559\ttest: 1476.7174802\tbest: 1476.7174802 (457)\ttotal: 45.2s\tremaining: 53.5s\n",
      "458:\tlearn: 1361.2670486\ttest: 1476.5668494\tbest: 1476.5668494 (458)\ttotal: 45.3s\tremaining: 53.4s\n",
      "459:\tlearn: 1361.0710146\ttest: 1476.4445495\tbest: 1476.4445495 (459)\ttotal: 45.4s\tremaining: 53.3s\n",
      "460:\tlearn: 1360.7732726\ttest: 1476.3592906\tbest: 1476.3592906 (460)\ttotal: 45.5s\tremaining: 53.2s\n",
      "461:\tlearn: 1360.5732501\ttest: 1476.2788689\tbest: 1476.2788689 (461)\ttotal: 45.6s\tremaining: 53.1s\n",
      "462:\tlearn: 1360.4006185\ttest: 1476.2021046\tbest: 1476.2021046 (462)\ttotal: 45.7s\tremaining: 53s\n",
      "463:\tlearn: 1360.0770604\ttest: 1476.0579967\tbest: 1476.0579967 (463)\ttotal: 45.8s\tremaining: 52.9s\n",
      "464:\tlearn: 1359.7156644\ttest: 1475.8291797\tbest: 1475.8291797 (464)\ttotal: 45.9s\tremaining: 52.8s\n",
      "465:\tlearn: 1359.2768171\ttest: 1475.7037600\tbest: 1475.7037600 (465)\ttotal: 46s\tremaining: 52.7s\n",
      "466:\tlearn: 1359.0285226\ttest: 1475.5806393\tbest: 1475.5806393 (466)\ttotal: 46.1s\tremaining: 52.6s\n",
      "467:\tlearn: 1358.7121979\ttest: 1475.4504956\tbest: 1475.4504956 (467)\ttotal: 46.2s\tremaining: 52.5s\n",
      "468:\tlearn: 1358.5996462\ttest: 1475.4061823\tbest: 1475.4061823 (468)\ttotal: 46.3s\tremaining: 52.4s\n",
      "469:\tlearn: 1358.1487460\ttest: 1475.2176497\tbest: 1475.2176497 (469)\ttotal: 46.4s\tremaining: 52.3s\n",
      "470:\tlearn: 1357.6357116\ttest: 1475.0527039\tbest: 1475.0527039 (470)\ttotal: 46.5s\tremaining: 52.2s\n",
      "471:\tlearn: 1357.2990924\ttest: 1474.9413590\tbest: 1474.9413590 (471)\ttotal: 46.6s\tremaining: 52.1s\n",
      "472:\tlearn: 1357.2060673\ttest: 1474.9439589\tbest: 1474.9413590 (471)\ttotal: 46.7s\tremaining: 52s\n",
      "473:\tlearn: 1356.9529136\ttest: 1474.9252627\tbest: 1474.9252627 (473)\ttotal: 46.8s\tremaining: 51.9s\n",
      "474:\tlearn: 1356.3335104\ttest: 1474.5883165\tbest: 1474.5883165 (474)\ttotal: 46.9s\tremaining: 51.8s\n",
      "475:\tlearn: 1356.1179166\ttest: 1474.5124244\tbest: 1474.5124244 (475)\ttotal: 47s\tremaining: 51.7s\n",
      "476:\tlearn: 1355.8294215\ttest: 1474.4083709\tbest: 1474.4083709 (476)\ttotal: 47.1s\tremaining: 51.6s\n",
      "477:\tlearn: 1355.4079925\ttest: 1474.2473379\tbest: 1474.2473379 (477)\ttotal: 47.2s\tremaining: 51.5s\n",
      "478:\tlearn: 1355.1063714\ttest: 1474.1408466\tbest: 1474.1408466 (478)\ttotal: 47.3s\tremaining: 51.4s\n",
      "479:\tlearn: 1354.9200300\ttest: 1474.1110267\tbest: 1474.1110267 (479)\ttotal: 47.4s\tremaining: 51.3s\n",
      "480:\tlearn: 1354.6571790\ttest: 1474.0663392\tbest: 1474.0663392 (480)\ttotal: 47.5s\tremaining: 51.2s\n",
      "481:\tlearn: 1354.4254501\ttest: 1473.9882501\tbest: 1473.9882501 (481)\ttotal: 47.6s\tremaining: 51.1s\n",
      "482:\tlearn: 1354.1208923\ttest: 1473.8881038\tbest: 1473.8881038 (482)\ttotal: 47.7s\tremaining: 51s\n",
      "483:\tlearn: 1353.7954252\ttest: 1473.7441804\tbest: 1473.7441804 (483)\ttotal: 47.8s\tremaining: 50.9s\n",
      "484:\tlearn: 1353.5382680\ttest: 1473.6356698\tbest: 1473.6356698 (484)\ttotal: 47.9s\tremaining: 50.8s\n",
      "485:\tlearn: 1353.2729105\ttest: 1473.5747623\tbest: 1473.5747623 (485)\ttotal: 48s\tremaining: 50.7s\n",
      "486:\tlearn: 1353.1695122\ttest: 1473.5115871\tbest: 1473.5115871 (486)\ttotal: 48.1s\tremaining: 50.6s\n",
      "487:\tlearn: 1352.9602434\ttest: 1473.5107216\tbest: 1473.5107216 (487)\ttotal: 48.2s\tremaining: 50.5s\n",
      "488:\tlearn: 1352.6876205\ttest: 1473.5406335\tbest: 1473.5107216 (487)\ttotal: 48.2s\tremaining: 50.4s\n",
      "489:\tlearn: 1352.3483392\ttest: 1473.4154514\tbest: 1473.4154514 (489)\ttotal: 48.3s\tremaining: 50.3s\n",
      "490:\tlearn: 1352.1702544\ttest: 1473.3815879\tbest: 1473.3815879 (490)\ttotal: 48.4s\tremaining: 50.2s\n",
      "491:\tlearn: 1351.8216255\ttest: 1473.2172174\tbest: 1473.2172174 (491)\ttotal: 48.5s\tremaining: 50.1s\n",
      "492:\tlearn: 1351.6067885\ttest: 1473.1415395\tbest: 1473.1415395 (492)\ttotal: 48.6s\tremaining: 50s\n",
      "493:\tlearn: 1351.3797072\ttest: 1473.0114998\tbest: 1473.0114998 (493)\ttotal: 48.7s\tremaining: 49.9s\n",
      "494:\tlearn: 1351.1883796\ttest: 1473.0050730\tbest: 1473.0050730 (494)\ttotal: 48.8s\tremaining: 49.8s\n",
      "495:\tlearn: 1350.9296493\ttest: 1472.9166011\tbest: 1472.9166011 (495)\ttotal: 48.9s\tremaining: 49.7s\n",
      "496:\tlearn: 1350.6640822\ttest: 1472.6815489\tbest: 1472.6815489 (496)\ttotal: 49s\tremaining: 49.6s\n",
      "497:\tlearn: 1350.4553678\ttest: 1472.6093230\tbest: 1472.6093230 (497)\ttotal: 49.1s\tremaining: 49.5s\n",
      "498:\tlearn: 1350.3313324\ttest: 1472.5659105\tbest: 1472.5659105 (498)\ttotal: 49.2s\tremaining: 49.4s\n",
      "499:\tlearn: 1349.9146985\ttest: 1472.4786758\tbest: 1472.4786758 (499)\ttotal: 49.3s\tremaining: 49.3s\n",
      "500:\tlearn: 1349.6137351\ttest: 1472.4729440\tbest: 1472.4729440 (500)\ttotal: 49.4s\tremaining: 49.3s\n",
      "501:\tlearn: 1349.3592097\ttest: 1472.4180992\tbest: 1472.4180992 (501)\ttotal: 49.5s\tremaining: 49.1s\n",
      "502:\tlearn: 1348.8884991\ttest: 1472.1765513\tbest: 1472.1765513 (502)\ttotal: 49.6s\tremaining: 49.1s\n",
      "503:\tlearn: 1348.6623063\ttest: 1472.0817438\tbest: 1472.0817438 (503)\ttotal: 49.7s\tremaining: 49s\n",
      "504:\tlearn: 1348.4253843\ttest: 1472.0379888\tbest: 1472.0379888 (504)\ttotal: 49.8s\tremaining: 48.9s\n",
      "505:\tlearn: 1348.0731569\ttest: 1472.0174281\tbest: 1472.0174281 (505)\ttotal: 50s\tremaining: 48.8s\n",
      "506:\tlearn: 1347.8521200\ttest: 1471.9964934\tbest: 1471.9964934 (506)\ttotal: 50s\tremaining: 48.7s\n",
      "507:\tlearn: 1347.5798535\ttest: 1471.8900720\tbest: 1471.8900720 (507)\ttotal: 50.2s\tremaining: 48.6s\n",
      "508:\tlearn: 1347.4701704\ttest: 1471.8965881\tbest: 1471.8900720 (507)\ttotal: 50.3s\tremaining: 48.5s\n",
      "509:\tlearn: 1347.1636157\ttest: 1471.7636542\tbest: 1471.7636542 (509)\ttotal: 50.4s\tremaining: 48.4s\n",
      "510:\tlearn: 1346.9200331\ttest: 1471.7161530\tbest: 1471.7161530 (510)\ttotal: 50.5s\tremaining: 48.3s\n",
      "511:\tlearn: 1346.7520775\ttest: 1471.6692707\tbest: 1471.6692707 (511)\ttotal: 50.6s\tremaining: 48.2s\n",
      "512:\tlearn: 1346.6527739\ttest: 1471.6462961\tbest: 1471.6462961 (512)\ttotal: 50.7s\tremaining: 48.1s\n",
      "513:\tlearn: 1346.4159122\ttest: 1471.6441186\tbest: 1471.6441186 (513)\ttotal: 50.7s\tremaining: 48s\n",
      "514:\tlearn: 1346.2561535\ttest: 1471.5654044\tbest: 1471.5654044 (514)\ttotal: 50.9s\tremaining: 47.9s\n",
      "515:\tlearn: 1345.9678615\ttest: 1471.4857799\tbest: 1471.4857799 (515)\ttotal: 50.9s\tremaining: 47.8s\n",
      "516:\tlearn: 1345.7319715\ttest: 1471.4219820\tbest: 1471.4219820 (516)\ttotal: 51s\tremaining: 47.7s\n",
      "517:\tlearn: 1345.5522323\ttest: 1471.2882333\tbest: 1471.2882333 (517)\ttotal: 51.1s\tremaining: 47.6s\n",
      "518:\tlearn: 1345.1030919\ttest: 1471.1572303\tbest: 1471.1572303 (518)\ttotal: 51.2s\tremaining: 47.5s\n",
      "519:\tlearn: 1344.9134193\ttest: 1471.1243351\tbest: 1471.1243351 (519)\ttotal: 51.3s\tremaining: 47.4s\n",
      "520:\tlearn: 1344.6934798\ttest: 1471.0610300\tbest: 1471.0610300 (520)\ttotal: 51.4s\tremaining: 47.3s\n",
      "521:\tlearn: 1344.3056149\ttest: 1470.9462840\tbest: 1470.9462840 (521)\ttotal: 51.5s\tremaining: 47.2s\n",
      "522:\tlearn: 1344.2381681\ttest: 1470.9311023\tbest: 1470.9311023 (522)\ttotal: 51.6s\tremaining: 47.1s\n",
      "523:\tlearn: 1343.9662883\ttest: 1470.9025725\tbest: 1470.9025725 (523)\ttotal: 51.7s\tremaining: 47s\n",
      "524:\tlearn: 1343.6379920\ttest: 1470.7129585\tbest: 1470.7129585 (524)\ttotal: 51.8s\tremaining: 46.9s\n",
      "525:\tlearn: 1343.4561891\ttest: 1470.6347257\tbest: 1470.6347257 (525)\ttotal: 51.9s\tremaining: 46.8s\n",
      "526:\tlearn: 1343.2513757\ttest: 1470.6000379\tbest: 1470.6000379 (526)\ttotal: 52s\tremaining: 46.7s\n",
      "527:\tlearn: 1343.0836080\ttest: 1470.4908814\tbest: 1470.4908814 (527)\ttotal: 52.1s\tremaining: 46.6s\n",
      "528:\tlearn: 1342.9295878\ttest: 1470.4226712\tbest: 1470.4226712 (528)\ttotal: 52.2s\tremaining: 46.5s\n",
      "529:\tlearn: 1342.7542876\ttest: 1470.3647705\tbest: 1470.3647705 (529)\ttotal: 52.3s\tremaining: 46.4s\n",
      "530:\tlearn: 1342.6316613\ttest: 1470.3338254\tbest: 1470.3338254 (530)\ttotal: 52.4s\tremaining: 46.3s\n",
      "531:\tlearn: 1342.4051084\ttest: 1470.2916395\tbest: 1470.2916395 (531)\ttotal: 52.5s\tremaining: 46.2s\n",
      "532:\tlearn: 1342.1151487\ttest: 1470.2059194\tbest: 1470.2059194 (532)\ttotal: 52.6s\tremaining: 46.1s\n",
      "533:\tlearn: 1341.9010732\ttest: 1470.1494906\tbest: 1470.1494906 (533)\ttotal: 52.7s\tremaining: 46s\n",
      "534:\tlearn: 1341.5689201\ttest: 1470.1462902\tbest: 1470.1462902 (534)\ttotal: 52.8s\tremaining: 45.9s\n",
      "535:\tlearn: 1341.3033185\ttest: 1470.1295863\tbest: 1470.1295863 (535)\ttotal: 52.9s\tremaining: 45.8s\n",
      "536:\tlearn: 1341.0466773\ttest: 1470.1155534\tbest: 1470.1155534 (536)\ttotal: 53s\tremaining: 45.7s\n",
      "537:\tlearn: 1340.5495669\ttest: 1469.9615123\tbest: 1469.9615123 (537)\ttotal: 53.1s\tremaining: 45.6s\n",
      "538:\tlearn: 1340.3604466\ttest: 1469.8805035\tbest: 1469.8805035 (538)\ttotal: 53.2s\tremaining: 45.5s\n",
      "539:\tlearn: 1340.1644324\ttest: 1469.8702156\tbest: 1469.8702156 (539)\ttotal: 53.3s\tremaining: 45.4s\n",
      "540:\tlearn: 1339.8270390\ttest: 1469.8655051\tbest: 1469.8655051 (540)\ttotal: 53.4s\tremaining: 45.3s\n",
      "541:\tlearn: 1339.6362450\ttest: 1469.7775020\tbest: 1469.7775020 (541)\ttotal: 53.5s\tremaining: 45.2s\n",
      "542:\tlearn: 1339.3126466\ttest: 1469.7215751\tbest: 1469.7215751 (542)\ttotal: 53.6s\tremaining: 45.1s\n",
      "543:\tlearn: 1339.1653821\ttest: 1469.6571908\tbest: 1469.6571908 (543)\ttotal: 53.7s\tremaining: 45s\n",
      "544:\tlearn: 1338.9577182\ttest: 1469.5122047\tbest: 1469.5122047 (544)\ttotal: 53.8s\tremaining: 44.9s\n",
      "545:\tlearn: 1338.7461535\ttest: 1469.5044860\tbest: 1469.5044860 (545)\ttotal: 53.9s\tremaining: 44.8s\n",
      "546:\tlearn: 1338.4837992\ttest: 1469.4830958\tbest: 1469.4830958 (546)\ttotal: 54s\tremaining: 44.7s\n",
      "547:\tlearn: 1338.3183017\ttest: 1469.4226402\tbest: 1469.4226402 (547)\ttotal: 54.1s\tremaining: 44.6s\n",
      "548:\tlearn: 1338.1783590\ttest: 1469.3675100\tbest: 1469.3675100 (548)\ttotal: 54.2s\tremaining: 44.5s\n",
      "549:\tlearn: 1337.9200575\ttest: 1469.3673476\tbest: 1469.3673476 (549)\ttotal: 54.3s\tremaining: 44.4s\n",
      "550:\tlearn: 1337.6979481\ttest: 1469.2696787\tbest: 1469.2696787 (550)\ttotal: 54.4s\tremaining: 44.3s\n",
      "551:\tlearn: 1337.4280661\ttest: 1469.2531169\tbest: 1469.2531169 (551)\ttotal: 54.4s\tremaining: 44.2s\n",
      "552:\tlearn: 1337.3089831\ttest: 1469.2137743\tbest: 1469.2137743 (552)\ttotal: 54.5s\tremaining: 44.1s\n",
      "553:\tlearn: 1336.9639695\ttest: 1469.1934499\tbest: 1469.1934499 (553)\ttotal: 54.6s\tremaining: 44s\n",
      "554:\tlearn: 1336.6879413\ttest: 1469.1354890\tbest: 1469.1354890 (554)\ttotal: 54.7s\tremaining: 43.9s\n",
      "555:\tlearn: 1336.3854293\ttest: 1469.1261805\tbest: 1469.1261805 (555)\ttotal: 54.8s\tremaining: 43.8s\n",
      "556:\tlearn: 1336.1748189\ttest: 1469.0461876\tbest: 1469.0461876 (556)\ttotal: 54.9s\tremaining: 43.7s\n",
      "557:\tlearn: 1335.8181322\ttest: 1469.0521505\tbest: 1469.0461876 (556)\ttotal: 55s\tremaining: 43.6s\n",
      "558:\tlearn: 1335.5229007\ttest: 1468.9142885\tbest: 1468.9142885 (558)\ttotal: 55.1s\tremaining: 43.5s\n",
      "559:\tlearn: 1335.3440054\ttest: 1468.8641650\tbest: 1468.8641650 (559)\ttotal: 55.2s\tremaining: 43.4s\n",
      "560:\tlearn: 1335.0177430\ttest: 1468.8067092\tbest: 1468.8067092 (560)\ttotal: 55.3s\tremaining: 43.3s\n",
      "561:\tlearn: 1334.6500665\ttest: 1468.7523227\tbest: 1468.7523227 (561)\ttotal: 55.5s\tremaining: 43.2s\n",
      "562:\tlearn: 1334.4411569\ttest: 1468.7018877\tbest: 1468.7018877 (562)\ttotal: 55.6s\tremaining: 43.1s\n",
      "563:\tlearn: 1334.0203085\ttest: 1468.6179261\tbest: 1468.6179261 (563)\ttotal: 55.7s\tremaining: 43s\n",
      "564:\tlearn: 1333.8913213\ttest: 1468.5573063\tbest: 1468.5573063 (564)\ttotal: 55.8s\tremaining: 42.9s\n",
      "565:\tlearn: 1333.6141936\ttest: 1468.5456197\tbest: 1468.5456197 (565)\ttotal: 55.9s\tremaining: 42.8s\n",
      "566:\tlearn: 1333.3120267\ttest: 1468.4423195\tbest: 1468.4423195 (566)\ttotal: 56s\tremaining: 42.7s\n",
      "567:\tlearn: 1333.1100770\ttest: 1468.3032416\tbest: 1468.3032416 (567)\ttotal: 56.1s\tremaining: 42.6s\n",
      "568:\tlearn: 1332.8766716\ttest: 1468.2778807\tbest: 1468.2778807 (568)\ttotal: 56.1s\tremaining: 42.5s\n",
      "569:\tlearn: 1332.5970253\ttest: 1468.1958075\tbest: 1468.1958075 (569)\ttotal: 56.2s\tremaining: 42.4s\n",
      "570:\tlearn: 1332.4564774\ttest: 1468.2226272\tbest: 1468.1958075 (569)\ttotal: 56.4s\tremaining: 42.3s\n",
      "571:\tlearn: 1332.1573173\ttest: 1468.1484383\tbest: 1468.1484383 (571)\ttotal: 56.5s\tremaining: 42.2s\n",
      "572:\tlearn: 1331.9886514\ttest: 1468.0440312\tbest: 1468.0440312 (572)\ttotal: 56.6s\tremaining: 42.1s\n",
      "573:\tlearn: 1331.8218781\ttest: 1467.9583795\tbest: 1467.9583795 (573)\ttotal: 56.7s\tremaining: 42.1s\n",
      "574:\tlearn: 1331.4352557\ttest: 1467.9168493\tbest: 1467.9168493 (574)\ttotal: 56.8s\tremaining: 42s\n",
      "575:\tlearn: 1331.1373116\ttest: 1467.8205063\tbest: 1467.8205063 (575)\ttotal: 56.9s\tremaining: 41.9s\n",
      "576:\tlearn: 1330.8417738\ttest: 1467.7621974\tbest: 1467.7621974 (576)\ttotal: 57s\tremaining: 41.8s\n",
      "577:\tlearn: 1330.5379362\ttest: 1467.7482814\tbest: 1467.7482814 (577)\ttotal: 57.1s\tremaining: 41.7s\n",
      "578:\tlearn: 1330.2887531\ttest: 1467.6479595\tbest: 1467.6479595 (578)\ttotal: 57.2s\tremaining: 41.6s\n",
      "579:\tlearn: 1330.0730070\ttest: 1467.6379158\tbest: 1467.6379158 (579)\ttotal: 57.3s\tremaining: 41.5s\n",
      "580:\tlearn: 1329.8751946\ttest: 1467.5813523\tbest: 1467.5813523 (580)\ttotal: 57.4s\tremaining: 41.4s\n",
      "581:\tlearn: 1329.7405183\ttest: 1467.5321974\tbest: 1467.5321974 (581)\ttotal: 57.5s\tremaining: 41.3s\n",
      "582:\tlearn: 1329.6207098\ttest: 1467.5111316\tbest: 1467.5111316 (582)\ttotal: 57.5s\tremaining: 41.2s\n",
      "583:\tlearn: 1329.5123057\ttest: 1467.5050609\tbest: 1467.5050609 (583)\ttotal: 57.6s\tremaining: 41.1s\n",
      "584:\tlearn: 1329.3000062\ttest: 1467.5220916\tbest: 1467.5050609 (583)\ttotal: 57.7s\tremaining: 41s\n",
      "585:\tlearn: 1329.0858140\ttest: 1467.5094919\tbest: 1467.5050609 (583)\ttotal: 57.8s\tremaining: 40.9s\n",
      "586:\tlearn: 1328.7438891\ttest: 1467.3102639\tbest: 1467.3102639 (586)\ttotal: 57.9s\tremaining: 40.8s\n",
      "587:\tlearn: 1328.3648665\ttest: 1467.2294058\tbest: 1467.2294058 (587)\ttotal: 58s\tremaining: 40.7s\n",
      "588:\tlearn: 1328.1246717\ttest: 1467.2061964\tbest: 1467.2061964 (588)\ttotal: 58.1s\tremaining: 40.6s\n",
      "589:\tlearn: 1327.8843748\ttest: 1467.1632024\tbest: 1467.1632024 (589)\ttotal: 58.2s\tremaining: 40.5s\n",
      "590:\tlearn: 1327.6969831\ttest: 1467.1096428\tbest: 1467.1096428 (590)\ttotal: 58.3s\tremaining: 40.4s\n",
      "591:\tlearn: 1327.2754088\ttest: 1467.0407918\tbest: 1467.0407918 (591)\ttotal: 58.4s\tremaining: 40.3s\n",
      "592:\tlearn: 1327.1406321\ttest: 1467.0058288\tbest: 1467.0058288 (592)\ttotal: 58.5s\tremaining: 40.2s\n",
      "593:\tlearn: 1326.8869062\ttest: 1466.8860772\tbest: 1466.8860772 (593)\ttotal: 58.6s\tremaining: 40.1s\n",
      "594:\tlearn: 1326.6871880\ttest: 1466.7460639\tbest: 1466.7460639 (594)\ttotal: 58.7s\tremaining: 40s\n",
      "595:\tlearn: 1326.3947435\ttest: 1466.7103720\tbest: 1466.7103720 (595)\ttotal: 58.8s\tremaining: 39.9s\n",
      "596:\tlearn: 1326.1546651\ttest: 1466.6794400\tbest: 1466.6794400 (596)\ttotal: 58.9s\tremaining: 39.8s\n",
      "597:\tlearn: 1325.8858179\ttest: 1466.6953507\tbest: 1466.6794400 (596)\ttotal: 59s\tremaining: 39.7s\n",
      "598:\tlearn: 1325.5671730\ttest: 1466.6045139\tbest: 1466.6045139 (598)\ttotal: 59.1s\tremaining: 39.6s\n",
      "599:\tlearn: 1325.2623651\ttest: 1466.6046515\tbest: 1466.6045139 (598)\ttotal: 59.2s\tremaining: 39.5s\n",
      "600:\tlearn: 1325.1785076\ttest: 1466.5908870\tbest: 1466.5908870 (600)\ttotal: 59.3s\tremaining: 39.4s\n",
      "601:\tlearn: 1325.0345847\ttest: 1466.6018792\tbest: 1466.5908870 (600)\ttotal: 59.4s\tremaining: 39.3s\n",
      "602:\tlearn: 1324.7721004\ttest: 1466.5332529\tbest: 1466.5332529 (602)\ttotal: 59.5s\tremaining: 39.2s\n",
      "603:\tlearn: 1324.6143480\ttest: 1466.5087183\tbest: 1466.5087183 (603)\ttotal: 59.6s\tremaining: 39.1s\n",
      "604:\tlearn: 1324.3702435\ttest: 1466.4264376\tbest: 1466.4264376 (604)\ttotal: 59.7s\tremaining: 39s\n",
      "605:\tlearn: 1324.0942610\ttest: 1466.3085670\tbest: 1466.3085670 (605)\ttotal: 59.8s\tremaining: 38.9s\n",
      "606:\tlearn: 1323.9208155\ttest: 1466.2682402\tbest: 1466.2682402 (606)\ttotal: 59.9s\tremaining: 38.8s\n",
      "607:\tlearn: 1323.7743342\ttest: 1466.2371824\tbest: 1466.2371824 (607)\ttotal: 60s\tremaining: 38.7s\n",
      "608:\tlearn: 1323.5428935\ttest: 1466.1220867\tbest: 1466.1220867 (608)\ttotal: 1m\tremaining: 38.6s\n",
      "609:\tlearn: 1323.1898869\ttest: 1466.0917225\tbest: 1466.0917225 (609)\ttotal: 1m\tremaining: 38.5s\n",
      "610:\tlearn: 1323.0235449\ttest: 1466.0606980\tbest: 1466.0606980 (610)\ttotal: 1m\tremaining: 38.4s\n",
      "611:\tlearn: 1322.7761467\ttest: 1466.0435431\tbest: 1466.0435431 (611)\ttotal: 1m\tremaining: 38.3s\n",
      "612:\tlearn: 1322.5428990\ttest: 1465.9888462\tbest: 1465.9888462 (612)\ttotal: 1m\tremaining: 38.2s\n",
      "613:\tlearn: 1322.3537135\ttest: 1465.9572674\tbest: 1465.9572674 (613)\ttotal: 1m\tremaining: 38.1s\n",
      "614:\tlearn: 1322.1536618\ttest: 1465.8860189\tbest: 1465.8860189 (614)\ttotal: 1m\tremaining: 38s\n",
      "615:\tlearn: 1321.8735966\ttest: 1465.6835550\tbest: 1465.6835550 (615)\ttotal: 1m\tremaining: 37.9s\n",
      "616:\tlearn: 1321.5989197\ttest: 1465.5856750\tbest: 1465.5856750 (616)\ttotal: 1m\tremaining: 37.8s\n",
      "617:\tlearn: 1321.3066766\ttest: 1465.4817579\tbest: 1465.4817579 (617)\ttotal: 1m\tremaining: 37.7s\n",
      "618:\tlearn: 1321.1276151\ttest: 1465.4819288\tbest: 1465.4817579 (617)\ttotal: 1m 1s\tremaining: 37.6s\n",
      "619:\tlearn: 1320.9861223\ttest: 1465.4161465\tbest: 1465.4161465 (619)\ttotal: 1m 1s\tremaining: 37.5s\n",
      "620:\tlearn: 1320.8133868\ttest: 1465.4194311\tbest: 1465.4161465 (619)\ttotal: 1m 1s\tremaining: 37.4s\n",
      "621:\tlearn: 1320.6822338\ttest: 1465.3657636\tbest: 1465.3657636 (621)\ttotal: 1m 1s\tremaining: 37.3s\n",
      "622:\tlearn: 1320.5699990\ttest: 1465.3607695\tbest: 1465.3607695 (622)\ttotal: 1m 1s\tremaining: 37.2s\n",
      "623:\tlearn: 1320.3909474\ttest: 1465.3637751\tbest: 1465.3607695 (622)\ttotal: 1m 1s\tremaining: 37.1s\n",
      "624:\tlearn: 1320.1634510\ttest: 1465.3181292\tbest: 1465.3181292 (624)\ttotal: 1m 1s\tremaining: 37s\n",
      "625:\tlearn: 1319.9973348\ttest: 1465.2456437\tbest: 1465.2456437 (625)\ttotal: 1m 1s\tremaining: 36.9s\n",
      "626:\tlearn: 1319.8182207\ttest: 1465.2108433\tbest: 1465.2108433 (626)\ttotal: 1m 1s\tremaining: 36.8s\n",
      "627:\tlearn: 1319.6955400\ttest: 1465.1884338\tbest: 1465.1884338 (627)\ttotal: 1m 1s\tremaining: 36.7s\n",
      "628:\tlearn: 1319.4923521\ttest: 1465.1678546\tbest: 1465.1678546 (628)\ttotal: 1m 2s\tremaining: 36.6s\n",
      "629:\tlearn: 1319.2707040\ttest: 1465.1246216\tbest: 1465.1246216 (629)\ttotal: 1m 2s\tremaining: 36.5s\n",
      "630:\tlearn: 1319.0180204\ttest: 1465.0574126\tbest: 1465.0574126 (630)\ttotal: 1m 2s\tremaining: 36.4s\n",
      "631:\tlearn: 1318.7868749\ttest: 1464.9853366\tbest: 1464.9853366 (631)\ttotal: 1m 2s\tremaining: 36.3s\n",
      "632:\tlearn: 1318.5268909\ttest: 1464.9692993\tbest: 1464.9692993 (632)\ttotal: 1m 2s\tremaining: 36.2s\n",
      "633:\tlearn: 1318.3700315\ttest: 1464.8878634\tbest: 1464.8878634 (633)\ttotal: 1m 2s\tremaining: 36.1s\n",
      "634:\tlearn: 1318.1784364\ttest: 1464.6957054\tbest: 1464.6957054 (634)\ttotal: 1m 2s\tremaining: 36s\n",
      "635:\tlearn: 1318.0786830\ttest: 1464.6881095\tbest: 1464.6881095 (635)\ttotal: 1m 2s\tremaining: 35.9s\n",
      "636:\tlearn: 1317.7621127\ttest: 1464.5527258\tbest: 1464.5527258 (636)\ttotal: 1m 2s\tremaining: 35.8s\n",
      "637:\tlearn: 1317.4518236\ttest: 1464.4494187\tbest: 1464.4494187 (637)\ttotal: 1m 2s\tremaining: 35.7s\n",
      "638:\tlearn: 1317.1312394\ttest: 1464.5127568\tbest: 1464.4494187 (637)\ttotal: 1m 3s\tremaining: 35.6s\n",
      "639:\tlearn: 1316.8994899\ttest: 1464.3718255\tbest: 1464.3718255 (639)\ttotal: 1m 3s\tremaining: 35.5s\n",
      "640:\tlearn: 1316.7265599\ttest: 1464.3630608\tbest: 1464.3630608 (640)\ttotal: 1m 3s\tremaining: 35.4s\n",
      "641:\tlearn: 1316.6522292\ttest: 1464.3359790\tbest: 1464.3359790 (641)\ttotal: 1m 3s\tremaining: 35.3s\n",
      "642:\tlearn: 1316.5314957\ttest: 1464.3722185\tbest: 1464.3359790 (641)\ttotal: 1m 3s\tremaining: 35.2s\n",
      "643:\tlearn: 1316.2287441\ttest: 1464.3296731\tbest: 1464.3296731 (643)\ttotal: 1m 3s\tremaining: 35.1s\n",
      "644:\tlearn: 1315.9171041\ttest: 1464.2978900\tbest: 1464.2978900 (644)\ttotal: 1m 3s\tremaining: 35s\n",
      "645:\tlearn: 1315.6892105\ttest: 1464.2123022\tbest: 1464.2123022 (645)\ttotal: 1m 3s\tremaining: 34.9s\n",
      "646:\tlearn: 1315.4939999\ttest: 1464.2039284\tbest: 1464.2039284 (646)\ttotal: 1m 3s\tremaining: 34.8s\n",
      "647:\tlearn: 1315.4119195\ttest: 1464.2213251\tbest: 1464.2039284 (646)\ttotal: 1m 3s\tremaining: 34.7s\n",
      "648:\tlearn: 1315.1398161\ttest: 1464.1470000\tbest: 1464.1470000 (648)\ttotal: 1m 3s\tremaining: 34.6s\n",
      "649:\tlearn: 1314.8513333\ttest: 1464.0217816\tbest: 1464.0217816 (649)\ttotal: 1m 4s\tremaining: 34.5s\n",
      "650:\tlearn: 1314.6452282\ttest: 1463.9766405\tbest: 1463.9766405 (650)\ttotal: 1m 4s\tremaining: 34.4s\n",
      "651:\tlearn: 1314.4295519\ttest: 1464.0189824\tbest: 1463.9766405 (650)\ttotal: 1m 4s\tremaining: 34.3s\n",
      "652:\tlearn: 1314.0809431\ttest: 1463.9552116\tbest: 1463.9552116 (652)\ttotal: 1m 4s\tremaining: 34.2s\n",
      "653:\tlearn: 1313.7096441\ttest: 1463.9395228\tbest: 1463.9395228 (653)\ttotal: 1m 4s\tremaining: 34.1s\n",
      "654:\tlearn: 1313.5485709\ttest: 1463.8966733\tbest: 1463.8966733 (654)\ttotal: 1m 4s\tremaining: 34s\n",
      "655:\tlearn: 1313.3544484\ttest: 1463.8269489\tbest: 1463.8269489 (655)\ttotal: 1m 4s\tremaining: 33.9s\n",
      "656:\tlearn: 1313.1734890\ttest: 1463.8065926\tbest: 1463.8065926 (656)\ttotal: 1m 4s\tremaining: 33.8s\n",
      "657:\tlearn: 1312.9246381\ttest: 1463.7759051\tbest: 1463.7759051 (657)\ttotal: 1m 4s\tremaining: 33.7s\n",
      "658:\tlearn: 1312.8312649\ttest: 1463.7881111\tbest: 1463.7759051 (657)\ttotal: 1m 4s\tremaining: 33.6s\n",
      "659:\tlearn: 1312.6665262\ttest: 1463.7718268\tbest: 1463.7718268 (659)\ttotal: 1m 5s\tremaining: 33.5s\n",
      "660:\tlearn: 1312.5964784\ttest: 1463.7653171\tbest: 1463.7653171 (660)\ttotal: 1m 5s\tremaining: 33.4s\n",
      "661:\tlearn: 1312.4284685\ttest: 1463.7480645\tbest: 1463.7480645 (661)\ttotal: 1m 5s\tremaining: 33.3s\n",
      "662:\tlearn: 1312.1469996\ttest: 1463.6456607\tbest: 1463.6456607 (662)\ttotal: 1m 5s\tremaining: 33.2s\n",
      "663:\tlearn: 1311.7516595\ttest: 1463.5561030\tbest: 1463.5561030 (663)\ttotal: 1m 5s\tremaining: 33.1s\n",
      "664:\tlearn: 1311.6503812\ttest: 1463.5068713\tbest: 1463.5068713 (664)\ttotal: 1m 5s\tremaining: 33s\n",
      "665:\tlearn: 1311.4736005\ttest: 1463.4675957\tbest: 1463.4675957 (665)\ttotal: 1m 5s\tremaining: 32.9s\n",
      "666:\tlearn: 1311.3545310\ttest: 1463.4369466\tbest: 1463.4369466 (666)\ttotal: 1m 5s\tremaining: 32.8s\n",
      "667:\tlearn: 1311.1368734\ttest: 1463.4063248\tbest: 1463.4063248 (667)\ttotal: 1m 5s\tremaining: 32.7s\n",
      "668:\tlearn: 1311.0882025\ttest: 1463.3939946\tbest: 1463.3939946 (668)\ttotal: 1m 5s\tremaining: 32.6s\n",
      "669:\tlearn: 1310.8349319\ttest: 1463.3590962\tbest: 1463.3590962 (669)\ttotal: 1m 6s\tremaining: 32.5s\n",
      "670:\tlearn: 1310.5927871\ttest: 1463.3710595\tbest: 1463.3590962 (669)\ttotal: 1m 6s\tremaining: 32.4s\n",
      "671:\tlearn: 1310.4526583\ttest: 1463.3495694\tbest: 1463.3495694 (671)\ttotal: 1m 6s\tremaining: 32.3s\n",
      "672:\tlearn: 1310.1617266\ttest: 1463.2817307\tbest: 1463.2817307 (672)\ttotal: 1m 6s\tremaining: 32.2s\n",
      "673:\tlearn: 1309.8425602\ttest: 1463.2191922\tbest: 1463.2191922 (673)\ttotal: 1m 6s\tremaining: 32.1s\n",
      "674:\tlearn: 1309.6905633\ttest: 1463.1862409\tbest: 1463.1862409 (674)\ttotal: 1m 6s\tremaining: 32s\n",
      "675:\tlearn: 1309.5019796\ttest: 1463.1892759\tbest: 1463.1862409 (674)\ttotal: 1m 6s\tremaining: 31.9s\n",
      "676:\tlearn: 1309.2485535\ttest: 1463.0816003\tbest: 1463.0816003 (676)\ttotal: 1m 6s\tremaining: 31.8s\n",
      "677:\tlearn: 1308.9712375\ttest: 1462.9571518\tbest: 1462.9571518 (677)\ttotal: 1m 6s\tremaining: 31.7s\n",
      "678:\tlearn: 1308.7251642\ttest: 1462.9120069\tbest: 1462.9120069 (678)\ttotal: 1m 6s\tremaining: 31.6s\n",
      "679:\tlearn: 1308.5182308\ttest: 1462.8325372\tbest: 1462.8325372 (679)\ttotal: 1m 7s\tremaining: 31.6s\n",
      "680:\tlearn: 1308.2278597\ttest: 1462.8196827\tbest: 1462.8196827 (680)\ttotal: 1m 7s\tremaining: 31.5s\n",
      "681:\tlearn: 1308.1141812\ttest: 1462.8051113\tbest: 1462.8051113 (681)\ttotal: 1m 7s\tremaining: 31.4s\n",
      "682:\tlearn: 1307.8964659\ttest: 1462.7703735\tbest: 1462.7703735 (682)\ttotal: 1m 7s\tremaining: 31.4s\n",
      "683:\tlearn: 1307.4406295\ttest: 1462.6674024\tbest: 1462.6674024 (683)\ttotal: 1m 7s\tremaining: 31.3s\n",
      "684:\tlearn: 1307.1550521\ttest: 1462.6079836\tbest: 1462.6079836 (684)\ttotal: 1m 7s\tremaining: 31.2s\n",
      "685:\tlearn: 1306.8944118\ttest: 1462.5684735\tbest: 1462.5684735 (685)\ttotal: 1m 7s\tremaining: 31.1s\n",
      "686:\tlearn: 1306.5880383\ttest: 1462.5609003\tbest: 1462.5609003 (686)\ttotal: 1m 8s\tremaining: 31s\n",
      "687:\tlearn: 1306.2948742\ttest: 1462.5076537\tbest: 1462.5076537 (687)\ttotal: 1m 8s\tremaining: 30.9s\n",
      "688:\tlearn: 1306.0770690\ttest: 1462.4316690\tbest: 1462.4316690 (688)\ttotal: 1m 8s\tremaining: 30.8s\n",
      "689:\tlearn: 1305.9848858\ttest: 1462.3958247\tbest: 1462.3958247 (689)\ttotal: 1m 8s\tremaining: 30.7s\n",
      "690:\tlearn: 1305.8786295\ttest: 1462.3914347\tbest: 1462.3914347 (690)\ttotal: 1m 8s\tremaining: 30.6s\n",
      "691:\tlearn: 1305.7590253\ttest: 1462.3320364\tbest: 1462.3320364 (691)\ttotal: 1m 8s\tremaining: 30.5s\n",
      "692:\tlearn: 1305.4328826\ttest: 1462.2225279\tbest: 1462.2225279 (692)\ttotal: 1m 8s\tremaining: 30.4s\n",
      "693:\tlearn: 1305.1393559\ttest: 1462.1415751\tbest: 1462.1415751 (693)\ttotal: 1m 8s\tremaining: 30.3s\n",
      "694:\tlearn: 1304.9929602\ttest: 1462.1190773\tbest: 1462.1190773 (694)\ttotal: 1m 8s\tremaining: 30.2s\n",
      "695:\tlearn: 1304.8129270\ttest: 1462.1006205\tbest: 1462.1006205 (695)\ttotal: 1m 8s\tremaining: 30.1s\n",
      "696:\tlearn: 1304.7140606\ttest: 1462.0978702\tbest: 1462.0978702 (696)\ttotal: 1m 8s\tremaining: 30s\n",
      "697:\tlearn: 1304.3200063\ttest: 1461.9972428\tbest: 1461.9972428 (697)\ttotal: 1m 9s\tremaining: 29.9s\n",
      "698:\tlearn: 1303.9210921\ttest: 1461.9705604\tbest: 1461.9705604 (698)\ttotal: 1m 9s\tremaining: 29.8s\n",
      "699:\tlearn: 1303.6727138\ttest: 1461.9846648\tbest: 1461.9705604 (698)\ttotal: 1m 9s\tremaining: 29.7s\n",
      "700:\tlearn: 1303.4574189\ttest: 1461.8605478\tbest: 1461.8605478 (700)\ttotal: 1m 9s\tremaining: 29.6s\n",
      "701:\tlearn: 1303.2642528\ttest: 1461.7395926\tbest: 1461.7395926 (701)\ttotal: 1m 9s\tremaining: 29.5s\n",
      "702:\tlearn: 1303.0321693\ttest: 1461.7372130\tbest: 1461.7372130 (702)\ttotal: 1m 9s\tremaining: 29.4s\n",
      "703:\tlearn: 1302.8404221\ttest: 1461.7039199\tbest: 1461.7039199 (703)\ttotal: 1m 9s\tremaining: 29.3s\n",
      "704:\tlearn: 1302.6655797\ttest: 1461.6944483\tbest: 1461.6944483 (704)\ttotal: 1m 9s\tremaining: 29.2s\n",
      "705:\tlearn: 1302.3192514\ttest: 1461.5623249\tbest: 1461.5623249 (705)\ttotal: 1m 9s\tremaining: 29.1s\n",
      "706:\tlearn: 1302.0242336\ttest: 1461.5067757\tbest: 1461.5067757 (706)\ttotal: 1m 9s\tremaining: 29s\n",
      "707:\tlearn: 1301.9557268\ttest: 1461.4848592\tbest: 1461.4848592 (707)\ttotal: 1m 10s\tremaining: 28.9s\n",
      "708:\tlearn: 1301.7220407\ttest: 1461.4552582\tbest: 1461.4552582 (708)\ttotal: 1m 10s\tremaining: 28.8s\n",
      "709:\tlearn: 1301.3238627\ttest: 1461.3918303\tbest: 1461.3918303 (709)\ttotal: 1m 10s\tremaining: 28.7s\n",
      "710:\tlearn: 1301.1472170\ttest: 1461.3531566\tbest: 1461.3531566 (710)\ttotal: 1m 10s\tremaining: 28.6s\n",
      "711:\tlearn: 1301.0224463\ttest: 1461.3156022\tbest: 1461.3156022 (711)\ttotal: 1m 10s\tremaining: 28.5s\n",
      "712:\tlearn: 1300.9326864\ttest: 1461.2884023\tbest: 1461.2884023 (712)\ttotal: 1m 10s\tremaining: 28.4s\n",
      "713:\tlearn: 1300.6650938\ttest: 1461.1944417\tbest: 1461.1944417 (713)\ttotal: 1m 10s\tremaining: 28.3s\n",
      "714:\tlearn: 1300.4911106\ttest: 1461.1650990\tbest: 1461.1650990 (714)\ttotal: 1m 10s\tremaining: 28.2s\n",
      "715:\tlearn: 1300.1570505\ttest: 1461.0519259\tbest: 1461.0519259 (715)\ttotal: 1m 10s\tremaining: 28.1s\n",
      "716:\tlearn: 1299.9297311\ttest: 1461.0528634\tbest: 1461.0519259 (715)\ttotal: 1m 10s\tremaining: 28s\n",
      "717:\tlearn: 1299.7383289\ttest: 1460.9816315\tbest: 1460.9816315 (717)\ttotal: 1m 11s\tremaining: 27.9s\n",
      "718:\tlearn: 1299.4707356\ttest: 1460.9145575\tbest: 1460.9145575 (718)\ttotal: 1m 11s\tremaining: 27.8s\n",
      "719:\tlearn: 1299.2816714\ttest: 1460.9111169\tbest: 1460.9111169 (719)\ttotal: 1m 11s\tremaining: 27.7s\n",
      "720:\tlearn: 1299.1552677\ttest: 1460.8702805\tbest: 1460.8702805 (720)\ttotal: 1m 11s\tremaining: 27.6s\n",
      "721:\tlearn: 1298.9122151\ttest: 1460.8085715\tbest: 1460.8085715 (721)\ttotal: 1m 11s\tremaining: 27.5s\n",
      "722:\tlearn: 1298.6522272\ttest: 1460.7497508\tbest: 1460.7497508 (722)\ttotal: 1m 11s\tremaining: 27.4s\n",
      "723:\tlearn: 1298.5386127\ttest: 1460.7735436\tbest: 1460.7497508 (722)\ttotal: 1m 11s\tremaining: 27.3s\n",
      "724:\tlearn: 1298.3136687\ttest: 1460.7429142\tbest: 1460.7429142 (724)\ttotal: 1m 11s\tremaining: 27.2s\n",
      "725:\tlearn: 1298.2045219\ttest: 1460.7407811\tbest: 1460.7407811 (725)\ttotal: 1m 11s\tremaining: 27.1s\n",
      "726:\tlearn: 1297.8608557\ttest: 1460.6230897\tbest: 1460.6230897 (726)\ttotal: 1m 11s\tremaining: 27s\n",
      "727:\tlearn: 1297.6610447\ttest: 1460.5698155\tbest: 1460.5698155 (727)\ttotal: 1m 12s\tremaining: 26.9s\n",
      "728:\tlearn: 1297.4870844\ttest: 1460.5269873\tbest: 1460.5269873 (728)\ttotal: 1m 12s\tremaining: 26.8s\n",
      "729:\tlearn: 1297.2909803\ttest: 1460.5492658\tbest: 1460.5269873 (728)\ttotal: 1m 12s\tremaining: 26.7s\n",
      "730:\tlearn: 1297.2009616\ttest: 1460.5259004\tbest: 1460.5259004 (730)\ttotal: 1m 12s\tremaining: 26.6s\n",
      "731:\tlearn: 1297.0323893\ttest: 1460.5023102\tbest: 1460.5023102 (731)\ttotal: 1m 12s\tremaining: 26.5s\n",
      "732:\tlearn: 1296.8395031\ttest: 1460.4823456\tbest: 1460.4823456 (732)\ttotal: 1m 12s\tremaining: 26.4s\n",
      "733:\tlearn: 1296.6675408\ttest: 1460.4650429\tbest: 1460.4650429 (733)\ttotal: 1m 12s\tremaining: 26.3s\n",
      "734:\tlearn: 1296.4890185\ttest: 1460.4457386\tbest: 1460.4457386 (734)\ttotal: 1m 12s\tremaining: 26.2s\n",
      "735:\tlearn: 1296.1814433\ttest: 1460.3528911\tbest: 1460.3528911 (735)\ttotal: 1m 12s\tremaining: 26.1s\n",
      "736:\tlearn: 1296.0619564\ttest: 1460.3574620\tbest: 1460.3528911 (735)\ttotal: 1m 12s\tremaining: 26s\n",
      "737:\tlearn: 1295.9762385\ttest: 1460.3348243\tbest: 1460.3348243 (737)\ttotal: 1m 12s\tremaining: 25.9s\n",
      "738:\tlearn: 1295.9119894\ttest: 1460.3286617\tbest: 1460.3286617 (738)\ttotal: 1m 13s\tremaining: 25.8s\n",
      "739:\tlearn: 1295.5843695\ttest: 1460.2072944\tbest: 1460.2072944 (739)\ttotal: 1m 13s\tremaining: 25.7s\n",
      "740:\tlearn: 1295.3927114\ttest: 1460.1252279\tbest: 1460.1252279 (740)\ttotal: 1m 13s\tremaining: 25.6s\n",
      "741:\tlearn: 1295.2044623\ttest: 1460.1130666\tbest: 1460.1130666 (741)\ttotal: 1m 13s\tremaining: 25.5s\n",
      "742:\tlearn: 1295.0616312\ttest: 1460.0663534\tbest: 1460.0663534 (742)\ttotal: 1m 13s\tremaining: 25.4s\n",
      "743:\tlearn: 1294.8029252\ttest: 1460.0391662\tbest: 1460.0391662 (743)\ttotal: 1m 13s\tremaining: 25.3s\n",
      "744:\tlearn: 1294.6476286\ttest: 1460.0255823\tbest: 1460.0255823 (744)\ttotal: 1m 13s\tremaining: 25.2s\n",
      "745:\tlearn: 1294.5554775\ttest: 1460.0229409\tbest: 1460.0229409 (745)\ttotal: 1m 13s\tremaining: 25.1s\n",
      "746:\tlearn: 1294.3505850\ttest: 1460.0337434\tbest: 1460.0229409 (745)\ttotal: 1m 13s\tremaining: 25s\n",
      "747:\tlearn: 1294.2325735\ttest: 1459.9880581\tbest: 1459.9880581 (747)\ttotal: 1m 13s\tremaining: 24.9s\n",
      "748:\tlearn: 1294.1730515\ttest: 1459.9759152\tbest: 1459.9759152 (748)\ttotal: 1m 14s\tremaining: 24.8s\n",
      "749:\tlearn: 1293.9948284\ttest: 1460.0130526\tbest: 1459.9759152 (748)\ttotal: 1m 14s\tremaining: 24.7s\n",
      "750:\tlearn: 1293.8029387\ttest: 1459.9307615\tbest: 1459.9307615 (750)\ttotal: 1m 14s\tremaining: 24.6s\n",
      "751:\tlearn: 1293.6531573\ttest: 1459.9318220\tbest: 1459.9307615 (750)\ttotal: 1m 14s\tremaining: 24.5s\n",
      "752:\tlearn: 1293.5581585\ttest: 1459.9033235\tbest: 1459.9033235 (752)\ttotal: 1m 14s\tremaining: 24.4s\n",
      "753:\tlearn: 1293.3584412\ttest: 1459.7799242\tbest: 1459.7799242 (753)\ttotal: 1m 14s\tremaining: 24.3s\n",
      "754:\tlearn: 1293.0980806\ttest: 1459.7017104\tbest: 1459.7017104 (754)\ttotal: 1m 14s\tremaining: 24.2s\n",
      "755:\tlearn: 1292.8277432\ttest: 1459.7288415\tbest: 1459.7017104 (754)\ttotal: 1m 14s\tremaining: 24.1s\n",
      "756:\tlearn: 1292.6053467\ttest: 1459.6498016\tbest: 1459.6498016 (756)\ttotal: 1m 14s\tremaining: 24s\n",
      "757:\tlearn: 1292.4705040\ttest: 1459.6385572\tbest: 1459.6385572 (757)\ttotal: 1m 14s\tremaining: 23.9s\n",
      "758:\tlearn: 1292.2109056\ttest: 1459.6293673\tbest: 1459.6293673 (758)\ttotal: 1m 14s\tremaining: 23.8s\n",
      "759:\tlearn: 1291.9721569\ttest: 1459.6332066\tbest: 1459.6293673 (758)\ttotal: 1m 15s\tremaining: 23.7s\n",
      "760:\tlearn: 1291.7742052\ttest: 1459.5620700\tbest: 1459.5620700 (760)\ttotal: 1m 15s\tremaining: 23.6s\n",
      "761:\tlearn: 1291.5748615\ttest: 1459.5349151\tbest: 1459.5349151 (761)\ttotal: 1m 15s\tremaining: 23.5s\n",
      "762:\tlearn: 1291.4160079\ttest: 1459.4590442\tbest: 1459.4590442 (762)\ttotal: 1m 15s\tremaining: 23.4s\n",
      "763:\tlearn: 1291.2007860\ttest: 1459.4230168\tbest: 1459.4230168 (763)\ttotal: 1m 15s\tremaining: 23.3s\n",
      "764:\tlearn: 1291.0314866\ttest: 1459.4091552\tbest: 1459.4091552 (764)\ttotal: 1m 15s\tremaining: 23.2s\n",
      "765:\tlearn: 1290.8774195\ttest: 1459.3344478\tbest: 1459.3344478 (765)\ttotal: 1m 15s\tremaining: 23.1s\n",
      "766:\tlearn: 1290.7247491\ttest: 1459.3089067\tbest: 1459.3089067 (766)\ttotal: 1m 15s\tremaining: 23s\n",
      "767:\tlearn: 1290.5518496\ttest: 1459.2866288\tbest: 1459.2866288 (767)\ttotal: 1m 15s\tremaining: 22.9s\n",
      "768:\tlearn: 1290.3587014\ttest: 1459.2220698\tbest: 1459.2220698 (768)\ttotal: 1m 15s\tremaining: 22.8s\n",
      "769:\tlearn: 1290.1544482\ttest: 1459.2196492\tbest: 1459.2196492 (769)\ttotal: 1m 16s\tremaining: 22.7s\n",
      "770:\tlearn: 1289.9887819\ttest: 1459.2319515\tbest: 1459.2196492 (769)\ttotal: 1m 16s\tremaining: 22.6s\n",
      "771:\tlearn: 1289.9301871\ttest: 1459.2291873\tbest: 1459.2196492 (769)\ttotal: 1m 16s\tremaining: 22.5s\n",
      "772:\tlearn: 1289.5439665\ttest: 1459.1894236\tbest: 1459.1894236 (772)\ttotal: 1m 16s\tremaining: 22.4s\n",
      "773:\tlearn: 1289.0215133\ttest: 1459.1133464\tbest: 1459.1133464 (773)\ttotal: 1m 16s\tremaining: 22.3s\n",
      "774:\tlearn: 1288.4918611\ttest: 1458.9993619\tbest: 1458.9993619 (774)\ttotal: 1m 16s\tremaining: 22.2s\n",
      "775:\tlearn: 1288.0864589\ttest: 1458.9236079\tbest: 1458.9236079 (775)\ttotal: 1m 16s\tremaining: 22.1s\n",
      "776:\tlearn: 1287.8408945\ttest: 1458.8856112\tbest: 1458.8856112 (776)\ttotal: 1m 16s\tremaining: 22s\n",
      "777:\tlearn: 1287.6364988\ttest: 1458.8862772\tbest: 1458.8856112 (776)\ttotal: 1m 16s\tremaining: 21.9s\n",
      "778:\tlearn: 1287.4430312\ttest: 1458.8253256\tbest: 1458.8253256 (778)\ttotal: 1m 16s\tremaining: 21.8s\n",
      "779:\tlearn: 1287.3380381\ttest: 1458.8235077\tbest: 1458.8235077 (779)\ttotal: 1m 17s\tremaining: 21.7s\n",
      "780:\tlearn: 1287.1848340\ttest: 1458.8204452\tbest: 1458.8204452 (780)\ttotal: 1m 17s\tremaining: 21.6s\n",
      "781:\tlearn: 1287.0858620\ttest: 1458.8449434\tbest: 1458.8204452 (780)\ttotal: 1m 17s\tremaining: 21.5s\n",
      "782:\tlearn: 1286.8811553\ttest: 1458.8239732\tbest: 1458.8204452 (780)\ttotal: 1m 17s\tremaining: 21.4s\n",
      "783:\tlearn: 1286.7502668\ttest: 1458.7357539\tbest: 1458.7357539 (783)\ttotal: 1m 17s\tremaining: 21.3s\n",
      "784:\tlearn: 1286.6613238\ttest: 1458.6819034\tbest: 1458.6819034 (784)\ttotal: 1m 17s\tremaining: 21.2s\n",
      "785:\tlearn: 1286.4509752\ttest: 1458.5774350\tbest: 1458.5774350 (785)\ttotal: 1m 17s\tremaining: 21.1s\n",
      "786:\tlearn: 1286.2372930\ttest: 1458.4777341\tbest: 1458.4777341 (786)\ttotal: 1m 17s\tremaining: 21s\n",
      "787:\tlearn: 1286.0290915\ttest: 1458.4551556\tbest: 1458.4551556 (787)\ttotal: 1m 17s\tremaining: 20.9s\n",
      "788:\tlearn: 1285.9523916\ttest: 1458.4532246\tbest: 1458.4532246 (788)\ttotal: 1m 17s\tremaining: 20.8s\n",
      "789:\tlearn: 1285.7850768\ttest: 1458.4381200\tbest: 1458.4381200 (789)\ttotal: 1m 17s\tremaining: 20.7s\n",
      "790:\tlearn: 1285.7196913\ttest: 1458.4204886\tbest: 1458.4204886 (790)\ttotal: 1m 18s\tremaining: 20.6s\n",
      "791:\tlearn: 1285.4512583\ttest: 1458.3639558\tbest: 1458.3639558 (791)\ttotal: 1m 18s\tremaining: 20.5s\n",
      "792:\tlearn: 1285.2632268\ttest: 1458.3441683\tbest: 1458.3441683 (792)\ttotal: 1m 18s\tremaining: 20.4s\n",
      "793:\tlearn: 1285.1667107\ttest: 1458.3842679\tbest: 1458.3441683 (792)\ttotal: 1m 18s\tremaining: 20.3s\n",
      "794:\tlearn: 1285.0821030\ttest: 1458.3811265\tbest: 1458.3441683 (792)\ttotal: 1m 18s\tremaining: 20.2s\n",
      "795:\tlearn: 1284.8954572\ttest: 1458.3699190\tbest: 1458.3441683 (792)\ttotal: 1m 18s\tremaining: 20.1s\n",
      "796:\tlearn: 1284.5836924\ttest: 1458.2901432\tbest: 1458.2901432 (796)\ttotal: 1m 18s\tremaining: 20s\n",
      "797:\tlearn: 1284.4527430\ttest: 1458.2587856\tbest: 1458.2587856 (797)\ttotal: 1m 18s\tremaining: 19.9s\n",
      "798:\tlearn: 1284.3968438\ttest: 1458.2676212\tbest: 1458.2587856 (797)\ttotal: 1m 18s\tremaining: 19.8s\n",
      "799:\tlearn: 1284.2590071\ttest: 1458.2783610\tbest: 1458.2587856 (797)\ttotal: 1m 18s\tremaining: 19.7s\n",
      "800:\tlearn: 1284.0871713\ttest: 1458.2704406\tbest: 1458.2587856 (797)\ttotal: 1m 19s\tremaining: 19.6s\n",
      "801:\tlearn: 1283.8608963\ttest: 1458.2792913\tbest: 1458.2587856 (797)\ttotal: 1m 19s\tremaining: 19.5s\n",
      "802:\tlearn: 1283.6914557\ttest: 1458.2389278\tbest: 1458.2389278 (802)\ttotal: 1m 19s\tremaining: 19.4s\n",
      "803:\tlearn: 1283.5261384\ttest: 1458.2095398\tbest: 1458.2095398 (803)\ttotal: 1m 19s\tremaining: 19.3s\n",
      "804:\tlearn: 1283.5017776\ttest: 1458.2048452\tbest: 1458.2048452 (804)\ttotal: 1m 19s\tremaining: 19.2s\n",
      "805:\tlearn: 1283.3503659\ttest: 1458.1864858\tbest: 1458.1864858 (805)\ttotal: 1m 19s\tremaining: 19.1s\n",
      "806:\tlearn: 1283.1214166\ttest: 1458.1698615\tbest: 1458.1698615 (806)\ttotal: 1m 19s\tremaining: 19s\n",
      "807:\tlearn: 1282.9602404\ttest: 1458.1921449\tbest: 1458.1698615 (806)\ttotal: 1m 19s\tremaining: 18.9s\n",
      "808:\tlearn: 1282.8242302\ttest: 1458.2044317\tbest: 1458.1698615 (806)\ttotal: 1m 19s\tremaining: 18.8s\n",
      "809:\tlearn: 1282.6617306\ttest: 1458.1892052\tbest: 1458.1698615 (806)\ttotal: 1m 19s\tremaining: 18.7s\n",
      "810:\tlearn: 1282.4191001\ttest: 1458.1255796\tbest: 1458.1255796 (810)\ttotal: 1m 20s\tremaining: 18.6s\n",
      "811:\tlearn: 1282.0911085\ttest: 1458.0408670\tbest: 1458.0408670 (811)\ttotal: 1m 20s\tremaining: 18.6s\n",
      "812:\tlearn: 1281.8858826\ttest: 1457.9753900\tbest: 1457.9753900 (812)\ttotal: 1m 20s\tremaining: 18.5s\n",
      "813:\tlearn: 1281.8197554\ttest: 1457.9576265\tbest: 1457.9576265 (813)\ttotal: 1m 20s\tremaining: 18.4s\n",
      "814:\tlearn: 1281.7250191\ttest: 1457.9659965\tbest: 1457.9576265 (813)\ttotal: 1m 20s\tremaining: 18.3s\n",
      "815:\tlearn: 1281.4834358\ttest: 1457.9328707\tbest: 1457.9328707 (815)\ttotal: 1m 20s\tremaining: 18.2s\n",
      "816:\tlearn: 1281.2610061\ttest: 1457.8855533\tbest: 1457.8855533 (816)\ttotal: 1m 20s\tremaining: 18.1s\n",
      "817:\tlearn: 1281.2113218\ttest: 1457.8762863\tbest: 1457.8762863 (817)\ttotal: 1m 20s\tremaining: 18s\n",
      "818:\tlearn: 1281.0407807\ttest: 1457.8615340\tbest: 1457.8615340 (818)\ttotal: 1m 20s\tremaining: 17.9s\n",
      "819:\tlearn: 1280.9243171\ttest: 1457.8560015\tbest: 1457.8560015 (819)\ttotal: 1m 20s\tremaining: 17.8s\n",
      "820:\tlearn: 1280.5791171\ttest: 1457.7334929\tbest: 1457.7334929 (820)\ttotal: 1m 21s\tremaining: 17.7s\n",
      "821:\tlearn: 1280.4149143\ttest: 1457.7325216\tbest: 1457.7325216 (821)\ttotal: 1m 21s\tremaining: 17.6s\n",
      "822:\tlearn: 1280.2540156\ttest: 1457.7001239\tbest: 1457.7001239 (822)\ttotal: 1m 21s\tremaining: 17.5s\n",
      "823:\tlearn: 1280.1161685\ttest: 1457.6304485\tbest: 1457.6304485 (823)\ttotal: 1m 21s\tremaining: 17.4s\n",
      "824:\tlearn: 1279.8224167\ttest: 1457.6013894\tbest: 1457.6013894 (824)\ttotal: 1m 21s\tremaining: 17.3s\n",
      "825:\tlearn: 1279.5384128\ttest: 1457.6458019\tbest: 1457.6013894 (824)\ttotal: 1m 21s\tremaining: 17.2s\n",
      "826:\tlearn: 1279.2796209\ttest: 1457.6085708\tbest: 1457.6013894 (824)\ttotal: 1m 21s\tremaining: 17.1s\n",
      "827:\tlearn: 1279.1825975\ttest: 1457.5982069\tbest: 1457.5982069 (827)\ttotal: 1m 21s\tremaining: 17s\n",
      "828:\tlearn: 1278.8443351\ttest: 1457.5704369\tbest: 1457.5704369 (828)\ttotal: 1m 21s\tremaining: 16.9s\n",
      "829:\tlearn: 1278.5562424\ttest: 1457.5692636\tbest: 1457.5692636 (829)\ttotal: 1m 21s\tremaining: 16.8s\n",
      "830:\tlearn: 1278.3440891\ttest: 1457.5398991\tbest: 1457.5398991 (830)\ttotal: 1m 21s\tremaining: 16.7s\n",
      "831:\tlearn: 1278.2143355\ttest: 1457.4861233\tbest: 1457.4861233 (831)\ttotal: 1m 22s\tremaining: 16.6s\n",
      "832:\tlearn: 1278.0364685\ttest: 1457.4857817\tbest: 1457.4857817 (832)\ttotal: 1m 22s\tremaining: 16.5s\n",
      "833:\tlearn: 1277.9421725\ttest: 1457.4615637\tbest: 1457.4615637 (833)\ttotal: 1m 22s\tremaining: 16.4s\n",
      "834:\tlearn: 1277.7586705\ttest: 1457.4628676\tbest: 1457.4615637 (833)\ttotal: 1m 22s\tremaining: 16.3s\n",
      "835:\tlearn: 1277.5957613\ttest: 1457.4308700\tbest: 1457.4308700 (835)\ttotal: 1m 22s\tremaining: 16.2s\n",
      "836:\tlearn: 1277.4830775\ttest: 1457.3930582\tbest: 1457.3930582 (836)\ttotal: 1m 22s\tremaining: 16.1s\n",
      "837:\tlearn: 1277.3941096\ttest: 1457.3726230\tbest: 1457.3726230 (837)\ttotal: 1m 22s\tremaining: 16s\n",
      "838:\tlearn: 1277.2524377\ttest: 1457.3353195\tbest: 1457.3353195 (838)\ttotal: 1m 22s\tremaining: 15.9s\n",
      "839:\tlearn: 1277.1886154\ttest: 1457.3125742\tbest: 1457.3125742 (839)\ttotal: 1m 22s\tremaining: 15.8s\n",
      "840:\tlearn: 1277.1357714\ttest: 1457.2988828\tbest: 1457.2988828 (840)\ttotal: 1m 22s\tremaining: 15.7s\n",
      "841:\tlearn: 1276.9504165\ttest: 1457.2430696\tbest: 1457.2430696 (841)\ttotal: 1m 23s\tremaining: 15.6s\n",
      "842:\tlearn: 1276.6987025\ttest: 1457.2043267\tbest: 1457.2043267 (842)\ttotal: 1m 23s\tremaining: 15.5s\n",
      "843:\tlearn: 1276.3283708\ttest: 1457.0832827\tbest: 1457.0832827 (843)\ttotal: 1m 23s\tremaining: 15.4s\n",
      "844:\tlearn: 1276.2200531\ttest: 1457.0698817\tbest: 1457.0698817 (844)\ttotal: 1m 23s\tremaining: 15.3s\n",
      "845:\tlearn: 1276.0591598\ttest: 1457.0229089\tbest: 1457.0229089 (845)\ttotal: 1m 23s\tremaining: 15.2s\n",
      "846:\tlearn: 1275.8897548\ttest: 1456.9998717\tbest: 1456.9998717 (846)\ttotal: 1m 23s\tremaining: 15.1s\n",
      "847:\tlearn: 1275.7231119\ttest: 1456.9960418\tbest: 1456.9960418 (847)\ttotal: 1m 23s\tremaining: 15s\n",
      "848:\tlearn: 1275.5594770\ttest: 1456.9822927\tbest: 1456.9822927 (848)\ttotal: 1m 23s\tremaining: 14.9s\n",
      "849:\tlearn: 1275.4263409\ttest: 1456.9560199\tbest: 1456.9560199 (849)\ttotal: 1m 23s\tremaining: 14.8s\n",
      "850:\tlearn: 1275.2916450\ttest: 1456.8965451\tbest: 1456.8965451 (850)\ttotal: 1m 23s\tremaining: 14.7s\n",
      "851:\tlearn: 1275.1172364\ttest: 1456.8977294\tbest: 1456.8965451 (850)\ttotal: 1m 24s\tremaining: 14.6s\n",
      "852:\tlearn: 1275.0663928\ttest: 1456.8720100\tbest: 1456.8720100 (852)\ttotal: 1m 24s\tremaining: 14.5s\n",
      "853:\tlearn: 1274.8550663\ttest: 1456.7862465\tbest: 1456.7862465 (853)\ttotal: 1m 24s\tremaining: 14.4s\n",
      "854:\tlearn: 1274.6697734\ttest: 1456.7473038\tbest: 1456.7473038 (854)\ttotal: 1m 24s\tremaining: 14.3s\n",
      "855:\tlearn: 1274.4761444\ttest: 1456.7441544\tbest: 1456.7441544 (855)\ttotal: 1m 24s\tremaining: 14.2s\n",
      "856:\tlearn: 1274.4038306\ttest: 1456.7277077\tbest: 1456.7277077 (856)\ttotal: 1m 24s\tremaining: 14.1s\n",
      "857:\tlearn: 1274.2770262\ttest: 1456.6584865\tbest: 1456.6584865 (857)\ttotal: 1m 24s\tremaining: 14s\n",
      "858:\tlearn: 1274.0052750\ttest: 1456.6313657\tbest: 1456.6313657 (858)\ttotal: 1m 24s\tremaining: 13.9s\n",
      "859:\tlearn: 1273.8238473\ttest: 1456.6349538\tbest: 1456.6313657 (858)\ttotal: 1m 24s\tremaining: 13.8s\n",
      "860:\tlearn: 1273.6296720\ttest: 1456.6130779\tbest: 1456.6130779 (860)\ttotal: 1m 24s\tremaining: 13.7s\n",
      "861:\tlearn: 1273.4687577\ttest: 1456.5764757\tbest: 1456.5764757 (861)\ttotal: 1m 25s\tremaining: 13.6s\n",
      "862:\tlearn: 1273.3157777\ttest: 1456.5371685\tbest: 1456.5371685 (862)\ttotal: 1m 25s\tremaining: 13.5s\n",
      "863:\tlearn: 1273.2358696\ttest: 1456.5182043\tbest: 1456.5182043 (863)\ttotal: 1m 25s\tremaining: 13.4s\n",
      "864:\tlearn: 1272.9899667\ttest: 1456.5145592\tbest: 1456.5145592 (864)\ttotal: 1m 25s\tremaining: 13.3s\n",
      "865:\tlearn: 1272.9409870\ttest: 1456.5118389\tbest: 1456.5118389 (865)\ttotal: 1m 25s\tremaining: 13.2s\n",
      "866:\tlearn: 1272.7349531\ttest: 1456.4790141\tbest: 1456.4790141 (866)\ttotal: 1m 25s\tremaining: 13.1s\n",
      "867:\tlearn: 1272.5232450\ttest: 1456.4688967\tbest: 1456.4688967 (867)\ttotal: 1m 25s\tremaining: 13s\n",
      "868:\tlearn: 1272.3266576\ttest: 1456.3640596\tbest: 1456.3640596 (868)\ttotal: 1m 25s\tremaining: 12.9s\n",
      "869:\tlearn: 1271.9927237\ttest: 1456.3061036\tbest: 1456.3061036 (869)\ttotal: 1m 25s\tremaining: 12.8s\n",
      "870:\tlearn: 1271.7983114\ttest: 1456.2399863\tbest: 1456.2399863 (870)\ttotal: 1m 25s\tremaining: 12.7s\n",
      "871:\tlearn: 1271.7104399\ttest: 1456.2149704\tbest: 1456.2149704 (871)\ttotal: 1m 26s\tremaining: 12.6s\n",
      "872:\tlearn: 1271.4779886\ttest: 1456.1954218\tbest: 1456.1954218 (872)\ttotal: 1m 26s\tremaining: 12.5s\n",
      "873:\tlearn: 1271.3828226\ttest: 1456.1770711\tbest: 1456.1770711 (873)\ttotal: 1m 26s\tremaining: 12.4s\n",
      "874:\tlearn: 1271.2464164\ttest: 1456.1698396\tbest: 1456.1698396 (874)\ttotal: 1m 26s\tremaining: 12.3s\n",
      "875:\tlearn: 1271.0447515\ttest: 1456.1663431\tbest: 1456.1663431 (875)\ttotal: 1m 26s\tremaining: 12.2s\n",
      "876:\tlearn: 1270.9238878\ttest: 1456.1662142\tbest: 1456.1662142 (876)\ttotal: 1m 26s\tremaining: 12.1s\n",
      "877:\tlearn: 1270.7634190\ttest: 1456.1372549\tbest: 1456.1372549 (877)\ttotal: 1m 26s\tremaining: 12s\n",
      "878:\tlearn: 1270.6310397\ttest: 1456.1069137\tbest: 1456.1069137 (878)\ttotal: 1m 26s\tremaining: 11.9s\n",
      "879:\tlearn: 1270.4304631\ttest: 1456.0720444\tbest: 1456.0720444 (879)\ttotal: 1m 26s\tremaining: 11.8s\n",
      "880:\tlearn: 1270.1305203\ttest: 1456.0333957\tbest: 1456.0333957 (880)\ttotal: 1m 26s\tremaining: 11.7s\n",
      "881:\tlearn: 1270.0161161\ttest: 1456.0225396\tbest: 1456.0225396 (881)\ttotal: 1m 27s\tremaining: 11.6s\n",
      "882:\tlearn: 1269.8511180\ttest: 1456.0359196\tbest: 1456.0225396 (881)\ttotal: 1m 27s\tremaining: 11.5s\n",
      "883:\tlearn: 1269.7470189\ttest: 1456.0330914\tbest: 1456.0225396 (881)\ttotal: 1m 27s\tremaining: 11.5s\n",
      "884:\tlearn: 1269.6461982\ttest: 1456.0281389\tbest: 1456.0225396 (881)\ttotal: 1m 27s\tremaining: 11.4s\n",
      "885:\tlearn: 1269.5670507\ttest: 1456.0081527\tbest: 1456.0081527 (885)\ttotal: 1m 27s\tremaining: 11.3s\n",
      "886:\tlearn: 1269.5207714\ttest: 1456.0063814\tbest: 1456.0063814 (886)\ttotal: 1m 27s\tremaining: 11.2s\n",
      "887:\tlearn: 1269.4552585\ttest: 1456.0051836\tbest: 1456.0051836 (887)\ttotal: 1m 27s\tremaining: 11.1s\n",
      "888:\tlearn: 1269.2369953\ttest: 1456.0109787\tbest: 1456.0051836 (887)\ttotal: 1m 27s\tremaining: 11s\n",
      "889:\tlearn: 1269.0296454\ttest: 1455.9137833\tbest: 1455.9137833 (889)\ttotal: 1m 27s\tremaining: 10.9s\n",
      "890:\tlearn: 1268.8972144\ttest: 1455.8840840\tbest: 1455.8840840 (890)\ttotal: 1m 28s\tremaining: 10.8s\n",
      "891:\tlearn: 1268.6803146\ttest: 1455.8086294\tbest: 1455.8086294 (891)\ttotal: 1m 28s\tremaining: 10.7s\n",
      "892:\tlearn: 1268.5359532\ttest: 1455.7347973\tbest: 1455.7347973 (892)\ttotal: 1m 28s\tremaining: 10.6s\n",
      "893:\tlearn: 1268.2825894\ttest: 1455.7059428\tbest: 1455.7059428 (893)\ttotal: 1m 28s\tremaining: 10.5s\n",
      "894:\tlearn: 1268.1442807\ttest: 1455.6668237\tbest: 1455.6668237 (894)\ttotal: 1m 28s\tremaining: 10.4s\n",
      "895:\tlearn: 1267.9373757\ttest: 1455.6816107\tbest: 1455.6668237 (894)\ttotal: 1m 28s\tremaining: 10.3s\n",
      "896:\tlearn: 1267.8478392\ttest: 1455.6331387\tbest: 1455.6331387 (896)\ttotal: 1m 28s\tremaining: 10.2s\n",
      "897:\tlearn: 1267.7212442\ttest: 1455.6136633\tbest: 1455.6136633 (897)\ttotal: 1m 28s\tremaining: 10.1s\n",
      "898:\tlearn: 1267.6543352\ttest: 1455.6149791\tbest: 1455.6136633 (897)\ttotal: 1m 28s\tremaining: 9.98s\n",
      "899:\tlearn: 1267.3466932\ttest: 1455.5785609\tbest: 1455.5785609 (899)\ttotal: 1m 29s\tremaining: 9.89s\n",
      "900:\tlearn: 1267.2476075\ttest: 1455.5534496\tbest: 1455.5534496 (900)\ttotal: 1m 29s\tremaining: 9.79s\n",
      "901:\tlearn: 1267.0506292\ttest: 1455.4937260\tbest: 1455.4937260 (901)\ttotal: 1m 29s\tremaining: 9.69s\n",
      "902:\tlearn: 1266.8377990\ttest: 1455.4527491\tbest: 1455.4527491 (902)\ttotal: 1m 29s\tremaining: 9.6s\n",
      "903:\tlearn: 1266.6653431\ttest: 1455.4535841\tbest: 1455.4527491 (902)\ttotal: 1m 29s\tremaining: 9.5s\n",
      "904:\tlearn: 1266.3813647\ttest: 1455.4136264\tbest: 1455.4136264 (904)\ttotal: 1m 29s\tremaining: 9.4s\n",
      "905:\tlearn: 1265.9332120\ttest: 1455.3054021\tbest: 1455.3054021 (905)\ttotal: 1m 29s\tremaining: 9.3s\n",
      "906:\tlearn: 1265.8228098\ttest: 1455.3013623\tbest: 1455.3013623 (906)\ttotal: 1m 29s\tremaining: 9.2s\n",
      "907:\tlearn: 1265.7629335\ttest: 1455.3058021\tbest: 1455.3013623 (906)\ttotal: 1m 29s\tremaining: 9.1s\n",
      "908:\tlearn: 1265.5178784\ttest: 1455.2885177\tbest: 1455.2885177 (908)\ttotal: 1m 29s\tremaining: 9s\n",
      "909:\tlearn: 1265.3400836\ttest: 1455.2897454\tbest: 1455.2885177 (908)\ttotal: 1m 30s\tremaining: 8.9s\n",
      "910:\tlearn: 1265.0751187\ttest: 1455.2579601\tbest: 1455.2579601 (910)\ttotal: 1m 30s\tremaining: 8.81s\n",
      "911:\tlearn: 1264.8330135\ttest: 1455.2119786\tbest: 1455.2119786 (911)\ttotal: 1m 30s\tremaining: 8.71s\n",
      "912:\tlearn: 1264.5602601\ttest: 1455.1805935\tbest: 1455.1805935 (912)\ttotal: 1m 30s\tremaining: 8.61s\n",
      "913:\tlearn: 1264.3954143\ttest: 1455.1760686\tbest: 1455.1760686 (913)\ttotal: 1m 30s\tremaining: 8.51s\n",
      "914:\tlearn: 1264.1516517\ttest: 1455.1436970\tbest: 1455.1436970 (914)\ttotal: 1m 30s\tremaining: 8.42s\n",
      "915:\tlearn: 1263.9324758\ttest: 1455.0831954\tbest: 1455.0831954 (915)\ttotal: 1m 30s\tremaining: 8.32s\n",
      "916:\tlearn: 1263.8981826\ttest: 1455.0852281\tbest: 1455.0831954 (915)\ttotal: 1m 30s\tremaining: 8.22s\n",
      "917:\tlearn: 1263.6251681\ttest: 1455.0050781\tbest: 1455.0050781 (917)\ttotal: 1m 30s\tremaining: 8.12s\n",
      "918:\tlearn: 1263.4925920\ttest: 1454.9473142\tbest: 1454.9473142 (918)\ttotal: 1m 31s\tremaining: 8.02s\n",
      "919:\tlearn: 1263.3555103\ttest: 1454.9422547\tbest: 1454.9422547 (919)\ttotal: 1m 31s\tremaining: 7.92s\n",
      "920:\tlearn: 1263.2530260\ttest: 1454.9102733\tbest: 1454.9102733 (920)\ttotal: 1m 31s\tremaining: 7.83s\n",
      "921:\tlearn: 1263.1970659\ttest: 1454.8826837\tbest: 1454.8826837 (921)\ttotal: 1m 31s\tremaining: 7.73s\n",
      "922:\tlearn: 1262.9893798\ttest: 1454.8331791\tbest: 1454.8331791 (922)\ttotal: 1m 31s\tremaining: 7.63s\n",
      "923:\tlearn: 1262.8864473\ttest: 1454.8213832\tbest: 1454.8213832 (923)\ttotal: 1m 31s\tremaining: 7.53s\n",
      "924:\tlearn: 1262.6919332\ttest: 1454.8006955\tbest: 1454.8006955 (924)\ttotal: 1m 31s\tremaining: 7.43s\n",
      "925:\tlearn: 1262.5725605\ttest: 1454.7791762\tbest: 1454.7791762 (925)\ttotal: 1m 31s\tremaining: 7.33s\n",
      "926:\tlearn: 1262.3154899\ttest: 1454.7232134\tbest: 1454.7232134 (926)\ttotal: 1m 31s\tremaining: 7.23s\n",
      "927:\tlearn: 1262.2009068\ttest: 1454.7344825\tbest: 1454.7232134 (926)\ttotal: 1m 31s\tremaining: 7.13s\n",
      "928:\tlearn: 1261.9949203\ttest: 1454.7509340\tbest: 1454.7232134 (926)\ttotal: 1m 32s\tremaining: 7.03s\n",
      "929:\tlearn: 1261.8090644\ttest: 1454.7469999\tbest: 1454.7232134 (926)\ttotal: 1m 32s\tremaining: 6.93s\n",
      "930:\tlearn: 1261.5724573\ttest: 1454.7287434\tbest: 1454.7232134 (926)\ttotal: 1m 32s\tremaining: 6.83s\n",
      "931:\tlearn: 1261.5325808\ttest: 1454.7303789\tbest: 1454.7232134 (926)\ttotal: 1m 32s\tremaining: 6.73s\n",
      "932:\tlearn: 1261.4001675\ttest: 1454.7026355\tbest: 1454.7026355 (932)\ttotal: 1m 32s\tremaining: 6.63s\n",
      "933:\tlearn: 1261.2623260\ttest: 1454.6811998\tbest: 1454.6811998 (933)\ttotal: 1m 32s\tremaining: 6.54s\n",
      "934:\tlearn: 1261.0764547\ttest: 1454.6352327\tbest: 1454.6352327 (934)\ttotal: 1m 32s\tremaining: 6.44s\n",
      "935:\tlearn: 1260.8907173\ttest: 1454.5927386\tbest: 1454.5927386 (935)\ttotal: 1m 32s\tremaining: 6.34s\n",
      "936:\tlearn: 1260.7169619\ttest: 1454.5904788\tbest: 1454.5904788 (936)\ttotal: 1m 32s\tremaining: 6.24s\n",
      "937:\tlearn: 1260.4318016\ttest: 1454.5731840\tbest: 1454.5731840 (937)\ttotal: 1m 32s\tremaining: 6.14s\n",
      "938:\tlearn: 1260.3044585\ttest: 1454.5580877\tbest: 1454.5580877 (938)\ttotal: 1m 32s\tremaining: 6.04s\n",
      "939:\tlearn: 1260.2062821\ttest: 1454.5763503\tbest: 1454.5580877 (938)\ttotal: 1m 33s\tremaining: 5.94s\n",
      "940:\tlearn: 1260.0250282\ttest: 1454.5653788\tbest: 1454.5580877 (938)\ttotal: 1m 33s\tremaining: 5.84s\n",
      "941:\tlearn: 1259.7704100\ttest: 1454.5625577\tbest: 1454.5580877 (938)\ttotal: 1m 33s\tremaining: 5.74s\n",
      "942:\tlearn: 1259.6380673\ttest: 1454.5352933\tbest: 1454.5352933 (942)\ttotal: 1m 33s\tremaining: 5.64s\n",
      "943:\tlearn: 1259.4154385\ttest: 1454.4776493\tbest: 1454.4776493 (943)\ttotal: 1m 33s\tremaining: 5.55s\n",
      "944:\tlearn: 1259.2604584\ttest: 1454.4316700\tbest: 1454.4316700 (944)\ttotal: 1m 33s\tremaining: 5.45s\n",
      "945:\tlearn: 1259.0608873\ttest: 1454.4163038\tbest: 1454.4163038 (945)\ttotal: 1m 33s\tremaining: 5.35s\n",
      "946:\tlearn: 1258.8079484\ttest: 1454.3590867\tbest: 1454.3590867 (946)\ttotal: 1m 33s\tremaining: 5.25s\n",
      "947:\tlearn: 1258.6897045\ttest: 1454.3342456\tbest: 1454.3342456 (947)\ttotal: 1m 33s\tremaining: 5.15s\n",
      "948:\tlearn: 1258.4378429\ttest: 1454.2516503\tbest: 1454.2516503 (948)\ttotal: 1m 33s\tremaining: 5.05s\n",
      "949:\tlearn: 1258.3556636\ttest: 1454.2609654\tbest: 1454.2516503 (948)\ttotal: 1m 34s\tremaining: 4.95s\n",
      "950:\tlearn: 1258.0693221\ttest: 1454.1653432\tbest: 1454.1653432 (950)\ttotal: 1m 34s\tremaining: 4.85s\n",
      "951:\tlearn: 1257.8627728\ttest: 1454.1346820\tbest: 1454.1346820 (951)\ttotal: 1m 34s\tremaining: 4.75s\n",
      "952:\tlearn: 1257.6511619\ttest: 1454.0614638\tbest: 1454.0614638 (952)\ttotal: 1m 34s\tremaining: 4.66s\n",
      "953:\tlearn: 1257.4069595\ttest: 1454.0954688\tbest: 1454.0614638 (952)\ttotal: 1m 34s\tremaining: 4.56s\n",
      "954:\tlearn: 1257.2106610\ttest: 1454.0405723\tbest: 1454.0405723 (954)\ttotal: 1m 34s\tremaining: 4.46s\n",
      "955:\tlearn: 1257.0534987\ttest: 1453.9868604\tbest: 1453.9868604 (955)\ttotal: 1m 34s\tremaining: 4.36s\n",
      "956:\tlearn: 1256.9285343\ttest: 1453.9691359\tbest: 1453.9691359 (956)\ttotal: 1m 34s\tremaining: 4.26s\n",
      "957:\tlearn: 1256.7064810\ttest: 1453.9730885\tbest: 1453.9691359 (956)\ttotal: 1m 34s\tremaining: 4.16s\n",
      "958:\tlearn: 1256.5496274\ttest: 1453.9353706\tbest: 1453.9353706 (958)\ttotal: 1m 34s\tremaining: 4.06s\n",
      "959:\tlearn: 1256.4221813\ttest: 1453.9554000\tbest: 1453.9353706 (958)\ttotal: 1m 35s\tremaining: 3.96s\n",
      "960:\tlearn: 1256.0894010\ttest: 1453.8815700\tbest: 1453.8815700 (960)\ttotal: 1m 35s\tremaining: 3.86s\n",
      "961:\tlearn: 1256.0422016\ttest: 1453.8701758\tbest: 1453.8701758 (961)\ttotal: 1m 35s\tremaining: 3.76s\n",
      "962:\tlearn: 1255.8923917\ttest: 1453.8225838\tbest: 1453.8225838 (962)\ttotal: 1m 35s\tremaining: 3.66s\n",
      "963:\tlearn: 1255.8626744\ttest: 1453.8219117\tbest: 1453.8219117 (963)\ttotal: 1m 35s\tremaining: 3.56s\n",
      "964:\tlearn: 1255.6300755\ttest: 1453.7985435\tbest: 1453.7985435 (964)\ttotal: 1m 35s\tremaining: 3.47s\n",
      "965:\tlearn: 1255.4635788\ttest: 1453.8128277\tbest: 1453.7985435 (964)\ttotal: 1m 35s\tremaining: 3.37s\n",
      "966:\tlearn: 1255.3912645\ttest: 1453.7969764\tbest: 1453.7969764 (966)\ttotal: 1m 35s\tremaining: 3.27s\n",
      "967:\tlearn: 1255.1071811\ttest: 1453.8071458\tbest: 1453.7969764 (966)\ttotal: 1m 35s\tremaining: 3.17s\n",
      "968:\tlearn: 1254.9769752\ttest: 1453.7862107\tbest: 1453.7862107 (968)\ttotal: 1m 35s\tremaining: 3.07s\n",
      "969:\tlearn: 1254.7075692\ttest: 1453.7180355\tbest: 1453.7180355 (969)\ttotal: 1m 36s\tremaining: 2.97s\n",
      "970:\tlearn: 1254.5634036\ttest: 1453.6943615\tbest: 1453.6943615 (970)\ttotal: 1m 36s\tremaining: 2.87s\n",
      "971:\tlearn: 1254.3898478\ttest: 1453.6311571\tbest: 1453.6311571 (971)\ttotal: 1m 36s\tremaining: 2.77s\n",
      "972:\tlearn: 1254.2566457\ttest: 1453.6338170\tbest: 1453.6311571 (971)\ttotal: 1m 36s\tremaining: 2.67s\n",
      "973:\tlearn: 1254.0119269\ttest: 1453.6377750\tbest: 1453.6311571 (971)\ttotal: 1m 36s\tremaining: 2.58s\n",
      "974:\tlearn: 1253.8084051\ttest: 1453.6299394\tbest: 1453.6299394 (974)\ttotal: 1m 36s\tremaining: 2.48s\n",
      "975:\tlearn: 1253.6875606\ttest: 1453.5763529\tbest: 1453.5763529 (975)\ttotal: 1m 36s\tremaining: 2.38s\n",
      "976:\tlearn: 1253.5421147\ttest: 1453.5856902\tbest: 1453.5763529 (975)\ttotal: 1m 36s\tremaining: 2.28s\n",
      "977:\tlearn: 1253.2902834\ttest: 1453.5909637\tbest: 1453.5763529 (975)\ttotal: 1m 36s\tremaining: 2.18s\n",
      "978:\tlearn: 1253.1981500\ttest: 1453.5899961\tbest: 1453.5763529 (975)\ttotal: 1m 37s\tremaining: 2.08s\n",
      "979:\tlearn: 1253.0699202\ttest: 1453.5943090\tbest: 1453.5763529 (975)\ttotal: 1m 37s\tremaining: 1.98s\n",
      "980:\tlearn: 1252.8467990\ttest: 1453.5378991\tbest: 1453.5378991 (980)\ttotal: 1m 37s\tremaining: 1.88s\n",
      "981:\tlearn: 1252.6438182\ttest: 1453.5001539\tbest: 1453.5001539 (981)\ttotal: 1m 37s\tremaining: 1.78s\n",
      "982:\tlearn: 1252.4801869\ttest: 1453.4808768\tbest: 1453.4808768 (982)\ttotal: 1m 37s\tremaining: 1.68s\n",
      "983:\tlearn: 1252.3295860\ttest: 1453.4933333\tbest: 1453.4808768 (982)\ttotal: 1m 37s\tremaining: 1.58s\n",
      "984:\tlearn: 1252.1968597\ttest: 1453.5078520\tbest: 1453.4808768 (982)\ttotal: 1m 37s\tremaining: 1.49s\n",
      "985:\tlearn: 1252.0383810\ttest: 1453.4747304\tbest: 1453.4747304 (985)\ttotal: 1m 37s\tremaining: 1.39s\n",
      "986:\tlearn: 1251.8509256\ttest: 1453.4762166\tbest: 1453.4747304 (985)\ttotal: 1m 37s\tremaining: 1.29s\n",
      "987:\tlearn: 1251.7472923\ttest: 1453.4792196\tbest: 1453.4747304 (985)\ttotal: 1m 37s\tremaining: 1.19s\n",
      "988:\tlearn: 1251.6699857\ttest: 1453.4611371\tbest: 1453.4611371 (988)\ttotal: 1m 38s\tremaining: 1.09s\n",
      "989:\tlearn: 1251.4060348\ttest: 1453.4924747\tbest: 1453.4611371 (988)\ttotal: 1m 38s\tremaining: 991ms\n",
      "990:\tlearn: 1251.2383835\ttest: 1453.4934088\tbest: 1453.4611371 (988)\ttotal: 1m 38s\tremaining: 892ms\n",
      "991:\tlearn: 1251.0893622\ttest: 1453.4416032\tbest: 1453.4416032 (991)\ttotal: 1m 38s\tremaining: 793ms\n",
      "992:\tlearn: 1251.0694660\ttest: 1453.4419889\tbest: 1453.4416032 (991)\ttotal: 1m 38s\tremaining: 694ms\n",
      "993:\tlearn: 1250.9515410\ttest: 1453.4239196\tbest: 1453.4239196 (993)\ttotal: 1m 38s\tremaining: 595ms\n",
      "994:\tlearn: 1250.8420976\ttest: 1453.3853654\tbest: 1453.3853654 (994)\ttotal: 1m 38s\tremaining: 496ms\n",
      "995:\tlearn: 1250.6746548\ttest: 1453.3950296\tbest: 1453.3853654 (994)\ttotal: 1m 38s\tremaining: 396ms\n",
      "996:\tlearn: 1250.4602486\ttest: 1453.3652067\tbest: 1453.3652067 (996)\ttotal: 1m 38s\tremaining: 297ms\n",
      "997:\tlearn: 1250.3467534\ttest: 1453.3427595\tbest: 1453.3427595 (997)\ttotal: 1m 38s\tremaining: 198ms\n",
      "998:\tlearn: 1250.0200365\ttest: 1453.2735358\tbest: 1453.2735358 (998)\ttotal: 1m 39s\tremaining: 99.1ms\n",
      "999:\tlearn: 1249.9427509\ttest: 1453.2564420\tbest: 1453.2564420 (999)\ttotal: 1m 39s\tremaining: 0us\n",
      "\n",
      "bestTest = 1453.256442\n",
      "bestIteration = 999\n",
      "\n"
     ]
    },
    {
     "data": {
      "text/plain": [
       "{'depth': 10, 'learning_rate': 0.1}"
      ]
     },
     "execution_count": 71,
     "metadata": {},
     "output_type": "execute_result"
    }
   ],
   "source": [
    "cat = CatBoostRegressor(loss_function='RMSE')\n",
    "cat_param = {\n",
    "    'depth': [10],\n",
    "    'learning_rate': np.arange(0.1, 1, 0.3)\n",
    "}\n",
    "cat_grid = cat.grid_search(cat_param, Pool(train_features_lin, train_target_lin), \n",
    "                           cv=2, plot=False, verbose=True)\n",
    "cat_grid['params']"
   ]
  },
  {
   "cell_type": "code",
   "execution_count": 72,
   "metadata": {},
   "outputs": [],
   "source": [
    "final_cat = CatBoostRegressor(loss_function='RMSE', depth = 10, learning_rate = 0.1)"
   ]
  },
  {
   "cell_type": "code",
   "execution_count": 73,
   "metadata": {},
   "outputs": [
    {
     "name": "stdout",
     "output_type": "stream",
     "text": [
      "0:\tlearn: 3204.4132534\ttotal: 192ms\tremaining: 3m 11s\n",
      "1:\tlearn: 3013.7857572\ttotal: 407ms\tremaining: 3m 23s\n",
      "2:\tlearn: 2842.9992575\ttotal: 581ms\tremaining: 3m 13s\n",
      "3:\tlearn: 2697.2486549\ttotal: 756ms\tremaining: 3m 8s\n",
      "4:\tlearn: 2569.5888176\ttotal: 923ms\tremaining: 3m 3s\n",
      "5:\tlearn: 2458.3822008\ttotal: 1.09s\tremaining: 3m\n",
      "6:\tlearn: 2360.4672051\ttotal: 1.26s\tremaining: 2m 58s\n",
      "7:\tlearn: 2276.4617849\ttotal: 1.43s\tremaining: 2m 57s\n",
      "8:\tlearn: 2205.0988016\ttotal: 1.59s\tremaining: 2m 55s\n",
      "9:\tlearn: 2140.4007328\ttotal: 1.77s\tremaining: 2m 55s\n",
      "10:\tlearn: 2083.2625647\ttotal: 1.94s\tremaining: 2m 54s\n",
      "11:\tlearn: 2033.3890453\ttotal: 2.11s\tremaining: 2m 53s\n",
      "12:\tlearn: 1991.4717924\ttotal: 2.27s\tremaining: 2m 52s\n",
      "13:\tlearn: 1953.7069299\ttotal: 2.45s\tremaining: 2m 52s\n",
      "14:\tlearn: 1921.4550486\ttotal: 2.62s\tremaining: 2m 51s\n",
      "15:\tlearn: 1889.5929261\ttotal: 2.79s\tremaining: 2m 51s\n",
      "16:\tlearn: 1863.0358993\ttotal: 2.95s\tremaining: 2m 50s\n",
      "17:\tlearn: 1839.3321023\ttotal: 3.12s\tremaining: 2m 50s\n",
      "18:\tlearn: 1816.5054931\ttotal: 3.29s\tremaining: 2m 49s\n",
      "19:\tlearn: 1798.8555354\ttotal: 3.46s\tremaining: 2m 49s\n",
      "20:\tlearn: 1783.0681662\ttotal: 3.63s\tremaining: 2m 49s\n",
      "21:\tlearn: 1768.9917035\ttotal: 3.8s\tremaining: 2m 48s\n",
      "22:\tlearn: 1752.6008245\ttotal: 3.97s\tremaining: 2m 48s\n",
      "23:\tlearn: 1741.1873593\ttotal: 4.14s\tremaining: 2m 48s\n",
      "24:\tlearn: 1728.0716323\ttotal: 4.32s\tremaining: 2m 48s\n",
      "25:\tlearn: 1717.3316112\ttotal: 4.5s\tremaining: 2m 48s\n",
      "26:\tlearn: 1706.0492121\ttotal: 4.66s\tremaining: 2m 48s\n",
      "27:\tlearn: 1696.7748271\ttotal: 4.84s\tremaining: 2m 47s\n",
      "28:\tlearn: 1688.5995653\ttotal: 5s\tremaining: 2m 47s\n",
      "29:\tlearn: 1680.4760314\ttotal: 5.17s\tremaining: 2m 47s\n",
      "30:\tlearn: 1673.1446659\ttotal: 5.34s\tremaining: 2m 46s\n",
      "31:\tlearn: 1666.0083670\ttotal: 5.52s\tremaining: 2m 46s\n",
      "32:\tlearn: 1660.9617499\ttotal: 5.69s\tremaining: 2m 46s\n",
      "33:\tlearn: 1654.8101161\ttotal: 5.87s\tremaining: 2m 46s\n",
      "34:\tlearn: 1649.8530743\ttotal: 6.05s\tremaining: 2m 46s\n",
      "35:\tlearn: 1645.8925412\ttotal: 6.22s\tremaining: 2m 46s\n",
      "36:\tlearn: 1641.3099241\ttotal: 6.39s\tremaining: 2m 46s\n",
      "37:\tlearn: 1637.0441713\ttotal: 6.56s\tremaining: 2m 46s\n",
      "38:\tlearn: 1633.7701685\ttotal: 6.74s\tremaining: 2m 45s\n",
      "39:\tlearn: 1629.0708062\ttotal: 6.92s\tremaining: 2m 46s\n",
      "40:\tlearn: 1625.9207149\ttotal: 7.08s\tremaining: 2m 45s\n",
      "41:\tlearn: 1622.6315721\ttotal: 7.25s\tremaining: 2m 45s\n",
      "42:\tlearn: 1619.6654563\ttotal: 7.42s\tremaining: 2m 45s\n",
      "43:\tlearn: 1617.0946435\ttotal: 7.6s\tremaining: 2m 45s\n",
      "44:\tlearn: 1614.2602155\ttotal: 7.76s\tremaining: 2m 44s\n",
      "45:\tlearn: 1610.7682925\ttotal: 7.94s\tremaining: 2m 44s\n",
      "46:\tlearn: 1608.3630880\ttotal: 8.11s\tremaining: 2m 44s\n",
      "47:\tlearn: 1605.4774369\ttotal: 8.29s\tremaining: 2m 44s\n",
      "48:\tlearn: 1603.3156187\ttotal: 8.47s\tremaining: 2m 44s\n",
      "49:\tlearn: 1601.0065066\ttotal: 8.65s\tremaining: 2m 44s\n",
      "50:\tlearn: 1598.7671892\ttotal: 8.82s\tremaining: 2m 44s\n",
      "51:\tlearn: 1595.7513450\ttotal: 8.99s\tremaining: 2m 43s\n",
      "52:\tlearn: 1593.8090479\ttotal: 9.16s\tremaining: 2m 43s\n",
      "53:\tlearn: 1592.1159858\ttotal: 9.34s\tremaining: 2m 43s\n",
      "54:\tlearn: 1590.4047502\ttotal: 9.51s\tremaining: 2m 43s\n",
      "55:\tlearn: 1587.0169115\ttotal: 9.71s\tremaining: 2m 43s\n",
      "56:\tlearn: 1585.6271885\ttotal: 9.87s\tremaining: 2m 43s\n",
      "57:\tlearn: 1583.3109350\ttotal: 10s\tremaining: 2m 43s\n",
      "58:\tlearn: 1581.8287037\ttotal: 10.2s\tremaining: 2m 42s\n",
      "59:\tlearn: 1580.2280522\ttotal: 10.4s\tremaining: 2m 42s\n",
      "60:\tlearn: 1578.6334429\ttotal: 10.6s\tremaining: 2m 42s\n",
      "61:\tlearn: 1577.6136710\ttotal: 10.7s\tremaining: 2m 42s\n",
      "62:\tlearn: 1575.7885357\ttotal: 10.9s\tremaining: 2m 42s\n",
      "63:\tlearn: 1574.1837384\ttotal: 11.1s\tremaining: 2m 42s\n",
      "64:\tlearn: 1573.1196699\ttotal: 11.3s\tremaining: 2m 42s\n",
      "65:\tlearn: 1572.0867707\ttotal: 11.4s\tremaining: 2m 41s\n",
      "66:\tlearn: 1570.4023139\ttotal: 11.6s\tremaining: 2m 41s\n",
      "67:\tlearn: 1568.9389941\ttotal: 11.8s\tremaining: 2m 41s\n",
      "68:\tlearn: 1567.5803136\ttotal: 12s\tremaining: 2m 41s\n",
      "69:\tlearn: 1566.7903667\ttotal: 12.2s\tremaining: 2m 41s\n",
      "70:\tlearn: 1564.6587901\ttotal: 12.3s\tremaining: 2m 41s\n",
      "71:\tlearn: 1562.9911611\ttotal: 12.5s\tremaining: 2m 41s\n",
      "72:\tlearn: 1561.2153826\ttotal: 12.7s\tremaining: 2m 41s\n",
      "73:\tlearn: 1560.0705547\ttotal: 12.9s\tremaining: 2m 41s\n",
      "74:\tlearn: 1558.9678313\ttotal: 13s\tremaining: 2m 40s\n",
      "75:\tlearn: 1557.2684280\ttotal: 13.2s\tremaining: 2m 40s\n",
      "76:\tlearn: 1556.3462070\ttotal: 13.4s\tremaining: 2m 40s\n",
      "77:\tlearn: 1555.0784350\ttotal: 13.6s\tremaining: 2m 40s\n",
      "78:\tlearn: 1553.0738791\ttotal: 13.8s\tremaining: 2m 40s\n",
      "79:\tlearn: 1552.3492856\ttotal: 13.9s\tremaining: 2m 40s\n",
      "80:\tlearn: 1551.0727725\ttotal: 14.1s\tremaining: 2m 40s\n",
      "81:\tlearn: 1550.1098414\ttotal: 14.3s\tremaining: 2m 39s\n",
      "82:\tlearn: 1549.1205393\ttotal: 14.5s\tremaining: 2m 39s\n",
      "83:\tlearn: 1547.6300044\ttotal: 14.6s\tremaining: 2m 39s\n",
      "84:\tlearn: 1546.3434669\ttotal: 14.8s\tremaining: 2m 39s\n",
      "85:\tlearn: 1544.4311076\ttotal: 15s\tremaining: 2m 39s\n",
      "86:\tlearn: 1542.9090795\ttotal: 15.2s\tremaining: 2m 39s\n",
      "87:\tlearn: 1541.8458987\ttotal: 15.4s\tremaining: 2m 39s\n",
      "88:\tlearn: 1540.4871101\ttotal: 15.6s\tremaining: 2m 39s\n",
      "89:\tlearn: 1539.7772141\ttotal: 15.7s\tremaining: 2m 39s\n",
      "90:\tlearn: 1539.0300369\ttotal: 15.9s\tremaining: 2m 38s\n",
      "91:\tlearn: 1538.0133715\ttotal: 16.1s\tremaining: 2m 38s\n",
      "92:\tlearn: 1536.4096889\ttotal: 16.3s\tremaining: 2m 38s\n",
      "93:\tlearn: 1535.7172671\ttotal: 16.4s\tremaining: 2m 38s\n",
      "94:\tlearn: 1535.0275863\ttotal: 16.6s\tremaining: 2m 38s\n",
      "95:\tlearn: 1534.0154003\ttotal: 16.8s\tremaining: 2m 38s\n",
      "96:\tlearn: 1533.0887092\ttotal: 17s\tremaining: 2m 37s\n",
      "97:\tlearn: 1532.4243270\ttotal: 17.1s\tremaining: 2m 37s\n",
      "98:\tlearn: 1531.8836229\ttotal: 17.3s\tremaining: 2m 37s\n",
      "99:\tlearn: 1531.0314171\ttotal: 17.5s\tremaining: 2m 37s\n",
      "100:\tlearn: 1530.2847384\ttotal: 17.6s\tremaining: 2m 37s\n",
      "101:\tlearn: 1529.1275583\ttotal: 17.8s\tremaining: 2m 36s\n",
      "102:\tlearn: 1528.3739522\ttotal: 18s\tremaining: 2m 36s\n",
      "103:\tlearn: 1527.4347648\ttotal: 18.2s\tremaining: 2m 36s\n",
      "104:\tlearn: 1526.8555453\ttotal: 18.4s\tremaining: 2m 36s\n",
      "105:\tlearn: 1526.1392372\ttotal: 18.5s\tremaining: 2m 36s\n",
      "106:\tlearn: 1525.5157024\ttotal: 18.7s\tremaining: 2m 36s\n",
      "107:\tlearn: 1524.9818441\ttotal: 18.9s\tremaining: 2m 35s\n",
      "108:\tlearn: 1524.2337019\ttotal: 19.1s\tremaining: 2m 35s\n",
      "109:\tlearn: 1523.6236936\ttotal: 19.2s\tremaining: 2m 35s\n",
      "110:\tlearn: 1522.7639837\ttotal: 19.4s\tremaining: 2m 35s\n",
      "111:\tlearn: 1522.0417354\ttotal: 19.7s\tremaining: 2m 35s\n",
      "112:\tlearn: 1521.5458273\ttotal: 19.8s\tremaining: 2m 35s\n",
      "113:\tlearn: 1520.7114136\ttotal: 20s\tremaining: 2m 35s\n",
      "114:\tlearn: 1519.8006336\ttotal: 20.2s\tremaining: 2m 35s\n",
      "115:\tlearn: 1518.7437691\ttotal: 20.4s\tremaining: 2m 35s\n",
      "116:\tlearn: 1517.8467843\ttotal: 20.5s\tremaining: 2m 34s\n",
      "117:\tlearn: 1517.1822471\ttotal: 20.7s\tremaining: 2m 34s\n",
      "118:\tlearn: 1516.4320537\ttotal: 20.9s\tremaining: 2m 34s\n",
      "119:\tlearn: 1514.4430674\ttotal: 21s\tremaining: 2m 34s\n",
      "120:\tlearn: 1513.7527733\ttotal: 21.2s\tremaining: 2m 34s\n",
      "121:\tlearn: 1513.2312405\ttotal: 21.4s\tremaining: 2m 33s\n",
      "122:\tlearn: 1512.5582804\ttotal: 21.6s\tremaining: 2m 33s\n",
      "123:\tlearn: 1511.7809222\ttotal: 21.7s\tremaining: 2m 33s\n",
      "124:\tlearn: 1511.2693918\ttotal: 21.9s\tremaining: 2m 33s\n",
      "125:\tlearn: 1510.3304490\ttotal: 22.1s\tremaining: 2m 33s\n",
      "126:\tlearn: 1509.7040964\ttotal: 22.2s\tremaining: 2m 32s\n",
      "127:\tlearn: 1508.8194052\ttotal: 22.4s\tremaining: 2m 32s\n",
      "128:\tlearn: 1507.8203544\ttotal: 22.6s\tremaining: 2m 32s\n",
      "129:\tlearn: 1507.2815233\ttotal: 22.8s\tremaining: 2m 32s\n",
      "130:\tlearn: 1506.5892059\ttotal: 22.9s\tremaining: 2m 32s\n",
      "131:\tlearn: 1505.6401438\ttotal: 23.1s\tremaining: 2m 31s\n",
      "132:\tlearn: 1505.1255773\ttotal: 23.3s\tremaining: 2m 31s\n",
      "133:\tlearn: 1504.5479971\ttotal: 23.4s\tremaining: 2m 31s\n",
      "134:\tlearn: 1503.7754373\ttotal: 23.6s\tremaining: 2m 31s\n",
      "135:\tlearn: 1503.2715647\ttotal: 23.8s\tremaining: 2m 31s\n",
      "136:\tlearn: 1502.4188764\ttotal: 24s\tremaining: 2m 30s\n",
      "137:\tlearn: 1501.8385377\ttotal: 24.1s\tremaining: 2m 30s\n",
      "138:\tlearn: 1501.3621795\ttotal: 24.3s\tremaining: 2m 30s\n",
      "139:\tlearn: 1500.2883879\ttotal: 24.5s\tremaining: 2m 30s\n",
      "140:\tlearn: 1499.8257779\ttotal: 24.6s\tremaining: 2m 30s\n",
      "141:\tlearn: 1498.5025524\ttotal: 24.8s\tremaining: 2m 29s\n",
      "142:\tlearn: 1497.7582723\ttotal: 25s\tremaining: 2m 29s\n",
      "143:\tlearn: 1497.3716313\ttotal: 25.1s\tremaining: 2m 29s\n",
      "144:\tlearn: 1496.6960971\ttotal: 25.3s\tremaining: 2m 29s\n",
      "145:\tlearn: 1495.9426529\ttotal: 25.5s\tremaining: 2m 29s\n",
      "146:\tlearn: 1495.2630888\ttotal: 25.6s\tremaining: 2m 28s\n",
      "147:\tlearn: 1494.7843741\ttotal: 25.9s\tremaining: 2m 28s\n",
      "148:\tlearn: 1494.1183272\ttotal: 26.1s\tremaining: 2m 28s\n",
      "149:\tlearn: 1493.7837860\ttotal: 26.2s\tremaining: 2m 28s\n",
      "150:\tlearn: 1493.0017244\ttotal: 26.4s\tremaining: 2m 28s\n",
      "151:\tlearn: 1492.4151394\ttotal: 26.6s\tremaining: 2m 28s\n",
      "152:\tlearn: 1491.7534873\ttotal: 26.8s\tremaining: 2m 28s\n",
      "153:\tlearn: 1491.3397132\ttotal: 27s\tremaining: 2m 28s\n",
      "154:\tlearn: 1490.6577073\ttotal: 27.3s\tremaining: 2m 28s\n",
      "155:\tlearn: 1489.9622270\ttotal: 27.5s\tremaining: 2m 28s\n",
      "156:\tlearn: 1489.2135421\ttotal: 27.7s\tremaining: 2m 28s\n",
      "157:\tlearn: 1488.6592486\ttotal: 27.9s\tremaining: 2m 28s\n",
      "158:\tlearn: 1487.9327998\ttotal: 28s\tremaining: 2m 28s\n",
      "159:\tlearn: 1487.3132863\ttotal: 28.2s\tremaining: 2m 28s\n",
      "160:\tlearn: 1486.4695813\ttotal: 28.4s\tremaining: 2m 27s\n",
      "161:\tlearn: 1485.8849503\ttotal: 28.5s\tremaining: 2m 27s\n",
      "162:\tlearn: 1485.2573176\ttotal: 28.7s\tremaining: 2m 27s\n",
      "163:\tlearn: 1484.3496589\ttotal: 28.9s\tremaining: 2m 27s\n",
      "164:\tlearn: 1483.7425234\ttotal: 29.1s\tremaining: 2m 27s\n",
      "165:\tlearn: 1483.3235756\ttotal: 29.2s\tremaining: 2m 26s\n",
      "166:\tlearn: 1482.9600984\ttotal: 29.4s\tremaining: 2m 26s\n",
      "167:\tlearn: 1482.5481644\ttotal: 29.6s\tremaining: 2m 26s\n",
      "168:\tlearn: 1482.0080373\ttotal: 29.8s\tremaining: 2m 26s\n",
      "169:\tlearn: 1481.5595248\ttotal: 30s\tremaining: 2m 26s\n",
      "170:\tlearn: 1481.2260681\ttotal: 30.2s\tremaining: 2m 26s\n",
      "171:\tlearn: 1480.7293645\ttotal: 30.3s\tremaining: 2m 26s\n",
      "172:\tlearn: 1480.0102761\ttotal: 30.5s\tremaining: 2m 25s\n",
      "173:\tlearn: 1479.5572819\ttotal: 30.7s\tremaining: 2m 25s\n",
      "174:\tlearn: 1479.0418008\ttotal: 30.8s\tremaining: 2m 25s\n",
      "175:\tlearn: 1478.6428308\ttotal: 31s\tremaining: 2m 25s\n",
      "176:\tlearn: 1478.2151322\ttotal: 31.2s\tremaining: 2m 24s\n",
      "177:\tlearn: 1477.6605653\ttotal: 31.3s\tremaining: 2m 24s\n",
      "178:\tlearn: 1476.9213038\ttotal: 31.5s\tremaining: 2m 24s\n",
      "179:\tlearn: 1476.1504802\ttotal: 31.7s\tremaining: 2m 24s\n",
      "180:\tlearn: 1475.5371739\ttotal: 31.9s\tremaining: 2m 24s\n",
      "181:\tlearn: 1474.8169401\ttotal: 32s\tremaining: 2m 23s\n",
      "182:\tlearn: 1474.1911860\ttotal: 32.2s\tremaining: 2m 23s\n",
      "183:\tlearn: 1473.4892588\ttotal: 32.4s\tremaining: 2m 23s\n",
      "184:\tlearn: 1472.8367672\ttotal: 32.6s\tremaining: 2m 23s\n",
      "185:\tlearn: 1472.2950317\ttotal: 32.7s\tremaining: 2m 23s\n",
      "186:\tlearn: 1472.0444139\ttotal: 32.9s\tremaining: 2m 23s\n",
      "187:\tlearn: 1471.5953253\ttotal: 33.1s\tremaining: 2m 22s\n",
      "188:\tlearn: 1471.1446136\ttotal: 33.2s\tremaining: 2m 22s\n",
      "189:\tlearn: 1470.7180187\ttotal: 33.4s\tremaining: 2m 22s\n",
      "190:\tlearn: 1470.4349599\ttotal: 33.6s\tremaining: 2m 22s\n",
      "191:\tlearn: 1469.9294868\ttotal: 33.8s\tremaining: 2m 22s\n",
      "192:\tlearn: 1469.3525982\ttotal: 33.9s\tremaining: 2m 21s\n",
      "193:\tlearn: 1468.9006327\ttotal: 34.1s\tremaining: 2m 21s\n",
      "194:\tlearn: 1468.5927654\ttotal: 34.3s\tremaining: 2m 21s\n",
      "195:\tlearn: 1468.0650864\ttotal: 34.4s\tremaining: 2m 21s\n",
      "196:\tlearn: 1467.6480628\ttotal: 34.6s\tremaining: 2m 21s\n",
      "197:\tlearn: 1467.0884788\ttotal: 34.8s\tremaining: 2m 20s\n",
      "198:\tlearn: 1466.6470267\ttotal: 34.9s\tremaining: 2m 20s\n",
      "199:\tlearn: 1466.1877029\ttotal: 35.1s\tremaining: 2m 20s\n",
      "200:\tlearn: 1465.9727908\ttotal: 35.3s\tremaining: 2m 20s\n",
      "201:\tlearn: 1465.7247136\ttotal: 35.6s\tremaining: 2m 20s\n",
      "202:\tlearn: 1465.4539667\ttotal: 35.7s\tremaining: 2m 20s\n",
      "203:\tlearn: 1464.8748506\ttotal: 35.9s\tremaining: 2m 20s\n",
      "204:\tlearn: 1464.3835035\ttotal: 36.1s\tremaining: 2m 19s\n",
      "205:\tlearn: 1464.0027904\ttotal: 36.2s\tremaining: 2m 19s\n",
      "206:\tlearn: 1463.4794664\ttotal: 36.4s\tremaining: 2m 19s\n",
      "207:\tlearn: 1463.1986855\ttotal: 36.6s\tremaining: 2m 19s\n",
      "208:\tlearn: 1462.6336833\ttotal: 36.7s\tremaining: 2m 19s\n",
      "209:\tlearn: 1462.2272903\ttotal: 36.9s\tremaining: 2m 18s\n",
      "210:\tlearn: 1461.7346104\ttotal: 37.1s\tremaining: 2m 18s\n",
      "211:\tlearn: 1461.3554090\ttotal: 37.3s\tremaining: 2m 18s\n",
      "212:\tlearn: 1460.8380490\ttotal: 37.4s\tremaining: 2m 18s\n",
      "213:\tlearn: 1460.1867940\ttotal: 37.6s\tremaining: 2m 18s\n",
      "214:\tlearn: 1459.8187272\ttotal: 37.7s\tremaining: 2m 17s\n",
      "215:\tlearn: 1459.5166639\ttotal: 37.9s\tremaining: 2m 17s\n",
      "216:\tlearn: 1459.0850598\ttotal: 38.1s\tremaining: 2m 17s\n",
      "217:\tlearn: 1458.7781804\ttotal: 38.3s\tremaining: 2m 17s\n",
      "218:\tlearn: 1458.4262364\ttotal: 38.4s\tremaining: 2m 17s\n",
      "219:\tlearn: 1457.9418306\ttotal: 38.6s\tremaining: 2m 16s\n",
      "220:\tlearn: 1457.4855971\ttotal: 38.8s\tremaining: 2m 16s\n",
      "221:\tlearn: 1456.7668514\ttotal: 38.9s\tremaining: 2m 16s\n",
      "222:\tlearn: 1456.4515222\ttotal: 39.2s\tremaining: 2m 16s\n",
      "223:\tlearn: 1456.0909348\ttotal: 39.3s\tremaining: 2m 16s\n",
      "224:\tlearn: 1455.5928398\ttotal: 39.5s\tremaining: 2m 16s\n",
      "225:\tlearn: 1455.1560579\ttotal: 39.7s\tremaining: 2m 15s\n",
      "226:\tlearn: 1454.5492639\ttotal: 39.8s\tremaining: 2m 15s\n",
      "227:\tlearn: 1454.2802132\ttotal: 40s\tremaining: 2m 15s\n",
      "228:\tlearn: 1453.9289343\ttotal: 40.2s\tremaining: 2m 15s\n",
      "229:\tlearn: 1453.6490843\ttotal: 40.4s\tremaining: 2m 15s\n",
      "230:\tlearn: 1453.3710135\ttotal: 40.5s\tremaining: 2m 14s\n",
      "231:\tlearn: 1452.9778040\ttotal: 40.7s\tremaining: 2m 14s\n",
      "232:\tlearn: 1452.6614611\ttotal: 40.9s\tremaining: 2m 14s\n",
      "233:\tlearn: 1452.3370889\ttotal: 41s\tremaining: 2m 14s\n",
      "234:\tlearn: 1451.9435097\ttotal: 41.2s\tremaining: 2m 14s\n",
      "235:\tlearn: 1451.7020856\ttotal: 41.4s\tremaining: 2m 13s\n",
      "236:\tlearn: 1451.3831720\ttotal: 41.6s\tremaining: 2m 13s\n",
      "237:\tlearn: 1451.0093711\ttotal: 41.7s\tremaining: 2m 13s\n",
      "238:\tlearn: 1450.7225195\ttotal: 41.9s\tremaining: 2m 13s\n",
      "239:\tlearn: 1450.4144265\ttotal: 42.1s\tremaining: 2m 13s\n",
      "240:\tlearn: 1450.1417545\ttotal: 42.2s\tremaining: 2m 13s\n",
      "241:\tlearn: 1449.7901078\ttotal: 42.4s\tremaining: 2m 12s\n",
      "242:\tlearn: 1449.4753627\ttotal: 42.6s\tremaining: 2m 12s\n",
      "243:\tlearn: 1449.0847403\ttotal: 42.8s\tremaining: 2m 12s\n",
      "244:\tlearn: 1448.7955885\ttotal: 42.9s\tremaining: 2m 12s\n",
      "245:\tlearn: 1448.3634264\ttotal: 43.1s\tremaining: 2m 12s\n",
      "246:\tlearn: 1447.9502474\ttotal: 43.3s\tremaining: 2m 11s\n",
      "247:\tlearn: 1447.6794777\ttotal: 43.4s\tremaining: 2m 11s\n",
      "248:\tlearn: 1447.2996614\ttotal: 43.6s\tremaining: 2m 11s\n",
      "249:\tlearn: 1446.7829174\ttotal: 43.8s\tremaining: 2m 11s\n",
      "250:\tlearn: 1446.4292614\ttotal: 44s\tremaining: 2m 11s\n",
      "251:\tlearn: 1445.7654595\ttotal: 44.2s\tremaining: 2m 11s\n",
      "252:\tlearn: 1445.5052105\ttotal: 44.3s\tremaining: 2m 10s\n",
      "253:\tlearn: 1445.2288641\ttotal: 44.5s\tremaining: 2m 10s\n",
      "254:\tlearn: 1444.9472475\ttotal: 44.7s\tremaining: 2m 10s\n",
      "255:\tlearn: 1444.3921874\ttotal: 44.9s\tremaining: 2m 10s\n",
      "256:\tlearn: 1444.0362674\ttotal: 45s\tremaining: 2m 10s\n",
      "257:\tlearn: 1443.6491996\ttotal: 45.2s\tremaining: 2m 10s\n",
      "258:\tlearn: 1443.1844647\ttotal: 45.4s\tremaining: 2m 9s\n",
      "259:\tlearn: 1442.8607523\ttotal: 45.6s\tremaining: 2m 9s\n",
      "260:\tlearn: 1442.4578024\ttotal: 45.8s\tremaining: 2m 9s\n",
      "261:\tlearn: 1442.1247239\ttotal: 46s\tremaining: 2m 9s\n",
      "262:\tlearn: 1441.6417056\ttotal: 46.2s\tremaining: 2m 9s\n",
      "263:\tlearn: 1441.2847087\ttotal: 46.3s\tremaining: 2m 9s\n",
      "264:\tlearn: 1440.6028598\ttotal: 46.5s\tremaining: 2m 9s\n",
      "265:\tlearn: 1440.2701727\ttotal: 46.7s\tremaining: 2m 8s\n",
      "266:\tlearn: 1440.0681233\ttotal: 46.9s\tremaining: 2m 8s\n",
      "267:\tlearn: 1439.7125800\ttotal: 47s\tremaining: 2m 8s\n",
      "268:\tlearn: 1439.3600623\ttotal: 47.2s\tremaining: 2m 8s\n",
      "269:\tlearn: 1439.0390624\ttotal: 47.4s\tremaining: 2m 8s\n",
      "270:\tlearn: 1438.7795458\ttotal: 47.6s\tremaining: 2m 8s\n",
      "271:\tlearn: 1438.4429452\ttotal: 47.8s\tremaining: 2m 7s\n",
      "272:\tlearn: 1438.1841648\ttotal: 48s\tremaining: 2m 7s\n",
      "273:\tlearn: 1437.8243499\ttotal: 48.1s\tremaining: 2m 7s\n",
      "274:\tlearn: 1437.5699114\ttotal: 48.3s\tremaining: 2m 7s\n",
      "275:\tlearn: 1437.0883347\ttotal: 48.5s\tremaining: 2m 7s\n",
      "276:\tlearn: 1436.8291791\ttotal: 48.7s\tremaining: 2m 7s\n",
      "277:\tlearn: 1436.5442708\ttotal: 48.8s\tremaining: 2m 6s\n",
      "278:\tlearn: 1436.1303548\ttotal: 49s\tremaining: 2m 6s\n",
      "279:\tlearn: 1435.8799580\ttotal: 49.2s\tremaining: 2m 6s\n",
      "280:\tlearn: 1435.6987508\ttotal: 49.4s\tremaining: 2m 6s\n",
      "281:\tlearn: 1435.4722276\ttotal: 49.5s\tremaining: 2m 6s\n",
      "282:\tlearn: 1434.9830120\ttotal: 49.7s\tremaining: 2m 5s\n",
      "283:\tlearn: 1434.6053304\ttotal: 49.9s\tremaining: 2m 5s\n",
      "284:\tlearn: 1434.1039615\ttotal: 50s\tremaining: 2m 5s\n",
      "285:\tlearn: 1433.6296410\ttotal: 50.2s\tremaining: 2m 5s\n",
      "286:\tlearn: 1433.3677557\ttotal: 50.4s\tremaining: 2m 5s\n",
      "287:\tlearn: 1433.0420301\ttotal: 50.6s\tremaining: 2m 4s\n",
      "288:\tlearn: 1432.8973158\ttotal: 50.7s\tremaining: 2m 4s\n",
      "289:\tlearn: 1432.3432345\ttotal: 50.9s\tremaining: 2m 4s\n",
      "290:\tlearn: 1431.9125694\ttotal: 51.1s\tremaining: 2m 4s\n",
      "291:\tlearn: 1431.6170140\ttotal: 51.3s\tremaining: 2m 4s\n",
      "292:\tlearn: 1431.3782855\ttotal: 51.4s\tremaining: 2m 4s\n",
      "293:\tlearn: 1431.1452151\ttotal: 51.6s\tremaining: 2m 3s\n",
      "294:\tlearn: 1430.8351497\ttotal: 51.8s\tremaining: 2m 3s\n",
      "295:\tlearn: 1430.3840139\ttotal: 52s\tremaining: 2m 3s\n",
      "296:\tlearn: 1430.0524718\ttotal: 52.1s\tremaining: 2m 3s\n",
      "297:\tlearn: 1429.7648320\ttotal: 52.3s\tremaining: 2m 3s\n",
      "298:\tlearn: 1429.5034237\ttotal: 52.5s\tremaining: 2m 3s\n",
      "299:\tlearn: 1429.2218231\ttotal: 52.7s\tremaining: 2m 2s\n",
      "300:\tlearn: 1428.9648823\ttotal: 52.8s\tremaining: 2m 2s\n",
      "301:\tlearn: 1428.6941988\ttotal: 53s\tremaining: 2m 2s\n",
      "302:\tlearn: 1428.2718038\ttotal: 53.2s\tremaining: 2m 2s\n",
      "303:\tlearn: 1427.8659259\ttotal: 53.3s\tremaining: 2m 2s\n",
      "304:\tlearn: 1427.6139247\ttotal: 53.5s\tremaining: 2m 1s\n",
      "305:\tlearn: 1427.3664662\ttotal: 53.7s\tremaining: 2m 1s\n",
      "306:\tlearn: 1427.1906288\ttotal: 53.9s\tremaining: 2m 1s\n",
      "307:\tlearn: 1426.6976111\ttotal: 54s\tremaining: 2m 1s\n",
      "308:\tlearn: 1426.2837802\ttotal: 54.2s\tremaining: 2m 1s\n",
      "309:\tlearn: 1426.0419961\ttotal: 54.4s\tremaining: 2m 1s\n",
      "310:\tlearn: 1425.7270718\ttotal: 54.6s\tremaining: 2m\n",
      "311:\tlearn: 1425.2886408\ttotal: 54.7s\tremaining: 2m\n",
      "312:\tlearn: 1424.9407087\ttotal: 54.9s\tremaining: 2m\n",
      "313:\tlearn: 1424.6661380\ttotal: 55.1s\tremaining: 2m\n",
      "314:\tlearn: 1424.4469664\ttotal: 55.3s\tremaining: 2m\n",
      "315:\tlearn: 1424.0820135\ttotal: 55.4s\tremaining: 1m 59s\n",
      "316:\tlearn: 1423.6809526\ttotal: 55.6s\tremaining: 1m 59s\n",
      "317:\tlearn: 1423.4931473\ttotal: 55.8s\tremaining: 1m 59s\n",
      "318:\tlearn: 1423.2998265\ttotal: 56s\tremaining: 1m 59s\n",
      "319:\tlearn: 1422.9684799\ttotal: 56.1s\tremaining: 1m 59s\n",
      "320:\tlearn: 1422.7936295\ttotal: 56.3s\tremaining: 1m 59s\n",
      "321:\tlearn: 1422.4311186\ttotal: 56.5s\tremaining: 1m 58s\n",
      "322:\tlearn: 1421.8422759\ttotal: 56.7s\tremaining: 1m 58s\n",
      "323:\tlearn: 1421.4878709\ttotal: 56.9s\tremaining: 1m 58s\n",
      "324:\tlearn: 1421.2846522\ttotal: 57s\tremaining: 1m 58s\n",
      "325:\tlearn: 1421.0641075\ttotal: 57.2s\tremaining: 1m 58s\n",
      "326:\tlearn: 1420.5959879\ttotal: 57.4s\tremaining: 1m 58s\n",
      "327:\tlearn: 1420.4052122\ttotal: 57.6s\tremaining: 1m 57s\n",
      "328:\tlearn: 1420.0705679\ttotal: 57.8s\tremaining: 1m 57s\n",
      "329:\tlearn: 1419.8195624\ttotal: 57.9s\tremaining: 1m 57s\n",
      "330:\tlearn: 1419.5966293\ttotal: 58.1s\tremaining: 1m 57s\n",
      "331:\tlearn: 1419.3108134\ttotal: 58.3s\tremaining: 1m 57s\n",
      "332:\tlearn: 1419.1021290\ttotal: 58.5s\tremaining: 1m 57s\n",
      "333:\tlearn: 1418.6580322\ttotal: 58.7s\tremaining: 1m 57s\n",
      "334:\tlearn: 1418.3264484\ttotal: 58.9s\tremaining: 1m 56s\n",
      "335:\tlearn: 1417.9421074\ttotal: 59s\tremaining: 1m 56s\n",
      "336:\tlearn: 1417.7439678\ttotal: 59.2s\tremaining: 1m 56s\n",
      "337:\tlearn: 1417.5564755\ttotal: 59.4s\tremaining: 1m 56s\n",
      "338:\tlearn: 1417.1917860\ttotal: 59.6s\tremaining: 1m 56s\n",
      "339:\tlearn: 1416.7438172\ttotal: 59.8s\tremaining: 1m 56s\n",
      "340:\tlearn: 1416.5580809\ttotal: 60s\tremaining: 1m 55s\n",
      "341:\tlearn: 1416.2599942\ttotal: 1m\tremaining: 1m 55s\n",
      "342:\tlearn: 1415.8808347\ttotal: 1m\tremaining: 1m 55s\n",
      "343:\tlearn: 1415.6296344\ttotal: 1m\tremaining: 1m 55s\n",
      "344:\tlearn: 1415.3138218\ttotal: 1m\tremaining: 1m 55s\n",
      "345:\tlearn: 1415.0192008\ttotal: 1m\tremaining: 1m 55s\n",
      "346:\tlearn: 1414.6738845\ttotal: 1m 1s\tremaining: 1m 54s\n",
      "347:\tlearn: 1414.3906558\ttotal: 1m 1s\tremaining: 1m 54s\n",
      "348:\tlearn: 1413.9495280\ttotal: 1m 1s\tremaining: 1m 54s\n",
      "349:\tlearn: 1413.6809719\ttotal: 1m 1s\tremaining: 1m 54s\n",
      "350:\tlearn: 1413.3823270\ttotal: 1m 1s\tremaining: 1m 54s\n",
      "351:\tlearn: 1412.9973425\ttotal: 1m 1s\tremaining: 1m 54s\n",
      "352:\tlearn: 1412.8300085\ttotal: 1m 2s\tremaining: 1m 53s\n",
      "353:\tlearn: 1412.5267480\ttotal: 1m 2s\tremaining: 1m 53s\n",
      "354:\tlearn: 1412.1878923\ttotal: 1m 2s\tremaining: 1m 53s\n",
      "355:\tlearn: 1411.9471167\ttotal: 1m 2s\tremaining: 1m 53s\n",
      "356:\tlearn: 1411.7553130\ttotal: 1m 2s\tremaining: 1m 53s\n",
      "357:\tlearn: 1411.5330172\ttotal: 1m 3s\tremaining: 1m 53s\n",
      "358:\tlearn: 1411.3107027\ttotal: 1m 3s\tremaining: 1m 52s\n",
      "359:\tlearn: 1411.1342285\ttotal: 1m 3s\tremaining: 1m 52s\n",
      "360:\tlearn: 1410.9847018\ttotal: 1m 3s\tremaining: 1m 52s\n",
      "361:\tlearn: 1410.6767795\ttotal: 1m 3s\tremaining: 1m 52s\n",
      "362:\tlearn: 1410.3804900\ttotal: 1m 3s\tremaining: 1m 52s\n",
      "363:\tlearn: 1410.0213096\ttotal: 1m 4s\tremaining: 1m 52s\n",
      "364:\tlearn: 1409.8272445\ttotal: 1m 4s\tremaining: 1m 52s\n",
      "365:\tlearn: 1409.6389886\ttotal: 1m 4s\tremaining: 1m 51s\n",
      "366:\tlearn: 1409.4327650\ttotal: 1m 4s\tremaining: 1m 51s\n",
      "367:\tlearn: 1408.9060942\ttotal: 1m 4s\tremaining: 1m 51s\n",
      "368:\tlearn: 1408.7092475\ttotal: 1m 5s\tremaining: 1m 51s\n",
      "369:\tlearn: 1408.5321453\ttotal: 1m 5s\tremaining: 1m 51s\n",
      "370:\tlearn: 1408.1787568\ttotal: 1m 5s\tremaining: 1m 51s\n",
      "371:\tlearn: 1407.8009151\ttotal: 1m 5s\tremaining: 1m 50s\n",
      "372:\tlearn: 1407.5787029\ttotal: 1m 5s\tremaining: 1m 50s\n",
      "373:\tlearn: 1407.3269002\ttotal: 1m 6s\tremaining: 1m 50s\n",
      "374:\tlearn: 1406.8509902\ttotal: 1m 6s\tremaining: 1m 50s\n",
      "375:\tlearn: 1406.6629167\ttotal: 1m 6s\tremaining: 1m 50s\n",
      "376:\tlearn: 1406.3825859\ttotal: 1m 6s\tremaining: 1m 50s\n",
      "377:\tlearn: 1405.8565653\ttotal: 1m 6s\tremaining: 1m 49s\n",
      "378:\tlearn: 1405.6674520\ttotal: 1m 6s\tremaining: 1m 49s\n",
      "379:\tlearn: 1405.3520684\ttotal: 1m 7s\tremaining: 1m 49s\n",
      "380:\tlearn: 1405.1196376\ttotal: 1m 7s\tremaining: 1m 49s\n",
      "381:\tlearn: 1404.9670819\ttotal: 1m 7s\tremaining: 1m 49s\n",
      "382:\tlearn: 1404.6138854\ttotal: 1m 7s\tremaining: 1m 49s\n",
      "383:\tlearn: 1404.3584302\ttotal: 1m 7s\tremaining: 1m 48s\n",
      "384:\tlearn: 1404.1482313\ttotal: 1m 8s\tremaining: 1m 48s\n",
      "385:\tlearn: 1403.9004000\ttotal: 1m 8s\tremaining: 1m 48s\n",
      "386:\tlearn: 1403.6701744\ttotal: 1m 8s\tremaining: 1m 48s\n",
      "387:\tlearn: 1403.5169746\ttotal: 1m 8s\tremaining: 1m 48s\n",
      "388:\tlearn: 1403.2472781\ttotal: 1m 8s\tremaining: 1m 47s\n",
      "389:\tlearn: 1403.0870110\ttotal: 1m 8s\tremaining: 1m 47s\n",
      "390:\tlearn: 1402.8625619\ttotal: 1m 9s\tremaining: 1m 47s\n",
      "391:\tlearn: 1402.7180844\ttotal: 1m 9s\tremaining: 1m 47s\n",
      "392:\tlearn: 1402.4420428\ttotal: 1m 9s\tremaining: 1m 47s\n",
      "393:\tlearn: 1402.1588903\ttotal: 1m 9s\tremaining: 1m 47s\n",
      "394:\tlearn: 1401.9292571\ttotal: 1m 9s\tremaining: 1m 46s\n",
      "395:\tlearn: 1401.8054146\ttotal: 1m 10s\tremaining: 1m 46s\n",
      "396:\tlearn: 1401.5148137\ttotal: 1m 10s\tremaining: 1m 46s\n",
      "397:\tlearn: 1401.2796870\ttotal: 1m 10s\tremaining: 1m 46s\n",
      "398:\tlearn: 1401.0371609\ttotal: 1m 10s\tremaining: 1m 46s\n",
      "399:\tlearn: 1400.7696232\ttotal: 1m 10s\tremaining: 1m 46s\n",
      "400:\tlearn: 1400.5550468\ttotal: 1m 10s\tremaining: 1m 45s\n",
      "401:\tlearn: 1400.2786340\ttotal: 1m 11s\tremaining: 1m 45s\n",
      "402:\tlearn: 1399.9703474\ttotal: 1m 11s\tremaining: 1m 45s\n",
      "403:\tlearn: 1399.6171693\ttotal: 1m 11s\tremaining: 1m 45s\n",
      "404:\tlearn: 1399.3979625\ttotal: 1m 11s\tremaining: 1m 45s\n",
      "405:\tlearn: 1399.1050189\ttotal: 1m 11s\tremaining: 1m 45s\n",
      "406:\tlearn: 1398.9381112\ttotal: 1m 12s\tremaining: 1m 44s\n",
      "407:\tlearn: 1398.6078310\ttotal: 1m 12s\tremaining: 1m 44s\n",
      "408:\tlearn: 1398.4675004\ttotal: 1m 12s\tremaining: 1m 44s\n",
      "409:\tlearn: 1398.0782077\ttotal: 1m 12s\tremaining: 1m 44s\n",
      "410:\tlearn: 1397.8724521\ttotal: 1m 12s\tremaining: 1m 44s\n",
      "411:\tlearn: 1397.7100810\ttotal: 1m 12s\tremaining: 1m 44s\n",
      "412:\tlearn: 1397.5436965\ttotal: 1m 13s\tremaining: 1m 43s\n",
      "413:\tlearn: 1397.3024388\ttotal: 1m 13s\tremaining: 1m 43s\n",
      "414:\tlearn: 1397.0833968\ttotal: 1m 13s\tremaining: 1m 43s\n",
      "415:\tlearn: 1396.9233683\ttotal: 1m 13s\tremaining: 1m 43s\n",
      "416:\tlearn: 1396.6766907\ttotal: 1m 13s\tremaining: 1m 43s\n",
      "417:\tlearn: 1396.3907636\ttotal: 1m 13s\tremaining: 1m 43s\n",
      "418:\tlearn: 1396.2022950\ttotal: 1m 14s\tremaining: 1m 42s\n",
      "419:\tlearn: 1395.9858546\ttotal: 1m 14s\tremaining: 1m 42s\n",
      "420:\tlearn: 1395.8413543\ttotal: 1m 14s\tremaining: 1m 42s\n",
      "421:\tlearn: 1395.6482526\ttotal: 1m 14s\tremaining: 1m 42s\n",
      "422:\tlearn: 1395.3623633\ttotal: 1m 14s\tremaining: 1m 42s\n",
      "423:\tlearn: 1395.0583691\ttotal: 1m 15s\tremaining: 1m 41s\n",
      "424:\tlearn: 1394.9145181\ttotal: 1m 15s\tremaining: 1m 41s\n",
      "425:\tlearn: 1394.4309268\ttotal: 1m 15s\tremaining: 1m 41s\n",
      "426:\tlearn: 1394.1797739\ttotal: 1m 15s\tremaining: 1m 41s\n",
      "427:\tlearn: 1394.0043927\ttotal: 1m 15s\tremaining: 1m 41s\n",
      "428:\tlearn: 1393.7234418\ttotal: 1m 15s\tremaining: 1m 41s\n",
      "429:\tlearn: 1393.5071620\ttotal: 1m 16s\tremaining: 1m 40s\n",
      "430:\tlearn: 1393.2677908\ttotal: 1m 16s\tremaining: 1m 40s\n",
      "431:\tlearn: 1392.9805871\ttotal: 1m 16s\tremaining: 1m 40s\n",
      "432:\tlearn: 1392.7694119\ttotal: 1m 16s\tremaining: 1m 40s\n",
      "433:\tlearn: 1392.6252496\ttotal: 1m 16s\tremaining: 1m 40s\n",
      "434:\tlearn: 1392.5038653\ttotal: 1m 16s\tremaining: 1m 40s\n",
      "435:\tlearn: 1392.2092534\ttotal: 1m 17s\tremaining: 1m 39s\n",
      "436:\tlearn: 1391.9893474\ttotal: 1m 17s\tremaining: 1m 39s\n",
      "437:\tlearn: 1391.6525465\ttotal: 1m 17s\tremaining: 1m 39s\n",
      "438:\tlearn: 1391.4633785\ttotal: 1m 17s\tremaining: 1m 39s\n",
      "439:\tlearn: 1391.1548419\ttotal: 1m 17s\tremaining: 1m 39s\n",
      "440:\tlearn: 1391.0237273\ttotal: 1m 18s\tremaining: 1m 38s\n",
      "441:\tlearn: 1390.7926840\ttotal: 1m 18s\tremaining: 1m 38s\n",
      "442:\tlearn: 1390.4367592\ttotal: 1m 18s\tremaining: 1m 38s\n",
      "443:\tlearn: 1390.2481901\ttotal: 1m 18s\tremaining: 1m 38s\n",
      "444:\tlearn: 1390.1069418\ttotal: 1m 18s\tremaining: 1m 38s\n",
      "445:\tlearn: 1390.0020828\ttotal: 1m 18s\tremaining: 1m 37s\n",
      "446:\tlearn: 1389.8035328\ttotal: 1m 19s\tremaining: 1m 37s\n",
      "447:\tlearn: 1389.5226205\ttotal: 1m 19s\tremaining: 1m 37s\n",
      "448:\tlearn: 1389.1890374\ttotal: 1m 19s\tremaining: 1m 37s\n",
      "449:\tlearn: 1388.9378186\ttotal: 1m 19s\tremaining: 1m 37s\n",
      "450:\tlearn: 1388.8069039\ttotal: 1m 19s\tremaining: 1m 37s\n",
      "451:\tlearn: 1388.5966517\ttotal: 1m 19s\tremaining: 1m 36s\n",
      "452:\tlearn: 1388.3154336\ttotal: 1m 20s\tremaining: 1m 36s\n",
      "453:\tlearn: 1388.1600667\ttotal: 1m 20s\tremaining: 1m 36s\n",
      "454:\tlearn: 1387.8758404\ttotal: 1m 20s\tremaining: 1m 36s\n",
      "455:\tlearn: 1387.6049897\ttotal: 1m 20s\tremaining: 1m 36s\n",
      "456:\tlearn: 1387.3392726\ttotal: 1m 20s\tremaining: 1m 36s\n",
      "457:\tlearn: 1387.0908736\ttotal: 1m 20s\tremaining: 1m 35s\n",
      "458:\tlearn: 1386.9088817\ttotal: 1m 21s\tremaining: 1m 35s\n",
      "459:\tlearn: 1386.8017514\ttotal: 1m 21s\tremaining: 1m 35s\n",
      "460:\tlearn: 1386.6253314\ttotal: 1m 21s\tremaining: 1m 35s\n",
      "461:\tlearn: 1386.4444900\ttotal: 1m 21s\tremaining: 1m 35s\n",
      "462:\tlearn: 1386.3016917\ttotal: 1m 21s\tremaining: 1m 35s\n",
      "463:\tlearn: 1386.1719390\ttotal: 1m 22s\tremaining: 1m 34s\n",
      "464:\tlearn: 1385.8601249\ttotal: 1m 22s\tremaining: 1m 34s\n",
      "465:\tlearn: 1385.5814717\ttotal: 1m 22s\tremaining: 1m 34s\n",
      "466:\tlearn: 1385.3693627\ttotal: 1m 22s\tremaining: 1m 34s\n",
      "467:\tlearn: 1385.2549828\ttotal: 1m 22s\tremaining: 1m 34s\n",
      "468:\tlearn: 1384.8643116\ttotal: 1m 23s\tremaining: 1m 34s\n",
      "469:\tlearn: 1384.6494111\ttotal: 1m 23s\tremaining: 1m 33s\n",
      "470:\tlearn: 1384.4305050\ttotal: 1m 23s\tremaining: 1m 33s\n",
      "471:\tlearn: 1384.2231558\ttotal: 1m 23s\tremaining: 1m 33s\n",
      "472:\tlearn: 1383.9541306\ttotal: 1m 23s\tremaining: 1m 33s\n",
      "473:\tlearn: 1383.8581489\ttotal: 1m 24s\tremaining: 1m 33s\n",
      "474:\tlearn: 1383.7536163\ttotal: 1m 24s\tremaining: 1m 33s\n",
      "475:\tlearn: 1383.4472088\ttotal: 1m 24s\tremaining: 1m 33s\n",
      "476:\tlearn: 1383.1061643\ttotal: 1m 24s\tremaining: 1m 32s\n",
      "477:\tlearn: 1383.0001495\ttotal: 1m 24s\tremaining: 1m 32s\n",
      "478:\tlearn: 1382.7125653\ttotal: 1m 25s\tremaining: 1m 32s\n",
      "479:\tlearn: 1382.4905618\ttotal: 1m 25s\tremaining: 1m 32s\n",
      "480:\tlearn: 1382.3059383\ttotal: 1m 25s\tremaining: 1m 32s\n",
      "481:\tlearn: 1382.1160135\ttotal: 1m 25s\tremaining: 1m 32s\n",
      "482:\tlearn: 1381.9637907\ttotal: 1m 25s\tremaining: 1m 31s\n",
      "483:\tlearn: 1381.7920115\ttotal: 1m 26s\tremaining: 1m 31s\n",
      "484:\tlearn: 1381.6220294\ttotal: 1m 26s\tremaining: 1m 31s\n",
      "485:\tlearn: 1381.3997773\ttotal: 1m 26s\tremaining: 1m 31s\n",
      "486:\tlearn: 1381.2261684\ttotal: 1m 26s\tremaining: 1m 31s\n",
      "487:\tlearn: 1380.9248022\ttotal: 1m 26s\tremaining: 1m 30s\n",
      "488:\tlearn: 1380.6969537\ttotal: 1m 26s\tremaining: 1m 30s\n",
      "489:\tlearn: 1380.3856717\ttotal: 1m 27s\tremaining: 1m 30s\n",
      "490:\tlearn: 1380.1688900\ttotal: 1m 27s\tremaining: 1m 30s\n",
      "491:\tlearn: 1379.8935634\ttotal: 1m 27s\tremaining: 1m 30s\n",
      "492:\tlearn: 1379.8092049\ttotal: 1m 27s\tremaining: 1m 30s\n",
      "493:\tlearn: 1379.4759280\ttotal: 1m 27s\tremaining: 1m 29s\n",
      "494:\tlearn: 1379.2768412\ttotal: 1m 28s\tremaining: 1m 29s\n",
      "495:\tlearn: 1379.1520572\ttotal: 1m 28s\tremaining: 1m 29s\n",
      "496:\tlearn: 1378.9862677\ttotal: 1m 28s\tremaining: 1m 29s\n",
      "497:\tlearn: 1378.8290894\ttotal: 1m 28s\tremaining: 1m 29s\n",
      "498:\tlearn: 1378.6923410\ttotal: 1m 28s\tremaining: 1m 29s\n",
      "499:\tlearn: 1378.4468185\ttotal: 1m 28s\tremaining: 1m 28s\n",
      "500:\tlearn: 1378.3010708\ttotal: 1m 29s\tremaining: 1m 28s\n",
      "501:\tlearn: 1378.1675932\ttotal: 1m 29s\tremaining: 1m 28s\n",
      "502:\tlearn: 1378.0510034\ttotal: 1m 29s\tremaining: 1m 28s\n",
      "503:\tlearn: 1377.8042200\ttotal: 1m 29s\tremaining: 1m 28s\n",
      "504:\tlearn: 1377.6633211\ttotal: 1m 29s\tremaining: 1m 28s\n",
      "505:\tlearn: 1377.4553848\ttotal: 1m 30s\tremaining: 1m 27s\n",
      "506:\tlearn: 1377.2637602\ttotal: 1m 30s\tremaining: 1m 27s\n",
      "507:\tlearn: 1377.0706543\ttotal: 1m 30s\tremaining: 1m 27s\n",
      "508:\tlearn: 1376.9081197\ttotal: 1m 30s\tremaining: 1m 27s\n",
      "509:\tlearn: 1376.5669278\ttotal: 1m 30s\tremaining: 1m 27s\n",
      "510:\tlearn: 1376.3371221\ttotal: 1m 30s\tremaining: 1m 27s\n",
      "511:\tlearn: 1376.1925752\ttotal: 1m 31s\tremaining: 1m 26s\n",
      "512:\tlearn: 1375.9348986\ttotal: 1m 31s\tremaining: 1m 26s\n",
      "513:\tlearn: 1375.7726741\ttotal: 1m 31s\tremaining: 1m 26s\n",
      "514:\tlearn: 1375.5800562\ttotal: 1m 31s\tremaining: 1m 26s\n",
      "515:\tlearn: 1375.2945294\ttotal: 1m 31s\tremaining: 1m 26s\n",
      "516:\tlearn: 1375.0285544\ttotal: 1m 31s\tremaining: 1m 25s\n",
      "517:\tlearn: 1374.8269519\ttotal: 1m 32s\tremaining: 1m 25s\n",
      "518:\tlearn: 1374.5531667\ttotal: 1m 32s\tremaining: 1m 25s\n",
      "519:\tlearn: 1374.2876559\ttotal: 1m 32s\tremaining: 1m 25s\n",
      "520:\tlearn: 1374.0533205\ttotal: 1m 32s\tremaining: 1m 25s\n",
      "521:\tlearn: 1373.8471792\ttotal: 1m 32s\tremaining: 1m 25s\n",
      "522:\tlearn: 1373.6590350\ttotal: 1m 33s\tremaining: 1m 24s\n",
      "523:\tlearn: 1373.4769382\ttotal: 1m 33s\tremaining: 1m 24s\n",
      "524:\tlearn: 1373.2362598\ttotal: 1m 33s\tremaining: 1m 24s\n",
      "525:\tlearn: 1373.1089675\ttotal: 1m 33s\tremaining: 1m 24s\n",
      "526:\tlearn: 1372.8159351\ttotal: 1m 33s\tremaining: 1m 24s\n",
      "527:\tlearn: 1372.6123602\ttotal: 1m 34s\tremaining: 1m 24s\n",
      "528:\tlearn: 1372.5097710\ttotal: 1m 34s\tremaining: 1m 23s\n",
      "529:\tlearn: 1372.3190617\ttotal: 1m 34s\tremaining: 1m 23s\n",
      "530:\tlearn: 1372.1514510\ttotal: 1m 34s\tremaining: 1m 23s\n",
      "531:\tlearn: 1371.8984929\ttotal: 1m 34s\tremaining: 1m 23s\n",
      "532:\tlearn: 1371.6567740\ttotal: 1m 35s\tremaining: 1m 23s\n",
      "533:\tlearn: 1371.5043714\ttotal: 1m 35s\tremaining: 1m 23s\n",
      "534:\tlearn: 1371.2707304\ttotal: 1m 35s\tremaining: 1m 22s\n",
      "535:\tlearn: 1371.0323618\ttotal: 1m 35s\tremaining: 1m 22s\n",
      "536:\tlearn: 1370.7886043\ttotal: 1m 35s\tremaining: 1m 22s\n",
      "537:\tlearn: 1370.6896367\ttotal: 1m 35s\tremaining: 1m 22s\n",
      "538:\tlearn: 1370.4881153\ttotal: 1m 36s\tremaining: 1m 22s\n",
      "539:\tlearn: 1370.2306220\ttotal: 1m 36s\tremaining: 1m 22s\n",
      "540:\tlearn: 1370.0371302\ttotal: 1m 36s\tremaining: 1m 21s\n",
      "541:\tlearn: 1369.8539243\ttotal: 1m 36s\tremaining: 1m 21s\n",
      "542:\tlearn: 1369.7203378\ttotal: 1m 36s\tremaining: 1m 21s\n",
      "543:\tlearn: 1369.5874773\ttotal: 1m 37s\tremaining: 1m 21s\n",
      "544:\tlearn: 1369.3713540\ttotal: 1m 37s\tremaining: 1m 21s\n",
      "545:\tlearn: 1369.1427442\ttotal: 1m 37s\tremaining: 1m 20s\n",
      "546:\tlearn: 1369.0580979\ttotal: 1m 37s\tremaining: 1m 20s\n",
      "547:\tlearn: 1368.7930502\ttotal: 1m 37s\tremaining: 1m 20s\n",
      "548:\tlearn: 1368.6220442\ttotal: 1m 37s\tremaining: 1m 20s\n",
      "549:\tlearn: 1368.4272866\ttotal: 1m 38s\tremaining: 1m 20s\n",
      "550:\tlearn: 1368.2904139\ttotal: 1m 38s\tremaining: 1m 20s\n",
      "551:\tlearn: 1368.1583302\ttotal: 1m 38s\tremaining: 1m 19s\n",
      "552:\tlearn: 1367.9723067\ttotal: 1m 38s\tremaining: 1m 19s\n",
      "553:\tlearn: 1367.8277903\ttotal: 1m 38s\tremaining: 1m 19s\n",
      "554:\tlearn: 1367.5678924\ttotal: 1m 38s\tremaining: 1m 19s\n",
      "555:\tlearn: 1367.3219658\ttotal: 1m 39s\tremaining: 1m 19s\n",
      "556:\tlearn: 1367.1699994\ttotal: 1m 39s\tremaining: 1m 18s\n",
      "557:\tlearn: 1366.9312623\ttotal: 1m 39s\tremaining: 1m 18s\n",
      "558:\tlearn: 1366.7498608\ttotal: 1m 39s\tremaining: 1m 18s\n",
      "559:\tlearn: 1366.5594900\ttotal: 1m 39s\tremaining: 1m 18s\n",
      "560:\tlearn: 1366.3964175\ttotal: 1m 39s\tremaining: 1m 18s\n",
      "561:\tlearn: 1366.1781124\ttotal: 1m 40s\tremaining: 1m 18s\n",
      "562:\tlearn: 1365.9953501\ttotal: 1m 40s\tremaining: 1m 17s\n",
      "563:\tlearn: 1365.8597279\ttotal: 1m 40s\tremaining: 1m 17s\n",
      "564:\tlearn: 1365.7347589\ttotal: 1m 40s\tremaining: 1m 17s\n",
      "565:\tlearn: 1365.3178982\ttotal: 1m 40s\tremaining: 1m 17s\n",
      "566:\tlearn: 1365.1603198\ttotal: 1m 41s\tremaining: 1m 17s\n",
      "567:\tlearn: 1365.0693337\ttotal: 1m 41s\tremaining: 1m 16s\n",
      "568:\tlearn: 1364.7782444\ttotal: 1m 41s\tremaining: 1m 16s\n",
      "569:\tlearn: 1364.5805354\ttotal: 1m 41s\tremaining: 1m 16s\n",
      "570:\tlearn: 1364.4546371\ttotal: 1m 41s\tremaining: 1m 16s\n",
      "571:\tlearn: 1364.3144711\ttotal: 1m 41s\tremaining: 1m 16s\n",
      "572:\tlearn: 1364.0688147\ttotal: 1m 42s\tremaining: 1m 16s\n",
      "573:\tlearn: 1363.9736567\ttotal: 1m 42s\tremaining: 1m 15s\n",
      "574:\tlearn: 1363.8286977\ttotal: 1m 42s\tremaining: 1m 15s\n",
      "575:\tlearn: 1363.6830612\ttotal: 1m 42s\tremaining: 1m 15s\n",
      "576:\tlearn: 1363.4860971\ttotal: 1m 42s\tremaining: 1m 15s\n",
      "577:\tlearn: 1363.2708633\ttotal: 1m 42s\tremaining: 1m 15s\n",
      "578:\tlearn: 1363.0968778\ttotal: 1m 43s\tremaining: 1m 14s\n",
      "579:\tlearn: 1362.7410093\ttotal: 1m 43s\tremaining: 1m 14s\n",
      "580:\tlearn: 1362.5848767\ttotal: 1m 43s\tremaining: 1m 14s\n",
      "581:\tlearn: 1362.3648843\ttotal: 1m 43s\tremaining: 1m 14s\n",
      "582:\tlearn: 1362.2381202\ttotal: 1m 43s\tremaining: 1m 14s\n",
      "583:\tlearn: 1362.0122164\ttotal: 1m 43s\tremaining: 1m 14s\n",
      "584:\tlearn: 1361.8436703\ttotal: 1m 44s\tremaining: 1m 13s\n",
      "585:\tlearn: 1361.6998892\ttotal: 1m 44s\tremaining: 1m 13s\n",
      "586:\tlearn: 1361.5119353\ttotal: 1m 44s\tremaining: 1m 13s\n",
      "587:\tlearn: 1361.3538012\ttotal: 1m 44s\tremaining: 1m 13s\n",
      "588:\tlearn: 1361.1714488\ttotal: 1m 44s\tremaining: 1m 13s\n",
      "589:\tlearn: 1360.9992701\ttotal: 1m 45s\tremaining: 1m 13s\n",
      "590:\tlearn: 1360.8776929\ttotal: 1m 45s\tremaining: 1m 12s\n",
      "591:\tlearn: 1360.6956441\ttotal: 1m 45s\tremaining: 1m 12s\n",
      "592:\tlearn: 1360.5701556\ttotal: 1m 45s\tremaining: 1m 12s\n",
      "593:\tlearn: 1360.5043205\ttotal: 1m 45s\tremaining: 1m 12s\n",
      "594:\tlearn: 1360.3013832\ttotal: 1m 45s\tremaining: 1m 12s\n",
      "595:\tlearn: 1360.0399546\ttotal: 1m 46s\tremaining: 1m 11s\n",
      "596:\tlearn: 1359.9046255\ttotal: 1m 46s\tremaining: 1m 11s\n",
      "597:\tlearn: 1359.6666094\ttotal: 1m 46s\tremaining: 1m 11s\n",
      "598:\tlearn: 1359.5430905\ttotal: 1m 46s\tremaining: 1m 11s\n",
      "599:\tlearn: 1359.4197340\ttotal: 1m 46s\tremaining: 1m 11s\n",
      "600:\tlearn: 1359.3162527\ttotal: 1m 47s\tremaining: 1m 11s\n",
      "601:\tlearn: 1358.9806876\ttotal: 1m 47s\tremaining: 1m 10s\n",
      "602:\tlearn: 1358.9145112\ttotal: 1m 47s\tremaining: 1m 10s\n",
      "603:\tlearn: 1358.6473799\ttotal: 1m 47s\tremaining: 1m 10s\n",
      "604:\tlearn: 1358.3069578\ttotal: 1m 47s\tremaining: 1m 10s\n",
      "605:\tlearn: 1358.1548409\ttotal: 1m 47s\tremaining: 1m 10s\n",
      "606:\tlearn: 1357.9429460\ttotal: 1m 48s\tremaining: 1m 9s\n",
      "607:\tlearn: 1357.7283651\ttotal: 1m 48s\tremaining: 1m 9s\n",
      "608:\tlearn: 1357.6382809\ttotal: 1m 48s\tremaining: 1m 9s\n",
      "609:\tlearn: 1357.3823895\ttotal: 1m 48s\tremaining: 1m 9s\n",
      "610:\tlearn: 1357.2687059\ttotal: 1m 48s\tremaining: 1m 9s\n",
      "611:\tlearn: 1357.0109784\ttotal: 1m 49s\tremaining: 1m 9s\n",
      "612:\tlearn: 1356.8570472\ttotal: 1m 49s\tremaining: 1m 8s\n",
      "613:\tlearn: 1356.5517497\ttotal: 1m 49s\tremaining: 1m 8s\n",
      "614:\tlearn: 1356.4316342\ttotal: 1m 49s\tremaining: 1m 8s\n",
      "615:\tlearn: 1356.2937218\ttotal: 1m 49s\tremaining: 1m 8s\n",
      "616:\tlearn: 1356.0436749\ttotal: 1m 49s\tremaining: 1m 8s\n",
      "617:\tlearn: 1355.8416525\ttotal: 1m 50s\tremaining: 1m 8s\n",
      "618:\tlearn: 1355.5753780\ttotal: 1m 50s\tremaining: 1m 7s\n",
      "619:\tlearn: 1355.4563531\ttotal: 1m 50s\tremaining: 1m 7s\n",
      "620:\tlearn: 1355.3313521\ttotal: 1m 50s\tremaining: 1m 7s\n",
      "621:\tlearn: 1355.1240813\ttotal: 1m 50s\tremaining: 1m 7s\n",
      "622:\tlearn: 1354.8982839\ttotal: 1m 51s\tremaining: 1m 7s\n",
      "623:\tlearn: 1354.6135137\ttotal: 1m 51s\tremaining: 1m 7s\n",
      "624:\tlearn: 1354.5220375\ttotal: 1m 51s\tremaining: 1m 6s\n",
      "625:\tlearn: 1354.4259100\ttotal: 1m 51s\tremaining: 1m 6s\n",
      "626:\tlearn: 1354.2465249\ttotal: 1m 51s\tremaining: 1m 6s\n",
      "627:\tlearn: 1354.1192311\ttotal: 1m 51s\tremaining: 1m 6s\n",
      "628:\tlearn: 1353.8791893\ttotal: 1m 52s\tremaining: 1m 6s\n",
      "629:\tlearn: 1353.6769781\ttotal: 1m 52s\tremaining: 1m 5s\n",
      "630:\tlearn: 1353.4350509\ttotal: 1m 52s\tremaining: 1m 5s\n",
      "631:\tlearn: 1353.2360462\ttotal: 1m 52s\tremaining: 1m 5s\n",
      "632:\tlearn: 1353.0872459\ttotal: 1m 52s\tremaining: 1m 5s\n",
      "633:\tlearn: 1353.0041759\ttotal: 1m 52s\tremaining: 1m 5s\n",
      "634:\tlearn: 1352.8393696\ttotal: 1m 53s\tremaining: 1m 5s\n",
      "635:\tlearn: 1352.6283959\ttotal: 1m 53s\tremaining: 1m 4s\n",
      "636:\tlearn: 1352.4641157\ttotal: 1m 53s\tremaining: 1m 4s\n",
      "637:\tlearn: 1352.2319935\ttotal: 1m 53s\tremaining: 1m 4s\n",
      "638:\tlearn: 1352.0221352\ttotal: 1m 53s\tremaining: 1m 4s\n",
      "639:\tlearn: 1351.9431643\ttotal: 1m 54s\tremaining: 1m 4s\n",
      "640:\tlearn: 1351.7817171\ttotal: 1m 54s\tremaining: 1m 4s\n",
      "641:\tlearn: 1351.7225402\ttotal: 1m 54s\tremaining: 1m 3s\n",
      "642:\tlearn: 1351.5530517\ttotal: 1m 54s\tremaining: 1m 3s\n",
      "643:\tlearn: 1351.3694619\ttotal: 1m 54s\tremaining: 1m 3s\n",
      "644:\tlearn: 1351.2067552\ttotal: 1m 54s\tremaining: 1m 3s\n",
      "645:\tlearn: 1350.9167614\ttotal: 1m 55s\tremaining: 1m 3s\n",
      "646:\tlearn: 1350.7441948\ttotal: 1m 55s\tremaining: 1m 2s\n",
      "647:\tlearn: 1350.5283542\ttotal: 1m 55s\tremaining: 1m 2s\n",
      "648:\tlearn: 1350.3900570\ttotal: 1m 55s\tremaining: 1m 2s\n",
      "649:\tlearn: 1350.2544499\ttotal: 1m 55s\tremaining: 1m 2s\n",
      "650:\tlearn: 1350.1508952\ttotal: 1m 56s\tremaining: 1m 2s\n",
      "651:\tlearn: 1350.0607736\ttotal: 1m 56s\tremaining: 1m 2s\n",
      "652:\tlearn: 1349.8679247\ttotal: 1m 56s\tremaining: 1m 1s\n",
      "653:\tlearn: 1349.7665499\ttotal: 1m 56s\tremaining: 1m 1s\n",
      "654:\tlearn: 1349.4967120\ttotal: 1m 56s\tremaining: 1m 1s\n",
      "655:\tlearn: 1349.2558058\ttotal: 1m 57s\tremaining: 1m 1s\n",
      "656:\tlearn: 1349.1760056\ttotal: 1m 57s\tremaining: 1m 1s\n",
      "657:\tlearn: 1349.0565382\ttotal: 1m 57s\tremaining: 1m 1s\n",
      "658:\tlearn: 1348.8794880\ttotal: 1m 57s\tremaining: 1m\n",
      "659:\tlearn: 1348.6281583\ttotal: 1m 57s\tremaining: 1m\n",
      "660:\tlearn: 1348.4517908\ttotal: 1m 58s\tremaining: 1m\n",
      "661:\tlearn: 1348.3352094\ttotal: 1m 58s\tremaining: 1m\n",
      "662:\tlearn: 1348.1707704\ttotal: 1m 58s\tremaining: 1m\n",
      "663:\tlearn: 1348.0190692\ttotal: 1m 58s\tremaining: 1m\n",
      "664:\tlearn: 1347.8487603\ttotal: 1m 58s\tremaining: 59.9s\n",
      "665:\tlearn: 1347.5836764\ttotal: 1m 59s\tremaining: 59.8s\n",
      "666:\tlearn: 1347.3835671\ttotal: 1m 59s\tremaining: 59.6s\n",
      "667:\tlearn: 1347.2502353\ttotal: 1m 59s\tremaining: 59.4s\n",
      "668:\tlearn: 1347.1056704\ttotal: 1m 59s\tremaining: 59.2s\n",
      "669:\tlearn: 1346.9271089\ttotal: 1m 59s\tremaining: 59s\n",
      "670:\tlearn: 1346.6626784\ttotal: 1m 59s\tremaining: 58.8s\n",
      "671:\tlearn: 1346.4883138\ttotal: 2m\tremaining: 58.6s\n",
      "672:\tlearn: 1346.2457836\ttotal: 2m\tremaining: 58.5s\n",
      "673:\tlearn: 1346.1379503\ttotal: 2m\tremaining: 58.3s\n",
      "674:\tlearn: 1345.9797123\ttotal: 2m\tremaining: 58.1s\n",
      "675:\tlearn: 1345.8082737\ttotal: 2m\tremaining: 57.9s\n",
      "676:\tlearn: 1345.5780244\ttotal: 2m 1s\tremaining: 57.7s\n",
      "677:\tlearn: 1345.3736870\ttotal: 2m 1s\tremaining: 57.5s\n",
      "678:\tlearn: 1345.2353502\ttotal: 2m 1s\tremaining: 57.4s\n",
      "679:\tlearn: 1345.0757036\ttotal: 2m 1s\tremaining: 57.2s\n",
      "680:\tlearn: 1344.8726661\ttotal: 2m 1s\tremaining: 57s\n",
      "681:\tlearn: 1344.7077014\ttotal: 2m 1s\tremaining: 56.8s\n",
      "682:\tlearn: 1344.5960298\ttotal: 2m 2s\tremaining: 56.6s\n",
      "683:\tlearn: 1344.5183552\ttotal: 2m 2s\tremaining: 56.5s\n",
      "684:\tlearn: 1344.3774861\ttotal: 2m 2s\tremaining: 56.3s\n",
      "685:\tlearn: 1344.1858215\ttotal: 2m 2s\tremaining: 56.1s\n",
      "686:\tlearn: 1344.0523117\ttotal: 2m 2s\tremaining: 55.9s\n",
      "687:\tlearn: 1343.9273052\ttotal: 2m 2s\tremaining: 55.7s\n",
      "688:\tlearn: 1343.7698991\ttotal: 2m 3s\tremaining: 55.6s\n",
      "689:\tlearn: 1343.6137144\ttotal: 2m 3s\tremaining: 55.4s\n",
      "690:\tlearn: 1343.5388868\ttotal: 2m 3s\tremaining: 55.2s\n",
      "691:\tlearn: 1343.2952730\ttotal: 2m 3s\tremaining: 55s\n",
      "692:\tlearn: 1343.1508657\ttotal: 2m 3s\tremaining: 54.8s\n",
      "693:\tlearn: 1342.9585711\ttotal: 2m 3s\tremaining: 54.6s\n",
      "694:\tlearn: 1342.8858379\ttotal: 2m 4s\tremaining: 54.5s\n",
      "695:\tlearn: 1342.8269769\ttotal: 2m 4s\tremaining: 54.3s\n",
      "696:\tlearn: 1342.6466423\ttotal: 2m 4s\tremaining: 54.1s\n",
      "697:\tlearn: 1342.3804420\ttotal: 2m 4s\tremaining: 53.9s\n",
      "698:\tlearn: 1342.1336130\ttotal: 2m 4s\tremaining: 53.7s\n",
      "699:\tlearn: 1341.9802544\ttotal: 2m 4s\tremaining: 53.6s\n",
      "700:\tlearn: 1341.8618058\ttotal: 2m 5s\tremaining: 53.4s\n",
      "701:\tlearn: 1341.6864530\ttotal: 2m 5s\tremaining: 53.2s\n",
      "702:\tlearn: 1341.5283173\ttotal: 2m 5s\tremaining: 53s\n",
      "703:\tlearn: 1341.3910011\ttotal: 2m 5s\tremaining: 52.8s\n",
      "704:\tlearn: 1341.1614653\ttotal: 2m 5s\tremaining: 52.7s\n",
      "705:\tlearn: 1340.9262421\ttotal: 2m 5s\tremaining: 52.5s\n",
      "706:\tlearn: 1340.7206770\ttotal: 2m 6s\tremaining: 52.3s\n",
      "707:\tlearn: 1340.4957499\ttotal: 2m 6s\tremaining: 52.1s\n",
      "708:\tlearn: 1340.3504788\ttotal: 2m 6s\tremaining: 51.9s\n",
      "709:\tlearn: 1340.1653750\ttotal: 2m 6s\tremaining: 51.7s\n",
      "710:\tlearn: 1339.9842068\ttotal: 2m 6s\tremaining: 51.6s\n",
      "711:\tlearn: 1339.8790995\ttotal: 2m 7s\tremaining: 51.4s\n",
      "712:\tlearn: 1339.7264429\ttotal: 2m 7s\tremaining: 51.2s\n",
      "713:\tlearn: 1339.5809078\ttotal: 2m 7s\tremaining: 51s\n",
      "714:\tlearn: 1339.4770109\ttotal: 2m 7s\tremaining: 50.8s\n",
      "715:\tlearn: 1339.3623030\ttotal: 2m 7s\tremaining: 50.7s\n",
      "716:\tlearn: 1339.1337422\ttotal: 2m 7s\tremaining: 50.5s\n",
      "717:\tlearn: 1339.0100448\ttotal: 2m 8s\tremaining: 50.3s\n",
      "718:\tlearn: 1338.8600488\ttotal: 2m 8s\tremaining: 50.2s\n",
      "719:\tlearn: 1338.7580573\ttotal: 2m 8s\tremaining: 50s\n",
      "720:\tlearn: 1338.6975972\ttotal: 2m 8s\tremaining: 49.8s\n",
      "721:\tlearn: 1338.5291740\ttotal: 2m 8s\tremaining: 49.6s\n",
      "722:\tlearn: 1338.2883098\ttotal: 2m 9s\tremaining: 49.4s\n",
      "723:\tlearn: 1338.1011950\ttotal: 2m 9s\tremaining: 49.2s\n",
      "724:\tlearn: 1337.9508205\ttotal: 2m 9s\tremaining: 49.1s\n",
      "725:\tlearn: 1337.8905282\ttotal: 2m 9s\tremaining: 48.9s\n",
      "726:\tlearn: 1337.7822066\ttotal: 2m 9s\tremaining: 48.7s\n",
      "727:\tlearn: 1337.5906962\ttotal: 2m 9s\tremaining: 48.5s\n",
      "728:\tlearn: 1337.4541450\ttotal: 2m 10s\tremaining: 48.3s\n",
      "729:\tlearn: 1337.3576733\ttotal: 2m 10s\tremaining: 48.2s\n",
      "730:\tlearn: 1337.1796853\ttotal: 2m 10s\tremaining: 48s\n",
      "731:\tlearn: 1336.9872198\ttotal: 2m 10s\tremaining: 47.8s\n",
      "732:\tlearn: 1336.7438449\ttotal: 2m 10s\tremaining: 47.6s\n",
      "733:\tlearn: 1336.6557158\ttotal: 2m 10s\tremaining: 47.5s\n",
      "734:\tlearn: 1336.5256114\ttotal: 2m 11s\tremaining: 47.3s\n",
      "735:\tlearn: 1336.3979300\ttotal: 2m 11s\tremaining: 47.1s\n",
      "736:\tlearn: 1336.2199018\ttotal: 2m 11s\tremaining: 46.9s\n",
      "737:\tlearn: 1336.0287757\ttotal: 2m 11s\tremaining: 46.7s\n",
      "738:\tlearn: 1335.9598599\ttotal: 2m 11s\tremaining: 46.6s\n",
      "739:\tlearn: 1335.8973323\ttotal: 2m 12s\tremaining: 46.4s\n",
      "740:\tlearn: 1335.7157589\ttotal: 2m 12s\tremaining: 46.2s\n",
      "741:\tlearn: 1335.6407463\ttotal: 2m 12s\tremaining: 46s\n",
      "742:\tlearn: 1335.5322566\ttotal: 2m 12s\tremaining: 45.8s\n",
      "743:\tlearn: 1335.3973336\ttotal: 2m 12s\tremaining: 45.7s\n",
      "744:\tlearn: 1335.2566012\ttotal: 2m 12s\tremaining: 45.5s\n",
      "745:\tlearn: 1334.9776459\ttotal: 2m 13s\tremaining: 45.3s\n",
      "746:\tlearn: 1334.8216779\ttotal: 2m 13s\tremaining: 45.1s\n",
      "747:\tlearn: 1334.6212441\ttotal: 2m 13s\tremaining: 45s\n",
      "748:\tlearn: 1334.4901964\ttotal: 2m 13s\tremaining: 44.8s\n",
      "749:\tlearn: 1334.3703302\ttotal: 2m 13s\tremaining: 44.6s\n",
      "750:\tlearn: 1334.1583922\ttotal: 2m 13s\tremaining: 44.4s\n",
      "751:\tlearn: 1334.0723714\ttotal: 2m 14s\tremaining: 44.2s\n",
      "752:\tlearn: 1333.9665862\ttotal: 2m 14s\tremaining: 44.1s\n",
      "753:\tlearn: 1333.8429864\ttotal: 2m 14s\tremaining: 43.9s\n",
      "754:\tlearn: 1333.5908375\ttotal: 2m 14s\tremaining: 43.7s\n",
      "755:\tlearn: 1333.4214317\ttotal: 2m 14s\tremaining: 43.5s\n",
      "756:\tlearn: 1333.3249729\ttotal: 2m 15s\tremaining: 43.3s\n",
      "757:\tlearn: 1333.1439905\ttotal: 2m 15s\tremaining: 43.2s\n",
      "758:\tlearn: 1333.0349228\ttotal: 2m 15s\tremaining: 43s\n",
      "759:\tlearn: 1332.8765470\ttotal: 2m 15s\tremaining: 42.8s\n",
      "760:\tlearn: 1332.5936871\ttotal: 2m 15s\tremaining: 42.6s\n",
      "761:\tlearn: 1332.3418652\ttotal: 2m 15s\tremaining: 42.5s\n",
      "762:\tlearn: 1332.2081892\ttotal: 2m 16s\tremaining: 42.3s\n",
      "763:\tlearn: 1332.0969408\ttotal: 2m 16s\tremaining: 42.1s\n",
      "764:\tlearn: 1331.8088225\ttotal: 2m 16s\tremaining: 42s\n",
      "765:\tlearn: 1331.6598575\ttotal: 2m 16s\tremaining: 41.8s\n",
      "766:\tlearn: 1331.4787311\ttotal: 2m 17s\tremaining: 41.6s\n",
      "767:\tlearn: 1331.3541306\ttotal: 2m 17s\tremaining: 41.5s\n",
      "768:\tlearn: 1331.2260860\ttotal: 2m 17s\tremaining: 41.3s\n",
      "769:\tlearn: 1331.0990212\ttotal: 2m 17s\tremaining: 41.1s\n",
      "770:\tlearn: 1330.9655382\ttotal: 2m 17s\tremaining: 41s\n",
      "771:\tlearn: 1330.8157272\ttotal: 2m 18s\tremaining: 40.8s\n",
      "772:\tlearn: 1330.7619161\ttotal: 2m 18s\tremaining: 40.6s\n",
      "773:\tlearn: 1330.5627996\ttotal: 2m 18s\tremaining: 40.4s\n",
      "774:\tlearn: 1330.3405615\ttotal: 2m 18s\tremaining: 40.3s\n",
      "775:\tlearn: 1330.2190623\ttotal: 2m 18s\tremaining: 40.1s\n",
      "776:\tlearn: 1330.0929469\ttotal: 2m 18s\tremaining: 39.9s\n",
      "777:\tlearn: 1330.0254874\ttotal: 2m 19s\tremaining: 39.7s\n",
      "778:\tlearn: 1329.8299704\ttotal: 2m 19s\tremaining: 39.5s\n",
      "779:\tlearn: 1329.6800777\ttotal: 2m 19s\tremaining: 39.3s\n",
      "780:\tlearn: 1329.4989726\ttotal: 2m 19s\tremaining: 39.2s\n",
      "781:\tlearn: 1329.3450996\ttotal: 2m 19s\tremaining: 39s\n",
      "782:\tlearn: 1329.1734350\ttotal: 2m 20s\tremaining: 38.8s\n",
      "783:\tlearn: 1328.9791006\ttotal: 2m 20s\tremaining: 38.6s\n",
      "784:\tlearn: 1328.7817941\ttotal: 2m 20s\tremaining: 38.4s\n",
      "785:\tlearn: 1328.6971911\ttotal: 2m 20s\tremaining: 38.3s\n",
      "786:\tlearn: 1328.6169525\ttotal: 2m 20s\tremaining: 38.1s\n",
      "787:\tlearn: 1328.4296459\ttotal: 2m 20s\tremaining: 37.9s\n",
      "788:\tlearn: 1328.2557743\ttotal: 2m 21s\tremaining: 37.7s\n",
      "789:\tlearn: 1328.1846413\ttotal: 2m 21s\tremaining: 37.6s\n",
      "790:\tlearn: 1328.0994742\ttotal: 2m 21s\tremaining: 37.4s\n",
      "791:\tlearn: 1327.9414642\ttotal: 2m 21s\tremaining: 37.2s\n",
      "792:\tlearn: 1327.7534673\ttotal: 2m 21s\tremaining: 37s\n",
      "793:\tlearn: 1327.6607008\ttotal: 2m 22s\tremaining: 36.8s\n",
      "794:\tlearn: 1327.5697372\ttotal: 2m 22s\tremaining: 36.7s\n",
      "795:\tlearn: 1327.4368614\ttotal: 2m 22s\tremaining: 36.5s\n",
      "796:\tlearn: 1327.2617052\ttotal: 2m 22s\tremaining: 36.3s\n",
      "797:\tlearn: 1327.1968527\ttotal: 2m 22s\tremaining: 36.1s\n",
      "798:\tlearn: 1327.1044379\ttotal: 2m 22s\tremaining: 36s\n",
      "799:\tlearn: 1326.9763912\ttotal: 2m 23s\tremaining: 35.8s\n",
      "800:\tlearn: 1326.7712131\ttotal: 2m 23s\tremaining: 35.6s\n",
      "801:\tlearn: 1326.6936871\ttotal: 2m 23s\tremaining: 35.4s\n",
      "802:\tlearn: 1326.6090166\ttotal: 2m 23s\tremaining: 35.2s\n",
      "803:\tlearn: 1326.4461891\ttotal: 2m 23s\tremaining: 35.1s\n",
      "804:\tlearn: 1326.2015111\ttotal: 2m 23s\tremaining: 34.9s\n",
      "805:\tlearn: 1326.0108748\ttotal: 2m 24s\tremaining: 34.7s\n",
      "806:\tlearn: 1325.8756447\ttotal: 2m 24s\tremaining: 34.5s\n",
      "807:\tlearn: 1325.7581046\ttotal: 2m 24s\tremaining: 34.3s\n",
      "808:\tlearn: 1325.6294453\ttotal: 2m 24s\tremaining: 34.2s\n",
      "809:\tlearn: 1325.5097646\ttotal: 2m 24s\tremaining: 34s\n",
      "810:\tlearn: 1325.3456100\ttotal: 2m 25s\tremaining: 33.8s\n",
      "811:\tlearn: 1325.2249418\ttotal: 2m 25s\tremaining: 33.6s\n",
      "812:\tlearn: 1325.1391564\ttotal: 2m 25s\tremaining: 33.5s\n",
      "813:\tlearn: 1325.0518195\ttotal: 2m 25s\tremaining: 33.3s\n",
      "814:\tlearn: 1324.9615791\ttotal: 2m 25s\tremaining: 33.1s\n",
      "815:\tlearn: 1324.7216488\ttotal: 2m 26s\tremaining: 32.9s\n",
      "816:\tlearn: 1324.5457075\ttotal: 2m 26s\tremaining: 32.8s\n",
      "817:\tlearn: 1324.4623522\ttotal: 2m 26s\tremaining: 32.6s\n",
      "818:\tlearn: 1324.4039235\ttotal: 2m 26s\tremaining: 32.4s\n",
      "819:\tlearn: 1324.2232609\ttotal: 2m 26s\tremaining: 32.3s\n",
      "820:\tlearn: 1324.0422679\ttotal: 2m 27s\tremaining: 32.1s\n",
      "821:\tlearn: 1323.8582846\ttotal: 2m 27s\tremaining: 31.9s\n",
      "822:\tlearn: 1323.7588405\ttotal: 2m 27s\tremaining: 31.7s\n",
      "823:\tlearn: 1323.5276163\ttotal: 2m 27s\tremaining: 31.6s\n",
      "824:\tlearn: 1323.4060029\ttotal: 2m 27s\tremaining: 31.4s\n",
      "825:\tlearn: 1323.2944223\ttotal: 2m 28s\tremaining: 31.2s\n",
      "826:\tlearn: 1323.1778204\ttotal: 2m 28s\tremaining: 31s\n",
      "827:\tlearn: 1323.0150802\ttotal: 2m 28s\tremaining: 30.8s\n",
      "828:\tlearn: 1322.8921739\ttotal: 2m 28s\tremaining: 30.7s\n",
      "829:\tlearn: 1322.7034035\ttotal: 2m 28s\tremaining: 30.5s\n",
      "830:\tlearn: 1322.5834412\ttotal: 2m 28s\tremaining: 30.3s\n",
      "831:\tlearn: 1322.5157202\ttotal: 2m 29s\tremaining: 30.1s\n",
      "832:\tlearn: 1322.2382216\ttotal: 2m 29s\tremaining: 29.9s\n",
      "833:\tlearn: 1322.1322792\ttotal: 2m 29s\tremaining: 29.8s\n",
      "834:\tlearn: 1322.0859404\ttotal: 2m 29s\tremaining: 29.6s\n",
      "835:\tlearn: 1321.9534897\ttotal: 2m 29s\tremaining: 29.4s\n",
      "836:\tlearn: 1321.8456315\ttotal: 2m 30s\tremaining: 29.2s\n",
      "837:\tlearn: 1321.6715482\ttotal: 2m 30s\tremaining: 29.1s\n",
      "838:\tlearn: 1321.5491165\ttotal: 2m 30s\tremaining: 28.9s\n",
      "839:\tlearn: 1321.3529626\ttotal: 2m 30s\tremaining: 28.7s\n",
      "840:\tlearn: 1321.2270741\ttotal: 2m 30s\tremaining: 28.5s\n",
      "841:\tlearn: 1321.1152302\ttotal: 2m 31s\tremaining: 28.3s\n",
      "842:\tlearn: 1320.9906945\ttotal: 2m 31s\tremaining: 28.2s\n",
      "843:\tlearn: 1320.8515922\ttotal: 2m 31s\tremaining: 28s\n",
      "844:\tlearn: 1320.7767751\ttotal: 2m 31s\tremaining: 27.8s\n",
      "845:\tlearn: 1320.6109910\ttotal: 2m 31s\tremaining: 27.6s\n",
      "846:\tlearn: 1320.5132956\ttotal: 2m 31s\tremaining: 27.4s\n",
      "847:\tlearn: 1320.4824424\ttotal: 2m 32s\tremaining: 27.3s\n",
      "848:\tlearn: 1320.3245739\ttotal: 2m 32s\tremaining: 27.1s\n",
      "849:\tlearn: 1320.1154009\ttotal: 2m 32s\tremaining: 26.9s\n",
      "850:\tlearn: 1319.9880549\ttotal: 2m 32s\tremaining: 26.7s\n",
      "851:\tlearn: 1319.8784442\ttotal: 2m 32s\tremaining: 26.6s\n",
      "852:\tlearn: 1319.8026581\ttotal: 2m 33s\tremaining: 26.4s\n",
      "853:\tlearn: 1319.6522797\ttotal: 2m 33s\tremaining: 26.2s\n",
      "854:\tlearn: 1319.4582948\ttotal: 2m 33s\tremaining: 26s\n",
      "855:\tlearn: 1319.3525047\ttotal: 2m 33s\tremaining: 25.8s\n",
      "856:\tlearn: 1318.9862476\ttotal: 2m 33s\tremaining: 25.7s\n",
      "857:\tlearn: 1318.8138372\ttotal: 2m 33s\tremaining: 25.5s\n",
      "858:\tlearn: 1318.7147181\ttotal: 2m 34s\tremaining: 25.3s\n",
      "859:\tlearn: 1318.6099864\ttotal: 2m 34s\tremaining: 25.1s\n",
      "860:\tlearn: 1318.4948275\ttotal: 2m 34s\tremaining: 24.9s\n",
      "861:\tlearn: 1318.4001592\ttotal: 2m 34s\tremaining: 24.8s\n",
      "862:\tlearn: 1318.1969889\ttotal: 2m 34s\tremaining: 24.6s\n",
      "863:\tlearn: 1318.1155699\ttotal: 2m 35s\tremaining: 24.4s\n",
      "864:\tlearn: 1317.9124417\ttotal: 2m 35s\tremaining: 24.2s\n",
      "865:\tlearn: 1317.8096327\ttotal: 2m 35s\tremaining: 24s\n",
      "866:\tlearn: 1317.6841278\ttotal: 2m 35s\tremaining: 23.9s\n",
      "867:\tlearn: 1317.4876914\ttotal: 2m 35s\tremaining: 23.7s\n",
      "868:\tlearn: 1317.3107819\ttotal: 2m 35s\tremaining: 23.5s\n",
      "869:\tlearn: 1317.2534169\ttotal: 2m 36s\tremaining: 23.3s\n",
      "870:\tlearn: 1317.1053409\ttotal: 2m 36s\tremaining: 23.1s\n",
      "871:\tlearn: 1317.0164542\ttotal: 2m 36s\tremaining: 23s\n",
      "872:\tlearn: 1316.7496610\ttotal: 2m 36s\tremaining: 22.8s\n",
      "873:\tlearn: 1316.6181954\ttotal: 2m 36s\tremaining: 22.6s\n",
      "874:\tlearn: 1316.5795730\ttotal: 2m 37s\tremaining: 22.4s\n",
      "875:\tlearn: 1316.4690316\ttotal: 2m 37s\tremaining: 22.3s\n",
      "876:\tlearn: 1316.2583286\ttotal: 2m 37s\tremaining: 22.1s\n",
      "877:\tlearn: 1316.0893823\ttotal: 2m 37s\tremaining: 21.9s\n",
      "878:\tlearn: 1315.9300333\ttotal: 2m 37s\tremaining: 21.7s\n",
      "879:\tlearn: 1315.7744955\ttotal: 2m 37s\tremaining: 21.5s\n",
      "880:\tlearn: 1315.6370456\ttotal: 2m 38s\tremaining: 21.4s\n",
      "881:\tlearn: 1315.4565917\ttotal: 2m 38s\tremaining: 21.2s\n",
      "882:\tlearn: 1315.3356529\ttotal: 2m 38s\tremaining: 21s\n",
      "883:\tlearn: 1315.2524076\ttotal: 2m 38s\tremaining: 20.8s\n",
      "884:\tlearn: 1315.1688539\ttotal: 2m 38s\tremaining: 20.6s\n",
      "885:\tlearn: 1315.0346889\ttotal: 2m 38s\tremaining: 20.5s\n",
      "886:\tlearn: 1314.8114642\ttotal: 2m 39s\tremaining: 20.3s\n",
      "887:\tlearn: 1314.7111340\ttotal: 2m 39s\tremaining: 20.1s\n",
      "888:\tlearn: 1314.5761581\ttotal: 2m 39s\tremaining: 19.9s\n",
      "889:\tlearn: 1314.5304186\ttotal: 2m 39s\tremaining: 19.7s\n",
      "890:\tlearn: 1314.4339041\ttotal: 2m 39s\tremaining: 19.6s\n",
      "891:\tlearn: 1314.2519442\ttotal: 2m 40s\tremaining: 19.4s\n",
      "892:\tlearn: 1314.0616246\ttotal: 2m 40s\tremaining: 19.2s\n",
      "893:\tlearn: 1313.9240048\ttotal: 2m 40s\tremaining: 19s\n",
      "894:\tlearn: 1313.8117129\ttotal: 2m 40s\tremaining: 18.8s\n",
      "895:\tlearn: 1313.7055108\ttotal: 2m 40s\tremaining: 18.7s\n",
      "896:\tlearn: 1313.5905233\ttotal: 2m 41s\tremaining: 18.5s\n",
      "897:\tlearn: 1313.3911521\ttotal: 2m 41s\tremaining: 18.3s\n",
      "898:\tlearn: 1313.2894118\ttotal: 2m 41s\tremaining: 18.1s\n",
      "899:\tlearn: 1313.1969102\ttotal: 2m 41s\tremaining: 18s\n",
      "900:\tlearn: 1313.0128853\ttotal: 2m 41s\tremaining: 17.8s\n",
      "901:\tlearn: 1312.9285495\ttotal: 2m 41s\tremaining: 17.6s\n",
      "902:\tlearn: 1312.8446632\ttotal: 2m 42s\tremaining: 17.4s\n",
      "903:\tlearn: 1312.7033439\ttotal: 2m 42s\tremaining: 17.2s\n",
      "904:\tlearn: 1312.5623347\ttotal: 2m 42s\tremaining: 17.1s\n",
      "905:\tlearn: 1312.4270256\ttotal: 2m 42s\tremaining: 16.9s\n",
      "906:\tlearn: 1312.3099172\ttotal: 2m 42s\tremaining: 16.7s\n",
      "907:\tlearn: 1312.1046766\ttotal: 2m 43s\tremaining: 16.5s\n",
      "908:\tlearn: 1311.9841414\ttotal: 2m 43s\tremaining: 16.3s\n",
      "909:\tlearn: 1311.9015997\ttotal: 2m 43s\tremaining: 16.2s\n",
      "910:\tlearn: 1311.7935320\ttotal: 2m 43s\tremaining: 16s\n",
      "911:\tlearn: 1311.6625205\ttotal: 2m 43s\tremaining: 15.8s\n",
      "912:\tlearn: 1311.5945702\ttotal: 2m 43s\tremaining: 15.6s\n",
      "913:\tlearn: 1311.5061944\ttotal: 2m 44s\tremaining: 15.4s\n",
      "914:\tlearn: 1311.3581197\ttotal: 2m 44s\tremaining: 15.3s\n",
      "915:\tlearn: 1311.2209740\ttotal: 2m 44s\tremaining: 15.1s\n",
      "916:\tlearn: 1311.1125648\ttotal: 2m 44s\tremaining: 14.9s\n",
      "917:\tlearn: 1311.0681857\ttotal: 2m 44s\tremaining: 14.7s\n",
      "918:\tlearn: 1311.0507264\ttotal: 2m 45s\tremaining: 14.5s\n",
      "919:\tlearn: 1310.9228949\ttotal: 2m 45s\tremaining: 14.4s\n",
      "920:\tlearn: 1310.8070895\ttotal: 2m 45s\tremaining: 14.2s\n",
      "921:\tlearn: 1310.6687100\ttotal: 2m 45s\tremaining: 14s\n",
      "922:\tlearn: 1310.6313807\ttotal: 2m 45s\tremaining: 13.8s\n",
      "923:\tlearn: 1310.4491982\ttotal: 2m 45s\tremaining: 13.6s\n",
      "924:\tlearn: 1310.3837728\ttotal: 2m 46s\tremaining: 13.5s\n",
      "925:\tlearn: 1310.2638663\ttotal: 2m 46s\tremaining: 13.3s\n",
      "926:\tlearn: 1310.1026004\ttotal: 2m 46s\tremaining: 13.1s\n",
      "927:\tlearn: 1310.0397408\ttotal: 2m 46s\tremaining: 12.9s\n",
      "928:\tlearn: 1309.8669419\ttotal: 2m 46s\tremaining: 12.7s\n",
      "929:\tlearn: 1309.6319372\ttotal: 2m 46s\tremaining: 12.6s\n",
      "930:\tlearn: 1309.5746521\ttotal: 2m 47s\tremaining: 12.4s\n",
      "931:\tlearn: 1309.3413614\ttotal: 2m 47s\tremaining: 12.2s\n",
      "932:\tlearn: 1309.2748600\ttotal: 2m 47s\tremaining: 12s\n",
      "933:\tlearn: 1309.2074935\ttotal: 2m 47s\tremaining: 11.9s\n",
      "934:\tlearn: 1309.1152275\ttotal: 2m 47s\tremaining: 11.7s\n",
      "935:\tlearn: 1308.9260963\ttotal: 2m 48s\tremaining: 11.5s\n",
      "936:\tlearn: 1308.8705657\ttotal: 2m 48s\tremaining: 11.3s\n",
      "937:\tlearn: 1308.7780782\ttotal: 2m 48s\tremaining: 11.1s\n",
      "938:\tlearn: 1308.6780492\ttotal: 2m 48s\tremaining: 11s\n",
      "939:\tlearn: 1308.4562863\ttotal: 2m 48s\tremaining: 10.8s\n",
      "940:\tlearn: 1308.3820456\ttotal: 2m 48s\tremaining: 10.6s\n",
      "941:\tlearn: 1308.2153609\ttotal: 2m 49s\tremaining: 10.4s\n",
      "942:\tlearn: 1308.1882125\ttotal: 2m 49s\tremaining: 10.2s\n",
      "943:\tlearn: 1308.0560820\ttotal: 2m 49s\tremaining: 10.1s\n",
      "944:\tlearn: 1307.9493122\ttotal: 2m 49s\tremaining: 9.87s\n",
      "945:\tlearn: 1307.8094735\ttotal: 2m 49s\tremaining: 9.69s\n",
      "946:\tlearn: 1307.5945272\ttotal: 2m 50s\tremaining: 9.52s\n",
      "947:\tlearn: 1307.4552842\ttotal: 2m 50s\tremaining: 9.34s\n",
      "948:\tlearn: 1307.3089673\ttotal: 2m 50s\tremaining: 9.16s\n",
      "949:\tlearn: 1307.1323109\ttotal: 2m 50s\tremaining: 8.98s\n",
      "950:\tlearn: 1307.0530888\ttotal: 2m 50s\tremaining: 8.8s\n",
      "951:\tlearn: 1306.9696511\ttotal: 2m 50s\tremaining: 8.62s\n",
      "952:\tlearn: 1306.8971566\ttotal: 2m 51s\tremaining: 8.44s\n",
      "953:\tlearn: 1306.7830642\ttotal: 2m 51s\tremaining: 8.26s\n",
      "954:\tlearn: 1306.6922023\ttotal: 2m 51s\tremaining: 8.08s\n",
      "955:\tlearn: 1306.5849426\ttotal: 2m 51s\tremaining: 7.9s\n",
      "956:\tlearn: 1306.4757195\ttotal: 2m 51s\tremaining: 7.72s\n",
      "957:\tlearn: 1306.3761434\ttotal: 2m 52s\tremaining: 7.54s\n",
      "958:\tlearn: 1306.2017226\ttotal: 2m 52s\tremaining: 7.36s\n",
      "959:\tlearn: 1306.0894712\ttotal: 2m 52s\tremaining: 7.18s\n",
      "960:\tlearn: 1306.0122754\ttotal: 2m 52s\tremaining: 7s\n",
      "961:\tlearn: 1305.8613761\ttotal: 2m 52s\tremaining: 6.82s\n",
      "962:\tlearn: 1305.7367919\ttotal: 2m 52s\tremaining: 6.64s\n",
      "963:\tlearn: 1305.6045414\ttotal: 2m 53s\tremaining: 6.46s\n",
      "964:\tlearn: 1305.5175752\ttotal: 2m 53s\tremaining: 6.28s\n",
      "965:\tlearn: 1305.3766409\ttotal: 2m 53s\tremaining: 6.1s\n",
      "966:\tlearn: 1305.1928945\ttotal: 2m 53s\tremaining: 5.92s\n",
      "967:\tlearn: 1304.9864834\ttotal: 2m 53s\tremaining: 5.75s\n",
      "968:\tlearn: 1304.8630752\ttotal: 2m 54s\tremaining: 5.57s\n",
      "969:\tlearn: 1304.7883308\ttotal: 2m 54s\tremaining: 5.39s\n",
      "970:\tlearn: 1304.6060906\ttotal: 2m 54s\tremaining: 5.21s\n",
      "971:\tlearn: 1304.5133666\ttotal: 2m 54s\tremaining: 5.03s\n",
      "972:\tlearn: 1304.4183839\ttotal: 2m 54s\tremaining: 4.85s\n",
      "973:\tlearn: 1304.2892115\ttotal: 2m 54s\tremaining: 4.67s\n",
      "974:\tlearn: 1304.1239149\ttotal: 2m 55s\tremaining: 4.49s\n",
      "975:\tlearn: 1303.9455540\ttotal: 2m 55s\tremaining: 4.31s\n",
      "976:\tlearn: 1303.8270124\ttotal: 2m 55s\tremaining: 4.13s\n",
      "977:\tlearn: 1303.7161742\ttotal: 2m 55s\tremaining: 3.95s\n",
      "978:\tlearn: 1303.5858661\ttotal: 2m 55s\tremaining: 3.77s\n",
      "979:\tlearn: 1303.5276339\ttotal: 2m 56s\tremaining: 3.59s\n",
      "980:\tlearn: 1303.3868242\ttotal: 2m 56s\tremaining: 3.41s\n",
      "981:\tlearn: 1303.3334363\ttotal: 2m 56s\tremaining: 3.24s\n",
      "982:\tlearn: 1303.2327769\ttotal: 2m 56s\tremaining: 3.06s\n",
      "983:\tlearn: 1303.1742690\ttotal: 2m 56s\tremaining: 2.88s\n",
      "984:\tlearn: 1303.1314631\ttotal: 2m 57s\tremaining: 2.7s\n",
      "985:\tlearn: 1302.9161026\ttotal: 2m 57s\tremaining: 2.52s\n",
      "986:\tlearn: 1302.8035837\ttotal: 2m 57s\tremaining: 2.34s\n",
      "987:\tlearn: 1302.6856677\ttotal: 2m 57s\tremaining: 2.16s\n",
      "988:\tlearn: 1302.6140908\ttotal: 2m 57s\tremaining: 1.98s\n",
      "989:\tlearn: 1302.5067483\ttotal: 2m 57s\tremaining: 1.8s\n",
      "990:\tlearn: 1302.4400564\ttotal: 2m 58s\tremaining: 1.62s\n",
      "991:\tlearn: 1302.3278058\ttotal: 2m 58s\tremaining: 1.44s\n",
      "992:\tlearn: 1302.2269593\ttotal: 2m 58s\tremaining: 1.26s\n",
      "993:\tlearn: 1302.1316495\ttotal: 2m 58s\tremaining: 1.08s\n",
      "994:\tlearn: 1302.0473708\ttotal: 2m 58s\tremaining: 899ms\n",
      "995:\tlearn: 1301.9137316\ttotal: 2m 59s\tremaining: 719ms\n",
      "996:\tlearn: 1301.8307113\ttotal: 2m 59s\tremaining: 539ms\n",
      "997:\tlearn: 1301.7433479\ttotal: 2m 59s\tremaining: 359ms\n",
      "998:\tlearn: 1301.5870134\ttotal: 2m 59s\tremaining: 180ms\n",
      "999:\tlearn: 1301.4665407\ttotal: 2m 59s\tremaining: 0us\n",
      "CPU times: user 2min 58s, sys: 538 ms, total: 2min 58s\n",
      "Wall time: 3min 3s\n"
     ]
    },
    {
     "data": {
      "text/plain": [
       "<catboost.core.CatBoostRegressor at 0x7f20683f0040>"
      ]
     },
     "execution_count": 73,
     "metadata": {},
     "output_type": "execute_result"
    }
   ],
   "source": [
    "%%time\n",
    "final_cat.fit(train_features_lin, train_target_lin)"
   ]
  },
  {
   "cell_type": "markdown",
   "metadata": {},
   "source": [
    "время для предсказания"
   ]
  },
  {
   "cell_type": "code",
   "execution_count": 74,
   "metadata": {},
   "outputs": [
    {
     "name": "stdout",
     "output_type": "stream",
     "text": [
      "CPU times: user 576 ms, sys: 2.12 ms, total: 578 ms\n",
      "Wall time: 585 ms\n"
     ]
    }
   ],
   "source": [
    "%%time\n",
    "predict = final_cat.predict(test_features_lin)"
   ]
  },
  {
   "cell_type": "code",
   "execution_count": 75,
   "metadata": {},
   "outputs": [
    {
     "name": "stdout",
     "output_type": "stream",
     "text": [
      "Лучший показатель rmse методом градиентного бустинга через CatBoost 1431.0902056801742\n"
     ]
    }
   ],
   "source": [
    "print('Лучший показатель rmse методом градиентного бустинга через CatBoost', mean_squared_error(test_target_lin, predict, squared=False))"
   ]
  },
  {
   "cell_type": "code",
   "execution_count": 78,
   "metadata": {
    "scrolled": false
   },
   "outputs": [
    {
     "data": {
      "text/html": [
       "<div>\n",
       "<style scoped>\n",
       "    .dataframe tbody tr th:only-of-type {\n",
       "        vertical-align: middle;\n",
       "    }\n",
       "\n",
       "    .dataframe tbody tr th {\n",
       "        vertical-align: top;\n",
       "    }\n",
       "\n",
       "    .dataframe thead th {\n",
       "        text-align: right;\n",
       "    }\n",
       "</style>\n",
       "<table border=\"1\" class=\"dataframe\">\n",
       "  <thead>\n",
       "    <tr style=\"text-align: right;\">\n",
       "      <th></th>\n",
       "      <th>Tree</th>\n",
       "      <th>Forest</th>\n",
       "      <th>LR</th>\n",
       "      <th>LightGBM</th>\n",
       "      <th>Catboost</th>\n",
       "    </tr>\n",
       "  </thead>\n",
       "  <tbody>\n",
       "    <tr>\n",
       "      <th>Время для обучения</th>\n",
       "      <td>13 min</td>\n",
       "      <td>10 min</td>\n",
       "      <td>32 s</td>\n",
       "      <td>8.17 s</td>\n",
       "      <td>3 min</td>\n",
       "    </tr>\n",
       "    <tr>\n",
       "      <th>время для предсказания</th>\n",
       "      <td>209 ms</td>\n",
       "      <td>354 ms</td>\n",
       "      <td>389 ms</td>\n",
       "      <td>1.39 s</td>\n",
       "      <td>585 ms</td>\n",
       "    </tr>\n",
       "    <tr>\n",
       "      <th>RMSE</th>\n",
       "      <td>1608</td>\n",
       "      <td>1570</td>\n",
       "      <td>2339</td>\n",
       "      <td>1490</td>\n",
       "      <td>1431</td>\n",
       "    </tr>\n",
       "  </tbody>\n",
       "</table>\n",
       "</div>"
      ],
      "text/plain": [
       "                          Tree  Forest      LR LightGBM Catboost\n",
       "Время для обучения      13 min  10 min    32 s   8.17 s    3 min\n",
       "время для предсказания  209 ms  354 ms  389 ms   1.39 s   585 ms\n",
       "RMSE                      1608    1570    2339     1490     1431"
      ]
     },
     "execution_count": 78,
     "metadata": {},
     "output_type": "execute_result"
    }
   ],
   "source": [
    "frame = pd.DataFrame(columns = model_list, data=learn_predict_list, index=['Время для обучения', 'время для предсказания', 'RMSE'])\n",
    "frame"
   ]
  },
  {
   "cell_type": "markdown",
   "metadata": {},
   "source": [
    "### Выводы"
   ]
  },
  {
   "cell_type": "markdown",
   "metadata": {},
   "source": [
    "1. По времени обучения лучше всего показала себя модель LightGBM.\n",
    "2. По времени предсказания лучше всего показала себя модель дерева решений. Модель градиентного бустинга catboost оказалась практически в 2 раза быстрее LightGBM.\n",
    "3. Наиболее точным оказалась модель Catboost.\n",
    "**Время обучения модели CatBoost не является критичным что наряду с высокой точностью предсказаний модели позволяет сделать вывод, что лучше всего для решения поставленной задачи подойдёт модель CatBoost, так как она более точна, что очень важно для автомобильного рынка**"
   ]
  },
  {
   "cell_type": "markdown",
   "metadata": {},
   "source": [
    "## Общие выводы + Чек-лист проверки"
   ]
  },
  {
   "cell_type": "markdown",
   "metadata": {},
   "source": [
    "Обнаружено много пропусков (окло 20% от всех данных). Удаление пропусков приведёт к потерям множества нужных данных. В связи с этим необходимо восполнить пропуски. Столбцы fuel_type, vehicle_type, gearbox будут заполнены по методу большинства. Столбец model будет заполнена по методу большинства исходя из большинства колонок той же фирмы автомобиля. Столбец not_repaired будет заполнен как 'no', так как скорее всего машина в ремонте не была.\n",
    "Датафрейм очищен от дубликатов.\n",
    "\n",
    "**Замечания в данных**\n",
    "1. размах цен слишком большой и имеет высокий уровень стандартного отклонения. Необходимо будет избавиться от выбросов.\n",
    "2. дата регистрации начинается с 1000 года и заканчивается 9999 годом. обозначим интервал следующим образом: от 1900 года до 2022 года.\n",
    "3. Лошадиные силы у автомобиля достигают 20000. Согласно [рейтингу самых мощных автомобилей в мире](https://cars-rating.ru/legkovye/samye-moshhnye-avtomobili-v-mire) количество лошадиных сил не может превышать 5000. А вторая машина по мощноти имеет 2500 л.с. Эта цифра и будет нашей верхней границей, так как моделей с самой сильной мощностью всего 3 в мире, а выбросов только по России гораздо больше.\n",
    "3. Месяц регистрации автомобилей равный 0 присвоим значение 1.\n",
    "4. Столбцы \"number_of_pictures\", \"date_crawled\",\"date_created\",\"last_seen\",\"postal_code\" удалим, так как они не содержат в себе полезную информацию, влияющую на стоимость автомобиля.\n",
    "\n",
    "Согласно данным из диаграммы размаха можно сделать вывод, что выбросами считается показатель стоимости, превышающий 14000.\n",
    "\n",
    "После очистки датасета от выбросов общая доль потерь в данных составила: 0.058160535494576227\n",
    "\n",
    "Поскольку модели машинного обучения могут обрабатывать только числовые данные, то все категориальные данные были пресдвтавлены в числовом формате.\n",
    "\n",
    "- По времени обучения лучше всего показала себя модель LightGBM.\n",
    "- По времени предсказания лучше всего показала себя модель дерева решений. Модель градиентного бустинга catboost оказалась практически в 2.5 раза быстрее LightGBM\n",
    "- Наиболее точным оказалась модель градиентного бустинга Catboost.\n",
    "\n",
    "**Время обучения модели CatBoost не является критичным что наряду с высокой точностью предсказаний модели позволяет сделать вывод, что лучше всего для решения поставленной задачи подойдёт модель CatBoost, так как она более точна, что очень важно для автомобильного рынка**\n",
    "\n",
    "\n",
    "\n",
    "\n",
    "\n"
   ]
  }
 ],
 "metadata": {
  "ExecuteTimeLog": [
   {
    "duration": 1449,
    "start_time": "2022-05-08T10:21:13.637Z"
   },
   {
    "duration": 3,
    "start_time": "2022-05-08T10:21:56.891Z"
   },
   {
    "duration": 189,
    "start_time": "2022-05-08T10:27:26.464Z"
   },
   {
    "duration": 3,
    "start_time": "2022-05-08T10:28:00.282Z"
   },
   {
    "duration": 93,
    "start_time": "2022-05-08T10:28:46.583Z"
   },
   {
    "duration": 1086,
    "start_time": "2022-05-08T10:28:49.552Z"
   },
   {
    "duration": 26,
    "start_time": "2022-05-08T10:28:56.960Z"
   },
   {
    "duration": 119,
    "start_time": "2022-05-08T10:29:42.782Z"
   },
   {
    "duration": 5,
    "start_time": "2022-05-08T10:44:54.562Z"
   },
   {
    "duration": 46,
    "start_time": "2022-05-08T10:49:07.098Z"
   },
   {
    "duration": 126,
    "start_time": "2022-05-08T11:06:32.917Z"
   },
   {
    "duration": 17,
    "start_time": "2022-05-08T11:42:18.213Z"
   },
   {
    "duration": 111,
    "start_time": "2022-05-08T11:42:50.159Z"
   },
   {
    "duration": 23,
    "start_time": "2022-05-08T11:44:20.588Z"
   },
   {
    "duration": 1623,
    "start_time": "2022-05-08T12:00:43.151Z"
   },
   {
    "duration": 7,
    "start_time": "2022-05-08T12:01:54.157Z"
   },
   {
    "duration": 1279,
    "start_time": "2022-05-08T12:02:06.277Z"
   },
   {
    "duration": 942,
    "start_time": "2022-05-08T12:02:07.559Z"
   },
   {
    "duration": 34,
    "start_time": "2022-05-08T12:02:08.502Z"
   },
   {
    "duration": 135,
    "start_time": "2022-05-08T12:02:08.538Z"
   },
   {
    "duration": 4,
    "start_time": "2022-05-08T12:02:08.675Z"
   },
   {
    "duration": 68,
    "start_time": "2022-05-08T12:02:08.681Z"
   },
   {
    "duration": 118,
    "start_time": "2022-05-08T12:02:08.751Z"
   },
   {
    "duration": 116,
    "start_time": "2022-05-08T12:02:08.871Z"
   },
   {
    "duration": 119,
    "start_time": "2022-05-08T12:02:08.989Z"
   },
   {
    "duration": 42,
    "start_time": "2022-05-08T12:02:09.111Z"
   },
   {
    "duration": 1645,
    "start_time": "2022-05-08T12:02:09.154Z"
   },
   {
    "duration": 1377,
    "start_time": "2022-05-08T12:03:08.554Z"
   },
   {
    "duration": 1276,
    "start_time": "2022-05-08T12:05:42.560Z"
   },
   {
    "duration": 1271,
    "start_time": "2022-05-08T12:06:44.155Z"
   },
   {
    "duration": 1073,
    "start_time": "2022-05-08T12:06:45.429Z"
   },
   {
    "duration": 41,
    "start_time": "2022-05-08T12:06:46.504Z"
   },
   {
    "duration": 129,
    "start_time": "2022-05-08T12:06:46.547Z"
   },
   {
    "duration": 4,
    "start_time": "2022-05-08T12:06:46.678Z"
   },
   {
    "duration": 52,
    "start_time": "2022-05-08T12:06:46.683Z"
   },
   {
    "duration": 106,
    "start_time": "2022-05-08T12:06:46.737Z"
   },
   {
    "duration": 143,
    "start_time": "2022-05-08T12:06:46.846Z"
   },
   {
    "duration": 113,
    "start_time": "2022-05-08T12:06:46.991Z"
   },
   {
    "duration": 35,
    "start_time": "2022-05-08T12:06:47.106Z"
   },
   {
    "duration": 1416,
    "start_time": "2022-05-08T12:06:47.145Z"
   },
   {
    "duration": 1232,
    "start_time": "2022-05-08T12:07:49.008Z"
   },
   {
    "duration": 1682,
    "start_time": "2022-05-08T12:09:46.094Z"
   },
   {
    "duration": 1448,
    "start_time": "2022-05-08T12:09:54.463Z"
   },
   {
    "duration": 1380,
    "start_time": "2022-05-08T12:10:05.405Z"
   },
   {
    "duration": 1333,
    "start_time": "2022-05-08T12:11:17.206Z"
   },
   {
    "duration": 1404,
    "start_time": "2022-05-08T12:13:06.366Z"
   },
   {
    "duration": 1155,
    "start_time": "2022-05-08T12:13:26.188Z"
   },
   {
    "duration": 1224,
    "start_time": "2022-05-08T12:13:30.805Z"
   },
   {
    "duration": 1481,
    "start_time": "2022-05-08T12:13:46.177Z"
   },
   {
    "duration": 1056,
    "start_time": "2022-05-08T12:13:47.854Z"
   },
   {
    "duration": 31,
    "start_time": "2022-05-08T12:13:49.420Z"
   },
   {
    "duration": 172,
    "start_time": "2022-05-08T12:13:52.663Z"
   },
   {
    "duration": 6,
    "start_time": "2022-05-08T12:13:56.059Z"
   },
   {
    "duration": 50,
    "start_time": "2022-05-08T12:14:03.085Z"
   },
   {
    "duration": 125,
    "start_time": "2022-05-08T12:14:05.327Z"
   },
   {
    "duration": 130,
    "start_time": "2022-05-08T12:14:15.133Z"
   },
   {
    "duration": 116,
    "start_time": "2022-05-08T12:14:17.124Z"
   },
   {
    "duration": 34,
    "start_time": "2022-05-08T12:14:26.506Z"
   },
   {
    "duration": 27,
    "start_time": "2022-05-08T12:14:30.436Z"
   },
   {
    "duration": 642,
    "start_time": "2022-05-08T12:15:48.065Z"
   },
   {
    "duration": 549,
    "start_time": "2022-05-08T12:16:23.455Z"
   },
   {
    "duration": 59,
    "start_time": "2022-05-08T12:17:06.416Z"
   },
   {
    "duration": 782,
    "start_time": "2022-05-08T12:17:12.219Z"
   },
   {
    "duration": 614,
    "start_time": "2022-05-08T12:17:58.063Z"
   },
   {
    "duration": 1993,
    "start_time": "2022-05-08T12:19:59.200Z"
   },
   {
    "duration": 1409,
    "start_time": "2022-05-08T12:24:24.453Z"
   },
   {
    "duration": 802,
    "start_time": "2022-05-08T12:24:25.865Z"
   },
   {
    "duration": 31,
    "start_time": "2022-05-08T12:24:26.669Z"
   },
   {
    "duration": 211,
    "start_time": "2022-05-08T12:24:26.703Z"
   },
   {
    "duration": 9,
    "start_time": "2022-05-08T12:24:26.916Z"
   },
   {
    "duration": 77,
    "start_time": "2022-05-08T12:24:26.928Z"
   },
   {
    "duration": 133,
    "start_time": "2022-05-08T12:24:27.007Z"
   },
   {
    "duration": 220,
    "start_time": "2022-05-08T12:24:27.142Z"
   },
   {
    "duration": 193,
    "start_time": "2022-05-08T12:24:27.365Z"
   },
   {
    "duration": 66,
    "start_time": "2022-05-08T12:24:27.562Z"
   },
   {
    "duration": 1725,
    "start_time": "2022-05-08T12:24:27.630Z"
   },
   {
    "duration": 134,
    "start_time": "2022-05-08T12:25:17.059Z"
   },
   {
    "duration": 1377,
    "start_time": "2022-05-08T12:25:31.170Z"
   },
   {
    "duration": 889,
    "start_time": "2022-05-08T12:25:32.549Z"
   },
   {
    "duration": 26,
    "start_time": "2022-05-08T12:25:33.440Z"
   },
   {
    "duration": 151,
    "start_time": "2022-05-08T12:25:33.469Z"
   },
   {
    "duration": 10,
    "start_time": "2022-05-08T12:25:33.622Z"
   },
   {
    "duration": 93,
    "start_time": "2022-05-08T12:25:33.633Z"
   },
   {
    "duration": 152,
    "start_time": "2022-05-08T12:25:33.728Z"
   },
   {
    "duration": 164,
    "start_time": "2022-05-08T12:25:33.882Z"
   },
   {
    "duration": 140,
    "start_time": "2022-05-08T12:25:34.049Z"
   },
   {
    "duration": 45,
    "start_time": "2022-05-08T12:25:34.192Z"
   },
   {
    "duration": 153,
    "start_time": "2022-05-08T12:25:34.243Z"
   },
   {
    "duration": 1519,
    "start_time": "2022-05-08T12:25:43.843Z"
   },
   {
    "duration": 1445,
    "start_time": "2022-05-08T12:28:07.671Z"
   },
   {
    "duration": 845,
    "start_time": "2022-05-08T12:28:09.118Z"
   },
   {
    "duration": 23,
    "start_time": "2022-05-08T12:28:09.967Z"
   },
   {
    "duration": 143,
    "start_time": "2022-05-08T12:28:09.993Z"
   },
   {
    "duration": 5,
    "start_time": "2022-05-08T12:28:10.138Z"
   },
   {
    "duration": 73,
    "start_time": "2022-05-08T12:28:10.147Z"
   },
   {
    "duration": 128,
    "start_time": "2022-05-08T12:28:10.222Z"
   },
   {
    "duration": 155,
    "start_time": "2022-05-08T12:28:10.354Z"
   },
   {
    "duration": 129,
    "start_time": "2022-05-08T12:28:10.511Z"
   },
   {
    "duration": 61,
    "start_time": "2022-05-08T12:28:10.643Z"
   },
   {
    "duration": 125,
    "start_time": "2022-05-08T12:28:10.706Z"
   },
   {
    "duration": 3161,
    "start_time": "2022-05-08T12:29:12.975Z"
   },
   {
    "duration": 123,
    "start_time": "2022-05-08T13:02:55.397Z"
   },
   {
    "duration": 2919,
    "start_time": "2022-05-08T13:03:43.142Z"
   },
   {
    "duration": 204,
    "start_time": "2022-05-08T13:03:47.077Z"
   },
   {
    "duration": 2716,
    "start_time": "2022-05-08T13:04:40.861Z"
   },
   {
    "duration": 118,
    "start_time": "2022-05-08T13:04:43.580Z"
   },
   {
    "duration": 2658,
    "start_time": "2022-05-08T13:05:23.631Z"
   },
   {
    "duration": 199,
    "start_time": "2022-05-08T13:05:29.404Z"
   },
   {
    "duration": 14,
    "start_time": "2022-05-08T13:05:46.098Z"
   },
   {
    "duration": 148,
    "start_time": "2022-05-08T13:08:13.668Z"
   },
   {
    "duration": 477,
    "start_time": "2022-05-08T13:08:41.839Z"
   },
   {
    "duration": 579,
    "start_time": "2022-05-08T13:08:47.530Z"
   },
   {
    "duration": 13,
    "start_time": "2022-05-08T13:08:57.913Z"
   },
   {
    "duration": 26,
    "start_time": "2022-05-08T13:10:01.975Z"
   },
   {
    "duration": 10,
    "start_time": "2022-05-08T13:10:29.287Z"
   },
   {
    "duration": 612,
    "start_time": "2022-05-08T13:11:13.463Z"
   },
   {
    "duration": 14,
    "start_time": "2022-05-08T13:11:23.027Z"
   },
   {
    "duration": 572,
    "start_time": "2022-05-08T13:11:51.943Z"
   },
   {
    "duration": 647,
    "start_time": "2022-05-08T13:12:24.759Z"
   },
   {
    "duration": 656,
    "start_time": "2022-05-08T13:12:47.422Z"
   },
   {
    "duration": 535,
    "start_time": "2022-05-08T13:14:06.827Z"
   },
   {
    "duration": 517,
    "start_time": "2022-05-08T13:14:17.469Z"
   },
   {
    "duration": 557,
    "start_time": "2022-05-08T13:14:28.434Z"
   },
   {
    "duration": 100,
    "start_time": "2022-05-08T13:15:29.268Z"
   },
   {
    "duration": 9,
    "start_time": "2022-05-08T13:34:19.209Z"
   },
   {
    "duration": 2855,
    "start_time": "2022-05-08T13:34:28.006Z"
   },
   {
    "duration": 357,
    "start_time": "2022-05-08T13:35:16.470Z"
   },
   {
    "duration": 489,
    "start_time": "2022-05-08T13:35:25.517Z"
   },
   {
    "duration": 5,
    "start_time": "2022-05-08T13:35:47.668Z"
   },
   {
    "duration": 2248,
    "start_time": "2022-05-08T13:36:06.133Z"
   },
   {
    "duration": 3104,
    "start_time": "2022-05-08T13:36:14.138Z"
   },
   {
    "duration": 17,
    "start_time": "2022-05-08T13:37:06.866Z"
   },
   {
    "duration": 87,
    "start_time": "2022-05-08T13:37:38.863Z"
   },
   {
    "duration": 13,
    "start_time": "2022-05-08T13:37:47.000Z"
   },
   {
    "duration": 13,
    "start_time": "2022-05-08T13:37:57.255Z"
   },
   {
    "duration": 68,
    "start_time": "2022-05-08T13:38:09.126Z"
   },
   {
    "duration": 1762,
    "start_time": "2022-05-08T13:38:27.583Z"
   },
   {
    "duration": 1057,
    "start_time": "2022-05-08T13:38:29.348Z"
   },
   {
    "duration": 35,
    "start_time": "2022-05-08T13:38:30.407Z"
   },
   {
    "duration": 202,
    "start_time": "2022-05-08T13:38:30.445Z"
   },
   {
    "duration": 5,
    "start_time": "2022-05-08T13:38:30.649Z"
   },
   {
    "duration": 74,
    "start_time": "2022-05-08T13:38:30.658Z"
   },
   {
    "duration": 119,
    "start_time": "2022-05-08T13:38:30.735Z"
   },
   {
    "duration": 169,
    "start_time": "2022-05-08T13:38:30.856Z"
   },
   {
    "duration": 200,
    "start_time": "2022-05-08T13:38:31.027Z"
   },
   {
    "duration": 35,
    "start_time": "2022-05-08T13:38:31.230Z"
   },
   {
    "duration": 2330,
    "start_time": "2022-05-08T13:38:31.267Z"
   },
   {
    "duration": 112,
    "start_time": "2022-05-08T13:38:33.599Z"
   },
   {
    "duration": 21,
    "start_time": "2022-05-08T13:38:33.727Z"
   },
   {
    "duration": 602,
    "start_time": "2022-05-08T13:38:33.751Z"
   },
   {
    "duration": 678,
    "start_time": "2022-05-08T13:38:34.356Z"
   },
   {
    "duration": 724,
    "start_time": "2022-05-08T13:38:35.037Z"
   },
   {
    "duration": 545,
    "start_time": "2022-05-08T13:38:35.763Z"
   },
   {
    "duration": 499,
    "start_time": "2022-05-08T13:38:36.310Z"
   },
   {
    "duration": 107,
    "start_time": "2022-05-08T13:38:36.811Z"
   },
   {
    "duration": 51,
    "start_time": "2022-05-08T13:38:36.924Z"
   },
   {
    "duration": 1555,
    "start_time": "2022-05-08T13:38:36.977Z"
   },
   {
    "duration": 320,
    "start_time": "2022-05-08T13:38:38.535Z"
   },
   {
    "duration": 420,
    "start_time": "2022-05-08T13:40:43.335Z"
   },
   {
    "duration": 38,
    "start_time": "2022-05-08T13:44:04.321Z"
   },
   {
    "duration": 22,
    "start_time": "2022-05-08T13:44:09.194Z"
   },
   {
    "duration": 475,
    "start_time": "2022-05-08T14:35:13.198Z"
   },
   {
    "duration": 65,
    "start_time": "2022-05-08T14:36:15.352Z"
   },
   {
    "duration": 417,
    "start_time": "2022-05-08T14:36:17.460Z"
   },
   {
    "duration": 15,
    "start_time": "2022-05-08T14:45:00.074Z"
   },
   {
    "duration": 379,
    "start_time": "2022-05-08T14:45:45.450Z"
   },
   {
    "duration": 30,
    "start_time": "2022-05-08T14:50:14.339Z"
   },
   {
    "duration": 22,
    "start_time": "2022-05-08T14:56:15.299Z"
   },
   {
    "duration": 69,
    "start_time": "2022-05-08T14:56:22.923Z"
   },
   {
    "duration": 7,
    "start_time": "2022-05-08T14:56:45.283Z"
   },
   {
    "duration": 61,
    "start_time": "2022-05-08T14:56:48.352Z"
   },
   {
    "duration": 1507,
    "start_time": "2022-05-08T14:58:31.831Z"
   },
   {
    "duration": 1244,
    "start_time": "2022-05-08T14:58:33.340Z"
   },
   {
    "duration": 40,
    "start_time": "2022-05-08T14:58:34.586Z"
   },
   {
    "duration": 133,
    "start_time": "2022-05-08T14:58:34.628Z"
   },
   {
    "duration": 8,
    "start_time": "2022-05-08T14:58:34.764Z"
   },
   {
    "duration": 66,
    "start_time": "2022-05-08T14:58:34.774Z"
   },
   {
    "duration": 117,
    "start_time": "2022-05-08T14:58:34.842Z"
   },
   {
    "duration": 136,
    "start_time": "2022-05-08T14:58:34.961Z"
   },
   {
    "duration": 113,
    "start_time": "2022-05-08T14:58:35.099Z"
   },
   {
    "duration": 35,
    "start_time": "2022-05-08T14:58:35.215Z"
   },
   {
    "duration": 2407,
    "start_time": "2022-05-08T14:58:35.252Z"
   },
   {
    "duration": 113,
    "start_time": "2022-05-08T14:58:37.660Z"
   },
   {
    "duration": 14,
    "start_time": "2022-05-08T14:58:37.774Z"
   },
   {
    "duration": 409,
    "start_time": "2022-05-08T14:58:37.790Z"
   },
   {
    "duration": 471,
    "start_time": "2022-05-08T14:58:38.200Z"
   },
   {
    "duration": 503,
    "start_time": "2022-05-08T14:58:38.673Z"
   },
   {
    "duration": 540,
    "start_time": "2022-05-08T14:58:39.178Z"
   },
   {
    "duration": 481,
    "start_time": "2022-05-08T14:58:39.720Z"
   },
   {
    "duration": 102,
    "start_time": "2022-05-08T14:58:40.203Z"
   },
   {
    "duration": 62,
    "start_time": "2022-05-08T14:58:40.307Z"
   },
   {
    "duration": 12,
    "start_time": "2022-05-08T14:58:40.371Z"
   },
   {
    "duration": 12,
    "start_time": "2022-05-08T14:58:40.385Z"
   },
   {
    "duration": 1499,
    "start_time": "2022-05-08T14:58:40.399Z"
   },
   {
    "duration": 406,
    "start_time": "2022-05-08T14:58:41.900Z"
   },
   {
    "duration": 35,
    "start_time": "2022-05-08T14:58:42.307Z"
   },
   {
    "duration": 5,
    "start_time": "2022-05-08T14:58:42.344Z"
   },
   {
    "duration": 40,
    "start_time": "2022-05-08T14:58:42.351Z"
   },
   {
    "duration": 320,
    "start_time": "2022-05-08T14:58:42.394Z"
   },
   {
    "duration": 53,
    "start_time": "2022-05-08T14:58:42.717Z"
   },
   {
    "duration": 381,
    "start_time": "2022-05-08T14:58:42.772Z"
   },
   {
    "duration": 37,
    "start_time": "2022-05-08T14:58:43.155Z"
   },
   {
    "duration": 3,
    "start_time": "2022-05-08T14:58:43.193Z"
   },
   {
    "duration": 7,
    "start_time": "2022-05-08T14:58:43.198Z"
   },
   {
    "duration": 4,
    "start_time": "2022-05-08T15:00:05.345Z"
   },
   {
    "duration": 11,
    "start_time": "2022-05-08T15:03:27.695Z"
   },
   {
    "duration": 43,
    "start_time": "2022-05-08T15:05:24.487Z"
   },
   {
    "duration": 13,
    "start_time": "2022-05-08T15:08:26.269Z"
   },
   {
    "duration": 138,
    "start_time": "2022-05-08T15:27:52.376Z"
   },
   {
    "duration": 33,
    "start_time": "2022-05-08T15:28:02.969Z"
   },
   {
    "duration": 39,
    "start_time": "2022-05-08T15:28:09.947Z"
   },
   {
    "duration": 44,
    "start_time": "2022-05-08T15:28:32.132Z"
   },
   {
    "duration": 1053,
    "start_time": "2022-05-08T15:34:38.806Z"
   },
   {
    "duration": 22,
    "start_time": "2022-05-08T15:34:44.740Z"
   },
   {
    "duration": 3,
    "start_time": "2022-05-08T15:39:15.780Z"
   },
   {
    "duration": 388,
    "start_time": "2022-05-08T15:40:16.469Z"
   },
   {
    "duration": 109,
    "start_time": "2022-05-08T15:40:51.696Z"
   },
   {
    "duration": 109,
    "start_time": "2022-05-08T15:41:01.179Z"
   },
   {
    "duration": 430,
    "start_time": "2022-05-08T15:41:07.445Z"
   },
   {
    "duration": 5,
    "start_time": "2022-05-08T15:41:23.988Z"
   },
   {
    "duration": 4,
    "start_time": "2022-05-08T15:41:35.216Z"
   },
   {
    "duration": 162,
    "start_time": "2022-05-08T15:51:01.056Z"
   },
   {
    "duration": 3,
    "start_time": "2022-05-08T15:54:40.203Z"
   },
   {
    "duration": 20,
    "start_time": "2022-05-08T16:19:29.623Z"
   },
   {
    "duration": 14,
    "start_time": "2022-05-08T16:19:41.502Z"
   },
   {
    "duration": 3,
    "start_time": "2022-05-08T16:20:17.021Z"
   },
   {
    "duration": 14,
    "start_time": "2022-05-08T16:20:18.280Z"
   },
   {
    "duration": 15,
    "start_time": "2022-05-08T16:20:26.721Z"
   },
   {
    "duration": 3,
    "start_time": "2022-05-08T16:21:59.883Z"
   },
   {
    "duration": 5,
    "start_time": "2022-05-08T16:22:11.961Z"
   },
   {
    "duration": 315,
    "start_time": "2022-05-08T16:23:11.474Z"
   },
   {
    "duration": 4,
    "start_time": "2022-05-08T16:23:11.920Z"
   },
   {
    "duration": 4,
    "start_time": "2022-05-08T16:23:12.317Z"
   },
   {
    "duration": 1682,
    "start_time": "2022-05-08T16:23:20.042Z"
   },
   {
    "duration": 937,
    "start_time": "2022-05-08T16:23:21.728Z"
   },
   {
    "duration": 20,
    "start_time": "2022-05-08T16:23:22.667Z"
   },
   {
    "duration": 161,
    "start_time": "2022-05-08T16:23:22.689Z"
   },
   {
    "duration": 5,
    "start_time": "2022-05-08T16:23:22.852Z"
   },
   {
    "duration": 73,
    "start_time": "2022-05-08T16:23:22.858Z"
   },
   {
    "duration": 157,
    "start_time": "2022-05-08T16:23:22.933Z"
   },
   {
    "duration": 153,
    "start_time": "2022-05-08T16:23:23.091Z"
   },
   {
    "duration": 213,
    "start_time": "2022-05-08T16:23:23.246Z"
   },
   {
    "duration": 40,
    "start_time": "2022-05-08T16:23:23.462Z"
   },
   {
    "duration": 3339,
    "start_time": "2022-05-08T16:23:23.504Z"
   },
   {
    "duration": 150,
    "start_time": "2022-05-08T16:23:26.845Z"
   },
   {
    "duration": 29,
    "start_time": "2022-05-08T16:23:26.997Z"
   },
   {
    "duration": 431,
    "start_time": "2022-05-08T16:23:27.028Z"
   },
   {
    "duration": 499,
    "start_time": "2022-05-08T16:23:27.461Z"
   },
   {
    "duration": 540,
    "start_time": "2022-05-08T16:23:27.962Z"
   },
   {
    "duration": 583,
    "start_time": "2022-05-08T16:23:28.504Z"
   },
   {
    "duration": 511,
    "start_time": "2022-05-08T16:23:29.089Z"
   },
   {
    "duration": 109,
    "start_time": "2022-05-08T16:23:29.602Z"
   },
   {
    "duration": 59,
    "start_time": "2022-05-08T16:23:29.713Z"
   },
   {
    "duration": 23,
    "start_time": "2022-05-08T16:23:29.774Z"
   },
   {
    "duration": 11,
    "start_time": "2022-05-08T16:23:29.798Z"
   },
   {
    "duration": 1859,
    "start_time": "2022-05-08T16:23:29.810Z"
   },
   {
    "duration": 428,
    "start_time": "2022-05-08T16:23:31.671Z"
   },
   {
    "duration": 36,
    "start_time": "2022-05-08T16:23:32.100Z"
   },
   {
    "duration": 3,
    "start_time": "2022-05-08T16:23:32.138Z"
   },
   {
    "duration": 61,
    "start_time": "2022-05-08T16:23:32.144Z"
   },
   {
    "duration": 353,
    "start_time": "2022-05-08T16:23:32.211Z"
   },
   {
    "duration": 60,
    "start_time": "2022-05-08T16:23:32.566Z"
   },
   {
    "duration": 556,
    "start_time": "2022-05-08T16:23:32.629Z"
   },
   {
    "duration": 50,
    "start_time": "2022-05-08T16:23:33.187Z"
   },
   {
    "duration": 4,
    "start_time": "2022-05-08T16:23:33.239Z"
   },
   {
    "duration": 13,
    "start_time": "2022-05-08T16:23:33.246Z"
   },
   {
    "duration": 40,
    "start_time": "2022-05-08T16:23:33.261Z"
   },
   {
    "duration": 29,
    "start_time": "2022-05-08T16:23:33.303Z"
   },
   {
    "duration": 976,
    "start_time": "2022-05-08T16:23:33.334Z"
   },
   {
    "duration": 31,
    "start_time": "2022-05-08T16:23:34.312Z"
   },
   {
    "duration": 196,
    "start_time": "2022-05-08T16:23:34.346Z"
   },
   {
    "duration": 365,
    "start_time": "2022-05-08T16:23:34.544Z"
   },
   {
    "duration": 4,
    "start_time": "2022-05-08T16:23:34.910Z"
   },
   {
    "duration": 4,
    "start_time": "2022-05-08T16:23:34.928Z"
   },
   {
    "duration": 19,
    "start_time": "2022-05-08T16:23:34.934Z"
   },
   {
    "duration": 118,
    "start_time": "2022-05-08T16:23:34.955Z"
   },
   {
    "duration": 451,
    "start_time": "2022-05-08T16:24:00.873Z"
   },
   {
    "duration": 9,
    "start_time": "2022-05-08T16:24:01.329Z"
   },
   {
    "duration": 5,
    "start_time": "2022-05-08T16:24:02.134Z"
   },
   {
    "duration": 37345,
    "start_time": "2022-05-08T16:24:04.375Z"
   },
   {
    "duration": 2,
    "start_time": "2022-05-08T16:25:18.210Z"
   },
   {
    "duration": 4,
    "start_time": "2022-05-08T16:25:19.307Z"
   },
   {
    "duration": 596145,
    "start_time": "2022-05-08T16:25:23.604Z"
   },
   {
    "duration": 67,
    "start_time": "2022-05-08T16:35:21.938Z"
   },
   {
    "duration": 73,
    "start_time": "2022-05-08T16:35:30.577Z"
   },
   {
    "duration": 9763,
    "start_time": "2022-05-08T16:35:39.631Z"
   },
   {
    "duration": 62,
    "start_time": "2022-05-08T16:36:02.571Z"
   },
   {
    "duration": 155941,
    "start_time": "2022-05-08T16:36:06.813Z"
   },
   {
    "duration": 4,
    "start_time": "2022-05-08T16:40:36.944Z"
   },
   {
    "duration": 751591,
    "start_time": "2022-05-08T16:57:37.381Z"
   },
   {
    "duration": 5,
    "start_time": "2022-05-08T17:12:20.705Z"
   },
   {
    "duration": 120,
    "start_time": "2022-05-08T17:12:27.736Z"
   },
   {
    "duration": 33652,
    "start_time": "2022-05-08T17:12:39.180Z"
   },
   {
    "duration": 5,
    "start_time": "2022-05-08T17:13:32.539Z"
   },
   {
    "duration": 43,
    "start_time": "2022-05-08T20:55:04.458Z"
   },
   {
    "duration": 2073,
    "start_time": "2022-05-08T20:55:06.697Z"
   },
   {
    "duration": 754,
    "start_time": "2022-05-08T20:55:09.301Z"
   },
   {
    "duration": 1520,
    "start_time": "2022-05-08T20:55:15.107Z"
   },
   {
    "duration": 749,
    "start_time": "2022-05-08T20:55:16.629Z"
   },
   {
    "duration": 22,
    "start_time": "2022-05-08T20:55:17.379Z"
   },
   {
    "duration": 125,
    "start_time": "2022-05-08T20:55:17.403Z"
   },
   {
    "duration": 3,
    "start_time": "2022-05-08T20:55:17.530Z"
   },
   {
    "duration": 45,
    "start_time": "2022-05-08T20:55:17.535Z"
   },
   {
    "duration": 134,
    "start_time": "2022-05-08T20:55:17.582Z"
   },
   {
    "duration": 227,
    "start_time": "2022-05-08T20:55:17.717Z"
   },
   {
    "duration": 191,
    "start_time": "2022-05-08T20:55:17.946Z"
   },
   {
    "duration": 41,
    "start_time": "2022-05-08T20:55:18.140Z"
   },
   {
    "duration": 3556,
    "start_time": "2022-05-08T20:55:18.182Z"
   },
   {
    "duration": 220,
    "start_time": "2022-05-08T20:55:21.740Z"
   },
   {
    "duration": 20,
    "start_time": "2022-05-08T20:55:21.962Z"
   },
   {
    "duration": 379,
    "start_time": "2022-05-08T20:55:21.984Z"
   },
   {
    "duration": 412,
    "start_time": "2022-05-08T20:55:22.365Z"
   },
   {
    "duration": 438,
    "start_time": "2022-05-08T20:55:22.779Z"
   },
   {
    "duration": 484,
    "start_time": "2022-05-08T20:55:23.219Z"
   },
   {
    "duration": 435,
    "start_time": "2022-05-08T20:55:23.704Z"
   },
   {
    "duration": 96,
    "start_time": "2022-05-08T20:55:24.141Z"
   },
   {
    "duration": 46,
    "start_time": "2022-05-08T20:55:24.238Z"
   },
   {
    "duration": 20,
    "start_time": "2022-05-08T20:55:24.286Z"
   },
   {
    "duration": 13,
    "start_time": "2022-05-08T20:55:24.308Z"
   },
   {
    "duration": 1430,
    "start_time": "2022-05-08T20:55:24.323Z"
   },
   {
    "duration": 373,
    "start_time": "2022-05-08T20:55:25.754Z"
   },
   {
    "duration": 21,
    "start_time": "2022-05-08T20:55:26.128Z"
   },
   {
    "duration": 3,
    "start_time": "2022-05-08T20:55:26.150Z"
   },
   {
    "duration": 49,
    "start_time": "2022-05-08T20:55:26.154Z"
   },
   {
    "duration": 305,
    "start_time": "2022-05-08T20:55:26.207Z"
   },
   {
    "duration": 41,
    "start_time": "2022-05-08T20:55:26.514Z"
   },
   {
    "duration": 440,
    "start_time": "2022-05-08T20:55:26.557Z"
   },
   {
    "duration": 35,
    "start_time": "2022-05-08T20:55:27.000Z"
   },
   {
    "duration": 3,
    "start_time": "2022-05-08T20:55:27.037Z"
   },
   {
    "duration": 7,
    "start_time": "2022-05-08T20:55:27.041Z"
   },
   {
    "duration": 56,
    "start_time": "2022-05-08T20:55:27.049Z"
   },
   {
    "duration": 10,
    "start_time": "2022-05-08T20:55:27.107Z"
   },
   {
    "duration": 670,
    "start_time": "2022-05-08T20:55:27.119Z"
   },
   {
    "duration": 19,
    "start_time": "2022-05-08T20:55:27.791Z"
   },
   {
    "duration": 189,
    "start_time": "2022-05-08T20:55:27.811Z"
   },
   {
    "duration": 390,
    "start_time": "2022-05-08T20:55:28.002Z"
   },
   {
    "duration": 7,
    "start_time": "2022-05-08T20:55:28.394Z"
   },
   {
    "duration": 6,
    "start_time": "2022-05-08T20:55:28.403Z"
   },
   {
    "duration": 136177,
    "start_time": "2022-05-08T20:55:28.410Z"
   },
   {
    "duration": 12,
    "start_time": "2022-05-08T20:57:44.589Z"
   },
   {
    "duration": 240868,
    "start_time": "2022-05-08T20:57:44.602Z"
   },
   {
    "duration": 5,
    "start_time": "2022-05-08T21:01:45.472Z"
   },
   {
    "duration": 26823,
    "start_time": "2022-05-08T21:01:45.479Z"
   },
   {
    "duration": 6,
    "start_time": "2022-05-08T21:02:12.304Z"
   },
   {
    "duration": 94,
    "start_time": "2022-05-08T21:02:12.312Z"
   },
   {
    "duration": 0,
    "start_time": "2022-05-08T21:02:12.408Z"
   },
   {
    "duration": 1524,
    "start_time": "2022-05-08T21:06:08.314Z"
   },
   {
    "duration": 804,
    "start_time": "2022-05-08T21:06:09.840Z"
   },
   {
    "duration": 17,
    "start_time": "2022-05-08T21:06:10.646Z"
   },
   {
    "duration": 136,
    "start_time": "2022-05-08T21:06:10.665Z"
   },
   {
    "duration": 4,
    "start_time": "2022-05-08T21:06:10.803Z"
   },
   {
    "duration": 53,
    "start_time": "2022-05-08T21:06:10.808Z"
   },
   {
    "duration": 131,
    "start_time": "2022-05-08T21:06:10.862Z"
   },
   {
    "duration": 128,
    "start_time": "2022-05-08T21:06:10.999Z"
   },
   {
    "duration": 127,
    "start_time": "2022-05-08T21:06:11.129Z"
   },
   {
    "duration": 24,
    "start_time": "2022-05-08T21:06:11.259Z"
   },
   {
    "duration": 2229,
    "start_time": "2022-05-08T21:06:11.285Z"
   },
   {
    "duration": 117,
    "start_time": "2022-05-08T21:06:13.516Z"
   },
   {
    "duration": 13,
    "start_time": "2022-05-08T21:06:13.634Z"
   },
   {
    "duration": 385,
    "start_time": "2022-05-08T21:06:13.648Z"
   },
   {
    "duration": 451,
    "start_time": "2022-05-08T21:06:14.034Z"
   },
   {
    "duration": 469,
    "start_time": "2022-05-08T21:06:14.487Z"
   },
   {
    "duration": 509,
    "start_time": "2022-05-08T21:06:14.957Z"
   },
   {
    "duration": 455,
    "start_time": "2022-05-08T21:06:15.467Z"
   },
   {
    "duration": 101,
    "start_time": "2022-05-08T21:06:15.924Z"
   },
   {
    "duration": 65,
    "start_time": "2022-05-08T21:06:16.027Z"
   },
   {
    "duration": 16,
    "start_time": "2022-05-08T21:06:16.101Z"
   },
   {
    "duration": 12,
    "start_time": "2022-05-08T21:06:16.119Z"
   },
   {
    "duration": 2763,
    "start_time": "2022-05-08T21:06:16.133Z"
   },
   {
    "duration": 409,
    "start_time": "2022-05-08T21:06:18.900Z"
   },
   {
    "duration": 23,
    "start_time": "2022-05-08T21:06:19.311Z"
   },
   {
    "duration": 3,
    "start_time": "2022-05-08T21:06:19.336Z"
   },
   {
    "duration": 38,
    "start_time": "2022-05-08T21:06:19.341Z"
   },
   {
    "duration": 306,
    "start_time": "2022-05-08T21:06:19.399Z"
   },
   {
    "duration": 47,
    "start_time": "2022-05-08T21:06:19.707Z"
   },
   {
    "duration": 472,
    "start_time": "2022-05-08T21:06:19.755Z"
   },
   {
    "duration": 41,
    "start_time": "2022-05-08T21:06:20.229Z"
   },
   {
    "duration": 2,
    "start_time": "2022-05-08T21:06:20.272Z"
   },
   {
    "duration": 9,
    "start_time": "2022-05-08T21:06:20.276Z"
   },
   {
    "duration": 38,
    "start_time": "2022-05-08T21:06:20.300Z"
   },
   {
    "duration": 9,
    "start_time": "2022-05-08T21:06:20.340Z"
   },
   {
    "duration": 838,
    "start_time": "2022-05-08T21:06:20.351Z"
   },
   {
    "duration": 21,
    "start_time": "2022-05-08T21:06:21.191Z"
   },
   {
    "duration": 188,
    "start_time": "2022-05-08T21:06:21.214Z"
   },
   {
    "duration": 299,
    "start_time": "2022-05-08T21:06:21.404Z"
   },
   {
    "duration": 3,
    "start_time": "2022-05-08T21:06:21.705Z"
   },
   {
    "duration": 5,
    "start_time": "2022-05-08T21:06:21.710Z"
   },
   {
    "duration": 127135,
    "start_time": "2022-05-08T21:06:21.716Z"
   },
   {
    "duration": 4,
    "start_time": "2022-05-08T21:08:28.853Z"
   },
   {
    "duration": 249575,
    "start_time": "2022-05-08T21:08:28.858Z"
   },
   {
    "duration": 5,
    "start_time": "2022-05-08T21:12:38.434Z"
   },
   {
    "duration": 28065,
    "start_time": "2022-05-08T21:12:38.440Z"
   },
   {
    "duration": 95,
    "start_time": "2022-05-08T21:13:06.507Z"
   },
   {
    "duration": 5,
    "start_time": "2022-05-08T21:13:06.604Z"
   },
   {
    "duration": 4,
    "start_time": "2022-05-08T21:13:06.612Z"
   },
   {
    "duration": 103,
    "start_time": "2022-05-08T21:16:58.902Z"
   },
   {
    "duration": 9,
    "start_time": "2022-05-08T21:17:02.124Z"
   },
   {
    "duration": 746,
    "start_time": "2022-05-08T21:19:39.211Z"
   },
   {
    "duration": 1873,
    "start_time": "2022-05-08T21:43:03.151Z"
   },
   {
    "duration": 863,
    "start_time": "2022-05-08T21:43:05.026Z"
   },
   {
    "duration": 26,
    "start_time": "2022-05-08T21:43:05.891Z"
   },
   {
    "duration": 233,
    "start_time": "2022-05-08T21:43:05.920Z"
   },
   {
    "duration": 4,
    "start_time": "2022-05-08T21:43:06.155Z"
   },
   {
    "duration": 67,
    "start_time": "2022-05-08T21:43:06.160Z"
   },
   {
    "duration": 140,
    "start_time": "2022-05-08T21:43:06.229Z"
   },
   {
    "duration": 158,
    "start_time": "2022-05-08T21:43:06.370Z"
   },
   {
    "duration": 125,
    "start_time": "2022-05-08T21:43:06.529Z"
   },
   {
    "duration": 47,
    "start_time": "2022-05-08T21:43:06.656Z"
   },
   {
    "duration": 3002,
    "start_time": "2022-05-08T21:43:06.705Z"
   },
   {
    "duration": 200,
    "start_time": "2022-05-08T21:43:09.709Z"
   },
   {
    "duration": 27,
    "start_time": "2022-05-08T21:43:09.911Z"
   },
   {
    "duration": 634,
    "start_time": "2022-05-08T21:43:09.940Z"
   },
   {
    "duration": 665,
    "start_time": "2022-05-08T21:43:10.577Z"
   },
   {
    "duration": 773,
    "start_time": "2022-05-08T21:43:11.244Z"
   },
   {
    "duration": 771,
    "start_time": "2022-05-08T21:43:12.018Z"
   },
   {
    "duration": 686,
    "start_time": "2022-05-08T21:43:12.791Z"
   },
   {
    "duration": 103,
    "start_time": "2022-05-08T21:43:13.479Z"
   },
   {
    "duration": 68,
    "start_time": "2022-05-08T21:43:13.584Z"
   },
   {
    "duration": 12,
    "start_time": "2022-05-08T21:43:13.655Z"
   },
   {
    "duration": 17,
    "start_time": "2022-05-08T21:43:13.668Z"
   },
   {
    "duration": 2398,
    "start_time": "2022-05-08T21:43:13.686Z"
   },
   {
    "duration": 468,
    "start_time": "2022-05-08T21:43:16.086Z"
   },
   {
    "duration": 23,
    "start_time": "2022-05-08T21:43:16.556Z"
   },
   {
    "duration": 21,
    "start_time": "2022-05-08T21:43:16.580Z"
   },
   {
    "duration": 53,
    "start_time": "2022-05-08T21:43:16.603Z"
   },
   {
    "duration": 406,
    "start_time": "2022-05-08T21:43:16.660Z"
   },
   {
    "duration": 69,
    "start_time": "2022-05-08T21:43:17.069Z"
   },
   {
    "duration": 709,
    "start_time": "2022-05-08T21:43:17.140Z"
   },
   {
    "duration": 59,
    "start_time": "2022-05-08T21:43:17.851Z"
   },
   {
    "duration": 3,
    "start_time": "2022-05-08T21:43:17.912Z"
   },
   {
    "duration": 18,
    "start_time": "2022-05-08T21:43:17.919Z"
   },
   {
    "duration": 41,
    "start_time": "2022-05-08T21:43:17.939Z"
   },
   {
    "duration": 19,
    "start_time": "2022-05-08T21:43:17.982Z"
   },
   {
    "duration": 722,
    "start_time": "2022-05-08T21:43:18.003Z"
   },
   {
    "duration": 13,
    "start_time": "2022-05-08T21:43:18.726Z"
   },
   {
    "duration": 191,
    "start_time": "2022-05-08T21:43:18.741Z"
   },
   {
    "duration": 298,
    "start_time": "2022-05-08T21:43:18.933Z"
   },
   {
    "duration": 4,
    "start_time": "2022-05-08T21:43:19.232Z"
   },
   {
    "duration": 5,
    "start_time": "2022-05-08T21:43:19.238Z"
   },
   {
    "duration": 163,
    "start_time": "2022-05-08T21:43:19.245Z"
   },
   {
    "duration": 0,
    "start_time": "2022-05-08T21:43:19.410Z"
   },
   {
    "duration": 0,
    "start_time": "2022-05-08T21:43:19.412Z"
   },
   {
    "duration": 0,
    "start_time": "2022-05-08T21:43:19.413Z"
   },
   {
    "duration": 0,
    "start_time": "2022-05-08T21:43:19.414Z"
   },
   {
    "duration": 0,
    "start_time": "2022-05-08T21:43:19.415Z"
   },
   {
    "duration": 0,
    "start_time": "2022-05-08T21:43:19.416Z"
   },
   {
    "duration": 0,
    "start_time": "2022-05-08T21:43:19.417Z"
   },
   {
    "duration": 0,
    "start_time": "2022-05-08T21:43:19.418Z"
   },
   {
    "duration": 0,
    "start_time": "2022-05-08T21:43:19.419Z"
   },
   {
    "duration": 0,
    "start_time": "2022-05-08T21:43:19.421Z"
   },
   {
    "duration": 0,
    "start_time": "2022-05-08T21:43:19.422Z"
   },
   {
    "duration": 0,
    "start_time": "2022-05-08T21:43:19.423Z"
   },
   {
    "duration": 0,
    "start_time": "2022-05-08T21:43:19.424Z"
   },
   {
    "duration": 0,
    "start_time": "2022-05-08T21:43:19.425Z"
   },
   {
    "duration": 0,
    "start_time": "2022-05-08T21:43:19.426Z"
   },
   {
    "duration": 0,
    "start_time": "2022-05-08T21:43:19.431Z"
   },
   {
    "duration": 0,
    "start_time": "2022-05-08T21:43:19.432Z"
   },
   {
    "duration": 130758,
    "start_time": "2022-05-08T21:51:30.146Z"
   },
   {
    "duration": 4,
    "start_time": "2022-05-08T21:53:40.909Z"
   },
   {
    "duration": 168,
    "start_time": "2022-05-08T21:53:40.915Z"
   },
   {
    "duration": 331335,
    "start_time": "2022-05-08T21:53:41.085Z"
   },
   {
    "duration": 5,
    "start_time": "2022-05-08T21:59:12.421Z"
   },
   {
    "duration": 295,
    "start_time": "2022-05-08T21:59:12.427Z"
   },
   {
    "duration": 27288,
    "start_time": "2022-05-08T21:59:12.723Z"
   },
   {
    "duration": 91,
    "start_time": "2022-05-08T21:59:40.013Z"
   },
   {
    "duration": 222,
    "start_time": "2022-05-08T21:59:40.106Z"
   },
   {
    "duration": 0,
    "start_time": "2022-05-08T21:59:40.330Z"
   },
   {
    "duration": 0,
    "start_time": "2022-05-08T21:59:40.331Z"
   },
   {
    "duration": 0,
    "start_time": "2022-05-08T21:59:40.333Z"
   },
   {
    "duration": 0,
    "start_time": "2022-05-08T21:59:40.334Z"
   },
   {
    "duration": 0,
    "start_time": "2022-05-08T21:59:40.335Z"
   },
   {
    "duration": 0,
    "start_time": "2022-05-08T21:59:40.337Z"
   },
   {
    "duration": 0,
    "start_time": "2022-05-08T21:59:40.338Z"
   },
   {
    "duration": 247,
    "start_time": "2022-05-08T22:01:32.561Z"
   },
   {
    "duration": 262,
    "start_time": "2022-05-08T22:02:05.831Z"
   },
   {
    "duration": 174,
    "start_time": "2022-05-08T22:02:25.491Z"
   },
   {
    "duration": 668582,
    "start_time": "2022-05-08T22:02:52.600Z"
   },
   {
    "duration": 1830,
    "start_time": "2022-05-09T06:53:53.186Z"
   },
   {
    "duration": 787,
    "start_time": "2022-05-09T06:53:55.018Z"
   },
   {
    "duration": 23,
    "start_time": "2022-05-09T06:53:55.807Z"
   },
   {
    "duration": 144,
    "start_time": "2022-05-09T06:53:55.832Z"
   },
   {
    "duration": 4,
    "start_time": "2022-05-09T06:53:55.978Z"
   },
   {
    "duration": 63,
    "start_time": "2022-05-09T06:53:55.983Z"
   },
   {
    "duration": 138,
    "start_time": "2022-05-09T06:53:56.047Z"
   },
   {
    "duration": 155,
    "start_time": "2022-05-09T06:53:56.187Z"
   },
   {
    "duration": 134,
    "start_time": "2022-05-09T06:53:56.344Z"
   },
   {
    "duration": 41,
    "start_time": "2022-05-09T06:53:56.482Z"
   },
   {
    "duration": 2448,
    "start_time": "2022-05-09T06:53:56.526Z"
   },
   {
    "duration": 125,
    "start_time": "2022-05-09T06:53:58.976Z"
   },
   {
    "duration": 24,
    "start_time": "2022-05-09T06:53:59.103Z"
   },
   {
    "duration": 399,
    "start_time": "2022-05-09T06:53:59.129Z"
   },
   {
    "duration": 559,
    "start_time": "2022-05-09T06:53:59.530Z"
   },
   {
    "duration": 683,
    "start_time": "2022-05-09T06:54:00.091Z"
   },
   {
    "duration": 534,
    "start_time": "2022-05-09T06:54:00.776Z"
   },
   {
    "duration": 450,
    "start_time": "2022-05-09T06:54:01.312Z"
   },
   {
    "duration": 97,
    "start_time": "2022-05-09T06:54:01.763Z"
   },
   {
    "duration": 47,
    "start_time": "2022-05-09T06:54:01.862Z"
   },
   {
    "duration": 11,
    "start_time": "2022-05-09T06:54:01.923Z"
   },
   {
    "duration": 19,
    "start_time": "2022-05-09T06:54:01.936Z"
   },
   {
    "duration": 1539,
    "start_time": "2022-05-09T06:54:01.957Z"
   },
   {
    "duration": 413,
    "start_time": "2022-05-09T06:54:03.498Z"
   },
   {
    "duration": 31,
    "start_time": "2022-05-09T06:54:03.913Z"
   },
   {
    "duration": 3,
    "start_time": "2022-05-09T06:54:03.946Z"
   },
   {
    "duration": 35,
    "start_time": "2022-05-09T06:54:03.951Z"
   },
   {
    "duration": 355,
    "start_time": "2022-05-09T06:54:03.991Z"
   },
   {
    "duration": 46,
    "start_time": "2022-05-09T06:54:04.348Z"
   },
   {
    "duration": 505,
    "start_time": "2022-05-09T06:54:04.396Z"
   },
   {
    "duration": 49,
    "start_time": "2022-05-09T06:54:04.903Z"
   },
   {
    "duration": 3,
    "start_time": "2022-05-09T06:54:04.953Z"
   },
   {
    "duration": 5,
    "start_time": "2022-05-09T06:54:04.958Z"
   },
   {
    "duration": 58,
    "start_time": "2022-05-09T06:54:04.965Z"
   },
   {
    "duration": 12,
    "start_time": "2022-05-09T06:54:05.025Z"
   },
   {
    "duration": 933,
    "start_time": "2022-05-09T06:54:05.040Z"
   },
   {
    "duration": 15,
    "start_time": "2022-05-09T06:54:05.975Z"
   },
   {
    "duration": 197,
    "start_time": "2022-05-09T06:54:05.992Z"
   },
   {
    "duration": 302,
    "start_time": "2022-05-09T06:54:06.191Z"
   },
   {
    "duration": 4,
    "start_time": "2022-05-09T06:54:06.494Z"
   },
   {
    "duration": 7,
    "start_time": "2022-05-09T06:54:06.500Z"
   },
   {
    "duration": 17,
    "start_time": "2022-05-09T06:54:06.508Z"
   },
   {
    "duration": 128775,
    "start_time": "2022-05-09T06:54:06.526Z"
   },
   {
    "duration": 4,
    "start_time": "2022-05-09T06:56:15.303Z"
   },
   {
    "duration": 180,
    "start_time": "2022-05-09T06:56:15.308Z"
   },
   {
    "duration": 248105,
    "start_time": "2022-05-09T06:56:15.490Z"
   },
   {
    "duration": 5,
    "start_time": "2022-05-09T07:00:23.597Z"
   },
   {
    "duration": 311,
    "start_time": "2022-05-09T07:00:23.603Z"
   },
   {
    "duration": 23003,
    "start_time": "2022-05-09T07:00:23.923Z"
   },
   {
    "duration": 95,
    "start_time": "2022-05-09T07:00:46.929Z"
   },
   {
    "duration": 299,
    "start_time": "2022-05-09T07:00:47.026Z"
   },
   {
    "duration": 17608,
    "start_time": "2022-05-09T07:00:47.327Z"
   },
   {
    "duration": 5,
    "start_time": "2022-05-09T07:01:04.937Z"
   },
   {
    "duration": 1683,
    "start_time": "2022-05-09T07:01:04.943Z"
   },
   {
    "duration": 126,
    "start_time": "2022-05-09T07:01:06.628Z"
   },
   {
    "duration": 0,
    "start_time": "2022-05-09T07:01:06.756Z"
   },
   {
    "duration": 0,
    "start_time": "2022-05-09T07:01:06.757Z"
   },
   {
    "duration": 0,
    "start_time": "2022-05-09T07:01:06.758Z"
   },
   {
    "duration": 4,
    "start_time": "2022-05-09T07:02:43.574Z"
   },
   {
    "duration": 12,
    "start_time": "2022-05-09T07:02:51.774Z"
   },
   {
    "duration": 10,
    "start_time": "2022-05-09T07:03:27.222Z"
   },
   {
    "duration": 556756,
    "start_time": "2022-05-09T07:03:38.969Z"
   },
   {
    "duration": 550236,
    "start_time": "2022-05-09T07:13:54.681Z"
   },
   {
    "duration": 595176,
    "start_time": "2022-05-09T07:35:19.635Z"
   },
   {
    "duration": 122,
    "start_time": "2022-05-09T07:50:03.460Z"
   },
   {
    "duration": 80006,
    "start_time": "2022-05-09T07:51:08.996Z"
   },
   {
    "duration": 177,
    "start_time": "2022-05-09T07:53:19.320Z"
   },
   {
    "duration": 462,
    "start_time": "2022-05-09T07:53:28.620Z"
   },
   {
    "duration": 12,
    "start_time": "2022-05-09T07:53:50.998Z"
   },
   {
    "duration": 3,
    "start_time": "2022-05-09T07:54:04.735Z"
   },
   {
    "duration": 4,
    "start_time": "2022-05-09T07:54:10.811Z"
   },
   {
    "duration": 10,
    "start_time": "2022-05-09T07:54:22.526Z"
   },
   {
    "duration": 1623,
    "start_time": "2022-05-09T08:05:16.954Z"
   },
   {
    "duration": 863,
    "start_time": "2022-05-09T08:05:18.580Z"
   },
   {
    "duration": 19,
    "start_time": "2022-05-09T08:05:19.445Z"
   },
   {
    "duration": 152,
    "start_time": "2022-05-09T08:05:19.466Z"
   },
   {
    "duration": 5,
    "start_time": "2022-05-09T08:05:19.621Z"
   },
   {
    "duration": 73,
    "start_time": "2022-05-09T08:05:19.628Z"
   },
   {
    "duration": 131,
    "start_time": "2022-05-09T08:05:19.702Z"
   },
   {
    "duration": 137,
    "start_time": "2022-05-09T08:05:19.835Z"
   },
   {
    "duration": 135,
    "start_time": "2022-05-09T08:05:19.974Z"
   },
   {
    "duration": 34,
    "start_time": "2022-05-09T08:05:20.111Z"
   },
   {
    "duration": 2557,
    "start_time": "2022-05-09T08:05:20.147Z"
   },
   {
    "duration": 127,
    "start_time": "2022-05-09T08:05:22.706Z"
   },
   {
    "duration": 16,
    "start_time": "2022-05-09T08:05:22.834Z"
   },
   {
    "duration": 404,
    "start_time": "2022-05-09T08:05:22.854Z"
   },
   {
    "duration": 493,
    "start_time": "2022-05-09T08:05:23.259Z"
   },
   {
    "duration": 463,
    "start_time": "2022-05-09T08:05:23.754Z"
   },
   {
    "duration": 478,
    "start_time": "2022-05-09T08:05:24.221Z"
   },
   {
    "duration": 450,
    "start_time": "2022-05-09T08:05:24.701Z"
   },
   {
    "duration": 106,
    "start_time": "2022-05-09T08:05:25.153Z"
   },
   {
    "duration": 51,
    "start_time": "2022-05-09T08:05:25.261Z"
   },
   {
    "duration": 12,
    "start_time": "2022-05-09T08:05:25.323Z"
   },
   {
    "duration": 15,
    "start_time": "2022-05-09T08:05:25.337Z"
   },
   {
    "duration": 1694,
    "start_time": "2022-05-09T08:05:25.353Z"
   },
   {
    "duration": 446,
    "start_time": "2022-05-09T08:05:27.050Z"
   },
   {
    "duration": 34,
    "start_time": "2022-05-09T08:05:27.498Z"
   },
   {
    "duration": 4,
    "start_time": "2022-05-09T08:05:27.534Z"
   },
   {
    "duration": 38,
    "start_time": "2022-05-09T08:05:27.539Z"
   },
   {
    "duration": 344,
    "start_time": "2022-05-09T08:05:27.579Z"
   },
   {
    "duration": 44,
    "start_time": "2022-05-09T08:05:27.924Z"
   },
   {
    "duration": 486,
    "start_time": "2022-05-09T08:05:27.969Z"
   },
   {
    "duration": 38,
    "start_time": "2022-05-09T08:05:28.457Z"
   },
   {
    "duration": 4,
    "start_time": "2022-05-09T08:05:28.497Z"
   },
   {
    "duration": 22,
    "start_time": "2022-05-09T08:05:28.502Z"
   },
   {
    "duration": 60,
    "start_time": "2022-05-09T08:05:28.526Z"
   },
   {
    "duration": 11,
    "start_time": "2022-05-09T08:05:28.588Z"
   },
   {
    "duration": 794,
    "start_time": "2022-05-09T08:05:28.602Z"
   },
   {
    "duration": 25,
    "start_time": "2022-05-09T08:05:29.398Z"
   },
   {
    "duration": 183,
    "start_time": "2022-05-09T08:05:29.425Z"
   },
   {
    "duration": 306,
    "start_time": "2022-05-09T08:05:29.609Z"
   },
   {
    "duration": 7,
    "start_time": "2022-05-09T08:05:29.917Z"
   },
   {
    "duration": 4,
    "start_time": "2022-05-09T08:05:29.929Z"
   },
   {
    "duration": 15,
    "start_time": "2022-05-09T08:05:29.935Z"
   },
   {
    "duration": 131108,
    "start_time": "2022-05-09T08:05:29.952Z"
   },
   {
    "duration": 4,
    "start_time": "2022-05-09T08:07:41.062Z"
   },
   {
    "duration": 185,
    "start_time": "2022-05-09T08:07:41.068Z"
   },
   {
    "duration": 259947,
    "start_time": "2022-05-09T08:07:41.255Z"
   },
   {
    "duration": 4,
    "start_time": "2022-05-09T08:12:01.204Z"
   },
   {
    "duration": 316,
    "start_time": "2022-05-09T08:12:01.210Z"
   },
   {
    "duration": 32700,
    "start_time": "2022-05-09T08:12:01.528Z"
   },
   {
    "duration": 94,
    "start_time": "2022-05-09T08:12:34.230Z"
   },
   {
    "duration": 302,
    "start_time": "2022-05-09T08:12:34.327Z"
   },
   {
    "duration": 248017,
    "start_time": "2022-05-09T08:12:34.632Z"
   },
   {
    "duration": 4,
    "start_time": "2022-05-09T08:16:42.651Z"
   },
   {
    "duration": 1591,
    "start_time": "2022-05-09T08:16:42.656Z"
   },
   {
    "duration": 555002,
    "start_time": "2022-05-09T08:16:44.249Z"
   },
   {
    "duration": 75818,
    "start_time": "2022-05-09T08:25:59.253Z"
   },
   {
    "duration": 572,
    "start_time": "2022-05-09T08:27:15.073Z"
   },
   {
    "duration": 11,
    "start_time": "2022-05-09T08:27:15.647Z"
   },
   {
    "duration": 230,
    "start_time": "2022-05-10T06:15:13.300Z"
   },
   {
    "duration": 50,
    "start_time": "2022-05-10T10:46:51.720Z"
   },
   {
    "duration": 1743,
    "start_time": "2022-05-10T10:47:13.885Z"
   },
   {
    "duration": 893,
    "start_time": "2022-05-10T10:47:15.630Z"
   },
   {
    "duration": 25,
    "start_time": "2022-05-10T10:47:16.525Z"
   },
   {
    "duration": 196,
    "start_time": "2022-05-10T10:47:16.552Z"
   },
   {
    "duration": 5,
    "start_time": "2022-05-10T10:47:17.327Z"
   },
   {
    "duration": 58,
    "start_time": "2022-05-10T10:47:17.667Z"
   },
   {
    "duration": 143,
    "start_time": "2022-05-10T10:47:17.948Z"
   },
   {
    "duration": 163,
    "start_time": "2022-05-10T10:47:18.473Z"
   },
   {
    "duration": 145,
    "start_time": "2022-05-10T10:47:18.913Z"
   },
   {
    "duration": 27,
    "start_time": "2022-05-10T10:47:19.142Z"
   },
   {
    "duration": 2635,
    "start_time": "2022-05-10T10:47:19.356Z"
   },
   {
    "duration": 148,
    "start_time": "2022-05-10T10:47:21.993Z"
   },
   {
    "duration": 15,
    "start_time": "2022-05-10T10:47:22.143Z"
   },
   {
    "duration": 481,
    "start_time": "2022-05-10T10:47:22.160Z"
   },
   {
    "duration": 510,
    "start_time": "2022-05-10T10:47:22.643Z"
   },
   {
    "duration": 507,
    "start_time": "2022-05-10T10:47:23.155Z"
   },
   {
    "duration": 559,
    "start_time": "2022-05-10T10:47:23.664Z"
   },
   {
    "duration": 481,
    "start_time": "2022-05-10T10:47:24.225Z"
   },
   {
    "duration": 116,
    "start_time": "2022-05-10T10:47:24.708Z"
   },
   {
    "duration": 56,
    "start_time": "2022-05-10T10:47:24.827Z"
   },
   {
    "duration": 27,
    "start_time": "2022-05-10T10:47:24.885Z"
   },
   {
    "duration": 8,
    "start_time": "2022-05-10T10:47:25.560Z"
   },
   {
    "duration": 1795,
    "start_time": "2022-05-10T10:47:25.996Z"
   },
   {
    "duration": 502,
    "start_time": "2022-05-10T10:47:27.794Z"
   },
   {
    "duration": 31,
    "start_time": "2022-05-10T10:47:28.297Z"
   },
   {
    "duration": 3,
    "start_time": "2022-05-10T10:47:28.422Z"
   },
   {
    "duration": 40,
    "start_time": "2022-05-10T10:47:28.640Z"
   },
   {
    "duration": 359,
    "start_time": "2022-05-10T10:47:29.229Z"
   },
   {
    "duration": 67,
    "start_time": "2022-05-10T10:47:29.591Z"
   },
   {
    "duration": 519,
    "start_time": "2022-05-10T10:47:35.767Z"
   },
   {
    "duration": 261,
    "start_time": "2022-05-10T10:47:45.534Z"
   },
   {
    "duration": 124,
    "start_time": "2022-05-10T10:48:03.046Z"
   },
   {
    "duration": 1295,
    "start_time": "2022-05-10T10:49:19.237Z"
   },
   {
    "duration": 1734,
    "start_time": "2022-05-10T10:49:29.940Z"
   },
   {
    "duration": 17,
    "start_time": "2022-05-10T10:50:03.411Z"
   },
   {
    "duration": 122,
    "start_time": "2022-05-10T10:50:23.873Z"
   },
   {
    "duration": 122,
    "start_time": "2022-05-10T10:50:33.453Z"
   },
   {
    "duration": 42,
    "start_time": "2022-05-10T10:51:13.747Z"
   },
   {
    "duration": 5709,
    "start_time": "2022-05-10T10:51:25.228Z"
   },
   {
    "duration": 1250,
    "start_time": "2022-05-10T10:51:59.576Z"
   },
   {
    "duration": 415,
    "start_time": "2022-05-10T10:52:38.315Z"
   },
   {
    "duration": 126,
    "start_time": "2022-05-10T10:53:05.446Z"
   },
   {
    "duration": 12,
    "start_time": "2022-05-10T10:54:09.251Z"
   },
   {
    "duration": 100,
    "start_time": "2022-05-10T10:56:19.052Z"
   },
   {
    "duration": 88,
    "start_time": "2022-05-10T10:56:58.716Z"
   },
   {
    "duration": 25,
    "start_time": "2022-05-10T10:57:54.167Z"
   },
   {
    "duration": 13,
    "start_time": "2022-05-10T10:59:28.146Z"
   },
   {
    "duration": 127,
    "start_time": "2022-05-10T11:00:11.077Z"
   },
   {
    "duration": 19,
    "start_time": "2022-05-10T11:00:48.272Z"
   },
   {
    "duration": 11,
    "start_time": "2022-05-10T11:00:58.816Z"
   },
   {
    "duration": 11,
    "start_time": "2022-05-10T11:02:15.568Z"
   },
   {
    "duration": 31,
    "start_time": "2022-05-10T11:09:07.742Z"
   },
   {
    "duration": 386,
    "start_time": "2022-05-10T11:10:30.167Z"
   },
   {
    "duration": 1049,
    "start_time": "2022-05-10T11:10:42.257Z"
   },
   {
    "duration": 142,
    "start_time": "2022-05-10T11:11:01.234Z"
   },
   {
    "duration": 1648,
    "start_time": "2022-05-10T11:14:35.228Z"
   },
   {
    "duration": 381,
    "start_time": "2022-05-10T11:14:47.518Z"
   },
   {
    "duration": 28,
    "start_time": "2022-05-10T11:15:24.057Z"
   },
   {
    "duration": 62289,
    "start_time": "2022-05-10T11:24:33.325Z"
   },
   {
    "duration": 63347,
    "start_time": "2022-05-10T11:25:35.616Z"
   },
   {
    "duration": 2029,
    "start_time": "2022-05-10T11:27:36.253Z"
   },
   {
    "duration": 159,
    "start_time": "2022-05-10T11:29:11.240Z"
   },
   {
    "duration": 10515,
    "start_time": "2022-05-10T11:29:21.033Z"
   },
   {
    "duration": 146,
    "start_time": "2022-05-10T11:30:07.434Z"
   },
   {
    "duration": 3,
    "start_time": "2022-05-10T11:30:50.095Z"
   },
   {
    "duration": 406,
    "start_time": "2022-05-10T11:30:53.928Z"
   },
   {
    "duration": 11,
    "start_time": "2022-05-10T11:53:57.109Z"
   },
   {
    "duration": 38,
    "start_time": "2022-05-10T11:57:06.579Z"
   },
   {
    "duration": 21,
    "start_time": "2022-05-10T11:57:23.318Z"
   },
   {
    "duration": 26,
    "start_time": "2022-05-10T11:57:39.100Z"
   },
   {
    "duration": 9,
    "start_time": "2022-05-10T12:06:03.395Z"
   },
   {
    "duration": 47,
    "start_time": "2022-05-10T12:06:06.900Z"
   },
   {
    "duration": 33,
    "start_time": "2022-05-10T12:06:18.598Z"
   },
   {
    "duration": 1497,
    "start_time": "2022-05-10T12:06:39.448Z"
   },
   {
    "duration": 795,
    "start_time": "2022-05-10T12:06:40.947Z"
   },
   {
    "duration": 20,
    "start_time": "2022-05-10T12:06:41.744Z"
   },
   {
    "duration": 148,
    "start_time": "2022-05-10T12:06:41.766Z"
   },
   {
    "duration": 4,
    "start_time": "2022-05-10T12:06:41.916Z"
   },
   {
    "duration": 54,
    "start_time": "2022-05-10T12:06:41.922Z"
   },
   {
    "duration": 138,
    "start_time": "2022-05-10T12:06:41.978Z"
   },
   {
    "duration": 130,
    "start_time": "2022-05-10T12:06:42.117Z"
   },
   {
    "duration": 127,
    "start_time": "2022-05-10T12:06:42.248Z"
   },
   {
    "duration": 35,
    "start_time": "2022-05-10T12:06:42.378Z"
   },
   {
    "duration": 2328,
    "start_time": "2022-05-10T12:06:42.415Z"
   },
   {
    "duration": 131,
    "start_time": "2022-05-10T12:06:44.745Z"
   },
   {
    "duration": 15,
    "start_time": "2022-05-10T12:06:44.877Z"
   },
   {
    "duration": 402,
    "start_time": "2022-05-10T12:06:44.894Z"
   },
   {
    "duration": 461,
    "start_time": "2022-05-10T12:06:45.298Z"
   },
   {
    "duration": 457,
    "start_time": "2022-05-10T12:06:45.761Z"
   },
   {
    "duration": 213,
    "start_time": "2022-05-10T12:06:46.220Z"
   },
   {
    "duration": 0,
    "start_time": "2022-05-10T12:06:46.436Z"
   },
   {
    "duration": 0,
    "start_time": "2022-05-10T12:06:46.437Z"
   },
   {
    "duration": 0,
    "start_time": "2022-05-10T12:06:46.438Z"
   },
   {
    "duration": 0,
    "start_time": "2022-05-10T12:06:46.439Z"
   },
   {
    "duration": 0,
    "start_time": "2022-05-10T12:06:46.440Z"
   },
   {
    "duration": 0,
    "start_time": "2022-05-10T12:06:46.442Z"
   },
   {
    "duration": 0,
    "start_time": "2022-05-10T12:06:46.443Z"
   },
   {
    "duration": 0,
    "start_time": "2022-05-10T12:06:46.444Z"
   },
   {
    "duration": 0,
    "start_time": "2022-05-10T12:06:46.444Z"
   },
   {
    "duration": 0,
    "start_time": "2022-05-10T12:06:46.445Z"
   },
   {
    "duration": 0,
    "start_time": "2022-05-10T12:06:46.446Z"
   },
   {
    "duration": 0,
    "start_time": "2022-05-10T12:06:46.447Z"
   },
   {
    "duration": 0,
    "start_time": "2022-05-10T12:06:46.448Z"
   },
   {
    "duration": 0,
    "start_time": "2022-05-10T12:06:46.449Z"
   },
   {
    "duration": 0,
    "start_time": "2022-05-10T12:06:46.449Z"
   },
   {
    "duration": 0,
    "start_time": "2022-05-10T12:06:46.452Z"
   },
   {
    "duration": 0,
    "start_time": "2022-05-10T12:06:46.452Z"
   },
   {
    "duration": 0,
    "start_time": "2022-05-10T12:06:46.453Z"
   },
   {
    "duration": 0,
    "start_time": "2022-05-10T12:06:46.454Z"
   },
   {
    "duration": 0,
    "start_time": "2022-05-10T12:06:46.455Z"
   },
   {
    "duration": 0,
    "start_time": "2022-05-10T12:06:46.456Z"
   },
   {
    "duration": 0,
    "start_time": "2022-05-10T12:06:46.457Z"
   },
   {
    "duration": 0,
    "start_time": "2022-05-10T12:06:46.457Z"
   },
   {
    "duration": 0,
    "start_time": "2022-05-10T12:06:46.459Z"
   },
   {
    "duration": 0,
    "start_time": "2022-05-10T12:06:46.460Z"
   },
   {
    "duration": 0,
    "start_time": "2022-05-10T12:06:46.461Z"
   },
   {
    "duration": 0,
    "start_time": "2022-05-10T12:06:46.461Z"
   },
   {
    "duration": 0,
    "start_time": "2022-05-10T12:06:46.462Z"
   },
   {
    "duration": 0,
    "start_time": "2022-05-10T12:06:46.508Z"
   },
   {
    "duration": 0,
    "start_time": "2022-05-10T12:06:46.509Z"
   },
   {
    "duration": 0,
    "start_time": "2022-05-10T12:06:46.509Z"
   },
   {
    "duration": 0,
    "start_time": "2022-05-10T12:06:46.510Z"
   },
   {
    "duration": 0,
    "start_time": "2022-05-10T12:06:46.511Z"
   },
   {
    "duration": 0,
    "start_time": "2022-05-10T12:06:46.512Z"
   },
   {
    "duration": 0,
    "start_time": "2022-05-10T12:06:46.513Z"
   },
   {
    "duration": 0,
    "start_time": "2022-05-10T12:06:46.514Z"
   },
   {
    "duration": 0,
    "start_time": "2022-05-10T12:06:46.515Z"
   },
   {
    "duration": 0,
    "start_time": "2022-05-10T12:06:46.516Z"
   },
   {
    "duration": 0,
    "start_time": "2022-05-10T12:06:46.517Z"
   },
   {
    "duration": 0,
    "start_time": "2022-05-10T12:06:46.518Z"
   },
   {
    "duration": 0,
    "start_time": "2022-05-10T12:06:46.518Z"
   },
   {
    "duration": 0,
    "start_time": "2022-05-10T12:06:46.519Z"
   },
   {
    "duration": 0,
    "start_time": "2022-05-10T12:06:46.520Z"
   },
   {
    "duration": 0,
    "start_time": "2022-05-10T12:06:46.521Z"
   },
   {
    "duration": 0,
    "start_time": "2022-05-10T12:06:46.522Z"
   },
   {
    "duration": 0,
    "start_time": "2022-05-10T12:06:46.523Z"
   },
   {
    "duration": 0,
    "start_time": "2022-05-10T12:06:46.524Z"
   },
   {
    "duration": 0,
    "start_time": "2022-05-10T12:06:46.525Z"
   },
   {
    "duration": 0,
    "start_time": "2022-05-10T12:06:46.526Z"
   },
   {
    "duration": 531,
    "start_time": "2022-05-10T12:06:58.743Z"
   },
   {
    "duration": 476,
    "start_time": "2022-05-10T12:07:00.269Z"
   },
   {
    "duration": 102,
    "start_time": "2022-05-10T12:07:01.496Z"
   },
   {
    "duration": 64,
    "start_time": "2022-05-10T12:07:02.116Z"
   },
   {
    "duration": 11,
    "start_time": "2022-05-10T12:07:02.526Z"
   },
   {
    "duration": 10,
    "start_time": "2022-05-10T12:07:02.733Z"
   },
   {
    "duration": 1732,
    "start_time": "2022-05-10T12:07:02.942Z"
   },
   {
    "duration": 487,
    "start_time": "2022-05-10T12:07:04.677Z"
   },
   {
    "duration": 27,
    "start_time": "2022-05-10T12:07:05.167Z"
   },
   {
    "duration": 3,
    "start_time": "2022-05-10T12:07:05.208Z"
   },
   {
    "duration": 44,
    "start_time": "2022-05-10T12:07:05.213Z"
   },
   {
    "duration": 448,
    "start_time": "2022-05-10T12:07:05.259Z"
   },
   {
    "duration": 55,
    "start_time": "2022-05-10T12:07:05.709Z"
   },
   {
    "duration": 438,
    "start_time": "2022-05-10T12:07:05.766Z"
   },
   {
    "duration": 12,
    "start_time": "2022-05-10T12:07:06.207Z"
   },
   {
    "duration": 73,
    "start_time": "2022-05-10T12:07:09.522Z"
   },
   {
    "duration": 32,
    "start_time": "2022-05-10T12:07:09.914Z"
   },
   {
    "duration": 42,
    "start_time": "2022-05-10T12:07:17.633Z"
   },
   {
    "duration": 9,
    "start_time": "2022-05-10T12:07:28.981Z"
   },
   {
    "duration": 7,
    "start_time": "2022-05-10T12:07:29.718Z"
   },
   {
    "duration": 32,
    "start_time": "2022-05-10T12:07:35.175Z"
   },
   {
    "duration": 37,
    "start_time": "2022-05-10T12:07:36.069Z"
   },
   {
    "duration": 3,
    "start_time": "2022-05-10T12:08:20.403Z"
   },
   {
    "duration": 3,
    "start_time": "2022-05-10T12:08:20.648Z"
   },
   {
    "duration": 43,
    "start_time": "2022-05-10T12:08:21.088Z"
   },
   {
    "duration": 11,
    "start_time": "2022-05-10T12:08:25.869Z"
   },
   {
    "duration": 705,
    "start_time": "2022-05-10T12:08:26.744Z"
   },
   {
    "duration": 15,
    "start_time": "2022-05-10T12:08:27.451Z"
   },
   {
    "duration": 211,
    "start_time": "2022-05-10T12:08:27.468Z"
   },
   {
    "duration": 311,
    "start_time": "2022-05-10T12:08:27.853Z"
   },
   {
    "duration": 3,
    "start_time": "2022-05-10T12:08:28.515Z"
   },
   {
    "duration": 4,
    "start_time": "2022-05-10T12:08:28.951Z"
   },
   {
    "duration": 4,
    "start_time": "2022-05-10T12:18:34.877Z"
   },
   {
    "duration": 1309,
    "start_time": "2022-05-10T12:31:06.847Z"
   },
   {
    "duration": 11,
    "start_time": "2022-05-10T12:31:31.814Z"
   },
   {
    "duration": 4491,
    "start_time": "2022-05-10T12:31:38.823Z"
   },
   {
    "duration": 4655,
    "start_time": "2022-05-10T12:31:51.609Z"
   },
   {
    "duration": 15,
    "start_time": "2022-05-10T12:32:04.641Z"
   },
   {
    "duration": 1562,
    "start_time": "2022-05-10T12:32:23.665Z"
   },
   {
    "duration": 784,
    "start_time": "2022-05-10T12:32:25.229Z"
   },
   {
    "duration": 19,
    "start_time": "2022-05-10T12:32:26.014Z"
   },
   {
    "duration": 149,
    "start_time": "2022-05-10T12:32:26.034Z"
   },
   {
    "duration": 6,
    "start_time": "2022-05-10T12:32:26.185Z"
   },
   {
    "duration": 62,
    "start_time": "2022-05-10T12:32:26.192Z"
   },
   {
    "duration": 152,
    "start_time": "2022-05-10T12:32:26.256Z"
   },
   {
    "duration": 145,
    "start_time": "2022-05-10T12:32:26.410Z"
   },
   {
    "duration": 135,
    "start_time": "2022-05-10T12:32:26.557Z"
   },
   {
    "duration": 30,
    "start_time": "2022-05-10T12:32:26.706Z"
   },
   {
    "duration": 2394,
    "start_time": "2022-05-10T12:32:26.738Z"
   },
   {
    "duration": 128,
    "start_time": "2022-05-10T12:32:29.133Z"
   },
   {
    "duration": 15,
    "start_time": "2022-05-10T12:32:29.263Z"
   },
   {
    "duration": 425,
    "start_time": "2022-05-10T12:32:29.280Z"
   },
   {
    "duration": 453,
    "start_time": "2022-05-10T12:32:29.707Z"
   },
   {
    "duration": 482,
    "start_time": "2022-05-10T12:32:30.162Z"
   },
   {
    "duration": 512,
    "start_time": "2022-05-10T12:32:30.646Z"
   },
   {
    "duration": 444,
    "start_time": "2022-05-10T12:32:31.160Z"
   },
   {
    "duration": 104,
    "start_time": "2022-05-10T12:32:31.607Z"
   },
   {
    "duration": 56,
    "start_time": "2022-05-10T12:32:31.713Z"
   },
   {
    "duration": 15,
    "start_time": "2022-05-10T12:32:31.771Z"
   },
   {
    "duration": 10,
    "start_time": "2022-05-10T12:32:31.807Z"
   },
   {
    "duration": 1694,
    "start_time": "2022-05-10T12:32:31.818Z"
   },
   {
    "duration": 450,
    "start_time": "2022-05-10T12:32:33.514Z"
   },
   {
    "duration": 25,
    "start_time": "2022-05-10T12:32:33.967Z"
   },
   {
    "duration": 14,
    "start_time": "2022-05-10T12:32:33.994Z"
   },
   {
    "duration": 39,
    "start_time": "2022-05-10T12:32:34.010Z"
   },
   {
    "duration": 426,
    "start_time": "2022-05-10T12:32:34.054Z"
   },
   {
    "duration": 63,
    "start_time": "2022-05-10T12:32:34.482Z"
   },
   {
    "duration": 406,
    "start_time": "2022-05-10T12:32:34.546Z"
   },
   {
    "duration": 12,
    "start_time": "2022-05-10T12:32:34.954Z"
   },
   {
    "duration": 83,
    "start_time": "2022-05-10T12:32:34.968Z"
   },
   {
    "duration": 32,
    "start_time": "2022-05-10T12:32:35.053Z"
   },
   {
    "duration": 36,
    "start_time": "2022-05-10T12:32:35.087Z"
   },
   {
    "duration": 23,
    "start_time": "2022-05-10T12:32:35.125Z"
   },
   {
    "duration": 8,
    "start_time": "2022-05-10T12:32:35.150Z"
   },
   {
    "duration": 6,
    "start_time": "2022-05-10T12:32:35.160Z"
   },
   {
    "duration": 72,
    "start_time": "2022-05-10T12:32:35.168Z"
   },
   {
    "duration": 38,
    "start_time": "2022-05-10T12:32:35.241Z"
   },
   {
    "duration": 3,
    "start_time": "2022-05-10T12:32:35.281Z"
   },
   {
    "duration": 21,
    "start_time": "2022-05-10T12:32:35.287Z"
   },
   {
    "duration": 41,
    "start_time": "2022-05-10T12:32:35.310Z"
   },
   {
    "duration": 11,
    "start_time": "2022-05-10T12:32:35.353Z"
   },
   {
    "duration": 196,
    "start_time": "2022-05-10T12:32:35.366Z"
   },
   {
    "duration": 1280,
    "start_time": "2022-05-10T12:32:35.564Z"
   },
   {
    "duration": 12,
    "start_time": "2022-05-10T12:32:36.846Z"
   },
   {
    "duration": 361,
    "start_time": "2022-05-10T12:32:36.859Z"
   },
   {
    "duration": 0,
    "start_time": "2022-05-10T12:32:37.222Z"
   },
   {
    "duration": 0,
    "start_time": "2022-05-10T12:32:37.223Z"
   },
   {
    "duration": 0,
    "start_time": "2022-05-10T12:32:37.224Z"
   },
   {
    "duration": 0,
    "start_time": "2022-05-10T12:32:37.225Z"
   },
   {
    "duration": 0,
    "start_time": "2022-05-10T12:32:37.227Z"
   },
   {
    "duration": 0,
    "start_time": "2022-05-10T12:32:37.228Z"
   },
   {
    "duration": 1,
    "start_time": "2022-05-10T12:32:37.228Z"
   },
   {
    "duration": 0,
    "start_time": "2022-05-10T12:32:37.229Z"
   },
   {
    "duration": 0,
    "start_time": "2022-05-10T12:32:37.231Z"
   },
   {
    "duration": 0,
    "start_time": "2022-05-10T12:32:37.232Z"
   },
   {
    "duration": 0,
    "start_time": "2022-05-10T12:32:37.233Z"
   },
   {
    "duration": 0,
    "start_time": "2022-05-10T12:32:37.233Z"
   },
   {
    "duration": 0,
    "start_time": "2022-05-10T12:32:37.234Z"
   },
   {
    "duration": 0,
    "start_time": "2022-05-10T12:32:37.235Z"
   },
   {
    "duration": 0,
    "start_time": "2022-05-10T12:32:37.236Z"
   },
   {
    "duration": 0,
    "start_time": "2022-05-10T12:32:37.237Z"
   },
   {
    "duration": 0,
    "start_time": "2022-05-10T12:32:37.238Z"
   },
   {
    "duration": 0,
    "start_time": "2022-05-10T12:32:37.239Z"
   },
   {
    "duration": 0,
    "start_time": "2022-05-10T12:32:37.240Z"
   },
   {
    "duration": 0,
    "start_time": "2022-05-10T12:32:37.241Z"
   },
   {
    "duration": 0,
    "start_time": "2022-05-10T12:32:37.242Z"
   },
   {
    "duration": 163,
    "start_time": "2022-05-10T12:32:54.541Z"
   },
   {
    "duration": 545,
    "start_time": "2022-05-10T12:32:56.708Z"
   },
   {
    "duration": 3,
    "start_time": "2022-05-10T12:32:58.860Z"
   },
   {
    "duration": 5,
    "start_time": "2022-05-10T12:32:59.259Z"
   },
   {
    "duration": 3,
    "start_time": "2022-05-10T13:44:04.194Z"
   },
   {
    "duration": 242,
    "start_time": "2022-05-10T13:44:07.438Z"
   },
   {
    "duration": 108,
    "start_time": "2022-05-10T13:44:16.437Z"
   },
   {
    "duration": 88,
    "start_time": "2022-05-10T13:44:41.160Z"
   },
   {
    "duration": 115,
    "start_time": "2022-05-10T13:45:15.685Z"
   },
   {
    "duration": 3,
    "start_time": "2022-05-10T13:51:27.142Z"
   },
   {
    "duration": 27,
    "start_time": "2022-05-10T13:51:30.349Z"
   },
   {
    "duration": 3,
    "start_time": "2022-05-10T13:52:49.271Z"
   },
   {
    "duration": 51453,
    "start_time": "2022-05-10T13:53:41.735Z"
   },
   {
    "duration": 37,
    "start_time": "2022-05-10T14:02:58.114Z"
   },
   {
    "duration": 5,
    "start_time": "2022-05-10T14:04:00.580Z"
   },
   {
    "duration": 5,
    "start_time": "2022-05-10T14:05:33.878Z"
   },
   {
    "duration": 6,
    "start_time": "2022-05-10T14:05:39.565Z"
   },
   {
    "duration": 11,
    "start_time": "2022-05-10T14:10:28.470Z"
   },
   {
    "duration": 5,
    "start_time": "2022-05-10T14:11:16.130Z"
   },
   {
    "duration": 36201,
    "start_time": "2022-05-10T14:11:17.920Z"
   },
   {
    "duration": 181,
    "start_time": "2022-05-10T14:27:25.286Z"
   },
   {
    "duration": 6,
    "start_time": "2022-05-10T14:27:28.069Z"
   },
   {
    "duration": 3,
    "start_time": "2022-05-10T14:30:49.949Z"
   },
   {
    "duration": 240,
    "start_time": "2022-05-10T14:30:52.832Z"
   },
   {
    "duration": 2,
    "start_time": "2022-05-10T14:31:26.736Z"
   },
   {
    "duration": 34580,
    "start_time": "2022-05-10T14:31:27.533Z"
   },
   {
    "duration": 338,
    "start_time": "2022-05-10T14:32:11.776Z"
   },
   {
    "duration": 5,
    "start_time": "2022-05-10T14:32:41.037Z"
   },
   {
    "duration": 13,
    "start_time": "2022-05-10T14:47:41.756Z"
   },
   {
    "duration": 199,
    "start_time": "2022-05-10T14:50:57.713Z"
   },
   {
    "duration": 167,
    "start_time": "2022-05-10T14:52:00.748Z"
   },
   {
    "duration": 159,
    "start_time": "2022-05-10T14:52:01.202Z"
   },
   {
    "duration": 567,
    "start_time": "2022-05-10T14:52:02.095Z"
   },
   {
    "duration": 17,
    "start_time": "2022-05-10T14:55:42.589Z"
   },
   {
    "duration": 635535,
    "start_time": "2022-05-10T14:55:46.776Z"
   },
   {
    "duration": 1555,
    "start_time": "2022-05-10T15:13:17.654Z"
   },
   {
    "duration": 536669,
    "start_time": "2022-05-10T15:13:26.342Z"
   },
   {
    "duration": 12,
    "start_time": "2022-05-10T15:22:23.013Z"
   },
   {
    "duration": 1475,
    "start_time": "2022-05-10T15:23:47.773Z"
   },
   {
    "duration": 83,
    "start_time": "2022-05-10T15:23:50.952Z"
   },
   {
    "duration": 5,
    "start_time": "2022-05-10T15:25:53.214Z"
   },
   {
    "duration": 116,
    "start_time": "2022-05-10T15:26:27.029Z"
   },
   {
    "duration": 11,
    "start_time": "2022-05-10T15:26:42.142Z"
   },
   {
    "duration": 1628,
    "start_time": "2022-05-10T15:52:02.070Z"
   },
   {
    "duration": 962,
    "start_time": "2022-05-10T15:52:03.700Z"
   },
   {
    "duration": 20,
    "start_time": "2022-05-10T15:52:04.664Z"
   },
   {
    "duration": 180,
    "start_time": "2022-05-10T15:52:04.686Z"
   },
   {
    "duration": 4,
    "start_time": "2022-05-10T15:52:04.868Z"
   },
   {
    "duration": 77,
    "start_time": "2022-05-10T15:52:04.874Z"
   },
   {
    "duration": 162,
    "start_time": "2022-05-10T15:52:04.953Z"
   },
   {
    "duration": 173,
    "start_time": "2022-05-10T15:52:05.117Z"
   },
   {
    "duration": 153,
    "start_time": "2022-05-10T15:52:05.292Z"
   },
   {
    "duration": 31,
    "start_time": "2022-05-10T15:52:05.448Z"
   },
   {
    "duration": 2772,
    "start_time": "2022-05-10T15:52:05.480Z"
   },
   {
    "duration": 170,
    "start_time": "2022-05-10T15:52:08.254Z"
   },
   {
    "duration": 18,
    "start_time": "2022-05-10T15:52:08.426Z"
   },
   {
    "duration": 474,
    "start_time": "2022-05-10T15:52:08.446Z"
   },
   {
    "duration": 552,
    "start_time": "2022-05-10T15:52:08.922Z"
   },
   {
    "duration": 552,
    "start_time": "2022-05-10T15:52:09.476Z"
   },
   {
    "duration": 592,
    "start_time": "2022-05-10T15:52:10.030Z"
   },
   {
    "duration": 546,
    "start_time": "2022-05-10T15:52:10.625Z"
   },
   {
    "duration": 112,
    "start_time": "2022-05-10T15:52:11.173Z"
   },
   {
    "duration": 59,
    "start_time": "2022-05-10T15:52:11.286Z"
   },
   {
    "duration": 13,
    "start_time": "2022-05-10T15:52:11.347Z"
   },
   {
    "duration": 11,
    "start_time": "2022-05-10T15:52:11.361Z"
   },
   {
    "duration": 2061,
    "start_time": "2022-05-10T15:52:11.374Z"
   },
   {
    "duration": 551,
    "start_time": "2022-05-10T15:52:13.438Z"
   },
   {
    "duration": 42,
    "start_time": "2022-05-10T15:52:13.990Z"
   },
   {
    "duration": 4,
    "start_time": "2022-05-10T15:52:14.034Z"
   },
   {
    "duration": 45,
    "start_time": "2022-05-10T15:52:14.040Z"
   },
   {
    "duration": 545,
    "start_time": "2022-05-10T15:52:14.089Z"
   },
   {
    "duration": 56,
    "start_time": "2022-05-10T15:52:14.636Z"
   },
   {
    "duration": 517,
    "start_time": "2022-05-10T15:52:14.694Z"
   },
   {
    "duration": 17,
    "start_time": "2022-05-10T15:52:15.213Z"
   },
   {
    "duration": 114,
    "start_time": "2022-05-10T15:52:15.232Z"
   },
   {
    "duration": 32,
    "start_time": "2022-05-10T15:52:15.347Z"
   },
   {
    "duration": 39,
    "start_time": "2022-05-10T15:52:15.381Z"
   },
   {
    "duration": 27,
    "start_time": "2022-05-10T15:52:15.422Z"
   },
   {
    "duration": 9,
    "start_time": "2022-05-10T15:52:15.450Z"
   },
   {
    "duration": 7,
    "start_time": "2022-05-10T15:52:15.461Z"
   },
   {
    "duration": 68,
    "start_time": "2022-05-10T15:52:15.470Z"
   },
   {
    "duration": 52,
    "start_time": "2022-05-10T15:52:15.540Z"
   },
   {
    "duration": 2,
    "start_time": "2022-05-10T15:52:15.594Z"
   },
   {
    "duration": 5,
    "start_time": "2022-05-10T15:52:15.610Z"
   },
   {
    "duration": 48,
    "start_time": "2022-05-10T15:52:15.618Z"
   },
   {
    "duration": 12,
    "start_time": "2022-05-10T15:52:15.667Z"
   },
   {
    "duration": 243,
    "start_time": "2022-05-10T15:52:15.681Z"
   },
   {
    "duration": 1590,
    "start_time": "2022-05-10T15:52:15.926Z"
   },
   {
    "duration": 16,
    "start_time": "2022-05-10T15:52:17.519Z"
   },
   {
    "duration": 212,
    "start_time": "2022-05-10T15:52:17.537Z"
   },
   {
    "duration": 245,
    "start_time": "2022-05-10T15:52:17.751Z"
   },
   {
    "duration": 655,
    "start_time": "2022-05-10T15:52:17.997Z"
   },
   {
    "duration": 4,
    "start_time": "2022-05-10T15:52:18.654Z"
   },
   {
    "duration": 6,
    "start_time": "2022-05-10T15:52:18.660Z"
   },
   {
    "duration": 4,
    "start_time": "2022-05-10T15:52:18.668Z"
   },
   {
    "duration": 8,
    "start_time": "2022-05-10T15:52:18.673Z"
   },
   {
    "duration": 51753,
    "start_time": "2022-05-10T15:52:18.683Z"
   },
   {
    "duration": 33,
    "start_time": "2022-05-10T15:53:10.438Z"
   },
   {
    "duration": 6,
    "start_time": "2022-05-10T15:53:10.473Z"
   },
   {
    "duration": 5,
    "start_time": "2022-05-10T15:53:10.481Z"
   },
   {
    "duration": 36851,
    "start_time": "2022-05-10T15:53:10.487Z"
   },
   {
    "duration": 185,
    "start_time": "2022-05-10T15:53:47.339Z"
   },
   {
    "duration": 6,
    "start_time": "2022-05-10T15:53:47.526Z"
   },
   {
    "duration": 3,
    "start_time": "2022-05-10T15:53:47.534Z"
   },
   {
    "duration": 75879,
    "start_time": "2022-05-10T15:53:47.539Z"
   },
   {
    "duration": 406,
    "start_time": "2022-05-10T15:55:03.420Z"
   },
   {
    "duration": 93,
    "start_time": "2022-05-10T15:55:03.828Z"
   },
   {
    "duration": 13,
    "start_time": "2022-05-10T15:55:03.923Z"
   },
   {
    "duration": 17,
    "start_time": "2022-05-10T15:55:03.938Z"
   },
   {
    "duration": 773981,
    "start_time": "2022-05-10T15:55:03.956Z"
   },
   {
    "duration": 1711,
    "start_time": "2022-05-10T16:07:57.939Z"
   },
   {
    "duration": 61,
    "start_time": "2022-05-10T16:07:59.652Z"
   },
   {
    "duration": 17,
    "start_time": "2022-05-10T16:07:59.716Z"
   },
   {
    "duration": 1483,
    "start_time": "2022-05-10T16:50:56.428Z"
   },
   {
    "duration": 835,
    "start_time": "2022-05-10T16:50:57.912Z"
   },
   {
    "duration": 20,
    "start_time": "2022-05-10T16:50:58.748Z"
   },
   {
    "duration": 147,
    "start_time": "2022-05-10T16:50:58.770Z"
   },
   {
    "duration": 4,
    "start_time": "2022-05-10T16:50:58.919Z"
   },
   {
    "duration": 56,
    "start_time": "2022-05-10T16:50:58.925Z"
   },
   {
    "duration": 149,
    "start_time": "2022-05-10T16:50:58.983Z"
   },
   {
    "duration": 144,
    "start_time": "2022-05-10T16:50:59.133Z"
   },
   {
    "duration": 130,
    "start_time": "2022-05-10T16:50:59.278Z"
   },
   {
    "duration": 24,
    "start_time": "2022-05-10T16:50:59.411Z"
   },
   {
    "duration": 2377,
    "start_time": "2022-05-10T16:50:59.436Z"
   },
   {
    "duration": 128,
    "start_time": "2022-05-10T16:51:01.814Z"
   },
   {
    "duration": 15,
    "start_time": "2022-05-10T16:51:01.944Z"
   },
   {
    "duration": 423,
    "start_time": "2022-05-10T16:51:01.961Z"
   },
   {
    "duration": 482,
    "start_time": "2022-05-10T16:51:02.386Z"
   },
   {
    "duration": 498,
    "start_time": "2022-05-10T16:51:02.870Z"
   },
   {
    "duration": 537,
    "start_time": "2022-05-10T16:51:03.370Z"
   },
   {
    "duration": 464,
    "start_time": "2022-05-10T16:51:03.909Z"
   },
   {
    "duration": 103,
    "start_time": "2022-05-10T16:51:04.374Z"
   },
   {
    "duration": 70,
    "start_time": "2022-05-10T16:51:04.478Z"
   },
   {
    "duration": 11,
    "start_time": "2022-05-10T16:51:04.550Z"
   },
   {
    "duration": 9,
    "start_time": "2022-05-10T16:51:04.563Z"
   },
   {
    "duration": 1695,
    "start_time": "2022-05-10T16:51:04.574Z"
   },
   {
    "duration": 462,
    "start_time": "2022-05-10T16:51:06.270Z"
   },
   {
    "duration": 25,
    "start_time": "2022-05-10T16:51:06.734Z"
   },
   {
    "duration": 3,
    "start_time": "2022-05-10T16:51:06.761Z"
   },
   {
    "duration": 62,
    "start_time": "2022-05-10T16:51:06.765Z"
   },
   {
    "duration": 431,
    "start_time": "2022-05-10T16:51:06.832Z"
   },
   {
    "duration": 59,
    "start_time": "2022-05-10T16:51:07.264Z"
   },
   {
    "duration": 419,
    "start_time": "2022-05-10T16:51:07.325Z"
   },
   {
    "duration": 16,
    "start_time": "2022-05-10T16:51:07.745Z"
   },
   {
    "duration": 90,
    "start_time": "2022-05-10T16:51:07.762Z"
   },
   {
    "duration": 32,
    "start_time": "2022-05-10T16:51:07.854Z"
   },
   {
    "duration": 37,
    "start_time": "2022-05-10T16:51:07.888Z"
   },
   {
    "duration": 27,
    "start_time": "2022-05-10T16:51:07.926Z"
   },
   {
    "duration": 8,
    "start_time": "2022-05-10T16:51:07.954Z"
   },
   {
    "duration": 9,
    "start_time": "2022-05-10T16:51:07.965Z"
   },
   {
    "duration": 47,
    "start_time": "2022-05-10T16:51:08.007Z"
   },
   {
    "duration": 54,
    "start_time": "2022-05-10T16:51:08.056Z"
   },
   {
    "duration": 3,
    "start_time": "2022-05-10T16:51:08.112Z"
   },
   {
    "duration": 6,
    "start_time": "2022-05-10T16:51:08.117Z"
   },
   {
    "duration": 47,
    "start_time": "2022-05-10T16:51:08.125Z"
   },
   {
    "duration": 34,
    "start_time": "2022-05-10T16:51:08.173Z"
   },
   {
    "duration": 210,
    "start_time": "2022-05-10T16:51:08.209Z"
   },
   {
    "duration": 1446,
    "start_time": "2022-05-10T16:51:08.421Z"
   },
   {
    "duration": 13,
    "start_time": "2022-05-10T16:51:09.869Z"
   },
   {
    "duration": 225,
    "start_time": "2022-05-10T16:51:09.884Z"
   },
   {
    "duration": 254,
    "start_time": "2022-05-10T16:51:10.111Z"
   },
   {
    "duration": 621,
    "start_time": "2022-05-10T16:51:10.367Z"
   },
   {
    "duration": 4,
    "start_time": "2022-05-10T16:51:10.991Z"
   },
   {
    "duration": 13,
    "start_time": "2022-05-10T16:51:10.997Z"
   },
   {
    "duration": 5,
    "start_time": "2022-05-10T16:51:11.012Z"
   },
   {
    "duration": 6,
    "start_time": "2022-05-10T16:51:11.018Z"
   },
   {
    "duration": 48080,
    "start_time": "2022-05-10T16:51:11.026Z"
   },
   {
    "duration": 31,
    "start_time": "2022-05-10T16:51:59.107Z"
   },
   {
    "duration": 5,
    "start_time": "2022-05-10T16:51:59.140Z"
   },
   {
    "duration": 4,
    "start_time": "2022-05-10T16:51:59.147Z"
   },
   {
    "duration": 34844,
    "start_time": "2022-05-10T16:51:59.153Z"
   },
   {
    "duration": 177,
    "start_time": "2022-05-10T16:52:33.999Z"
   },
   {
    "duration": 5,
    "start_time": "2022-05-10T16:52:34.178Z"
   },
   {
    "duration": 3,
    "start_time": "2022-05-10T16:52:34.185Z"
   },
   {
    "duration": 29921,
    "start_time": "2022-05-10T16:52:34.190Z"
   },
   {
    "duration": 313,
    "start_time": "2022-05-10T16:53:04.113Z"
   },
   {
    "duration": 7,
    "start_time": "2022-05-10T16:53:04.509Z"
   },
   {
    "duration": 96,
    "start_time": "2022-05-10T16:53:04.518Z"
   },
   {
    "duration": 17,
    "start_time": "2022-05-10T16:53:04.616Z"
   },
   {
    "duration": 293376,
    "start_time": "2022-05-10T16:53:04.635Z"
   },
   {
    "duration": 1005,
    "start_time": "2022-05-10T16:57:58.013Z"
   },
   {
    "duration": 5,
    "start_time": "2022-05-10T16:57:59.019Z"
   },
   {
    "duration": 11,
    "start_time": "2022-05-10T16:57:59.026Z"
   },
   {
    "duration": 543,
    "start_time": "2022-05-10T16:57:59.038Z"
   },
   {
    "duration": 0,
    "start_time": "2022-05-10T16:57:59.582Z"
   },
   {
    "duration": 0,
    "start_time": "2022-05-10T16:57:59.584Z"
   },
   {
    "duration": 0,
    "start_time": "2022-05-10T16:57:59.585Z"
   },
   {
    "duration": 0,
    "start_time": "2022-05-10T16:57:59.586Z"
   },
   {
    "duration": 86,
    "start_time": "2022-05-10T17:02:39.291Z"
   },
   {
    "duration": 2087425,
    "start_time": "2022-05-10T17:03:57.454Z"
   },
   {
    "duration": 3,
    "start_time": "2022-05-10T17:44:05.849Z"
   },
   {
    "duration": 3117,
    "start_time": "2022-05-10T17:44:29.855Z"
   },
   {
    "duration": 71,
    "start_time": "2022-05-10T21:01:27.278Z"
   },
   {
    "duration": 1659,
    "start_time": "2022-05-11T05:05:38.503Z"
   },
   {
    "duration": 7959,
    "start_time": "2022-05-11T05:05:40.164Z"
   },
   {
    "duration": 16,
    "start_time": "2022-05-11T05:05:48.125Z"
   },
   {
    "duration": 126,
    "start_time": "2022-05-11T05:05:48.143Z"
   },
   {
    "duration": 3,
    "start_time": "2022-05-11T05:05:48.271Z"
   },
   {
    "duration": 55,
    "start_time": "2022-05-11T05:05:48.276Z"
   },
   {
    "duration": 116,
    "start_time": "2022-05-11T05:05:48.332Z"
   },
   {
    "duration": 122,
    "start_time": "2022-05-11T05:05:48.449Z"
   },
   {
    "duration": 108,
    "start_time": "2022-05-11T05:05:48.573Z"
   },
   {
    "duration": 30,
    "start_time": "2022-05-11T05:05:48.684Z"
   },
   {
    "duration": 1984,
    "start_time": "2022-05-11T05:05:48.716Z"
   },
   {
    "duration": 109,
    "start_time": "2022-05-11T05:05:50.702Z"
   },
   {
    "duration": 13,
    "start_time": "2022-05-11T05:05:50.813Z"
   },
   {
    "duration": 357,
    "start_time": "2022-05-11T05:05:50.827Z"
   },
   {
    "duration": 420,
    "start_time": "2022-05-11T05:05:51.186Z"
   },
   {
    "duration": 432,
    "start_time": "2022-05-11T05:05:51.608Z"
   },
   {
    "duration": 475,
    "start_time": "2022-05-11T05:05:52.042Z"
   },
   {
    "duration": 405,
    "start_time": "2022-05-11T05:05:52.519Z"
   },
   {
    "duration": 87,
    "start_time": "2022-05-11T05:05:52.926Z"
   },
   {
    "duration": 49,
    "start_time": "2022-05-11T05:05:53.015Z"
   },
   {
    "duration": 11,
    "start_time": "2022-05-11T05:05:53.066Z"
   },
   {
    "duration": 29,
    "start_time": "2022-05-11T05:05:53.078Z"
   },
   {
    "duration": 1362,
    "start_time": "2022-05-11T05:05:53.108Z"
   },
   {
    "duration": 367,
    "start_time": "2022-05-11T05:05:54.472Z"
   },
   {
    "duration": 24,
    "start_time": "2022-05-11T05:05:54.841Z"
   },
   {
    "duration": 3,
    "start_time": "2022-05-11T05:05:54.866Z"
   },
   {
    "duration": 57,
    "start_time": "2022-05-11T05:05:54.870Z"
   },
   {
    "duration": 361,
    "start_time": "2022-05-11T05:05:54.931Z"
   },
   {
    "duration": 54,
    "start_time": "2022-05-11T05:05:55.293Z"
   },
   {
    "duration": 329,
    "start_time": "2022-05-11T05:05:55.349Z"
   },
   {
    "duration": 11,
    "start_time": "2022-05-11T05:05:55.679Z"
   },
   {
    "duration": 72,
    "start_time": "2022-05-11T05:05:55.691Z"
   },
   {
    "duration": 40,
    "start_time": "2022-05-11T05:05:55.764Z"
   },
   {
    "duration": 22,
    "start_time": "2022-05-11T05:05:55.805Z"
   },
   {
    "duration": 24,
    "start_time": "2022-05-11T05:05:55.828Z"
   },
   {
    "duration": 7,
    "start_time": "2022-05-11T05:05:55.853Z"
   },
   {
    "duration": 6,
    "start_time": "2022-05-11T05:05:55.861Z"
   },
   {
    "duration": 64,
    "start_time": "2022-05-11T05:05:55.869Z"
   },
   {
    "duration": 39,
    "start_time": "2022-05-11T05:05:55.935Z"
   },
   {
    "duration": 2,
    "start_time": "2022-05-11T05:05:55.976Z"
   },
   {
    "duration": 14,
    "start_time": "2022-05-11T05:05:55.980Z"
   },
   {
    "duration": 52,
    "start_time": "2022-05-11T05:05:55.995Z"
   },
   {
    "duration": 9,
    "start_time": "2022-05-11T05:05:56.049Z"
   },
   {
    "duration": 168,
    "start_time": "2022-05-11T05:05:56.060Z"
   },
   {
    "duration": 1107,
    "start_time": "2022-05-11T05:05:56.230Z"
   },
   {
    "duration": 10,
    "start_time": "2022-05-11T05:05:57.339Z"
   },
   {
    "duration": 165,
    "start_time": "2022-05-11T05:05:57.350Z"
   },
   {
    "duration": 197,
    "start_time": "2022-05-11T05:05:57.517Z"
   },
   {
    "duration": 402,
    "start_time": "2022-05-11T05:05:57.715Z"
   },
   {
    "duration": 4,
    "start_time": "2022-05-11T05:05:58.118Z"
   },
   {
    "duration": 6,
    "start_time": "2022-05-11T05:05:58.123Z"
   },
   {
    "duration": 5,
    "start_time": "2022-05-11T05:05:58.131Z"
   },
   {
    "duration": 6,
    "start_time": "2022-05-11T05:05:58.137Z"
   },
   {
    "duration": 41905,
    "start_time": "2022-05-11T05:05:58.144Z"
   },
   {
    "duration": 29,
    "start_time": "2022-05-11T05:06:40.051Z"
   },
   {
    "duration": 21,
    "start_time": "2022-05-11T05:06:40.082Z"
   },
   {
    "duration": 5,
    "start_time": "2022-05-11T05:06:40.105Z"
   },
   {
    "duration": 29791,
    "start_time": "2022-05-11T05:06:40.112Z"
   },
   {
    "duration": 164,
    "start_time": "2022-05-11T05:07:09.905Z"
   },
   {
    "duration": 4,
    "start_time": "2022-05-11T05:07:10.071Z"
   },
   {
    "duration": 5,
    "start_time": "2022-05-11T05:07:10.077Z"
   },
   {
    "duration": 19924,
    "start_time": "2022-05-11T05:07:10.083Z"
   },
   {
    "duration": 393,
    "start_time": "2022-05-11T05:07:30.009Z"
   },
   {
    "duration": 96,
    "start_time": "2022-05-11T05:07:30.405Z"
   },
   {
    "duration": 12,
    "start_time": "2022-05-11T05:07:30.503Z"
   },
   {
    "duration": 31,
    "start_time": "2022-05-11T05:07:30.517Z"
   },
   {
    "duration": 6459,
    "start_time": "2022-05-11T05:07:30.550Z"
   },
   {
    "duration": 896,
    "start_time": "2022-05-11T05:07:37.011Z"
   },
   {
    "duration": 4,
    "start_time": "2022-05-11T05:07:37.909Z"
   },
   {
    "duration": 13,
    "start_time": "2022-05-11T05:07:37.914Z"
   },
   {
    "duration": 1861247,
    "start_time": "2022-05-11T05:07:37.929Z"
   },
   {
    "duration": 3,
    "start_time": "2022-05-11T05:38:39.177Z"
   },
   {
    "duration": 2838,
    "start_time": "2022-05-11T05:38:39.181Z"
   },
   {
    "duration": 168,
    "start_time": "2022-05-11T05:38:42.020Z"
   },
   {
    "duration": 9,
    "start_time": "2022-05-11T05:38:42.190Z"
   },
   {
    "duration": 4,
    "start_time": "2022-05-11T05:57:18.232Z"
   },
   {
    "duration": 323528,
    "start_time": "2022-05-11T05:59:44.830Z"
   },
   {
    "duration": 3,
    "start_time": "2022-05-11T06:05:08.361Z"
   },
   {
    "duration": 67153,
    "start_time": "2022-05-11T06:05:11.774Z"
   },
   {
    "duration": 2704,
    "start_time": "2022-05-11T06:07:42.537Z"
   },
   {
    "duration": 385,
    "start_time": "2022-05-11T06:07:52.252Z"
   },
   {
    "duration": 392,
    "start_time": "2022-05-11T06:10:31.757Z"
   },
   {
    "duration": 4,
    "start_time": "2022-05-11T06:12:03.895Z"
   },
   {
    "duration": 9,
    "start_time": "2022-05-11T06:12:14.230Z"
   },
   {
    "duration": 3,
    "start_time": "2022-05-11T06:12:27.577Z"
   },
   {
    "duration": 9,
    "start_time": "2022-05-11T06:12:35.729Z"
   },
   {
    "duration": 2133,
    "start_time": "2022-05-11T12:12:46.088Z"
   },
   {
    "duration": 904,
    "start_time": "2022-05-11T12:12:48.223Z"
   },
   {
    "duration": 26,
    "start_time": "2022-05-11T12:12:49.129Z"
   },
   {
    "duration": 147,
    "start_time": "2022-05-11T12:12:49.157Z"
   },
   {
    "duration": 5,
    "start_time": "2022-05-11T12:12:49.305Z"
   },
   {
    "duration": 76,
    "start_time": "2022-05-11T12:12:49.312Z"
   },
   {
    "duration": 253,
    "start_time": "2022-05-11T12:12:49.390Z"
   },
   {
    "duration": 235,
    "start_time": "2022-05-11T12:12:49.654Z"
   },
   {
    "duration": 173,
    "start_time": "2022-05-11T12:12:49.891Z"
   },
   {
    "duration": 27,
    "start_time": "2022-05-11T12:12:50.067Z"
   },
   {
    "duration": 2642,
    "start_time": "2022-05-11T12:12:50.096Z"
   },
   {
    "duration": 134,
    "start_time": "2022-05-11T12:12:52.739Z"
   },
   {
    "duration": 16,
    "start_time": "2022-05-11T12:12:52.874Z"
   },
   {
    "duration": 436,
    "start_time": "2022-05-11T12:12:52.891Z"
   },
   {
    "duration": 552,
    "start_time": "2022-05-11T12:12:53.329Z"
   },
   {
    "duration": 640,
    "start_time": "2022-05-11T12:12:53.882Z"
   },
   {
    "duration": 578,
    "start_time": "2022-05-11T12:12:54.523Z"
   },
   {
    "duration": 512,
    "start_time": "2022-05-11T12:12:55.103Z"
   },
   {
    "duration": 109,
    "start_time": "2022-05-11T12:12:55.616Z"
   },
   {
    "duration": 73,
    "start_time": "2022-05-11T12:12:55.727Z"
   },
   {
    "duration": 12,
    "start_time": "2022-05-11T12:12:55.802Z"
   },
   {
    "duration": 14,
    "start_time": "2022-05-11T12:12:55.816Z"
   },
   {
    "duration": 2135,
    "start_time": "2022-05-11T12:12:55.832Z"
   },
   {
    "duration": 470,
    "start_time": "2022-05-11T12:12:57.969Z"
   },
   {
    "duration": 40,
    "start_time": "2022-05-11T12:12:58.441Z"
   },
   {
    "duration": 2,
    "start_time": "2022-05-11T12:12:58.483Z"
   },
   {
    "duration": 49,
    "start_time": "2022-05-11T12:12:58.487Z"
   },
   {
    "duration": 434,
    "start_time": "2022-05-11T12:12:58.554Z"
   },
   {
    "duration": 72,
    "start_time": "2022-05-11T12:12:58.990Z"
   },
   {
    "duration": 451,
    "start_time": "2022-05-11T12:12:59.064Z"
   },
   {
    "duration": 13,
    "start_time": "2022-05-11T12:12:59.516Z"
   },
   {
    "duration": 89,
    "start_time": "2022-05-11T12:12:59.531Z"
   },
   {
    "duration": 40,
    "start_time": "2022-05-11T12:12:59.622Z"
   },
   {
    "duration": 24,
    "start_time": "2022-05-11T12:12:59.664Z"
   },
   {
    "duration": 30,
    "start_time": "2022-05-11T12:12:59.690Z"
   },
   {
    "duration": 36,
    "start_time": "2022-05-11T12:12:59.722Z"
   },
   {
    "duration": 9,
    "start_time": "2022-05-11T12:12:59.760Z"
   },
   {
    "duration": 61,
    "start_time": "2022-05-11T12:12:59.771Z"
   },
   {
    "duration": 72,
    "start_time": "2022-05-11T12:12:59.835Z"
   },
   {
    "duration": 4,
    "start_time": "2022-05-11T12:12:59.909Z"
   },
   {
    "duration": 12,
    "start_time": "2022-05-11T12:12:59.915Z"
   },
   {
    "duration": 64,
    "start_time": "2022-05-11T12:12:59.929Z"
   },
   {
    "duration": 17,
    "start_time": "2022-05-11T12:12:59.995Z"
   },
   {
    "duration": 309,
    "start_time": "2022-05-11T12:13:00.014Z"
   },
   {
    "duration": 1851,
    "start_time": "2022-05-11T12:13:00.325Z"
   },
   {
    "duration": 14,
    "start_time": "2022-05-11T12:13:02.179Z"
   },
   {
    "duration": 270,
    "start_time": "2022-05-11T12:13:02.195Z"
   },
   {
    "duration": 230,
    "start_time": "2022-05-11T12:13:02.467Z"
   },
   {
    "duration": 689,
    "start_time": "2022-05-11T12:13:02.699Z"
   },
   {
    "duration": 4,
    "start_time": "2022-05-11T12:13:03.390Z"
   },
   {
    "duration": 27,
    "start_time": "2022-05-11T12:13:03.396Z"
   },
   {
    "duration": 20,
    "start_time": "2022-05-11T12:13:03.425Z"
   },
   {
    "duration": 6,
    "start_time": "2022-05-11T12:13:03.447Z"
   },
   {
    "duration": 21,
    "start_time": "2022-05-11T12:13:13.677Z"
   },
   {
    "duration": 2017,
    "start_time": "2022-05-11T12:20:05.327Z"
   },
   {
    "duration": 888,
    "start_time": "2022-05-11T12:20:07.346Z"
   },
   {
    "duration": 27,
    "start_time": "2022-05-11T12:20:08.236Z"
   },
   {
    "duration": 234,
    "start_time": "2022-05-11T12:20:08.266Z"
   },
   {
    "duration": 5,
    "start_time": "2022-05-11T12:20:08.502Z"
   },
   {
    "duration": 75,
    "start_time": "2022-05-11T12:20:08.509Z"
   },
   {
    "duration": 138,
    "start_time": "2022-05-11T12:20:08.586Z"
   },
   {
    "duration": 145,
    "start_time": "2022-05-11T12:20:08.727Z"
   },
   {
    "duration": 135,
    "start_time": "2022-05-11T12:20:08.874Z"
   },
   {
    "duration": 26,
    "start_time": "2022-05-11T12:20:09.013Z"
   },
   {
    "duration": 2457,
    "start_time": "2022-05-11T12:20:09.055Z"
   },
   {
    "duration": 151,
    "start_time": "2022-05-11T12:20:11.517Z"
   },
   {
    "duration": 16,
    "start_time": "2022-05-11T12:20:11.670Z"
   },
   {
    "duration": 437,
    "start_time": "2022-05-11T12:20:11.688Z"
   },
   {
    "duration": 571,
    "start_time": "2022-05-11T12:20:12.127Z"
   },
   {
    "duration": 572,
    "start_time": "2022-05-11T12:20:12.700Z"
   },
   {
    "duration": 620,
    "start_time": "2022-05-11T12:20:13.274Z"
   },
   {
    "duration": 527,
    "start_time": "2022-05-11T12:20:13.896Z"
   },
   {
    "duration": 113,
    "start_time": "2022-05-11T12:20:14.426Z"
   },
   {
    "duration": 67,
    "start_time": "2022-05-11T12:20:14.541Z"
   },
   {
    "duration": 12,
    "start_time": "2022-05-11T12:20:14.610Z"
   },
   {
    "duration": 15,
    "start_time": "2022-05-11T12:20:14.624Z"
   },
   {
    "duration": 1925,
    "start_time": "2022-05-11T12:20:14.641Z"
   },
   {
    "duration": 463,
    "start_time": "2022-05-11T12:20:16.568Z"
   },
   {
    "duration": 38,
    "start_time": "2022-05-11T12:20:17.033Z"
   },
   {
    "duration": 3,
    "start_time": "2022-05-11T12:20:17.073Z"
   },
   {
    "duration": 53,
    "start_time": "2022-05-11T12:20:17.077Z"
   },
   {
    "duration": 451,
    "start_time": "2022-05-11T12:20:17.135Z"
   },
   {
    "duration": 74,
    "start_time": "2022-05-11T12:20:17.588Z"
   },
   {
    "duration": 440,
    "start_time": "2022-05-11T12:20:17.664Z"
   },
   {
    "duration": 16,
    "start_time": "2022-05-11T12:20:18.107Z"
   },
   {
    "duration": 145,
    "start_time": "2022-05-11T12:20:18.125Z"
   },
   {
    "duration": 41,
    "start_time": "2022-05-11T12:20:18.272Z"
   },
   {
    "duration": 41,
    "start_time": "2022-05-11T12:20:18.316Z"
   },
   {
    "duration": 38,
    "start_time": "2022-05-11T12:20:18.359Z"
   },
   {
    "duration": 11,
    "start_time": "2022-05-11T12:20:18.399Z"
   },
   {
    "duration": 6,
    "start_time": "2022-05-11T12:20:18.412Z"
   },
   {
    "duration": 73,
    "start_time": "2022-05-11T12:20:18.420Z"
   },
   {
    "duration": 49,
    "start_time": "2022-05-11T12:20:18.495Z"
   },
   {
    "duration": 3,
    "start_time": "2022-05-11T12:20:18.554Z"
   },
   {
    "duration": 9,
    "start_time": "2022-05-11T12:20:18.559Z"
   },
   {
    "duration": 50,
    "start_time": "2022-05-11T12:20:18.569Z"
   },
   {
    "duration": 12,
    "start_time": "2022-05-11T12:20:18.621Z"
   },
   {
    "duration": 200,
    "start_time": "2022-05-11T12:20:18.655Z"
   },
   {
    "duration": 1594,
    "start_time": "2022-05-11T12:20:18.857Z"
   },
   {
    "duration": 12,
    "start_time": "2022-05-11T12:20:20.455Z"
   },
   {
    "duration": 210,
    "start_time": "2022-05-11T12:20:20.469Z"
   },
   {
    "duration": 218,
    "start_time": "2022-05-11T12:20:20.681Z"
   },
   {
    "duration": 486,
    "start_time": "2022-05-11T12:20:20.901Z"
   },
   {
    "duration": 4,
    "start_time": "2022-05-11T12:20:21.389Z"
   },
   {
    "duration": 6,
    "start_time": "2022-05-11T12:20:21.395Z"
   },
   {
    "duration": 5,
    "start_time": "2022-05-11T12:20:21.403Z"
   },
   {
    "duration": 6,
    "start_time": "2022-05-11T12:20:21.409Z"
   },
   {
    "duration": 50928,
    "start_time": "2022-05-11T12:20:21.416Z"
   },
   {
    "duration": 37,
    "start_time": "2022-05-11T12:21:12.345Z"
   },
   {
    "duration": 5,
    "start_time": "2022-05-11T12:21:12.384Z"
   },
   {
    "duration": 860,
    "start_time": "2022-05-11T12:24:45.091Z"
   },
   {
    "duration": 138,
    "start_time": "2022-05-11T12:25:19.422Z"
   },
   {
    "duration": 4,
    "start_time": "2022-05-11T12:25:28.254Z"
   },
   {
    "duration": 52483,
    "start_time": "2022-05-11T12:25:30.983Z"
   },
   {
    "duration": 31,
    "start_time": "2022-05-11T12:26:54.345Z"
   },
   {
    "duration": 5,
    "start_time": "2022-05-11T12:26:57.120Z"
   },
   {
    "duration": 16,
    "start_time": "2022-05-11T12:30:25.500Z"
   },
   {
    "duration": 5,
    "start_time": "2022-05-11T12:32:47.054Z"
   },
   {
    "duration": 16,
    "start_time": "2022-05-11T12:34:16.285Z"
   },
   {
    "duration": 74,
    "start_time": "2022-05-11T18:14:48.605Z"
   },
   {
    "duration": 2789,
    "start_time": "2022-05-11T18:15:36.004Z"
   },
   {
    "duration": 6331,
    "start_time": "2022-05-11T18:15:38.797Z"
   },
   {
    "duration": 30,
    "start_time": "2022-05-11T18:15:45.130Z"
   },
   {
    "duration": 188,
    "start_time": "2022-05-11T18:15:45.163Z"
   },
   {
    "duration": 6,
    "start_time": "2022-05-11T18:15:45.353Z"
   },
   {
    "duration": 76,
    "start_time": "2022-05-11T18:15:45.361Z"
   },
   {
    "duration": 173,
    "start_time": "2022-05-11T18:15:45.440Z"
   },
   {
    "duration": 193,
    "start_time": "2022-05-11T18:15:45.615Z"
   },
   {
    "duration": 166,
    "start_time": "2022-05-11T18:15:45.811Z"
   },
   {
    "duration": 45,
    "start_time": "2022-05-11T18:15:45.981Z"
   },
   {
    "duration": 5543,
    "start_time": "2022-05-11T18:15:46.028Z"
   },
   {
    "duration": 326,
    "start_time": "2022-05-11T18:15:51.575Z"
   },
   {
    "duration": 51,
    "start_time": "2022-05-11T18:15:51.905Z"
   },
   {
    "duration": 623,
    "start_time": "2022-05-11T18:15:51.960Z"
   },
   {
    "duration": 1112,
    "start_time": "2022-05-11T18:15:52.586Z"
   },
   {
    "duration": 1169,
    "start_time": "2022-05-11T18:15:53.701Z"
   },
   {
    "duration": 1214,
    "start_time": "2022-05-11T18:15:54.874Z"
   },
   {
    "duration": 1220,
    "start_time": "2022-05-11T18:15:56.092Z"
   },
   {
    "duration": 191,
    "start_time": "2022-05-11T18:15:57.316Z"
   },
   {
    "duration": 105,
    "start_time": "2022-05-11T18:15:57.510Z"
   },
   {
    "duration": 22,
    "start_time": "2022-05-11T18:15:57.618Z"
   },
   {
    "duration": 38,
    "start_time": "2022-05-11T18:15:57.643Z"
   },
   {
    "duration": 2322,
    "start_time": "2022-05-11T18:15:57.684Z"
   },
   {
    "duration": 1048,
    "start_time": "2022-05-11T18:16:00.010Z"
   },
   {
    "duration": 45,
    "start_time": "2022-05-11T18:16:01.062Z"
   },
   {
    "duration": 4,
    "start_time": "2022-05-11T18:16:01.126Z"
   },
   {
    "duration": 79,
    "start_time": "2022-05-11T18:16:01.133Z"
   },
   {
    "duration": 900,
    "start_time": "2022-05-11T18:16:01.225Z"
   },
   {
    "duration": 100,
    "start_time": "2022-05-11T18:16:02.128Z"
   },
   {
    "duration": 595,
    "start_time": "2022-05-11T18:16:02.231Z"
   },
   {
    "duration": 18,
    "start_time": "2022-05-11T18:16:02.830Z"
   },
   {
    "duration": 149,
    "start_time": "2022-05-11T18:16:02.851Z"
   },
   {
    "duration": 56,
    "start_time": "2022-05-11T18:16:03.002Z"
   },
   {
    "duration": 25,
    "start_time": "2022-05-11T18:16:03.061Z"
   },
   {
    "duration": 59,
    "start_time": "2022-05-11T18:16:03.088Z"
   },
   {
    "duration": 12,
    "start_time": "2022-05-11T18:16:03.150Z"
   },
   {
    "duration": 27,
    "start_time": "2022-05-11T18:16:03.165Z"
   },
   {
    "duration": 83,
    "start_time": "2022-05-11T18:16:03.195Z"
   },
   {
    "duration": 127,
    "start_time": "2022-05-11T18:16:03.280Z"
   },
   {
    "duration": 4,
    "start_time": "2022-05-11T18:16:03.410Z"
   },
   {
    "duration": 32,
    "start_time": "2022-05-11T18:16:03.416Z"
   },
   {
    "duration": 76,
    "start_time": "2022-05-11T18:16:03.451Z"
   },
   {
    "duration": 17,
    "start_time": "2022-05-11T18:16:03.529Z"
   },
   {
    "duration": 3201,
    "start_time": "2022-05-11T18:16:03.548Z"
   },
   {
    "duration": 26,
    "start_time": "2022-05-11T18:16:06.751Z"
   },
   {
    "duration": 22,
    "start_time": "2022-05-11T18:16:06.779Z"
   },
   {
    "duration": 277,
    "start_time": "2022-05-11T18:16:06.825Z"
   },
   {
    "duration": 528,
    "start_time": "2022-05-11T18:16:07.105Z"
   },
   {
    "duration": 1220,
    "start_time": "2022-05-11T18:16:07.636Z"
   },
   {
    "duration": 6,
    "start_time": "2022-05-11T18:16:08.858Z"
   },
   {
    "duration": 9,
    "start_time": "2022-05-11T18:16:08.867Z"
   },
   {
    "duration": 10,
    "start_time": "2022-05-11T18:16:08.878Z"
   },
   {
    "duration": 36,
    "start_time": "2022-05-11T18:16:08.891Z"
   },
   {
    "duration": 836844,
    "start_time": "2022-05-11T18:16:08.929Z"
   },
   {
    "duration": 214,
    "start_time": "2022-05-11T18:30:05.775Z"
   },
   {
    "duration": 6,
    "start_time": "2022-05-11T18:30:05.991Z"
   },
   {
    "duration": 26,
    "start_time": "2022-05-11T18:30:05.999Z"
   },
   {
    "duration": 637812,
    "start_time": "2022-05-11T18:30:06.027Z"
   },
   {
    "duration": 358,
    "start_time": "2022-05-11T18:40:43.841Z"
   },
   {
    "duration": 6,
    "start_time": "2022-05-11T18:40:44.201Z"
   },
   {
    "duration": 4,
    "start_time": "2022-05-11T18:40:44.225Z"
   },
   {
    "duration": 32106,
    "start_time": "2022-05-11T18:40:44.232Z"
   },
   {
    "duration": 485,
    "start_time": "2022-05-11T18:41:16.340Z"
   },
   {
    "duration": 7,
    "start_time": "2022-05-11T18:41:16.828Z"
   },
   {
    "duration": 103,
    "start_time": "2022-05-11T18:41:16.837Z"
   },
   {
    "duration": 5,
    "start_time": "2022-05-11T18:41:16.942Z"
   },
   {
    "duration": 8184,
    "start_time": "2022-05-11T18:41:16.949Z"
   },
   {
    "duration": 1392,
    "start_time": "2022-05-11T18:41:25.135Z"
   },
   {
    "duration": 6,
    "start_time": "2022-05-11T18:41:26.530Z"
   },
   {
    "duration": 30,
    "start_time": "2022-05-11T18:41:26.539Z"
   },
   {
    "duration": 828706,
    "start_time": "2022-05-11T18:41:26.572Z"
   },
   {
    "duration": 4,
    "start_time": "2022-05-11T18:55:15.280Z"
   },
   {
    "duration": 183732,
    "start_time": "2022-05-11T18:55:15.286Z"
   },
   {
    "duration": 591,
    "start_time": "2022-05-11T18:58:19.023Z"
   },
   {
    "duration": 13,
    "start_time": "2022-05-11T18:58:19.617Z"
   },
   {
    "duration": 17,
    "start_time": "2022-05-11T18:58:19.633Z"
   },
   {
    "duration": 5,
    "start_time": "2022-05-11T18:59:41.058Z"
   },
   {
    "duration": 16,
    "start_time": "2022-05-11T19:00:07.966Z"
   }
  ],
  "kernelspec": {
   "display_name": "Python 3 (ipykernel)",
   "language": "python",
   "name": "python3"
  },
  "language_info": {
   "codemirror_mode": {
    "name": "ipython",
    "version": 3
   },
   "file_extension": ".py",
   "mimetype": "text/x-python",
   "name": "python",
   "nbconvert_exporter": "python",
   "pygments_lexer": "ipython3",
   "version": "3.9.7"
  },
  "toc": {
   "base_numbering": 1,
   "nav_menu": {},
   "number_sections": true,
   "sideBar": true,
   "skip_h1_title": true,
   "title_cell": "Table of Contents",
   "title_sidebar": "Contents",
   "toc_cell": false,
   "toc_position": {
    "height": "calc(100% - 180px)",
    "left": "10px",
    "top": "150px",
    "width": "165px"
   },
   "toc_section_display": true,
   "toc_window_display": true
  }
 },
 "nbformat": 4,
 "nbformat_minor": 2
}
